{
 "cells": [
  {
   "cell_type": "markdown",
   "metadata": {},
   "source": [
    "# Выбор локации для скважины"
   ]
  },
  {
   "cell_type": "markdown",
   "metadata": {},
   "source": [
    "Допустим, вы работаете в добывающей компании «ГлавРосГосНефть». Нужно решить, где бурить новую скважину.\n",
    "\n",
    "Вам предоставлены пробы нефти в трёх регионах: в каждом 10 000 месторождений, где измерили качество нефти и объём её запасов. Постройте модель машинного обучения, которая поможет определить регион, где добыча принесёт наибольшую прибыль. Проанализируйте возможную прибыль и риски техникой *Bootstrap.*\n",
    "\n",
    "Шаги для выбора локации:\n",
    "\n",
    "- В избранном регионе ищут месторождения, для каждого определяют значения признаков;\n",
    "- Строят модель и оценивают объём запасов;\n",
    "- Выбирают месторождения с самым высокими оценками значений. Количество месторождений зависит от бюджета компании и стоимости разработки одной скважины;\n",
    "- Прибыль равна суммарной прибыли отобранных месторождений."
   ]
  },
  {
   "cell_type": "markdown",
   "metadata": {
    "toc": true
   },
   "source": [
    "<h1>Table of Contents<span class=\"tocSkip\"></span></h1>\n",
    "<div class=\"toc\"><ul class=\"toc-item\"><li><span><a href=\"#Загрузка-и-подготовка-данных\" data-toc-modified-id=\"Загрузка-и-подготовка-данных-1\"><span class=\"toc-item-num\">1&nbsp;&nbsp;</span>Загрузка и подготовка данных</a></span></li><li><span><a href=\"#Обучение-и-проверка-модели\" data-toc-modified-id=\"Обучение-и-проверка-модели-2\"><span class=\"toc-item-num\">2&nbsp;&nbsp;</span>Обучение и проверка модели</a></span><ul class=\"toc-item\"><li><span><a href=\"#Разделение-датасета-на-выборки\" data-toc-modified-id=\"Разделение-датасета-на-выборки-2.1\"><span class=\"toc-item-num\">2.1&nbsp;&nbsp;</span>Разделение датасета на выборки</a></span></li><li><span><a href=\"#Обучение-модели\" data-toc-modified-id=\"Обучение-модели-2.2\"><span class=\"toc-item-num\">2.2&nbsp;&nbsp;</span>Обучение модели</a></span></li><li><span><a href=\"#Среднее-значение-предсказанного-сырья-и-RMSE\" data-toc-modified-id=\"Среднее-значение-предсказанного-сырья-и-RMSE-2.3\"><span class=\"toc-item-num\">2.3&nbsp;&nbsp;</span>Среднее значение предсказанного сырья и RMSE</a></span></li></ul></li><li><span><a href=\"#Подготовка-к-расчёту-прибыли\" data-toc-modified-id=\"Подготовка-к-расчёту-прибыли-3\"><span class=\"toc-item-num\">3&nbsp;&nbsp;</span>Подготовка к расчёту прибыли</a></span></li><li><span><a href=\"#Расчёт-прибыли-и-рисков\" data-toc-modified-id=\"Расчёт-прибыли-и-рисков-4\"><span class=\"toc-item-num\">4&nbsp;&nbsp;</span>Расчёт прибыли и рисков</a></span><ul class=\"toc-item\"><li><span><a href=\"#Расчёт-прибыли\" data-toc-modified-id=\"Расчёт-прибыли-4.1\"><span class=\"toc-item-num\">4.1&nbsp;&nbsp;</span>Расчёт прибыли</a></span></li><li><span><a href=\"#Расчёт-рисков\" data-toc-modified-id=\"Расчёт-рисков-4.2\"><span class=\"toc-item-num\">4.2&nbsp;&nbsp;</span>Расчёт рисков</a></span></li></ul></li><li><span><a href=\"#Выводы\" data-toc-modified-id=\"Выводы-5\"><span class=\"toc-item-num\">5&nbsp;&nbsp;</span>Выводы</a></span></li><li><span><a href=\"#Чек-лист-готовности-проекта\" data-toc-modified-id=\"Чек-лист-готовности-проекта-6\"><span class=\"toc-item-num\">6&nbsp;&nbsp;</span>Чек-лист готовности проекта</a></span></li></ul></div>"
   ]
  },
  {
   "cell_type": "markdown",
   "metadata": {},
   "source": [
    "## Загрузка и подготовка данных"
   ]
  },
  {
   "cell_type": "code",
   "execution_count": 1,
   "metadata": {},
   "outputs": [],
   "source": [
    "import pandas as pd\n",
    "from sklearn.model_selection import train_test_split\n",
    "from sklearn.linear_model import LinearRegression\n",
    "from sklearn.metrics import mean_squared_error\n",
    "import numpy as np\n",
    "from scipy import stats as st\n",
    "from scipy import stats as t"
   ]
  },
  {
   "cell_type": "markdown",
   "metadata": {},
   "source": [
    "Загрузим данные из 3 регионов и посмотрим на таблицы"
   ]
  },
  {
   "cell_type": "code",
   "execution_count": 2,
   "metadata": {},
   "outputs": [
    {
     "name": "stdout",
     "output_type": "stream",
     "text": [
      "<class 'pandas.core.frame.DataFrame'>\n",
      "RangeIndex: 100000 entries, 0 to 99999\n",
      "Data columns (total 5 columns):\n",
      "id         100000 non-null object\n",
      "f0         100000 non-null float64\n",
      "f1         100000 non-null float64\n",
      "f2         100000 non-null float64\n",
      "product    100000 non-null float64\n",
      "dtypes: float64(4), object(1)\n",
      "memory usage: 3.8+ MB\n"
     ]
    }
   ],
   "source": [
    "df1 = pd.read_csv('/datasets/geo_data_0.csv')\n",
    "df1\n",
    "df1.info()"
   ]
  },
  {
   "cell_type": "code",
   "execution_count": 3,
   "metadata": {},
   "outputs": [
    {
     "data": {
      "text/html": [
       "<div>\n",
       "<style scoped>\n",
       "    .dataframe tbody tr th:only-of-type {\n",
       "        vertical-align: middle;\n",
       "    }\n",
       "\n",
       "    .dataframe tbody tr th {\n",
       "        vertical-align: top;\n",
       "    }\n",
       "\n",
       "    .dataframe thead th {\n",
       "        text-align: right;\n",
       "    }\n",
       "</style>\n",
       "<table border=\"1\" class=\"dataframe\">\n",
       "  <thead>\n",
       "    <tr style=\"text-align: right;\">\n",
       "      <th></th>\n",
       "      <th>id</th>\n",
       "      <th>f0</th>\n",
       "      <th>f1</th>\n",
       "      <th>f2</th>\n",
       "      <th>product</th>\n",
       "    </tr>\n",
       "  </thead>\n",
       "  <tbody>\n",
       "    <tr>\n",
       "      <td>0</td>\n",
       "      <td>kBEdx</td>\n",
       "      <td>-15.001348</td>\n",
       "      <td>-8.276000</td>\n",
       "      <td>-0.005876</td>\n",
       "      <td>3.179103</td>\n",
       "    </tr>\n",
       "    <tr>\n",
       "      <td>1</td>\n",
       "      <td>62mP7</td>\n",
       "      <td>14.272088</td>\n",
       "      <td>-3.475083</td>\n",
       "      <td>0.999183</td>\n",
       "      <td>26.953261</td>\n",
       "    </tr>\n",
       "    <tr>\n",
       "      <td>2</td>\n",
       "      <td>vyE1P</td>\n",
       "      <td>6.263187</td>\n",
       "      <td>-5.948386</td>\n",
       "      <td>5.001160</td>\n",
       "      <td>134.766305</td>\n",
       "    </tr>\n",
       "    <tr>\n",
       "      <td>3</td>\n",
       "      <td>KcrkZ</td>\n",
       "      <td>-13.081196</td>\n",
       "      <td>-11.506057</td>\n",
       "      <td>4.999415</td>\n",
       "      <td>137.945408</td>\n",
       "    </tr>\n",
       "    <tr>\n",
       "      <td>4</td>\n",
       "      <td>AHL4O</td>\n",
       "      <td>12.702195</td>\n",
       "      <td>-8.147433</td>\n",
       "      <td>5.004363</td>\n",
       "      <td>134.766305</td>\n",
       "    </tr>\n",
       "  </tbody>\n",
       "</table>\n",
       "</div>"
      ],
      "text/plain": [
       "      id         f0         f1        f2     product\n",
       "0  kBEdx -15.001348  -8.276000 -0.005876    3.179103\n",
       "1  62mP7  14.272088  -3.475083  0.999183   26.953261\n",
       "2  vyE1P   6.263187  -5.948386  5.001160  134.766305\n",
       "3  KcrkZ -13.081196 -11.506057  4.999415  137.945408\n",
       "4  AHL4O  12.702195  -8.147433  5.004363  134.766305"
      ]
     },
     "execution_count": 3,
     "metadata": {},
     "output_type": "execute_result"
    }
   ],
   "source": [
    "df2 = pd.read_csv('/datasets/geo_data_1.csv')\n",
    "df2.head()"
   ]
  },
  {
   "cell_type": "code",
   "execution_count": 4,
   "metadata": {},
   "outputs": [
    {
     "data": {
      "text/html": [
       "<div>\n",
       "<style scoped>\n",
       "    .dataframe tbody tr th:only-of-type {\n",
       "        vertical-align: middle;\n",
       "    }\n",
       "\n",
       "    .dataframe tbody tr th {\n",
       "        vertical-align: top;\n",
       "    }\n",
       "\n",
       "    .dataframe thead th {\n",
       "        text-align: right;\n",
       "    }\n",
       "</style>\n",
       "<table border=\"1\" class=\"dataframe\">\n",
       "  <thead>\n",
       "    <tr style=\"text-align: right;\">\n",
       "      <th></th>\n",
       "      <th>id</th>\n",
       "      <th>f0</th>\n",
       "      <th>f1</th>\n",
       "      <th>f2</th>\n",
       "      <th>product</th>\n",
       "    </tr>\n",
       "  </thead>\n",
       "  <tbody>\n",
       "    <tr>\n",
       "      <td>54099</td>\n",
       "      <td>kZZcS</td>\n",
       "      <td>-0.928131</td>\n",
       "      <td>1.745928</td>\n",
       "      <td>1.852076</td>\n",
       "      <td>76.577655</td>\n",
       "    </tr>\n",
       "    <tr>\n",
       "      <td>64384</td>\n",
       "      <td>QyUlr</td>\n",
       "      <td>1.449800</td>\n",
       "      <td>0.586734</td>\n",
       "      <td>-1.586481</td>\n",
       "      <td>136.898973</td>\n",
       "    </tr>\n",
       "    <tr>\n",
       "      <td>89875</td>\n",
       "      <td>OYzhY</td>\n",
       "      <td>-0.687797</td>\n",
       "      <td>0.066099</td>\n",
       "      <td>2.484086</td>\n",
       "      <td>56.886069</td>\n",
       "    </tr>\n",
       "    <tr>\n",
       "      <td>11894</td>\n",
       "      <td>t1Z2P</td>\n",
       "      <td>-2.081308</td>\n",
       "      <td>1.177517</td>\n",
       "      <td>-0.282183</td>\n",
       "      <td>105.026948</td>\n",
       "    </tr>\n",
       "    <tr>\n",
       "      <td>23965</td>\n",
       "      <td>DKKb1</td>\n",
       "      <td>-1.709942</td>\n",
       "      <td>-2.502277</td>\n",
       "      <td>0.327630</td>\n",
       "      <td>63.739212</td>\n",
       "    </tr>\n",
       "  </tbody>\n",
       "</table>\n",
       "</div>"
      ],
      "text/plain": [
       "          id        f0        f1        f2     product\n",
       "54099  kZZcS -0.928131  1.745928  1.852076   76.577655\n",
       "64384  QyUlr  1.449800  0.586734 -1.586481  136.898973\n",
       "89875  OYzhY -0.687797  0.066099  2.484086   56.886069\n",
       "11894  t1Z2P -2.081308  1.177517 -0.282183  105.026948\n",
       "23965  DKKb1 -1.709942 -2.502277  0.327630   63.739212"
      ]
     },
     "execution_count": 4,
     "metadata": {},
     "output_type": "execute_result"
    }
   ],
   "source": [
    "df3 = pd.read_csv('/datasets/geo_data_2.csv')\n",
    "df3.sample(5)"
   ]
  },
  {
   "cell_type": "markdown",
   "metadata": {},
   "source": [
    "Подготовим данные с признаками и целевым признаком для всех таблиц."
   ]
  },
  {
   "cell_type": "code",
   "execution_count": 5,
   "metadata": {},
   "outputs": [],
   "source": [
    "target1 = df1['product']\n",
    "features1 = df1.drop(['id', 'product'], axis=1)"
   ]
  },
  {
   "cell_type": "code",
   "execution_count": 6,
   "metadata": {},
   "outputs": [],
   "source": [
    "target2 = df2['product']\n",
    "features2 = df2.drop(['id', 'product'], axis=1)"
   ]
  },
  {
   "cell_type": "code",
   "execution_count": 7,
   "metadata": {},
   "outputs": [],
   "source": [
    "target3 = df3['product']\n",
    "features3 = df3.drop(['id', 'product'], axis=1)"
   ]
  },
  {
   "cell_type": "markdown",
   "metadata": {},
   "source": [
    "## Обучение и проверка модели"
   ]
  },
  {
   "cell_type": "markdown",
   "metadata": {},
   "source": [
    "### Разделение датасета на выборки\n",
    "Применим к нашим датасетам функцию train_test_split(), чтоб разделить их на валидационную выборку (25%) и обучающую (75%)."
   ]
  },
  {
   "cell_type": "code",
   "execution_count": 8,
   "metadata": {},
   "outputs": [],
   "source": [
    "features_train1, features_valid1, target_train1, target_valid1 = train_test_split(features1, target1, \n",
    "                                                    test_size=0.25, \n",
    "                                                    random_state=12345)"
   ]
  },
  {
   "cell_type": "code",
   "execution_count": 9,
   "metadata": {},
   "outputs": [],
   "source": [
    "features_train2, features_valid2, target_train2, target_valid2 = train_test_split(features2, target2, \n",
    "                                                    test_size=0.25, \n",
    "                                                    random_state=12345)"
   ]
  },
  {
   "cell_type": "code",
   "execution_count": 10,
   "metadata": {},
   "outputs": [],
   "source": [
    "features_train3, features_valid3, target_train3, target_valid3 = train_test_split(features3, target3, \n",
    "                                                    test_size=0.25, \n",
    "                                                    random_state=12345)"
   ]
  },
  {
   "cell_type": "markdown",
   "metadata": {},
   "source": [
    "### Обучение модели\n",
    "Обучим модели линейной регресии на обучающей выборке и сделаем предсказание на валидационной"
   ]
  },
  {
   "cell_type": "code",
   "execution_count": 11,
   "metadata": {},
   "outputs": [],
   "source": [
    "model1 = LinearRegression().fit(features_train1, target_train1)\n",
    "predicted_valid1 = model1.predict(features_valid1)"
   ]
  },
  {
   "cell_type": "code",
   "execution_count": 12,
   "metadata": {},
   "outputs": [],
   "source": [
    "model2 = LinearRegression().fit(features_train2, target_train2)\n",
    "predicted_valid2 = model2.predict(features_valid2)"
   ]
  },
  {
   "cell_type": "code",
   "execution_count": 13,
   "metadata": {},
   "outputs": [],
   "source": [
    "model3 = LinearRegression().fit(features_train3, target_train3)\n",
    "predicted_valid3 = model3.predict(features_valid3)"
   ]
  },
  {
   "cell_type": "markdown",
   "metadata": {},
   "source": [
    "### Среднее значение предсказанного сырья и RMSE\n",
    "Посмотрим средний запас предсказанного сырья и RMSE модели"
   ]
  },
  {
   "cell_type": "code",
   "execution_count": 14,
   "metadata": {},
   "outputs": [
    {
     "name": "stdout",
     "output_type": "stream",
     "text": [
      "Средний запас сырья 1 региона (тыс. баррелей) = 92.59256778438038\n",
      "RMSE1 = 37.5794217150813\n"
     ]
    }
   ],
   "source": [
    "rmse1 = mean_squared_error(target_valid1, predicted_valid1)** 0.5\n",
    "print(\"Средний запас сырья 1 региона (тыс. баррелей) =\", predicted_valid1.mean())\n",
    "print(\"RMSE1 =\", rmse1)"
   ]
  },
  {
   "cell_type": "code",
   "execution_count": 15,
   "metadata": {},
   "outputs": [
    {
     "name": "stdout",
     "output_type": "stream",
     "text": [
      "Средний запас сырья 2 региона (тыс. баррелей) = 68.728546895446\n",
      "RMSE1 = 0.893099286775616\n"
     ]
    }
   ],
   "source": [
    "rmse2 = mean_squared_error(target_valid2, predicted_valid2)** 0.5\n",
    "print(\"Средний запас сырья 2 региона (тыс. баррелей) =\", predicted_valid2.mean())\n",
    "print(\"RMSE1 =\", rmse2)"
   ]
  },
  {
   "cell_type": "code",
   "execution_count": 16,
   "metadata": {},
   "outputs": [
    {
     "name": "stdout",
     "output_type": "stream",
     "text": [
      "Средний запас сырья 3 региона (тыс. баррелей) = 94.96504596800489\n",
      "RMSE1 = 40.02970873393434\n"
     ]
    }
   ],
   "source": [
    "rmse3 = mean_squared_error(target_valid3, predicted_valid3)** 0.5\n",
    "print(\"Средний запас сырья 3 региона (тыс. баррелей) =\", predicted_valid3.mean())\n",
    "print(\"RMSE1 =\", rmse3)"
   ]
  },
  {
   "cell_type": "markdown",
   "metadata": {},
   "source": [
    "Самый большой запас сырья предсказывает 3 модель, но у нее же и самый большой корень из среднеквадратической ошибки, самая лучшая модель по RMSE - вторая."
   ]
  },
  {
   "cell_type": "markdown",
   "metadata": {},
   "source": [
    "## Подготовка к расчёту прибыли"
   ]
  },
  {
   "cell_type": "markdown",
   "metadata": {},
   "source": [
    "Данные для подсчета прибыли"
   ]
  },
  {
   "cell_type": "code",
   "execution_count": 17,
   "metadata": {},
   "outputs": [],
   "source": [
    "BUDGET = 10000 #бюджет в миллионах рублей\n",
    "BARREL_REVENUE = 0.45 #доход с тысячи баррелей в миллионах рублей"
   ]
  },
  {
   "cell_type": "code",
   "execution_count": 18,
   "metadata": {},
   "outputs": [
    {
     "data": {
      "text/plain": [
       "111.11111111111111"
      ]
     },
     "execution_count": 18,
     "metadata": {},
     "output_type": "execute_result"
    }
   ],
   "source": [
    "VALUE_FOR_REVENUE = BUDGET / 200 / BARREL_REVENUE\n",
    "VALUE_FOR_REVENUE"
   ]
  },
  {
   "cell_type": "markdown",
   "metadata": {},
   "source": [
    "Для того, чтобы разработка новой скважины была безубыточной, необходимо добывать больше 111,1 тысячи баррелей сырья."
   ]
  },
  {
   "cell_type": "markdown",
   "metadata": {},
   "source": [
    "Посчитаем разницу среднего запаса сырья по всем скважинам региона и необходимого объема для безубыточной работы."
   ]
  },
  {
   "cell_type": "code",
   "execution_count": 19,
   "metadata": {},
   "outputs": [
    {
     "data": {
      "text/plain": [
       "-18.6111111111111"
      ]
     },
     "execution_count": 19,
     "metadata": {},
     "output_type": "execute_result"
    }
   ],
   "source": [
    "mean_value1 = df1['product'].mean()\n",
    "(mean_value1 - VALUE_FOR_REVENUE)"
   ]
  },
  {
   "cell_type": "code",
   "execution_count": 20,
   "metadata": {},
   "outputs": [
    {
     "data": {
      "text/plain": [
       "-42.2861111111111"
      ]
     },
     "execution_count": 20,
     "metadata": {},
     "output_type": "execute_result"
    }
   ],
   "source": [
    "mean_value2 = df2['product'].mean()\n",
    "(mean_value2 - VALUE_FOR_REVENUE)"
   ]
  },
  {
   "cell_type": "code",
   "execution_count": 21,
   "metadata": {},
   "outputs": [
    {
     "data": {
      "text/plain": [
       "-16.11111111111107"
      ]
     },
     "execution_count": 21,
     "metadata": {},
     "output_type": "execute_result"
    }
   ],
   "source": [
    "mean_value3 = df3['product'].mean()\n",
    "(mean_value3 - VALUE_FOR_REVENUE)"
   ]
  },
  {
   "cell_type": "markdown",
   "metadata": {},
   "source": [
    "Во всех регионах среднее значение сырья по всем скважинам недостаточно для безубыточной разработки. Следовательно необходимо использовать предсказания моделей для определения наиболее эффективных скважин."
   ]
  },
  {
   "cell_type": "markdown",
   "metadata": {},
   "source": [
    "## Расчёт прибыли и рисков "
   ]
  },
  {
   "cell_type": "markdown",
   "metadata": {},
   "source": [
    "### Расчёт прибыли\n",
    "Напишем функцию __profit__ для определения прибыли для региона, которая выбирает 200 скважин с максимальными значениями предсказаний, суммирует целевое значение объёма сырья, соответствующее этим предсказаниям, и возвращает прибыль в миллионах рублей."
   ]
  },
  {
   "cell_type": "code",
   "execution_count": 22,
   "metadata": {},
   "outputs": [],
   "source": [
    "def profit(target, predictions):\n",
    "    pred_choice = pd.Series(predictions).sort_values(ascending=False).head(200) \n",
    "    target_choice = target.reset_index(drop=True)[pred_choice.index] \n",
    "    return target_choice.sum() *  BARREL_REVENUE - BUDGET"
   ]
  },
  {
   "cell_type": "markdown",
   "metadata": {},
   "source": [
    "Посчитаем прибыль для первого региона: для этого применим функцию __revenue__ к валидационной выборке целевого признака и предсказаний."
   ]
  },
  {
   "cell_type": "code",
   "execution_count": 23,
   "metadata": {},
   "outputs": [
    {
     "data": {
      "text/plain": [
       "3320.826043139852"
      ]
     },
     "execution_count": 23,
     "metadata": {},
     "output_type": "execute_result"
    }
   ],
   "source": [
    "profit(target_valid1, predicted_valid1)"
   ]
  },
  {
   "cell_type": "markdown",
   "metadata": {},
   "source": [
    "Посчитаем прибыль для второго региона."
   ]
  },
  {
   "cell_type": "code",
   "execution_count": 24,
   "metadata": {},
   "outputs": [
    {
     "data": {
      "text/plain": [
       "2415.086696681512"
      ]
     },
     "execution_count": 24,
     "metadata": {},
     "output_type": "execute_result"
    }
   ],
   "source": [
    "profit(target_valid2, predicted_valid2)"
   ]
  },
  {
   "cell_type": "markdown",
   "metadata": {},
   "source": [
    "Посчитаем прибыль для третьего региона."
   ]
  },
  {
   "cell_type": "code",
   "execution_count": 25,
   "metadata": {},
   "outputs": [
    {
     "data": {
      "text/plain": [
       "2710.3499635998323"
      ]
     },
     "execution_count": 25,
     "metadata": {},
     "output_type": "execute_result"
    }
   ],
   "source": [
    "profit(target_valid3, predicted_valid3)"
   ]
  },
  {
   "cell_type": "markdown",
   "metadata": {},
   "source": [
    "В первом регионе прибыль - 3320 миллионов рублей, для вторго региона модель предсказывает прибыль в 2415 миллионов рублей, для третьего региона прибыль - 2710 миллионов рублей."
   ]
  },
  {
   "cell_type": "markdown",
   "metadata": {},
   "source": [
    "### Расчёт рисков"
   ]
  },
  {
   "cell_type": "markdown",
   "metadata": {},
   "source": [
    "Применим технику Bootstrap с 1000 выборок, чтобы найти распределение прибыли, посчитаем среднее значение прибыли, 95%-й доверительный интервал и риск убытков (сделаем счетчик выборок с отрицательной прибылью, потом разделим его на 10, чтоб получить значение в процентах).\n",
    "\n",
    "__Для первого региона__"
   ]
  },
  {
   "cell_type": "code",
   "execution_count": 26,
   "metadata": {},
   "outputs": [],
   "source": [
    "state = np.random.RandomState(12345) \n",
    "values1 = []\n",
    "loss1 = 0\n",
    "\n",
    "for i in range(1000):\n",
    "    target_subsample = target_valid1.reset_index(drop=True).sample(n=500, replace=True, random_state=state)\n",
    "    probs_subsample = predicted_valid1[target_subsample.index]\n",
    "    values1.append(profit(target_subsample, probs_subsample))\n",
    "    if profit(target_subsample, probs_subsample) < 0:\n",
    "        loss1 += 1"
   ]
  },
  {
   "cell_type": "code",
   "execution_count": 27,
   "metadata": {},
   "outputs": [
    {
     "data": {
      "text/plain": [
       "(396.1649848023714, (379.6203151479728, 412.70965445677), 6.9)"
      ]
     },
     "execution_count": 27,
     "metadata": {},
     "output_type": "execute_result"
    }
   ],
   "source": [
    "values1 = pd.Series(values1)\n",
    "\n",
    "profit1 = values1.mean()\n",
    "\n",
    "confidence_interval1 = st.t.interval(0.95, len(values1)-1, loc = profit1, scale = values1.sem())\n",
    "\n",
    "(profit1, confidence_interval1, loss1 / 10)"
   ]
  },
  {
   "cell_type": "markdown",
   "metadata": {},
   "source": [
    "__Для второго региона__"
   ]
  },
  {
   "cell_type": "code",
   "execution_count": 28,
   "metadata": {},
   "outputs": [],
   "source": [
    "state = np.random.RandomState(12345) \n",
    "values2 = []\n",
    "loss2 = 0 \n",
    "\n",
    "for i in range(1000):\n",
    "    target_subsample = target_valid2.reset_index(drop=True).sample(n=500, replace=True, random_state=state)\n",
    "    probs_subsample = predicted_valid2[target_subsample.index]\n",
    "    values2.append(profit(target_subsample, probs_subsample))\n",
    "    if profit(target_subsample, probs_subsample) < 0:\n",
    "        loss2 += 1"
   ]
  },
  {
   "cell_type": "code",
   "execution_count": 29,
   "metadata": {},
   "outputs": [
    {
     "data": {
      "text/plain": [
       "(456.04510578666117, (443.14724866390094, 468.9429629094214), 1.5)"
      ]
     },
     "execution_count": 29,
     "metadata": {},
     "output_type": "execute_result"
    }
   ],
   "source": [
    "values2 = pd.Series(values2)\n",
    "\n",
    "profit2 = values2.mean()\n",
    "\n",
    "confidence_interval2 = st.t.interval(0.95, len(values2)-1, loc = profit2, scale = values2.sem())\n",
    "\n",
    "(profit2, confidence_interval2, loss2 / 10)"
   ]
  },
  {
   "cell_type": "markdown",
   "metadata": {},
   "source": [
    "__Для третьего региона__"
   ]
  },
  {
   "cell_type": "code",
   "execution_count": 30,
   "metadata": {},
   "outputs": [],
   "source": [
    "state = np.random.RandomState(12345) \n",
    "values3 = []\n",
    "loss3 = 0  \n",
    "\n",
    "for i in range(1000):\n",
    "    target_subsample = target_valid3.reset_index(drop=True).sample(n=500, replace=True, random_state=state)\n",
    "    probs_subsample = predicted_valid3[target_subsample.index]\n",
    "    values3.append(profit(target_subsample, probs_subsample))\n",
    "    if profit(target_subsample, probs_subsample) < 0:\n",
    "        loss3 += 1"
   ]
  },
  {
   "cell_type": "code",
   "execution_count": 31,
   "metadata": {},
   "outputs": [
    {
     "data": {
      "text/plain": [
       "(404.4038665683571, (387.4457974712807, 421.3619356654335), 7.6)"
      ]
     },
     "execution_count": 31,
     "metadata": {},
     "output_type": "execute_result"
    }
   ],
   "source": [
    "values3 = pd.Series(values3)\n",
    "\n",
    "profit3 = values3.mean()\n",
    "\n",
    "confidence_interval3 = st.t.interval(0.95, len(values3)-1, loc = profit3, scale = values3.sem())\n",
    "\n",
    "(profit3, confidence_interval3, loss3 / 10)"
   ]
  },
  {
   "cell_type": "markdown",
   "metadata": {},
   "source": [
    "Посчитаем 95% доверительный интервал методом квантилей."
   ]
  },
  {
   "cell_type": "code",
   "execution_count": 32,
   "metadata": {},
   "outputs": [
    {
     "data": {
      "text/plain": [
       "(-111.21554589049532, 909.766941553422)"
      ]
     },
     "execution_count": 32,
     "metadata": {},
     "output_type": "execute_result"
    }
   ],
   "source": [
    "lower1 = values1.quantile(0.025)\n",
    "upper1 = values1.quantile(0.975)\n",
    "(lower1, upper1)"
   ]
  },
  {
   "cell_type": "code",
   "execution_count": 33,
   "metadata": {},
   "outputs": [
    {
     "data": {
      "text/plain": [
       "(33.82050939898718, 852.2894538660361)"
      ]
     },
     "execution_count": 33,
     "metadata": {},
     "output_type": "execute_result"
    }
   ],
   "source": [
    "lower2 = values2.quantile(0.025)\n",
    "upper2 = values2.quantile(0.975)\n",
    "(lower2, upper2)"
   ]
  },
  {
   "cell_type": "code",
   "execution_count": 34,
   "metadata": {},
   "outputs": [
    {
     "data": {
      "text/plain": [
       "(-163.350413395599, 950.3595749238)"
      ]
     },
     "execution_count": 34,
     "metadata": {},
     "output_type": "execute_result"
    }
   ],
   "source": [
    "lower3 = values3.quantile(0.025)\n",
    "upper3 = values3.quantile(0.975)\n",
    "(lower3, upper3)"
   ]
  },
  {
   "cell_type": "markdown",
   "metadata": {},
   "source": [
    "Выведем полученные значения для всех регионов в сводную таблицу."
   ]
  },
  {
   "cell_type": "code",
   "execution_count": 35,
   "metadata": {},
   "outputs": [
    {
     "data": {
      "text/html": [
       "<div>\n",
       "<style scoped>\n",
       "    .dataframe tbody tr th:only-of-type {\n",
       "        vertical-align: middle;\n",
       "    }\n",
       "\n",
       "    .dataframe tbody tr th {\n",
       "        vertical-align: top;\n",
       "    }\n",
       "\n",
       "    .dataframe thead th {\n",
       "        text-align: right;\n",
       "    }\n",
       "</style>\n",
       "<table border=\"1\" class=\"dataframe\">\n",
       "  <thead>\n",
       "    <tr style=\"text-align: right;\">\n",
       "      <th></th>\n",
       "      <th>profit</th>\n",
       "      <th>confidence_interval</th>\n",
       "      <th>loss</th>\n",
       "    </tr>\n",
       "  </thead>\n",
       "  <tbody>\n",
       "    <tr>\n",
       "      <td>Region_1</td>\n",
       "      <td>396.164985</td>\n",
       "      <td>(-111.21554589049532, 909.766941553422)</td>\n",
       "      <td>6.9</td>\n",
       "    </tr>\n",
       "    <tr>\n",
       "      <td>Region_2</td>\n",
       "      <td>456.045106</td>\n",
       "      <td>(33.82050939898718, 852.2894538660361)</td>\n",
       "      <td>1.5</td>\n",
       "    </tr>\n",
       "    <tr>\n",
       "      <td>Region_3</td>\n",
       "      <td>404.403867</td>\n",
       "      <td>(-163.350413395599, 950.3595749238)</td>\n",
       "      <td>7.6</td>\n",
       "    </tr>\n",
       "  </tbody>\n",
       "</table>\n",
       "</div>"
      ],
      "text/plain": [
       "              profit                      confidence_interval  loss\n",
       "Region_1  396.164985  (-111.21554589049532, 909.766941553422)   6.9\n",
       "Region_2  456.045106   (33.82050939898718, 852.2894538660361)   1.5\n",
       "Region_3  404.403867      (-163.350413395599, 950.3595749238)   7.6"
      ]
     },
     "execution_count": 35,
     "metadata": {},
     "output_type": "execute_result"
    }
   ],
   "source": [
    "pivot = pd.DataFrame({'profit': [profit1, profit2, profit3], \n",
    "                      'confidence_interval': [(lower1, upper1), (lower2, upper2), (lower3, upper3)], \n",
    "                      'loss': [loss1 / 10, loss2 / 10, loss3 / 10]})\n",
    "\n",
    "pivot.index = ['Region_1', 'Region_2', 'Region_3']\n",
    "\n",
    "pivot"
   ]
  },
  {
   "cell_type": "markdown",
   "metadata": {},
   "source": [
    "Лишь у одного региона получился риск убытков меньше 2,5%, у него же и самая высокая прибыль."
   ]
  },
  {
   "cell_type": "markdown",
   "metadata": {},
   "source": [
    "## Выводы"
   ]
  },
  {
   "cell_type": "markdown",
   "metadata": {},
   "source": [
    "В данном проекте были построены модели для предсказания объемов добычи нефти для трех регионов по характеристикам скважин.\n",
    "\n",
    "Если смотреть прибыль регионов по 200 скважинам, соответствующим лучшим по предсказанниям скважинам из валидационной выборки (25000 скважин), то получается:\n",
    "- Первый регион: 3320 миллионов рублей;\n",
    "- Второй регион: 2415 миллионов рублей;\n",
    "- Третий регион: 2710 миллионов рублей.\n",
    "\n",
    "Но поскольку исследование скважин очень затратное, и бюджет рассчитан на исследование только 500 скважин в регионе, то была применина процедура Bootstrap для исследования 1000 выборок по 500 скважин из валидационной выборки. Было получено распределение прибылей для 1000 вариантов, и найдены средняя прибыль для региона, 95%-й доверительный интервал и риск убытков. \n",
    "\n",
    "Средняя прибыль для регионов после применения процедуры Bootstrap:\n",
    "- Первый регион: 396 миллионов рублей;\n",
    "- Второй регион: 456 миллионов рублей;\n",
    "- Третий регион: 404 миллиона рублей.\n",
    " Очевидно что если проводить исследование только 500 скважин, то прибыль падает относительно прибыли, если исследовать больше скважин. Возможно, компании «ГлавРосГосНефть» стоит предоставить данные о стоимости исследования одной скважины и рассчитать более оптимальное число скважин для исследования.\n",
    "  \n",
    "  По полученным данным только у 2 региона оказались риски убытков меньше 2,5%, и также самая большая прибыльность, следовательно его и стоит рекомендовать для выбора компании «ГлавРосГосНефть»."
   ]
  }
 ],
 "metadata": {
  "ExecuteTimeLog": [
   {
    "duration": 371,
    "start_time": "2021-11-29T19:46:52.974Z"
   },
   {
    "duration": 640,
    "start_time": "2021-11-29T19:46:56.100Z"
   },
   {
    "duration": 131,
    "start_time": "2021-11-29T19:46:58.571Z"
   },
   {
    "duration": 147,
    "start_time": "2021-11-29T19:47:10.786Z"
   },
   {
    "duration": 130,
    "start_time": "2021-11-29T19:47:37.753Z"
   },
   {
    "duration": 130,
    "start_time": "2021-11-29T19:47:48.765Z"
   },
   {
    "duration": 635,
    "start_time": "2021-11-29T19:48:47.426Z"
   },
   {
    "duration": 133,
    "start_time": "2021-11-29T19:48:51.355Z"
   },
   {
    "duration": 200,
    "start_time": "2021-11-29T19:49:08.023Z"
   },
   {
    "duration": 134,
    "start_time": "2021-11-29T19:49:27.332Z"
   },
   {
    "duration": 6,
    "start_time": "2021-11-29T20:03:10.432Z"
   },
   {
    "duration": 5,
    "start_time": "2021-11-29T20:03:31.456Z"
   },
   {
    "duration": 6,
    "start_time": "2021-11-29T20:03:48.774Z"
   },
   {
    "duration": 6,
    "start_time": "2021-11-29T20:04:04.351Z"
   },
   {
    "duration": 329,
    "start_time": "2021-11-29T20:07:57.976Z"
   },
   {
    "duration": 484,
    "start_time": "2021-11-29T20:08:05.333Z"
   },
   {
    "duration": 399,
    "start_time": "2021-11-29T20:08:09.935Z"
   },
   {
    "duration": 6,
    "start_time": "2021-11-29T20:08:44.249Z"
   },
   {
    "duration": 20,
    "start_time": "2021-11-29T20:08:47.294Z"
   },
   {
    "duration": 7,
    "start_time": "2021-11-29T20:08:51.963Z"
   },
   {
    "duration": 6,
    "start_time": "2021-11-29T20:08:53.062Z"
   },
   {
    "duration": 29,
    "start_time": "2021-11-29T20:08:57.552Z"
   },
   {
    "duration": 19,
    "start_time": "2021-11-29T20:09:18.813Z"
   },
   {
    "duration": 21,
    "start_time": "2021-11-29T20:09:51.199Z"
   },
   {
    "duration": 16,
    "start_time": "2021-11-29T20:12:21.786Z"
   },
   {
    "duration": 332,
    "start_time": "2021-11-29T20:25:11.940Z"
   },
   {
    "duration": 3,
    "start_time": "2021-11-29T20:27:32.309Z"
   },
   {
    "duration": 333,
    "start_time": "2021-11-29T20:28:37.141Z"
   },
   {
    "duration": 10,
    "start_time": "2021-11-29T20:29:27.698Z"
   },
   {
    "duration": 7,
    "start_time": "2021-11-29T20:30:46.647Z"
   },
   {
    "duration": 15,
    "start_time": "2021-11-29T20:30:50.230Z"
   },
   {
    "duration": 10,
    "start_time": "2021-11-29T20:30:53.996Z"
   },
   {
    "duration": 7,
    "start_time": "2021-11-29T20:31:38.632Z"
   },
   {
    "duration": 3,
    "start_time": "2021-11-29T20:31:41.796Z"
   },
   {
    "duration": 138,
    "start_time": "2021-11-29T20:31:41.801Z"
   },
   {
    "duration": 135,
    "start_time": "2021-11-29T20:31:41.941Z"
   },
   {
    "duration": 143,
    "start_time": "2021-11-29T20:31:42.079Z"
   },
   {
    "duration": 5,
    "start_time": "2021-11-29T20:31:42.224Z"
   },
   {
    "duration": 16,
    "start_time": "2021-11-29T20:31:42.231Z"
   },
   {
    "duration": 9,
    "start_time": "2021-11-29T20:31:42.249Z"
   },
   {
    "duration": 34,
    "start_time": "2021-11-29T20:31:42.260Z"
   },
   {
    "duration": 29,
    "start_time": "2021-11-29T20:31:42.297Z"
   },
   {
    "duration": 15,
    "start_time": "2021-11-29T20:31:42.328Z"
   },
   {
    "duration": 11,
    "start_time": "2021-11-29T20:31:42.344Z"
   },
   {
    "duration": 20,
    "start_time": "2021-11-29T20:31:42.357Z"
   },
   {
    "duration": 420,
    "start_time": "2021-11-29T20:31:42.379Z"
   },
   {
    "duration": 8,
    "start_time": "2021-11-29T20:32:23.173Z"
   },
   {
    "duration": 357,
    "start_time": "2021-11-29T20:32:25.591Z"
   },
   {
    "duration": 12,
    "start_time": "2021-11-29T20:32:36.975Z"
   },
   {
    "duration": 11,
    "start_time": "2021-11-29T20:32:41.588Z"
   },
   {
    "duration": 10,
    "start_time": "2021-11-29T20:33:27.204Z"
   },
   {
    "duration": 10,
    "start_time": "2021-11-29T20:33:54.931Z"
   },
   {
    "duration": 9,
    "start_time": "2021-11-29T20:33:59.082Z"
   },
   {
    "duration": 4,
    "start_time": "2021-11-29T20:35:06.547Z"
   },
   {
    "duration": 4,
    "start_time": "2021-11-29T20:35:17.324Z"
   },
   {
    "duration": 4,
    "start_time": "2021-11-29T20:35:22.543Z"
   },
   {
    "duration": 5,
    "start_time": "2021-11-29T20:35:25.487Z"
   },
   {
    "duration": 6,
    "start_time": "2021-11-29T20:39:38.215Z"
   },
   {
    "duration": 5,
    "start_time": "2021-11-29T20:40:39.741Z"
   },
   {
    "duration": 7,
    "start_time": "2021-11-29T20:41:02.869Z"
   },
   {
    "duration": 1026,
    "start_time": "2021-11-30T19:56:13.355Z"
   },
   {
    "duration": 489,
    "start_time": "2021-11-30T19:56:14.382Z"
   },
   {
    "duration": 190,
    "start_time": "2021-11-30T19:56:14.873Z"
   },
   {
    "duration": 179,
    "start_time": "2021-11-30T19:56:15.065Z"
   },
   {
    "duration": 4,
    "start_time": "2021-11-30T19:56:15.246Z"
   },
   {
    "duration": 8,
    "start_time": "2021-11-30T19:56:15.252Z"
   },
   {
    "duration": 9,
    "start_time": "2021-11-30T19:56:15.261Z"
   },
   {
    "duration": 25,
    "start_time": "2021-11-30T19:56:15.273Z"
   },
   {
    "duration": 14,
    "start_time": "2021-11-30T19:56:15.299Z"
   },
   {
    "duration": 14,
    "start_time": "2021-11-30T19:56:15.314Z"
   },
   {
    "duration": 62,
    "start_time": "2021-11-30T19:56:15.329Z"
   },
   {
    "duration": 107,
    "start_time": "2021-11-30T19:56:15.393Z"
   },
   {
    "duration": 95,
    "start_time": "2021-11-30T19:56:15.502Z"
   },
   {
    "duration": 91,
    "start_time": "2021-11-30T19:56:15.599Z"
   },
   {
    "duration": 9,
    "start_time": "2021-11-30T19:56:15.692Z"
   },
   {
    "duration": 6,
    "start_time": "2021-11-30T19:56:15.788Z"
   },
   {
    "duration": 80,
    "start_time": "2021-11-30T20:02:22.876Z"
   },
   {
    "duration": 3,
    "start_time": "2021-11-30T20:04:11.015Z"
   },
   {
    "duration": 7,
    "start_time": "2021-11-30T20:05:55.284Z"
   },
   {
    "duration": 6,
    "start_time": "2021-11-30T20:06:05.095Z"
   },
   {
    "duration": 946,
    "start_time": "2021-12-02T19:44:49.937Z"
   },
   {
    "duration": 473,
    "start_time": "2021-12-02T19:44:50.887Z"
   },
   {
    "duration": 187,
    "start_time": "2021-12-02T19:44:51.362Z"
   },
   {
    "duration": 177,
    "start_time": "2021-12-02T19:44:51.552Z"
   },
   {
    "duration": 4,
    "start_time": "2021-12-02T19:44:51.731Z"
   },
   {
    "duration": 9,
    "start_time": "2021-12-02T19:44:51.737Z"
   },
   {
    "duration": 7,
    "start_time": "2021-12-02T19:44:51.747Z"
   },
   {
    "duration": 15,
    "start_time": "2021-12-02T19:44:51.756Z"
   },
   {
    "duration": 23,
    "start_time": "2021-12-02T19:44:51.773Z"
   },
   {
    "duration": 14,
    "start_time": "2021-12-02T19:44:51.798Z"
   },
   {
    "duration": 76,
    "start_time": "2021-12-02T19:44:51.813Z"
   },
   {
    "duration": 102,
    "start_time": "2021-12-02T19:44:51.892Z"
   },
   {
    "duration": 194,
    "start_time": "2021-12-02T19:44:51.996Z"
   },
   {
    "duration": 95,
    "start_time": "2021-12-02T19:44:52.193Z"
   },
   {
    "duration": 6,
    "start_time": "2021-12-02T19:44:52.289Z"
   },
   {
    "duration": 7,
    "start_time": "2021-12-02T19:44:52.297Z"
   },
   {
    "duration": 4,
    "start_time": "2021-12-02T19:44:52.305Z"
   },
   {
    "duration": 7,
    "start_time": "2021-12-02T19:44:52.310Z"
   },
   {
    "duration": 1050,
    "start_time": "2021-12-04T19:13:56.145Z"
   },
   {
    "duration": 137,
    "start_time": "2021-12-04T19:13:57.198Z"
   },
   {
    "duration": 141,
    "start_time": "2021-12-04T19:13:57.338Z"
   },
   {
    "duration": 149,
    "start_time": "2021-12-04T19:13:57.481Z"
   },
   {
    "duration": 5,
    "start_time": "2021-12-04T19:13:57.633Z"
   },
   {
    "duration": 8,
    "start_time": "2021-12-04T19:13:57.640Z"
   },
   {
    "duration": 6,
    "start_time": "2021-12-04T19:13:57.649Z"
   },
   {
    "duration": 15,
    "start_time": "2021-12-04T19:13:57.657Z"
   },
   {
    "duration": 43,
    "start_time": "2021-12-04T19:13:57.675Z"
   },
   {
    "duration": 16,
    "start_time": "2021-12-04T19:13:57.720Z"
   },
   {
    "duration": 71,
    "start_time": "2021-12-04T19:13:57.738Z"
   },
   {
    "duration": 113,
    "start_time": "2021-12-04T19:13:57.812Z"
   },
   {
    "duration": 100,
    "start_time": "2021-12-04T19:13:58.007Z"
   },
   {
    "duration": 6,
    "start_time": "2021-12-04T19:13:58.109Z"
   },
   {
    "duration": 92,
    "start_time": "2021-12-04T19:13:58.118Z"
   },
   {
    "duration": 6,
    "start_time": "2021-12-04T19:13:58.212Z"
   },
   {
    "duration": 3,
    "start_time": "2021-12-04T19:13:58.220Z"
   },
   {
    "duration": 6,
    "start_time": "2021-12-04T19:13:58.224Z"
   },
   {
    "duration": 3,
    "start_time": "2021-12-04T19:15:16.454Z"
   },
   {
    "duration": 711,
    "start_time": "2021-12-04T19:26:43.025Z"
   },
   {
    "duration": 5,
    "start_time": "2021-12-04T19:27:57.766Z"
   },
   {
    "duration": 357,
    "start_time": "2021-12-04T19:28:11.142Z"
   },
   {
    "duration": 12,
    "start_time": "2021-12-04T19:29:27.048Z"
   },
   {
    "duration": 3,
    "start_time": "2021-12-04T19:29:57.156Z"
   },
   {
    "duration": 155,
    "start_time": "2021-12-04T19:29:57.161Z"
   },
   {
    "duration": 128,
    "start_time": "2021-12-04T19:29:57.317Z"
   },
   {
    "duration": 139,
    "start_time": "2021-12-04T19:29:57.447Z"
   },
   {
    "duration": 4,
    "start_time": "2021-12-04T19:29:57.588Z"
   },
   {
    "duration": 15,
    "start_time": "2021-12-04T19:29:57.594Z"
   },
   {
    "duration": 7,
    "start_time": "2021-12-04T19:29:57.611Z"
   },
   {
    "duration": 15,
    "start_time": "2021-12-04T19:29:57.621Z"
   },
   {
    "duration": 15,
    "start_time": "2021-12-04T19:29:57.638Z"
   },
   {
    "duration": 15,
    "start_time": "2021-12-04T19:29:57.655Z"
   },
   {
    "duration": 52,
    "start_time": "2021-12-04T19:29:57.671Z"
   },
   {
    "duration": 99,
    "start_time": "2021-12-04T19:29:57.808Z"
   },
   {
    "duration": 98,
    "start_time": "2021-12-04T19:29:57.910Z"
   },
   {
    "duration": 98,
    "start_time": "2021-12-04T19:29:58.011Z"
   },
   {
    "duration": 8,
    "start_time": "2021-12-04T19:29:58.112Z"
   },
   {
    "duration": 6,
    "start_time": "2021-12-04T19:29:58.207Z"
   },
   {
    "duration": 2,
    "start_time": "2021-12-04T19:29:58.215Z"
   },
   {
    "duration": 5,
    "start_time": "2021-12-04T19:29:58.219Z"
   },
   {
    "duration": 5,
    "start_time": "2021-12-04T19:29:58.226Z"
   },
   {
    "duration": 3386,
    "start_time": "2021-12-04T19:29:58.232Z"
   },
   {
    "duration": 3134,
    "start_time": "2021-12-04T19:30:08.218Z"
   },
   {
    "duration": 5,
    "start_time": "2021-12-04T19:30:51.633Z"
   },
   {
    "duration": 3173,
    "start_time": "2021-12-04T19:32:09.021Z"
   },
   {
    "duration": 3153,
    "start_time": "2021-12-04T19:32:28.835Z"
   },
   {
    "duration": 3040,
    "start_time": "2021-12-04T19:33:45.280Z"
   },
   {
    "duration": 3058,
    "start_time": "2021-12-04T19:33:56.934Z"
   },
   {
    "duration": 329,
    "start_time": "2021-12-04T19:42:44.555Z"
   },
   {
    "duration": 741,
    "start_time": "2021-12-04T19:42:48.623Z"
   },
   {
    "duration": 4,
    "start_time": "2021-12-04T19:45:14.893Z"
   },
   {
    "duration": 9,
    "start_time": "2021-12-04T19:45:17.452Z"
   },
   {
    "duration": 10,
    "start_time": "2021-12-04T19:45:40.358Z"
   },
   {
    "duration": 9,
    "start_time": "2021-12-04T19:45:42.860Z"
   },
   {
    "duration": 4,
    "start_time": "2021-12-04T20:07:57.865Z"
   },
   {
    "duration": 351,
    "start_time": "2021-12-04T20:08:08.027Z"
   },
   {
    "duration": 696,
    "start_time": "2021-12-04T20:08:40.973Z"
   },
   {
    "duration": 3,
    "start_time": "2021-12-04T20:09:06.750Z"
   },
   {
    "duration": 15471,
    "start_time": "2021-12-04T20:09:09.097Z"
   },
   {
    "duration": 17277,
    "start_time": "2021-12-04T20:09:58.691Z"
   },
   {
    "duration": 18,
    "start_time": "2021-12-04T20:10:15.970Z"
   },
   {
    "duration": 3,
    "start_time": "2021-12-04T20:10:41.877Z"
   },
   {
    "duration": 5,
    "start_time": "2021-12-04T20:10:57.611Z"
   },
   {
    "duration": 6,
    "start_time": "2021-12-04T20:11:02.814Z"
   },
   {
    "duration": 3,
    "start_time": "2021-12-04T20:12:19.172Z"
   },
   {
    "duration": 20,
    "start_time": "2021-12-04T20:12:24.573Z"
   },
   {
    "duration": 21,
    "start_time": "2021-12-04T20:12:30.712Z"
   },
   {
    "duration": 25,
    "start_time": "2021-12-04T20:12:33.403Z"
   },
   {
    "duration": 3,
    "start_time": "2021-12-04T20:20:16.074Z"
   },
   {
    "duration": 7,
    "start_time": "2021-12-04T20:20:32.886Z"
   },
   {
    "duration": 2043,
    "start_time": "2021-12-04T20:21:12.060Z"
   },
   {
    "duration": 1921,
    "start_time": "2021-12-04T20:25:10.708Z"
   },
   {
    "duration": 1878,
    "start_time": "2021-12-04T20:25:44.699Z"
   },
   {
    "duration": 1984,
    "start_time": "2021-12-04T20:26:04.838Z"
   },
   {
    "duration": 1983,
    "start_time": "2021-12-04T20:26:32.014Z"
   },
   {
    "duration": 2126,
    "start_time": "2021-12-04T20:27:06.138Z"
   },
   {
    "duration": 2055,
    "start_time": "2021-12-04T20:27:54.777Z"
   },
   {
    "duration": 4,
    "start_time": "2021-12-04T20:42:44.793Z"
   },
   {
    "duration": 1937,
    "start_time": "2021-12-04T20:42:48.349Z"
   },
   {
    "duration": 1903,
    "start_time": "2021-12-04T20:45:32.989Z"
   },
   {
    "duration": 2051,
    "start_time": "2021-12-04T20:46:05.023Z"
   },
   {
    "duration": 1925,
    "start_time": "2021-12-04T20:46:12.593Z"
   },
   {
    "duration": 4,
    "start_time": "2021-12-04T20:50:27.542Z"
   },
   {
    "duration": 1916,
    "start_time": "2021-12-04T20:50:58.977Z"
   },
   {
    "duration": 2052,
    "start_time": "2021-12-04T20:51:25.770Z"
   },
   {
    "duration": 1993,
    "start_time": "2021-12-04T20:51:44.129Z"
   },
   {
    "duration": 4,
    "start_time": "2021-12-04T21:07:05.822Z"
   },
   {
    "duration": 4,
    "start_time": "2021-12-04T21:07:51.750Z"
   },
   {
    "duration": 5,
    "start_time": "2021-12-04T21:08:48.514Z"
   },
   {
    "duration": 5,
    "start_time": "2021-12-04T21:11:10.840Z"
   },
   {
    "duration": 114,
    "start_time": "2021-12-04T21:11:37.199Z"
   },
   {
    "duration": 6,
    "start_time": "2021-12-04T21:12:14.116Z"
   },
   {
    "duration": 6,
    "start_time": "2021-12-04T21:12:32.898Z"
   },
   {
    "duration": 108,
    "start_time": "2021-12-04T21:39:29.780Z"
   },
   {
    "duration": 3,
    "start_time": "2021-12-04T21:39:37.397Z"
   },
   {
    "duration": 691,
    "start_time": "2021-12-04T21:40:32.817Z"
   },
   {
    "duration": 4,
    "start_time": "2021-12-04T21:41:51.156Z"
   },
   {
    "duration": 9,
    "start_time": "2021-12-04T21:41:54.027Z"
   },
   {
    "duration": 9,
    "start_time": "2021-12-04T21:42:40.369Z"
   },
   {
    "duration": 3,
    "start_time": "2021-12-04T21:45:19.079Z"
   },
   {
    "duration": 4,
    "start_time": "2021-12-04T21:45:21.752Z"
   },
   {
    "duration": 3,
    "start_time": "2021-12-04T21:45:54.891Z"
   },
   {
    "duration": 9,
    "start_time": "2021-12-04T21:45:56.869Z"
   },
   {
    "duration": 9,
    "start_time": "2021-12-04T21:45:59.351Z"
   },
   {
    "duration": 8,
    "start_time": "2021-12-04T21:46:18.653Z"
   },
   {
    "duration": 9,
    "start_time": "2021-12-04T21:49:05.344Z"
   },
   {
    "duration": 344,
    "start_time": "2021-12-04T22:09:07.652Z"
   },
   {
    "duration": 1634,
    "start_time": "2021-12-04T22:10:24.992Z"
   },
   {
    "duration": 4,
    "start_time": "2021-12-04T22:11:26.243Z"
   },
   {
    "duration": 1554,
    "start_time": "2021-12-04T22:11:55.365Z"
   },
   {
    "duration": 5,
    "start_time": "2021-12-04T22:11:57.711Z"
   },
   {
    "duration": 1565,
    "start_time": "2021-12-04T22:13:20.265Z"
   },
   {
    "duration": 5,
    "start_time": "2021-12-04T22:13:22.986Z"
   },
   {
    "duration": 1591,
    "start_time": "2021-12-04T22:14:31.862Z"
   },
   {
    "duration": 1854,
    "start_time": "2021-12-04T22:16:01.925Z"
   },
   {
    "duration": 1910,
    "start_time": "2021-12-04T22:17:58.617Z"
   },
   {
    "duration": 5,
    "start_time": "2021-12-04T22:18:02.778Z"
   },
   {
    "duration": 1606,
    "start_time": "2021-12-04T22:18:15.354Z"
   },
   {
    "duration": 1926,
    "start_time": "2021-12-04T22:18:23.364Z"
   },
   {
    "duration": 1780,
    "start_time": "2021-12-04T22:18:31.240Z"
   },
   {
    "duration": 1637,
    "start_time": "2021-12-04T22:18:54.956Z"
   },
   {
    "duration": 1598,
    "start_time": "2021-12-04T22:18:59.575Z"
   },
   {
    "duration": 5,
    "start_time": "2021-12-04T22:19:10.759Z"
   },
   {
    "duration": 1615,
    "start_time": "2021-12-04T22:19:13.644Z"
   },
   {
    "duration": 1690,
    "start_time": "2021-12-04T22:19:17.606Z"
   },
   {
    "duration": 1617,
    "start_time": "2021-12-04T22:20:03.391Z"
   },
   {
    "duration": 1721,
    "start_time": "2021-12-04T22:20:20.152Z"
   },
   {
    "duration": 1896,
    "start_time": "2021-12-04T22:20:23.961Z"
   },
   {
    "duration": 1700,
    "start_time": "2021-12-04T22:20:33.995Z"
   },
   {
    "duration": 1605,
    "start_time": "2021-12-04T22:20:37.975Z"
   },
   {
    "duration": 1599,
    "start_time": "2021-12-04T22:20:42.353Z"
   },
   {
    "duration": 1616,
    "start_time": "2021-12-04T22:20:46.250Z"
   },
   {
    "duration": 5,
    "start_time": "2021-12-04T22:20:51.336Z"
   },
   {
    "duration": 1579,
    "start_time": "2021-12-04T22:21:03.978Z"
   },
   {
    "duration": 1620,
    "start_time": "2021-12-04T22:21:15.769Z"
   },
   {
    "duration": 1581,
    "start_time": "2021-12-04T22:21:21.819Z"
   },
   {
    "duration": 1588,
    "start_time": "2021-12-04T22:21:36.704Z"
   },
   {
    "duration": 1604,
    "start_time": "2021-12-04T22:21:47.679Z"
   },
   {
    "duration": 1593,
    "start_time": "2021-12-04T22:21:51.692Z"
   },
   {
    "duration": 1038,
    "start_time": "2021-12-05T08:18:48.855Z"
   },
   {
    "duration": 140,
    "start_time": "2021-12-05T08:18:49.894Z"
   },
   {
    "duration": 139,
    "start_time": "2021-12-05T08:18:50.036Z"
   },
   {
    "duration": 141,
    "start_time": "2021-12-05T08:18:50.177Z"
   },
   {
    "duration": 5,
    "start_time": "2021-12-05T08:18:50.321Z"
   },
   {
    "duration": 26,
    "start_time": "2021-12-05T08:18:50.328Z"
   },
   {
    "duration": 27,
    "start_time": "2021-12-05T08:18:50.356Z"
   },
   {
    "duration": 42,
    "start_time": "2021-12-05T08:18:50.385Z"
   },
   {
    "duration": 16,
    "start_time": "2021-12-05T08:18:50.430Z"
   },
   {
    "duration": 29,
    "start_time": "2021-12-05T08:18:50.449Z"
   },
   {
    "duration": 83,
    "start_time": "2021-12-05T08:18:50.480Z"
   },
   {
    "duration": 99,
    "start_time": "2021-12-05T08:18:50.566Z"
   },
   {
    "duration": 100,
    "start_time": "2021-12-05T08:18:50.668Z"
   },
   {
    "duration": 205,
    "start_time": "2021-12-05T08:18:50.770Z"
   },
   {
    "duration": 21,
    "start_time": "2021-12-05T08:18:50.977Z"
   },
   {
    "duration": 35,
    "start_time": "2021-12-05T08:18:50.999Z"
   },
   {
    "duration": 24,
    "start_time": "2021-12-05T08:18:51.036Z"
   },
   {
    "duration": 23,
    "start_time": "2021-12-05T08:18:51.062Z"
   },
   {
    "duration": 31,
    "start_time": "2021-12-05T08:18:51.087Z"
   },
   {
    "duration": 26,
    "start_time": "2021-12-05T08:18:51.120Z"
   },
   {
    "duration": 21,
    "start_time": "2021-12-05T08:18:51.148Z"
   },
   {
    "duration": 31,
    "start_time": "2021-12-05T08:18:51.170Z"
   },
   {
    "duration": 46,
    "start_time": "2021-12-05T08:18:51.203Z"
   },
   {
    "duration": 31,
    "start_time": "2021-12-05T08:18:51.250Z"
   },
   {
    "duration": 24,
    "start_time": "2021-12-05T08:18:51.283Z"
   },
   {
    "duration": 1555,
    "start_time": "2021-12-05T08:18:51.309Z"
   },
   {
    "duration": 4,
    "start_time": "2021-12-05T08:18:52.867Z"
   },
   {
    "duration": 1527,
    "start_time": "2021-12-05T08:18:52.872Z"
   },
   {
    "duration": 1563,
    "start_time": "2021-12-05T08:18:54.401Z"
   },
   {
    "duration": 4,
    "start_time": "2021-12-05T08:21:44.569Z"
   },
   {
    "duration": 7,
    "start_time": "2021-12-05T08:23:25.446Z"
   },
   {
    "duration": 4908,
    "start_time": "2021-12-05T08:28:27.025Z"
   },
   {
    "duration": 9,
    "start_time": "2021-12-05T08:28:34.562Z"
   },
   {
    "duration": 2882,
    "start_time": "2021-12-05T08:29:42.549Z"
   },
   {
    "duration": 7,
    "start_time": "2021-12-05T08:30:05.806Z"
   },
   {
    "duration": 7,
    "start_time": "2021-12-05T08:36:48.186Z"
   },
   {
    "duration": 2753,
    "start_time": "2021-12-05T08:37:13.283Z"
   },
   {
    "duration": 7,
    "start_time": "2021-12-05T08:37:17.064Z"
   },
   {
    "duration": 6,
    "start_time": "2021-12-05T08:37:41.816Z"
   },
   {
    "duration": 2847,
    "start_time": "2021-12-05T08:37:44.765Z"
   },
   {
    "duration": 7,
    "start_time": "2021-12-05T08:37:47.614Z"
   },
   {
    "duration": 2954,
    "start_time": "2021-12-05T08:37:50.264Z"
   },
   {
    "duration": 7,
    "start_time": "2021-12-05T08:37:56.994Z"
   },
   {
    "duration": 306,
    "start_time": "2021-12-05T08:40:16.191Z"
   },
   {
    "duration": 2955,
    "start_time": "2021-12-05T08:40:21.430Z"
   },
   {
    "duration": 6,
    "start_time": "2021-12-05T08:40:27.071Z"
   },
   {
    "duration": 3,
    "start_time": "2021-12-05T08:46:22.064Z"
   },
   {
    "duration": 152,
    "start_time": "2021-12-05T08:46:22.069Z"
   },
   {
    "duration": 130,
    "start_time": "2021-12-05T08:46:22.223Z"
   },
   {
    "duration": 134,
    "start_time": "2021-12-05T08:46:22.355Z"
   },
   {
    "duration": 4,
    "start_time": "2021-12-05T08:46:22.490Z"
   },
   {
    "duration": 9,
    "start_time": "2021-12-05T08:46:22.495Z"
   },
   {
    "duration": 11,
    "start_time": "2021-12-05T08:46:22.505Z"
   },
   {
    "duration": 21,
    "start_time": "2021-12-05T08:46:22.517Z"
   },
   {
    "duration": 22,
    "start_time": "2021-12-05T08:46:22.541Z"
   },
   {
    "duration": 14,
    "start_time": "2021-12-05T08:46:22.565Z"
   },
   {
    "duration": 84,
    "start_time": "2021-12-05T08:46:22.581Z"
   },
   {
    "duration": 105,
    "start_time": "2021-12-05T08:46:22.667Z"
   },
   {
    "duration": 97,
    "start_time": "2021-12-05T08:46:22.775Z"
   },
   {
    "duration": 91,
    "start_time": "2021-12-05T08:46:22.874Z"
   },
   {
    "duration": 95,
    "start_time": "2021-12-05T08:46:22.969Z"
   },
   {
    "duration": 6,
    "start_time": "2021-12-05T08:46:23.067Z"
   },
   {
    "duration": 4,
    "start_time": "2021-12-05T08:46:23.075Z"
   },
   {
    "duration": 9,
    "start_time": "2021-12-05T08:46:23.081Z"
   },
   {
    "duration": 6,
    "start_time": "2021-12-05T08:46:23.092Z"
   },
   {
    "duration": 5,
    "start_time": "2021-12-05T08:46:23.100Z"
   },
   {
    "duration": 8,
    "start_time": "2021-12-05T08:46:23.106Z"
   },
   {
    "duration": 6,
    "start_time": "2021-12-05T08:46:23.116Z"
   },
   {
    "duration": 15,
    "start_time": "2021-12-05T08:46:23.124Z"
   },
   {
    "duration": 30,
    "start_time": "2021-12-05T08:46:23.141Z"
   },
   {
    "duration": 15,
    "start_time": "2021-12-05T08:46:23.173Z"
   },
   {
    "duration": 2837,
    "start_time": "2021-12-05T08:46:23.190Z"
   },
   {
    "duration": 7,
    "start_time": "2021-12-05T08:46:26.030Z"
   },
   {
    "duration": 2859,
    "start_time": "2021-12-05T08:46:26.039Z"
   },
   {
    "duration": 6,
    "start_time": "2021-12-05T08:46:28.900Z"
   },
   {
    "duration": 2814,
    "start_time": "2021-12-05T08:46:28.908Z"
   },
   {
    "duration": 6,
    "start_time": "2021-12-05T08:46:31.724Z"
   },
   {
    "duration": 4,
    "start_time": "2021-12-05T08:50:32.924Z"
   },
   {
    "duration": 4,
    "start_time": "2021-12-05T08:58:33.770Z"
   },
   {
    "duration": 10,
    "start_time": "2021-12-05T08:58:42.255Z"
   },
   {
    "duration": 9,
    "start_time": "2021-12-05T09:01:48.889Z"
   },
   {
    "duration": 4,
    "start_time": "2021-12-05T09:02:29.381Z"
   },
   {
    "duration": 143,
    "start_time": "2021-12-05T09:02:29.387Z"
   },
   {
    "duration": 133,
    "start_time": "2021-12-05T09:02:29.532Z"
   },
   {
    "duration": 134,
    "start_time": "2021-12-05T09:02:29.667Z"
   },
   {
    "duration": 5,
    "start_time": "2021-12-05T09:02:29.803Z"
   },
   {
    "duration": 24,
    "start_time": "2021-12-05T09:02:29.810Z"
   },
   {
    "duration": 9,
    "start_time": "2021-12-05T09:02:29.836Z"
   },
   {
    "duration": 15,
    "start_time": "2021-12-05T09:02:29.847Z"
   },
   {
    "duration": 14,
    "start_time": "2021-12-05T09:02:29.863Z"
   },
   {
    "duration": 12,
    "start_time": "2021-12-05T09:02:29.879Z"
   },
   {
    "duration": 72,
    "start_time": "2021-12-05T09:02:29.893Z"
   },
   {
    "duration": 98,
    "start_time": "2021-12-05T09:02:29.968Z"
   },
   {
    "duration": 197,
    "start_time": "2021-12-05T09:02:30.068Z"
   },
   {
    "duration": 95,
    "start_time": "2021-12-05T09:02:30.268Z"
   },
   {
    "duration": 7,
    "start_time": "2021-12-05T09:02:30.366Z"
   },
   {
    "duration": 7,
    "start_time": "2021-12-05T09:02:30.464Z"
   },
   {
    "duration": 15,
    "start_time": "2021-12-05T09:02:30.473Z"
   },
   {
    "duration": 10,
    "start_time": "2021-12-05T09:02:30.490Z"
   },
   {
    "duration": 7,
    "start_time": "2021-12-05T09:02:30.503Z"
   },
   {
    "duration": 32,
    "start_time": "2021-12-05T09:02:30.512Z"
   },
   {
    "duration": 32,
    "start_time": "2021-12-05T09:02:30.546Z"
   },
   {
    "duration": 26,
    "start_time": "2021-12-05T09:02:30.579Z"
   },
   {
    "duration": 29,
    "start_time": "2021-12-05T09:02:30.607Z"
   },
   {
    "duration": 8,
    "start_time": "2021-12-05T09:02:30.638Z"
   },
   {
    "duration": 23,
    "start_time": "2021-12-05T09:02:30.648Z"
   },
   {
    "duration": 2794,
    "start_time": "2021-12-05T09:02:30.673Z"
   },
   {
    "duration": 7,
    "start_time": "2021-12-05T09:02:33.469Z"
   },
   {
    "duration": 3192,
    "start_time": "2021-12-05T09:02:33.478Z"
   },
   {
    "duration": 7,
    "start_time": "2021-12-05T09:02:36.672Z"
   },
   {
    "duration": 3133,
    "start_time": "2021-12-05T09:02:36.681Z"
   },
   {
    "duration": 6,
    "start_time": "2021-12-05T09:02:39.816Z"
   },
   {
    "duration": 6,
    "start_time": "2021-12-05T09:02:39.824Z"
   },
   {
    "duration": 10,
    "start_time": "2021-12-05T09:02:39.832Z"
   },
   {
    "duration": 3,
    "start_time": "2021-12-05T09:37:36.228Z"
   },
   {
    "duration": 165,
    "start_time": "2021-12-05T09:37:36.233Z"
   },
   {
    "duration": 131,
    "start_time": "2021-12-05T09:37:36.400Z"
   },
   {
    "duration": 144,
    "start_time": "2021-12-05T09:37:36.533Z"
   },
   {
    "duration": 6,
    "start_time": "2021-12-05T09:37:36.680Z"
   },
   {
    "duration": 22,
    "start_time": "2021-12-05T09:37:36.687Z"
   },
   {
    "duration": 24,
    "start_time": "2021-12-05T09:37:36.711Z"
   },
   {
    "duration": 41,
    "start_time": "2021-12-05T09:37:36.737Z"
   },
   {
    "duration": 23,
    "start_time": "2021-12-05T09:37:36.782Z"
   },
   {
    "duration": 29,
    "start_time": "2021-12-05T09:37:36.808Z"
   },
   {
    "duration": 45,
    "start_time": "2021-12-05T09:37:36.840Z"
   },
   {
    "duration": 184,
    "start_time": "2021-12-05T09:37:36.887Z"
   },
   {
    "duration": 191,
    "start_time": "2021-12-05T09:37:37.074Z"
   },
   {
    "duration": 101,
    "start_time": "2021-12-05T09:37:37.268Z"
   },
   {
    "duration": 92,
    "start_time": "2021-12-05T09:37:37.372Z"
   },
   {
    "duration": 6,
    "start_time": "2021-12-05T09:37:37.467Z"
   },
   {
    "duration": 10,
    "start_time": "2021-12-05T09:37:37.476Z"
   },
   {
    "duration": 15,
    "start_time": "2021-12-05T09:37:37.489Z"
   },
   {
    "duration": 10,
    "start_time": "2021-12-05T09:37:37.506Z"
   },
   {
    "duration": 8,
    "start_time": "2021-12-05T09:37:37.518Z"
   },
   {
    "duration": 5,
    "start_time": "2021-12-05T09:37:37.528Z"
   },
   {
    "duration": 3,
    "start_time": "2021-12-05T09:37:37.535Z"
   },
   {
    "duration": 9,
    "start_time": "2021-12-05T09:37:37.564Z"
   },
   {
    "duration": 13,
    "start_time": "2021-12-05T09:37:37.574Z"
   },
   {
    "duration": 12,
    "start_time": "2021-12-05T09:37:37.589Z"
   },
   {
    "duration": 3051,
    "start_time": "2021-12-05T09:37:37.603Z"
   },
   {
    "duration": 13,
    "start_time": "2021-12-05T09:37:40.657Z"
   },
   {
    "duration": 3047,
    "start_time": "2021-12-05T09:37:40.672Z"
   },
   {
    "duration": 6,
    "start_time": "2021-12-05T09:37:43.721Z"
   },
   {
    "duration": 3004,
    "start_time": "2021-12-05T09:37:43.729Z"
   },
   {
    "duration": 7,
    "start_time": "2021-12-05T09:37:46.735Z"
   },
   {
    "duration": 40,
    "start_time": "2021-12-05T09:37:46.744Z"
   },
   {
    "duration": 12,
    "start_time": "2021-12-05T09:37:46.786Z"
   },
   {
    "duration": 198,
    "start_time": "2021-12-05T09:38:50.189Z"
   },
   {
    "duration": 139,
    "start_time": "2021-12-05T09:38:57.680Z"
   },
   {
    "duration": 141,
    "start_time": "2021-12-05T09:39:01.942Z"
   },
   {
    "duration": 11,
    "start_time": "2021-12-05T09:42:27.749Z"
   },
   {
    "duration": 3,
    "start_time": "2021-12-05T09:43:33.217Z"
   },
   {
    "duration": 169,
    "start_time": "2021-12-05T09:43:33.222Z"
   },
   {
    "duration": 139,
    "start_time": "2021-12-05T09:43:33.393Z"
   },
   {
    "duration": 274,
    "start_time": "2021-12-05T09:43:33.534Z"
   },
   {
    "duration": 5,
    "start_time": "2021-12-05T09:43:33.810Z"
   },
   {
    "duration": 22,
    "start_time": "2021-12-05T09:43:33.817Z"
   },
   {
    "duration": 25,
    "start_time": "2021-12-05T09:43:33.841Z"
   },
   {
    "duration": 37,
    "start_time": "2021-12-05T09:43:33.868Z"
   },
   {
    "duration": 26,
    "start_time": "2021-12-05T09:43:33.909Z"
   },
   {
    "duration": 20,
    "start_time": "2021-12-05T09:43:33.937Z"
   },
   {
    "duration": 30,
    "start_time": "2021-12-05T09:43:33.959Z"
   },
   {
    "duration": 179,
    "start_time": "2021-12-05T09:43:33.991Z"
   },
   {
    "duration": 96,
    "start_time": "2021-12-05T09:43:34.173Z"
   },
   {
    "duration": 95,
    "start_time": "2021-12-05T09:43:34.275Z"
   },
   {
    "duration": 94,
    "start_time": "2021-12-05T09:43:34.373Z"
   },
   {
    "duration": 45,
    "start_time": "2021-12-05T09:43:34.469Z"
   },
   {
    "duration": 24,
    "start_time": "2021-12-05T09:43:34.517Z"
   },
   {
    "duration": 41,
    "start_time": "2021-12-05T09:43:34.543Z"
   },
   {
    "duration": 34,
    "start_time": "2021-12-05T09:43:34.586Z"
   },
   {
    "duration": 40,
    "start_time": "2021-12-05T09:43:34.622Z"
   },
   {
    "duration": 35,
    "start_time": "2021-12-05T09:43:34.664Z"
   },
   {
    "duration": 19,
    "start_time": "2021-12-05T09:43:34.701Z"
   },
   {
    "duration": 45,
    "start_time": "2021-12-05T09:43:34.722Z"
   },
   {
    "duration": 33,
    "start_time": "2021-12-05T09:43:34.768Z"
   },
   {
    "duration": 24,
    "start_time": "2021-12-05T09:43:34.804Z"
   },
   {
    "duration": 3133,
    "start_time": "2021-12-05T09:43:34.830Z"
   },
   {
    "duration": 7,
    "start_time": "2021-12-05T09:43:37.967Z"
   },
   {
    "duration": 3280,
    "start_time": "2021-12-05T09:43:37.975Z"
   },
   {
    "duration": 10,
    "start_time": "2021-12-05T09:43:41.257Z"
   },
   {
    "duration": 3804,
    "start_time": "2021-12-05T09:43:41.270Z"
   },
   {
    "duration": 8,
    "start_time": "2021-12-05T09:43:45.076Z"
   },
   {
    "duration": 45,
    "start_time": "2021-12-05T09:43:45.086Z"
   },
   {
    "duration": 993,
    "start_time": "2021-12-05T15:47:31.593Z"
   },
   {
    "duration": 129,
    "start_time": "2021-12-05T15:47:32.588Z"
   },
   {
    "duration": 194,
    "start_time": "2021-12-05T15:47:32.720Z"
   },
   {
    "duration": 187,
    "start_time": "2021-12-05T15:47:32.916Z"
   },
   {
    "duration": 4,
    "start_time": "2021-12-05T15:47:33.105Z"
   },
   {
    "duration": 7,
    "start_time": "2021-12-05T15:47:33.110Z"
   },
   {
    "duration": 6,
    "start_time": "2021-12-05T15:47:33.118Z"
   },
   {
    "duration": 27,
    "start_time": "2021-12-05T15:47:33.126Z"
   },
   {
    "duration": 13,
    "start_time": "2021-12-05T15:47:33.156Z"
   },
   {
    "duration": 14,
    "start_time": "2021-12-05T15:47:33.172Z"
   },
   {
    "duration": 58,
    "start_time": "2021-12-05T15:47:33.188Z"
   },
   {
    "duration": 96,
    "start_time": "2021-12-05T15:47:33.249Z"
   },
   {
    "duration": 101,
    "start_time": "2021-12-05T15:47:33.348Z"
   },
   {
    "duration": 100,
    "start_time": "2021-12-05T15:47:33.452Z"
   },
   {
    "duration": 91,
    "start_time": "2021-12-05T15:47:33.554Z"
   },
   {
    "duration": 9,
    "start_time": "2021-12-05T15:47:33.647Z"
   },
   {
    "duration": 3,
    "start_time": "2021-12-05T15:47:33.658Z"
   },
   {
    "duration": 6,
    "start_time": "2021-12-05T15:47:33.663Z"
   },
   {
    "duration": 6,
    "start_time": "2021-12-05T15:47:33.670Z"
   },
   {
    "duration": 5,
    "start_time": "2021-12-05T15:47:33.677Z"
   },
   {
    "duration": 5,
    "start_time": "2021-12-05T15:47:33.683Z"
   },
   {
    "duration": 4,
    "start_time": "2021-12-05T15:47:33.689Z"
   },
   {
    "duration": 57,
    "start_time": "2021-12-05T15:47:33.694Z"
   },
   {
    "duration": 8,
    "start_time": "2021-12-05T15:47:33.752Z"
   },
   {
    "duration": 7,
    "start_time": "2021-12-05T15:47:33.762Z"
   },
   {
    "duration": 3000,
    "start_time": "2021-12-05T15:47:33.771Z"
   },
   {
    "duration": 6,
    "start_time": "2021-12-05T15:47:36.774Z"
   },
   {
    "duration": 2842,
    "start_time": "2021-12-05T15:47:36.782Z"
   },
   {
    "duration": 6,
    "start_time": "2021-12-05T15:47:39.625Z"
   },
   {
    "duration": 2912,
    "start_time": "2021-12-05T15:47:39.644Z"
   },
   {
    "duration": 7,
    "start_time": "2021-12-05T15:47:42.557Z"
   },
   {
    "duration": 11,
    "start_time": "2021-12-05T15:47:42.566Z"
   },
   {
    "duration": 7,
    "start_time": "2021-12-05T15:49:12.644Z"
   },
   {
    "duration": 6,
    "start_time": "2021-12-05T15:49:41.790Z"
   },
   {
    "duration": 5,
    "start_time": "2021-12-05T15:56:08.939Z"
   },
   {
    "duration": 3,
    "start_time": "2021-12-05T15:56:28.878Z"
   },
   {
    "duration": 333,
    "start_time": "2021-12-05T16:00:24.887Z"
   },
   {
    "duration": 476,
    "start_time": "2021-12-05T17:18:17.246Z"
   },
   {
    "duration": 1305,
    "start_time": "2021-12-05T17:18:23.755Z"
   },
   {
    "duration": 158,
    "start_time": "2021-12-05T17:18:25.063Z"
   },
   {
    "duration": 164,
    "start_time": "2021-12-05T17:18:25.225Z"
   },
   {
    "duration": 166,
    "start_time": "2021-12-05T17:18:25.393Z"
   },
   {
    "duration": 6,
    "start_time": "2021-12-05T17:18:25.562Z"
   },
   {
    "duration": 14,
    "start_time": "2021-12-05T17:18:25.571Z"
   },
   {
    "duration": 9,
    "start_time": "2021-12-05T17:18:25.587Z"
   },
   {
    "duration": 18,
    "start_time": "2021-12-05T17:18:25.602Z"
   },
   {
    "duration": 52,
    "start_time": "2021-12-05T17:18:25.623Z"
   },
   {
    "duration": 19,
    "start_time": "2021-12-05T17:18:25.678Z"
   },
   {
    "duration": 67,
    "start_time": "2021-12-05T17:18:25.699Z"
   },
   {
    "duration": 105,
    "start_time": "2021-12-05T17:18:25.769Z"
   },
   {
    "duration": 186,
    "start_time": "2021-12-05T17:18:25.878Z"
   },
   {
    "duration": 93,
    "start_time": "2021-12-05T17:18:26.068Z"
   },
   {
    "duration": 97,
    "start_time": "2021-12-05T17:18:26.164Z"
   },
   {
    "duration": 8,
    "start_time": "2021-12-05T17:18:26.263Z"
   },
   {
    "duration": 4,
    "start_time": "2021-12-05T17:18:26.274Z"
   },
   {
    "duration": 7,
    "start_time": "2021-12-05T17:18:26.280Z"
   },
   {
    "duration": 12,
    "start_time": "2021-12-05T17:18:26.289Z"
   },
   {
    "duration": 7,
    "start_time": "2021-12-05T17:18:26.303Z"
   },
   {
    "duration": 6,
    "start_time": "2021-12-05T17:18:26.360Z"
   },
   {
    "duration": 9,
    "start_time": "2021-12-05T17:18:26.368Z"
   },
   {
    "duration": 14,
    "start_time": "2021-12-05T17:18:26.381Z"
   },
   {
    "duration": 11,
    "start_time": "2021-12-05T17:18:26.398Z"
   },
   {
    "duration": 10,
    "start_time": "2021-12-05T17:18:26.411Z"
   },
   {
    "duration": 5160,
    "start_time": "2021-12-05T17:18:26.460Z"
   },
   {
    "duration": 9,
    "start_time": "2021-12-05T17:18:31.622Z"
   },
   {
    "duration": 5036,
    "start_time": "2021-12-05T17:18:31.633Z"
   },
   {
    "duration": 10,
    "start_time": "2021-12-05T17:18:36.671Z"
   },
   {
    "duration": 5107,
    "start_time": "2021-12-05T17:18:36.683Z"
   },
   {
    "duration": 10,
    "start_time": "2021-12-05T17:18:41.792Z"
   },
   {
    "duration": 11,
    "start_time": "2021-12-05T17:18:41.804Z"
   },
   {
    "duration": 9,
    "start_time": "2021-12-05T17:18:41.818Z"
   },
   {
    "duration": 37,
    "start_time": "2021-12-05T17:18:41.830Z"
   },
   {
    "duration": 5,
    "start_time": "2021-12-05T17:19:53.945Z"
   },
   {
    "duration": 12,
    "start_time": "2021-12-05T17:20:06.375Z"
   },
   {
    "duration": 4,
    "start_time": "2021-12-05T17:22:17.295Z"
   },
   {
    "duration": 189,
    "start_time": "2021-12-05T17:22:17.303Z"
   },
   {
    "duration": 158,
    "start_time": "2021-12-05T17:22:17.496Z"
   },
   {
    "duration": 169,
    "start_time": "2021-12-05T17:22:17.660Z"
   },
   {
    "duration": 5,
    "start_time": "2021-12-05T17:22:17.831Z"
   },
   {
    "duration": 20,
    "start_time": "2021-12-05T17:22:17.839Z"
   },
   {
    "duration": 7,
    "start_time": "2021-12-05T17:22:17.861Z"
   },
   {
    "duration": 25,
    "start_time": "2021-12-05T17:22:17.871Z"
   },
   {
    "duration": 18,
    "start_time": "2021-12-05T17:22:17.899Z"
   },
   {
    "duration": 39,
    "start_time": "2021-12-05T17:22:17.920Z"
   },
   {
    "duration": 14,
    "start_time": "2021-12-05T17:22:17.961Z"
   },
   {
    "duration": 183,
    "start_time": "2021-12-05T17:22:17.978Z"
   },
   {
    "duration": 196,
    "start_time": "2021-12-05T17:22:18.164Z"
   },
   {
    "duration": 97,
    "start_time": "2021-12-05T17:22:18.364Z"
   },
   {
    "duration": 8,
    "start_time": "2021-12-05T17:22:18.464Z"
   },
   {
    "duration": 8,
    "start_time": "2021-12-05T17:22:18.476Z"
   },
   {
    "duration": 3,
    "start_time": "2021-12-05T17:22:18.487Z"
   },
   {
    "duration": 6,
    "start_time": "2021-12-05T17:22:18.560Z"
   },
   {
    "duration": 6,
    "start_time": "2021-12-05T17:22:18.568Z"
   },
   {
    "duration": 7,
    "start_time": "2021-12-05T17:22:18.576Z"
   },
   {
    "duration": 6,
    "start_time": "2021-12-05T17:22:18.585Z"
   },
   {
    "duration": 5,
    "start_time": "2021-12-05T17:22:18.593Z"
   },
   {
    "duration": 63,
    "start_time": "2021-12-05T17:22:18.602Z"
   },
   {
    "duration": 10,
    "start_time": "2021-12-05T17:22:18.667Z"
   },
   {
    "duration": 10,
    "start_time": "2021-12-05T17:22:18.680Z"
   },
   {
    "duration": 4964,
    "start_time": "2021-12-05T17:22:18.692Z"
   },
   {
    "duration": 8,
    "start_time": "2021-12-05T17:22:23.660Z"
   },
   {
    "duration": 5037,
    "start_time": "2021-12-05T17:22:23.670Z"
   },
   {
    "duration": 8,
    "start_time": "2021-12-05T17:22:28.709Z"
   },
   {
    "duration": 5110,
    "start_time": "2021-12-05T17:22:28.719Z"
   },
   {
    "duration": 9,
    "start_time": "2021-12-05T17:22:33.831Z"
   },
   {
    "duration": 17,
    "start_time": "2021-12-05T17:22:33.842Z"
   },
   {
    "duration": 5,
    "start_time": "2021-12-05T17:22:33.862Z"
   },
   {
    "duration": 14,
    "start_time": "2021-12-05T17:22:33.870Z"
   },
   {
    "duration": 8,
    "start_time": "2021-12-05T17:23:45.674Z"
   },
   {
    "duration": 8,
    "start_time": "2021-12-05T17:24:29.789Z"
   },
   {
    "duration": 8,
    "start_time": "2021-12-05T17:24:32.298Z"
   },
   {
    "duration": 15,
    "start_time": "2021-12-05T17:27:31.501Z"
   },
   {
    "duration": 4,
    "start_time": "2021-12-05T17:32:33.644Z"
   },
   {
    "duration": 179,
    "start_time": "2021-12-05T17:32:33.650Z"
   },
   {
    "duration": 172,
    "start_time": "2021-12-05T17:32:33.831Z"
   },
   {
    "duration": 164,
    "start_time": "2021-12-05T17:32:34.006Z"
   },
   {
    "duration": 6,
    "start_time": "2021-12-05T17:32:34.172Z"
   },
   {
    "duration": 9,
    "start_time": "2021-12-05T17:32:34.180Z"
   },
   {
    "duration": 7,
    "start_time": "2021-12-05T17:32:34.192Z"
   },
   {
    "duration": 17,
    "start_time": "2021-12-05T17:32:34.203Z"
   },
   {
    "duration": 49,
    "start_time": "2021-12-05T17:32:34.224Z"
   },
   {
    "duration": 17,
    "start_time": "2021-12-05T17:32:34.275Z"
   },
   {
    "duration": 12,
    "start_time": "2021-12-05T17:32:34.294Z"
   },
   {
    "duration": 107,
    "start_time": "2021-12-05T17:32:34.361Z"
   },
   {
    "duration": 90,
    "start_time": "2021-12-05T17:32:34.470Z"
   },
   {
    "duration": 96,
    "start_time": "2021-12-05T17:32:34.563Z"
   },
   {
    "duration": 9,
    "start_time": "2021-12-05T17:32:34.662Z"
   },
   {
    "duration": 91,
    "start_time": "2021-12-05T17:32:34.674Z"
   },
   {
    "duration": 6,
    "start_time": "2021-12-05T17:32:34.768Z"
   },
   {
    "duration": 10,
    "start_time": "2021-12-05T17:32:34.776Z"
   },
   {
    "duration": 10,
    "start_time": "2021-12-05T17:32:34.788Z"
   },
   {
    "duration": 6,
    "start_time": "2021-12-05T17:32:34.800Z"
   },
   {
    "duration": 52,
    "start_time": "2021-12-05T17:32:34.808Z"
   },
   {
    "duration": 4,
    "start_time": "2021-12-05T17:32:34.863Z"
   },
   {
    "duration": 12,
    "start_time": "2021-12-05T17:32:34.872Z"
   },
   {
    "duration": 11,
    "start_time": "2021-12-05T17:32:34.886Z"
   },
   {
    "duration": 11,
    "start_time": "2021-12-05T17:32:34.899Z"
   },
   {
    "duration": 5647,
    "start_time": "2021-12-05T17:32:34.912Z"
   },
   {
    "duration": 9,
    "start_time": "2021-12-05T17:32:40.561Z"
   },
   {
    "duration": 5411,
    "start_time": "2021-12-05T17:32:40.572Z"
   },
   {
    "duration": 10,
    "start_time": "2021-12-05T17:32:45.985Z"
   },
   {
    "duration": 5387,
    "start_time": "2021-12-05T17:32:45.998Z"
   },
   {
    "duration": 9,
    "start_time": "2021-12-05T17:32:51.387Z"
   },
   {
    "duration": 11,
    "start_time": "2021-12-05T17:32:51.398Z"
   },
   {
    "duration": 7,
    "start_time": "2021-12-05T17:32:51.411Z"
   },
   {
    "duration": 39,
    "start_time": "2021-12-05T17:32:51.420Z"
   },
   {
    "duration": 15,
    "start_time": "2021-12-05T17:32:51.462Z"
   },
   {
    "duration": 1063,
    "start_time": "2022-02-18T15:30:55.116Z"
   },
   {
    "duration": 140,
    "start_time": "2022-02-18T15:30:56.181Z"
   },
   {
    "duration": 142,
    "start_time": "2022-02-18T15:30:56.323Z"
   },
   {
    "duration": 143,
    "start_time": "2022-02-18T15:30:56.467Z"
   },
   {
    "duration": 4,
    "start_time": "2022-02-18T15:30:56.612Z"
   },
   {
    "duration": 10,
    "start_time": "2022-02-18T15:30:56.618Z"
   },
   {
    "duration": 10,
    "start_time": "2022-02-18T15:30:56.630Z"
   },
   {
    "duration": 18,
    "start_time": "2022-02-18T15:30:56.643Z"
   },
   {
    "duration": 17,
    "start_time": "2022-02-18T15:30:56.664Z"
   },
   {
    "duration": 19,
    "start_time": "2022-02-18T15:30:56.708Z"
   },
   {
    "duration": 14,
    "start_time": "2022-02-18T15:30:56.729Z"
   },
   {
    "duration": 164,
    "start_time": "2022-02-18T15:30:56.745Z"
   },
   {
    "duration": 107,
    "start_time": "2022-02-18T15:30:56.913Z"
   },
   {
    "duration": 86,
    "start_time": "2022-02-18T15:30:57.022Z"
   },
   {
    "duration": 100,
    "start_time": "2022-02-18T15:30:57.110Z"
   },
   {
    "duration": 19,
    "start_time": "2022-02-18T15:30:57.212Z"
   },
   {
    "duration": 5,
    "start_time": "2022-02-18T15:30:57.233Z"
   },
   {
    "duration": 13,
    "start_time": "2022-02-18T15:30:57.240Z"
   },
   {
    "duration": 9,
    "start_time": "2022-02-18T15:30:57.254Z"
   },
   {
    "duration": 15,
    "start_time": "2022-02-18T15:30:57.264Z"
   },
   {
    "duration": 8,
    "start_time": "2022-02-18T15:30:57.281Z"
   },
   {
    "duration": 7,
    "start_time": "2022-02-18T15:30:57.291Z"
   },
   {
    "duration": 15,
    "start_time": "2022-02-18T15:30:57.308Z"
   },
   {
    "duration": 9,
    "start_time": "2022-02-18T15:30:57.325Z"
   },
   {
    "duration": 9,
    "start_time": "2022-02-18T15:30:57.336Z"
   },
   {
    "duration": 3276,
    "start_time": "2022-02-18T15:30:57.347Z"
   },
   {
    "duration": 7,
    "start_time": "2022-02-18T15:31:00.625Z"
   },
   {
    "duration": 3318,
    "start_time": "2022-02-18T15:31:00.633Z"
   },
   {
    "duration": 7,
    "start_time": "2022-02-18T15:31:03.953Z"
   },
   {
    "duration": 3377,
    "start_time": "2022-02-18T15:31:03.962Z"
   },
   {
    "duration": 7,
    "start_time": "2022-02-18T15:31:07.341Z"
   },
   {
    "duration": 11,
    "start_time": "2022-02-18T15:31:07.350Z"
   },
   {
    "duration": 13,
    "start_time": "2022-02-18T15:31:07.362Z"
   },
   {
    "duration": 12,
    "start_time": "2022-02-18T15:31:07.377Z"
   },
   {
    "duration": 23,
    "start_time": "2022-02-18T15:31:07.390Z"
   }
  ],
  "kernelspec": {
   "display_name": "Python 3",
   "language": "python",
   "name": "python3"
  },
  "language_info": {
   "codemirror_mode": {
    "name": "ipython",
    "version": 3
   },
   "file_extension": ".py",
   "mimetype": "text/x-python",
   "name": "python",
   "nbconvert_exporter": "python",
   "pygments_lexer": "ipython3",
   "version": "3.7.8"
  },
  "toc": {
   "base_numbering": 1,
   "nav_menu": {},
   "number_sections": true,
   "sideBar": true,
   "skip_h1_title": true,
   "title_cell": "Table of Contents",
   "title_sidebar": "Contents",
   "toc_cell": true,
   "toc_position": {
    "height": "calc(100% - 180px)",
    "left": "10px",
    "top": "150px",
    "width": "286.237px"
   },
   "toc_section_display": true,
   "toc_window_display": false
  }
 },
 "nbformat": 4,
 "nbformat_minor": 2
}
