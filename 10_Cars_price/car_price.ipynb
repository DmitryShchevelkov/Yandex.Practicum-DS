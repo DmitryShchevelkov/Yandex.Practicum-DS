{
 "cells": [
  {
   "cell_type": "markdown",
   "metadata": {},
   "source": [
    "# Определение стоимости автомобилей"
   ]
  },
  {
   "cell_type": "markdown",
   "metadata": {},
   "source": [
    "Сервис по продаже автомобилей с пробегом «Не бит, не крашен» разрабатывает приложение для привлечения новых клиентов. В нём можно быстро узнать рыночную стоимость своего автомобиля. В вашем распоряжении исторические данные: технические характеристики, комплектации и цены автомобилей. Вам нужно построить модель для определения стоимости. \n",
    "\n",
    "Заказчику важны:\n",
    "\n",
    "- качество предсказания;\n",
    "- скорость предсказания;\n",
    "- время обучения."
   ]
  },
  {
   "cell_type": "markdown",
   "metadata": {},
   "source": [
    "## Подготовка данных"
   ]
  },
  {
   "cell_type": "code",
   "execution_count": 1,
   "metadata": {},
   "outputs": [],
   "source": [
    "import pandas as pd\n",
    "from sklearn.model_selection import train_test_split\n",
    "from sklearn.linear_model import LinearRegression\n",
    "from sklearn.metrics import mean_squared_error\n",
    "import numpy as np\n",
    "from lightgbm import LGBMRegressor\n",
    "from sklearn.model_selection import cross_val_score\n",
    "from catboost import CatBoostRegressor, Pool\n",
    "from sklearn.model_selection import GridSearchCV\n",
    "from sklearn.tree import DecisionTreeRegressor\n",
    "from sklearn.preprocessing import OrdinalEncoder\n",
    "import matplotlib.pyplot as plt"
   ]
  },
  {
   "cell_type": "markdown",
   "metadata": {},
   "source": [
    "### Скачаем и изучим данные для проекта."
   ]
  },
  {
   "cell_type": "code",
   "execution_count": 2,
   "metadata": {},
   "outputs": [],
   "source": [
    "df = pd.read_csv('/datasets/autos.csv')"
   ]
  },
  {
   "cell_type": "code",
   "execution_count": 3,
   "metadata": {},
   "outputs": [
    {
     "data": {
      "text/html": [
       "<div>\n",
       "<style scoped>\n",
       "    .dataframe tbody tr th:only-of-type {\n",
       "        vertical-align: middle;\n",
       "    }\n",
       "\n",
       "    .dataframe tbody tr th {\n",
       "        vertical-align: top;\n",
       "    }\n",
       "\n",
       "    .dataframe thead th {\n",
       "        text-align: right;\n",
       "    }\n",
       "</style>\n",
       "<table border=\"1\" class=\"dataframe\">\n",
       "  <thead>\n",
       "    <tr style=\"text-align: right;\">\n",
       "      <th></th>\n",
       "      <th>DateCrawled</th>\n",
       "      <th>Price</th>\n",
       "      <th>VehicleType</th>\n",
       "      <th>RegistrationYear</th>\n",
       "      <th>Gearbox</th>\n",
       "      <th>Power</th>\n",
       "      <th>Model</th>\n",
       "      <th>Kilometer</th>\n",
       "      <th>RegistrationMonth</th>\n",
       "      <th>FuelType</th>\n",
       "      <th>Brand</th>\n",
       "      <th>NotRepaired</th>\n",
       "      <th>DateCreated</th>\n",
       "      <th>NumberOfPictures</th>\n",
       "      <th>PostalCode</th>\n",
       "      <th>LastSeen</th>\n",
       "    </tr>\n",
       "  </thead>\n",
       "  <tbody>\n",
       "    <tr>\n",
       "      <td>0</td>\n",
       "      <td>2016-03-24 11:52:17</td>\n",
       "      <td>480</td>\n",
       "      <td>NaN</td>\n",
       "      <td>1993</td>\n",
       "      <td>manual</td>\n",
       "      <td>0</td>\n",
       "      <td>golf</td>\n",
       "      <td>150000</td>\n",
       "      <td>0</td>\n",
       "      <td>petrol</td>\n",
       "      <td>volkswagen</td>\n",
       "      <td>NaN</td>\n",
       "      <td>2016-03-24 00:00:00</td>\n",
       "      <td>0</td>\n",
       "      <td>70435</td>\n",
       "      <td>2016-04-07 03:16:57</td>\n",
       "    </tr>\n",
       "    <tr>\n",
       "      <td>1</td>\n",
       "      <td>2016-03-24 10:58:45</td>\n",
       "      <td>18300</td>\n",
       "      <td>coupe</td>\n",
       "      <td>2011</td>\n",
       "      <td>manual</td>\n",
       "      <td>190</td>\n",
       "      <td>NaN</td>\n",
       "      <td>125000</td>\n",
       "      <td>5</td>\n",
       "      <td>gasoline</td>\n",
       "      <td>audi</td>\n",
       "      <td>yes</td>\n",
       "      <td>2016-03-24 00:00:00</td>\n",
       "      <td>0</td>\n",
       "      <td>66954</td>\n",
       "      <td>2016-04-07 01:46:50</td>\n",
       "    </tr>\n",
       "    <tr>\n",
       "      <td>2</td>\n",
       "      <td>2016-03-14 12:52:21</td>\n",
       "      <td>9800</td>\n",
       "      <td>suv</td>\n",
       "      <td>2004</td>\n",
       "      <td>auto</td>\n",
       "      <td>163</td>\n",
       "      <td>grand</td>\n",
       "      <td>125000</td>\n",
       "      <td>8</td>\n",
       "      <td>gasoline</td>\n",
       "      <td>jeep</td>\n",
       "      <td>NaN</td>\n",
       "      <td>2016-03-14 00:00:00</td>\n",
       "      <td>0</td>\n",
       "      <td>90480</td>\n",
       "      <td>2016-04-05 12:47:46</td>\n",
       "    </tr>\n",
       "    <tr>\n",
       "      <td>3</td>\n",
       "      <td>2016-03-17 16:54:04</td>\n",
       "      <td>1500</td>\n",
       "      <td>small</td>\n",
       "      <td>2001</td>\n",
       "      <td>manual</td>\n",
       "      <td>75</td>\n",
       "      <td>golf</td>\n",
       "      <td>150000</td>\n",
       "      <td>6</td>\n",
       "      <td>petrol</td>\n",
       "      <td>volkswagen</td>\n",
       "      <td>no</td>\n",
       "      <td>2016-03-17 00:00:00</td>\n",
       "      <td>0</td>\n",
       "      <td>91074</td>\n",
       "      <td>2016-03-17 17:40:17</td>\n",
       "    </tr>\n",
       "    <tr>\n",
       "      <td>4</td>\n",
       "      <td>2016-03-31 17:25:20</td>\n",
       "      <td>3600</td>\n",
       "      <td>small</td>\n",
       "      <td>2008</td>\n",
       "      <td>manual</td>\n",
       "      <td>69</td>\n",
       "      <td>fabia</td>\n",
       "      <td>90000</td>\n",
       "      <td>7</td>\n",
       "      <td>gasoline</td>\n",
       "      <td>skoda</td>\n",
       "      <td>no</td>\n",
       "      <td>2016-03-31 00:00:00</td>\n",
       "      <td>0</td>\n",
       "      <td>60437</td>\n",
       "      <td>2016-04-06 10:17:21</td>\n",
       "    </tr>\n",
       "    <tr>\n",
       "      <td>5</td>\n",
       "      <td>2016-04-04 17:36:23</td>\n",
       "      <td>650</td>\n",
       "      <td>sedan</td>\n",
       "      <td>1995</td>\n",
       "      <td>manual</td>\n",
       "      <td>102</td>\n",
       "      <td>3er</td>\n",
       "      <td>150000</td>\n",
       "      <td>10</td>\n",
       "      <td>petrol</td>\n",
       "      <td>bmw</td>\n",
       "      <td>yes</td>\n",
       "      <td>2016-04-04 00:00:00</td>\n",
       "      <td>0</td>\n",
       "      <td>33775</td>\n",
       "      <td>2016-04-06 19:17:07</td>\n",
       "    </tr>\n",
       "    <tr>\n",
       "      <td>6</td>\n",
       "      <td>2016-04-01 20:48:51</td>\n",
       "      <td>2200</td>\n",
       "      <td>convertible</td>\n",
       "      <td>2004</td>\n",
       "      <td>manual</td>\n",
       "      <td>109</td>\n",
       "      <td>2_reihe</td>\n",
       "      <td>150000</td>\n",
       "      <td>8</td>\n",
       "      <td>petrol</td>\n",
       "      <td>peugeot</td>\n",
       "      <td>no</td>\n",
       "      <td>2016-04-01 00:00:00</td>\n",
       "      <td>0</td>\n",
       "      <td>67112</td>\n",
       "      <td>2016-04-05 18:18:39</td>\n",
       "    </tr>\n",
       "    <tr>\n",
       "      <td>7</td>\n",
       "      <td>2016-03-21 18:54:38</td>\n",
       "      <td>0</td>\n",
       "      <td>sedan</td>\n",
       "      <td>1980</td>\n",
       "      <td>manual</td>\n",
       "      <td>50</td>\n",
       "      <td>other</td>\n",
       "      <td>40000</td>\n",
       "      <td>7</td>\n",
       "      <td>petrol</td>\n",
       "      <td>volkswagen</td>\n",
       "      <td>no</td>\n",
       "      <td>2016-03-21 00:00:00</td>\n",
       "      <td>0</td>\n",
       "      <td>19348</td>\n",
       "      <td>2016-03-25 16:47:58</td>\n",
       "    </tr>\n",
       "    <tr>\n",
       "      <td>8</td>\n",
       "      <td>2016-04-04 23:42:13</td>\n",
       "      <td>14500</td>\n",
       "      <td>bus</td>\n",
       "      <td>2014</td>\n",
       "      <td>manual</td>\n",
       "      <td>125</td>\n",
       "      <td>c_max</td>\n",
       "      <td>30000</td>\n",
       "      <td>8</td>\n",
       "      <td>petrol</td>\n",
       "      <td>ford</td>\n",
       "      <td>NaN</td>\n",
       "      <td>2016-04-04 00:00:00</td>\n",
       "      <td>0</td>\n",
       "      <td>94505</td>\n",
       "      <td>2016-04-04 23:42:13</td>\n",
       "    </tr>\n",
       "    <tr>\n",
       "      <td>9</td>\n",
       "      <td>2016-03-17 10:53:50</td>\n",
       "      <td>999</td>\n",
       "      <td>small</td>\n",
       "      <td>1998</td>\n",
       "      <td>manual</td>\n",
       "      <td>101</td>\n",
       "      <td>golf</td>\n",
       "      <td>150000</td>\n",
       "      <td>0</td>\n",
       "      <td>NaN</td>\n",
       "      <td>volkswagen</td>\n",
       "      <td>NaN</td>\n",
       "      <td>2016-03-17 00:00:00</td>\n",
       "      <td>0</td>\n",
       "      <td>27472</td>\n",
       "      <td>2016-03-31 17:17:06</td>\n",
       "    </tr>\n",
       "  </tbody>\n",
       "</table>\n",
       "</div>"
      ],
      "text/plain": [
       "           DateCrawled  Price  VehicleType  RegistrationYear Gearbox  Power  \\\n",
       "0  2016-03-24 11:52:17    480          NaN              1993  manual      0   \n",
       "1  2016-03-24 10:58:45  18300        coupe              2011  manual    190   \n",
       "2  2016-03-14 12:52:21   9800          suv              2004    auto    163   \n",
       "3  2016-03-17 16:54:04   1500        small              2001  manual     75   \n",
       "4  2016-03-31 17:25:20   3600        small              2008  manual     69   \n",
       "5  2016-04-04 17:36:23    650        sedan              1995  manual    102   \n",
       "6  2016-04-01 20:48:51   2200  convertible              2004  manual    109   \n",
       "7  2016-03-21 18:54:38      0        sedan              1980  manual     50   \n",
       "8  2016-04-04 23:42:13  14500          bus              2014  manual    125   \n",
       "9  2016-03-17 10:53:50    999        small              1998  manual    101   \n",
       "\n",
       "     Model  Kilometer  RegistrationMonth  FuelType       Brand NotRepaired  \\\n",
       "0     golf     150000                  0    petrol  volkswagen         NaN   \n",
       "1      NaN     125000                  5  gasoline        audi         yes   \n",
       "2    grand     125000                  8  gasoline        jeep         NaN   \n",
       "3     golf     150000                  6    petrol  volkswagen          no   \n",
       "4    fabia      90000                  7  gasoline       skoda          no   \n",
       "5      3er     150000                 10    petrol         bmw         yes   \n",
       "6  2_reihe     150000                  8    petrol     peugeot          no   \n",
       "7    other      40000                  7    petrol  volkswagen          no   \n",
       "8    c_max      30000                  8    petrol        ford         NaN   \n",
       "9     golf     150000                  0       NaN  volkswagen         NaN   \n",
       "\n",
       "           DateCreated  NumberOfPictures  PostalCode             LastSeen  \n",
       "0  2016-03-24 00:00:00                 0       70435  2016-04-07 03:16:57  \n",
       "1  2016-03-24 00:00:00                 0       66954  2016-04-07 01:46:50  \n",
       "2  2016-03-14 00:00:00                 0       90480  2016-04-05 12:47:46  \n",
       "3  2016-03-17 00:00:00                 0       91074  2016-03-17 17:40:17  \n",
       "4  2016-03-31 00:00:00                 0       60437  2016-04-06 10:17:21  \n",
       "5  2016-04-04 00:00:00                 0       33775  2016-04-06 19:17:07  \n",
       "6  2016-04-01 00:00:00                 0       67112  2016-04-05 18:18:39  \n",
       "7  2016-03-21 00:00:00                 0       19348  2016-03-25 16:47:58  \n",
       "8  2016-04-04 00:00:00                 0       94505  2016-04-04 23:42:13  \n",
       "9  2016-03-17 00:00:00                 0       27472  2016-03-31 17:17:06  "
      ]
     },
     "execution_count": 3,
     "metadata": {},
     "output_type": "execute_result"
    }
   ],
   "source": [
    "df.head(10)"
   ]
  },
  {
   "cell_type": "code",
   "execution_count": 4,
   "metadata": {},
   "outputs": [
    {
     "name": "stdout",
     "output_type": "stream",
     "text": [
      "<class 'pandas.core.frame.DataFrame'>\n",
      "RangeIndex: 354369 entries, 0 to 354368\n",
      "Data columns (total 16 columns):\n",
      "DateCrawled          354369 non-null object\n",
      "Price                354369 non-null int64\n",
      "VehicleType          316879 non-null object\n",
      "RegistrationYear     354369 non-null int64\n",
      "Gearbox              334536 non-null object\n",
      "Power                354369 non-null int64\n",
      "Model                334664 non-null object\n",
      "Kilometer            354369 non-null int64\n",
      "RegistrationMonth    354369 non-null int64\n",
      "FuelType             321474 non-null object\n",
      "Brand                354369 non-null object\n",
      "NotRepaired          283215 non-null object\n",
      "DateCreated          354369 non-null object\n",
      "NumberOfPictures     354369 non-null int64\n",
      "PostalCode           354369 non-null int64\n",
      "LastSeen             354369 non-null object\n",
      "dtypes: int64(7), object(9)\n",
      "memory usage: 43.3+ MB\n"
     ]
    }
   ],
   "source": [
    "df.info()"
   ]
  },
  {
   "cell_type": "markdown",
   "metadata": {},
   "source": [
    "### Обработка пропущенных значений\n",
    "Посмотрим сколько пропущенных значений."
   ]
  },
  {
   "cell_type": "code",
   "execution_count": 5,
   "metadata": {},
   "outputs": [
    {
     "data": {
      "text/plain": [
       "DateCrawled              0\n",
       "Price                    0\n",
       "VehicleType          37490\n",
       "RegistrationYear         0\n",
       "Gearbox              19833\n",
       "Power                    0\n",
       "Model                19705\n",
       "Kilometer                0\n",
       "RegistrationMonth        0\n",
       "FuelType             32895\n",
       "Brand                    0\n",
       "NotRepaired          71154\n",
       "DateCreated              0\n",
       "NumberOfPictures         0\n",
       "PostalCode               0\n",
       "LastSeen                 0\n",
       "dtype: int64"
      ]
     },
     "execution_count": 5,
     "metadata": {},
     "output_type": "execute_result"
    }
   ],
   "source": [
    "df.isna().sum()"
   ]
  },
  {
   "cell_type": "markdown",
   "metadata": {},
   "source": [
    "Больше всего пропущенных значений в столбце \"NotRepaired\". Скорее всего он не заполнялся, когда машина не была в ремонте, т.е. можно заменить значения на \"__no__\"."
   ]
  },
  {
   "cell_type": "code",
   "execution_count": 6,
   "metadata": {},
   "outputs": [],
   "source": [
    "df['NotRepaired'] = df['NotRepaired'].fillna('no')"
   ]
  },
  {
   "cell_type": "markdown",
   "metadata": {},
   "source": [
    "Посмотрим на значения столбца \"FuelType\"."
   ]
  },
  {
   "cell_type": "code",
   "execution_count": 7,
   "metadata": {},
   "outputs": [
    {
     "data": {
      "text/plain": [
       "petrol      216352\n",
       "gasoline     98720\n",
       "lpg           5310\n",
       "cng            565\n",
       "hybrid         233\n",
       "other          204\n",
       "electric        90\n",
       "Name: FuelType, dtype: int64"
      ]
     },
     "execution_count": 7,
     "metadata": {},
     "output_type": "execute_result"
    }
   ],
   "source": [
    "df['FuelType'].value_counts()"
   ]
  },
  {
   "cell_type": "markdown",
   "metadata": {},
   "source": [
    "Значение \"petrol\" и \"gasoline\" - это одно и то же, так называют бензин в Великобритании и в США, так что можно заменить \"gasoline\" на \"petrol\". А поскольку подавляющее число значений столбца - это \"petrol\" (остальные значения лишь 2% от всех), да и обычно топливом по умолчанию у автомобиля является бензин, если не указывается другое топливо, то пропущенные значения тоже можно заменить на \"petrol\"."
   ]
  },
  {
   "cell_type": "code",
   "execution_count": 8,
   "metadata": {},
   "outputs": [],
   "source": [
    "df['FuelType'] = df['FuelType'].fillna('petrol').replace(to_replace =\"gasoline\",\n",
    "                                                            value =\"petrol\")"
   ]
  },
  {
   "cell_type": "code",
   "execution_count": 9,
   "metadata": {},
   "outputs": [
    {
     "data": {
      "text/plain": [
       "manual    268251\n",
       "auto       66285\n",
       "Name: Gearbox, dtype: int64"
      ]
     },
     "execution_count": 9,
     "metadata": {},
     "output_type": "execute_result"
    }
   ],
   "source": [
    "df['Gearbox'].unique()\n",
    "df['Gearbox'].value_counts()"
   ]
  },
  {
   "cell_type": "markdown",
   "metadata": {},
   "source": [
    "Значений столбца 'Gearbox' только 2: ручная коробка передач и автоматическая (без вариаций автоматической коробки, что может сказываться на значение цены в разную сторону). Обычно машины с автоматической коробкой передач стоят дороже, и это подается как преимущество, следовательно, если не указано, что коробка автоматическая - то скорее всего она механическая и мы можем заполнить пропущенные значения на \"manual\"."
   ]
  },
  {
   "cell_type": "code",
   "execution_count": 10,
   "metadata": {},
   "outputs": [],
   "source": [
    "df['Gearbox'] = df['Gearbox'].fillna('manual')"
   ]
  },
  {
   "cell_type": "code",
   "execution_count": 11,
   "metadata": {},
   "outputs": [
    {
     "data": {
      "text/plain": [
       "DateCrawled              0\n",
       "Price                    0\n",
       "VehicleType          37490\n",
       "RegistrationYear         0\n",
       "Gearbox                  0\n",
       "Power                    0\n",
       "Model                19705\n",
       "Kilometer                0\n",
       "RegistrationMonth        0\n",
       "FuelType                 0\n",
       "Brand                    0\n",
       "NotRepaired              0\n",
       "DateCreated              0\n",
       "NumberOfPictures         0\n",
       "PostalCode               0\n",
       "LastSeen                 0\n",
       "dtype: int64"
      ]
     },
     "execution_count": 11,
     "metadata": {},
     "output_type": "execute_result"
    }
   ],
   "source": [
    "df.isna().sum()"
   ]
  },
  {
   "cell_type": "markdown",
   "metadata": {},
   "source": [
    "Остается 2 колонки с пропусками. В большинстве случаев тип кузова однозначно определяется моделью автомобиля (кроме случаев исполнения одной модели в кузове \"уневерсал\" и \"седан\" или \"кабриолет\" и \"не кабриолет\"), так что у этих признаков достаточно высокая коррелляция и можно не использовать признак \"VehicleType\" для обучения модели. \n",
    "\n",
    "А вот пропуски в модели автомобиля могут быть критичны, так что придется от них избавится."
   ]
  },
  {
   "cell_type": "code",
   "execution_count": 12,
   "metadata": {},
   "outputs": [
    {
     "data": {
      "text/plain": [
       "sedan          91457\n",
       "small          79831\n",
       "wagon          65166\n",
       "bus            28775\n",
       "convertible    20203\n",
       "coupe          16163\n",
       "suv            11996\n",
       "other           3288\n",
       "Name: VehicleType, dtype: int64"
      ]
     },
     "execution_count": 12,
     "metadata": {},
     "output_type": "execute_result"
    }
   ],
   "source": [
    "df['VehicleType'].value_counts()"
   ]
  },
  {
   "cell_type": "code",
   "execution_count": 13,
   "metadata": {},
   "outputs": [
    {
     "data": {
      "text/plain": [
       "golf                  29232\n",
       "other                 24421\n",
       "3er                   19761\n",
       "polo                  13066\n",
       "corsa                 12570\n",
       "                      ...  \n",
       "serie_2                   8\n",
       "serie_3                   4\n",
       "rangerover                4\n",
       "range_rover_evoque        2\n",
       "serie_1                   2\n",
       "Name: Model, Length: 250, dtype: int64"
      ]
     },
     "execution_count": 13,
     "metadata": {},
     "output_type": "execute_result"
    }
   ],
   "source": [
    "df['Model'].value_counts()"
   ]
  },
  {
   "cell_type": "code",
   "execution_count": 14,
   "metadata": {},
   "outputs": [],
   "source": [
    "df.dropna(subset = ['Model'], inplace=True)"
   ]
  },
  {
   "cell_type": "code",
   "execution_count": 15,
   "metadata": {},
   "outputs": [
    {
     "name": "stdout",
     "output_type": "stream",
     "text": [
      "<class 'pandas.core.frame.DataFrame'>\n",
      "Int64Index: 334664 entries, 0 to 354368\n",
      "Data columns (total 16 columns):\n",
      "DateCrawled          334664 non-null object\n",
      "Price                334664 non-null int64\n",
      "VehicleType          304002 non-null object\n",
      "RegistrationYear     334664 non-null int64\n",
      "Gearbox              334664 non-null object\n",
      "Power                334664 non-null int64\n",
      "Model                334664 non-null object\n",
      "Kilometer            334664 non-null int64\n",
      "RegistrationMonth    334664 non-null int64\n",
      "FuelType             334664 non-null object\n",
      "Brand                334664 non-null object\n",
      "NotRepaired          334664 non-null object\n",
      "DateCreated          334664 non-null object\n",
      "NumberOfPictures     334664 non-null int64\n",
      "PostalCode           334664 non-null int64\n",
      "LastSeen             334664 non-null object\n",
      "dtypes: int64(7), object(9)\n",
      "memory usage: 43.4+ MB\n"
     ]
    }
   ],
   "source": [
    "df.isna().sum()\n",
    "df.info()"
   ]
  },
  {
   "cell_type": "markdown",
   "metadata": {},
   "source": [
    "### Подготовка датасетов для обучения моделей\n",
    "\n",
    "Подготовим данные с признаками и целевым признаком. \n",
    "Исключим из датасета признаки не влияющие на цену:\n",
    "- __DateCrawled__ - не должна влиять на цену;\n",
    "- __RegistrationMonth__ - обычно на цену влияет год выпуска автомобиля, и неважно какой месяц;\n",
    "- __Brand__ - производители автомобилей стараются не называть модели машин одинаково с конкурентами, поэтому информация о бренде будет лишней (по марке можно определить бренд);\n",
    "- __NumberOfPictures__ - количество фотографий тоже не может повлиять на цену;\n",
    "- __DateCreated__ - не должна влиять на цену;\n",
    "- __PostalCode__ - не должен влиять на цену; \n",
    "- __LastSeen__ - не должна влиять на цену;\n",
    "- __VehicleType__ - коррелируется с \"Model\";"
   ]
  },
  {
   "cell_type": "code",
   "execution_count": 16,
   "metadata": {},
   "outputs": [],
   "source": [
    "target = df['Price']\n",
    "features = df.drop(['DateCrawled', 'VehicleType', 'Price', 'RegistrationMonth', 'Brand', 'NumberOfPictures', 'DateCreated', 'PostalCode', 'LastSeen'], axis=1)"
   ]
  },
  {
   "cell_type": "markdown",
   "metadata": {},
   "source": [
    "Разделим датасет на обучающую и валидационную выборку."
   ]
  },
  {
   "cell_type": "code",
   "execution_count": 17,
   "metadata": {},
   "outputs": [],
   "source": [
    "features_train, features_valid, target_train, target_valid = train_test_split(features, target, \n",
    "                                                    test_size=0.25, \n",
    "                                                    random_state=12345)"
   ]
  },
  {
   "cell_type": "markdown",
   "metadata": {},
   "source": [
    "Для моделей, не умеющих работать с категориальными признаками, закодируем их техникой прямого кодирования One-Hot Encoding"
   ]
  },
  {
   "cell_type": "code",
   "execution_count": 18,
   "metadata": {},
   "outputs": [],
   "source": [
    "features_ohe = pd.get_dummies(features, columns=['Gearbox', 'Model', 'FuelType', 'NotRepaired'], drop_first=True)"
   ]
  },
  {
   "cell_type": "code",
   "execution_count": 19,
   "metadata": {},
   "outputs": [],
   "source": [
    "features_train_ohe, features_valid_ohe, target_train_ohe, target_valid_ohe = train_test_split(features_ohe, target, \n",
    "                                                    test_size=0.25, \n",
    "                                                    random_state=12345)"
   ]
  },
  {
   "cell_type": "code",
   "execution_count": 20,
   "metadata": {},
   "outputs": [],
   "source": [
    "encoder = OrdinalEncoder()\n",
    "features_oe = features\n",
    "features_oe[['Gearbox', 'Model', 'FuelType', 'NotRepaired']] = encoder.fit_transform(features_oe[['Gearbox', 'Model', 'FuelType', 'NotRepaired']])"
   ]
  },
  {
   "cell_type": "code",
   "execution_count": 21,
   "metadata": {},
   "outputs": [],
   "source": [
    "features_train_oe, features_valid_oe, target_train_oe, target_valid_oe = train_test_split(features_oe, target, \n",
    "                                                    test_size=0.25, \n",
    "                                                    random_state=12345)"
   ]
  },
  {
   "cell_type": "markdown",
   "metadata": {},
   "source": [
    "Теперь данные для обучения и проверки моделей готовы."
   ]
  },
  {
   "cell_type": "markdown",
   "metadata": {},
   "source": [
    "## Обучение моделей"
   ]
  },
  {
   "cell_type": "markdown",
   "metadata": {},
   "source": [
    "### LinearRegression (обученная на данных, закодированных One-Hot Encoding)\n",
    "Обучим модель __LinearRegression__ на закодированных техникой One-Hot Encoding данных."
   ]
  },
  {
   "cell_type": "code",
   "execution_count": 22,
   "metadata": {},
   "outputs": [
    {
     "name": "stdout",
     "output_type": "stream",
     "text": [
      "CPU times: user 12.6 s, sys: 4.34 s, total: 16.9 s\n",
      "Wall time: 17 s\n"
     ]
    }
   ],
   "source": [
    "%%time\n",
    "model1 = LinearRegression().fit(features_train_ohe, target_train_ohe)"
   ]
  },
  {
   "cell_type": "code",
   "execution_count": 23,
   "metadata": {},
   "outputs": [
    {
     "name": "stdout",
     "output_type": "stream",
     "text": [
      "CPU times: user 87.5 ms, sys: 127 ms, total: 215 ms\n",
      "Wall time: 197 ms\n"
     ]
    }
   ],
   "source": [
    "%%time\n",
    "predicted_valid1 = model1.predict(features_valid_ohe)"
   ]
  },
  {
   "cell_type": "code",
   "execution_count": 24,
   "metadata": {},
   "outputs": [
    {
     "data": {
      "text/plain": [
       "3385.1857516647947"
      ]
     },
     "execution_count": 24,
     "metadata": {},
     "output_type": "execute_result"
    }
   ],
   "source": [
    "rmse1 = mean_squared_error(target_valid_ohe, predicted_valid1)** 0.5\n",
    "rmse1"
   ]
  },
  {
   "cell_type": "markdown",
   "metadata": {},
   "source": [
    "### LinearRegression (обученная на данных, закодированных OrdinalEncoder)"
   ]
  },
  {
   "cell_type": "code",
   "execution_count": 25,
   "metadata": {},
   "outputs": [
    {
     "name": "stdout",
     "output_type": "stream",
     "text": [
      "CPU times: user 58.8 ms, sys: 11.5 ms, total: 70.3 ms\n",
      "Wall time: 51.5 ms\n"
     ]
    }
   ],
   "source": [
    "%%time\n",
    "model_lroe = LinearRegression().fit(features_train_oe, target_train_oe)"
   ]
  },
  {
   "cell_type": "code",
   "execution_count": 26,
   "metadata": {},
   "outputs": [
    {
     "name": "stdout",
     "output_type": "stream",
     "text": [
      "CPU times: user 44.6 ms, sys: 64.9 ms, total: 109 ms\n",
      "Wall time: 141 ms\n"
     ]
    }
   ],
   "source": [
    "%%time\n",
    "predicted_valid_lroe = model_lroe.predict(features_valid_oe)"
   ]
  },
  {
   "cell_type": "code",
   "execution_count": 28,
   "metadata": {},
   "outputs": [
    {
     "data": {
      "text/plain": [
       "3961.348425836942"
      ]
     },
     "execution_count": 28,
     "metadata": {},
     "output_type": "execute_result"
    }
   ],
   "source": [
    "rmse_lroe = mean_squared_error(target_valid_oe, predicted_valid_lroe)** 0.5\n",
    "rmse_lroe"
   ]
  },
  {
   "cell_type": "markdown",
   "metadata": {},
   "source": [
    "### LightGBM"
   ]
  },
  {
   "cell_type": "markdown",
   "metadata": {},
   "source": [
    "Для обучения модели LightGBM, поменяем тип данных в категориальных признаках на \"category\" и создадим список м категориальными признаками."
   ]
  },
  {
   "cell_type": "code",
   "execution_count": 29,
   "metadata": {},
   "outputs": [],
   "source": [
    "cat = ['Gearbox', 'Model', 'FuelType', 'NotRepaired']"
   ]
  },
  {
   "cell_type": "code",
   "execution_count": 30,
   "metadata": {},
   "outputs": [],
   "source": [
    "features_train_lgbm = features_train.astype({\"Gearbox\":'category',\n",
    "                                              \"Model\":'category',\n",
    "                                              \"FuelType\":'category',\n",
    "                                              \"NotRepaired\":'category'})\n",
    "features_valid_lgbm = features_valid.astype({\"Gearbox\":'category',\n",
    "                                              \"Model\":'category',\n",
    "                                              \"FuelType\":'category',\n",
    "                                              \"NotRepaired\":'category'})"
   ]
  },
  {
   "cell_type": "markdown",
   "metadata": {},
   "source": [
    "Посмотрим какие значения гиперпараметров \"n_estimators\" и \"max_depth\" дают наилучшие показатели RMSE."
   ]
  },
  {
   "cell_type": "raw",
   "metadata": {},
   "source": [
    "data_n_estimators = pd.DataFrame(columns=['n_estimators', 'rmse2'])\n",
    "for n_est in range(1, 1000, 100):\n",
    "    model_2 = LGBMRegressor(n_estimators=n_est)\n",
    "    model_2.fit(features_train_lgbm, target_train)\n",
    "    predictions_valid2 = model_2.predict(features_valid_lgbm)\n",
    "    data_n_estimators = data_n_estimators.append({'n_estimators': n_est, \n",
    "                       'rmse2': mean_squared_error(target_valid, predictions_valid2)** 0.5},\n",
    "                       ignore_index=True)\n",
    "    \n",
    "data_n_estimators"
   ]
  },
  {
   "cell_type": "raw",
   "metadata": {},
   "source": [
    "data_depth = pd.DataFrame(columns=['max_depth', 'rmse2'])\n",
    "for depth in range(5, 12):\n",
    "    model_2 = LGBMRegressor(n_estimators=501, max_depth=depth)\n",
    "    model_2.fit(features_train_lgbm, target_train)\n",
    "    predictions_valid2 = model_2.predict(features_valid_lgbm)\n",
    "    data_depth = data_deph.append({'max_depth': depth, \n",
    "                       'rmse2': mean_squared_error(target_valid, predictions_valid2)** 0.5},\n",
    "                       ignore_index=True)\n",
    "    \n",
    "data_depth"
   ]
  },
  {
   "cell_type": "markdown",
   "metadata": {},
   "source": [
    "Чтобы не загружать проверку ноутбука, ячейки с циклами подбора параметров переведены в RAW, а таблицы с результатами приведены ниже:\n",
    "\n",
    "| | n_estimators\t| rmse2 |\n",
    "    :--- | :---: | ---:\n",
    "0\t|1.0\t|4221.703170\n",
    "1\t|101.0\t|1836.463512\n",
    "2\t|201.0\t|1802.282724\n",
    "3\t|301.0\t|1787.042767\n",
    "4\t|401.0\t|1776.301612\n",
    "5\t|501.0\t|1769.355737\n",
    "6\t|601.0\t|1764.183064\n",
    "7\t|701.0\t|1758.965180\n",
    "8\t|801.0\t|1754.841475\n",
    "9\t|901.0\t|1751.997220\n",
    "\n",
    "| | max_depth\t| rmse2|\n",
    "   :--- | :---: | ---:\n",
    "0\t|5.0\t|1791.105741\n",
    "1\t|6.0\t|1778.298193\n",
    "2\t|7.0\t|1774.185108\n",
    "3\t|8.0\t|1775.150595\n",
    "4\t|9.0\t|1768.733819\n",
    "5\t|10.0\t|1771.625727\n",
    "6\t|11.0\t|1770.882966\n",
    "\n",
    "Лучшее значение RMSE у модели с n_estimators=500 (так как дальше улучшение замедляется) и max_depth=9."
   ]
  },
  {
   "cell_type": "code",
   "execution_count": 31,
   "metadata": {},
   "outputs": [
    {
     "name": "stdout",
     "output_type": "stream",
     "text": [
      "CPU times: user 29 s, sys: 156 ms, total: 29.2 s\n",
      "Wall time: 29.5 s\n"
     ]
    }
   ],
   "source": [
    "%%time\n",
    "model_2 = LGBMRegressor(n_estimators=500, max_depth=9).fit(features_train_lgbm, target_train)"
   ]
  },
  {
   "cell_type": "code",
   "execution_count": 32,
   "metadata": {},
   "outputs": [
    {
     "name": "stdout",
     "output_type": "stream",
     "text": [
      "CPU times: user 3.16 s, sys: 0 ns, total: 3.16 s\n",
      "Wall time: 3.12 s\n"
     ]
    }
   ],
   "source": [
    "%%time\n",
    "predicted_valid2 = model_2.predict(features_valid_lgbm)"
   ]
  },
  {
   "cell_type": "code",
   "execution_count": 33,
   "metadata": {},
   "outputs": [
    {
     "data": {
      "text/plain": [
       "1768.7237509057009"
      ]
     },
     "execution_count": 33,
     "metadata": {},
     "output_type": "execute_result"
    }
   ],
   "source": [
    "rmse2 = mean_squared_error(target_valid, predicted_valid2)** 0.5\n",
    "rmse2"
   ]
  },
  {
   "cell_type": "markdown",
   "metadata": {},
   "source": [
    "### CatBoost"
   ]
  },
  {
   "cell_type": "raw",
   "metadata": {},
   "source": [
    "data_depth2 = pd.DataFrame(columns=['max_depth', 'rmse3'])\n",
    "for depth2 in range(4, 15):\n",
    "    model_3 = CatBoostRegressor(loss_function=\"RMSE\", iterations=200, learning_rate=0.5, max_depth=depth2)\n",
    "    model_3.fit(features_train, target_train, cat_features=cat, verbose=100)\n",
    "    predicted_valid3 = model_3.predict(features_valid)\n",
    "    data_depth2 = data_depth2.append({'max_depth': depth2, \n",
    "                       'rmse3': mean_squared_error(target_valid, predicted_valid3)** 0.5},\n",
    "                       ignore_index=True)\n",
    "    \n",
    "data_depth2"
   ]
  },
  {
   "cell_type": "markdown",
   "metadata": {},
   "source": [
    "Выберем глубину 11.\n",
    "\n",
    "| |max_depth |\trmse3|\n",
    " :--- | :---: | ---:\n",
    "0\t|4.0\t|1929.262779\n",
    "1\t|5.0\t|1896.488973\n",
    "2\t|6.0\t|1879.099679\n",
    "3\t|7.0\t|1864.012880\n",
    "4\t|8.0\t|1851.772123\n",
    "5\t|9.0\t|1835.427049\n",
    "6\t|10.0\t|1827.760961\n",
    "7\t|11.0\t|1821.816377\n",
    "8\t|12.0\t|1821.788603\n",
    "9\t|13.0\t|1825.858089\n",
    "10\t|14.0\t|1817.438618"
   ]
  },
  {
   "cell_type": "code",
   "execution_count": 34,
   "metadata": {},
   "outputs": [
    {
     "name": "stdout",
     "output_type": "stream",
     "text": [
      "0:\tlearn: 3110.1773777\ttotal: 816ms\tremaining: 2m 42s\n",
      "100:\tlearn: 1716.3466012\ttotal: 1m 6s\tremaining: 1m 5s\n",
      "199:\tlearn: 1633.7374274\ttotal: 2m 12s\tremaining: 0us\n",
      "CPU times: user 1min 56s, sys: 17.7 s, total: 2min 13s\n",
      "Wall time: 2min 15s\n"
     ]
    },
    {
     "data": {
      "text/plain": [
       "<catboost.core.CatBoostRegressor at 0x7f5096cc4d10>"
      ]
     },
     "execution_count": 34,
     "metadata": {},
     "output_type": "execute_result"
    }
   ],
   "source": [
    "%%time\n",
    "\n",
    "model3 = CatBoostRegressor(loss_function=\"RMSE\", iterations=200, learning_rate=0.5, depth=11) \n",
    "model3.fit(features_train, target_train, cat_features=cat, verbose=100)"
   ]
  },
  {
   "cell_type": "code",
   "execution_count": 35,
   "metadata": {},
   "outputs": [
    {
     "name": "stdout",
     "output_type": "stream",
     "text": [
      "CPU times: user 486 ms, sys: 32.6 ms, total: 518 ms\n",
      "Wall time: 509 ms\n"
     ]
    }
   ],
   "source": [
    "%%time\n",
    "predicted_valid3 = model3.predict(features_valid)"
   ]
  },
  {
   "cell_type": "code",
   "execution_count": 36,
   "metadata": {},
   "outputs": [
    {
     "data": {
      "text/plain": [
       "1821.816376656906"
      ]
     },
     "execution_count": 36,
     "metadata": {},
     "output_type": "execute_result"
    }
   ],
   "source": [
    "rmse3 = mean_squared_error(target_valid, predicted_valid3)** 0.5\n",
    "rmse3"
   ]
  },
  {
   "cell_type": "code",
   "execution_count": 37,
   "metadata": {},
   "outputs": [
    {
     "data": {
      "image/png": "[encoded data removed]",
      "text/plain": [
       "<Figure size 720x504 with 1 Axes>"
      ]
     },
     "metadata": {
      "needs_background": "light"
     },
     "output_type": "display_data"
    }
   ],
   "source": [
    "df_imp = pd.Series(model3.get_feature_importance(),\n",
    "                         features_train.columns)\n",
    "fig, ax = plt.subplots(figsize=(10,7))\n",
    "df_imp.plot.bar(ax=ax)\n",
    "ax.set_title(\"Важность признаков\")\n",
    "ax.set_ylabel('Важность, %')\n",
    "fig.tight_layout()"
   ]
  },
  {
   "cell_type": "markdown",
   "metadata": {},
   "source": [
    "### DecisionTreeRegressor (обученная на данных, закодированных One-Hot Encoding)"
   ]
  },
  {
   "cell_type": "markdown",
   "metadata": {},
   "source": [
    "Подберем лучшее значение \"max_depth\" для модели DecisionTreeRegressor."
   ]
  },
  {
   "cell_type": "raw",
   "metadata": {},
   "source": [
    "data_max_deph = pd.DataFrame(columns=['max_depth', 'rmse4'])\n",
    "for depth in range(9, 20):\n",
    "    model_4 = DecisionTreeRegressor(random_state=12345, max_depth=depth)\n",
    "    model_4.fit(features_train_ohe, target_train_ohe)\n",
    "    predictions_valid4 = model_4.predict(features_valid_ohe)\n",
    "    data_max_deph = data_max_deph.append({'max_depth': depth, \n",
    "                       'rmse4': mean_squared_error(target_valid_ohe, predictions_valid4)** 0.5},\n",
    "                       ignore_index=True)\n",
    "    \n",
    "data_max_deph"
   ]
  },
  {
   "cell_type": "markdown",
   "metadata": {},
   "source": [
    "\t\n",
    "Чем больше глубина дерева, тем лучше RMSE, но при глубине 17 улучшение замедляется, поэтому остановимся на моделе с глубиной 17.\n",
    "\n",
    "|    | max_depth\t| rmse4|\n",
    "    :--- | :---: | ---:\n",
    "0\t|9.0\t|2189.181049\n",
    "1\t|10.0\t|2149.587639\n",
    "2\t|11.0\t|2098.186001\n",
    "4\t|13.0\t|2080.598942\n",
    "5\t|14.0\t|2060.277110\n",
    "6\t|15.0\t|2046.224762\n",
    "7\t|16.0\t|2041.373652\n",
    "8\t|17.0\t|2032.028972\n",
    "9\t|18.0\t|2031.759968\n",
    "10\t|19.0\t|2031.561979"
   ]
  },
  {
   "cell_type": "code",
   "execution_count": 38,
   "metadata": {},
   "outputs": [
    {
     "name": "stdout",
     "output_type": "stream",
     "text": [
      "CPU times: user 6.21 s, sys: 194 ms, total: 6.4 s\n",
      "Wall time: 6.41 s\n"
     ]
    },
    {
     "data": {
      "text/plain": [
       "DecisionTreeRegressor(criterion='mse', max_depth=17, max_features=None,\n",
       "                      max_leaf_nodes=None, min_impurity_decrease=0.0,\n",
       "                      min_impurity_split=None, min_samples_leaf=1,\n",
       "                      min_samples_split=2, min_weight_fraction_leaf=0.0,\n",
       "                      presort=False, random_state=12345, splitter='best')"
      ]
     },
     "execution_count": 38,
     "metadata": {},
     "output_type": "execute_result"
    }
   ],
   "source": [
    "%%time\n",
    "model_4 = DecisionTreeRegressor(random_state=12345, max_depth=17)\n",
    "model_4.fit(features_train_ohe, target_train_ohe)"
   ]
  },
  {
   "cell_type": "code",
   "execution_count": 39,
   "metadata": {},
   "outputs": [
    {
     "name": "stdout",
     "output_type": "stream",
     "text": [
      "CPU times: user 47.6 ms, sys: 86.3 ms, total: 134 ms\n",
      "Wall time: 142 ms\n"
     ]
    }
   ],
   "source": [
    "%%time\n",
    "predictions_valid4 = model_4.predict(features_valid_ohe)"
   ]
  },
  {
   "cell_type": "code",
   "execution_count": 40,
   "metadata": {},
   "outputs": [
    {
     "data": {
      "text/plain": [
       "2032.0289718837453"
      ]
     },
     "execution_count": 40,
     "metadata": {},
     "output_type": "execute_result"
    }
   ],
   "source": [
    "rmse4 = mean_squared_error(target_valid_ohe, predictions_valid4)** 0.5\n",
    "rmse4"
   ]
  },
  {
   "cell_type": "markdown",
   "metadata": {},
   "source": [
    "### DecisionTreeRegressor (обученная на данных, закодированных OrdinalEncoder)"
   ]
  },
  {
   "cell_type": "code",
   "execution_count": 41,
   "metadata": {},
   "outputs": [
    {
     "name": "stdout",
     "output_type": "stream",
     "text": [
      "CPU times: user 550 ms, sys: 0 ns, total: 550 ms\n",
      "Wall time: 568 ms\n"
     ]
    },
    {
     "data": {
      "text/plain": [
       "DecisionTreeRegressor(criterion='mse', max_depth=17, max_features=None,\n",
       "                      max_leaf_nodes=None, min_impurity_decrease=0.0,\n",
       "                      min_impurity_split=None, min_samples_leaf=1,\n",
       "                      min_samples_split=2, min_weight_fraction_leaf=0.0,\n",
       "                      presort=False, random_state=12345, splitter='best')"
      ]
     },
     "execution_count": 41,
     "metadata": {},
     "output_type": "execute_result"
    }
   ],
   "source": [
    "%%time\n",
    "model_dtroe = DecisionTreeRegressor(random_state=12345, max_depth=17)\n",
    "model_dtroe.fit(features_train_oe, target_train_oe)"
   ]
  },
  {
   "cell_type": "code",
   "execution_count": 42,
   "metadata": {},
   "outputs": [
    {
     "name": "stdout",
     "output_type": "stream",
     "text": [
      "CPU times: user 20 ms, sys: 3.48 ms, total: 23.5 ms\n",
      "Wall time: 22.1 ms\n"
     ]
    }
   ],
   "source": [
    "%%time\n",
    "predictions_valid_troe = model_dtroe.predict(features_valid_oe)"
   ]
  },
  {
   "cell_type": "code",
   "execution_count": 43,
   "metadata": {},
   "outputs": [
    {
     "data": {
      "text/plain": [
       "2074.1770777817214"
      ]
     },
     "execution_count": 43,
     "metadata": {},
     "output_type": "execute_result"
    }
   ],
   "source": [
    "rmse_dtroe= mean_squared_error(target_valid_oe, predictions_valid_troe)** 0.5\n",
    "rmse_dtroe"
   ]
  },
  {
   "cell_type": "markdown",
   "metadata": {},
   "source": [
    "## Анализ моделей"
   ]
  },
  {
   "cell_type": "markdown",
   "metadata": {},
   "source": [
    "Соберем полученные данные в итоговую таблицу."
   ]
  },
  {
   "cell_type": "code",
   "execution_count": 44,
   "metadata": {},
   "outputs": [],
   "source": [
    "data = [[\"23.9 s\", \"208 ms\", 3385.18],\n",
    "        [\"34.8 ms\", \"2.7 ms\", 3961.34],\n",
    "        [\"41.4 s\", \"6.17 s\", 1768.72],\n",
    "        [\"3min 5s\", \"691 ms\", 1821.81],\n",
    "        [\"7.43 s\", \"159 ms\", 2032.02],\n",
    "        [\"511 ms\", \"18.9 ms\", 2074.17]]\n",
    "model = [\"LinearRegression (OHE)\", \"LinearRegression (OE)\", \"LGBM\", \"CatBoost\", \"DecisionTreeRegressor (OHE)\", \"DecisionTreeRegressor (OE)\"]"
   ]
  },
  {
   "cell_type": "code",
   "execution_count": 45,
   "metadata": {},
   "outputs": [
    {
     "data": {
      "text/html": [
       "<div>\n",
       "<style scoped>\n",
       "    .dataframe tbody tr th:only-of-type {\n",
       "        vertical-align: middle;\n",
       "    }\n",
       "\n",
       "    .dataframe tbody tr th {\n",
       "        vertical-align: top;\n",
       "    }\n",
       "\n",
       "    .dataframe thead th {\n",
       "        text-align: right;\n",
       "    }\n",
       "</style>\n",
       "<table border=\"1\" class=\"dataframe\">\n",
       "  <thead>\n",
       "    <tr style=\"text-align: right;\">\n",
       "      <th></th>\n",
       "      <th>fit_time</th>\n",
       "      <th>predict_time</th>\n",
       "      <th>RMSE</th>\n",
       "    </tr>\n",
       "  </thead>\n",
       "  <tbody>\n",
       "    <tr>\n",
       "      <td>LinearRegression (OHE)</td>\n",
       "      <td>23.9 s</td>\n",
       "      <td>208 ms</td>\n",
       "      <td>3385.18</td>\n",
       "    </tr>\n",
       "    <tr>\n",
       "      <td>LinearRegression (OE)</td>\n",
       "      <td>34.8 ms</td>\n",
       "      <td>2.7 ms</td>\n",
       "      <td>3961.34</td>\n",
       "    </tr>\n",
       "    <tr>\n",
       "      <td>LGBM</td>\n",
       "      <td>41.4 s</td>\n",
       "      <td>6.17 s</td>\n",
       "      <td>1768.72</td>\n",
       "    </tr>\n",
       "    <tr>\n",
       "      <td>CatBoost</td>\n",
       "      <td>3min 5s</td>\n",
       "      <td>691 ms</td>\n",
       "      <td>1821.81</td>\n",
       "    </tr>\n",
       "    <tr>\n",
       "      <td>DecisionTreeRegressor (OHE)</td>\n",
       "      <td>7.43 s</td>\n",
       "      <td>159 ms</td>\n",
       "      <td>2032.02</td>\n",
       "    </tr>\n",
       "    <tr>\n",
       "      <td>DecisionTreeRegressor (OE)</td>\n",
       "      <td>511 ms</td>\n",
       "      <td>18.9 ms</td>\n",
       "      <td>2074.17</td>\n",
       "    </tr>\n",
       "  </tbody>\n",
       "</table>\n",
       "</div>"
      ],
      "text/plain": [
       "                            fit_time predict_time     RMSE\n",
       "LinearRegression (OHE)        23.9 s       208 ms  3385.18\n",
       "LinearRegression (OE)        34.8 ms       2.7 ms  3961.34\n",
       "LGBM                          41.4 s       6.17 s  1768.72\n",
       "CatBoost                     3min 5s       691 ms  1821.81\n",
       "DecisionTreeRegressor (OHE)   7.43 s       159 ms  2032.02\n",
       "DecisionTreeRegressor (OE)    511 ms      18.9 ms  2074.17"
      ]
     },
     "execution_count": 45,
     "metadata": {},
     "output_type": "execute_result"
    }
   ],
   "source": [
    "pd.DataFrame(data=data, index=model, columns=[\"fit_time\", \"predict_time\", \"RMSE\"])"
   ]
  },
  {
   "cell_type": "markdown",
   "metadata": {},
   "source": [
    "## Выводы"
   ]
  },
  {
   "cell_type": "markdown",
   "metadata": {},
   "source": [
    "В ходе выполнения проекта необходимо было построить модель для определения стоимости автомобиля для сервиса по продаже автомобилей с пробегом «Не бит, не крашен».\n",
    "\n",
    "Имеющиеся исторические данные: технические характеристики, комплектации и цены автомобилей, были подготовлены для обучения и анализа моделей.\n",
    "\n",
    "Были выбраны 4 модели регрессии: LinearRegression, LGBM, CatBoost и DecisionTreeRegressor. Время обучения, предсказания и метрика RMSE для каждой модели собраны в итоговую таблицу.\n",
    "\n",
    "\n",
    "| |fit_time |predict_time |\tRMSE |\n",
    " :--- | :---:| :---: | ---:\n",
    "__LinearRegression (OHE)__\t|23.9 s\t|208 ms\t|3385.18\n",
    "__LinearRegression (OE)__\t|34.8 ms\t|2.7 ms\t|3961.34\n",
    "__LGBM__\t|41.4 s\t|6.17 s\t|1768.72\n",
    "__CatBoost__\t|3min 5s\t|691 ms\t|1821.81\n",
    "__DecisionTreeRegressor (OHE)__\t|7.43 s\t|159 ms\t|2032.02\n",
    "__DecisionTreeRegressor (OE)__\t|511 ms\t|18.9 ms\t|2074.17\n",
    "\n",
    "Самой лучшей метрики RMSE удалось добиться у модели LGBM, но у нее самое большое время предсказания, что критично для приложения, которое хочет привлечь новых клиентов. Вторым по RMSE идет модель CatBoost, но у нее очень большое время обучения. \n",
    "\n",
    "Самой оптимальной моделью является DecisionTreeRegressor, у которой не слишком сильно хуже RMSE, но зато самые быстрые обучение и предсказание.\n",
    "\n",
    "При кодирование категориальных переменных техникой Ordinal Encoding - RMSE получается немного хуже, чем при кодировании One-Hot Encoding, но зато скорость обучения модели и предсказания увеличиваются на порядок."
   ]
  }
 ],
 "metadata": {
  "ExecuteTimeLog": [
   {
    "duration": 1020,
    "start_time": "2022-01-22T07:21:54.100Z"
   },
   {
    "duration": 1228,
    "start_time": "2022-01-22T07:21:55.752Z"
   },
   {
    "duration": 30,
    "start_time": "2022-01-22T07:22:01.827Z"
   },
   {
    "duration": 13,
    "start_time": "2022-01-22T07:25:12.647Z"
   },
   {
    "duration": 115,
    "start_time": "2022-01-22T07:25:18.138Z"
   },
   {
    "duration": 22,
    "start_time": "2022-01-22T07:58:27.772Z"
   },
   {
    "duration": 14,
    "start_time": "2022-01-22T07:58:37.939Z"
   },
   {
    "duration": 27,
    "start_time": "2022-01-22T08:06:39.249Z"
   },
   {
    "duration": 385,
    "start_time": "2022-01-22T14:03:59.573Z"
   },
   {
    "duration": 1225,
    "start_time": "2022-01-22T14:04:04.275Z"
   },
   {
    "duration": 935,
    "start_time": "2022-01-22T14:04:05.502Z"
   },
   {
    "duration": 32,
    "start_time": "2022-01-22T14:04:06.440Z"
   },
   {
    "duration": 160,
    "start_time": "2022-01-22T14:04:06.474Z"
   },
   {
    "duration": 32,
    "start_time": "2022-01-22T14:04:06.637Z"
   },
   {
    "duration": 46,
    "start_time": "2022-01-22T14:05:07.812Z"
   },
   {
    "duration": 161,
    "start_time": "2022-01-22T14:05:57.800Z"
   },
   {
    "duration": 46,
    "start_time": "2022-01-22T14:09:09.623Z"
   },
   {
    "duration": 381,
    "start_time": "2022-01-22T14:09:13.213Z"
   },
   {
    "duration": 33,
    "start_time": "2022-01-22T14:10:03.824Z"
   },
   {
    "duration": 27,
    "start_time": "2022-01-22T14:10:45.154Z"
   },
   {
    "duration": 129,
    "start_time": "2022-01-22T14:10:47.447Z"
   },
   {
    "duration": 311,
    "start_time": "2022-01-22T14:10:50.429Z"
   },
   {
    "duration": 1017,
    "start_time": "2022-01-22T14:33:48.396Z"
   },
   {
    "duration": 244,
    "start_time": "2022-01-22T14:33:50.476Z"
   },
   {
    "duration": 910,
    "start_time": "2022-01-22T14:33:57.571Z"
   },
   {
    "duration": 22612,
    "start_time": "2022-01-22T14:34:00.920Z"
   },
   {
    "duration": 4,
    "start_time": "2022-01-22T14:35:20.132Z"
   },
   {
    "duration": 6,
    "start_time": "2022-01-22T14:35:29.229Z"
   },
   {
    "duration": 19,
    "start_time": "2022-01-22T14:39:39.218Z"
   },
   {
    "duration": 23078,
    "start_time": "2022-01-22T14:41:38.858Z"
   },
   {
    "duration": 6,
    "start_time": "2022-01-22T14:42:10.357Z"
   },
   {
    "duration": 201,
    "start_time": "2022-01-22T15:00:51.627Z"
   },
   {
    "duration": 22752,
    "start_time": "2022-01-22T15:00:54.381Z"
   },
   {
    "duration": 16668,
    "start_time": "2022-01-22T15:01:36.276Z"
   },
   {
    "duration": 1501,
    "start_time": "2022-01-22T15:01:52.947Z"
   },
   {
    "duration": 144,
    "start_time": "2022-01-22T15:14:40.561Z"
   },
   {
    "duration": 524,
    "start_time": "2022-01-22T15:15:45.557Z"
   },
   {
    "duration": 1384,
    "start_time": "2022-01-22T15:16:28.192Z"
   },
   {
    "duration": 105,
    "start_time": "2022-01-22T15:19:29.846Z"
   },
   {
    "duration": 8292,
    "start_time": "2022-01-22T15:23:06.544Z"
   },
   {
    "duration": 22,
    "start_time": "2022-01-22T15:23:22.176Z"
   },
   {
    "duration": 18,
    "start_time": "2022-01-22T15:23:33.130Z"
   },
   {
    "duration": 31,
    "start_time": "2022-01-22T15:24:01.244Z"
   },
   {
    "duration": 969,
    "start_time": "2022-01-22T15:24:18.980Z"
   },
   {
    "duration": 22,
    "start_time": "2022-01-22T15:24:22.710Z"
   },
   {
    "duration": 136,
    "start_time": "2022-01-22T15:24:28.030Z"
   },
   {
    "duration": 27,
    "start_time": "2022-01-22T15:24:48.725Z"
   },
   {
    "duration": 140,
    "start_time": "2022-01-22T15:24:50.338Z"
   },
   {
    "duration": 730,
    "start_time": "2022-01-22T15:24:56.376Z"
   },
   {
    "duration": 1187,
    "start_time": "2022-01-22T15:24:59.900Z"
   },
   {
    "duration": 7,
    "start_time": "2022-01-22T15:25:41.682Z"
   },
   {
    "duration": 18,
    "start_time": "2022-01-22T15:25:46.040Z"
   },
   {
    "duration": 375,
    "start_time": "2022-01-22T15:26:06.079Z"
   },
   {
    "duration": 74,
    "start_time": "2022-01-22T15:27:06.952Z"
   },
   {
    "duration": 209,
    "start_time": "2022-01-22T15:29:24.287Z"
   },
   {
    "duration": 4,
    "start_time": "2022-01-22T15:30:05.534Z"
   },
   {
    "duration": 1135,
    "start_time": "2022-01-22T15:30:05.540Z"
   },
   {
    "duration": 26,
    "start_time": "2022-01-22T15:30:06.678Z"
   },
   {
    "duration": 197,
    "start_time": "2022-01-22T15:30:06.706Z"
   },
   {
    "duration": 180,
    "start_time": "2022-01-22T15:30:06.906Z"
   },
   {
    "duration": 43,
    "start_time": "2022-01-22T15:30:07.089Z"
   },
   {
    "duration": 240,
    "start_time": "2022-01-22T15:30:07.134Z"
   },
   {
    "duration": 578,
    "start_time": "2022-01-22T15:30:07.377Z"
   },
   {
    "duration": 1099,
    "start_time": "2022-01-22T15:30:07.960Z"
   },
   {
    "duration": 1238,
    "start_time": "2022-01-22T15:30:09.062Z"
   },
   {
    "duration": 241,
    "start_time": "2022-01-22T15:30:10.302Z"
   },
   {
    "duration": 1161,
    "start_time": "2022-01-22T15:30:10.546Z"
   },
   {
    "duration": 26318,
    "start_time": "2022-01-22T15:30:11.710Z"
   },
   {
    "duration": 296,
    "start_time": "2022-01-22T15:30:38.030Z"
   },
   {
    "duration": 212524,
    "start_time": "2022-01-22T15:30:38.330Z"
   },
   {
    "duration": 1567,
    "start_time": "2022-01-22T15:34:10.857Z"
   },
   {
    "duration": 6,
    "start_time": "2022-01-22T15:34:12.426Z"
   },
   {
    "duration": 7,
    "start_time": "2022-01-22T15:34:12.435Z"
   },
   {
    "duration": 173740,
    "start_time": "2022-01-22T15:34:15.644Z"
   },
   {
    "duration": 41,
    "start_time": "2022-01-22T15:38:50.417Z"
   },
   {
    "duration": 938,
    "start_time": "2022-01-22T15:44:59.028Z"
   },
   {
    "duration": 23,
    "start_time": "2022-01-22T15:45:00.610Z"
   },
   {
    "duration": 140,
    "start_time": "2022-01-22T15:45:02.100Z"
   },
   {
    "duration": 151,
    "start_time": "2022-01-22T15:45:06.143Z"
   },
   {
    "duration": 37,
    "start_time": "2022-01-22T15:45:11.569Z"
   },
   {
    "duration": 45,
    "start_time": "2022-01-22T15:45:21.178Z"
   },
   {
    "duration": 40,
    "start_time": "2022-01-22T15:46:06.781Z"
   },
   {
    "duration": 27,
    "start_time": "2022-01-22T15:46:30.191Z"
   },
   {
    "duration": 40,
    "start_time": "2022-01-22T16:03:03.799Z"
   },
   {
    "duration": 1175,
    "start_time": "2022-01-22T16:07:46.331Z"
   },
   {
    "duration": 142,
    "start_time": "2022-01-22T16:08:25.558Z"
   },
   {
    "duration": 24,
    "start_time": "2022-01-22T16:08:53.346Z"
   },
   {
    "duration": 960,
    "start_time": "2022-01-22T16:09:17.392Z"
   },
   {
    "duration": 22,
    "start_time": "2022-01-22T16:09:23.254Z"
   },
   {
    "duration": 4,
    "start_time": "2022-01-22T16:10:08.388Z"
   },
   {
    "duration": 922,
    "start_time": "2022-01-22T16:10:08.395Z"
   },
   {
    "duration": 23,
    "start_time": "2022-01-22T16:10:09.321Z"
   },
   {
    "duration": 162,
    "start_time": "2022-01-22T16:10:09.347Z"
   },
   {
    "duration": 147,
    "start_time": "2022-01-22T16:10:09.511Z"
   },
   {
    "duration": 40,
    "start_time": "2022-01-22T16:10:09.661Z"
   },
   {
    "duration": 83,
    "start_time": "2022-01-22T16:10:09.705Z"
   },
   {
    "duration": 1737,
    "start_time": "2022-01-22T16:10:09.791Z"
   },
   {
    "duration": 21,
    "start_time": "2022-01-22T16:10:11.533Z"
   },
   {
    "duration": 504,
    "start_time": "2022-01-22T16:10:11.557Z"
   },
   {
    "duration": 1000,
    "start_time": "2022-01-22T16:10:12.064Z"
   },
   {
    "duration": 1162,
    "start_time": "2022-01-22T16:10:13.066Z"
   },
   {
    "duration": 259,
    "start_time": "2022-01-22T16:10:14.231Z"
   },
   {
    "duration": 974,
    "start_time": "2022-01-22T16:10:14.492Z"
   },
   {
    "duration": 66,
    "start_time": "2022-01-22T16:11:28.350Z"
   },
   {
    "duration": 64,
    "start_time": "2022-01-22T16:11:47.219Z"
   },
   {
    "duration": 41,
    "start_time": "2022-01-22T16:11:53.062Z"
   },
   {
    "duration": 57,
    "start_time": "2022-01-22T16:12:37.070Z"
   },
   {
    "duration": 42,
    "start_time": "2022-01-22T16:12:39.931Z"
   },
   {
    "duration": 522,
    "start_time": "2022-01-22T16:12:52.127Z"
   },
   {
    "duration": 140,
    "start_time": "2022-01-22T16:13:43.167Z"
   },
   {
    "duration": 8248,
    "start_time": "2022-01-22T16:14:29.725Z"
   },
   {
    "duration": 9,
    "start_time": "2022-01-22T16:14:47.992Z"
   },
   {
    "duration": 25,
    "start_time": "2022-01-22T16:15:00.231Z"
   },
   {
    "duration": 59,
    "start_time": "2022-01-22T16:15:21.726Z"
   },
   {
    "duration": 38,
    "start_time": "2022-01-22T16:22:39.335Z"
   },
   {
    "duration": 147,
    "start_time": "2022-01-22T16:23:29.644Z"
   },
   {
    "duration": 8,
    "start_time": "2022-01-22T16:23:57.347Z"
   },
   {
    "duration": 43,
    "start_time": "2022-01-22T16:24:14.045Z"
   },
   {
    "duration": 45,
    "start_time": "2022-01-22T16:26:20.444Z"
   },
   {
    "duration": 65,
    "start_time": "2022-01-22T16:27:07.673Z"
   },
   {
    "duration": 42,
    "start_time": "2022-01-22T16:27:25.752Z"
   },
   {
    "duration": 70,
    "start_time": "2022-01-22T16:27:55.816Z"
   },
   {
    "duration": 90,
    "start_time": "2022-01-22T16:40:51.890Z"
   },
   {
    "duration": 211,
    "start_time": "2022-01-22T16:41:16.692Z"
   },
   {
    "duration": 203,
    "start_time": "2022-01-22T16:41:38.566Z"
   },
   {
    "duration": 264,
    "start_time": "2022-01-22T16:41:49.864Z"
   },
   {
    "duration": 917,
    "start_time": "2022-01-22T16:42:45.540Z"
   },
   {
    "duration": 40,
    "start_time": "2022-01-22T16:42:57.692Z"
   },
   {
    "duration": 163,
    "start_time": "2022-01-22T16:43:20.194Z"
   },
   {
    "duration": 150,
    "start_time": "2022-01-22T16:43:34.508Z"
   },
   {
    "duration": 816,
    "start_time": "2022-01-22T16:54:03.240Z"
   },
   {
    "duration": 19,
    "start_time": "2022-01-22T17:01:05.629Z"
   },
   {
    "duration": 137,
    "start_time": "2022-01-22T17:01:20.915Z"
   },
   {
    "duration": 816,
    "start_time": "2022-01-22T17:06:51.737Z"
   },
   {
    "duration": 1095,
    "start_time": "2022-01-22T17:07:41.499Z"
   },
   {
    "duration": 4,
    "start_time": "2022-01-22T17:09:14.597Z"
   },
   {
    "duration": 6185,
    "start_time": "2022-01-22T17:09:14.605Z"
   },
   {
    "duration": 22,
    "start_time": "2022-01-22T17:09:20.793Z"
   },
   {
    "duration": 160,
    "start_time": "2022-01-22T17:09:20.818Z"
   },
   {
    "duration": 148,
    "start_time": "2022-01-22T17:09:20.980Z"
   },
   {
    "duration": 29,
    "start_time": "2022-01-22T17:09:21.131Z"
   },
   {
    "duration": 76,
    "start_time": "2022-01-22T17:09:21.163Z"
   },
   {
    "duration": 46,
    "start_time": "2022-01-22T17:09:21.241Z"
   },
   {
    "duration": 67,
    "start_time": "2022-01-22T17:09:21.289Z"
   },
   {
    "duration": 64,
    "start_time": "2022-01-22T17:09:21.359Z"
   },
   {
    "duration": 272,
    "start_time": "2022-01-22T17:09:21.426Z"
   },
   {
    "duration": 72,
    "start_time": "2022-01-22T17:09:21.701Z"
   },
   {
    "duration": 84,
    "start_time": "2022-01-22T17:09:21.776Z"
   },
   {
    "duration": 93,
    "start_time": "2022-01-22T17:09:21.862Z"
   },
   {
    "duration": 297,
    "start_time": "2022-01-22T17:09:21.958Z"
   },
   {
    "duration": 30,
    "start_time": "2022-01-22T17:09:22.257Z"
   },
   {
    "duration": 152,
    "start_time": "2022-01-22T17:09:22.290Z"
   },
   {
    "duration": 1012,
    "start_time": "2022-01-22T17:09:22.444Z"
   },
   {
    "duration": 1225,
    "start_time": "2022-01-22T17:09:23.460Z"
   },
   {
    "duration": 268,
    "start_time": "2022-01-22T17:09:24.687Z"
   },
   {
    "duration": 214,
    "start_time": "2022-01-22T17:09:39.510Z"
   },
   {
    "duration": 2432,
    "start_time": "2022-01-22T17:09:58.849Z"
   },
   {
    "duration": 914,
    "start_time": "2022-01-22T17:13:06.290Z"
   },
   {
    "duration": 962,
    "start_time": "2022-01-22T17:13:07.207Z"
   },
   {
    "duration": 23266,
    "start_time": "2022-01-22T17:13:12.266Z"
   },
   {
    "duration": 505,
    "start_time": "2022-01-22T17:13:50.419Z"
   },
   {
    "duration": 209,
    "start_time": "2022-01-22T17:14:01.217Z"
   },
   {
    "duration": 6,
    "start_time": "2022-01-22T17:14:19.718Z"
   },
   {
    "duration": 508,
    "start_time": "2022-01-22T17:22:44.500Z"
   },
   {
    "duration": 4,
    "start_time": "2022-01-22T17:22:56.236Z"
   },
   {
    "duration": 340,
    "start_time": "2022-01-22T17:23:02.265Z"
   },
   {
    "duration": 100788,
    "start_time": "2022-01-22T17:24:09.135Z"
   },
   {
    "duration": 5,
    "start_time": "2022-01-22T17:26:21.063Z"
   },
   {
    "duration": 1065,
    "start_time": "2022-01-22T21:14:23.944Z"
   },
   {
    "duration": 3,
    "start_time": "2022-01-22T21:14:40.582Z"
   },
   {
    "duration": 715,
    "start_time": "2022-01-22T21:14:40.587Z"
   },
   {
    "duration": 20,
    "start_time": "2022-01-22T21:14:41.304Z"
   },
   {
    "duration": 128,
    "start_time": "2022-01-22T21:14:41.326Z"
   },
   {
    "duration": 114,
    "start_time": "2022-01-22T21:14:41.456Z"
   },
   {
    "duration": 20,
    "start_time": "2022-01-22T21:14:41.571Z"
   },
   {
    "duration": 32,
    "start_time": "2022-01-22T21:14:41.592Z"
   },
   {
    "duration": 25,
    "start_time": "2022-01-22T21:14:41.641Z"
   },
   {
    "duration": 42,
    "start_time": "2022-01-22T21:14:41.669Z"
   },
   {
    "duration": 33,
    "start_time": "2022-01-22T21:14:41.713Z"
   },
   {
    "duration": 110,
    "start_time": "2022-01-22T21:14:41.748Z"
   },
   {
    "duration": 31,
    "start_time": "2022-01-22T21:14:41.860Z"
   },
   {
    "duration": 49,
    "start_time": "2022-01-22T21:14:41.892Z"
   },
   {
    "duration": 59,
    "start_time": "2022-01-22T21:14:41.943Z"
   },
   {
    "duration": 215,
    "start_time": "2022-01-22T21:14:42.003Z"
   },
   {
    "duration": 16,
    "start_time": "2022-01-22T21:14:42.219Z"
   },
   {
    "duration": 64,
    "start_time": "2022-01-22T21:14:42.240Z"
   },
   {
    "duration": 607,
    "start_time": "2022-01-22T21:14:42.305Z"
   },
   {
    "duration": 647,
    "start_time": "2022-01-22T21:14:42.914Z"
   },
   {
    "duration": 19979,
    "start_time": "2022-01-22T21:14:43.563Z"
   },
   {
    "duration": 203,
    "start_time": "2022-01-22T21:15:03.544Z"
   },
   {
    "duration": 395,
    "start_time": "2022-01-22T21:15:03.749Z"
   },
   {
    "duration": -3200,
    "start_time": "2022-01-22T21:15:07.346Z"
   },
   {
    "duration": 15,
    "start_time": "2022-01-22T21:15:59.031Z"
   },
   {
    "duration": 5,
    "start_time": "2022-01-22T21:16:08.843Z"
   },
   {
    "duration": 3,
    "start_time": "2022-01-22T21:17:19.759Z"
   },
   {
    "duration": 181486,
    "start_time": "2022-01-22T21:18:44.136Z"
   },
   {
    "duration": 4,
    "start_time": "2022-01-22T21:22:07.184Z"
   },
   {
    "duration": 3,
    "start_time": "2022-01-22T21:22:09.970Z"
   },
   {
    "duration": 163683,
    "start_time": "2022-01-22T21:22:16.063Z"
   },
   {
    "duration": 4,
    "start_time": "2022-01-22T21:25:37.030Z"
   },
   {
    "duration": 61235,
    "start_time": "2022-01-22T21:26:00.435Z"
   },
   {
    "duration": 154,
    "start_time": "2022-01-22T21:28:13.895Z"
   },
   {
    "duration": 5,
    "start_time": "2022-01-22T21:28:36.006Z"
   },
   {
    "duration": 154,
    "start_time": "2022-01-22T21:34:32.226Z"
   },
   {
    "duration": 124,
    "start_time": "2022-01-22T21:35:02.712Z"
   },
   {
    "duration": 121,
    "start_time": "2022-01-22T21:35:25.010Z"
   },
   {
    "duration": 133,
    "start_time": "2022-01-22T21:35:30.980Z"
   },
   {
    "duration": 11214,
    "start_time": "2022-01-22T21:35:48.575Z"
   },
   {
    "duration": 93,
    "start_time": "2022-01-22T21:36:24.857Z"
   },
   {
    "duration": 5,
    "start_time": "2022-01-22T21:36:32.214Z"
   },
   {
    "duration": 6,
    "start_time": "2022-01-22T21:36:35.544Z"
   },
   {
    "duration": 11943,
    "start_time": "2022-01-22T21:38:58.565Z"
   },
   {
    "duration": 128,
    "start_time": "2022-01-22T21:39:18.919Z"
   },
   {
    "duration": 5,
    "start_time": "2022-01-22T21:39:23.399Z"
   },
   {
    "duration": 5,
    "start_time": "2022-01-22T21:39:27.032Z"
   },
   {
    "duration": 5,
    "start_time": "2022-01-22T21:39:33.576Z"
   },
   {
    "duration": 12554,
    "start_time": "2022-01-22T21:39:40.522Z"
   },
   {
    "duration": 73,
    "start_time": "2022-01-22T21:39:58.883Z"
   },
   {
    "duration": 5,
    "start_time": "2022-01-22T21:40:02.533Z"
   },
   {
    "duration": 25955,
    "start_time": "2022-01-22T21:40:13.820Z"
   },
   {
    "duration": 78,
    "start_time": "2022-01-22T21:40:45.381Z"
   },
   {
    "duration": 5,
    "start_time": "2022-01-22T21:40:49.494Z"
   },
   {
    "duration": 82759,
    "start_time": "2022-01-22T21:41:00.987Z"
   },
   {
    "duration": 290,
    "start_time": "2022-01-22T21:42:44.354Z"
   },
   {
    "duration": 5,
    "start_time": "2022-01-22T21:42:48.361Z"
   },
   {
    "duration": 164094,
    "start_time": "2022-01-22T21:43:05.901Z"
   },
   {
    "duration": 522,
    "start_time": "2022-01-22T21:46:02.733Z"
   },
   {
    "duration": 4,
    "start_time": "2022-01-22T21:46:12.293Z"
   },
   {
    "duration": 121193,
    "start_time": "2022-01-22T21:46:22.951Z"
   },
   {
    "duration": 301,
    "start_time": "2022-01-22T21:48:32.955Z"
   },
   {
    "duration": 5,
    "start_time": "2022-01-22T21:48:37.025Z"
   },
   {
    "duration": 88076,
    "start_time": "2022-01-22T21:49:12.010Z"
   },
   {
    "duration": 167,
    "start_time": "2022-01-22T21:50:40.088Z"
   },
   {
    "duration": 8,
    "start_time": "2022-01-22T21:50:40.257Z"
   },
   {
    "duration": 59444,
    "start_time": "2022-01-22T21:50:55.682Z"
   },
   {
    "duration": 122,
    "start_time": "2022-01-22T21:51:55.127Z"
   },
   {
    "duration": 5,
    "start_time": "2022-01-22T21:51:55.251Z"
   },
   {
    "duration": 80547,
    "start_time": "2022-01-22T21:52:33.031Z"
   },
   {
    "duration": 271,
    "start_time": "2022-01-22T21:53:53.580Z"
   },
   {
    "duration": 4,
    "start_time": "2022-01-22T21:53:53.852Z"
   },
   {
    "duration": 90392,
    "start_time": "2022-01-22T21:54:03.198Z"
   },
   {
    "duration": 366,
    "start_time": "2022-01-22T21:55:33.593Z"
   },
   {
    "duration": 81,
    "start_time": "2022-01-22T21:55:33.962Z"
   },
   {
    "duration": 132,
    "start_time": "2022-01-22T21:57:26.961Z"
   },
   {
    "duration": 166,
    "start_time": "2022-01-22T21:58:10.615Z"
   },
   {
    "duration": 197,
    "start_time": "2022-01-22T21:58:23.379Z"
   },
   {
    "duration": 47,
    "start_time": "2022-01-22T22:04:53.151Z"
   },
   {
    "duration": 6352,
    "start_time": "2022-01-22T22:05:38.795Z"
   },
   {
    "duration": 147,
    "start_time": "2022-01-22T22:06:16.394Z"
   },
   {
    "duration": 62,
    "start_time": "2022-01-22T22:06:43.389Z"
   },
   {
    "duration": 6598,
    "start_time": "2022-01-22T22:06:45.244Z"
   },
   {
    "duration": 144,
    "start_time": "2022-01-22T22:06:55.491Z"
   },
   {
    "duration": 681,
    "start_time": "2022-01-22T22:07:32.261Z"
   },
   {
    "duration": 6,
    "start_time": "2022-01-22T22:08:06.198Z"
   },
   {
    "duration": 2329,
    "start_time": "2022-01-23T16:10:43.249Z"
   },
   {
    "duration": 1507,
    "start_time": "2022-01-23T16:10:45.581Z"
   },
   {
    "duration": 31,
    "start_time": "2022-01-23T16:10:47.091Z"
   },
   {
    "duration": 168,
    "start_time": "2022-01-23T16:10:47.125Z"
   },
   {
    "duration": 161,
    "start_time": "2022-01-23T16:10:47.296Z"
   },
   {
    "duration": 30,
    "start_time": "2022-01-23T16:10:47.459Z"
   },
   {
    "duration": 46,
    "start_time": "2022-01-23T16:10:47.491Z"
   },
   {
    "duration": 45,
    "start_time": "2022-01-23T16:10:47.567Z"
   },
   {
    "duration": 83,
    "start_time": "2022-01-23T16:10:47.616Z"
   },
   {
    "duration": 26,
    "start_time": "2022-01-23T16:10:47.702Z"
   },
   {
    "duration": 165,
    "start_time": "2022-01-23T16:10:47.730Z"
   },
   {
    "duration": 42,
    "start_time": "2022-01-23T16:10:47.898Z"
   },
   {
    "duration": 66,
    "start_time": "2022-01-23T16:10:47.942Z"
   },
   {
    "duration": 108,
    "start_time": "2022-01-23T16:10:48.010Z"
   },
   {
    "duration": 292,
    "start_time": "2022-01-23T16:10:48.120Z"
   },
   {
    "duration": 25,
    "start_time": "2022-01-23T16:10:48.414Z"
   },
   {
    "duration": 137,
    "start_time": "2022-01-23T16:10:48.442Z"
   },
   {
    "duration": 1000,
    "start_time": "2022-01-23T16:10:48.581Z"
   },
   {
    "duration": 1010,
    "start_time": "2022-01-23T16:10:49.583Z"
   },
   {
    "duration": 21976,
    "start_time": "2022-01-23T16:10:50.595Z"
   },
   {
    "duration": 292,
    "start_time": "2022-01-23T16:11:12.573Z"
   },
   {
    "duration": 96,
    "start_time": "2022-01-23T16:11:12.869Z"
   },
   {
    "duration": 115,
    "start_time": "2022-01-23T16:11:12.970Z"
   },
   {
    "duration": 10282,
    "start_time": "2022-01-23T16:11:13.088Z"
   },
   {
    "duration": 1001,
    "start_time": "2022-01-23T16:11:23.372Z"
   },
   {
    "duration": 138953,
    "start_time": "2022-01-23T16:11:24.376Z"
   },
   {
    "duration": 540,
    "start_time": "2022-01-23T16:13:43.332Z"
   },
   {
    "duration": 8,
    "start_time": "2022-01-23T16:13:43.874Z"
   },
   {
    "duration": 17,
    "start_time": "2022-01-23T16:13:43.885Z"
   },
   {
    "duration": 9,
    "start_time": "2022-01-23T16:13:43.904Z"
   },
   {
    "duration": 466,
    "start_time": "2022-01-23T16:21:43.695Z"
   },
   {
    "duration": 245,
    "start_time": "2022-01-23T16:22:00.279Z"
   },
   {
    "duration": 167,
    "start_time": "2022-01-23T16:23:57.825Z"
   },
   {
    "duration": 24255,
    "start_time": "2022-01-23T16:24:10.710Z"
   },
   {
    "duration": 2001,
    "start_time": "2022-01-23T16:24:48.567Z"
   },
   {
    "duration": 69,
    "start_time": "2022-01-23T16:24:54.199Z"
   },
   {
    "duration": 7,
    "start_time": "2022-01-23T16:25:01.172Z"
   },
   {
    "duration": 72392,
    "start_time": "2022-01-23T16:25:11.492Z"
   },
   {
    "duration": 10801,
    "start_time": "2022-01-23T16:26:23.966Z"
   },
   {
    "duration": 6,
    "start_time": "2022-01-23T16:26:34.770Z"
   },
   {
    "duration": 143448,
    "start_time": "2022-01-23T16:30:00.429Z"
   },
   {
    "duration": 7,
    "start_time": "2022-01-23T16:33:17.227Z"
   },
   {
    "duration": 11163,
    "start_time": "2022-01-23T16:33:27.339Z"
   },
   {
    "duration": 7,
    "start_time": "2022-01-23T16:33:38.505Z"
   },
   {
    "duration": 26,
    "start_time": "2022-01-23T16:34:21.047Z"
   },
   {
    "duration": 584,
    "start_time": "2022-01-23T16:36:56.543Z"
   },
   {
    "duration": 32207,
    "start_time": "2022-01-23T16:37:06.793Z"
   },
   {
    "duration": 33014,
    "start_time": "2022-01-23T16:38:02.411Z"
   },
   {
    "duration": 1199,
    "start_time": "2022-01-23T16:38:59.725Z"
   },
   {
    "duration": 33760,
    "start_time": "2022-01-23T16:39:15.835Z"
   },
   {
    "duration": 45181,
    "start_time": "2022-01-23T16:39:59.226Z"
   },
   {
    "duration": 56229,
    "start_time": "2022-01-23T16:41:06.166Z"
   },
   {
    "duration": 73651,
    "start_time": "2022-01-23T16:42:27.375Z"
   },
   {
    "duration": 5,
    "start_time": "2022-01-23T16:54:00.059Z"
   },
   {
    "duration": 7437,
    "start_time": "2022-01-23T16:54:18.878Z"
   },
   {
    "duration": 164,
    "start_time": "2022-01-23T16:54:42.114Z"
   },
   {
    "duration": 7,
    "start_time": "2022-01-23T16:55:32.272Z"
   },
   {
    "duration": 185,
    "start_time": "2022-01-23T17:01:23.808Z"
   },
   {
    "duration": 509805,
    "start_time": "2022-01-23T17:11:35.873Z"
   },
   {
    "duration": 262,
    "start_time": "2022-01-23T17:24:28.323Z"
   },
   {
    "duration": 561311,
    "start_time": "2022-01-23T17:25:12.665Z"
   },
   {
    "duration": 336560,
    "start_time": "2022-01-23T17:36:53.751Z"
   },
   {
    "duration": 41394,
    "start_time": "2022-01-23T17:44:24.981Z"
   },
   {
    "duration": 6180,
    "start_time": "2022-01-23T17:45:54.287Z"
   },
   {
    "duration": 9,
    "start_time": "2022-01-23T17:46:03.971Z"
   },
   {
    "duration": 1540459,
    "start_time": "2022-01-23T17:48:40.236Z"
   },
   {
    "duration": 139932,
    "start_time": "2022-01-23T19:35:52.670Z"
   },
   {
    "duration": 1544779,
    "start_time": "2022-01-23T19:39:19.509Z"
   },
   {
    "duration": 7432,
    "start_time": "2022-01-23T20:05:04.292Z"
   },
   {
    "duration": 1775046,
    "start_time": "2022-01-23T20:09:43.147Z"
   },
   {
    "duration": 183638,
    "start_time": "2022-01-23T20:45:00.342Z"
   },
   {
    "duration": 669,
    "start_time": "2022-01-23T20:48:35.507Z"
   },
   {
    "duration": 7,
    "start_time": "2022-01-23T20:48:37.228Z"
   },
   {
    "duration": 7641,
    "start_time": "2022-01-23T20:48:57.366Z"
   },
   {
    "duration": 138,
    "start_time": "2022-01-23T20:49:08.076Z"
   },
   {
    "duration": 7,
    "start_time": "2022-01-23T20:49:08.921Z"
   },
   {
    "duration": 179103,
    "start_time": "2022-01-23T20:49:28.489Z"
   },
   {
    "duration": 293,
    "start_time": "2022-01-23T20:53:22.194Z"
   },
   {
    "duration": 7,
    "start_time": "2022-01-23T20:53:23.238Z"
   },
   {
    "duration": 185850,
    "start_time": "2022-01-23T20:53:47.844Z"
   },
   {
    "duration": 23968,
    "start_time": "2022-01-23T20:56:53.697Z"
   },
   {
    "duration": 695,
    "start_time": "2022-01-23T20:57:19.576Z"
   },
   {
    "duration": 7,
    "start_time": "2022-01-23T20:57:20.416Z"
   },
   {
    "duration": 7,
    "start_time": "2022-01-23T21:01:39.335Z"
   },
   {
    "duration": 20,
    "start_time": "2022-01-23T21:01:40.326Z"
   },
   {
    "duration": 6,
    "start_time": "2022-01-23T21:24:17.506Z"
   },
   {
    "duration": 1070,
    "start_time": "2022-01-23T21:24:17.514Z"
   },
   {
    "duration": 29,
    "start_time": "2022-01-23T21:24:18.587Z"
   },
   {
    "duration": 176,
    "start_time": "2022-01-23T21:24:18.618Z"
   },
   {
    "duration": 170,
    "start_time": "2022-01-23T21:24:18.796Z"
   },
   {
    "duration": 28,
    "start_time": "2022-01-23T21:24:18.969Z"
   },
   {
    "duration": 44,
    "start_time": "2022-01-23T21:24:18.999Z"
   },
   {
    "duration": 39,
    "start_time": "2022-01-23T21:24:19.067Z"
   },
   {
    "duration": 77,
    "start_time": "2022-01-23T21:24:19.109Z"
   },
   {
    "duration": 27,
    "start_time": "2022-01-23T21:24:19.189Z"
   },
   {
    "duration": 169,
    "start_time": "2022-01-23T21:24:19.218Z"
   },
   {
    "duration": 42,
    "start_time": "2022-01-23T21:24:19.390Z"
   },
   {
    "duration": 67,
    "start_time": "2022-01-23T21:24:19.435Z"
   },
   {
    "duration": 101,
    "start_time": "2022-01-23T21:24:19.504Z"
   },
   {
    "duration": 293,
    "start_time": "2022-01-23T21:24:19.607Z"
   },
   {
    "duration": 26,
    "start_time": "2022-01-23T21:24:19.903Z"
   },
   {
    "duration": 159,
    "start_time": "2022-01-23T21:24:19.931Z"
   },
   {
    "duration": 1322,
    "start_time": "2022-01-23T21:24:20.093Z"
   },
   {
    "duration": 1014,
    "start_time": "2022-01-23T21:24:21.417Z"
   },
   {
    "duration": 21835,
    "start_time": "2022-01-23T21:24:22.433Z"
   },
   {
    "duration": 298,
    "start_time": "2022-01-23T21:24:44.271Z"
   },
   {
    "duration": 96,
    "start_time": "2022-01-23T21:24:44.573Z"
   },
   {
    "duration": 4,
    "start_time": "2022-01-23T21:24:44.674Z"
   },
   {
    "duration": 125,
    "start_time": "2022-01-23T21:24:44.682Z"
   },
   {
    "duration": 36465,
    "start_time": "2022-01-23T21:24:44.810Z"
   },
   {
    "duration": 6692,
    "start_time": "2022-01-23T21:25:21.278Z"
   },
   {
    "duration": 8,
    "start_time": "2022-01-23T21:25:27.974Z"
   },
   {
    "duration": 186287,
    "start_time": "2022-01-23T21:25:27.985Z"
   },
   {
    "duration": 696,
    "start_time": "2022-01-23T21:28:34.275Z"
   },
   {
    "duration": 7,
    "start_time": "2022-01-23T21:28:34.974Z"
   },
   {
    "duration": 7030,
    "start_time": "2022-01-23T21:28:34.983Z"
   },
   {
    "duration": 181,
    "start_time": "2022-01-23T21:28:42.016Z"
   },
   {
    "duration": 7,
    "start_time": "2022-01-23T21:28:42.199Z"
   },
   {
    "duration": 5,
    "start_time": "2022-01-23T21:28:42.209Z"
   },
   {
    "duration": 14,
    "start_time": "2022-01-23T21:28:42.216Z"
   },
   {
    "duration": 1076,
    "start_time": "2022-01-24T06:26:06.899Z"
   },
   {
    "duration": 765,
    "start_time": "2022-01-24T06:26:08.512Z"
   },
   {
    "duration": 28,
    "start_time": "2022-01-24T06:26:09.278Z"
   },
   {
    "duration": 115,
    "start_time": "2022-01-24T06:26:22.066Z"
   },
   {
    "duration": 20,
    "start_time": "2022-01-24T06:26:30.925Z"
   },
   {
    "duration": 35,
    "start_time": "2022-01-24T06:26:32.132Z"
   },
   {
    "duration": 29,
    "start_time": "2022-01-24T06:28:52.098Z"
   },
   {
    "duration": 47,
    "start_time": "2022-01-24T06:29:12.450Z"
   },
   {
    "duration": 20,
    "start_time": "2022-01-24T06:29:19.191Z"
   },
   {
    "duration": 117,
    "start_time": "2022-01-24T06:29:20.620Z"
   },
   {
    "duration": 35,
    "start_time": "2022-01-24T06:30:25.573Z"
   },
   {
    "duration": 36,
    "start_time": "2022-01-24T06:30:26.292Z"
   },
   {
    "duration": 64,
    "start_time": "2022-01-24T06:30:27.810Z"
   },
   {
    "duration": 220,
    "start_time": "2022-01-24T06:30:28.757Z"
   },
   {
    "duration": 17,
    "start_time": "2022-01-24T06:31:09.636Z"
   },
   {
    "duration": 65,
    "start_time": "2022-01-24T06:31:49.812Z"
   },
   {
    "duration": 722,
    "start_time": "2022-01-24T06:31:50.640Z"
   },
   {
    "duration": 661,
    "start_time": "2022-01-24T06:31:51.364Z"
   },
   {
    "duration": 16789,
    "start_time": "2022-01-24T06:32:55.410Z"
   },
   {
    "duration": 204,
    "start_time": "2022-01-24T06:33:12.201Z"
   },
   {
    "duration": 94,
    "start_time": "2022-01-24T06:33:12.409Z"
   },
   {
    "duration": 3,
    "start_time": "2022-01-24T06:33:27.529Z"
   },
   {
    "duration": 73,
    "start_time": "2022-01-24T06:33:28.618Z"
   },
   {
    "duration": 27736,
    "start_time": "2022-01-24T06:33:55.969Z"
   },
   {
    "duration": 3096,
    "start_time": "2022-01-24T06:34:23.707Z"
   },
   {
    "duration": 4,
    "start_time": "2022-01-24T06:34:26.806Z"
   },
   {
    "duration": 133473,
    "start_time": "2022-01-24T06:34:27.727Z"
   },
   {
    "duration": 503,
    "start_time": "2022-01-24T06:36:41.202Z"
   },
   {
    "duration": 5,
    "start_time": "2022-01-24T06:36:41.707Z"
   },
   {
    "duration": 5911,
    "start_time": "2022-01-24T06:36:41.714Z"
   },
   {
    "duration": 139,
    "start_time": "2022-01-24T06:36:47.626Z"
   },
   {
    "duration": 4,
    "start_time": "2022-01-24T06:36:47.767Z"
   },
   {
    "duration": 3,
    "start_time": "2022-01-24T06:36:47.773Z"
   },
   {
    "duration": 23,
    "start_time": "2022-01-24T06:36:47.778Z"
   },
   {
    "duration": 1100,
    "start_time": "2022-01-24T19:22:09.830Z"
   },
   {
    "duration": 693,
    "start_time": "2022-01-24T19:22:17.034Z"
   },
   {
    "duration": 2819,
    "start_time": "2022-01-24T19:22:17.904Z"
   },
   {
    "duration": 117,
    "start_time": "2022-01-24T19:22:41.356Z"
   },
   {
    "duration": 123,
    "start_time": "2022-01-24T19:22:44.273Z"
   },
   {
    "duration": 19,
    "start_time": "2022-01-24T19:22:46.631Z"
   },
   {
    "duration": 32,
    "start_time": "2022-01-24T19:22:48.393Z"
   },
   {
    "duration": 30,
    "start_time": "2022-01-24T19:22:49.648Z"
   },
   {
    "duration": 60,
    "start_time": "2022-01-24T19:22:51.240Z"
   },
   {
    "duration": 19,
    "start_time": "2022-01-24T19:22:52.593Z"
   },
   {
    "duration": 121,
    "start_time": "2022-01-24T19:22:53.943Z"
   },
   {
    "duration": 32,
    "start_time": "2022-01-24T19:23:03.023Z"
   },
   {
    "duration": 33,
    "start_time": "2022-01-24T19:23:05.120Z"
   },
   {
    "duration": 62,
    "start_time": "2022-01-24T19:23:09.684Z"
   },
   {
    "duration": 227,
    "start_time": "2022-01-24T19:23:12.206Z"
   },
   {
    "duration": 16,
    "start_time": "2022-01-24T19:23:22.628Z"
   },
   {
    "duration": 88,
    "start_time": "2022-01-24T19:25:15.939Z"
   },
   {
    "duration": 347,
    "start_time": "2022-01-24T19:30:47.017Z"
   },
   {
    "duration": 574,
    "start_time": "2022-01-24T19:30:57.347Z"
   },
   {
    "duration": 2431,
    "start_time": "2022-01-24T19:30:58.901Z"
   },
   {
    "duration": 36,
    "start_time": "2022-01-24T19:31:03.105Z"
   },
   {
    "duration": 402,
    "start_time": "2022-01-24T19:37:46.426Z"
   },
   {
    "duration": 12,
    "start_time": "2022-01-24T19:41:09.990Z"
   },
   {
    "duration": 294,
    "start_time": "2022-01-24T19:41:24.052Z"
   },
   {
    "duration": 14,
    "start_time": "2022-01-24T19:41:36.702Z"
   },
   {
    "duration": 645,
    "start_time": "2022-01-24T19:42:41.157Z"
   },
   {
    "duration": 533,
    "start_time": "2022-01-24T19:56:53.179Z"
   },
   {
    "duration": 9330,
    "start_time": "2022-01-24T19:57:02.936Z"
   },
   {
    "duration": 20,
    "start_time": "2022-01-24T19:57:24.800Z"
   },
   {
    "duration": 10,
    "start_time": "2022-01-24T19:59:36.150Z"
   },
   {
    "duration": 13,
    "start_time": "2022-01-24T20:01:17.604Z"
   },
   {
    "duration": 66,
    "start_time": "2022-01-24T20:01:55.256Z"
   },
   {
    "duration": 86,
    "start_time": "2022-01-24T20:02:01.357Z"
   },
   {
    "duration": 384,
    "start_time": "2022-01-24T20:03:32.620Z"
   },
   {
    "duration": 93,
    "start_time": "2022-01-24T20:07:24.089Z"
   },
   {
    "duration": 64,
    "start_time": "2022-01-24T20:07:47.634Z"
   },
   {
    "duration": 70,
    "start_time": "2022-01-24T20:07:52.089Z"
   },
   {
    "duration": 49,
    "start_time": "2022-01-24T20:09:19.633Z"
   },
   {
    "duration": 44,
    "start_time": "2022-01-24T20:16:31.667Z"
   },
   {
    "duration": 10820,
    "start_time": "2022-01-24T20:16:32.510Z"
   },
   {
    "duration": 5,
    "start_time": "2022-01-24T20:16:47.414Z"
   },
   {
    "duration": 39,
    "start_time": "2022-01-24T20:23:57.471Z"
   },
   {
    "duration": 136,
    "start_time": "2022-01-24T20:23:58.572Z"
   },
   {
    "duration": 6,
    "start_time": "2022-01-24T20:23:59.796Z"
   },
   {
    "duration": 516,
    "start_time": "2022-01-24T20:25:44.460Z"
   },
   {
    "duration": 22,
    "start_time": "2022-01-24T20:25:47.317Z"
   },
   {
    "duration": 276,
    "start_time": "2022-01-24T20:25:49.051Z"
   },
   {
    "duration": 22,
    "start_time": "2022-01-24T20:26:12.583Z"
   },
   {
    "duration": 120,
    "start_time": "2022-01-24T20:26:13.411Z"
   },
   {
    "duration": 3,
    "start_time": "2022-01-24T20:31:08.329Z"
   },
   {
    "duration": 9,
    "start_time": "2022-01-24T20:31:11.392Z"
   },
   {
    "duration": 5633,
    "start_time": "2022-01-24T20:34:21.484Z"
   },
   {
    "duration": 118,
    "start_time": "2022-01-24T20:34:31.729Z"
   },
   {
    "duration": 3,
    "start_time": "2022-01-24T20:39:14.413Z"
   },
   {
    "duration": 15585,
    "start_time": "2022-01-24T20:39:14.417Z"
   },
   {
    "duration": 2998,
    "start_time": "2022-01-24T20:39:30.004Z"
   },
   {
    "duration": 4214,
    "start_time": "2022-01-24T20:39:33.003Z"
   },
   {
    "duration": 6297,
    "start_time": "2022-01-24T20:39:37.218Z"
   },
   {
    "duration": 2470,
    "start_time": "2022-01-24T20:39:43.516Z"
   },
   {
    "duration": 4131,
    "start_time": "2022-01-24T20:39:45.988Z"
   },
   {
    "duration": 2244,
    "start_time": "2022-01-24T20:39:50.121Z"
   },
   {
    "duration": 5354,
    "start_time": "2022-01-24T20:39:52.366Z"
   },
   {
    "duration": 6910,
    "start_time": "2022-01-24T20:39:57.722Z"
   },
   {
    "duration": 3474,
    "start_time": "2022-01-24T20:40:04.634Z"
   },
   {
    "duration": 1641,
    "start_time": "2022-01-24T20:40:08.109Z"
   },
   {
    "duration": 667,
    "start_time": "2022-01-24T20:40:09.751Z"
   },
   {
    "duration": 1128,
    "start_time": "2022-01-24T20:40:10.420Z"
   },
   {
    "duration": 929,
    "start_time": "2022-01-24T20:40:11.550Z"
   },
   {
    "duration": 302,
    "start_time": "2022-01-24T20:40:12.481Z"
   },
   {
    "duration": 955,
    "start_time": "2022-01-24T20:40:12.784Z"
   },
   {
    "duration": 3692,
    "start_time": "2022-01-24T20:40:13.740Z"
   },
   {
    "duration": 670,
    "start_time": "2022-01-24T20:40:17.435Z"
   },
   {
    "duration": 543,
    "start_time": "2022-01-24T20:40:18.107Z"
   },
   {
    "duration": 58,
    "start_time": "2022-01-24T20:40:18.652Z"
   },
   {
    "duration": 23427,
    "start_time": "2022-01-24T20:40:18.711Z"
   },
   {
    "duration": 204,
    "start_time": "2022-01-24T20:40:42.140Z"
   },
   {
    "duration": 1174,
    "start_time": "2022-01-24T20:40:42.373Z"
   },
   {
    "duration": 1306,
    "start_time": "2022-01-24T20:40:43.549Z"
   },
   {
    "duration": 1178,
    "start_time": "2022-01-24T20:40:44.857Z"
   },
   {
    "duration": 1297,
    "start_time": "2022-01-24T20:40:46.038Z"
   },
   {
    "duration": 1917,
    "start_time": "2022-01-24T20:40:47.337Z"
   },
   {
    "duration": 1408,
    "start_time": "2022-01-24T20:40:49.255Z"
   },
   {
    "duration": 29221,
    "start_time": "2022-01-24T20:40:50.665Z"
   },
   {
    "duration": 2818,
    "start_time": "2022-01-24T20:41:19.888Z"
   },
   {
    "duration": 9762,
    "start_time": "2022-01-24T20:41:22.772Z"
   },
   {
    "duration": 161143,
    "start_time": "2022-01-24T20:41:32.535Z"
   },
   {
    "duration": 407,
    "start_time": "2022-01-24T20:44:13.680Z"
   },
   {
    "duration": 259,
    "start_time": "2022-01-24T20:44:14.089Z"
   },
   {
    "duration": 6442,
    "start_time": "2022-01-24T20:44:14.349Z"
   },
   {
    "duration": 126,
    "start_time": "2022-01-24T20:44:20.793Z"
   },
   {
    "duration": 1534,
    "start_time": "2022-01-24T20:44:20.921Z"
   },
   {
    "duration": 1608,
    "start_time": "2022-01-24T20:44:22.457Z"
   },
   {
    "duration": 207,
    "start_time": "2022-01-24T20:44:24.066Z"
   },
   {
    "duration": 1330,
    "start_time": "2022-01-24T20:44:24.275Z"
   },
   {
    "duration": 1059,
    "start_time": "2022-01-24T20:44:25.606Z"
   },
   {
    "duration": 298,
    "start_time": "2022-01-24T20:44:26.667Z"
   },
   {
    "duration": 333,
    "start_time": "2022-01-24T20:46:00.890Z"
   },
   {
    "duration": 269,
    "start_time": "2022-01-24T20:49:02.191Z"
   },
   {
    "duration": 541,
    "start_time": "2022-01-24T20:49:12.671Z"
   },
   {
    "duration": 451,
    "start_time": "2022-01-24T20:49:34.519Z"
   },
   {
    "duration": 400,
    "start_time": "2022-01-24T20:49:48.806Z"
   },
   {
    "duration": 339,
    "start_time": "2022-01-24T20:49:59.312Z"
   },
   {
    "duration": 380,
    "start_time": "2022-01-24T20:50:04.093Z"
   },
   {
    "duration": 1288,
    "start_time": "2022-02-20T09:10:35.968Z"
   },
   {
    "duration": 852,
    "start_time": "2022-02-20T09:10:37.258Z"
   },
   {
    "duration": 19,
    "start_time": "2022-02-20T09:10:38.112Z"
   },
   {
    "duration": 142,
    "start_time": "2022-02-20T09:10:38.133Z"
   },
   {
    "duration": 133,
    "start_time": "2022-02-20T09:10:38.277Z"
   },
   {
    "duration": 22,
    "start_time": "2022-02-20T09:10:38.412Z"
   },
   {
    "duration": 47,
    "start_time": "2022-02-20T09:10:38.435Z"
   },
   {
    "duration": 33,
    "start_time": "2022-02-20T09:10:38.484Z"
   },
   {
    "duration": 66,
    "start_time": "2022-02-20T09:10:38.519Z"
   },
   {
    "duration": 20,
    "start_time": "2022-02-20T09:10:38.586Z"
   },
   {
    "duration": 139,
    "start_time": "2022-02-20T09:10:38.608Z"
   },
   {
    "duration": 46,
    "start_time": "2022-02-20T09:10:38.748Z"
   },
   {
    "duration": 41,
    "start_time": "2022-02-20T09:10:38.796Z"
   },
   {
    "duration": 84,
    "start_time": "2022-02-20T09:10:38.838Z"
   },
   {
    "duration": 237,
    "start_time": "2022-02-20T09:10:38.924Z"
   },
   {
    "duration": 19,
    "start_time": "2022-02-20T09:10:39.164Z"
   },
   {
    "duration": 88,
    "start_time": "2022-02-20T09:10:39.186Z"
   },
   {
    "duration": 897,
    "start_time": "2022-02-20T09:10:39.276Z"
   },
   {
    "duration": 724,
    "start_time": "2022-02-20T09:10:40.175Z"
   },
   {
    "duration": 576,
    "start_time": "2022-02-20T09:10:40.901Z"
   },
   {
    "duration": 54,
    "start_time": "2022-02-20T09:10:41.478Z"
   },
   {
    "duration": 17037,
    "start_time": "2022-02-20T09:10:41.534Z"
   },
   {
    "duration": 202,
    "start_time": "2022-02-20T09:10:58.574Z"
   },
   {
    "duration": 96,
    "start_time": "2022-02-20T09:10:58.779Z"
   },
   {
    "duration": 144,
    "start_time": "2022-02-20T09:10:58.879Z"
   },
   {
    "duration": 145,
    "start_time": "2022-02-20T09:10:59.026Z"
   },
   {
    "duration": 370,
    "start_time": "2022-02-20T09:10:59.174Z"
   },
   {
    "duration": -816,
    "start_time": "2022-02-20T09:11:00.362Z"
   },
   {
    "duration": -819,
    "start_time": "2022-02-20T09:11:00.366Z"
   },
   {
    "duration": -822,
    "start_time": "2022-02-20T09:11:00.370Z"
   },
   {
    "duration": -826,
    "start_time": "2022-02-20T09:11:00.375Z"
   },
   {
    "duration": -828,
    "start_time": "2022-02-20T09:11:00.378Z"
   },
   {
    "duration": -831,
    "start_time": "2022-02-20T09:11:00.382Z"
   },
   {
    "duration": -832,
    "start_time": "2022-02-20T09:11:00.385Z"
   },
   {
    "duration": -834,
    "start_time": "2022-02-20T09:11:00.388Z"
   },
   {
    "duration": -835,
    "start_time": "2022-02-20T09:11:00.390Z"
   },
   {
    "duration": -837,
    "start_time": "2022-02-20T09:11:00.393Z"
   },
   {
    "duration": -838,
    "start_time": "2022-02-20T09:11:00.395Z"
   },
   {
    "duration": -840,
    "start_time": "2022-02-20T09:11:00.398Z"
   },
   {
    "duration": -841,
    "start_time": "2022-02-20T09:11:00.400Z"
   },
   {
    "duration": -842,
    "start_time": "2022-02-20T09:11:00.402Z"
   },
   {
    "duration": -842,
    "start_time": "2022-02-20T09:11:00.403Z"
   },
   {
    "duration": -843,
    "start_time": "2022-02-20T09:11:00.405Z"
   },
   {
    "duration": -844,
    "start_time": "2022-02-20T09:11:00.407Z"
   },
   {
    "duration": 5,
    "start_time": "2022-02-20T09:12:45.231Z"
   },
   {
    "duration": 2,
    "start_time": "2022-02-20T09:12:58.422Z"
   },
   {
    "duration": 74,
    "start_time": "2022-02-20T09:12:58.980Z"
   },
   {
    "duration": 29600,
    "start_time": "2022-02-20T09:13:04.770Z"
   },
   {
    "duration": 3127,
    "start_time": "2022-02-20T09:13:37.060Z"
   },
   {
    "duration": 6,
    "start_time": "2022-02-20T09:13:40.533Z"
   },
   {
    "duration": 135330,
    "start_time": "2022-02-20T09:13:47.737Z"
   },
   {
    "duration": 513,
    "start_time": "2022-02-20T09:16:03.069Z"
   },
   {
    "duration": 5,
    "start_time": "2022-02-20T09:16:03.584Z"
   },
   {
    "duration": 459,
    "start_time": "2022-02-20T09:16:03.592Z"
   },
   {
    "duration": 6414,
    "start_time": "2022-02-20T09:16:04.053Z"
   },
   {
    "duration": 146,
    "start_time": "2022-02-20T09:16:10.469Z"
   },
   {
    "duration": 6,
    "start_time": "2022-02-20T09:16:10.617Z"
   },
   {
    "duration": 575,
    "start_time": "2022-02-20T09:16:10.626Z"
   },
   {
    "duration": 26,
    "start_time": "2022-02-20T09:16:11.204Z"
   },
   {
    "duration": 6,
    "start_time": "2022-02-20T09:16:11.233Z"
   },
   {
    "duration": 29,
    "start_time": "2022-02-20T09:16:11.241Z"
   },
   {
    "duration": 12,
    "start_time": "2022-02-20T09:16:11.272Z"
   }
  ],
  "kernelspec": {
   "display_name": "Python 3",
   "language": "python",
   "name": "python3"
  },
  "language_info": {
   "codemirror_mode": {
    "name": "ipython",
    "version": 3
   },
   "file_extension": ".py",
   "mimetype": "text/x-python",
   "name": "python",
   "nbconvert_exporter": "python",
   "pygments_lexer": "ipython3",
   "version": "3.7.8"
  },
  "toc": {
   "base_numbering": 1,
   "nav_menu": {},
   "number_sections": true,
   "sideBar": true,
   "skip_h1_title": true,
   "title_cell": "Table of Contents",
   "title_sidebar": "Contents",
   "toc_cell": false,
   "toc_position": {
    "height": "calc(100% - 180px)",
    "left": "10px",
    "top": "150px",
    "width": "286.237px"
   },
   "toc_section_display": true,
   "toc_window_display": false
  }
 },
 "nbformat": 4,
 "nbformat_minor": 2
}
