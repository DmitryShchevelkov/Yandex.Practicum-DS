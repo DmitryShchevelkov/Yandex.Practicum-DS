{
 "cells": [
  {
   "cell_type": "markdown",
   "metadata": {
    "toc": true
   },
   "source": [
    "<h1>Содержание<span class=\"tocSkip\"></span></h1>\n",
    "<div class=\"toc\"><ul class=\"toc-item\"><li><span><a href=\"#Изучение-данных-из-файла\" data-toc-modified-id=\"Изучение-данных-из-файла-1\"><span class=\"toc-item-num\">1&nbsp;&nbsp;</span>Изучение данных из файла</a></span><ul class=\"toc-item\"><li><span><a href=\"#Вывод\" data-toc-modified-id=\"Вывод-1.1\"><span class=\"toc-item-num\">1.1&nbsp;&nbsp;</span>Вывод</a></span></li></ul></li><li><span><a href=\"#Предобработка-данных\" data-toc-modified-id=\"Предобработка-данных-2\"><span class=\"toc-item-num\">2&nbsp;&nbsp;</span>Предобработка данных</a></span></li><li><span><a href=\"#Расчёты-и-добавление-результатов-в-таблицу\" data-toc-modified-id=\"Расчёты-и-добавление-результатов-в-таблицу-3\"><span class=\"toc-item-num\">3&nbsp;&nbsp;</span>Расчёты и добавление результатов в таблицу</a></span></li><li><span><a href=\"#Исследовательский-анализ-данных\" data-toc-modified-id=\"Исследовательский-анализ-данных-4\"><span class=\"toc-item-num\">4&nbsp;&nbsp;</span>Исследовательский анализ данных</a></span><ul class=\"toc-item\"><li><span><a href=\"#Изучение-параметров\" data-toc-modified-id=\"Изучение-параметров-4.1\"><span class=\"toc-item-num\">4.1&nbsp;&nbsp;</span>Изучение параметров</a></span></li><li><span><a href=\"#Анализ-времени-продажи-квартир\" data-toc-modified-id=\"Анализ-времени-продажи-квартир-4.2\"><span class=\"toc-item-num\">4.2&nbsp;&nbsp;</span>Анализ времени продажи квартир</a></span></li><li><span><a href=\"#Избавление-от-выбивающихся-значений\" data-toc-modified-id=\"Избавление-от-выбивающихся-значений-4.3\"><span class=\"toc-item-num\">4.3&nbsp;&nbsp;</span>Избавление от выбивающихся значений</a></span></li><li><span><a href=\"#Анализ-влияния-параметров-на-цену\" data-toc-modified-id=\"Анализ-влияния-параметров-на-цену-4.4\"><span class=\"toc-item-num\">4.4&nbsp;&nbsp;</span>Анализ влияния параметров на цену</a></span></li><li><span><a href=\"#Определение-населенных-пунктов-с-самой-дорогой-ценой-квадратного-метра-и-самой-дешёвой\" data-toc-modified-id=\"Определение-населенных-пунктов-с-самой-дорогой-ценой-квадратного-метра-и-самой-дешёвой-4.5\"><span class=\"toc-item-num\">4.5&nbsp;&nbsp;</span>Определение населенных пунктов с самой дорогой ценой квадратного метра и самой дешёвой</a></span></li><li><span><a href=\"#Выявление-&quot;центра-Санкт-Петербурга&quot;\" data-toc-modified-id=\"Выявление-&quot;центра-Санкт-Петербурга&quot;-4.6\"><span class=\"toc-item-num\">4.6&nbsp;&nbsp;</span>Выявление \"центра Санкт-Петербурга\"</a></span></li><li><span><a href=\"#Анализ-параметров-для-центра-Санкт-Петербурга\" data-toc-modified-id=\"Анализ-параметров-для-центра-Санкт-Петербурга-4.7\"><span class=\"toc-item-num\">4.7&nbsp;&nbsp;</span>Анализ параметров для центра Санкт-Петербурга</a></span></li></ul></li><li><span><a href=\"#Общий-вывод\" data-toc-modified-id=\"Общий-вывод-5\"><span class=\"toc-item-num\">5&nbsp;&nbsp;</span>Общий вывод</a></span></li><li><span><a href=\"#Чек-лист-готовности-проекта\" data-toc-modified-id=\"Чек-лист-готовности-проекта-6\"><span class=\"toc-item-num\">6&nbsp;&nbsp;</span>Чек-лист готовности проекта</a></span></li></ul></div>"
   ]
  },
  {
   "cell_type": "markdown",
   "metadata": {},
   "source": [
    "# Исследование объявлений о продаже квартир\n",
    "\n",
    "В вашем распоряжении данные сервиса Яндекс.Недвижимость — архив объявлений о продаже квартир в Санкт-Петербурге и соседних населённых пунктах за несколько лет. Нужно научиться определять рыночную стоимость объектов недвижимости. Ваша задача — установить параметры. Это позволит построить автоматизированную систему: она отследит аномалии и мошенническую деятельность. \n",
    "\n",
    "По каждой квартире на продажу доступны два вида данных. Первые вписаны пользователем, вторые получены автоматически на основе картографических данных. Например, расстояние до центра, аэропорта, ближайшего парка и водоёма. "
   ]
  },
  {
   "cell_type": "markdown",
   "metadata": {},
   "source": [
    "## Изучение данных из файла"
   ]
  },
  {
   "cell_type": "code",
   "execution_count": 1,
   "metadata": {},
   "outputs": [
    {
     "name": "stdout",
     "output_type": "stream",
     "text": [
      "<class 'pandas.core.frame.DataFrame'>\n",
      "RangeIndex: 23699 entries, 0 to 23698\n",
      "Data columns (total 22 columns):\n",
      " #   Column                Non-Null Count  Dtype  \n",
      "---  ------                --------------  -----  \n",
      " 0   total_images          23699 non-null  int64  \n",
      " 1   last_price            23699 non-null  float64\n",
      " 2   total_area            23699 non-null  float64\n",
      " 3   first_day_exposition  23699 non-null  object \n",
      " 4   rooms                 23699 non-null  int64  \n",
      " 5   ceiling_height        14504 non-null  float64\n",
      " 6   floors_total          23613 non-null  float64\n",
      " 7   living_area           21796 non-null  float64\n",
      " 8   floor                 23699 non-null  int64  \n",
      " 9   is_apartment          2775 non-null   object \n",
      " 10  studio                23699 non-null  bool   \n",
      " 11  open_plan             23699 non-null  bool   \n",
      " 12  kitchen_area          21421 non-null  float64\n",
      " 13  balcony               12180 non-null  float64\n",
      " 14  locality_name         23650 non-null  object \n",
      " 15  airports_nearest      18157 non-null  float64\n",
      " 16  cityCenters_nearest   18180 non-null  float64\n",
      " 17  parks_around3000      18181 non-null  float64\n",
      " 18  parks_nearest         8079 non-null   float64\n",
      " 19  ponds_around3000      18181 non-null  float64\n",
      " 20  ponds_nearest         9110 non-null   float64\n",
      " 21  days_exposition       20518 non-null  float64\n",
      "dtypes: bool(2), float64(14), int64(3), object(3)\n",
      "memory usage: 3.7+ MB\n"
     ]
    }
   ],
   "source": [
    "import pandas as pd\n",
    "import matplotlib.pyplot as plt\n",
    "df = pd.read_csv('real_estate_data.csv', sep='\\t')\n",
    "\n",
    "df.info()"
   ]
  },
  {
   "cell_type": "code",
   "execution_count": 2,
   "metadata": {},
   "outputs": [
    {
     "data": {
      "text/html": [
       "<div>\n",
       "<style scoped>\n",
       "    .dataframe tbody tr th:only-of-type {\n",
       "        vertical-align: middle;\n",
       "    }\n",
       "\n",
       "    .dataframe tbody tr th {\n",
       "        vertical-align: top;\n",
       "    }\n",
       "\n",
       "    .dataframe thead th {\n",
       "        text-align: right;\n",
       "    }\n",
       "</style>\n",
       "<table border=\"1\" class=\"dataframe\">\n",
       "  <thead>\n",
       "    <tr style=\"text-align: right;\">\n",
       "      <th></th>\n",
       "      <th>total_images</th>\n",
       "      <th>last_price</th>\n",
       "      <th>total_area</th>\n",
       "      <th>first_day_exposition</th>\n",
       "      <th>rooms</th>\n",
       "      <th>ceiling_height</th>\n",
       "      <th>floors_total</th>\n",
       "      <th>living_area</th>\n",
       "      <th>floor</th>\n",
       "      <th>is_apartment</th>\n",
       "      <th>...</th>\n",
       "      <th>kitchen_area</th>\n",
       "      <th>balcony</th>\n",
       "      <th>locality_name</th>\n",
       "      <th>airports_nearest</th>\n",
       "      <th>cityCenters_nearest</th>\n",
       "      <th>parks_around3000</th>\n",
       "      <th>parks_nearest</th>\n",
       "      <th>ponds_around3000</th>\n",
       "      <th>ponds_nearest</th>\n",
       "      <th>days_exposition</th>\n",
       "    </tr>\n",
       "  </thead>\n",
       "  <tbody>\n",
       "    <tr>\n",
       "      <th>0</th>\n",
       "      <td>20</td>\n",
       "      <td>13000000.0</td>\n",
       "      <td>108.00</td>\n",
       "      <td>2019-03-07T00:00:00</td>\n",
       "      <td>3</td>\n",
       "      <td>2.70</td>\n",
       "      <td>16.0</td>\n",
       "      <td>51.00</td>\n",
       "      <td>8</td>\n",
       "      <td>NaN</td>\n",
       "      <td>...</td>\n",
       "      <td>25.00</td>\n",
       "      <td>NaN</td>\n",
       "      <td>Санкт-Петербург</td>\n",
       "      <td>18863.0</td>\n",
       "      <td>16028.0</td>\n",
       "      <td>1.0</td>\n",
       "      <td>482.0</td>\n",
       "      <td>2.0</td>\n",
       "      <td>755.0</td>\n",
       "      <td>NaN</td>\n",
       "    </tr>\n",
       "    <tr>\n",
       "      <th>1</th>\n",
       "      <td>7</td>\n",
       "      <td>3350000.0</td>\n",
       "      <td>40.40</td>\n",
       "      <td>2018-12-04T00:00:00</td>\n",
       "      <td>1</td>\n",
       "      <td>NaN</td>\n",
       "      <td>11.0</td>\n",
       "      <td>18.60</td>\n",
       "      <td>1</td>\n",
       "      <td>NaN</td>\n",
       "      <td>...</td>\n",
       "      <td>11.00</td>\n",
       "      <td>2.0</td>\n",
       "      <td>посёлок Шушары</td>\n",
       "      <td>12817.0</td>\n",
       "      <td>18603.0</td>\n",
       "      <td>0.0</td>\n",
       "      <td>NaN</td>\n",
       "      <td>0.0</td>\n",
       "      <td>NaN</td>\n",
       "      <td>81.0</td>\n",
       "    </tr>\n",
       "    <tr>\n",
       "      <th>2</th>\n",
       "      <td>10</td>\n",
       "      <td>5196000.0</td>\n",
       "      <td>56.00</td>\n",
       "      <td>2015-08-20T00:00:00</td>\n",
       "      <td>2</td>\n",
       "      <td>NaN</td>\n",
       "      <td>5.0</td>\n",
       "      <td>34.30</td>\n",
       "      <td>4</td>\n",
       "      <td>NaN</td>\n",
       "      <td>...</td>\n",
       "      <td>8.30</td>\n",
       "      <td>0.0</td>\n",
       "      <td>Санкт-Петербург</td>\n",
       "      <td>21741.0</td>\n",
       "      <td>13933.0</td>\n",
       "      <td>1.0</td>\n",
       "      <td>90.0</td>\n",
       "      <td>2.0</td>\n",
       "      <td>574.0</td>\n",
       "      <td>558.0</td>\n",
       "    </tr>\n",
       "    <tr>\n",
       "      <th>3</th>\n",
       "      <td>0</td>\n",
       "      <td>64900000.0</td>\n",
       "      <td>159.00</td>\n",
       "      <td>2015-07-24T00:00:00</td>\n",
       "      <td>3</td>\n",
       "      <td>NaN</td>\n",
       "      <td>14.0</td>\n",
       "      <td>NaN</td>\n",
       "      <td>9</td>\n",
       "      <td>NaN</td>\n",
       "      <td>...</td>\n",
       "      <td>NaN</td>\n",
       "      <td>0.0</td>\n",
       "      <td>Санкт-Петербург</td>\n",
       "      <td>28098.0</td>\n",
       "      <td>6800.0</td>\n",
       "      <td>2.0</td>\n",
       "      <td>84.0</td>\n",
       "      <td>3.0</td>\n",
       "      <td>234.0</td>\n",
       "      <td>424.0</td>\n",
       "    </tr>\n",
       "    <tr>\n",
       "      <th>4</th>\n",
       "      <td>2</td>\n",
       "      <td>10000000.0</td>\n",
       "      <td>100.00</td>\n",
       "      <td>2018-06-19T00:00:00</td>\n",
       "      <td>2</td>\n",
       "      <td>3.03</td>\n",
       "      <td>14.0</td>\n",
       "      <td>32.00</td>\n",
       "      <td>13</td>\n",
       "      <td>NaN</td>\n",
       "      <td>...</td>\n",
       "      <td>41.00</td>\n",
       "      <td>NaN</td>\n",
       "      <td>Санкт-Петербург</td>\n",
       "      <td>31856.0</td>\n",
       "      <td>8098.0</td>\n",
       "      <td>2.0</td>\n",
       "      <td>112.0</td>\n",
       "      <td>1.0</td>\n",
       "      <td>48.0</td>\n",
       "      <td>121.0</td>\n",
       "    </tr>\n",
       "    <tr>\n",
       "      <th>5</th>\n",
       "      <td>10</td>\n",
       "      <td>2890000.0</td>\n",
       "      <td>30.40</td>\n",
       "      <td>2018-09-10T00:00:00</td>\n",
       "      <td>1</td>\n",
       "      <td>NaN</td>\n",
       "      <td>12.0</td>\n",
       "      <td>14.40</td>\n",
       "      <td>5</td>\n",
       "      <td>NaN</td>\n",
       "      <td>...</td>\n",
       "      <td>9.10</td>\n",
       "      <td>NaN</td>\n",
       "      <td>городской посёлок Янино-1</td>\n",
       "      <td>NaN</td>\n",
       "      <td>NaN</td>\n",
       "      <td>NaN</td>\n",
       "      <td>NaN</td>\n",
       "      <td>NaN</td>\n",
       "      <td>NaN</td>\n",
       "      <td>55.0</td>\n",
       "    </tr>\n",
       "    <tr>\n",
       "      <th>6</th>\n",
       "      <td>6</td>\n",
       "      <td>3700000.0</td>\n",
       "      <td>37.30</td>\n",
       "      <td>2017-11-02T00:00:00</td>\n",
       "      <td>1</td>\n",
       "      <td>NaN</td>\n",
       "      <td>26.0</td>\n",
       "      <td>10.60</td>\n",
       "      <td>6</td>\n",
       "      <td>NaN</td>\n",
       "      <td>...</td>\n",
       "      <td>14.40</td>\n",
       "      <td>1.0</td>\n",
       "      <td>посёлок Парголово</td>\n",
       "      <td>52996.0</td>\n",
       "      <td>19143.0</td>\n",
       "      <td>0.0</td>\n",
       "      <td>NaN</td>\n",
       "      <td>0.0</td>\n",
       "      <td>NaN</td>\n",
       "      <td>155.0</td>\n",
       "    </tr>\n",
       "    <tr>\n",
       "      <th>7</th>\n",
       "      <td>5</td>\n",
       "      <td>7915000.0</td>\n",
       "      <td>71.60</td>\n",
       "      <td>2019-04-18T00:00:00</td>\n",
       "      <td>2</td>\n",
       "      <td>NaN</td>\n",
       "      <td>24.0</td>\n",
       "      <td>NaN</td>\n",
       "      <td>22</td>\n",
       "      <td>NaN</td>\n",
       "      <td>...</td>\n",
       "      <td>18.90</td>\n",
       "      <td>2.0</td>\n",
       "      <td>Санкт-Петербург</td>\n",
       "      <td>23982.0</td>\n",
       "      <td>11634.0</td>\n",
       "      <td>0.0</td>\n",
       "      <td>NaN</td>\n",
       "      <td>0.0</td>\n",
       "      <td>NaN</td>\n",
       "      <td>NaN</td>\n",
       "    </tr>\n",
       "    <tr>\n",
       "      <th>8</th>\n",
       "      <td>20</td>\n",
       "      <td>2900000.0</td>\n",
       "      <td>33.16</td>\n",
       "      <td>2018-05-23T00:00:00</td>\n",
       "      <td>1</td>\n",
       "      <td>NaN</td>\n",
       "      <td>27.0</td>\n",
       "      <td>15.43</td>\n",
       "      <td>26</td>\n",
       "      <td>NaN</td>\n",
       "      <td>...</td>\n",
       "      <td>8.81</td>\n",
       "      <td>NaN</td>\n",
       "      <td>посёлок Мурино</td>\n",
       "      <td>NaN</td>\n",
       "      <td>NaN</td>\n",
       "      <td>NaN</td>\n",
       "      <td>NaN</td>\n",
       "      <td>NaN</td>\n",
       "      <td>NaN</td>\n",
       "      <td>189.0</td>\n",
       "    </tr>\n",
       "    <tr>\n",
       "      <th>9</th>\n",
       "      <td>18</td>\n",
       "      <td>5400000.0</td>\n",
       "      <td>61.00</td>\n",
       "      <td>2017-02-26T00:00:00</td>\n",
       "      <td>3</td>\n",
       "      <td>2.50</td>\n",
       "      <td>9.0</td>\n",
       "      <td>43.60</td>\n",
       "      <td>7</td>\n",
       "      <td>NaN</td>\n",
       "      <td>...</td>\n",
       "      <td>6.50</td>\n",
       "      <td>2.0</td>\n",
       "      <td>Санкт-Петербург</td>\n",
       "      <td>50898.0</td>\n",
       "      <td>15008.0</td>\n",
       "      <td>0.0</td>\n",
       "      <td>NaN</td>\n",
       "      <td>0.0</td>\n",
       "      <td>NaN</td>\n",
       "      <td>289.0</td>\n",
       "    </tr>\n",
       "    <tr>\n",
       "      <th>10</th>\n",
       "      <td>5</td>\n",
       "      <td>5050000.0</td>\n",
       "      <td>39.60</td>\n",
       "      <td>2017-11-16T00:00:00</td>\n",
       "      <td>1</td>\n",
       "      <td>2.67</td>\n",
       "      <td>12.0</td>\n",
       "      <td>20.30</td>\n",
       "      <td>3</td>\n",
       "      <td>NaN</td>\n",
       "      <td>...</td>\n",
       "      <td>8.50</td>\n",
       "      <td>NaN</td>\n",
       "      <td>Санкт-Петербург</td>\n",
       "      <td>38357.0</td>\n",
       "      <td>13878.0</td>\n",
       "      <td>1.0</td>\n",
       "      <td>310.0</td>\n",
       "      <td>2.0</td>\n",
       "      <td>553.0</td>\n",
       "      <td>137.0</td>\n",
       "    </tr>\n",
       "    <tr>\n",
       "      <th>11</th>\n",
       "      <td>9</td>\n",
       "      <td>3300000.0</td>\n",
       "      <td>44.00</td>\n",
       "      <td>2018-08-27T00:00:00</td>\n",
       "      <td>2</td>\n",
       "      <td>NaN</td>\n",
       "      <td>5.0</td>\n",
       "      <td>31.00</td>\n",
       "      <td>4</td>\n",
       "      <td>False</td>\n",
       "      <td>...</td>\n",
       "      <td>6.00</td>\n",
       "      <td>1.0</td>\n",
       "      <td>Ломоносов</td>\n",
       "      <td>48252.0</td>\n",
       "      <td>51677.0</td>\n",
       "      <td>0.0</td>\n",
       "      <td>NaN</td>\n",
       "      <td>0.0</td>\n",
       "      <td>NaN</td>\n",
       "      <td>7.0</td>\n",
       "    </tr>\n",
       "    <tr>\n",
       "      <th>12</th>\n",
       "      <td>10</td>\n",
       "      <td>3890000.0</td>\n",
       "      <td>54.00</td>\n",
       "      <td>2016-06-30T00:00:00</td>\n",
       "      <td>2</td>\n",
       "      <td>NaN</td>\n",
       "      <td>5.0</td>\n",
       "      <td>30.00</td>\n",
       "      <td>5</td>\n",
       "      <td>NaN</td>\n",
       "      <td>...</td>\n",
       "      <td>9.00</td>\n",
       "      <td>0.0</td>\n",
       "      <td>Сертолово</td>\n",
       "      <td>NaN</td>\n",
       "      <td>NaN</td>\n",
       "      <td>NaN</td>\n",
       "      <td>NaN</td>\n",
       "      <td>NaN</td>\n",
       "      <td>NaN</td>\n",
       "      <td>90.0</td>\n",
       "    </tr>\n",
       "    <tr>\n",
       "      <th>13</th>\n",
       "      <td>20</td>\n",
       "      <td>3550000.0</td>\n",
       "      <td>42.80</td>\n",
       "      <td>2017-07-01T00:00:00</td>\n",
       "      <td>2</td>\n",
       "      <td>2.56</td>\n",
       "      <td>5.0</td>\n",
       "      <td>27.00</td>\n",
       "      <td>5</td>\n",
       "      <td>NaN</td>\n",
       "      <td>...</td>\n",
       "      <td>5.20</td>\n",
       "      <td>1.0</td>\n",
       "      <td>Петергоф</td>\n",
       "      <td>37868.0</td>\n",
       "      <td>33058.0</td>\n",
       "      <td>1.0</td>\n",
       "      <td>294.0</td>\n",
       "      <td>3.0</td>\n",
       "      <td>298.0</td>\n",
       "      <td>366.0</td>\n",
       "    </tr>\n",
       "    <tr>\n",
       "      <th>14</th>\n",
       "      <td>1</td>\n",
       "      <td>4400000.0</td>\n",
       "      <td>36.00</td>\n",
       "      <td>2016-06-23T00:00:00</td>\n",
       "      <td>1</td>\n",
       "      <td>NaN</td>\n",
       "      <td>6.0</td>\n",
       "      <td>17.00</td>\n",
       "      <td>1</td>\n",
       "      <td>NaN</td>\n",
       "      <td>...</td>\n",
       "      <td>8.00</td>\n",
       "      <td>0.0</td>\n",
       "      <td>Пушкин</td>\n",
       "      <td>20782.0</td>\n",
       "      <td>30759.0</td>\n",
       "      <td>0.0</td>\n",
       "      <td>NaN</td>\n",
       "      <td>1.0</td>\n",
       "      <td>96.0</td>\n",
       "      <td>203.0</td>\n",
       "    </tr>\n",
       "  </tbody>\n",
       "</table>\n",
       "<p>15 rows × 22 columns</p>\n",
       "</div>"
      ],
      "text/plain": [
       "    total_images  last_price  total_area first_day_exposition  rooms  \\\n",
       "0             20  13000000.0      108.00  2019-03-07T00:00:00      3   \n",
       "1              7   3350000.0       40.40  2018-12-04T00:00:00      1   \n",
       "2             10   5196000.0       56.00  2015-08-20T00:00:00      2   \n",
       "3              0  64900000.0      159.00  2015-07-24T00:00:00      3   \n",
       "4              2  10000000.0      100.00  2018-06-19T00:00:00      2   \n",
       "5             10   2890000.0       30.40  2018-09-10T00:00:00      1   \n",
       "6              6   3700000.0       37.30  2017-11-02T00:00:00      1   \n",
       "7              5   7915000.0       71.60  2019-04-18T00:00:00      2   \n",
       "8             20   2900000.0       33.16  2018-05-23T00:00:00      1   \n",
       "9             18   5400000.0       61.00  2017-02-26T00:00:00      3   \n",
       "10             5   5050000.0       39.60  2017-11-16T00:00:00      1   \n",
       "11             9   3300000.0       44.00  2018-08-27T00:00:00      2   \n",
       "12            10   3890000.0       54.00  2016-06-30T00:00:00      2   \n",
       "13            20   3550000.0       42.80  2017-07-01T00:00:00      2   \n",
       "14             1   4400000.0       36.00  2016-06-23T00:00:00      1   \n",
       "\n",
       "    ceiling_height  floors_total  living_area  floor is_apartment  ...  \\\n",
       "0             2.70          16.0        51.00      8          NaN  ...   \n",
       "1              NaN          11.0        18.60      1          NaN  ...   \n",
       "2              NaN           5.0        34.30      4          NaN  ...   \n",
       "3              NaN          14.0          NaN      9          NaN  ...   \n",
       "4             3.03          14.0        32.00     13          NaN  ...   \n",
       "5              NaN          12.0        14.40      5          NaN  ...   \n",
       "6              NaN          26.0        10.60      6          NaN  ...   \n",
       "7              NaN          24.0          NaN     22          NaN  ...   \n",
       "8              NaN          27.0        15.43     26          NaN  ...   \n",
       "9             2.50           9.0        43.60      7          NaN  ...   \n",
       "10            2.67          12.0        20.30      3          NaN  ...   \n",
       "11             NaN           5.0        31.00      4        False  ...   \n",
       "12             NaN           5.0        30.00      5          NaN  ...   \n",
       "13            2.56           5.0        27.00      5          NaN  ...   \n",
       "14             NaN           6.0        17.00      1          NaN  ...   \n",
       "\n",
       "    kitchen_area  balcony              locality_name  airports_nearest  \\\n",
       "0          25.00      NaN            Санкт-Петербург           18863.0   \n",
       "1          11.00      2.0             посёлок Шушары           12817.0   \n",
       "2           8.30      0.0            Санкт-Петербург           21741.0   \n",
       "3            NaN      0.0            Санкт-Петербург           28098.0   \n",
       "4          41.00      NaN            Санкт-Петербург           31856.0   \n",
       "5           9.10      NaN  городской посёлок Янино-1               NaN   \n",
       "6          14.40      1.0          посёлок Парголово           52996.0   \n",
       "7          18.90      2.0            Санкт-Петербург           23982.0   \n",
       "8           8.81      NaN             посёлок Мурино               NaN   \n",
       "9           6.50      2.0            Санкт-Петербург           50898.0   \n",
       "10          8.50      NaN            Санкт-Петербург           38357.0   \n",
       "11          6.00      1.0                  Ломоносов           48252.0   \n",
       "12          9.00      0.0                  Сертолово               NaN   \n",
       "13          5.20      1.0                   Петергоф           37868.0   \n",
       "14          8.00      0.0                     Пушкин           20782.0   \n",
       "\n",
       "   cityCenters_nearest  parks_around3000  parks_nearest  ponds_around3000  \\\n",
       "0              16028.0               1.0          482.0               2.0   \n",
       "1              18603.0               0.0            NaN               0.0   \n",
       "2              13933.0               1.0           90.0               2.0   \n",
       "3               6800.0               2.0           84.0               3.0   \n",
       "4               8098.0               2.0          112.0               1.0   \n",
       "5                  NaN               NaN            NaN               NaN   \n",
       "6              19143.0               0.0            NaN               0.0   \n",
       "7              11634.0               0.0            NaN               0.0   \n",
       "8                  NaN               NaN            NaN               NaN   \n",
       "9              15008.0               0.0            NaN               0.0   \n",
       "10             13878.0               1.0          310.0               2.0   \n",
       "11             51677.0               0.0            NaN               0.0   \n",
       "12                 NaN               NaN            NaN               NaN   \n",
       "13             33058.0               1.0          294.0               3.0   \n",
       "14             30759.0               0.0            NaN               1.0   \n",
       "\n",
       "    ponds_nearest  days_exposition  \n",
       "0           755.0              NaN  \n",
       "1             NaN             81.0  \n",
       "2           574.0            558.0  \n",
       "3           234.0            424.0  \n",
       "4            48.0            121.0  \n",
       "5             NaN             55.0  \n",
       "6             NaN            155.0  \n",
       "7             NaN              NaN  \n",
       "8             NaN            189.0  \n",
       "9             NaN            289.0  \n",
       "10          553.0            137.0  \n",
       "11            NaN              7.0  \n",
       "12            NaN             90.0  \n",
       "13          298.0            366.0  \n",
       "14           96.0            203.0  \n",
       "\n",
       "[15 rows x 22 columns]"
      ]
     },
     "execution_count": 2,
     "metadata": {},
     "output_type": "execute_result"
    }
   ],
   "source": [
    "df.head(15)"
   ]
  },
  {
   "cell_type": "code",
   "execution_count": 3,
   "metadata": {},
   "outputs": [
    {
     "data": {
      "text/html": [
       "<div>\n",
       "<style scoped>\n",
       "    .dataframe tbody tr th:only-of-type {\n",
       "        vertical-align: middle;\n",
       "    }\n",
       "\n",
       "    .dataframe tbody tr th {\n",
       "        vertical-align: top;\n",
       "    }\n",
       "\n",
       "    .dataframe thead th {\n",
       "        text-align: right;\n",
       "    }\n",
       "</style>\n",
       "<table border=\"1\" class=\"dataframe\">\n",
       "  <thead>\n",
       "    <tr style=\"text-align: right;\">\n",
       "      <th></th>\n",
       "      <th>total_images</th>\n",
       "      <th>last_price</th>\n",
       "      <th>total_area</th>\n",
       "      <th>rooms</th>\n",
       "      <th>ceiling_height</th>\n",
       "      <th>floors_total</th>\n",
       "      <th>living_area</th>\n",
       "      <th>floor</th>\n",
       "      <th>kitchen_area</th>\n",
       "      <th>balcony</th>\n",
       "      <th>airports_nearest</th>\n",
       "      <th>cityCenters_nearest</th>\n",
       "      <th>parks_around3000</th>\n",
       "      <th>parks_nearest</th>\n",
       "      <th>ponds_around3000</th>\n",
       "      <th>ponds_nearest</th>\n",
       "      <th>days_exposition</th>\n",
       "    </tr>\n",
       "  </thead>\n",
       "  <tbody>\n",
       "    <tr>\n",
       "      <th>count</th>\n",
       "      <td>23699.000000</td>\n",
       "      <td>2.369900e+04</td>\n",
       "      <td>23699.000000</td>\n",
       "      <td>23699.000000</td>\n",
       "      <td>14504.000000</td>\n",
       "      <td>23613.000000</td>\n",
       "      <td>21796.000000</td>\n",
       "      <td>23699.000000</td>\n",
       "      <td>21421.000000</td>\n",
       "      <td>12180.000000</td>\n",
       "      <td>18157.000000</td>\n",
       "      <td>18180.000000</td>\n",
       "      <td>18181.000000</td>\n",
       "      <td>8079.000000</td>\n",
       "      <td>18181.000000</td>\n",
       "      <td>9110.000000</td>\n",
       "      <td>20518.000000</td>\n",
       "    </tr>\n",
       "    <tr>\n",
       "      <th>mean</th>\n",
       "      <td>9.858475</td>\n",
       "      <td>6.541549e+06</td>\n",
       "      <td>60.348651</td>\n",
       "      <td>2.070636</td>\n",
       "      <td>2.771499</td>\n",
       "      <td>10.673824</td>\n",
       "      <td>34.457852</td>\n",
       "      <td>5.892358</td>\n",
       "      <td>10.569807</td>\n",
       "      <td>1.150082</td>\n",
       "      <td>28793.672193</td>\n",
       "      <td>14191.277833</td>\n",
       "      <td>0.611408</td>\n",
       "      <td>490.804555</td>\n",
       "      <td>0.770255</td>\n",
       "      <td>517.980900</td>\n",
       "      <td>180.888634</td>\n",
       "    </tr>\n",
       "    <tr>\n",
       "      <th>std</th>\n",
       "      <td>5.682529</td>\n",
       "      <td>1.088701e+07</td>\n",
       "      <td>35.654083</td>\n",
       "      <td>1.078405</td>\n",
       "      <td>1.261056</td>\n",
       "      <td>6.597173</td>\n",
       "      <td>22.030445</td>\n",
       "      <td>4.885249</td>\n",
       "      <td>5.905438</td>\n",
       "      <td>1.071300</td>\n",
       "      <td>12630.880622</td>\n",
       "      <td>8608.386210</td>\n",
       "      <td>0.802074</td>\n",
       "      <td>342.317995</td>\n",
       "      <td>0.938346</td>\n",
       "      <td>277.720643</td>\n",
       "      <td>219.727988</td>\n",
       "    </tr>\n",
       "    <tr>\n",
       "      <th>min</th>\n",
       "      <td>0.000000</td>\n",
       "      <td>1.219000e+04</td>\n",
       "      <td>12.000000</td>\n",
       "      <td>0.000000</td>\n",
       "      <td>1.000000</td>\n",
       "      <td>1.000000</td>\n",
       "      <td>2.000000</td>\n",
       "      <td>1.000000</td>\n",
       "      <td>1.300000</td>\n",
       "      <td>0.000000</td>\n",
       "      <td>0.000000</td>\n",
       "      <td>181.000000</td>\n",
       "      <td>0.000000</td>\n",
       "      <td>1.000000</td>\n",
       "      <td>0.000000</td>\n",
       "      <td>13.000000</td>\n",
       "      <td>1.000000</td>\n",
       "    </tr>\n",
       "    <tr>\n",
       "      <th>25%</th>\n",
       "      <td>6.000000</td>\n",
       "      <td>3.400000e+06</td>\n",
       "      <td>40.000000</td>\n",
       "      <td>1.000000</td>\n",
       "      <td>2.520000</td>\n",
       "      <td>5.000000</td>\n",
       "      <td>18.600000</td>\n",
       "      <td>2.000000</td>\n",
       "      <td>7.000000</td>\n",
       "      <td>0.000000</td>\n",
       "      <td>18585.000000</td>\n",
       "      <td>9238.000000</td>\n",
       "      <td>0.000000</td>\n",
       "      <td>288.000000</td>\n",
       "      <td>0.000000</td>\n",
       "      <td>294.000000</td>\n",
       "      <td>45.000000</td>\n",
       "    </tr>\n",
       "    <tr>\n",
       "      <th>50%</th>\n",
       "      <td>9.000000</td>\n",
       "      <td>4.650000e+06</td>\n",
       "      <td>52.000000</td>\n",
       "      <td>2.000000</td>\n",
       "      <td>2.650000</td>\n",
       "      <td>9.000000</td>\n",
       "      <td>30.000000</td>\n",
       "      <td>4.000000</td>\n",
       "      <td>9.100000</td>\n",
       "      <td>1.000000</td>\n",
       "      <td>26726.000000</td>\n",
       "      <td>13098.500000</td>\n",
       "      <td>0.000000</td>\n",
       "      <td>455.000000</td>\n",
       "      <td>1.000000</td>\n",
       "      <td>502.000000</td>\n",
       "      <td>95.000000</td>\n",
       "    </tr>\n",
       "    <tr>\n",
       "      <th>75%</th>\n",
       "      <td>14.000000</td>\n",
       "      <td>6.800000e+06</td>\n",
       "      <td>69.900000</td>\n",
       "      <td>3.000000</td>\n",
       "      <td>2.800000</td>\n",
       "      <td>16.000000</td>\n",
       "      <td>42.300000</td>\n",
       "      <td>8.000000</td>\n",
       "      <td>12.000000</td>\n",
       "      <td>2.000000</td>\n",
       "      <td>37273.000000</td>\n",
       "      <td>16293.000000</td>\n",
       "      <td>1.000000</td>\n",
       "      <td>612.000000</td>\n",
       "      <td>1.000000</td>\n",
       "      <td>729.000000</td>\n",
       "      <td>232.000000</td>\n",
       "    </tr>\n",
       "    <tr>\n",
       "      <th>max</th>\n",
       "      <td>50.000000</td>\n",
       "      <td>7.630000e+08</td>\n",
       "      <td>900.000000</td>\n",
       "      <td>19.000000</td>\n",
       "      <td>100.000000</td>\n",
       "      <td>60.000000</td>\n",
       "      <td>409.700000</td>\n",
       "      <td>33.000000</td>\n",
       "      <td>112.000000</td>\n",
       "      <td>5.000000</td>\n",
       "      <td>84869.000000</td>\n",
       "      <td>65968.000000</td>\n",
       "      <td>3.000000</td>\n",
       "      <td>3190.000000</td>\n",
       "      <td>3.000000</td>\n",
       "      <td>1344.000000</td>\n",
       "      <td>1580.000000</td>\n",
       "    </tr>\n",
       "  </tbody>\n",
       "</table>\n",
       "</div>"
      ],
      "text/plain": [
       "       total_images    last_price    total_area         rooms  ceiling_height  \\\n",
       "count  23699.000000  2.369900e+04  23699.000000  23699.000000    14504.000000   \n",
       "mean       9.858475  6.541549e+06     60.348651      2.070636        2.771499   \n",
       "std        5.682529  1.088701e+07     35.654083      1.078405        1.261056   \n",
       "min        0.000000  1.219000e+04     12.000000      0.000000        1.000000   \n",
       "25%        6.000000  3.400000e+06     40.000000      1.000000        2.520000   \n",
       "50%        9.000000  4.650000e+06     52.000000      2.000000        2.650000   \n",
       "75%       14.000000  6.800000e+06     69.900000      3.000000        2.800000   \n",
       "max       50.000000  7.630000e+08    900.000000     19.000000      100.000000   \n",
       "\n",
       "       floors_total   living_area         floor  kitchen_area       balcony  \\\n",
       "count  23613.000000  21796.000000  23699.000000  21421.000000  12180.000000   \n",
       "mean      10.673824     34.457852      5.892358     10.569807      1.150082   \n",
       "std        6.597173     22.030445      4.885249      5.905438      1.071300   \n",
       "min        1.000000      2.000000      1.000000      1.300000      0.000000   \n",
       "25%        5.000000     18.600000      2.000000      7.000000      0.000000   \n",
       "50%        9.000000     30.000000      4.000000      9.100000      1.000000   \n",
       "75%       16.000000     42.300000      8.000000     12.000000      2.000000   \n",
       "max       60.000000    409.700000     33.000000    112.000000      5.000000   \n",
       "\n",
       "       airports_nearest  cityCenters_nearest  parks_around3000  parks_nearest  \\\n",
       "count      18157.000000         18180.000000      18181.000000    8079.000000   \n",
       "mean       28793.672193         14191.277833          0.611408     490.804555   \n",
       "std        12630.880622          8608.386210          0.802074     342.317995   \n",
       "min            0.000000           181.000000          0.000000       1.000000   \n",
       "25%        18585.000000          9238.000000          0.000000     288.000000   \n",
       "50%        26726.000000         13098.500000          0.000000     455.000000   \n",
       "75%        37273.000000         16293.000000          1.000000     612.000000   \n",
       "max        84869.000000         65968.000000          3.000000    3190.000000   \n",
       "\n",
       "       ponds_around3000  ponds_nearest  days_exposition  \n",
       "count      18181.000000    9110.000000     20518.000000  \n",
       "mean           0.770255     517.980900       180.888634  \n",
       "std            0.938346     277.720643       219.727988  \n",
       "min            0.000000      13.000000         1.000000  \n",
       "25%            0.000000     294.000000        45.000000  \n",
       "50%            1.000000     502.000000        95.000000  \n",
       "75%            1.000000     729.000000       232.000000  \n",
       "max            3.000000    1344.000000      1580.000000  "
      ]
     },
     "execution_count": 3,
     "metadata": {},
     "output_type": "execute_result"
    }
   ],
   "source": [
    "df.describe()"
   ]
  },
  {
   "cell_type": "code",
   "execution_count": 4,
   "metadata": {},
   "outputs": [
    {
     "data": {
      "text/html": [
       "<div>\n",
       "<style scoped>\n",
       "    .dataframe tbody tr th:only-of-type {\n",
       "        vertical-align: middle;\n",
       "    }\n",
       "\n",
       "    .dataframe tbody tr th {\n",
       "        vertical-align: top;\n",
       "    }\n",
       "\n",
       "    .dataframe thead th {\n",
       "        text-align: right;\n",
       "    }\n",
       "</style>\n",
       "<table border=\"1\" class=\"dataframe\">\n",
       "  <thead>\n",
       "    <tr style=\"text-align: right;\">\n",
       "      <th></th>\n",
       "      <th>total_images</th>\n",
       "      <th>last_price</th>\n",
       "      <th>total_area</th>\n",
       "      <th>first_day_exposition</th>\n",
       "      <th>rooms</th>\n",
       "      <th>ceiling_height</th>\n",
       "      <th>floors_total</th>\n",
       "      <th>living_area</th>\n",
       "      <th>floor</th>\n",
       "      <th>is_apartment</th>\n",
       "      <th>...</th>\n",
       "      <th>kitchen_area</th>\n",
       "      <th>balcony</th>\n",
       "      <th>locality_name</th>\n",
       "      <th>airports_nearest</th>\n",
       "      <th>cityCenters_nearest</th>\n",
       "      <th>parks_around3000</th>\n",
       "      <th>parks_nearest</th>\n",
       "      <th>ponds_around3000</th>\n",
       "      <th>ponds_nearest</th>\n",
       "      <th>days_exposition</th>\n",
       "    </tr>\n",
       "  </thead>\n",
       "  <tbody>\n",
       "    <tr>\n",
       "      <th>22869</th>\n",
       "      <td>0</td>\n",
       "      <td>15000000.0</td>\n",
       "      <td>25.0</td>\n",
       "      <td>2018-07-25T00:00:00</td>\n",
       "      <td>1</td>\n",
       "      <td>100.0</td>\n",
       "      <td>5.0</td>\n",
       "      <td>14.0</td>\n",
       "      <td>5</td>\n",
       "      <td>True</td>\n",
       "      <td>...</td>\n",
       "      <td>11.0</td>\n",
       "      <td>5.0</td>\n",
       "      <td>Санкт-Петербург</td>\n",
       "      <td>34963.0</td>\n",
       "      <td>8283.0</td>\n",
       "      <td>1.0</td>\n",
       "      <td>223.0</td>\n",
       "      <td>3.0</td>\n",
       "      <td>30.0</td>\n",
       "      <td>19.0</td>\n",
       "    </tr>\n",
       "  </tbody>\n",
       "</table>\n",
       "<p>1 rows × 22 columns</p>\n",
       "</div>"
      ],
      "text/plain": [
       "       total_images  last_price  total_area first_day_exposition  rooms  \\\n",
       "22869             0  15000000.0        25.0  2018-07-25T00:00:00      1   \n",
       "\n",
       "       ceiling_height  floors_total  living_area  floor is_apartment  ...  \\\n",
       "22869           100.0           5.0         14.0      5         True  ...   \n",
       "\n",
       "       kitchen_area  balcony    locality_name  airports_nearest  \\\n",
       "22869          11.0      5.0  Санкт-Петербург           34963.0   \n",
       "\n",
       "      cityCenters_nearest  parks_around3000  parks_nearest  ponds_around3000  \\\n",
       "22869              8283.0               1.0          223.0               3.0   \n",
       "\n",
       "       ponds_nearest  days_exposition  \n",
       "22869           30.0             19.0  \n",
       "\n",
       "[1 rows x 22 columns]"
      ]
     },
     "execution_count": 4,
     "metadata": {},
     "output_type": "execute_result"
    }
   ],
   "source": [
    "df.loc[df['rooms'] == 19]\n",
    "df.loc[df['floors_total'] == 60]\n",
    "df.loc[df['last_price'] == 7.630000e+08]\n",
    "df.loc[df['floor'] == 33]\n",
    "df.loc[df['ceiling_height'] == 100]"
   ]
  },
  {
   "cell_type": "markdown",
   "metadata": {},
   "source": [
    "### Вывод"
   ]
  },
  {
   "cell_type": "markdown",
   "metadata": {},
   "source": [
    "Данные в таблице оказались \"склееными\" в одну строку. Для вывода таблица пришлось использовать параметр sep='\\t'. Сразу в глаза бросается большое количество пропусков. Самое большое число пропусков в столбце \"balcony\", возможно количество балконов не указывали, если их в квартире нет, так как это важный фатор при продаже квартиры, значит отсутствующие значение балконов можно будет заменить на 0. Другие пропуски не так однозначны. Также в глаза бросаются странные значения: квартира с 19 комнатами, квартира за 763 миллиона, квартира с высотой потолков 100 метров, 60 этажное здание в Кронштадт (в Санкт-Птербурге столько этажей только в Лахта-центре), это больше похоже на опечатку (хотели написать 6), квартира как раз на 4 этаже, что умещается в этажность."
   ]
  },
  {
   "cell_type": "markdown",
   "metadata": {},
   "source": [
    "## Предобработка данных"
   ]
  },
  {
   "cell_type": "code",
   "execution_count": 5,
   "metadata": {},
   "outputs": [
    {
     "name": "stdout",
     "output_type": "stream",
     "text": [
      "<class 'pandas.core.frame.DataFrame'>\n",
      "RangeIndex: 23699 entries, 0 to 23698\n",
      "Data columns (total 22 columns):\n",
      " #   Column                Non-Null Count  Dtype  \n",
      "---  ------                --------------  -----  \n",
      " 0   total_images          23699 non-null  int64  \n",
      " 1   last_price            23699 non-null  float64\n",
      " 2   total_area            23699 non-null  float64\n",
      " 3   first_day_exposition  23699 non-null  object \n",
      " 4   rooms                 23699 non-null  int64  \n",
      " 5   ceiling_height        14504 non-null  float64\n",
      " 6   floors_total          23613 non-null  float64\n",
      " 7   living_area           21796 non-null  float64\n",
      " 8   floor                 23699 non-null  int64  \n",
      " 9   is_apartment          2775 non-null   object \n",
      " 10  studio                23699 non-null  bool   \n",
      " 11  open_plan             23699 non-null  bool   \n",
      " 12  kitchen_area          21421 non-null  float64\n",
      " 13  balcony               12180 non-null  float64\n",
      " 14  locality_name         23650 non-null  object \n",
      " 15  airports_nearest      18157 non-null  float64\n",
      " 16  cityCenters_nearest   18180 non-null  float64\n",
      " 17  parks_around3000      18181 non-null  float64\n",
      " 18  parks_nearest         8079 non-null   float64\n",
      " 19  ponds_around3000      18181 non-null  float64\n",
      " 20  ponds_nearest         9110 non-null   float64\n",
      " 21  days_exposition       20518 non-null  float64\n",
      "dtypes: bool(2), float64(14), int64(3), object(3)\n",
      "memory usage: 3.7+ MB\n"
     ]
    }
   ],
   "source": [
    "df['balcony'].fillna('0').astype('int')\n",
    "df.info()"
   ]
  },
  {
   "cell_type": "markdown",
   "metadata": {},
   "source": [
    "Заменим пропущенные значение в столбце \"Балкон\" на 0 и поменяем тип на integer. "
   ]
  },
  {
   "cell_type": "code",
   "execution_count": 6,
   "metadata": {},
   "outputs": [
    {
     "data": {
      "text/plain": [
       "330"
      ]
     },
     "execution_count": 6,
     "metadata": {},
     "output_type": "execute_result"
    }
   ],
   "source": [
    "df['locality_name'].unique()\n",
    "#len(df['locality_name'].unique())\n",
    "df['locality_name'] = df['locality_name'].str.replace('посёлок', 'поселок')\n",
    "len(df['locality_name'].unique()) \n",
    "df['locality_name'] = df['locality_name'].str.replace('поселок Мурино', 'Мурино')\n",
    "len(df['locality_name'].unique()) "
   ]
  },
  {
   "cell_type": "markdown",
   "metadata": {},
   "source": [
    "Проверив уникальные значения столбца 'locality_name', обнаруживаем, что некоторые населенные пункты отличаются использованием буквы ё с точками в названии \"посёлок\", а также \"поселок Мурино\" фигурирует как \"Мурино\". Сделав замену, уменьшим количество уникальных названий с 365 до 330."
   ]
  },
  {
   "cell_type": "code",
   "execution_count": 7,
   "metadata": {},
   "outputs": [
    {
     "data": {
      "text/plain": [
       "0"
      ]
     },
     "execution_count": 7,
     "metadata": {},
     "output_type": "execute_result"
    }
   ],
   "source": [
    "df.duplicated().sum()"
   ]
  },
  {
   "cell_type": "markdown",
   "metadata": {},
   "source": [
    "Поиск дубликатов. Так как дома чаще всего строятся по типовым проектам, то у большого количества параметров возможно совпадение, а цену часто выставляют по аналогии с ценой на квартиру с идентичными параметрами в одном районе.  "
   ]
  },
  {
   "cell_type": "code",
   "execution_count": 8,
   "metadata": {},
   "outputs": [
    {
     "data": {
      "text/plain": [
       "0"
      ]
     },
     "execution_count": 8,
     "metadata": {},
     "output_type": "execute_result"
    }
   ],
   "source": [
    "df['ceiling_height'] = df['ceiling_height'].fillna(df['ceiling_height'].median())\n",
    "df['floors_total'] = df['floors_total'].fillna(df['floors_total'].median())\n",
    "df['floors_total'] = df['floors_total'].astype('int')\n",
    "\n",
    "len(df[df['floors_total'].isna()])\n",
    "\n",
    "#df.info()"
   ]
  },
  {
   "cell_type": "markdown",
   "metadata": {},
   "source": [
    "Пропуски в \"Высоте потолков\" и \"Количестве этажей\" заменим на медианное значение. И изменим тип \"Количестве этажей\" на целочисленный int."
   ]
  },
  {
   "cell_type": "markdown",
   "metadata": {},
   "source": [
    "## Расчёты и добавление результатов в таблицу"
   ]
  },
  {
   "cell_type": "markdown",
   "metadata": {},
   "source": [
    "Рассчитаем и добавим столбец со значение цены за 1 квадратный метр."
   ]
  },
  {
   "cell_type": "code",
   "execution_count": 9,
   "metadata": {},
   "outputs": [],
   "source": [
    "df['square_meter'] = df['last_price'] / df['total_area']"
   ]
  },
  {
   "cell_type": "markdown",
   "metadata": {},
   "source": [
    "Добавим столбцы: День недели, Месяц и Год продажи."
   ]
  },
  {
   "cell_type": "code",
   "execution_count": 10,
   "metadata": {},
   "outputs": [
    {
     "data": {
      "text/html": [
       "<div>\n",
       "<style scoped>\n",
       "    .dataframe tbody tr th:only-of-type {\n",
       "        vertical-align: middle;\n",
       "    }\n",
       "\n",
       "    .dataframe tbody tr th {\n",
       "        vertical-align: top;\n",
       "    }\n",
       "\n",
       "    .dataframe thead th {\n",
       "        text-align: right;\n",
       "    }\n",
       "</style>\n",
       "<table border=\"1\" class=\"dataframe\">\n",
       "  <thead>\n",
       "    <tr style=\"text-align: right;\">\n",
       "      <th></th>\n",
       "      <th>total_images</th>\n",
       "      <th>last_price</th>\n",
       "      <th>total_area</th>\n",
       "      <th>first_day_exposition</th>\n",
       "      <th>rooms</th>\n",
       "      <th>ceiling_height</th>\n",
       "      <th>floors_total</th>\n",
       "      <th>living_area</th>\n",
       "      <th>floor</th>\n",
       "      <th>is_apartment</th>\n",
       "      <th>...</th>\n",
       "      <th>cityCenters_nearest</th>\n",
       "      <th>parks_around3000</th>\n",
       "      <th>parks_nearest</th>\n",
       "      <th>ponds_around3000</th>\n",
       "      <th>ponds_nearest</th>\n",
       "      <th>days_exposition</th>\n",
       "      <th>square_meter</th>\n",
       "      <th>weekday</th>\n",
       "      <th>month_exposition</th>\n",
       "      <th>year_exposition</th>\n",
       "    </tr>\n",
       "  </thead>\n",
       "  <tbody>\n",
       "    <tr>\n",
       "      <th>0</th>\n",
       "      <td>20</td>\n",
       "      <td>13000000.0</td>\n",
       "      <td>108.0</td>\n",
       "      <td>2019-03-07</td>\n",
       "      <td>3</td>\n",
       "      <td>2.70</td>\n",
       "      <td>16</td>\n",
       "      <td>51.0</td>\n",
       "      <td>8</td>\n",
       "      <td>NaN</td>\n",
       "      <td>...</td>\n",
       "      <td>16028.0</td>\n",
       "      <td>1.0</td>\n",
       "      <td>482.0</td>\n",
       "      <td>2.0</td>\n",
       "      <td>755.0</td>\n",
       "      <td>NaN</td>\n",
       "      <td>120370.370370</td>\n",
       "      <td>3</td>\n",
       "      <td>3</td>\n",
       "      <td>2019</td>\n",
       "    </tr>\n",
       "    <tr>\n",
       "      <th>1</th>\n",
       "      <td>7</td>\n",
       "      <td>3350000.0</td>\n",
       "      <td>40.4</td>\n",
       "      <td>2018-12-04</td>\n",
       "      <td>1</td>\n",
       "      <td>2.65</td>\n",
       "      <td>11</td>\n",
       "      <td>18.6</td>\n",
       "      <td>1</td>\n",
       "      <td>NaN</td>\n",
       "      <td>...</td>\n",
       "      <td>18603.0</td>\n",
       "      <td>0.0</td>\n",
       "      <td>NaN</td>\n",
       "      <td>0.0</td>\n",
       "      <td>NaN</td>\n",
       "      <td>81.0</td>\n",
       "      <td>82920.792079</td>\n",
       "      <td>1</td>\n",
       "      <td>12</td>\n",
       "      <td>2018</td>\n",
       "    </tr>\n",
       "    <tr>\n",
       "      <th>2</th>\n",
       "      <td>10</td>\n",
       "      <td>5196000.0</td>\n",
       "      <td>56.0</td>\n",
       "      <td>2015-08-20</td>\n",
       "      <td>2</td>\n",
       "      <td>2.65</td>\n",
       "      <td>5</td>\n",
       "      <td>34.3</td>\n",
       "      <td>4</td>\n",
       "      <td>NaN</td>\n",
       "      <td>...</td>\n",
       "      <td>13933.0</td>\n",
       "      <td>1.0</td>\n",
       "      <td>90.0</td>\n",
       "      <td>2.0</td>\n",
       "      <td>574.0</td>\n",
       "      <td>558.0</td>\n",
       "      <td>92785.714286</td>\n",
       "      <td>3</td>\n",
       "      <td>8</td>\n",
       "      <td>2015</td>\n",
       "    </tr>\n",
       "    <tr>\n",
       "      <th>3</th>\n",
       "      <td>0</td>\n",
       "      <td>64900000.0</td>\n",
       "      <td>159.0</td>\n",
       "      <td>2015-07-24</td>\n",
       "      <td>3</td>\n",
       "      <td>2.65</td>\n",
       "      <td>14</td>\n",
       "      <td>NaN</td>\n",
       "      <td>9</td>\n",
       "      <td>NaN</td>\n",
       "      <td>...</td>\n",
       "      <td>6800.0</td>\n",
       "      <td>2.0</td>\n",
       "      <td>84.0</td>\n",
       "      <td>3.0</td>\n",
       "      <td>234.0</td>\n",
       "      <td>424.0</td>\n",
       "      <td>408176.100629</td>\n",
       "      <td>4</td>\n",
       "      <td>7</td>\n",
       "      <td>2015</td>\n",
       "    </tr>\n",
       "    <tr>\n",
       "      <th>4</th>\n",
       "      <td>2</td>\n",
       "      <td>10000000.0</td>\n",
       "      <td>100.0</td>\n",
       "      <td>2018-06-19</td>\n",
       "      <td>2</td>\n",
       "      <td>3.03</td>\n",
       "      <td>14</td>\n",
       "      <td>32.0</td>\n",
       "      <td>13</td>\n",
       "      <td>NaN</td>\n",
       "      <td>...</td>\n",
       "      <td>8098.0</td>\n",
       "      <td>2.0</td>\n",
       "      <td>112.0</td>\n",
       "      <td>1.0</td>\n",
       "      <td>48.0</td>\n",
       "      <td>121.0</td>\n",
       "      <td>100000.000000</td>\n",
       "      <td>1</td>\n",
       "      <td>6</td>\n",
       "      <td>2018</td>\n",
       "    </tr>\n",
       "  </tbody>\n",
       "</table>\n",
       "<p>5 rows × 26 columns</p>\n",
       "</div>"
      ],
      "text/plain": [
       "   total_images  last_price  total_area first_day_exposition  rooms  \\\n",
       "0            20  13000000.0       108.0           2019-03-07      3   \n",
       "1             7   3350000.0        40.4           2018-12-04      1   \n",
       "2            10   5196000.0        56.0           2015-08-20      2   \n",
       "3             0  64900000.0       159.0           2015-07-24      3   \n",
       "4             2  10000000.0       100.0           2018-06-19      2   \n",
       "\n",
       "   ceiling_height  floors_total  living_area  floor is_apartment  ...  \\\n",
       "0            2.70            16         51.0      8          NaN  ...   \n",
       "1            2.65            11         18.6      1          NaN  ...   \n",
       "2            2.65             5         34.3      4          NaN  ...   \n",
       "3            2.65            14          NaN      9          NaN  ...   \n",
       "4            3.03            14         32.0     13          NaN  ...   \n",
       "\n",
       "   cityCenters_nearest  parks_around3000  parks_nearest  ponds_around3000  \\\n",
       "0              16028.0               1.0          482.0               2.0   \n",
       "1              18603.0               0.0            NaN               0.0   \n",
       "2              13933.0               1.0           90.0               2.0   \n",
       "3               6800.0               2.0           84.0               3.0   \n",
       "4               8098.0               2.0          112.0               1.0   \n",
       "\n",
       "  ponds_nearest  days_exposition   square_meter  weekday  month_exposition  \\\n",
       "0         755.0              NaN  120370.370370        3                 3   \n",
       "1           NaN             81.0   82920.792079        1                12   \n",
       "2         574.0            558.0   92785.714286        3                 8   \n",
       "3         234.0            424.0  408176.100629        4                 7   \n",
       "4          48.0            121.0  100000.000000        1                 6   \n",
       "\n",
       "   year_exposition  \n",
       "0             2019  \n",
       "1             2018  \n",
       "2             2015  \n",
       "3             2015  \n",
       "4             2018  \n",
       "\n",
       "[5 rows x 26 columns]"
      ]
     },
     "execution_count": 10,
     "metadata": {},
     "output_type": "execute_result"
    }
   ],
   "source": [
    "df['first_day_exposition'] = pd.to_datetime(df['first_day_exposition'], format='%Y-%m-%dT%H:%M:%S')\n",
    "df['weekday'] = df['first_day_exposition'].dt.weekday\n",
    "df['month_exposition'] = df['first_day_exposition'].dt.month\n",
    "df['year_exposition'] = df['first_day_exposition'].dt.year\n",
    "df.head()"
   ]
  },
  {
   "cell_type": "markdown",
   "metadata": {},
   "source": [
    "Создадим столбец со значением этажа: первый (first), последний (last) и другой (other)"
   ]
  },
  {
   "cell_type": "code",
   "execution_count": 11,
   "metadata": {},
   "outputs": [
    {
     "data": {
      "text/html": [
       "<div>\n",
       "<style scoped>\n",
       "    .dataframe tbody tr th:only-of-type {\n",
       "        vertical-align: middle;\n",
       "    }\n",
       "\n",
       "    .dataframe tbody tr th {\n",
       "        vertical-align: top;\n",
       "    }\n",
       "\n",
       "    .dataframe thead th {\n",
       "        text-align: right;\n",
       "    }\n",
       "</style>\n",
       "<table border=\"1\" class=\"dataframe\">\n",
       "  <thead>\n",
       "    <tr style=\"text-align: right;\">\n",
       "      <th></th>\n",
       "      <th>total_images</th>\n",
       "      <th>last_price</th>\n",
       "      <th>total_area</th>\n",
       "      <th>first_day_exposition</th>\n",
       "      <th>rooms</th>\n",
       "      <th>ceiling_height</th>\n",
       "      <th>floors_total</th>\n",
       "      <th>living_area</th>\n",
       "      <th>floor</th>\n",
       "      <th>is_apartment</th>\n",
       "      <th>...</th>\n",
       "      <th>parks_around3000</th>\n",
       "      <th>parks_nearest</th>\n",
       "      <th>ponds_around3000</th>\n",
       "      <th>ponds_nearest</th>\n",
       "      <th>days_exposition</th>\n",
       "      <th>square_meter</th>\n",
       "      <th>weekday</th>\n",
       "      <th>month_exposition</th>\n",
       "      <th>year_exposition</th>\n",
       "      <th>floor_cat</th>\n",
       "    </tr>\n",
       "  </thead>\n",
       "  <tbody>\n",
       "    <tr>\n",
       "      <th>0</th>\n",
       "      <td>20</td>\n",
       "      <td>13000000.0</td>\n",
       "      <td>108.00</td>\n",
       "      <td>2019-03-07</td>\n",
       "      <td>3</td>\n",
       "      <td>2.70</td>\n",
       "      <td>16</td>\n",
       "      <td>51.00</td>\n",
       "      <td>8</td>\n",
       "      <td>NaN</td>\n",
       "      <td>...</td>\n",
       "      <td>1.0</td>\n",
       "      <td>482.0</td>\n",
       "      <td>2.0</td>\n",
       "      <td>755.0</td>\n",
       "      <td>NaN</td>\n",
       "      <td>120370.370370</td>\n",
       "      <td>3</td>\n",
       "      <td>3</td>\n",
       "      <td>2019</td>\n",
       "      <td>other</td>\n",
       "    </tr>\n",
       "    <tr>\n",
       "      <th>1</th>\n",
       "      <td>7</td>\n",
       "      <td>3350000.0</td>\n",
       "      <td>40.40</td>\n",
       "      <td>2018-12-04</td>\n",
       "      <td>1</td>\n",
       "      <td>2.65</td>\n",
       "      <td>11</td>\n",
       "      <td>18.60</td>\n",
       "      <td>1</td>\n",
       "      <td>NaN</td>\n",
       "      <td>...</td>\n",
       "      <td>0.0</td>\n",
       "      <td>NaN</td>\n",
       "      <td>0.0</td>\n",
       "      <td>NaN</td>\n",
       "      <td>81.0</td>\n",
       "      <td>82920.792079</td>\n",
       "      <td>1</td>\n",
       "      <td>12</td>\n",
       "      <td>2018</td>\n",
       "      <td>first</td>\n",
       "    </tr>\n",
       "    <tr>\n",
       "      <th>2</th>\n",
       "      <td>10</td>\n",
       "      <td>5196000.0</td>\n",
       "      <td>56.00</td>\n",
       "      <td>2015-08-20</td>\n",
       "      <td>2</td>\n",
       "      <td>2.65</td>\n",
       "      <td>5</td>\n",
       "      <td>34.30</td>\n",
       "      <td>4</td>\n",
       "      <td>NaN</td>\n",
       "      <td>...</td>\n",
       "      <td>1.0</td>\n",
       "      <td>90.0</td>\n",
       "      <td>2.0</td>\n",
       "      <td>574.0</td>\n",
       "      <td>558.0</td>\n",
       "      <td>92785.714286</td>\n",
       "      <td>3</td>\n",
       "      <td>8</td>\n",
       "      <td>2015</td>\n",
       "      <td>other</td>\n",
       "    </tr>\n",
       "    <tr>\n",
       "      <th>3</th>\n",
       "      <td>0</td>\n",
       "      <td>64900000.0</td>\n",
       "      <td>159.00</td>\n",
       "      <td>2015-07-24</td>\n",
       "      <td>3</td>\n",
       "      <td>2.65</td>\n",
       "      <td>14</td>\n",
       "      <td>NaN</td>\n",
       "      <td>9</td>\n",
       "      <td>NaN</td>\n",
       "      <td>...</td>\n",
       "      <td>2.0</td>\n",
       "      <td>84.0</td>\n",
       "      <td>3.0</td>\n",
       "      <td>234.0</td>\n",
       "      <td>424.0</td>\n",
       "      <td>408176.100629</td>\n",
       "      <td>4</td>\n",
       "      <td>7</td>\n",
       "      <td>2015</td>\n",
       "      <td>other</td>\n",
       "    </tr>\n",
       "    <tr>\n",
       "      <th>4</th>\n",
       "      <td>2</td>\n",
       "      <td>10000000.0</td>\n",
       "      <td>100.00</td>\n",
       "      <td>2018-06-19</td>\n",
       "      <td>2</td>\n",
       "      <td>3.03</td>\n",
       "      <td>14</td>\n",
       "      <td>32.00</td>\n",
       "      <td>13</td>\n",
       "      <td>NaN</td>\n",
       "      <td>...</td>\n",
       "      <td>2.0</td>\n",
       "      <td>112.0</td>\n",
       "      <td>1.0</td>\n",
       "      <td>48.0</td>\n",
       "      <td>121.0</td>\n",
       "      <td>100000.000000</td>\n",
       "      <td>1</td>\n",
       "      <td>6</td>\n",
       "      <td>2018</td>\n",
       "      <td>other</td>\n",
       "    </tr>\n",
       "    <tr>\n",
       "      <th>5</th>\n",
       "      <td>10</td>\n",
       "      <td>2890000.0</td>\n",
       "      <td>30.40</td>\n",
       "      <td>2018-09-10</td>\n",
       "      <td>1</td>\n",
       "      <td>2.65</td>\n",
       "      <td>12</td>\n",
       "      <td>14.40</td>\n",
       "      <td>5</td>\n",
       "      <td>NaN</td>\n",
       "      <td>...</td>\n",
       "      <td>NaN</td>\n",
       "      <td>NaN</td>\n",
       "      <td>NaN</td>\n",
       "      <td>NaN</td>\n",
       "      <td>55.0</td>\n",
       "      <td>95065.789474</td>\n",
       "      <td>0</td>\n",
       "      <td>9</td>\n",
       "      <td>2018</td>\n",
       "      <td>other</td>\n",
       "    </tr>\n",
       "    <tr>\n",
       "      <th>6</th>\n",
       "      <td>6</td>\n",
       "      <td>3700000.0</td>\n",
       "      <td>37.30</td>\n",
       "      <td>2017-11-02</td>\n",
       "      <td>1</td>\n",
       "      <td>2.65</td>\n",
       "      <td>26</td>\n",
       "      <td>10.60</td>\n",
       "      <td>6</td>\n",
       "      <td>NaN</td>\n",
       "      <td>...</td>\n",
       "      <td>0.0</td>\n",
       "      <td>NaN</td>\n",
       "      <td>0.0</td>\n",
       "      <td>NaN</td>\n",
       "      <td>155.0</td>\n",
       "      <td>99195.710456</td>\n",
       "      <td>3</td>\n",
       "      <td>11</td>\n",
       "      <td>2017</td>\n",
       "      <td>other</td>\n",
       "    </tr>\n",
       "    <tr>\n",
       "      <th>7</th>\n",
       "      <td>5</td>\n",
       "      <td>7915000.0</td>\n",
       "      <td>71.60</td>\n",
       "      <td>2019-04-18</td>\n",
       "      <td>2</td>\n",
       "      <td>2.65</td>\n",
       "      <td>24</td>\n",
       "      <td>NaN</td>\n",
       "      <td>22</td>\n",
       "      <td>NaN</td>\n",
       "      <td>...</td>\n",
       "      <td>0.0</td>\n",
       "      <td>NaN</td>\n",
       "      <td>0.0</td>\n",
       "      <td>NaN</td>\n",
       "      <td>NaN</td>\n",
       "      <td>110544.692737</td>\n",
       "      <td>3</td>\n",
       "      <td>4</td>\n",
       "      <td>2019</td>\n",
       "      <td>other</td>\n",
       "    </tr>\n",
       "    <tr>\n",
       "      <th>8</th>\n",
       "      <td>20</td>\n",
       "      <td>2900000.0</td>\n",
       "      <td>33.16</td>\n",
       "      <td>2018-05-23</td>\n",
       "      <td>1</td>\n",
       "      <td>2.65</td>\n",
       "      <td>27</td>\n",
       "      <td>15.43</td>\n",
       "      <td>26</td>\n",
       "      <td>NaN</td>\n",
       "      <td>...</td>\n",
       "      <td>NaN</td>\n",
       "      <td>NaN</td>\n",
       "      <td>NaN</td>\n",
       "      <td>NaN</td>\n",
       "      <td>189.0</td>\n",
       "      <td>87454.764777</td>\n",
       "      <td>2</td>\n",
       "      <td>5</td>\n",
       "      <td>2018</td>\n",
       "      <td>other</td>\n",
       "    </tr>\n",
       "    <tr>\n",
       "      <th>9</th>\n",
       "      <td>18</td>\n",
       "      <td>5400000.0</td>\n",
       "      <td>61.00</td>\n",
       "      <td>2017-02-26</td>\n",
       "      <td>3</td>\n",
       "      <td>2.50</td>\n",
       "      <td>9</td>\n",
       "      <td>43.60</td>\n",
       "      <td>7</td>\n",
       "      <td>NaN</td>\n",
       "      <td>...</td>\n",
       "      <td>0.0</td>\n",
       "      <td>NaN</td>\n",
       "      <td>0.0</td>\n",
       "      <td>NaN</td>\n",
       "      <td>289.0</td>\n",
       "      <td>88524.590164</td>\n",
       "      <td>6</td>\n",
       "      <td>2</td>\n",
       "      <td>2017</td>\n",
       "      <td>other</td>\n",
       "    </tr>\n",
       "  </tbody>\n",
       "</table>\n",
       "<p>10 rows × 27 columns</p>\n",
       "</div>"
      ],
      "text/plain": [
       "   total_images  last_price  total_area first_day_exposition  rooms  \\\n",
       "0            20  13000000.0      108.00           2019-03-07      3   \n",
       "1             7   3350000.0       40.40           2018-12-04      1   \n",
       "2            10   5196000.0       56.00           2015-08-20      2   \n",
       "3             0  64900000.0      159.00           2015-07-24      3   \n",
       "4             2  10000000.0      100.00           2018-06-19      2   \n",
       "5            10   2890000.0       30.40           2018-09-10      1   \n",
       "6             6   3700000.0       37.30           2017-11-02      1   \n",
       "7             5   7915000.0       71.60           2019-04-18      2   \n",
       "8            20   2900000.0       33.16           2018-05-23      1   \n",
       "9            18   5400000.0       61.00           2017-02-26      3   \n",
       "\n",
       "   ceiling_height  floors_total  living_area  floor is_apartment  ...  \\\n",
       "0            2.70            16        51.00      8          NaN  ...   \n",
       "1            2.65            11        18.60      1          NaN  ...   \n",
       "2            2.65             5        34.30      4          NaN  ...   \n",
       "3            2.65            14          NaN      9          NaN  ...   \n",
       "4            3.03            14        32.00     13          NaN  ...   \n",
       "5            2.65            12        14.40      5          NaN  ...   \n",
       "6            2.65            26        10.60      6          NaN  ...   \n",
       "7            2.65            24          NaN     22          NaN  ...   \n",
       "8            2.65            27        15.43     26          NaN  ...   \n",
       "9            2.50             9        43.60      7          NaN  ...   \n",
       "\n",
       "   parks_around3000  parks_nearest  ponds_around3000  ponds_nearest  \\\n",
       "0               1.0          482.0               2.0          755.0   \n",
       "1               0.0            NaN               0.0            NaN   \n",
       "2               1.0           90.0               2.0          574.0   \n",
       "3               2.0           84.0               3.0          234.0   \n",
       "4               2.0          112.0               1.0           48.0   \n",
       "5               NaN            NaN               NaN            NaN   \n",
       "6               0.0            NaN               0.0            NaN   \n",
       "7               0.0            NaN               0.0            NaN   \n",
       "8               NaN            NaN               NaN            NaN   \n",
       "9               0.0            NaN               0.0            NaN   \n",
       "\n",
       "  days_exposition   square_meter  weekday  month_exposition  year_exposition  \\\n",
       "0             NaN  120370.370370        3                 3             2019   \n",
       "1            81.0   82920.792079        1                12             2018   \n",
       "2           558.0   92785.714286        3                 8             2015   \n",
       "3           424.0  408176.100629        4                 7             2015   \n",
       "4           121.0  100000.000000        1                 6             2018   \n",
       "5            55.0   95065.789474        0                 9             2018   \n",
       "6           155.0   99195.710456        3                11             2017   \n",
       "7             NaN  110544.692737        3                 4             2019   \n",
       "8           189.0   87454.764777        2                 5             2018   \n",
       "9           289.0   88524.590164        6                 2             2017   \n",
       "\n",
       "   floor_cat  \n",
       "0      other  \n",
       "1      first  \n",
       "2      other  \n",
       "3      other  \n",
       "4      other  \n",
       "5      other  \n",
       "6      other  \n",
       "7      other  \n",
       "8      other  \n",
       "9      other  \n",
       "\n",
       "[10 rows x 27 columns]"
      ]
     },
     "execution_count": 11,
     "metadata": {},
     "output_type": "execute_result"
    }
   ],
   "source": [
    "def floor_cat(row):\n",
    "    floors_total = row['floors_total']\n",
    "    floor = row['floor']\n",
    "    if floor == 1:\n",
    "        return 'first'\n",
    "    elif floor == floors_total:\n",
    "        return 'last'\n",
    "    return 'other'\n",
    "df['floor_cat'] = df.apply(floor_cat, axis=1)\n",
    "df.head(10)        "
   ]
  },
  {
   "cell_type": "markdown",
   "metadata": {},
   "source": [
    "Создадим сталбцы \"Отношение жилой площади к общей\" и \"Отношение площади кухни к общей площади\""
   ]
  },
  {
   "cell_type": "code",
   "execution_count": 12,
   "metadata": {},
   "outputs": [
    {
     "data": {
      "text/html": [
       "<div>\n",
       "<style scoped>\n",
       "    .dataframe tbody tr th:only-of-type {\n",
       "        vertical-align: middle;\n",
       "    }\n",
       "\n",
       "    .dataframe tbody tr th {\n",
       "        vertical-align: top;\n",
       "    }\n",
       "\n",
       "    .dataframe thead th {\n",
       "        text-align: right;\n",
       "    }\n",
       "</style>\n",
       "<table border=\"1\" class=\"dataframe\">\n",
       "  <thead>\n",
       "    <tr style=\"text-align: right;\">\n",
       "      <th></th>\n",
       "      <th>total_images</th>\n",
       "      <th>last_price</th>\n",
       "      <th>total_area</th>\n",
       "      <th>first_day_exposition</th>\n",
       "      <th>rooms</th>\n",
       "      <th>ceiling_height</th>\n",
       "      <th>floors_total</th>\n",
       "      <th>living_area</th>\n",
       "      <th>floor</th>\n",
       "      <th>is_apartment</th>\n",
       "      <th>...</th>\n",
       "      <th>ponds_around3000</th>\n",
       "      <th>ponds_nearest</th>\n",
       "      <th>days_exposition</th>\n",
       "      <th>square_meter</th>\n",
       "      <th>weekday</th>\n",
       "      <th>month_exposition</th>\n",
       "      <th>year_exposition</th>\n",
       "      <th>floor_cat</th>\n",
       "      <th>living_area_ratio</th>\n",
       "      <th>kitchen_area_ratio</th>\n",
       "    </tr>\n",
       "  </thead>\n",
       "  <tbody>\n",
       "    <tr>\n",
       "      <th>0</th>\n",
       "      <td>20</td>\n",
       "      <td>13000000.0</td>\n",
       "      <td>108.00</td>\n",
       "      <td>2019-03-07</td>\n",
       "      <td>3</td>\n",
       "      <td>2.70</td>\n",
       "      <td>16</td>\n",
       "      <td>51.00</td>\n",
       "      <td>8</td>\n",
       "      <td>NaN</td>\n",
       "      <td>...</td>\n",
       "      <td>2.0</td>\n",
       "      <td>755.0</td>\n",
       "      <td>NaN</td>\n",
       "      <td>120370.370370</td>\n",
       "      <td>3</td>\n",
       "      <td>3</td>\n",
       "      <td>2019</td>\n",
       "      <td>other</td>\n",
       "      <td>0.472222</td>\n",
       "      <td>0.231481</td>\n",
       "    </tr>\n",
       "    <tr>\n",
       "      <th>1</th>\n",
       "      <td>7</td>\n",
       "      <td>3350000.0</td>\n",
       "      <td>40.40</td>\n",
       "      <td>2018-12-04</td>\n",
       "      <td>1</td>\n",
       "      <td>2.65</td>\n",
       "      <td>11</td>\n",
       "      <td>18.60</td>\n",
       "      <td>1</td>\n",
       "      <td>NaN</td>\n",
       "      <td>...</td>\n",
       "      <td>0.0</td>\n",
       "      <td>NaN</td>\n",
       "      <td>81.0</td>\n",
       "      <td>82920.792079</td>\n",
       "      <td>1</td>\n",
       "      <td>12</td>\n",
       "      <td>2018</td>\n",
       "      <td>first</td>\n",
       "      <td>0.460396</td>\n",
       "      <td>0.272277</td>\n",
       "    </tr>\n",
       "    <tr>\n",
       "      <th>2</th>\n",
       "      <td>10</td>\n",
       "      <td>5196000.0</td>\n",
       "      <td>56.00</td>\n",
       "      <td>2015-08-20</td>\n",
       "      <td>2</td>\n",
       "      <td>2.65</td>\n",
       "      <td>5</td>\n",
       "      <td>34.30</td>\n",
       "      <td>4</td>\n",
       "      <td>NaN</td>\n",
       "      <td>...</td>\n",
       "      <td>2.0</td>\n",
       "      <td>574.0</td>\n",
       "      <td>558.0</td>\n",
       "      <td>92785.714286</td>\n",
       "      <td>3</td>\n",
       "      <td>8</td>\n",
       "      <td>2015</td>\n",
       "      <td>other</td>\n",
       "      <td>0.612500</td>\n",
       "      <td>0.148214</td>\n",
       "    </tr>\n",
       "    <tr>\n",
       "      <th>3</th>\n",
       "      <td>0</td>\n",
       "      <td>64900000.0</td>\n",
       "      <td>159.00</td>\n",
       "      <td>2015-07-24</td>\n",
       "      <td>3</td>\n",
       "      <td>2.65</td>\n",
       "      <td>14</td>\n",
       "      <td>NaN</td>\n",
       "      <td>9</td>\n",
       "      <td>NaN</td>\n",
       "      <td>...</td>\n",
       "      <td>3.0</td>\n",
       "      <td>234.0</td>\n",
       "      <td>424.0</td>\n",
       "      <td>408176.100629</td>\n",
       "      <td>4</td>\n",
       "      <td>7</td>\n",
       "      <td>2015</td>\n",
       "      <td>other</td>\n",
       "      <td>NaN</td>\n",
       "      <td>NaN</td>\n",
       "    </tr>\n",
       "    <tr>\n",
       "      <th>4</th>\n",
       "      <td>2</td>\n",
       "      <td>10000000.0</td>\n",
       "      <td>100.00</td>\n",
       "      <td>2018-06-19</td>\n",
       "      <td>2</td>\n",
       "      <td>3.03</td>\n",
       "      <td>14</td>\n",
       "      <td>32.00</td>\n",
       "      <td>13</td>\n",
       "      <td>NaN</td>\n",
       "      <td>...</td>\n",
       "      <td>1.0</td>\n",
       "      <td>48.0</td>\n",
       "      <td>121.0</td>\n",
       "      <td>100000.000000</td>\n",
       "      <td>1</td>\n",
       "      <td>6</td>\n",
       "      <td>2018</td>\n",
       "      <td>other</td>\n",
       "      <td>0.320000</td>\n",
       "      <td>0.410000</td>\n",
       "    </tr>\n",
       "    <tr>\n",
       "      <th>5</th>\n",
       "      <td>10</td>\n",
       "      <td>2890000.0</td>\n",
       "      <td>30.40</td>\n",
       "      <td>2018-09-10</td>\n",
       "      <td>1</td>\n",
       "      <td>2.65</td>\n",
       "      <td>12</td>\n",
       "      <td>14.40</td>\n",
       "      <td>5</td>\n",
       "      <td>NaN</td>\n",
       "      <td>...</td>\n",
       "      <td>NaN</td>\n",
       "      <td>NaN</td>\n",
       "      <td>55.0</td>\n",
       "      <td>95065.789474</td>\n",
       "      <td>0</td>\n",
       "      <td>9</td>\n",
       "      <td>2018</td>\n",
       "      <td>other</td>\n",
       "      <td>0.473684</td>\n",
       "      <td>0.299342</td>\n",
       "    </tr>\n",
       "    <tr>\n",
       "      <th>6</th>\n",
       "      <td>6</td>\n",
       "      <td>3700000.0</td>\n",
       "      <td>37.30</td>\n",
       "      <td>2017-11-02</td>\n",
       "      <td>1</td>\n",
       "      <td>2.65</td>\n",
       "      <td>26</td>\n",
       "      <td>10.60</td>\n",
       "      <td>6</td>\n",
       "      <td>NaN</td>\n",
       "      <td>...</td>\n",
       "      <td>0.0</td>\n",
       "      <td>NaN</td>\n",
       "      <td>155.0</td>\n",
       "      <td>99195.710456</td>\n",
       "      <td>3</td>\n",
       "      <td>11</td>\n",
       "      <td>2017</td>\n",
       "      <td>other</td>\n",
       "      <td>0.284182</td>\n",
       "      <td>0.386059</td>\n",
       "    </tr>\n",
       "    <tr>\n",
       "      <th>7</th>\n",
       "      <td>5</td>\n",
       "      <td>7915000.0</td>\n",
       "      <td>71.60</td>\n",
       "      <td>2019-04-18</td>\n",
       "      <td>2</td>\n",
       "      <td>2.65</td>\n",
       "      <td>24</td>\n",
       "      <td>NaN</td>\n",
       "      <td>22</td>\n",
       "      <td>NaN</td>\n",
       "      <td>...</td>\n",
       "      <td>0.0</td>\n",
       "      <td>NaN</td>\n",
       "      <td>NaN</td>\n",
       "      <td>110544.692737</td>\n",
       "      <td>3</td>\n",
       "      <td>4</td>\n",
       "      <td>2019</td>\n",
       "      <td>other</td>\n",
       "      <td>NaN</td>\n",
       "      <td>0.263966</td>\n",
       "    </tr>\n",
       "    <tr>\n",
       "      <th>8</th>\n",
       "      <td>20</td>\n",
       "      <td>2900000.0</td>\n",
       "      <td>33.16</td>\n",
       "      <td>2018-05-23</td>\n",
       "      <td>1</td>\n",
       "      <td>2.65</td>\n",
       "      <td>27</td>\n",
       "      <td>15.43</td>\n",
       "      <td>26</td>\n",
       "      <td>NaN</td>\n",
       "      <td>...</td>\n",
       "      <td>NaN</td>\n",
       "      <td>NaN</td>\n",
       "      <td>189.0</td>\n",
       "      <td>87454.764777</td>\n",
       "      <td>2</td>\n",
       "      <td>5</td>\n",
       "      <td>2018</td>\n",
       "      <td>other</td>\n",
       "      <td>0.465320</td>\n",
       "      <td>0.265682</td>\n",
       "    </tr>\n",
       "    <tr>\n",
       "      <th>9</th>\n",
       "      <td>18</td>\n",
       "      <td>5400000.0</td>\n",
       "      <td>61.00</td>\n",
       "      <td>2017-02-26</td>\n",
       "      <td>3</td>\n",
       "      <td>2.50</td>\n",
       "      <td>9</td>\n",
       "      <td>43.60</td>\n",
       "      <td>7</td>\n",
       "      <td>NaN</td>\n",
       "      <td>...</td>\n",
       "      <td>0.0</td>\n",
       "      <td>NaN</td>\n",
       "      <td>289.0</td>\n",
       "      <td>88524.590164</td>\n",
       "      <td>6</td>\n",
       "      <td>2</td>\n",
       "      <td>2017</td>\n",
       "      <td>other</td>\n",
       "      <td>0.714754</td>\n",
       "      <td>0.106557</td>\n",
       "    </tr>\n",
       "  </tbody>\n",
       "</table>\n",
       "<p>10 rows × 29 columns</p>\n",
       "</div>"
      ],
      "text/plain": [
       "   total_images  last_price  total_area first_day_exposition  rooms  \\\n",
       "0            20  13000000.0      108.00           2019-03-07      3   \n",
       "1             7   3350000.0       40.40           2018-12-04      1   \n",
       "2            10   5196000.0       56.00           2015-08-20      2   \n",
       "3             0  64900000.0      159.00           2015-07-24      3   \n",
       "4             2  10000000.0      100.00           2018-06-19      2   \n",
       "5            10   2890000.0       30.40           2018-09-10      1   \n",
       "6             6   3700000.0       37.30           2017-11-02      1   \n",
       "7             5   7915000.0       71.60           2019-04-18      2   \n",
       "8            20   2900000.0       33.16           2018-05-23      1   \n",
       "9            18   5400000.0       61.00           2017-02-26      3   \n",
       "\n",
       "   ceiling_height  floors_total  living_area  floor is_apartment  ...  \\\n",
       "0            2.70            16        51.00      8          NaN  ...   \n",
       "1            2.65            11        18.60      1          NaN  ...   \n",
       "2            2.65             5        34.30      4          NaN  ...   \n",
       "3            2.65            14          NaN      9          NaN  ...   \n",
       "4            3.03            14        32.00     13          NaN  ...   \n",
       "5            2.65            12        14.40      5          NaN  ...   \n",
       "6            2.65            26        10.60      6          NaN  ...   \n",
       "7            2.65            24          NaN     22          NaN  ...   \n",
       "8            2.65            27        15.43     26          NaN  ...   \n",
       "9            2.50             9        43.60      7          NaN  ...   \n",
       "\n",
       "   ponds_around3000  ponds_nearest  days_exposition   square_meter weekday  \\\n",
       "0               2.0          755.0              NaN  120370.370370       3   \n",
       "1               0.0            NaN             81.0   82920.792079       1   \n",
       "2               2.0          574.0            558.0   92785.714286       3   \n",
       "3               3.0          234.0            424.0  408176.100629       4   \n",
       "4               1.0           48.0            121.0  100000.000000       1   \n",
       "5               NaN            NaN             55.0   95065.789474       0   \n",
       "6               0.0            NaN            155.0   99195.710456       3   \n",
       "7               0.0            NaN              NaN  110544.692737       3   \n",
       "8               NaN            NaN            189.0   87454.764777       2   \n",
       "9               0.0            NaN            289.0   88524.590164       6   \n",
       "\n",
       "   month_exposition  year_exposition  floor_cat  living_area_ratio  \\\n",
       "0                 3             2019      other           0.472222   \n",
       "1                12             2018      first           0.460396   \n",
       "2                 8             2015      other           0.612500   \n",
       "3                 7             2015      other                NaN   \n",
       "4                 6             2018      other           0.320000   \n",
       "5                 9             2018      other           0.473684   \n",
       "6                11             2017      other           0.284182   \n",
       "7                 4             2019      other                NaN   \n",
       "8                 5             2018      other           0.465320   \n",
       "9                 2             2017      other           0.714754   \n",
       "\n",
       "   kitchen_area_ratio  \n",
       "0            0.231481  \n",
       "1            0.272277  \n",
       "2            0.148214  \n",
       "3                 NaN  \n",
       "4            0.410000  \n",
       "5            0.299342  \n",
       "6            0.386059  \n",
       "7            0.263966  \n",
       "8            0.265682  \n",
       "9            0.106557  \n",
       "\n",
       "[10 rows x 29 columns]"
      ]
     },
     "execution_count": 12,
     "metadata": {},
     "output_type": "execute_result"
    }
   ],
   "source": [
    "df['living_area_ratio'] = df['living_area'] / df['total_area']\n",
    "df['kitchen_area_ratio'] = df['kitchen_area'] / df['total_area']\n",
    "df.head(10)"
   ]
  },
  {
   "cell_type": "markdown",
   "metadata": {},
   "source": [
    "## Исследовательский анализ данных"
   ]
  },
  {
   "cell_type": "markdown",
   "metadata": {},
   "source": [
    "### Изучение параметров"
   ]
  },
  {
   "cell_type": "code",
   "execution_count": 13,
   "metadata": {},
   "outputs": [
    {
     "data": {
      "image/png": "[encoded data removed]",
      "text/plain": [
       "<Figure size 432x288 with 1 Axes>"
      ]
     },
     "metadata": {
      "needs_background": "light"
     },
     "output_type": "display_data"
    },
    {
     "data": {
      "text/plain": [
       "count    23699.000000\n",
       "mean        60.348651\n",
       "std         35.654083\n",
       "min         12.000000\n",
       "25%         40.000000\n",
       "50%         52.000000\n",
       "75%         69.900000\n",
       "max        900.000000\n",
       "Name: total_area, dtype: float64"
      ]
     },
     "execution_count": 13,
     "metadata": {},
     "output_type": "execute_result"
    }
   ],
   "source": [
    "df['total_area'].hist(bins=50)\n",
    "plt.title('total_area')\n",
    "plt.show()\n",
    "df['total_area'].describe()"
   ]
  },
  {
   "cell_type": "markdown",
   "metadata": {},
   "source": [
    "Распределение площади квартир нормальное. Видно, что число квартир больше 200 м2 минимальное."
   ]
  },
  {
   "cell_type": "code",
   "execution_count": 14,
   "metadata": {},
   "outputs": [
    {
     "data": {
      "image/png": "[encoded data removed]",
      "text/plain": [
       "<Figure size 432x288 with 1 Axes>"
      ]
     },
     "metadata": {
      "needs_background": "light"
     },
     "output_type": "display_data"
    },
    {
     "data": {
      "text/plain": [
       "count    23699.000000\n",
       "mean         6.541549\n",
       "std         10.887013\n",
       "min          0.012190\n",
       "25%          3.400000\n",
       "50%          4.650000\n",
       "75%          6.800000\n",
       "max        763.000000\n",
       "Name: last_price, dtype: float64"
      ]
     },
     "execution_count": 14,
     "metadata": {},
     "output_type": "execute_result"
    }
   ],
   "source": [
    "price = df['last_price'] / 1000000\n",
    "#price.hist(bins=50)\n",
    "price.hist(bins=50, range=(0, 40))\n",
    "plt.title('last_price')\n",
    "plt.show()\n",
    "price.describe()"
   ]
  },
  {
   "cell_type": "markdown",
   "metadata": {},
   "source": [
    "Переведем цену на квартиры в миллионы рублей, для удобства. За счет малого количества очень дорогих квартир гистограмма выглядит неудобной для визуального анализа. Заметно, что большинство квартир умещается в диапазоне до 40 миллионов, так что можно вывести гистограмму этого диапазона. И сразу видно, что у данных нормальное распределение. "
   ]
  },
  {
   "cell_type": "code",
   "execution_count": 15,
   "metadata": {},
   "outputs": [
    {
     "data": {
      "image/png": "[encoded data removed]",
      "text/plain": [
       "<Figure size 432x288 with 1 Axes>"
      ]
     },
     "metadata": {
      "needs_background": "light"
     },
     "output_type": "display_data"
    },
    {
     "data": {
      "text/plain": [
       "count    23699.000000\n",
       "mean         2.070636\n",
       "std          1.078405\n",
       "min          0.000000\n",
       "25%          1.000000\n",
       "50%          2.000000\n",
       "75%          3.000000\n",
       "max         19.000000\n",
       "Name: rooms, dtype: float64"
      ]
     },
     "execution_count": 15,
     "metadata": {},
     "output_type": "execute_result"
    }
   ],
   "source": [
    "df['rooms'].hist(bins=20)\n",
    "plt.title('rooms')\n",
    "plt.show()\n",
    "df['rooms'].describe()\n"
   ]
  },
  {
   "cell_type": "markdown",
   "metadata": {},
   "source": [
    "Большинство квартир имеет 1-3 комнаты. Есть артифакты в виде 0 комнат (скорее всего это апартаменты), и квартиры с 19 комнатами (хотя такое возможно)."
   ]
  },
  {
   "cell_type": "code",
   "execution_count": 16,
   "metadata": {},
   "outputs": [
    {
     "data": {
      "image/png": "[encoded data removed]",
      "text/plain": [
       "<Figure size 432x288 with 1 Axes>"
      ]
     },
     "metadata": {
      "needs_background": "light"
     },
     "output_type": "display_data"
    },
    {
     "data": {
      "text/plain": [
       "count    23699.000000\n",
       "mean         2.724358\n",
       "std          0.988298\n",
       "min          1.000000\n",
       "25%          2.600000\n",
       "50%          2.650000\n",
       "75%          2.700000\n",
       "max        100.000000\n",
       "Name: ceiling_height, dtype: float64"
      ]
     },
     "execution_count": 16,
     "metadata": {},
     "output_type": "execute_result"
    }
   ],
   "source": [
    "df['ceiling_height'].hist(bins=20)\n",
    "plt.title('ceiling_height')\n",
    "plt.show()\n",
    "df['ceiling_height'].describe()"
   ]
  },
  {
   "cell_type": "code",
   "execution_count": 17,
   "metadata": {},
   "outputs": [
    {
     "data": {
      "text/plain": [
       "0.9984809485632306"
      ]
     },
     "execution_count": 17,
     "metadata": {},
     "output_type": "execute_result"
    }
   ],
   "source": [
    "df['ceiling_height'].unique()\n",
    "len(df.query('ceiling_height <= 5')) / len(df)"
   ]
  },
  {
   "cell_type": "markdown",
   "metadata": {},
   "source": [
    "Питер славится своими историческими квартирами с потолками по 5 метров, но потолки по 100 метров - явные артефакты. Значения 27, 32, можно еще объяснить пропущенной запятой. 99% квартир с потолками до 5 метров."
   ]
  },
  {
   "cell_type": "markdown",
   "metadata": {},
   "source": [
    "### Анализ времени продажи квартир"
   ]
  },
  {
   "cell_type": "code",
   "execution_count": 18,
   "metadata": {},
   "outputs": [
    {
     "data": {
      "image/png": "[encoded data removed]",
      "text/plain": [
       "<Figure size 432x288 with 1 Axes>"
      ]
     },
     "metadata": {
      "needs_background": "light"
     },
     "output_type": "display_data"
    },
    {
     "data": {
      "text/plain": [
       "count    20518.000000\n",
       "mean       180.888634\n",
       "std        219.727988\n",
       "min          1.000000\n",
       "25%         45.000000\n",
       "50%         95.000000\n",
       "75%        232.000000\n",
       "max       1580.000000\n",
       "Name: days_exposition, dtype: float64"
      ]
     },
     "execution_count": 18,
     "metadata": {},
     "output_type": "execute_result"
    }
   ],
   "source": [
    "df['days_exposition'].hist(bins=20)\n",
    "plt.title('days_exposition')\n",
    "plt.show()\n",
    "df['days_exposition'].describe()"
   ]
  },
  {
   "cell_type": "code",
   "execution_count": 19,
   "metadata": {},
   "outputs": [
    {
     "data": {
      "text/plain": [
       "18843    деревня Новое Девяткино\n",
       "Name: locality_name, dtype: object"
      ]
     },
     "execution_count": 19,
     "metadata": {},
     "output_type": "execute_result"
    }
   ],
   "source": [
    "df['locality_name'].loc[df['days_exposition'] == 1580]"
   ]
  },
  {
   "cell_type": "markdown",
   "metadata": {},
   "source": [
    "Среднее время продажи квартир - полгода, но на него сильно влияют квартиры, которые не продаются годами (как например, квартира в деревне Новое Девяткино, которая продавалась более 4 лет, хотя по данным из таблицы ничего необычного в ней нет, возможно проблемы с документами на квартиру, несовершеннолетние собственники, или же плохие соседи). Половина всех квартир продается за 3 месяца (медианное значение 95 дней). Судя по гистограмме большинство квартир продаются в течении года. Быстрой продажей квартиры можно считать продажу квартиры менее, чем за 45 дней (1 квартиль), а долгой - более, чем 252 дня (3 квартиль)."
   ]
  },
  {
   "cell_type": "markdown",
   "metadata": {},
   "source": [
    "### Избавление от выбивающихся значений"
   ]
  },
  {
   "cell_type": "code",
   "execution_count": 20,
   "metadata": {},
   "outputs": [
    {
     "data": {
      "image/png": "[encoded data removed]",
      "text/plain": [
       "<Figure size 432x288 with 1 Axes>"
      ]
     },
     "metadata": {
      "needs_background": "light"
     },
     "output_type": "display_data"
    }
   ],
   "source": [
    "#df['days_exposition'].hist(bins=50, range=(1, 252))\n",
    "df['days_exposition'].hist(bins=90, range=(1, 100))\n",
    "plt.title('days_exposition')\n",
    "plt.show()"
   ]
  },
  {
   "cell_type": "markdown",
   "metadata": {},
   "source": [
    "Если ограничить диапазон цен на гистаграмме верхним квартилем, то видны 3 характерных пика на 45, 60 и 90. Поскольку гистаграмму мы строим по значениям до \"снятия с публикации\", то это не значит, что квартира была продана, возможно снятие в эти даты связано с правилами сервиса Яндекс.Неджвижимость. Возможно в эти даты взымается плата за последующее размещение или нужно какое-либо активное продление объявления, возможно корректировка данных, или ставится пометка, что квартира давно продается, что может насторожить и отпугнуть будущих покупателей."
   ]
  },
  {
   "cell_type": "code",
   "execution_count": 21,
   "metadata": {},
   "outputs": [
    {
     "data": {
      "image/png": "[encoded data removed]",
      "text/plain": [
       "<Figure size 432x288 with 1 Axes>"
      ]
     },
     "metadata": {
      "needs_background": "light"
     },
     "output_type": "display_data"
    }
   ],
   "source": [
    "good_days_exposition = df\n",
    "good_days_exposition['days_exposition'] = good_days_exposition['days_exposition'].fillna('0').astype('int')\n",
    "#len(good_days_exposition['days_exposition'])\n",
    "good_days_exposition_filtered = good_days_exposition.query('days_exposition not in (0, 45, 60, 90)')\n",
    "good_days_exposition_filtered['days_exposition'].hist(bins=50, range=(0, 50))\n",
    "plt.title('days_exposition')\n",
    "plt.show()\n",
    "\n"
   ]
  },
  {
   "cell_type": "markdown",
   "metadata": {},
   "source": [
    "После удаления \"пиковых\" данных о 45, 60 и 90 дне снятия объявления выявляются ещё 2 пика: это 7 день и 30."
   ]
  },
  {
   "cell_type": "code",
   "execution_count": 22,
   "metadata": {},
   "outputs": [
    {
     "data": {
      "image/png": "[encoded data removed]",
      "text/plain": [
       "<Figure size 432x288 with 1 Axes>"
      ]
     },
     "metadata": {
      "needs_background": "light"
     },
     "output_type": "display_data"
    }
   ],
   "source": [
    "good_days_exposition_filtered = good_days_exposition.query('days_exposition not in (0, 7, 30, 45, 60, 90)')\n",
    "good_days_exposition_filtered['days_exposition'].hist(bins=50)\n",
    "good_days_exposition_filtered['days_exposition'].describe()\n",
    "plt.title('days_exposition')\n",
    "plt.show()"
   ]
  },
  {
   "cell_type": "markdown",
   "metadata": {},
   "source": [
    "После удаления пиковых значений видно, что увеличилось среднее врямя продажи квартиры (195 дней) и медианное (114 дней), но нижний и верхний квартили почти не изменились."
   ]
  },
  {
   "cell_type": "markdown",
   "metadata": {},
   "source": [
    "### Анализ влияния параметров на цену"
   ]
  },
  {
   "cell_type": "code",
   "execution_count": 23,
   "metadata": {},
   "outputs": [
    {
     "data": {
      "text/plain": [
       "0.6536750579657242"
      ]
     },
     "execution_count": 23,
     "metadata": {},
     "output_type": "execute_result"
    },
    {
     "data": {
      "image/png": "[encoded data removed]",
      "text/plain": [
       "<Figure size 1152x576 with 1 Axes>"
      ]
     },
     "metadata": {
      "needs_background": "light"
     },
     "output_type": "display_data"
    }
   ],
   "source": [
    "\n",
    "df.query('total_area < 100').plot(x='total_area', y='last_price', kind='scatter', figsize=(16, 8), sharex=False, grid=True) \n",
    "df['total_area'].corr(df['last_price'])"
   ]
  },
  {
   "cell_type": "markdown",
   "metadata": {},
   "source": [
    "С увеличением площади цена растет незначительно сильно. Посмотрим как растет медианное значение цены."
   ]
  },
  {
   "cell_type": "code",
   "execution_count": 24,
   "metadata": {},
   "outputs": [
    {
     "data": {
      "text/plain": [
       "<AxesSubplot:xlabel='total_area'>"
      ]
     },
     "execution_count": 24,
     "metadata": {},
     "output_type": "execute_result"
    },
    {
     "data": {
      "image/png": "[encoded data removed]",
      "text/plain": [
       "<Figure size 1080x720 with 1 Axes>"
      ]
     },
     "metadata": {
      "needs_background": "light"
     },
     "output_type": "display_data"
    }
   ],
   "source": [
    "spb_total_area = df.pivot_table(index = 'total_area', values = 'last_price', aggfunc = ['mean', 'count', 'median'])\n",
    "spb_total_area.columns = ['mean', 'count', 'median']\n",
    "spb_total_area.plot(y = 'median', kind='bar', figsize=(15, 10))"
   ]
  },
  {
   "cell_type": "markdown",
   "metadata": {},
   "source": [
    "Результат подтвердился"
   ]
  },
  {
   "cell_type": "code",
   "execution_count": 25,
   "metadata": {},
   "outputs": [
    {
     "data": {
      "text/plain": [
       "0.3633428499648955"
      ]
     },
     "execution_count": 25,
     "metadata": {},
     "output_type": "execute_result"
    },
    {
     "data": {
      "image/png": "[encoded data removed]",
      "text/plain": [
       "<Figure size 720x576 with 1 Axes>"
      ]
     },
     "metadata": {
      "needs_background": "light"
     },
     "output_type": "display_data"
    }
   ],
   "source": [
    "df.query('0 < rooms < 12').plot(x='rooms', y='last_price', kind='scatter', figsize=(10, 8), sharex=False, grid=True)\n",
    "df['rooms'].corr(df['last_price'])"
   ]
  },
  {
   "cell_type": "code",
   "execution_count": 26,
   "metadata": {},
   "outputs": [
    {
     "data": {
      "text/html": [
       "<div>\n",
       "<style scoped>\n",
       "    .dataframe tbody tr th:only-of-type {\n",
       "        vertical-align: middle;\n",
       "    }\n",
       "\n",
       "    .dataframe tbody tr th {\n",
       "        vertical-align: top;\n",
       "    }\n",
       "\n",
       "    .dataframe thead th {\n",
       "        text-align: right;\n",
       "    }\n",
       "</style>\n",
       "<table border=\"1\" class=\"dataframe\">\n",
       "  <thead>\n",
       "    <tr style=\"text-align: right;\">\n",
       "      <th></th>\n",
       "      <th>mean</th>\n",
       "      <th>count</th>\n",
       "      <th>median</th>\n",
       "    </tr>\n",
       "    <tr>\n",
       "      <th>rooms</th>\n",
       "      <th></th>\n",
       "      <th></th>\n",
       "      <th></th>\n",
       "    </tr>\n",
       "  </thead>\n",
       "  <tbody>\n",
       "    <tr>\n",
       "      <th>0</th>\n",
       "      <td>3.337724e+06</td>\n",
       "      <td>197</td>\n",
       "      <td>2700000.0</td>\n",
       "    </tr>\n",
       "    <tr>\n",
       "      <th>1</th>\n",
       "      <td>3.835362e+06</td>\n",
       "      <td>8047</td>\n",
       "      <td>3600000.0</td>\n",
       "    </tr>\n",
       "    <tr>\n",
       "      <th>2</th>\n",
       "      <td>5.591605e+06</td>\n",
       "      <td>7940</td>\n",
       "      <td>4770169.0</td>\n",
       "    </tr>\n",
       "    <tr>\n",
       "      <th>3</th>\n",
       "      <td>8.179119e+06</td>\n",
       "      <td>5814</td>\n",
       "      <td>6200000.0</td>\n",
       "    </tr>\n",
       "    <tr>\n",
       "      <th>4</th>\n",
       "      <td>1.342350e+07</td>\n",
       "      <td>1180</td>\n",
       "      <td>9000000.0</td>\n",
       "    </tr>\n",
       "    <tr>\n",
       "      <th>5</th>\n",
       "      <td>2.376208e+07</td>\n",
       "      <td>326</td>\n",
       "      <td>14000000.0</td>\n",
       "    </tr>\n",
       "    <tr>\n",
       "      <th>6</th>\n",
       "      <td>3.170975e+07</td>\n",
       "      <td>105</td>\n",
       "      <td>19000000.0</td>\n",
       "    </tr>\n",
       "    <tr>\n",
       "      <th>7</th>\n",
       "      <td>5.147007e+07</td>\n",
       "      <td>59</td>\n",
       "      <td>24900000.0</td>\n",
       "    </tr>\n",
       "    <tr>\n",
       "      <th>8</th>\n",
       "      <td>5.022417e+07</td>\n",
       "      <td>12</td>\n",
       "      <td>23095000.0</td>\n",
       "    </tr>\n",
       "    <tr>\n",
       "      <th>9</th>\n",
       "      <td>3.415236e+07</td>\n",
       "      <td>8</td>\n",
       "      <td>23750000.0</td>\n",
       "    </tr>\n",
       "    <tr>\n",
       "      <th>10</th>\n",
       "      <td>2.616667e+07</td>\n",
       "      <td>3</td>\n",
       "      <td>23000000.0</td>\n",
       "    </tr>\n",
       "    <tr>\n",
       "      <th>11</th>\n",
       "      <td>2.525000e+07</td>\n",
       "      <td>2</td>\n",
       "      <td>25250000.0</td>\n",
       "    </tr>\n",
       "    <tr>\n",
       "      <th>12</th>\n",
       "      <td>4.200000e+08</td>\n",
       "      <td>1</td>\n",
       "      <td>420000000.0</td>\n",
       "    </tr>\n",
       "    <tr>\n",
       "      <th>14</th>\n",
       "      <td>2.682950e+07</td>\n",
       "      <td>2</td>\n",
       "      <td>26829500.0</td>\n",
       "    </tr>\n",
       "    <tr>\n",
       "      <th>15</th>\n",
       "      <td>6.500000e+07</td>\n",
       "      <td>1</td>\n",
       "      <td>65000000.0</td>\n",
       "    </tr>\n",
       "    <tr>\n",
       "      <th>16</th>\n",
       "      <td>2.850000e+07</td>\n",
       "      <td>1</td>\n",
       "      <td>28500000.0</td>\n",
       "    </tr>\n",
       "    <tr>\n",
       "      <th>19</th>\n",
       "      <td>3.225000e+07</td>\n",
       "      <td>1</td>\n",
       "      <td>32250000.0</td>\n",
       "    </tr>\n",
       "  </tbody>\n",
       "</table>\n",
       "</div>"
      ],
      "text/plain": [
       "               mean  count       median\n",
       "rooms                                  \n",
       "0      3.337724e+06    197    2700000.0\n",
       "1      3.835362e+06   8047    3600000.0\n",
       "2      5.591605e+06   7940    4770169.0\n",
       "3      8.179119e+06   5814    6200000.0\n",
       "4      1.342350e+07   1180    9000000.0\n",
       "5      2.376208e+07    326   14000000.0\n",
       "6      3.170975e+07    105   19000000.0\n",
       "7      5.147007e+07     59   24900000.0\n",
       "8      5.022417e+07     12   23095000.0\n",
       "9      3.415236e+07      8   23750000.0\n",
       "10     2.616667e+07      3   23000000.0\n",
       "11     2.525000e+07      2   25250000.0\n",
       "12     4.200000e+08      1  420000000.0\n",
       "14     2.682950e+07      2   26829500.0\n",
       "15     6.500000e+07      1   65000000.0\n",
       "16     2.850000e+07      1   28500000.0\n",
       "19     3.225000e+07      1   32250000.0"
      ]
     },
     "execution_count": 26,
     "metadata": {},
     "output_type": "execute_result"
    },
    {
     "data": {
      "image/png": "[encoded data removed]",
      "text/plain": [
       "<Figure size 1080x720 with 1 Axes>"
      ]
     },
     "metadata": {
      "needs_background": "light"
     },
     "output_type": "display_data"
    }
   ],
   "source": [
    "spb_rooms = df.pivot_table(index = 'rooms', values = 'last_price', aggfunc = ['mean', 'count', 'median'])\n",
    "spb_rooms.columns = ['mean', 'count', 'median']\n",
    "spb_rooms.plot(y = 'median', kind='bar', figsize=(15, 10))\n",
    "spb_rooms"
   ]
  },
  {
   "cell_type": "code",
   "execution_count": 27,
   "metadata": {},
   "outputs": [
    {
     "data": {
      "text/plain": [
       "0.35252748098846803"
      ]
     },
     "execution_count": 27,
     "metadata": {},
     "output_type": "execute_result"
    }
   ],
   "source": [
    "df.query('0 < rooms < 8')['rooms'].corr(df['last_price'])"
   ]
  },
  {
   "cell_type": "markdown",
   "metadata": {},
   "source": [
    "Количество комнат плохо коррелируется с ценой на квартиру. Хорошая корреляция с ценой кесть у квартир от 1 до 7 комнат. Но квартир с количеством комнат больше 7 очень мало (на корреляцию они не влияют), 12-комнатная квартира, вообще 1, и выбивается своей ценой."
   ]
  },
  {
   "cell_type": "code",
   "execution_count": 28,
   "metadata": {},
   "outputs": [
    {
     "data": {
      "text/plain": [
       "-0.20674734874298364"
      ]
     },
     "execution_count": 28,
     "metadata": {},
     "output_type": "execute_result"
    },
    {
     "data": {
      "image/png": "[encoded data removed]",
      "text/plain": [
       "<Figure size 1080x576 with 1 Axes>"
      ]
     },
     "metadata": {
      "needs_background": "light"
     },
     "output_type": "display_data"
    }
   ],
   "source": [
    "df.plot(x='cityCenters_nearest', y='last_price', kind='scatter', figsize=(15, 8), sharex=False, grid=True)\n",
    "df['cityCenters_nearest'].corr(df['last_price'])"
   ]
  },
  {
   "cell_type": "code",
   "execution_count": 29,
   "metadata": {},
   "outputs": [
    {
     "data": {
      "text/html": [
       "<div>\n",
       "<style scoped>\n",
       "    .dataframe tbody tr th:only-of-type {\n",
       "        vertical-align: middle;\n",
       "    }\n",
       "\n",
       "    .dataframe tbody tr th {\n",
       "        vertical-align: top;\n",
       "    }\n",
       "\n",
       "    .dataframe thead th {\n",
       "        text-align: right;\n",
       "    }\n",
       "</style>\n",
       "<table border=\"1\" class=\"dataframe\">\n",
       "  <thead>\n",
       "    <tr style=\"text-align: right;\">\n",
       "      <th></th>\n",
       "      <th>mean</th>\n",
       "      <th>count</th>\n",
       "      <th>median</th>\n",
       "    </tr>\n",
       "    <tr>\n",
       "      <th>cityCenters_nearest</th>\n",
       "      <th></th>\n",
       "      <th></th>\n",
       "      <th></th>\n",
       "    </tr>\n",
       "  </thead>\n",
       "  <tbody>\n",
       "    <tr>\n",
       "      <th>181.0</th>\n",
       "      <td>31099000.0</td>\n",
       "      <td>1</td>\n",
       "      <td>31099000.0</td>\n",
       "    </tr>\n",
       "    <tr>\n",
       "      <th>208.0</th>\n",
       "      <td>5800000.0</td>\n",
       "      <td>1</td>\n",
       "      <td>5800000.0</td>\n",
       "    </tr>\n",
       "    <tr>\n",
       "      <th>215.0</th>\n",
       "      <td>10990000.0</td>\n",
       "      <td>1</td>\n",
       "      <td>10990000.0</td>\n",
       "    </tr>\n",
       "    <tr>\n",
       "      <th>287.0</th>\n",
       "      <td>9590000.0</td>\n",
       "      <td>1</td>\n",
       "      <td>9590000.0</td>\n",
       "    </tr>\n",
       "    <tr>\n",
       "      <th>291.0</th>\n",
       "      <td>11500000.0</td>\n",
       "      <td>1</td>\n",
       "      <td>11500000.0</td>\n",
       "    </tr>\n",
       "    <tr>\n",
       "      <th>...</th>\n",
       "      <td>...</td>\n",
       "      <td>...</td>\n",
       "      <td>...</td>\n",
       "    </tr>\n",
       "    <tr>\n",
       "      <th>64857.0</th>\n",
       "      <td>3650000.0</td>\n",
       "      <td>1</td>\n",
       "      <td>3650000.0</td>\n",
       "    </tr>\n",
       "    <tr>\n",
       "      <th>65105.0</th>\n",
       "      <td>3300000.0</td>\n",
       "      <td>1</td>\n",
       "      <td>3300000.0</td>\n",
       "    </tr>\n",
       "    <tr>\n",
       "      <th>65764.0</th>\n",
       "      <td>4000000.0</td>\n",
       "      <td>1</td>\n",
       "      <td>4000000.0</td>\n",
       "    </tr>\n",
       "    <tr>\n",
       "      <th>65952.0</th>\n",
       "      <td>3600000.0</td>\n",
       "      <td>1</td>\n",
       "      <td>3600000.0</td>\n",
       "    </tr>\n",
       "    <tr>\n",
       "      <th>65968.0</th>\n",
       "      <td>4200000.0</td>\n",
       "      <td>1</td>\n",
       "      <td>4200000.0</td>\n",
       "    </tr>\n",
       "  </tbody>\n",
       "</table>\n",
       "<p>7642 rows × 3 columns</p>\n",
       "</div>"
      ],
      "text/plain": [
       "                           mean  count      median\n",
       "cityCenters_nearest                               \n",
       "181.0                31099000.0      1  31099000.0\n",
       "208.0                 5800000.0      1   5800000.0\n",
       "215.0                10990000.0      1  10990000.0\n",
       "287.0                 9590000.0      1   9590000.0\n",
       "291.0                11500000.0      1  11500000.0\n",
       "...                         ...    ...         ...\n",
       "64857.0               3650000.0      1   3650000.0\n",
       "65105.0               3300000.0      1   3300000.0\n",
       "65764.0               4000000.0      1   4000000.0\n",
       "65952.0               3600000.0      1   3600000.0\n",
       "65968.0               4200000.0      1   4200000.0\n",
       "\n",
       "[7642 rows x 3 columns]"
      ]
     },
     "execution_count": 29,
     "metadata": {},
     "output_type": "execute_result"
    },
    {
     "data": {
      "image/png": "[encoded data removed]",
      "text/plain": [
       "<Figure size 1080x720 with 1 Axes>"
      ]
     },
     "metadata": {
      "needs_background": "light"
     },
     "output_type": "display_data"
    }
   ],
   "source": [
    "spb_cityCenters_nearest = df.pivot_table(index = 'cityCenters_nearest', values = 'last_price', aggfunc = ['mean', 'count', 'median'])\n",
    "spb_cityCenters_nearest.columns = ['mean', 'count', 'median']\n",
    "spb_cityCenters_nearest.plot(y = 'median', kind='bar', figsize=(15, 10))\n",
    "spb_cityCenters_nearest"
   ]
  },
  {
   "cell_type": "markdown",
   "metadata": {},
   "source": [
    "Корреляция оказалась отрицательной, что не удивительно, чем дальше квартира от центра города, тем ниже ее цена."
   ]
  },
  {
   "cell_type": "code",
   "execution_count": 30,
   "metadata": {},
   "outputs": [
    {
     "data": {
      "text/html": [
       "<div>\n",
       "<style scoped>\n",
       "    .dataframe tbody tr th:only-of-type {\n",
       "        vertical-align: middle;\n",
       "    }\n",
       "\n",
       "    .dataframe tbody tr th {\n",
       "        vertical-align: top;\n",
       "    }\n",
       "\n",
       "    .dataframe thead th {\n",
       "        text-align: right;\n",
       "    }\n",
       "</style>\n",
       "<table border=\"1\" class=\"dataframe\">\n",
       "  <thead>\n",
       "    <tr style=\"text-align: right;\">\n",
       "      <th></th>\n",
       "      <th>mean</th>\n",
       "      <th>count</th>\n",
       "      <th>median</th>\n",
       "    </tr>\n",
       "    <tr>\n",
       "      <th>floor_cat</th>\n",
       "      <th></th>\n",
       "      <th></th>\n",
       "      <th></th>\n",
       "    </tr>\n",
       "  </thead>\n",
       "  <tbody>\n",
       "    <tr>\n",
       "      <th>first</th>\n",
       "      <td>4.803560e+06</td>\n",
       "      <td>2917</td>\n",
       "      <td>3900000.0</td>\n",
       "    </tr>\n",
       "    <tr>\n",
       "      <th>last</th>\n",
       "      <td>7.356777e+06</td>\n",
       "      <td>3341</td>\n",
       "      <td>4300000.0</td>\n",
       "    </tr>\n",
       "    <tr>\n",
       "      <th>other</th>\n",
       "      <td>6.676061e+06</td>\n",
       "      <td>17441</td>\n",
       "      <td>4850000.0</td>\n",
       "    </tr>\n",
       "  </tbody>\n",
       "</table>\n",
       "</div>"
      ],
      "text/plain": [
       "                   mean  count     median\n",
       "floor_cat                                \n",
       "first      4.803560e+06   2917  3900000.0\n",
       "last       7.356777e+06   3341  4300000.0\n",
       "other      6.676061e+06  17441  4850000.0"
      ]
     },
     "execution_count": 30,
     "metadata": {},
     "output_type": "execute_result"
    }
   ],
   "source": [
    "spb_floor_cat = df.pivot_table(index = 'floor_cat', values = 'last_price', aggfunc = ['mean', 'count', 'median'])\n",
    "spb_floor_cat.columns = ['mean', 'count', 'median']\n",
    "spb_floor_cat"
   ]
  },
  {
   "cell_type": "markdown",
   "metadata": {},
   "source": [
    "Обычно квартиры на первом и последнем этаже стоят дешевле из-за множества факторов (близость подвала, крыши и т.п.), но здесь мы видим странный результат для среднего значения квартир последнего этажа, возможно на это сказалась очень большая цена некоторых квартир (например пентхаусов и монсард). "
   ]
  },
  {
   "cell_type": "code",
   "execution_count": 31,
   "metadata": {},
   "outputs": [
    {
     "data": {
      "text/html": [
       "<div>\n",
       "<style scoped>\n",
       "    .dataframe tbody tr th:only-of-type {\n",
       "        vertical-align: middle;\n",
       "    }\n",
       "\n",
       "    .dataframe tbody tr th {\n",
       "        vertical-align: top;\n",
       "    }\n",
       "\n",
       "    .dataframe thead th {\n",
       "        text-align: right;\n",
       "    }\n",
       "</style>\n",
       "<table border=\"1\" class=\"dataframe\">\n",
       "  <thead>\n",
       "    <tr style=\"text-align: right;\">\n",
       "      <th></th>\n",
       "      <th>mean</th>\n",
       "      <th>count</th>\n",
       "      <th>median</th>\n",
       "    </tr>\n",
       "    <tr>\n",
       "      <th>floor_cat</th>\n",
       "      <th></th>\n",
       "      <th></th>\n",
       "      <th></th>\n",
       "    </tr>\n",
       "  </thead>\n",
       "  <tbody>\n",
       "    <tr>\n",
       "      <th>first</th>\n",
       "      <td>4.375615e+06</td>\n",
       "      <td>2875</td>\n",
       "      <td>3899000.0</td>\n",
       "    </tr>\n",
       "    <tr>\n",
       "      <th>last</th>\n",
       "      <td>5.122810e+06</td>\n",
       "      <td>3197</td>\n",
       "      <td>4200000.0</td>\n",
       "    </tr>\n",
       "    <tr>\n",
       "      <th>other</th>\n",
       "      <td>5.644939e+06</td>\n",
       "      <td>16904</td>\n",
       "      <td>4750000.0</td>\n",
       "    </tr>\n",
       "  </tbody>\n",
       "</table>\n",
       "</div>"
      ],
      "text/plain": [
       "                   mean  count     median\n",
       "floor_cat                                \n",
       "first      4.375615e+06   2875  3899000.0\n",
       "last       5.122810e+06   3197  4200000.0\n",
       "other      5.644939e+06  16904  4750000.0"
      ]
     },
     "execution_count": 31,
     "metadata": {},
     "output_type": "execute_result"
    }
   ],
   "source": [
    "spb_floor_cat = df.query('last_price < 20000000').pivot_table(index = 'floor_cat', values = 'last_price', aggfunc = ['mean', 'count', 'median']) \n",
    "spb_floor_cat.columns = ['mean', 'count', 'median'] \n",
    "spb_floor_cat"
   ]
  },
  {
   "cell_type": "markdown",
   "metadata": {},
   "source": [
    "Уберем квартиры стоимостью выше 20 миллионов (можно было бы ограничиться верхним квартилем 6,8 миллиона, но обрежем только очень дорогие квартиры) и средняя цена вписывается в логику."
   ]
  },
  {
   "cell_type": "code",
   "execution_count": 32,
   "metadata": {},
   "outputs": [
    {
     "data": {
      "text/plain": [
       "0.0015501452176215436"
      ]
     },
     "execution_count": 32,
     "metadata": {},
     "output_type": "execute_result"
    },
    {
     "data": {
      "image/png": "[encoded data removed]",
      "text/plain": [
       "<Figure size 1008x576 with 1 Axes>"
      ]
     },
     "metadata": {
      "needs_background": "light"
     },
     "output_type": "display_data"
    }
   ],
   "source": [
    "df.plot(x='weekday', y='last_price', kind='scatter', figsize=(14, 8), sharex=False, grid=True)\n",
    "df['weekday'].corr(df['last_price'])"
   ]
  },
  {
   "cell_type": "code",
   "execution_count": 33,
   "metadata": {},
   "outputs": [
    {
     "data": {
      "text/html": [
       "<div>\n",
       "<style scoped>\n",
       "    .dataframe tbody tr th:only-of-type {\n",
       "        vertical-align: middle;\n",
       "    }\n",
       "\n",
       "    .dataframe tbody tr th {\n",
       "        vertical-align: top;\n",
       "    }\n",
       "\n",
       "    .dataframe thead th {\n",
       "        text-align: right;\n",
       "    }\n",
       "</style>\n",
       "<table border=\"1\" class=\"dataframe\">\n",
       "  <thead>\n",
       "    <tr style=\"text-align: right;\">\n",
       "      <th></th>\n",
       "      <th>mean</th>\n",
       "      <th>count</th>\n",
       "      <th>median</th>\n",
       "    </tr>\n",
       "    <tr>\n",
       "      <th>weekday</th>\n",
       "      <th></th>\n",
       "      <th></th>\n",
       "      <th></th>\n",
       "    </tr>\n",
       "  </thead>\n",
       "  <tbody>\n",
       "    <tr>\n",
       "      <th>0</th>\n",
       "      <td>6.511613e+06</td>\n",
       "      <td>3612</td>\n",
       "      <td>4650000.0</td>\n",
       "    </tr>\n",
       "    <tr>\n",
       "      <th>1</th>\n",
       "      <td>6.394233e+06</td>\n",
       "      <td>4183</td>\n",
       "      <td>4730000.0</td>\n",
       "    </tr>\n",
       "    <tr>\n",
       "      <th>2</th>\n",
       "      <td>6.627970e+06</td>\n",
       "      <td>3974</td>\n",
       "      <td>4700000.0</td>\n",
       "    </tr>\n",
       "    <tr>\n",
       "      <th>3</th>\n",
       "      <td>6.708663e+06</td>\n",
       "      <td>4295</td>\n",
       "      <td>4650000.0</td>\n",
       "    </tr>\n",
       "    <tr>\n",
       "      <th>4</th>\n",
       "      <td>6.372131e+06</td>\n",
       "      <td>4000</td>\n",
       "      <td>4585000.0</td>\n",
       "    </tr>\n",
       "    <tr>\n",
       "      <th>5</th>\n",
       "      <td>6.976804e+06</td>\n",
       "      <td>1936</td>\n",
       "      <td>4555000.0</td>\n",
       "    </tr>\n",
       "    <tr>\n",
       "      <th>6</th>\n",
       "      <td>6.246180e+06</td>\n",
       "      <td>1699</td>\n",
       "      <td>4550000.0</td>\n",
       "    </tr>\n",
       "  </tbody>\n",
       "</table>\n",
       "</div>"
      ],
      "text/plain": [
       "                 mean  count     median\n",
       "weekday                                \n",
       "0        6.511613e+06   3612  4650000.0\n",
       "1        6.394233e+06   4183  4730000.0\n",
       "2        6.627970e+06   3974  4700000.0\n",
       "3        6.708663e+06   4295  4650000.0\n",
       "4        6.372131e+06   4000  4585000.0\n",
       "5        6.976804e+06   1936  4555000.0\n",
       "6        6.246180e+06   1699  4550000.0"
      ]
     },
     "execution_count": 33,
     "metadata": {},
     "output_type": "execute_result"
    },
    {
     "data": {
      "image/png": "[encoded data removed]",
      "text/plain": [
       "<Figure size 504x720 with 1 Axes>"
      ]
     },
     "metadata": {
      "needs_background": "light"
     },
     "output_type": "display_data"
    }
   ],
   "source": [
    "spb_weekday = df.pivot_table(index = 'weekday', values = 'last_price', aggfunc = ['mean', 'count', 'median'])\n",
    "spb_weekday.columns = ['mean', 'count', 'median']\n",
    "spb_weekday.plot(y = 'median', kind='bar', figsize=(7, 10))\n",
    "spb_weekday"
   ]
  },
  {
   "cell_type": "code",
   "execution_count": 34,
   "metadata": {},
   "outputs": [
    {
     "data": {
      "text/plain": [
       "0.0027791287507397235"
      ]
     },
     "execution_count": 34,
     "metadata": {},
     "output_type": "execute_result"
    },
    {
     "data": {
      "image/png": "[encoded data removed]",
      "text/plain": [
       "<Figure size 1008x576 with 1 Axes>"
      ]
     },
     "metadata": {
      "needs_background": "light"
     },
     "output_type": "display_data"
    }
   ],
   "source": [
    "df.plot(x='month_exposition', y='last_price', kind='scatter', figsize=(14, 8), sharex=False, grid=True)\n",
    "df['month_exposition'].corr(df['last_price'])"
   ]
  },
  {
   "cell_type": "code",
   "execution_count": 35,
   "metadata": {},
   "outputs": [
    {
     "data": {
      "text/html": [
       "<div>\n",
       "<style scoped>\n",
       "    .dataframe tbody tr th:only-of-type {\n",
       "        vertical-align: middle;\n",
       "    }\n",
       "\n",
       "    .dataframe tbody tr th {\n",
       "        vertical-align: top;\n",
       "    }\n",
       "\n",
       "    .dataframe thead th {\n",
       "        text-align: right;\n",
       "    }\n",
       "</style>\n",
       "<table border=\"1\" class=\"dataframe\">\n",
       "  <thead>\n",
       "    <tr style=\"text-align: right;\">\n",
       "      <th></th>\n",
       "      <th>mean</th>\n",
       "      <th>count</th>\n",
       "      <th>median</th>\n",
       "    </tr>\n",
       "    <tr>\n",
       "      <th>month_exposition</th>\n",
       "      <th></th>\n",
       "      <th></th>\n",
       "      <th></th>\n",
       "    </tr>\n",
       "  </thead>\n",
       "  <tbody>\n",
       "    <tr>\n",
       "      <th>1</th>\n",
       "      <td>6.668233e+06</td>\n",
       "      <td>1500</td>\n",
       "      <td>4600000.0</td>\n",
       "    </tr>\n",
       "    <tr>\n",
       "      <th>2</th>\n",
       "      <td>6.468500e+06</td>\n",
       "      <td>2640</td>\n",
       "      <td>4650000.0</td>\n",
       "    </tr>\n",
       "    <tr>\n",
       "      <th>3</th>\n",
       "      <td>6.359275e+06</td>\n",
       "      <td>2587</td>\n",
       "      <td>4650000.0</td>\n",
       "    </tr>\n",
       "    <tr>\n",
       "      <th>4</th>\n",
       "      <td>6.737198e+06</td>\n",
       "      <td>2379</td>\n",
       "      <td>4800000.0</td>\n",
       "    </tr>\n",
       "    <tr>\n",
       "      <th>5</th>\n",
       "      <td>6.600435e+06</td>\n",
       "      <td>1274</td>\n",
       "      <td>4515000.0</td>\n",
       "    </tr>\n",
       "    <tr>\n",
       "      <th>6</th>\n",
       "      <td>6.310269e+06</td>\n",
       "      <td>1760</td>\n",
       "      <td>4400000.0</td>\n",
       "    </tr>\n",
       "    <tr>\n",
       "      <th>7</th>\n",
       "      <td>6.649337e+06</td>\n",
       "      <td>1695</td>\n",
       "      <td>4650000.0</td>\n",
       "    </tr>\n",
       "    <tr>\n",
       "      <th>8</th>\n",
       "      <td>6.350233e+06</td>\n",
       "      <td>1744</td>\n",
       "      <td>4570000.0</td>\n",
       "    </tr>\n",
       "    <tr>\n",
       "      <th>9</th>\n",
       "      <td>6.825470e+06</td>\n",
       "      <td>1981</td>\n",
       "      <td>4700000.0</td>\n",
       "    </tr>\n",
       "    <tr>\n",
       "      <th>10</th>\n",
       "      <td>6.235013e+06</td>\n",
       "      <td>2127</td>\n",
       "      <td>4570000.0</td>\n",
       "    </tr>\n",
       "    <tr>\n",
       "      <th>11</th>\n",
       "      <td>6.461363e+06</td>\n",
       "      <td>2371</td>\n",
       "      <td>4700000.0</td>\n",
       "    </tr>\n",
       "    <tr>\n",
       "      <th>12</th>\n",
       "      <td>7.011731e+06</td>\n",
       "      <td>1641</td>\n",
       "      <td>4700000.0</td>\n",
       "    </tr>\n",
       "  </tbody>\n",
       "</table>\n",
       "</div>"
      ],
      "text/plain": [
       "                          mean  count     median\n",
       "month_exposition                                \n",
       "1                 6.668233e+06   1500  4600000.0\n",
       "2                 6.468500e+06   2640  4650000.0\n",
       "3                 6.359275e+06   2587  4650000.0\n",
       "4                 6.737198e+06   2379  4800000.0\n",
       "5                 6.600435e+06   1274  4515000.0\n",
       "6                 6.310269e+06   1760  4400000.0\n",
       "7                 6.649337e+06   1695  4650000.0\n",
       "8                 6.350233e+06   1744  4570000.0\n",
       "9                 6.825470e+06   1981  4700000.0\n",
       "10                6.235013e+06   2127  4570000.0\n",
       "11                6.461363e+06   2371  4700000.0\n",
       "12                7.011731e+06   1641  4700000.0"
      ]
     },
     "execution_count": 35,
     "metadata": {},
     "output_type": "execute_result"
    },
    {
     "data": {
      "image/png": "[encoded data removed]",
      "text/plain": [
       "<Figure size 864x504 with 1 Axes>"
      ]
     },
     "metadata": {
      "needs_background": "light"
     },
     "output_type": "display_data"
    }
   ],
   "source": [
    "spb_month_exposition = df.pivot_table(index = 'month_exposition', values = 'last_price', aggfunc = ['mean', 'count', 'median'])\n",
    "spb_month_exposition.columns = ['mean', 'count', 'median']\n",
    "spb_month_exposition.plot(y = 'median', kind='bar', figsize=(12, 7))\n",
    "spb_month_exposition"
   ]
  },
  {
   "cell_type": "markdown",
   "metadata": {},
   "source": [
    "Зависимости цены квартиры от месяца и дня недели размещения объявления не удалось выявить."
   ]
  },
  {
   "cell_type": "code",
   "execution_count": 36,
   "metadata": {},
   "outputs": [
    {
     "data": {
      "text/plain": [
       "-0.043089036199508574"
      ]
     },
     "execution_count": 36,
     "metadata": {},
     "output_type": "execute_result"
    },
    {
     "data": {
      "image/png": "[encoded data removed]",
      "text/plain": [
       "<Figure size 1008x576 with 1 Axes>"
      ]
     },
     "metadata": {
      "needs_background": "light"
     },
     "output_type": "display_data"
    }
   ],
   "source": [
    "df.plot(x='year_exposition', y='last_price', kind='scatter', figsize=(14, 8), sharex=False, grid=True)\n",
    "df['year_exposition'].corr(df['last_price'])"
   ]
  },
  {
   "cell_type": "code",
   "execution_count": 37,
   "metadata": {},
   "outputs": [
    {
     "data": {
      "text/html": [
       "<div>\n",
       "<style scoped>\n",
       "    .dataframe tbody tr th:only-of-type {\n",
       "        vertical-align: middle;\n",
       "    }\n",
       "\n",
       "    .dataframe tbody tr th {\n",
       "        vertical-align: top;\n",
       "    }\n",
       "\n",
       "    .dataframe thead th {\n",
       "        text-align: right;\n",
       "    }\n",
       "</style>\n",
       "<table border=\"1\" class=\"dataframe\">\n",
       "  <thead>\n",
       "    <tr style=\"text-align: right;\">\n",
       "      <th></th>\n",
       "      <th>mean</th>\n",
       "      <th>count</th>\n",
       "      <th>median</th>\n",
       "    </tr>\n",
       "    <tr>\n",
       "      <th>year_exposition</th>\n",
       "      <th></th>\n",
       "      <th></th>\n",
       "      <th></th>\n",
       "    </tr>\n",
       "  </thead>\n",
       "  <tbody>\n",
       "    <tr>\n",
       "      <th>2014</th>\n",
       "      <td>1.208714e+07</td>\n",
       "      <td>137</td>\n",
       "      <td>7700000.0</td>\n",
       "    </tr>\n",
       "    <tr>\n",
       "      <th>2015</th>\n",
       "      <td>8.572833e+06</td>\n",
       "      <td>1191</td>\n",
       "      <td>5350000.0</td>\n",
       "    </tr>\n",
       "    <tr>\n",
       "      <th>2016</th>\n",
       "      <td>6.827912e+06</td>\n",
       "      <td>2783</td>\n",
       "      <td>4550000.0</td>\n",
       "    </tr>\n",
       "    <tr>\n",
       "      <th>2017</th>\n",
       "      <td>6.585729e+06</td>\n",
       "      <td>8190</td>\n",
       "      <td>4500000.0</td>\n",
       "    </tr>\n",
       "    <tr>\n",
       "      <th>2018</th>\n",
       "      <td>5.950966e+06</td>\n",
       "      <td>8519</td>\n",
       "      <td>4550000.0</td>\n",
       "    </tr>\n",
       "    <tr>\n",
       "      <th>2019</th>\n",
       "      <td>6.782388e+06</td>\n",
       "      <td>2879</td>\n",
       "      <td>5050000.0</td>\n",
       "    </tr>\n",
       "  </tbody>\n",
       "</table>\n",
       "</div>"
      ],
      "text/plain": [
       "                         mean  count     median\n",
       "year_exposition                                \n",
       "2014             1.208714e+07    137  7700000.0\n",
       "2015             8.572833e+06   1191  5350000.0\n",
       "2016             6.827912e+06   2783  4550000.0\n",
       "2017             6.585729e+06   8190  4500000.0\n",
       "2018             5.950966e+06   8519  4550000.0\n",
       "2019             6.782388e+06   2879  5050000.0"
      ]
     },
     "execution_count": 37,
     "metadata": {},
     "output_type": "execute_result"
    },
    {
     "data": {
      "image/png": "[encoded data removed]",
      "text/plain": [
       "<Figure size 864x504 with 1 Axes>"
      ]
     },
     "metadata": {
      "needs_background": "light"
     },
     "output_type": "display_data"
    }
   ],
   "source": [
    "spb_year_exposition = df.pivot_table(index = 'year_exposition', values = 'last_price', aggfunc = ['mean', 'count', 'median'])\n",
    "spb_year_exposition.columns = ['mean', 'count', 'median']\n",
    "spb_year_exposition.plot(y = 'median', kind='bar', figsize=(12, 7))\n",
    "spb_year_exposition"
   ]
  },
  {
   "cell_type": "markdown",
   "metadata": {},
   "source": [
    "После 2014 года цены на квартиры резко упали, падали до 2016, а потом начали понемногу расти."
   ]
  },
  {
   "cell_type": "markdown",
   "metadata": {},
   "source": [
    "### Определение населенных пунктов с самой дорогой ценой квадратного метра и самой дешёвой"
   ]
  },
  {
   "cell_type": "code",
   "execution_count": 38,
   "metadata": {},
   "outputs": [
    {
     "data": {
      "text/html": [
       "<div>\n",
       "<style scoped>\n",
       "    .dataframe tbody tr th:only-of-type {\n",
       "        vertical-align: middle;\n",
       "    }\n",
       "\n",
       "    .dataframe tbody tr th {\n",
       "        vertical-align: top;\n",
       "    }\n",
       "\n",
       "    .dataframe thead th {\n",
       "        text-align: right;\n",
       "    }\n",
       "</style>\n",
       "<table border=\"1\" class=\"dataframe\">\n",
       "  <thead>\n",
       "    <tr style=\"text-align: right;\">\n",
       "      <th></th>\n",
       "      <th>count</th>\n",
       "      <th>mean</th>\n",
       "    </tr>\n",
       "    <tr>\n",
       "      <th>locality_name</th>\n",
       "      <th></th>\n",
       "      <th></th>\n",
       "    </tr>\n",
       "  </thead>\n",
       "  <tbody>\n",
       "    <tr>\n",
       "      <th>Санкт-Петербург</th>\n",
       "      <td>15721</td>\n",
       "      <td>114849.008794</td>\n",
       "    </tr>\n",
       "    <tr>\n",
       "      <th>Пушкин</th>\n",
       "      <td>369</td>\n",
       "      <td>103125.819291</td>\n",
       "    </tr>\n",
       "    <tr>\n",
       "      <th>деревня Кудрово</th>\n",
       "      <td>299</td>\n",
       "      <td>92473.547576</td>\n",
       "    </tr>\n",
       "    <tr>\n",
       "      <th>поселок Парголово</th>\n",
       "      <td>327</td>\n",
       "      <td>90175.913458</td>\n",
       "    </tr>\n",
       "    <tr>\n",
       "      <th>Мурино</th>\n",
       "      <td>590</td>\n",
       "      <td>86087.512050</td>\n",
       "    </tr>\n",
       "    <tr>\n",
       "      <th>поселок Шушары</th>\n",
       "      <td>440</td>\n",
       "      <td>78677.364217</td>\n",
       "    </tr>\n",
       "    <tr>\n",
       "      <th>Колпино</th>\n",
       "      <td>338</td>\n",
       "      <td>75424.579098</td>\n",
       "    </tr>\n",
       "    <tr>\n",
       "      <th>Гатчина</th>\n",
       "      <td>307</td>\n",
       "      <td>68746.146763</td>\n",
       "    </tr>\n",
       "    <tr>\n",
       "      <th>Всеволожск</th>\n",
       "      <td>398</td>\n",
       "      <td>68654.473986</td>\n",
       "    </tr>\n",
       "    <tr>\n",
       "      <th>Выборг</th>\n",
       "      <td>237</td>\n",
       "      <td>58141.909153</td>\n",
       "    </tr>\n",
       "  </tbody>\n",
       "</table>\n",
       "</div>"
      ],
      "text/plain": [
       "                   count           mean\n",
       "locality_name                          \n",
       "Санкт-Петербург    15721  114849.008794\n",
       "Пушкин               369  103125.819291\n",
       "деревня Кудрово      299   92473.547576\n",
       "поселок Парголово    327   90175.913458\n",
       "Мурино               590   86087.512050\n",
       "поселок Шушары       440   78677.364217\n",
       "Колпино              338   75424.579098\n",
       "Гатчина              307   68746.146763\n",
       "Всеволожск           398   68654.473986\n",
       "Выборг               237   58141.909153"
      ]
     },
     "execution_count": 38,
     "metadata": {},
     "output_type": "execute_result"
    }
   ],
   "source": [
    "locality_pivot_table = df.pivot_table(index = 'locality_name', values = 'square_meter', aggfunc=['count', 'mean'])\n",
    "locality_pivot_table.columns = ['count', 'mean']\n",
    "locality_pivot_table = locality_pivot_table.sort_values('count', ascending = False).head(10)\n",
    "locality_pivot_table.sort_values('mean', ascending = False)\n"
   ]
  },
  {
   "cell_type": "markdown",
   "metadata": {},
   "source": [
    "Самый дорогой квадратный метр жилья в Санкт-Петербурге, а самый дешевый в Выборге (из 10 населенных пунктов с самым большим предложением жилья на продажу)."
   ]
  },
  {
   "cell_type": "markdown",
   "metadata": {},
   "source": [
    "### Выявление \"центра Санкт-Петербурга\""
   ]
  },
  {
   "cell_type": "code",
   "execution_count": 39,
   "metadata": {},
   "outputs": [
    {
     "data": {
      "text/plain": [
       "<AxesSubplot:xlabel='cityCenters_nearest_km'>"
      ]
     },
     "execution_count": 39,
     "metadata": {},
     "output_type": "execute_result"
    },
    {
     "data": {
      "image/png": "[encoded data removed]",
      "text/plain": [
       "<Figure size 2160x720 with 1 Axes>"
      ]
     },
     "metadata": {
      "needs_background": "light"
     },
     "output_type": "display_data"
    }
   ],
   "source": [
    "spb_centr = df.query('locality_name == \"Санкт-Петербург\"')\n",
    "spb_centr = spb_centr[spb_centr['cityCenters_nearest'].notna()]\n",
    "spb_centr['cityCenters_nearest_km'] = (spb_centr['cityCenters_nearest'] / 1000).round().astype('int')\n",
    "spb_centr_pivot_table = spb_centr.pivot_table(index = 'cityCenters_nearest_km', values = 'square_meter', aggfunc='mean')\n",
    "spb_centr_pivot_table.plot(y='square_meter', kind='bar', figsize=(30, 10), sharex=False, grid=True)"
   ]
  },
  {
   "cell_type": "code",
   "execution_count": 40,
   "metadata": {},
   "outputs": [
    {
     "data": {
      "text/plain": [
       "<AxesSubplot:xlabel='cityCenters_nearest_km'>"
      ]
     },
     "execution_count": 40,
     "metadata": {},
     "output_type": "execute_result"
    },
    {
     "data": {
      "image/png": "[encoded data removed]",
      "text/plain": [
       "<Figure size 2160x720 with 1 Axes>"
      ]
     },
     "metadata": {
      "needs_background": "light"
     },
     "output_type": "display_data"
    }
   ],
   "source": [
    "spb_centr = df.query('locality_name == \"Санкт-Петербург\"')\n",
    "spb_centr = spb_centr[spb_centr['cityCenters_nearest'].notna()]\n",
    "spb_centr['cityCenters_nearest_km'] = (spb_centr['cityCenters_nearest'] / 1000).round().astype('int')\n",
    "spb_centr_pivot_table = spb_centr.pivot_table(index = 'cityCenters_nearest_km', values = 'last_price', aggfunc='mean')\n",
    "spb_centr_pivot_table.plot(y='last_price', kind='bar', figsize=(30, 10), sharex=False, grid=True)"
   ]
  },
  {
   "cell_type": "markdown",
   "metadata": {},
   "source": [
    "Сделал 2 графика: зависимость квадратного метра и цены квартиры от удаления от центра города. На обоих графиках видно, что цена резко падает, начиная с 9 км (с не очень понятным просиданием на 3 километре). Так что центральной зоной можно считать территорию до 9 км от центра Санкт-Петербурга."
   ]
  },
  {
   "cell_type": "markdown",
   "metadata": {},
   "source": [
    "###  Анализ параметров для центра Санкт-Петербурга"
   ]
  },
  {
   "cell_type": "markdown",
   "metadata": {},
   "source": [
    "Выделим квартиры, находящиеся в центре, и проанализируем параметры: площадь, цена, количество комнат и высота потолков, при помощи метода describe()."
   ]
  },
  {
   "cell_type": "code",
   "execution_count": 41,
   "metadata": {
    "scrolled": true
   },
   "outputs": [
    {
     "name": "stderr",
     "output_type": "stream",
     "text": [
      "<ipython-input-41-dd053bd9f795>:2: SettingWithCopyWarning: \n",
      "A value is trying to be set on a copy of a slice from a DataFrame.\n",
      "Try using .loc[row_indexer,col_indexer] = value instead\n",
      "\n",
      "See the caveats in the documentation: https://pandas.pydata.org/pandas-docs/stable/user_guide/indexing.html#returning-a-view-versus-a-copy\n",
      "  centr['last_price_mln'] = centr['last_price'] / 1000000\n"
     ]
    }
   ],
   "source": [
    "centr = spb_centr.query('cityCenters_nearest_km < 9')\n",
    "centr['last_price_mln'] = centr['last_price'] / 1000000\n",
    "centr['total_area'].describe()\n",
    "import warnings\n",
    "warnings.simplefilter('ignore')\n"
   ]
  },
  {
   "cell_type": "code",
   "execution_count": 42,
   "metadata": {},
   "outputs": [
    {
     "data": {
      "text/plain": [
       "count    4122.000000\n",
       "mean       14.180373\n",
       "std        23.580489\n",
       "min         1.600000\n",
       "25%         6.450000\n",
       "50%         8.960000\n",
       "75%        13.900000\n",
       "max       763.000000\n",
       "Name: last_price_mln, dtype: float64"
      ]
     },
     "execution_count": 42,
     "metadata": {},
     "output_type": "execute_result"
    }
   ],
   "source": [
    "centr['last_price_mln'].describe()"
   ]
  },
  {
   "cell_type": "code",
   "execution_count": 43,
   "metadata": {},
   "outputs": [
    {
     "data": {
      "text/plain": [
       "count    4122.000000\n",
       "mean        2.757885\n",
       "std         1.426035\n",
       "min         0.000000\n",
       "25%         2.000000\n",
       "50%         3.000000\n",
       "75%         3.000000\n",
       "max        19.000000\n",
       "Name: rooms, dtype: float64"
      ]
     },
     "execution_count": 43,
     "metadata": {},
     "output_type": "execute_result"
    }
   ],
   "source": [
    "centr['rooms'].describe()"
   ]
  },
  {
   "cell_type": "code",
   "execution_count": 44,
   "metadata": {},
   "outputs": [
    {
     "data": {
      "text/plain": [
       "count    4122.000000\n",
       "mean        2.963311\n",
       "std         1.728423\n",
       "min         2.000000\n",
       "25%         2.650000\n",
       "50%         2.800000\n",
       "75%         3.100000\n",
       "max       100.000000\n",
       "Name: ceiling_height, dtype: float64"
      ]
     },
     "execution_count": 44,
     "metadata": {},
     "output_type": "execute_result"
    }
   ],
   "source": [
    "centr['ceiling_height'].describe()"
   ]
  },
  {
   "cell_type": "markdown",
   "metadata": {},
   "source": [
    "Посмотрим как разные факторы влияют на цену квартиры. Для наглядности построим график для медианы."
   ]
  },
  {
   "cell_type": "code",
   "execution_count": 45,
   "metadata": {},
   "outputs": [
    {
     "data": {
      "text/plain": [
       "<AxesSubplot:xlabel='rooms'>"
      ]
     },
     "execution_count": 45,
     "metadata": {},
     "output_type": "execute_result"
    },
    {
     "data": {
      "image/png": "[encoded data removed]",
      "text/plain": [
       "<Figure size 1368x720 with 1 Axes>"
      ]
     },
     "metadata": {
      "needs_background": "light"
     },
     "output_type": "display_data"
    }
   ],
   "source": [
    "centr_rooms = centr.pivot_table(index = 'rooms', values = 'last_price_mln', aggfunc = ['mean', 'count', 'median'])\n",
    "centr_rooms.columns = ['mean', 'count', 'median']\n",
    "centr_rooms.plot(y = 'median', kind='bar', figsize=(19, 10))"
   ]
  },
  {
   "cell_type": "code",
   "execution_count": 53,
   "metadata": {},
   "outputs": [
    {
     "data": {
      "text/html": [
       "<div>\n",
       "<style scoped>\n",
       "    .dataframe tbody tr th:only-of-type {\n",
       "        vertical-align: middle;\n",
       "    }\n",
       "\n",
       "    .dataframe tbody tr th {\n",
       "        vertical-align: top;\n",
       "    }\n",
       "\n",
       "    .dataframe thead th {\n",
       "        text-align: right;\n",
       "    }\n",
       "</style>\n",
       "<table border=\"1\" class=\"dataframe\">\n",
       "  <thead>\n",
       "    <tr style=\"text-align: right;\">\n",
       "      <th></th>\n",
       "      <th>total_images</th>\n",
       "      <th>last_price</th>\n",
       "      <th>total_area</th>\n",
       "      <th>first_day_exposition</th>\n",
       "      <th>rooms</th>\n",
       "      <th>ceiling_height</th>\n",
       "      <th>floors_total</th>\n",
       "      <th>living_area</th>\n",
       "      <th>floor</th>\n",
       "      <th>is_apartment</th>\n",
       "      <th>...</th>\n",
       "      <th>days_exposition</th>\n",
       "      <th>square_meter</th>\n",
       "      <th>weekday</th>\n",
       "      <th>month_exposition</th>\n",
       "      <th>year_exposition</th>\n",
       "      <th>floor_cat</th>\n",
       "      <th>living_area_ratio</th>\n",
       "      <th>kitchen_area_ratio</th>\n",
       "      <th>cityCenters_nearest_km</th>\n",
       "      <th>last_price_mln</th>\n",
       "    </tr>\n",
       "  </thead>\n",
       "  <tbody>\n",
       "    <tr>\n",
       "      <th>19540</th>\n",
       "      <td>8</td>\n",
       "      <td>420000000.0</td>\n",
       "      <td>900.0</td>\n",
       "      <td>2017-12-06</td>\n",
       "      <td>12</td>\n",
       "      <td>2.8</td>\n",
       "      <td>25</td>\n",
       "      <td>409.7</td>\n",
       "      <td>25</td>\n",
       "      <td>NaN</td>\n",
       "      <td>...</td>\n",
       "      <td>106</td>\n",
       "      <td>466666.666667</td>\n",
       "      <td>2</td>\n",
       "      <td>12</td>\n",
       "      <td>2017</td>\n",
       "      <td>last</td>\n",
       "      <td>0.455222</td>\n",
       "      <td>0.124444</td>\n",
       "      <td>8</td>\n",
       "      <td>420.0</td>\n",
       "    </tr>\n",
       "  </tbody>\n",
       "</table>\n",
       "<p>1 rows × 31 columns</p>\n",
       "</div>"
      ],
      "text/plain": [
       "       total_images   last_price  total_area first_day_exposition  rooms  \\\n",
       "19540             8  420000000.0       900.0           2017-12-06     12   \n",
       "\n",
       "       ceiling_height  floors_total  living_area  floor is_apartment  ...  \\\n",
       "19540             2.8            25        409.7     25          NaN  ...   \n",
       "\n",
       "       days_exposition   square_meter  weekday  month_exposition  \\\n",
       "19540              106  466666.666667        2                12   \n",
       "\n",
       "      year_exposition  floor_cat  living_area_ratio  kitchen_area_ratio  \\\n",
       "19540            2017       last           0.455222            0.124444   \n",
       "\n",
       "       cityCenters_nearest_km  last_price_mln  \n",
       "19540                       8           420.0  \n",
       "\n",
       "[1 rows x 31 columns]"
      ]
     },
     "execution_count": 53,
     "metadata": {},
     "output_type": "execute_result"
    }
   ],
   "source": [
    "centr.query('rooms == 12')"
   ]
  },
  {
   "cell_type": "markdown",
   "metadata": {},
   "source": [
    "Цена квартиры растет с увеличением количества комнат. Резкий выброс на 12 комнатах. Это всего одна квартира на последнем этаже 900 кв.м., скорее всего элитный пентхауз. "
   ]
  },
  {
   "cell_type": "code",
   "execution_count": 47,
   "metadata": {},
   "outputs": [
    {
     "data": {
      "text/plain": [
       "<AxesSubplot:xlabel='floor'>"
      ]
     },
     "execution_count": 47,
     "metadata": {},
     "output_type": "execute_result"
    },
    {
     "data": {
      "image/png": "[encoded data removed]",
      "text/plain": [
       "<Figure size 1800x720 with 1 Axes>"
      ]
     },
     "metadata": {
      "needs_background": "light"
     },
     "output_type": "display_data"
    }
   ],
   "source": [
    "centr_floor = centr.pivot_table(index = 'floor', values = 'last_price_mln', aggfunc = ['mean', 'count', 'median'])\n",
    "centr_floor.columns = ['mean', 'count', 'median']\n",
    "centr_floor.plot(y = 'median', kind='bar', figsize=(25, 10))\n",
    "#centr_floor"
   ]
  },
  {
   "cell_type": "code",
   "execution_count": 59,
   "metadata": {},
   "outputs": [
    {
     "data": {
      "text/html": [
       "<div>\n",
       "<style scoped>\n",
       "    .dataframe tbody tr th:only-of-type {\n",
       "        vertical-align: middle;\n",
       "    }\n",
       "\n",
       "    .dataframe tbody tr th {\n",
       "        vertical-align: top;\n",
       "    }\n",
       "\n",
       "    .dataframe thead th {\n",
       "        text-align: right;\n",
       "    }\n",
       "</style>\n",
       "<table border=\"1\" class=\"dataframe\">\n",
       "  <thead>\n",
       "    <tr style=\"text-align: right;\">\n",
       "      <th></th>\n",
       "      <th>total_images</th>\n",
       "      <th>last_price</th>\n",
       "      <th>total_area</th>\n",
       "      <th>first_day_exposition</th>\n",
       "      <th>rooms</th>\n",
       "      <th>ceiling_height</th>\n",
       "      <th>floors_total</th>\n",
       "      <th>living_area</th>\n",
       "      <th>floor</th>\n",
       "      <th>is_apartment</th>\n",
       "      <th>...</th>\n",
       "      <th>days_exposition</th>\n",
       "      <th>square_meter</th>\n",
       "      <th>weekday</th>\n",
       "      <th>month_exposition</th>\n",
       "      <th>year_exposition</th>\n",
       "      <th>floor_cat</th>\n",
       "      <th>living_area_ratio</th>\n",
       "      <th>kitchen_area_ratio</th>\n",
       "      <th>cityCenters_nearest_km</th>\n",
       "      <th>last_price_mln</th>\n",
       "    </tr>\n",
       "  </thead>\n",
       "  <tbody>\n",
       "    <tr>\n",
       "      <th>147</th>\n",
       "      <td>10</td>\n",
       "      <td>27700000.0</td>\n",
       "      <td>179.6</td>\n",
       "      <td>2017-07-06</td>\n",
       "      <td>5</td>\n",
       "      <td>2.85</td>\n",
       "      <td>25</td>\n",
       "      <td>97.2</td>\n",
       "      <td>25</td>\n",
       "      <td>NaN</td>\n",
       "      <td>...</td>\n",
       "      <td>75</td>\n",
       "      <td>154231.625835</td>\n",
       "      <td>3</td>\n",
       "      <td>7</td>\n",
       "      <td>2017</td>\n",
       "      <td>last</td>\n",
       "      <td>0.541203</td>\n",
       "      <td>0.188196</td>\n",
       "      <td>4</td>\n",
       "      <td>27.7</td>\n",
       "    </tr>\n",
       "    <tr>\n",
       "      <th>19540</th>\n",
       "      <td>8</td>\n",
       "      <td>420000000.0</td>\n",
       "      <td>900.0</td>\n",
       "      <td>2017-12-06</td>\n",
       "      <td>12</td>\n",
       "      <td>2.80</td>\n",
       "      <td>25</td>\n",
       "      <td>409.7</td>\n",
       "      <td>25</td>\n",
       "      <td>NaN</td>\n",
       "      <td>...</td>\n",
       "      <td>106</td>\n",
       "      <td>466666.666667</td>\n",
       "      <td>2</td>\n",
       "      <td>12</td>\n",
       "      <td>2017</td>\n",
       "      <td>last</td>\n",
       "      <td>0.455222</td>\n",
       "      <td>0.124444</td>\n",
       "      <td>8</td>\n",
       "      <td>420.0</td>\n",
       "    </tr>\n",
       "  </tbody>\n",
       "</table>\n",
       "<p>2 rows × 31 columns</p>\n",
       "</div>"
      ],
      "text/plain": [
       "       total_images   last_price  total_area first_day_exposition  rooms  \\\n",
       "147              10   27700000.0       179.6           2017-07-06      5   \n",
       "19540             8  420000000.0       900.0           2017-12-06     12   \n",
       "\n",
       "       ceiling_height  floors_total  living_area  floor is_apartment  ...  \\\n",
       "147              2.85            25         97.2     25          NaN  ...   \n",
       "19540            2.80            25        409.7     25          NaN  ...   \n",
       "\n",
       "       days_exposition   square_meter  weekday  month_exposition  \\\n",
       "147                 75  154231.625835        3                 7   \n",
       "19540              106  466666.666667        2                12   \n",
       "\n",
       "      year_exposition  floor_cat  living_area_ratio  kitchen_area_ratio  \\\n",
       "147              2017       last           0.541203            0.188196   \n",
       "19540            2017       last           0.455222            0.124444   \n",
       "\n",
       "       cityCenters_nearest_km  last_price_mln  \n",
       "147                         4            27.7  \n",
       "19540                       8           420.0  \n",
       "\n",
       "[2 rows x 31 columns]"
      ]
     },
     "execution_count": 59,
     "metadata": {},
     "output_type": "execute_result"
    }
   ],
   "source": [
    "centr.loc[df['floor'] == 25]"
   ]
  },
  {
   "cell_type": "markdown",
   "metadata": {},
   "source": [
    "Этаж квартиры почти не влияет на цену, есть небольшое увеличение цены на квартиры с 19-21 этажи. И естесственно, золотой \"пентхауз\" на 25 этаже."
   ]
  },
  {
   "cell_type": "code",
   "execution_count": 60,
   "metadata": {},
   "outputs": [
    {
     "data": {
      "text/plain": [
       "<AxesSubplot:xlabel='cityCenters_nearest_km'>"
      ]
     },
     "execution_count": 60,
     "metadata": {},
     "output_type": "execute_result"
    },
    {
     "data": {
      "image/png": "[encoded data removed]",
      "text/plain": [
       "<Figure size 1152x720 with 1 Axes>"
      ]
     },
     "metadata": {
      "needs_background": "light"
     },
     "output_type": "display_data"
    }
   ],
   "source": [
    "centr_cityCenters_nearest_km = centr.pivot_table(index = 'cityCenters_nearest_km', values = 'last_price_mln', aggfunc = ['mean', 'count', 'median'])\n",
    "centr_cityCenters_nearest_km.columns = ['mean', 'count', 'median']\n",
    "centr_cityCenters_nearest_km.plot(y = 'median', kind='line', figsize=(16, 10))\n",
    "#centr_cityCenters_nearest"
   ]
  },
  {
   "cell_type": "markdown",
   "metadata": {},
   "source": [
    "Опять этот 3 км, возможно за ним заканчивается исторический культурнозначимый центр, который интересен под сдачу в аренду независимо от качества квартиры, а дальше идут комфортные квартиры близкие к историческому центру, но уже более современной застройки с возможностью внесения изменений типа перепланировки или установки кондиционеров на фасадах, что запрещено в историческом центре"
   ]
  },
  {
   "cell_type": "code",
   "execution_count": 61,
   "metadata": {},
   "outputs": [
    {
     "data": {
      "text/plain": [
       "<AxesSubplot:xlabel='year_exposition'>"
      ]
     },
     "execution_count": 61,
     "metadata": {},
     "output_type": "execute_result"
    },
    {
     "data": {
      "image/png": "[encoded data removed]",
      "text/plain": [
       "<Figure size 864x720 with 1 Axes>"
      ]
     },
     "metadata": {
      "needs_background": "light"
     },
     "output_type": "display_data"
    }
   ],
   "source": [
    "centr_year_exposition = centr.pivot_table(index = 'year_exposition', values = 'last_price_mln', aggfunc = ['mean', 'count', 'median'])\n",
    "centr_year_exposition.columns = ['mean', 'count', 'median']\n",
    "centr_year_exposition.plot(y = 'median', kind='bar', figsize=(12, 10))\n",
    "#centr_year_exposition"
   ]
  },
  {
   "cell_type": "code",
   "execution_count": 62,
   "metadata": {},
   "outputs": [
    {
     "data": {
      "text/plain": [
       "<AxesSubplot:xlabel='year_exposition'>"
      ]
     },
     "execution_count": 62,
     "metadata": {},
     "output_type": "execute_result"
    },
    {
     "data": {
      "image/png": "[encoded data removed]",
      "text/plain": [
       "<Figure size 864x720 with 1 Axes>"
      ]
     },
     "metadata": {
      "needs_background": "light"
     },
     "output_type": "display_data"
    }
   ],
   "source": [
    "centr_year_exposition = centr.pivot_table(index = 'year_exposition', values = 'square_meter', aggfunc = ['mean', 'count', 'median'])\n",
    "centr_year_exposition.columns = ['mean', 'count', 'median']\n",
    "centr_year_exposition.plot(y = 'median', kind='bar', figsize=(12, 10))"
   ]
  },
  {
   "cell_type": "markdown",
   "metadata": {},
   "source": [
    "После 2014 года цены на квартиры резко уменьшились, но потм потихоньку росли."
   ]
  },
  {
   "cell_type": "markdown",
   "metadata": {},
   "source": [
    "## Общий вывод"
   ]
  },
  {
   "cell_type": "markdown",
   "metadata": {},
   "source": [
    "Проведен анализ данных сервиса Яндекс.Недвижимость. Выявлены аномалии в данных. Посчитаны и добавлены новые параметры. Также проведен анализ зависимости цены квартиры от различных параметров. Многие выводы нельзя считать окончательными и точными, так как нужна более точная сегментация данных, например не очень корректно смотреть зависимость цены от какого-то параметра опираясь на цены квартир разных лет. Также квартира на последнем этаже в центре Санкт-Петербурга с видами на храмы и дворцы, не то же самое, что последний этаж в \"человейнике\" в Мурино, где придется часами стоять в очередь на лифт. Так что зависимости лучше искать в более узких срезах, но данных тогда нужно больше."
   ]
  }
 ],
 "metadata": {
  "ExecuteTimeLog": [
   {
    "duration": 57,
    "start_time": "2021-09-20T19:40:04.298Z"
   },
   {
    "duration": 574,
    "start_time": "2021-09-20T19:47:50.245Z"
   },
   {
    "duration": 63,
    "start_time": "2021-09-20T19:48:09.324Z"
   },
   {
    "duration": 57,
    "start_time": "2021-09-20T19:49:03.876Z"
   },
   {
    "duration": 59,
    "start_time": "2021-09-20T19:49:09.348Z"
   },
   {
    "duration": 56,
    "start_time": "2021-09-20T19:49:18.849Z"
   },
   {
    "duration": 57,
    "start_time": "2021-09-20T19:49:22.630Z"
   },
   {
    "duration": 65,
    "start_time": "2021-09-20T19:49:27.031Z"
   },
   {
    "duration": 157,
    "start_time": "2021-09-20T19:50:27.163Z"
   },
   {
    "duration": 5910,
    "start_time": "2021-09-20T19:51:10.068Z"
   },
   {
    "duration": 144,
    "start_time": "2021-09-20T19:51:28.396Z"
   },
   {
    "duration": 229,
    "start_time": "2021-09-20T19:51:47.046Z"
   },
   {
    "duration": 143,
    "start_time": "2021-09-20T19:52:12.645Z"
   },
   {
    "duration": 4749,
    "start_time": "2021-09-20T19:52:18.446Z"
   },
   {
    "duration": 140,
    "start_time": "2021-09-20T19:56:38.065Z"
   },
   {
    "duration": 158,
    "start_time": "2021-09-20T19:57:07.645Z"
   },
   {
    "duration": 60,
    "start_time": "2021-09-20T19:58:33.106Z"
   },
   {
    "duration": 5818,
    "start_time": "2021-09-20T19:59:43.050Z"
   },
   {
    "duration": 5059,
    "start_time": "2021-09-20T19:59:50.743Z"
   },
   {
    "duration": 60,
    "start_time": "2021-09-20T20:00:17.799Z"
   },
   {
    "duration": 67,
    "start_time": "2021-09-20T20:13:04.448Z"
   },
   {
    "duration": 62,
    "start_time": "2021-09-20T20:13:12.258Z"
   },
   {
    "duration": 62,
    "start_time": "2021-09-20T20:14:40.563Z"
   },
   {
    "duration": 62,
    "start_time": "2021-09-20T20:14:59.160Z"
   },
   {
    "duration": 85,
    "start_time": "2021-09-20T20:15:05.175Z"
   },
   {
    "duration": 73,
    "start_time": "2021-09-20T20:15:23.347Z"
   },
   {
    "duration": 89,
    "start_time": "2021-09-20T20:15:38.864Z"
   },
   {
    "duration": 94,
    "start_time": "2021-09-20T20:15:59.216Z"
   },
   {
    "duration": 684,
    "start_time": "2021-09-21T16:14:37.292Z"
   },
   {
    "duration": 611,
    "start_time": "2021-09-21T16:15:07.561Z"
   },
   {
    "duration": 38,
    "start_time": "2021-09-21T16:15:08.174Z"
   },
   {
    "duration": 68,
    "start_time": "2021-09-21T16:21:29.813Z"
   },
   {
    "duration": 205,
    "start_time": "2021-09-21T16:40:37.951Z"
   },
   {
    "duration": 6,
    "start_time": "2021-09-21T16:42:22.034Z"
   },
   {
    "duration": 7,
    "start_time": "2021-09-21T16:43:14.759Z"
   },
   {
    "duration": 7,
    "start_time": "2021-09-21T16:43:53.705Z"
   },
   {
    "duration": 21,
    "start_time": "2021-09-21T16:46:37.017Z"
   },
   {
    "duration": 22,
    "start_time": "2021-09-21T16:54:20.353Z"
   },
   {
    "duration": 20,
    "start_time": "2021-09-21T16:59:29.345Z"
   },
   {
    "duration": 21,
    "start_time": "2021-09-21T17:02:08.803Z"
   },
   {
    "duration": 22,
    "start_time": "2021-09-21T17:02:16.676Z"
   },
   {
    "duration": 25,
    "start_time": "2021-09-21T17:05:01.861Z"
   },
   {
    "duration": 25,
    "start_time": "2021-09-21T17:11:21.120Z"
   },
   {
    "duration": 35,
    "start_time": "2021-09-21T17:11:46.124Z"
   },
   {
    "duration": 228,
    "start_time": "2021-09-21T17:12:18.436Z"
   },
   {
    "duration": 6,
    "start_time": "2021-09-21T17:12:29.020Z"
   },
   {
    "duration": 742,
    "start_time": "2021-09-21T17:12:53.161Z"
   },
   {
    "duration": 7,
    "start_time": "2021-09-21T17:13:34.717Z"
   },
   {
    "duration": 190,
    "start_time": "2021-09-21T17:13:56.740Z"
   },
   {
    "duration": 11,
    "start_time": "2021-09-21T17:14:02.872Z"
   },
   {
    "duration": 23,
    "start_time": "2021-09-21T17:21:33.886Z"
   },
   {
    "duration": 30,
    "start_time": "2021-09-21T17:23:11.608Z"
   },
   {
    "duration": 11,
    "start_time": "2021-09-21T17:26:17.732Z"
   },
   {
    "duration": 12,
    "start_time": "2021-09-21T17:27:14.756Z"
   },
   {
    "duration": 12,
    "start_time": "2021-09-21T17:27:45.488Z"
   },
   {
    "duration": 13,
    "start_time": "2021-09-21T17:29:04.902Z"
   },
   {
    "duration": 8,
    "start_time": "2021-09-21T17:31:30.954Z"
   },
   {
    "duration": 7,
    "start_time": "2021-09-21T17:34:41.548Z"
   },
   {
    "duration": 7,
    "start_time": "2021-09-21T17:35:06.766Z"
   },
   {
    "duration": 9,
    "start_time": "2021-09-21T17:36:50.411Z"
   },
   {
    "duration": 4,
    "start_time": "2021-09-21T17:36:53.248Z"
   },
   {
    "duration": 12,
    "start_time": "2021-09-21T17:37:07.019Z"
   },
   {
    "duration": 185,
    "start_time": "2021-09-21T17:39:00.593Z"
   },
   {
    "duration": 11,
    "start_time": "2021-09-21T17:41:12.672Z"
   },
   {
    "duration": 16,
    "start_time": "2021-09-21T17:48:37.863Z"
   },
   {
    "duration": 15,
    "start_time": "2021-09-21T17:49:07.281Z"
   },
   {
    "duration": 16,
    "start_time": "2021-09-21T17:50:17.351Z"
   },
   {
    "duration": 172,
    "start_time": "2021-09-21T18:03:14.626Z"
   },
   {
    "duration": 5,
    "start_time": "2021-09-21T18:03:31.621Z"
   },
   {
    "duration": 14,
    "start_time": "2021-09-21T18:36:33.522Z"
   },
   {
    "duration": 57,
    "start_time": "2021-09-21T18:36:49.810Z"
   },
   {
    "duration": 16,
    "start_time": "2021-09-21T18:37:03.974Z"
   },
   {
    "duration": 40,
    "start_time": "2021-09-21T18:38:18.840Z"
   },
   {
    "duration": 18,
    "start_time": "2021-09-21T18:39:09.536Z"
   },
   {
    "duration": 178,
    "start_time": "2021-09-21T18:44:58.310Z"
   },
   {
    "duration": 35,
    "start_time": "2021-09-21T18:45:06.567Z"
   },
   {
    "duration": 35,
    "start_time": "2021-09-21T18:46:46.557Z"
   },
   {
    "duration": 33,
    "start_time": "2021-09-21T18:47:03.683Z"
   },
   {
    "duration": 27,
    "start_time": "2021-09-21T18:48:24.932Z"
   },
   {
    "duration": 31,
    "start_time": "2021-09-21T18:48:35.947Z"
   },
   {
    "duration": 30,
    "start_time": "2021-09-21T18:49:03.472Z"
   },
   {
    "duration": 15,
    "start_time": "2021-09-21T18:49:20.936Z"
   },
   {
    "duration": 30,
    "start_time": "2021-09-21T18:50:03.677Z"
   },
   {
    "duration": 16,
    "start_time": "2021-09-21T18:50:06.741Z"
   },
   {
    "duration": 16,
    "start_time": "2021-09-21T18:50:22.201Z"
   },
   {
    "duration": 9,
    "start_time": "2021-09-21T18:50:40.042Z"
   },
   {
    "duration": 30,
    "start_time": "2021-09-21T18:51:04.659Z"
   },
   {
    "duration": 8,
    "start_time": "2021-09-21T18:51:08.325Z"
   },
   {
    "duration": 66,
    "start_time": "2021-09-21T18:51:15.343Z"
   },
   {
    "duration": 15,
    "start_time": "2021-09-21T18:51:19.932Z"
   },
   {
    "duration": 32,
    "start_time": "2021-09-21T18:51:25.691Z"
   },
   {
    "duration": 30,
    "start_time": "2021-09-21T18:51:52.279Z"
   },
   {
    "duration": 10,
    "start_time": "2021-09-21T18:51:59.493Z"
   },
   {
    "duration": 17,
    "start_time": "2021-09-21T18:53:45.952Z"
   },
   {
    "duration": 32,
    "start_time": "2021-09-21T18:54:17.115Z"
   },
   {
    "duration": 18,
    "start_time": "2021-09-21T18:55:45.969Z"
   },
   {
    "duration": 63,
    "start_time": "2021-09-21T18:56:15.216Z"
   },
   {
    "duration": 16,
    "start_time": "2021-09-21T18:56:22.558Z"
   },
   {
    "duration": 19,
    "start_time": "2021-09-21T18:57:02.957Z"
   },
   {
    "duration": 28,
    "start_time": "2021-09-21T18:57:24.088Z"
   },
   {
    "duration": 5303,
    "start_time": "2021-09-21T19:09:10.941Z"
   },
   {
    "duration": 113,
    "start_time": "2021-09-21T19:09:19.776Z"
   },
   {
    "duration": 7,
    "start_time": "2021-09-21T19:09:50.645Z"
   },
   {
    "duration": 74,
    "start_time": "2021-09-21T19:10:08.571Z"
   },
   {
    "duration": 25,
    "start_time": "2021-09-21T19:10:08.647Z"
   },
   {
    "duration": 82,
    "start_time": "2021-09-21T19:10:08.674Z"
   },
   {
    "duration": 23,
    "start_time": "2021-09-21T19:10:08.758Z"
   },
   {
    "duration": 29,
    "start_time": "2021-09-21T19:10:08.783Z"
   },
   {
    "duration": 31,
    "start_time": "2021-09-21T19:10:08.814Z"
   },
   {
    "duration": 25,
    "start_time": "2021-09-21T19:10:08.846Z"
   },
   {
    "duration": 31,
    "start_time": "2021-09-21T19:10:08.873Z"
   },
   {
    "duration": 8,
    "start_time": "2021-09-21T19:14:40.130Z"
   },
   {
    "duration": 69,
    "start_time": "2021-09-21T19:17:32.698Z"
   },
   {
    "duration": 31,
    "start_time": "2021-09-21T19:17:32.768Z"
   },
   {
    "duration": 69,
    "start_time": "2021-09-21T19:17:32.801Z"
   },
   {
    "duration": 39,
    "start_time": "2021-09-21T19:17:32.871Z"
   },
   {
    "duration": 16,
    "start_time": "2021-09-21T19:17:32.911Z"
   },
   {
    "duration": 28,
    "start_time": "2021-09-21T19:17:32.929Z"
   },
   {
    "duration": 42,
    "start_time": "2021-09-21T19:17:32.959Z"
   },
   {
    "duration": 71,
    "start_time": "2021-09-21T19:18:04.150Z"
   },
   {
    "duration": 26,
    "start_time": "2021-09-21T19:18:04.223Z"
   },
   {
    "duration": 81,
    "start_time": "2021-09-21T19:18:04.251Z"
   },
   {
    "duration": 25,
    "start_time": "2021-09-21T19:18:04.334Z"
   },
   {
    "duration": 16,
    "start_time": "2021-09-21T19:18:04.360Z"
   },
   {
    "duration": 47,
    "start_time": "2021-09-21T19:18:04.377Z"
   },
   {
    "duration": 23,
    "start_time": "2021-09-21T19:18:04.425Z"
   },
   {
    "duration": 7,
    "start_time": "2021-09-21T19:18:04.450Z"
   },
   {
    "duration": 792,
    "start_time": "2021-09-21T19:19:20.230Z"
   },
   {
    "duration": 195,
    "start_time": "2021-09-21T19:19:48.579Z"
   },
   {
    "duration": 8,
    "start_time": "2021-09-21T19:20:07.908Z"
   },
   {
    "duration": 195,
    "start_time": "2021-09-21T19:20:24.454Z"
   },
   {
    "duration": 69,
    "start_time": "2021-09-21T19:20:40.152Z"
   },
   {
    "duration": 27,
    "start_time": "2021-09-21T19:20:40.223Z"
   },
   {
    "duration": 90,
    "start_time": "2021-09-21T19:20:40.252Z"
   },
   {
    "duration": 23,
    "start_time": "2021-09-21T19:20:40.344Z"
   },
   {
    "duration": 36,
    "start_time": "2021-09-21T19:20:40.368Z"
   },
   {
    "duration": 30,
    "start_time": "2021-09-21T19:20:40.406Z"
   },
   {
    "duration": 23,
    "start_time": "2021-09-21T19:20:40.438Z"
   },
   {
    "duration": 185,
    "start_time": "2021-09-21T19:20:40.463Z"
   },
   {
    "duration": 13,
    "start_time": "2021-09-21T19:21:28.066Z"
   },
   {
    "duration": 8,
    "start_time": "2021-09-21T19:25:14.453Z"
   },
   {
    "duration": 9,
    "start_time": "2021-09-21T19:25:39.328Z"
   },
   {
    "duration": 9,
    "start_time": "2021-09-21T19:26:04.112Z"
   },
   {
    "duration": 9,
    "start_time": "2021-09-21T19:26:19.111Z"
   },
   {
    "duration": 451,
    "start_time": "2021-09-21T19:27:18.033Z"
   },
   {
    "duration": 9,
    "start_time": "2021-09-21T19:27:37.098Z"
   },
   {
    "duration": 8,
    "start_time": "2021-09-21T19:27:44.340Z"
   },
   {
    "duration": 8,
    "start_time": "2021-09-21T19:27:48.854Z"
   },
   {
    "duration": 9,
    "start_time": "2021-09-21T19:28:24.922Z"
   },
   {
    "duration": 197,
    "start_time": "2021-09-21T19:28:56.866Z"
   },
   {
    "duration": 8,
    "start_time": "2021-09-21T19:29:46.529Z"
   },
   {
    "duration": 201,
    "start_time": "2021-09-21T19:30:26.510Z"
   },
   {
    "duration": 189,
    "start_time": "2021-09-21T19:31:26.031Z"
   },
   {
    "duration": 10,
    "start_time": "2021-09-21T19:31:51.671Z"
   },
   {
    "duration": 8,
    "start_time": "2021-09-21T19:32:33.917Z"
   },
   {
    "duration": 229,
    "start_time": "2021-09-21T19:33:32.130Z"
   },
   {
    "duration": 187,
    "start_time": "2021-09-21T19:33:45.361Z"
   },
   {
    "duration": 192,
    "start_time": "2021-09-21T19:33:50.827Z"
   },
   {
    "duration": 537,
    "start_time": "2021-09-21T19:34:13.712Z"
   },
   {
    "duration": 188,
    "start_time": "2021-09-21T19:34:51.338Z"
   },
   {
    "duration": 12,
    "start_time": "2021-09-21T19:35:08.546Z"
   },
   {
    "duration": 13,
    "start_time": "2021-09-21T19:35:49.734Z"
   },
   {
    "duration": 8,
    "start_time": "2021-09-21T19:37:47.300Z"
   },
   {
    "duration": 5,
    "start_time": "2021-09-21T19:38:52.630Z"
   },
   {
    "duration": 10,
    "start_time": "2021-09-21T19:39:00.095Z"
   },
   {
    "duration": 11,
    "start_time": "2021-09-21T19:39:05.583Z"
   },
   {
    "duration": 15,
    "start_time": "2021-09-21T19:39:42.486Z"
   },
   {
    "duration": 8,
    "start_time": "2021-09-21T19:39:59.897Z"
   },
   {
    "duration": 5,
    "start_time": "2021-09-21T19:45:10.460Z"
   },
   {
    "duration": 37,
    "start_time": "2021-09-21T19:45:15.325Z"
   },
   {
    "duration": 4,
    "start_time": "2021-09-21T19:45:57.423Z"
   },
   {
    "duration": 183,
    "start_time": "2021-09-21T19:55:18.057Z"
   },
   {
    "duration": 2028,
    "start_time": "2021-09-21T20:00:04.098Z"
   },
   {
    "duration": 1272,
    "start_time": "2021-09-21T20:00:17.238Z"
   },
   {
    "duration": 66,
    "start_time": "2021-09-21T20:01:03.983Z"
   },
   {
    "duration": 59,
    "start_time": "2021-09-21T20:02:47.846Z"
   },
   {
    "duration": 77,
    "start_time": "2021-09-21T20:03:01.790Z"
   },
   {
    "duration": 32,
    "start_time": "2021-09-21T20:03:01.869Z"
   },
   {
    "duration": 67,
    "start_time": "2021-09-21T20:03:01.903Z"
   },
   {
    "duration": 43,
    "start_time": "2021-09-21T20:03:01.972Z"
   },
   {
    "duration": 19,
    "start_time": "2021-09-21T20:03:02.018Z"
   },
   {
    "duration": 31,
    "start_time": "2021-09-21T20:03:02.039Z"
   },
   {
    "duration": 51,
    "start_time": "2021-09-21T20:03:02.072Z"
   },
   {
    "duration": 10,
    "start_time": "2021-09-21T20:03:02.125Z"
   },
   {
    "duration": 5,
    "start_time": "2021-09-21T20:03:02.137Z"
   },
   {
    "duration": 69,
    "start_time": "2021-09-21T20:03:02.143Z"
   },
   {
    "duration": 13,
    "start_time": "2021-09-21T20:03:40.898Z"
   },
   {
    "duration": 30,
    "start_time": "2021-09-21T20:03:51.796Z"
   },
   {
    "duration": 12,
    "start_time": "2021-09-21T20:05:07.067Z"
   },
   {
    "duration": 4651,
    "start_time": "2021-09-21T20:09:31.880Z"
   },
   {
    "duration": 23,
    "start_time": "2021-09-21T20:10:05.268Z"
   },
   {
    "duration": 32,
    "start_time": "2021-09-21T20:10:18.817Z"
   },
   {
    "duration": 299,
    "start_time": "2021-09-22T16:52:33.302Z"
   },
   {
    "duration": 718,
    "start_time": "2021-09-22T16:52:39.162Z"
   },
   {
    "duration": 34,
    "start_time": "2021-09-22T16:52:39.882Z"
   },
   {
    "duration": 80,
    "start_time": "2021-09-22T16:52:39.918Z"
   },
   {
    "duration": 25,
    "start_time": "2021-09-22T16:52:40.000Z"
   },
   {
    "duration": 19,
    "start_time": "2021-09-22T16:52:40.027Z"
   },
   {
    "duration": 54,
    "start_time": "2021-09-22T16:52:40.048Z"
   },
   {
    "duration": 28,
    "start_time": "2021-09-22T16:52:40.104Z"
   },
   {
    "duration": 13,
    "start_time": "2021-09-22T16:52:40.134Z"
   },
   {
    "duration": 28,
    "start_time": "2021-09-22T16:52:40.149Z"
   },
   {
    "duration": 41,
    "start_time": "2021-09-22T16:52:40.179Z"
   },
   {
    "duration": 384,
    "start_time": "2021-09-22T17:02:08.809Z"
   },
   {
    "duration": 1256,
    "start_time": "2021-09-22T17:02:38.946Z"
   },
   {
    "duration": 1589,
    "start_time": "2021-09-22T17:15:37.367Z"
   },
   {
    "duration": 1373,
    "start_time": "2021-09-22T17:23:18.388Z"
   },
   {
    "duration": 1288,
    "start_time": "2021-09-22T17:24:58.703Z"
   },
   {
    "duration": 20,
    "start_time": "2021-09-22T17:25:52.963Z"
   },
   {
    "duration": 78,
    "start_time": "2021-09-22T17:26:17.962Z"
   },
   {
    "duration": 41,
    "start_time": "2021-09-22T17:26:18.042Z"
   },
   {
    "duration": 70,
    "start_time": "2021-09-22T17:26:18.085Z"
   },
   {
    "duration": 40,
    "start_time": "2021-09-22T17:26:18.157Z"
   },
   {
    "duration": 18,
    "start_time": "2021-09-22T17:26:18.198Z"
   },
   {
    "duration": 34,
    "start_time": "2021-09-22T17:26:18.217Z"
   },
   {
    "duration": 46,
    "start_time": "2021-09-22T17:26:18.252Z"
   },
   {
    "duration": 12,
    "start_time": "2021-09-22T17:26:18.301Z"
   },
   {
    "duration": 14,
    "start_time": "2021-09-22T17:26:18.316Z"
   },
   {
    "duration": 45,
    "start_time": "2021-09-22T17:26:18.332Z"
   },
   {
    "duration": 1302,
    "start_time": "2021-09-22T17:26:18.380Z"
   },
   {
    "duration": 1300,
    "start_time": "2021-09-22T17:27:55.096Z"
   },
   {
    "duration": 79,
    "start_time": "2021-09-22T17:31:19.289Z"
   },
   {
    "duration": 27,
    "start_time": "2021-09-22T17:31:19.370Z"
   },
   {
    "duration": 78,
    "start_time": "2021-09-22T17:31:19.399Z"
   },
   {
    "duration": 24,
    "start_time": "2021-09-22T17:31:19.479Z"
   },
   {
    "duration": 24,
    "start_time": "2021-09-22T17:31:19.504Z"
   },
   {
    "duration": 46,
    "start_time": "2021-09-22T17:31:19.530Z"
   },
   {
    "duration": 28,
    "start_time": "2021-09-22T17:31:19.578Z"
   },
   {
    "duration": 11,
    "start_time": "2021-09-22T17:31:19.608Z"
   },
   {
    "duration": 20,
    "start_time": "2021-09-22T17:31:19.620Z"
   },
   {
    "duration": 52,
    "start_time": "2021-09-22T17:31:19.642Z"
   },
   {
    "duration": 1426,
    "start_time": "2021-09-22T17:31:19.696Z"
   },
   {
    "duration": 1299,
    "start_time": "2021-09-22T17:32:59.747Z"
   },
   {
    "duration": 26,
    "start_time": "2021-09-22T17:43:41.439Z"
   },
   {
    "duration": 26,
    "start_time": "2021-09-22T17:45:54.776Z"
   },
   {
    "duration": 496,
    "start_time": "2021-09-22T17:48:10.268Z"
   },
   {
    "duration": -3214,
    "start_time": "2021-09-22T17:49:11.867Z"
   },
   {
    "duration": 4083,
    "start_time": "2021-09-22T17:49:33.422Z"
   },
   {
    "duration": 4077,
    "start_time": "2021-09-22T17:50:01.801Z"
   },
   {
    "duration": 4321,
    "start_time": "2021-09-22T17:50:11.196Z"
   },
   {
    "duration": 485,
    "start_time": "2021-09-22T17:50:22.685Z"
   },
   {
    "duration": 105,
    "start_time": "2021-09-22T19:16:55.239Z"
   },
   {
    "duration": 44,
    "start_time": "2021-09-22T19:16:55.347Z"
   },
   {
    "duration": 116,
    "start_time": "2021-09-22T19:16:55.394Z"
   },
   {
    "duration": 37,
    "start_time": "2021-09-22T19:16:55.513Z"
   },
   {
    "duration": 38,
    "start_time": "2021-09-22T19:16:55.552Z"
   },
   {
    "duration": 56,
    "start_time": "2021-09-22T19:16:55.593Z"
   },
   {
    "duration": 52,
    "start_time": "2021-09-22T19:16:55.650Z"
   },
   {
    "duration": 14,
    "start_time": "2021-09-22T19:16:55.704Z"
   },
   {
    "duration": 4,
    "start_time": "2021-09-22T19:16:55.720Z"
   },
   {
    "duration": 76,
    "start_time": "2021-09-22T19:16:55.726Z"
   },
   {
    "duration": 878,
    "start_time": "2021-09-22T19:16:55.804Z"
   },
   {
    "duration": 38,
    "start_time": "2021-09-22T19:16:56.684Z"
   },
   {
    "duration": 104,
    "start_time": "2021-09-22T19:22:56.864Z"
   },
   {
    "duration": 406,
    "start_time": "2021-09-22T19:23:10.595Z"
   },
   {
    "duration": 168,
    "start_time": "2021-09-22T19:23:20.405Z"
   },
   {
    "duration": 1842,
    "start_time": "2021-09-22T19:23:47.969Z"
   },
   {
    "duration": 1093,
    "start_time": "2021-09-22T19:24:19.728Z"
   },
   {
    "duration": 1124,
    "start_time": "2021-09-22T19:29:42.343Z"
   },
   {
    "duration": 279,
    "start_time": "2021-09-22T19:30:29.752Z"
   },
   {
    "duration": 325,
    "start_time": "2021-09-22T19:33:42.135Z"
   },
   {
    "duration": 1138,
    "start_time": "2021-09-22T19:33:49.888Z"
   },
   {
    "duration": 357,
    "start_time": "2021-09-22T19:34:00.306Z"
   },
   {
    "duration": 18187,
    "start_time": "2021-09-22T19:34:16.899Z"
   },
   {
    "duration": 1136,
    "start_time": "2021-09-22T19:34:47.127Z"
   },
   {
    "duration": 184,
    "start_time": "2021-09-22T19:36:41.896Z"
   },
   {
    "duration": 334,
    "start_time": "2021-09-22T19:36:53.576Z"
   },
   {
    "duration": 729,
    "start_time": "2021-09-22T19:37:43.102Z"
   },
   {
    "duration": 321,
    "start_time": "2021-09-22T19:38:22.262Z"
   },
   {
    "duration": 347,
    "start_time": "2021-09-22T19:38:37.537Z"
   },
   {
    "duration": 325,
    "start_time": "2021-09-22T19:39:16.751Z"
   },
   {
    "duration": 457,
    "start_time": "2021-09-22T19:43:17.692Z"
   },
   {
    "duration": 247,
    "start_time": "2021-09-22T19:46:12.915Z"
   },
   {
    "duration": 363,
    "start_time": "2021-09-22T19:46:48.516Z"
   },
   {
    "duration": 249,
    "start_time": "2021-09-22T19:47:23.671Z"
   },
   {
    "duration": 250,
    "start_time": "2021-09-22T19:47:39.751Z"
   },
   {
    "duration": 332,
    "start_time": "2021-09-22T19:47:53.778Z"
   },
   {
    "duration": 322,
    "start_time": "2021-09-22T19:52:18.476Z"
   },
   {
    "duration": 466,
    "start_time": "2021-09-22T19:52:32.399Z"
   },
   {
    "duration": 248,
    "start_time": "2021-09-22T19:53:01.191Z"
   },
   {
    "duration": 246,
    "start_time": "2021-09-22T19:53:11.279Z"
   },
   {
    "duration": 260,
    "start_time": "2021-09-22T19:53:27.286Z"
   },
   {
    "duration": 347,
    "start_time": "2021-09-22T19:53:36.837Z"
   },
   {
    "duration": 255,
    "start_time": "2021-09-22T19:53:44.297Z"
   },
   {
    "duration": 282,
    "start_time": "2021-09-22T19:59:57.983Z"
   },
   {
    "duration": 189,
    "start_time": "2021-09-22T20:00:15.387Z"
   },
   {
    "duration": 180,
    "start_time": "2021-09-22T20:01:05.098Z"
   },
   {
    "duration": 331,
    "start_time": "2021-09-22T20:01:15.027Z"
   },
   {
    "duration": 205,
    "start_time": "2021-09-22T20:03:14.896Z"
   },
   {
    "duration": 208,
    "start_time": "2021-09-22T20:03:26.573Z"
   },
   {
    "duration": 208,
    "start_time": "2021-09-22T20:03:36.919Z"
   },
   {
    "duration": 215,
    "start_time": "2021-09-22T20:04:31.149Z"
   },
   {
    "duration": 201,
    "start_time": "2021-09-22T20:07:23.523Z"
   },
   {
    "duration": 712,
    "start_time": "2021-09-22T20:07:46.595Z"
   },
   {
    "duration": 452,
    "start_time": "2021-09-22T20:08:17.588Z"
   },
   {
    "duration": 209,
    "start_time": "2021-09-22T20:09:40.525Z"
   },
   {
    "duration": 228,
    "start_time": "2021-09-22T20:10:04.761Z"
   },
   {
    "duration": 183,
    "start_time": "2021-09-22T20:11:37.987Z"
   },
   {
    "duration": 167,
    "start_time": "2021-09-22T20:11:53.476Z"
   },
   {
    "duration": 6,
    "start_time": "2021-09-22T20:13:31.701Z"
   },
   {
    "duration": 175,
    "start_time": "2021-09-22T20:16:01.058Z"
   },
   {
    "duration": 182,
    "start_time": "2021-09-22T20:16:14.990Z"
   },
   {
    "duration": 177,
    "start_time": "2021-09-22T20:20:40.094Z"
   },
   {
    "duration": 12,
    "start_time": "2021-09-22T20:21:22.548Z"
   },
   {
    "duration": 31,
    "start_time": "2021-09-22T20:22:12.271Z"
   },
   {
    "duration": 46,
    "start_time": "2021-09-22T20:22:22.410Z"
   },
   {
    "duration": 9,
    "start_time": "2021-09-22T20:22:41.244Z"
   },
   {
    "duration": 9,
    "start_time": "2021-09-22T20:23:23.968Z"
   },
   {
    "duration": 9,
    "start_time": "2021-09-22T20:23:46.847Z"
   },
   {
    "duration": 200,
    "start_time": "2021-09-22T20:40:37.981Z"
   },
   {
    "duration": 22,
    "start_time": "2021-09-22T20:42:44.820Z"
   },
   {
    "duration": 6,
    "start_time": "2021-09-22T20:56:34.703Z"
   },
   {
    "duration": 79,
    "start_time": "2021-09-22T21:14:34.607Z"
   },
   {
    "duration": 26,
    "start_time": "2021-09-22T21:14:34.688Z"
   },
   {
    "duration": 83,
    "start_time": "2021-09-22T21:14:34.716Z"
   },
   {
    "duration": 24,
    "start_time": "2021-09-22T21:14:34.801Z"
   },
   {
    "duration": 17,
    "start_time": "2021-09-22T21:14:34.826Z"
   },
   {
    "duration": 56,
    "start_time": "2021-09-22T21:14:34.845Z"
   },
   {
    "duration": 24,
    "start_time": "2021-09-22T21:14:34.903Z"
   },
   {
    "duration": 10,
    "start_time": "2021-09-22T21:14:34.929Z"
   },
   {
    "duration": 4,
    "start_time": "2021-09-22T21:14:34.941Z"
   },
   {
    "duration": 55,
    "start_time": "2021-09-22T21:14:34.946Z"
   },
   {
    "duration": 496,
    "start_time": "2021-09-22T21:14:35.003Z"
   },
   {
    "duration": 24,
    "start_time": "2021-09-22T21:14:35.501Z"
   },
   {
    "duration": 256,
    "start_time": "2021-09-22T21:14:35.527Z"
   },
   {
    "duration": 268,
    "start_time": "2021-09-22T21:14:35.785Z"
   },
   {
    "duration": 221,
    "start_time": "2021-09-22T21:14:36.055Z"
   },
   {
    "duration": 190,
    "start_time": "2021-09-22T21:14:36.278Z"
   },
   {
    "duration": 16,
    "start_time": "2021-09-22T21:14:36.469Z"
   },
   {
    "duration": 216,
    "start_time": "2021-09-22T21:14:36.487Z"
   },
   {
    "duration": 7,
    "start_time": "2021-09-22T21:14:36.705Z"
   },
   {
    "duration": 314,
    "start_time": "2021-09-23T10:36:41.830Z"
   },
   {
    "duration": 321,
    "start_time": "2021-09-23T10:36:58.820Z"
   },
   {
    "duration": 236,
    "start_time": "2021-09-23T10:37:34.627Z"
   },
   {
    "duration": 234,
    "start_time": "2021-09-23T10:38:06.958Z"
   },
   {
    "duration": 300,
    "start_time": "2021-09-23T10:38:30.432Z"
   },
   {
    "duration": 304,
    "start_time": "2021-09-23T10:38:36.371Z"
   },
   {
    "duration": 381,
    "start_time": "2021-09-23T10:38:45.548Z"
   },
   {
    "duration": 1065,
    "start_time": "2021-09-23T10:54:44.847Z"
   },
   {
    "duration": 61,
    "start_time": "2021-09-23T10:54:54.813Z"
   },
   {
    "duration": 204,
    "start_time": "2021-09-23T10:55:14.168Z"
   },
   {
    "duration": 373,
    "start_time": "2021-09-23T10:55:49.729Z"
   },
   {
    "duration": 47,
    "start_time": "2021-09-23T10:56:59.891Z"
   },
   {
    "duration": 12,
    "start_time": "2021-09-23T10:57:15.235Z"
   },
   {
    "duration": 49,
    "start_time": "2021-09-23T10:58:30.815Z"
   },
   {
    "duration": 42,
    "start_time": "2021-09-23T11:28:08.459Z"
   },
   {
    "duration": 43,
    "start_time": "2021-09-23T11:29:19.769Z"
   },
   {
    "duration": 42,
    "start_time": "2021-09-23T11:30:49.236Z"
   },
   {
    "duration": 44,
    "start_time": "2021-09-23T11:35:07.951Z"
   },
   {
    "duration": 9,
    "start_time": "2021-09-23T11:36:10.774Z"
   },
   {
    "duration": 10,
    "start_time": "2021-09-23T11:36:31.268Z"
   },
   {
    "duration": 8,
    "start_time": "2021-09-23T11:39:32.528Z"
   },
   {
    "duration": 8,
    "start_time": "2021-09-23T11:39:44.375Z"
   },
   {
    "duration": 9,
    "start_time": "2021-09-23T11:39:50.024Z"
   },
   {
    "duration": 226,
    "start_time": "2021-09-23T11:39:56.735Z"
   },
   {
    "duration": 74,
    "start_time": "2021-09-23T11:40:07.451Z"
   },
   {
    "duration": 67,
    "start_time": "2021-09-23T11:40:15.202Z"
   },
   {
    "duration": 10,
    "start_time": "2021-09-23T11:40:27.750Z"
   },
   {
    "duration": 9,
    "start_time": "2021-09-23T11:40:46.792Z"
   },
   {
    "duration": 9,
    "start_time": "2021-09-23T11:40:54.650Z"
   },
   {
    "duration": 7,
    "start_time": "2021-09-23T11:41:08.107Z"
   },
   {
    "duration": 8,
    "start_time": "2021-09-23T11:41:25.870Z"
   },
   {
    "duration": 15,
    "start_time": "2021-09-23T11:42:06.409Z"
   },
   {
    "duration": 17,
    "start_time": "2021-09-23T11:42:14.798Z"
   },
   {
    "duration": 36,
    "start_time": "2021-09-23T11:42:20.940Z"
   },
   {
    "duration": 16,
    "start_time": "2021-09-23T11:42:42.031Z"
   },
   {
    "duration": 15,
    "start_time": "2021-09-23T11:42:49.360Z"
   },
   {
    "duration": 15,
    "start_time": "2021-09-23T11:42:54.679Z"
   },
   {
    "duration": 5,
    "start_time": "2021-09-23T11:53:18.834Z"
   },
   {
    "duration": 10,
    "start_time": "2021-09-23T11:55:43.816Z"
   },
   {
    "duration": 5,
    "start_time": "2021-09-23T11:56:44.837Z"
   },
   {
    "duration": 6,
    "start_time": "2021-09-23T11:59:07.118Z"
   },
   {
    "duration": 181,
    "start_time": "2021-09-23T11:59:23.222Z"
   },
   {
    "duration": 6,
    "start_time": "2021-09-23T11:59:34.503Z"
   },
   {
    "duration": 72,
    "start_time": "2021-09-23T12:01:29.671Z"
   },
   {
    "duration": 186,
    "start_time": "2021-09-23T12:01:56.471Z"
   },
   {
    "duration": 11,
    "start_time": "2021-09-23T12:04:07.968Z"
   },
   {
    "duration": 7,
    "start_time": "2021-09-23T12:04:21.912Z"
   },
   {
    "duration": 7,
    "start_time": "2021-09-23T12:05:08.898Z"
   },
   {
    "duration": 14,
    "start_time": "2021-09-23T12:06:01.589Z"
   },
   {
    "duration": 19,
    "start_time": "2021-09-23T12:08:54.042Z"
   },
   {
    "duration": 19,
    "start_time": "2021-09-23T12:09:40.293Z"
   },
   {
    "duration": 18,
    "start_time": "2021-09-23T12:10:03.849Z"
   },
   {
    "duration": 17,
    "start_time": "2021-09-23T12:10:11.040Z"
   },
   {
    "duration": 402,
    "start_time": "2021-09-23T14:33:16.507Z"
   },
   {
    "duration": 538,
    "start_time": "2021-09-23T14:34:20.740Z"
   },
   {
    "duration": 342,
    "start_time": "2021-09-23T14:34:30.978Z"
   },
   {
    "duration": 323,
    "start_time": "2021-09-23T14:35:22.251Z"
   },
   {
    "duration": 337,
    "start_time": "2021-09-23T14:36:24.952Z"
   },
   {
    "duration": 238,
    "start_time": "2021-09-23T14:37:09.685Z"
   },
   {
    "duration": 243,
    "start_time": "2021-09-23T14:37:55.168Z"
   },
   {
    "duration": 235,
    "start_time": "2021-09-23T14:38:28.667Z"
   },
   {
    "duration": 368,
    "start_time": "2021-09-23T14:42:17.233Z"
   },
   {
    "duration": 382,
    "start_time": "2021-09-23T14:42:53.847Z"
   },
   {
    "duration": 362,
    "start_time": "2021-09-23T14:42:59.815Z"
   },
   {
    "duration": 470,
    "start_time": "2021-09-23T14:43:05.288Z"
   },
   {
    "duration": 380,
    "start_time": "2021-09-23T14:44:37.967Z"
   },
   {
    "duration": 378,
    "start_time": "2021-09-23T14:48:33.129Z"
   },
   {
    "duration": 415,
    "start_time": "2021-09-23T14:48:55.195Z"
   },
   {
    "duration": 336,
    "start_time": "2021-09-23T14:49:08.913Z"
   },
   {
    "duration": 268,
    "start_time": "2021-09-23T14:49:14.093Z"
   },
   {
    "duration": 6,
    "start_time": "2021-09-23T16:34:39.450Z"
   },
   {
    "duration": 75,
    "start_time": "2021-09-23T16:41:28.808Z"
   },
   {
    "duration": 30,
    "start_time": "2021-09-23T16:41:28.885Z"
   },
   {
    "duration": 68,
    "start_time": "2021-09-23T16:41:28.917Z"
   },
   {
    "duration": 23,
    "start_time": "2021-09-23T16:41:28.999Z"
   },
   {
    "duration": 16,
    "start_time": "2021-09-23T16:41:29.024Z"
   },
   {
    "duration": 28,
    "start_time": "2021-09-23T16:41:29.042Z"
   },
   {
    "duration": 50,
    "start_time": "2021-09-23T16:41:29.072Z"
   },
   {
    "duration": 9,
    "start_time": "2021-09-23T16:41:29.125Z"
   },
   {
    "duration": 3,
    "start_time": "2021-09-23T16:41:29.136Z"
   },
   {
    "duration": 35,
    "start_time": "2021-09-23T16:41:29.141Z"
   },
   {
    "duration": 603,
    "start_time": "2021-09-23T16:41:29.200Z"
   },
   {
    "duration": 24,
    "start_time": "2021-09-23T16:41:29.804Z"
   },
   {
    "duration": 254,
    "start_time": "2021-09-23T16:41:29.829Z"
   },
   {
    "duration": 292,
    "start_time": "2021-09-23T16:41:30.084Z"
   },
   {
    "duration": 227,
    "start_time": "2021-09-23T16:41:30.378Z"
   },
   {
    "duration": 203,
    "start_time": "2021-09-23T16:41:30.607Z"
   },
   {
    "duration": 11,
    "start_time": "2021-09-23T16:41:30.811Z"
   },
   {
    "duration": 213,
    "start_time": "2021-09-23T16:41:30.823Z"
   },
   {
    "duration": 5,
    "start_time": "2021-09-23T16:41:31.037Z"
   },
   {
    "duration": 328,
    "start_time": "2021-09-23T16:41:31.044Z"
   },
   {
    "duration": 275,
    "start_time": "2021-09-23T16:41:31.374Z"
   },
   {
    "duration": 278,
    "start_time": "2021-09-23T16:41:31.650Z"
   },
   {
    "duration": 4,
    "start_time": "2021-09-23T16:41:31.931Z"
   },
   {
    "duration": 5,
    "start_time": "2021-09-23T16:44:34.637Z"
   },
   {
    "duration": 5,
    "start_time": "2021-09-23T16:45:37.694Z"
   },
   {
    "duration": 5,
    "start_time": "2021-09-23T16:45:40.161Z"
   },
   {
    "duration": 340,
    "start_time": "2021-09-23T16:48:54.499Z"
   },
   {
    "duration": 335,
    "start_time": "2021-09-23T16:51:32.943Z"
   },
   {
    "duration": 307,
    "start_time": "2021-09-23T16:52:14.493Z"
   },
   {
    "duration": 212,
    "start_time": "2021-09-23T16:53:16.086Z"
   },
   {
    "duration": 236,
    "start_time": "2021-09-23T16:53:38.369Z"
   },
   {
    "duration": 192,
    "start_time": "2021-09-23T16:54:11.952Z"
   },
   {
    "duration": 467,
    "start_time": "2021-09-23T16:55:02.860Z"
   },
   {
    "duration": 287,
    "start_time": "2021-09-23T16:57:12.099Z"
   },
   {
    "duration": 785,
    "start_time": "2021-09-23T16:58:21.307Z"
   },
   {
    "duration": 360,
    "start_time": "2021-09-23T16:59:09.125Z"
   },
   {
    "duration": 459,
    "start_time": "2021-09-23T16:59:37.594Z"
   },
   {
    "duration": 539,
    "start_time": "2021-09-23T17:00:14.067Z"
   },
   {
    "duration": 579,
    "start_time": "2021-09-23T17:00:21.520Z"
   },
   {
    "duration": 639,
    "start_time": "2021-09-23T17:00:31.565Z"
   },
   {
    "duration": 570,
    "start_time": "2021-09-23T17:01:10.497Z"
   },
   {
    "duration": 584,
    "start_time": "2021-09-23T17:01:19.403Z"
   },
   {
    "duration": 1017,
    "start_time": "2021-09-23T17:01:56.850Z"
   },
   {
    "duration": 514,
    "start_time": "2021-09-23T17:02:04.323Z"
   },
   {
    "duration": 489,
    "start_time": "2021-09-23T17:02:14.894Z"
   },
   {
    "duration": 494,
    "start_time": "2021-09-23T17:03:38.992Z"
   },
   {
    "duration": 524,
    "start_time": "2021-09-23T17:04:11.593Z"
   },
   {
    "duration": 258,
    "start_time": "2021-09-23T17:04:22.877Z"
   },
   {
    "duration": 522,
    "start_time": "2021-09-23T17:05:10.896Z"
   },
   {
    "duration": 37,
    "start_time": "2021-09-23T17:13:23.507Z"
   },
   {
    "duration": 200,
    "start_time": "2021-09-23T18:49:50.293Z"
   },
   {
    "duration": 41,
    "start_time": "2021-09-23T18:49:57.733Z"
   },
   {
    "duration": 431,
    "start_time": "2021-09-23T18:53:59.115Z"
   },
   {
    "duration": 532,
    "start_time": "2021-09-23T18:54:04.717Z"
   },
   {
    "duration": 510,
    "start_time": "2021-09-23T18:54:12.897Z"
   },
   {
    "duration": 531,
    "start_time": "2021-09-23T19:00:33.831Z"
   },
   {
    "duration": 614,
    "start_time": "2021-09-23T19:03:26.956Z"
   },
   {
    "duration": 745,
    "start_time": "2021-09-23T19:03:57.146Z"
   },
   {
    "duration": 223,
    "start_time": "2021-09-23T19:04:19.721Z"
   },
   {
    "duration": 608,
    "start_time": "2021-09-23T19:05:31.556Z"
   },
   {
    "duration": 213,
    "start_time": "2021-09-23T19:12:42.957Z"
   },
   {
    "duration": 21,
    "start_time": "2021-09-23T19:12:51.404Z"
   },
   {
    "duration": 22,
    "start_time": "2021-09-23T19:12:58.270Z"
   },
   {
    "duration": 21,
    "start_time": "2021-09-23T19:13:47.024Z"
   },
   {
    "duration": 26,
    "start_time": "2021-09-23T19:13:55.602Z"
   },
   {
    "duration": 31,
    "start_time": "2021-09-23T19:20:22.777Z"
   },
   {
    "duration": 569,
    "start_time": "2021-09-23T19:27:37.028Z"
   },
   {
    "duration": 558,
    "start_time": "2021-09-23T19:30:19.604Z"
   },
   {
    "duration": -3236,
    "start_time": "2021-09-23T19:31:16.806Z"
   },
   {
    "duration": 565,
    "start_time": "2021-09-23T19:31:55.821Z"
   },
   {
    "duration": 608,
    "start_time": "2021-09-23T19:32:35.837Z"
   },
   {
    "duration": 184,
    "start_time": "2021-09-23T19:51:58.899Z"
   },
   {
    "duration": 179,
    "start_time": "2021-09-23T19:52:06.573Z"
   },
   {
    "duration": 188,
    "start_time": "2021-09-23T19:52:32.482Z"
   },
   {
    "duration": 5,
    "start_time": "2021-09-23T19:53:37.256Z"
   },
   {
    "duration": 5,
    "start_time": "2021-09-23T19:54:01.715Z"
   },
   {
    "duration": 17,
    "start_time": "2021-09-23T19:55:18.386Z"
   },
   {
    "duration": 70,
    "start_time": "2021-09-23T19:55:29.354Z"
   },
   {
    "duration": 26,
    "start_time": "2021-09-23T19:55:29.426Z"
   },
   {
    "duration": 90,
    "start_time": "2021-09-23T19:55:29.454Z"
   },
   {
    "duration": 23,
    "start_time": "2021-09-23T19:55:29.546Z"
   },
   {
    "duration": 32,
    "start_time": "2021-09-23T19:55:29.570Z"
   },
   {
    "duration": 28,
    "start_time": "2021-09-23T19:55:29.603Z"
   },
   {
    "duration": 22,
    "start_time": "2021-09-23T19:55:29.633Z"
   },
   {
    "duration": 9,
    "start_time": "2021-09-23T19:55:29.658Z"
   },
   {
    "duration": 3,
    "start_time": "2021-09-23T19:55:29.669Z"
   },
   {
    "duration": 58,
    "start_time": "2021-09-23T19:55:29.674Z"
   },
   {
    "duration": 467,
    "start_time": "2021-09-23T19:55:29.734Z"
   },
   {
    "duration": 24,
    "start_time": "2021-09-23T19:55:30.203Z"
   },
   {
    "duration": 255,
    "start_time": "2021-09-23T19:55:30.229Z"
   },
   {
    "duration": 260,
    "start_time": "2021-09-23T19:55:30.485Z"
   },
   {
    "duration": 214,
    "start_time": "2021-09-23T19:55:30.747Z"
   },
   {
    "duration": 194,
    "start_time": "2021-09-23T19:55:30.963Z"
   },
   {
    "duration": 13,
    "start_time": "2021-09-23T19:55:31.159Z"
   },
   {
    "duration": 225,
    "start_time": "2021-09-23T19:55:31.174Z"
   },
   {
    "duration": 5,
    "start_time": "2021-09-23T19:55:31.401Z"
   },
   {
    "duration": 336,
    "start_time": "2021-09-23T19:55:31.407Z"
   },
   {
    "duration": 254,
    "start_time": "2021-09-23T19:55:31.745Z"
   },
   {
    "duration": 429,
    "start_time": "2021-09-23T19:55:32.001Z"
   },
   {
    "duration": 608,
    "start_time": "2021-09-23T19:55:32.433Z"
   },
   {
    "duration": 598,
    "start_time": "2021-09-23T19:55:33.043Z"
   },
   {
    "duration": 623,
    "start_time": "2021-09-23T19:55:33.642Z"
   },
   {
    "duration": 34,
    "start_time": "2021-09-23T19:55:34.267Z"
   },
   {
    "duration": 29,
    "start_time": "2021-09-23T19:55:34.302Z"
   },
   {
    "duration": 650,
    "start_time": "2021-09-23T19:55:34.333Z"
   },
   {
    "duration": 582,
    "start_time": "2021-09-23T19:55:34.985Z"
   },
   {
    "duration": 613,
    "start_time": "2021-09-23T19:55:35.569Z"
   },
   {
    "duration": 23,
    "start_time": "2021-09-23T19:55:36.184Z"
   },
   {
    "duration": 25,
    "start_time": "2021-09-23T19:55:54.468Z"
   },
   {
    "duration": 18,
    "start_time": "2021-09-23T19:56:31.069Z"
   },
   {
    "duration": 23,
    "start_time": "2021-09-23T19:56:43.790Z"
   },
   {
    "duration": 205,
    "start_time": "2021-09-23T19:58:34.740Z"
   },
   {
    "duration": 21,
    "start_time": "2021-09-23T20:01:33.011Z"
   },
   {
    "duration": 19,
    "start_time": "2021-09-23T20:03:36.291Z"
   },
   {
    "duration": 23,
    "start_time": "2021-09-23T20:03:45.961Z"
   },
   {
    "duration": 24,
    "start_time": "2021-09-23T20:04:08.130Z"
   },
   {
    "duration": 6,
    "start_time": "2021-09-23T20:22:52.896Z"
   },
   {
    "duration": 17,
    "start_time": "2021-09-23T20:23:05.109Z"
   },
   {
    "duration": 41,
    "start_time": "2021-09-23T20:23:15.769Z"
   },
   {
    "duration": 11,
    "start_time": "2021-09-23T20:24:07.871Z"
   },
   {
    "duration": 11,
    "start_time": "2021-09-23T20:30:07.965Z"
   },
   {
    "duration": 10,
    "start_time": "2021-09-23T20:30:51.152Z"
   },
   {
    "duration": 9,
    "start_time": "2021-09-23T20:32:11.652Z"
   },
   {
    "duration": 188,
    "start_time": "2021-09-23T20:35:15.816Z"
   },
   {
    "duration": 200,
    "start_time": "2021-09-23T20:35:25.079Z"
   },
   {
    "duration": 62,
    "start_time": "2021-09-23T20:35:43.813Z"
   },
   {
    "duration": 12,
    "start_time": "2021-09-23T20:36:51.970Z"
   },
   {
    "duration": 15,
    "start_time": "2021-09-23T20:37:12.795Z"
   },
   {
    "duration": 20,
    "start_time": "2021-09-23T20:37:26.380Z"
   },
   {
    "duration": 20,
    "start_time": "2021-09-23T20:38:49.837Z"
   },
   {
    "duration": 20,
    "start_time": "2021-09-23T20:39:14.232Z"
   },
   {
    "duration": 19,
    "start_time": "2021-09-23T20:40:48.808Z"
   },
   {
    "duration": 14,
    "start_time": "2021-09-23T20:41:08.953Z"
   },
   {
    "duration": 15,
    "start_time": "2021-09-23T20:41:27.953Z"
   },
   {
    "duration": 14,
    "start_time": "2021-09-23T20:41:48.820Z"
   },
   {
    "duration": 19,
    "start_time": "2021-09-23T20:44:50.561Z"
   },
   {
    "duration": 23,
    "start_time": "2021-09-23T20:45:01.229Z"
   },
   {
    "duration": 24,
    "start_time": "2021-09-23T20:47:16.851Z"
   },
   {
    "duration": 24,
    "start_time": "2021-09-23T20:47:55.945Z"
   },
   {
    "duration": 7315,
    "start_time": "2021-09-23T20:50:18.315Z"
   },
   {
    "duration": 4479,
    "start_time": "2021-09-23T20:51:10.404Z"
   },
   {
    "duration": 568,
    "start_time": "2021-09-23T20:51:28.067Z"
   },
   {
    "duration": 590,
    "start_time": "2021-09-23T20:52:24.996Z"
   },
   {
    "duration": 38,
    "start_time": "2021-09-23T21:07:21.790Z"
   },
   {
    "duration": 6,
    "start_time": "2021-09-23T21:08:10.648Z"
   },
   {
    "duration": 36,
    "start_time": "2021-09-23T21:08:17.195Z"
   },
   {
    "duration": 199,
    "start_time": "2021-09-23T21:18:54.394Z"
   },
   {
    "duration": 21,
    "start_time": "2021-09-23T21:19:09.942Z"
   },
   {
    "duration": 28,
    "start_time": "2021-09-23T21:19:22.014Z"
   },
   {
    "duration": 22,
    "start_time": "2021-09-23T21:21:45.145Z"
   },
   {
    "duration": 27,
    "start_time": "2021-09-23T21:23:50.177Z"
   },
   {
    "duration": 29,
    "start_time": "2021-09-23T21:24:17.402Z"
   },
   {
    "duration": 347,
    "start_time": "2021-09-24T13:53:08.206Z"
   },
   {
    "duration": 646,
    "start_time": "2021-09-24T13:53:22.713Z"
   },
   {
    "duration": 33,
    "start_time": "2021-09-24T13:53:23.361Z"
   },
   {
    "duration": 66,
    "start_time": "2021-09-24T13:53:23.397Z"
   },
   {
    "duration": 26,
    "start_time": "2021-09-24T13:53:23.476Z"
   },
   {
    "duration": 19,
    "start_time": "2021-09-24T13:53:23.504Z"
   },
   {
    "duration": 54,
    "start_time": "2021-09-24T13:53:23.525Z"
   },
   {
    "duration": 36,
    "start_time": "2021-09-24T13:53:23.581Z"
   },
   {
    "duration": 11,
    "start_time": "2021-09-24T13:53:23.620Z"
   },
   {
    "duration": 4,
    "start_time": "2021-09-24T13:53:23.633Z"
   },
   {
    "duration": 59,
    "start_time": "2021-09-24T13:53:23.639Z"
   },
   {
    "duration": 493,
    "start_time": "2021-09-24T13:53:23.699Z"
   },
   {
    "duration": 25,
    "start_time": "2021-09-24T13:53:24.194Z"
   },
   {
    "duration": 345,
    "start_time": "2021-09-24T13:53:24.221Z"
   },
   {
    "duration": 279,
    "start_time": "2021-09-24T13:53:24.568Z"
   },
   {
    "duration": 223,
    "start_time": "2021-09-24T13:53:24.849Z"
   },
   {
    "duration": 193,
    "start_time": "2021-09-24T13:53:25.077Z"
   },
   {
    "duration": 17,
    "start_time": "2021-09-24T13:53:25.276Z"
   },
   {
    "duration": 216,
    "start_time": "2021-09-24T13:53:25.295Z"
   },
   {
    "duration": 6,
    "start_time": "2021-09-24T13:53:25.513Z"
   },
   {
    "duration": 310,
    "start_time": "2021-09-24T13:53:25.521Z"
   },
   {
    "duration": 249,
    "start_time": "2021-09-24T13:53:25.833Z"
   },
   {
    "duration": 264,
    "start_time": "2021-09-24T13:53:26.083Z"
   },
   {
    "duration": 679,
    "start_time": "2021-09-24T13:53:26.350Z"
   },
   {
    "duration": 573,
    "start_time": "2021-09-24T13:53:27.031Z"
   },
   {
    "duration": 624,
    "start_time": "2021-09-24T13:53:27.606Z"
   },
   {
    "duration": 28,
    "start_time": "2021-09-24T13:53:28.232Z"
   },
   {
    "duration": 44,
    "start_time": "2021-09-24T13:53:28.262Z"
   },
   {
    "duration": 617,
    "start_time": "2021-09-24T13:53:28.308Z"
   },
   {
    "duration": 600,
    "start_time": "2021-09-24T13:53:28.927Z"
   },
   {
    "duration": 623,
    "start_time": "2021-09-24T13:53:29.529Z"
   },
   {
    "duration": 34,
    "start_time": "2021-09-24T13:53:30.154Z"
   },
   {
    "duration": 767,
    "start_time": "2021-09-24T13:53:30.189Z"
   },
   {
    "duration": 596,
    "start_time": "2021-09-24T13:53:30.957Z"
   },
   {
    "duration": 203,
    "start_time": "2021-09-24T13:53:31.555Z"
   },
   {
    "duration": 680,
    "start_time": "2021-09-24T13:54:41.753Z"
   },
   {
    "duration": 23,
    "start_time": "2021-09-24T13:58:13.709Z"
   },
   {
    "duration": 76,
    "start_time": "2021-09-24T14:01:58.026Z"
   },
   {
    "duration": 27,
    "start_time": "2021-09-24T14:01:58.104Z"
   },
   {
    "duration": 98,
    "start_time": "2021-09-24T14:01:58.133Z"
   },
   {
    "duration": 25,
    "start_time": "2021-09-24T14:01:58.233Z"
   },
   {
    "duration": 32,
    "start_time": "2021-09-24T14:01:58.260Z"
   },
   {
    "duration": 31,
    "start_time": "2021-09-24T14:01:58.294Z"
   },
   {
    "duration": 24,
    "start_time": "2021-09-24T14:01:58.327Z"
   },
   {
    "duration": 30,
    "start_time": "2021-09-24T14:01:58.354Z"
   },
   {
    "duration": 3,
    "start_time": "2021-09-24T14:01:58.387Z"
   },
   {
    "duration": 42,
    "start_time": "2021-09-24T14:01:58.392Z"
   },
   {
    "duration": 494,
    "start_time": "2021-09-24T14:01:58.436Z"
   },
   {
    "duration": 28,
    "start_time": "2021-09-24T14:01:58.932Z"
   },
   {
    "duration": 258,
    "start_time": "2021-09-24T14:01:58.961Z"
   },
   {
    "duration": 285,
    "start_time": "2021-09-24T14:01:59.221Z"
   },
   {
    "duration": 218,
    "start_time": "2021-09-24T14:01:59.508Z"
   },
   {
    "duration": 200,
    "start_time": "2021-09-24T14:01:59.728Z"
   },
   {
    "duration": 12,
    "start_time": "2021-09-24T14:01:59.930Z"
   },
   {
    "duration": 213,
    "start_time": "2021-09-24T14:01:59.944Z"
   },
   {
    "duration": 6,
    "start_time": "2021-09-24T14:02:00.158Z"
   },
   {
    "duration": 374,
    "start_time": "2021-09-24T14:02:00.177Z"
   },
   {
    "duration": 256,
    "start_time": "2021-09-24T14:02:00.553Z"
   },
   {
    "duration": 268,
    "start_time": "2021-09-24T14:02:00.810Z"
   },
   {
    "duration": 614,
    "start_time": "2021-09-24T14:02:01.081Z"
   },
   {
    "duration": 594,
    "start_time": "2021-09-24T14:02:01.697Z"
   },
   {
    "duration": 606,
    "start_time": "2021-09-24T14:02:02.293Z"
   },
   {
    "duration": 29,
    "start_time": "2021-09-24T14:02:02.901Z"
   },
   {
    "duration": 45,
    "start_time": "2021-09-24T14:02:02.932Z"
   },
   {
    "duration": 576,
    "start_time": "2021-09-24T14:02:02.979Z"
   },
   {
    "duration": 615,
    "start_time": "2021-09-24T14:02:03.557Z"
   },
   {
    "duration": 619,
    "start_time": "2021-09-24T14:02:04.176Z"
   },
   {
    "duration": 38,
    "start_time": "2021-09-24T14:02:04.798Z"
   },
   {
    "duration": 626,
    "start_time": "2021-09-24T14:02:04.838Z"
   },
   {
    "duration": 732,
    "start_time": "2021-09-24T14:02:05.466Z"
   },
   {
    "duration": 44,
    "start_time": "2021-09-24T14:02:47.063Z"
   },
   {
    "duration": 14,
    "start_time": "2021-09-24T14:08:32.847Z"
   },
   {
    "duration": 38,
    "start_time": "2021-09-24T14:09:36.021Z"
   },
   {
    "duration": 9,
    "start_time": "2021-09-24T14:09:57.390Z"
   },
   {
    "duration": 8,
    "start_time": "2021-09-24T14:10:49.636Z"
   },
   {
    "duration": 8,
    "start_time": "2021-09-24T14:11:47.884Z"
   },
   {
    "duration": 391,
    "start_time": "2021-09-24T14:16:58.224Z"
   },
   {
    "duration": 438,
    "start_time": "2021-09-24T14:18:11.638Z"
   },
   {
    "duration": 26,
    "start_time": "2021-09-24T14:18:44.186Z"
   },
   {
    "duration": 439,
    "start_time": "2021-09-24T14:19:00.431Z"
   },
   {
    "duration": 493,
    "start_time": "2021-09-24T14:19:07.903Z"
   },
   {
    "duration": 23,
    "start_time": "2021-09-24T14:19:47.621Z"
   },
   {
    "duration": 26,
    "start_time": "2021-09-24T14:20:20.543Z"
   },
   {
    "duration": 506,
    "start_time": "2021-09-24T14:20:37.742Z"
   },
   {
    "duration": 443,
    "start_time": "2021-09-24T14:25:09.994Z"
   },
   {
    "duration": 33,
    "start_time": "2021-09-24T14:25:47.762Z"
   },
   {
    "duration": 1053,
    "start_time": "2021-09-24T14:26:58.876Z"
   },
   {
    "duration": 332,
    "start_time": "2021-09-24T14:27:33.185Z"
   },
   {
    "duration": 460,
    "start_time": "2021-09-24T14:27:48.862Z"
   },
   {
    "duration": 303,
    "start_time": "2021-09-24T14:28:03.213Z"
   },
   {
    "duration": 315,
    "start_time": "2021-09-24T14:37:16.097Z"
   },
   {
    "duration": 26,
    "start_time": "2021-09-24T14:40:29.982Z"
   },
   {
    "duration": 258,
    "start_time": "2021-09-24T14:41:33.525Z"
   },
   {
    "duration": 283,
    "start_time": "2021-09-24T14:41:39.678Z"
   },
   {
    "duration": 275,
    "start_time": "2021-09-24T14:42:19.217Z"
   },
   {
    "duration": 552,
    "start_time": "2021-09-24T14:46:38.264Z"
   },
   {
    "duration": 619,
    "start_time": "2021-09-24T14:46:38.818Z"
   },
   {
    "duration": 26,
    "start_time": "2021-09-24T14:46:39.439Z"
   },
   {
    "duration": 30,
    "start_time": "2021-09-24T14:46:39.476Z"
   },
   {
    "duration": 618,
    "start_time": "2021-09-24T14:46:39.508Z"
   },
   {
    "duration": 622,
    "start_time": "2021-09-24T14:46:40.128Z"
   },
   {
    "duration": 614,
    "start_time": "2021-09-24T14:46:40.751Z"
   },
   {
    "duration": 28,
    "start_time": "2021-09-24T14:46:41.368Z"
   },
   {
    "duration": 603,
    "start_time": "2021-09-24T14:46:41.398Z"
   },
   {
    "duration": 620,
    "start_time": "2021-09-24T14:46:42.003Z"
   },
   {
    "duration": 16,
    "start_time": "2021-09-24T14:46:42.625Z"
   },
   {
    "duration": 9,
    "start_time": "2021-09-24T14:46:42.643Z"
   },
   {
    "duration": 30,
    "start_time": "2021-09-24T14:46:42.654Z"
   },
   {
    "duration": 9,
    "start_time": "2021-09-24T14:46:42.686Z"
   },
   {
    "duration": 429,
    "start_time": "2021-09-24T14:46:42.698Z"
   },
   {
    "duration": 24,
    "start_time": "2021-09-24T14:46:43.128Z"
   },
   {
    "duration": 497,
    "start_time": "2021-09-24T14:46:43.154Z"
   },
   {
    "duration": 34,
    "start_time": "2021-09-24T14:46:43.653Z"
   },
   {
    "duration": 310,
    "start_time": "2021-09-24T14:46:43.689Z"
   },
   {
    "duration": 293,
    "start_time": "2021-09-24T14:46:44.001Z"
   },
   {
    "duration": 303,
    "start_time": "2021-09-24T14:46:44.296Z"
   },
   {
    "duration": 346,
    "start_time": "2021-09-24T14:49:53.861Z"
   },
   {
    "duration": 23266,
    "start_time": "2021-09-24T14:50:14.214Z"
   },
   {
    "duration": 30,
    "start_time": "2021-09-24T14:51:28.274Z"
   },
   {
    "duration": 15394,
    "start_time": "2021-09-24T14:51:37.499Z"
   },
   {
    "duration": 22605,
    "start_time": "2021-09-24T14:56:06.017Z"
   },
   {
    "duration": 22181,
    "start_time": "2021-09-24T14:57:05.761Z"
   },
   {
    "duration": 363,
    "start_time": "2021-09-24T15:00:23.946Z"
   },
   {
    "duration": 446,
    "start_time": "2021-09-24T15:02:33.040Z"
   },
   {
    "duration": 14,
    "start_time": "2021-09-24T15:06:14.340Z"
   },
   {
    "duration": 18,
    "start_time": "2021-09-24T15:06:45.551Z"
   },
   {
    "duration": 13,
    "start_time": "2021-09-24T15:07:14.215Z"
   },
   {
    "duration": 85272,
    "start_time": "2021-09-24T15:09:12.998Z"
   },
   {
    "duration": 29,
    "start_time": "2021-09-24T15:14:11.658Z"
   },
   {
    "duration": 33,
    "start_time": "2021-09-24T15:14:36.670Z"
   },
   {
    "duration": 311,
    "start_time": "2021-09-24T15:15:36.129Z"
   },
   {
    "duration": 219,
    "start_time": "2021-09-24T15:15:53.648Z"
   },
   {
    "duration": 261,
    "start_time": "2021-09-24T15:17:29.277Z"
   },
   {
    "duration": 315,
    "start_time": "2021-09-24T15:18:04.093Z"
   },
   {
    "duration": 266,
    "start_time": "2021-09-24T15:18:13.440Z"
   },
   {
    "duration": 255,
    "start_time": "2021-09-24T15:19:32.013Z"
   },
   {
    "duration": 79,
    "start_time": "2021-09-24T15:22:47.906Z"
   },
   {
    "duration": 28,
    "start_time": "2021-09-24T15:22:47.987Z"
   },
   {
    "duration": 98,
    "start_time": "2021-09-24T15:22:48.017Z"
   },
   {
    "duration": 23,
    "start_time": "2021-09-24T15:22:48.118Z"
   },
   {
    "duration": 35,
    "start_time": "2021-09-24T15:22:48.143Z"
   },
   {
    "duration": 32,
    "start_time": "2021-09-24T15:22:48.180Z"
   },
   {
    "duration": 26,
    "start_time": "2021-09-24T15:22:48.214Z"
   },
   {
    "duration": 10,
    "start_time": "2021-09-24T15:22:48.243Z"
   },
   {
    "duration": 4,
    "start_time": "2021-09-24T15:22:48.276Z"
   },
   {
    "duration": 37,
    "start_time": "2021-09-24T15:22:48.282Z"
   },
   {
    "duration": 492,
    "start_time": "2021-09-24T15:22:48.321Z"
   },
   {
    "duration": 25,
    "start_time": "2021-09-24T15:22:48.815Z"
   },
   {
    "duration": 253,
    "start_time": "2021-09-24T15:22:48.842Z"
   },
   {
    "duration": 276,
    "start_time": "2021-09-24T15:22:49.097Z"
   },
   {
    "duration": 226,
    "start_time": "2021-09-24T15:22:49.377Z"
   },
   {
    "duration": 198,
    "start_time": "2021-09-24T15:22:49.605Z"
   },
   {
    "duration": 12,
    "start_time": "2021-09-24T15:22:49.805Z"
   },
   {
    "duration": 227,
    "start_time": "2021-09-24T15:22:49.818Z"
   },
   {
    "duration": 6,
    "start_time": "2021-09-24T15:22:50.047Z"
   },
   {
    "duration": 315,
    "start_time": "2021-09-24T15:22:50.055Z"
   },
   {
    "duration": 254,
    "start_time": "2021-09-24T15:22:50.372Z"
   },
   {
    "duration": 272,
    "start_time": "2021-09-24T15:22:50.627Z"
   },
   {
    "duration": 633,
    "start_time": "2021-09-24T15:22:50.903Z"
   },
   {
    "duration": 24033,
    "start_time": "2021-09-24T15:22:51.539Z"
   },
   {
    "duration": 557,
    "start_time": "2021-09-24T15:23:15.577Z"
   },
   {
    "duration": 379,
    "start_time": "2021-09-24T15:23:16.136Z"
   },
   {
    "duration": 12,
    "start_time": "2021-09-24T15:23:16.517Z"
   },
   {
    "duration": 609,
    "start_time": "2021-09-24T15:23:16.531Z"
   },
   {
    "duration": 87925,
    "start_time": "2021-09-24T15:23:17.142Z"
   },
   {
    "duration": 30,
    "start_time": "2021-09-24T15:24:45.076Z"
   },
   {
    "duration": 32,
    "start_time": "2021-09-24T15:24:45.108Z"
   },
   {
    "duration": 614,
    "start_time": "2021-09-24T15:24:45.142Z"
   },
   {
    "duration": 233,
    "start_time": "2021-09-24T15:24:45.757Z"
   },
   {
    "duration": 633,
    "start_time": "2021-09-24T15:24:45.992Z"
   },
   {
    "duration": 281,
    "start_time": "2021-09-24T15:24:46.626Z"
   },
   {
    "duration": 622,
    "start_time": "2021-09-24T15:24:46.909Z"
   },
   {
    "duration": 276,
    "start_time": "2021-09-24T15:24:47.533Z"
   },
   {
    "duration": 25,
    "start_time": "2021-09-24T15:24:47.811Z"
   },
   {
    "duration": 602,
    "start_time": "2021-09-24T15:24:47.837Z"
   },
   {
    "duration": 600,
    "start_time": "2021-09-24T15:24:48.441Z"
   },
   {
    "duration": 13,
    "start_time": "2021-09-24T15:24:49.042Z"
   },
   {
    "duration": 21,
    "start_time": "2021-09-24T15:24:49.057Z"
   },
   {
    "duration": 15,
    "start_time": "2021-09-24T15:24:49.080Z"
   },
   {
    "duration": 10,
    "start_time": "2021-09-24T15:24:49.096Z"
   },
   {
    "duration": 408,
    "start_time": "2021-09-24T15:24:49.108Z"
   },
   {
    "duration": 23,
    "start_time": "2021-09-24T15:24:49.517Z"
   },
   {
    "duration": 497,
    "start_time": "2021-09-24T15:24:49.541Z"
   },
   {
    "duration": 24,
    "start_time": "2021-09-24T15:24:50.040Z"
   },
   {
    "duration": 316,
    "start_time": "2021-09-24T15:24:50.077Z"
   },
   {
    "duration": 290,
    "start_time": "2021-09-24T15:24:50.395Z"
   },
   {
    "duration": 293,
    "start_time": "2021-09-24T15:24:50.686Z"
   },
   {
    "duration": 664,
    "start_time": "2021-09-24T18:34:33.285Z"
   },
   {
    "duration": 31,
    "start_time": "2021-09-24T18:34:33.951Z"
   },
   {
    "duration": 68,
    "start_time": "2021-09-24T18:34:33.984Z"
   },
   {
    "duration": 37,
    "start_time": "2021-09-24T18:34:34.054Z"
   },
   {
    "duration": 18,
    "start_time": "2021-09-24T18:34:34.093Z"
   },
   {
    "duration": 32,
    "start_time": "2021-09-24T18:34:34.113Z"
   },
   {
    "duration": 54,
    "start_time": "2021-09-24T18:34:34.146Z"
   },
   {
    "duration": 12,
    "start_time": "2021-09-24T18:34:34.202Z"
   },
   {
    "duration": 5,
    "start_time": "2021-09-24T18:34:34.216Z"
   },
   {
    "duration": 55,
    "start_time": "2021-09-24T18:34:34.223Z"
   },
   {
    "duration": 491,
    "start_time": "2021-09-24T18:34:34.279Z"
   },
   {
    "duration": 28,
    "start_time": "2021-09-24T18:34:34.771Z"
   },
   {
    "duration": 351,
    "start_time": "2021-09-24T18:34:34.801Z"
   },
   {
    "duration": 264,
    "start_time": "2021-09-24T18:34:35.154Z"
   },
   {
    "duration": 211,
    "start_time": "2021-09-24T18:34:35.420Z"
   },
   {
    "duration": 188,
    "start_time": "2021-09-24T18:34:35.632Z"
   },
   {
    "duration": 15,
    "start_time": "2021-09-24T18:34:35.822Z"
   },
   {
    "duration": 207,
    "start_time": "2021-09-24T18:34:35.839Z"
   },
   {
    "duration": 6,
    "start_time": "2021-09-24T18:34:36.047Z"
   },
   {
    "duration": 306,
    "start_time": "2021-09-24T18:34:36.054Z"
   },
   {
    "duration": 251,
    "start_time": "2021-09-24T18:34:36.362Z"
   },
   {
    "duration": 261,
    "start_time": "2021-09-24T18:34:36.615Z"
   },
   {
    "duration": 697,
    "start_time": "2021-09-24T18:34:36.880Z"
   },
   {
    "duration": 21583,
    "start_time": "2021-09-24T18:34:37.579Z"
   },
   {
    "duration": 563,
    "start_time": "2021-09-24T18:34:59.163Z"
   },
   {
    "duration": 366,
    "start_time": "2021-09-24T18:34:59.727Z"
   },
   {
    "duration": 11,
    "start_time": "2021-09-24T18:35:00.095Z"
   },
   {
    "duration": 619,
    "start_time": "2021-09-24T18:35:00.108Z"
   },
   {
    "duration": 85819,
    "start_time": "2021-09-24T18:35:00.729Z"
   },
   {
    "duration": 35,
    "start_time": "2021-09-24T18:36:26.550Z"
   },
   {
    "duration": 31,
    "start_time": "2021-09-24T18:36:26.587Z"
   },
   {
    "duration": 622,
    "start_time": "2021-09-24T18:36:26.619Z"
   },
   {
    "duration": 235,
    "start_time": "2021-09-24T18:36:27.243Z"
   },
   {
    "duration": 596,
    "start_time": "2021-09-24T18:36:27.480Z"
   },
   {
    "duration": 272,
    "start_time": "2021-09-24T18:36:28.078Z"
   },
   {
    "duration": 724,
    "start_time": "2021-09-24T18:36:28.352Z"
   },
   {
    "duration": 261,
    "start_time": "2021-09-24T18:36:29.079Z"
   },
   {
    "duration": 36,
    "start_time": "2021-09-24T18:36:29.342Z"
   },
   {
    "duration": 596,
    "start_time": "2021-09-24T18:36:29.380Z"
   },
   {
    "duration": 602,
    "start_time": "2021-09-24T18:36:29.978Z"
   },
   {
    "duration": 15,
    "start_time": "2021-09-24T18:36:30.582Z"
   },
   {
    "duration": 10,
    "start_time": "2021-09-24T18:36:30.599Z"
   },
   {
    "duration": 9,
    "start_time": "2021-09-24T18:36:30.611Z"
   },
   {
    "duration": 16,
    "start_time": "2021-09-24T18:36:30.622Z"
   },
   {
    "duration": 438,
    "start_time": "2021-09-24T18:36:30.641Z"
   },
   {
    "duration": 28,
    "start_time": "2021-09-24T18:36:31.082Z"
   },
   {
    "duration": 508,
    "start_time": "2021-09-24T18:36:31.112Z"
   },
   {
    "duration": 25,
    "start_time": "2021-09-24T18:36:31.622Z"
   },
   {
    "duration": 324,
    "start_time": "2021-09-24T18:36:31.649Z"
   },
   {
    "duration": 287,
    "start_time": "2021-09-24T18:36:31.976Z"
   },
   {
    "duration": 296,
    "start_time": "2021-09-24T18:36:32.265Z"
   },
   {
    "duration": 6,
    "start_time": "2021-09-24T18:36:32.564Z"
   },
   {
    "duration": 328,
    "start_time": "2021-09-24T20:26:22.227Z"
   },
   {
    "duration": 1085,
    "start_time": "2021-09-24T20:26:26.965Z"
   },
   {
    "duration": 34,
    "start_time": "2021-09-24T20:26:28.052Z"
   },
   {
    "duration": 83,
    "start_time": "2021-09-24T20:26:28.088Z"
   },
   {
    "duration": 26,
    "start_time": "2021-09-24T20:26:28.173Z"
   },
   {
    "duration": 18,
    "start_time": "2021-09-24T20:26:28.200Z"
   },
   {
    "duration": 27,
    "start_time": "2021-09-24T20:26:28.220Z"
   },
   {
    "duration": 35,
    "start_time": "2021-09-24T20:26:28.248Z"
   },
   {
    "duration": 27,
    "start_time": "2021-09-24T20:26:28.286Z"
   },
   {
    "duration": 37,
    "start_time": "2021-09-24T20:26:28.315Z"
   },
   {
    "duration": 9,
    "start_time": "2021-09-24T20:26:28.354Z"
   },
   {
    "duration": 35,
    "start_time": "2021-09-24T20:26:28.364Z"
   },
   {
    "duration": 502,
    "start_time": "2021-09-24T20:26:28.401Z"
   },
   {
    "duration": 25,
    "start_time": "2021-09-24T20:26:28.905Z"
   },
   {
    "duration": 647,
    "start_time": "2021-09-24T20:26:28.945Z"
   },
   {
    "duration": -3326,
    "start_time": "2021-09-24T20:26:32.921Z"
   },
   {
    "duration": -3328,
    "start_time": "2021-09-24T20:26:32.925Z"
   },
   {
    "duration": -3330,
    "start_time": "2021-09-24T20:26:32.928Z"
   },
   {
    "duration": -3334,
    "start_time": "2021-09-24T20:26:32.933Z"
   },
   {
    "duration": -3336,
    "start_time": "2021-09-24T20:26:32.936Z"
   },
   {
    "duration": -3338,
    "start_time": "2021-09-24T20:26:32.939Z"
   },
   {
    "duration": -3349,
    "start_time": "2021-09-24T20:26:32.951Z"
   },
   {
    "duration": -3351,
    "start_time": "2021-09-24T20:26:32.954Z"
   },
   {
    "duration": -3353,
    "start_time": "2021-09-24T20:26:32.957Z"
   },
   {
    "duration": -3356,
    "start_time": "2021-09-24T20:26:32.961Z"
   },
   {
    "duration": -3361,
    "start_time": "2021-09-24T20:26:32.966Z"
   },
   {
    "duration": -3364,
    "start_time": "2021-09-24T20:26:32.970Z"
   },
   {
    "duration": -3367,
    "start_time": "2021-09-24T20:26:32.974Z"
   },
   {
    "duration": -3372,
    "start_time": "2021-09-24T20:26:32.980Z"
   },
   {
    "duration": -3375,
    "start_time": "2021-09-24T20:26:32.984Z"
   },
   {
    "duration": -3378,
    "start_time": "2021-09-24T20:26:32.988Z"
   },
   {
    "duration": -3381,
    "start_time": "2021-09-24T20:26:32.992Z"
   },
   {
    "duration": -3383,
    "start_time": "2021-09-24T20:26:32.995Z"
   },
   {
    "duration": -3387,
    "start_time": "2021-09-24T20:26:32.999Z"
   },
   {
    "duration": -3390,
    "start_time": "2021-09-24T20:26:33.003Z"
   },
   {
    "duration": -3391,
    "start_time": "2021-09-24T20:26:33.005Z"
   },
   {
    "duration": -3393,
    "start_time": "2021-09-24T20:26:33.008Z"
   },
   {
    "duration": -3396,
    "start_time": "2021-09-24T20:26:33.012Z"
   },
   {
    "duration": -3372,
    "start_time": "2021-09-24T20:26:33.016Z"
   },
   {
    "duration": -3374,
    "start_time": "2021-09-24T20:26:33.019Z"
   },
   {
    "duration": -3376,
    "start_time": "2021-09-24T20:26:33.022Z"
   },
   {
    "duration": -3377,
    "start_time": "2021-09-24T20:26:33.024Z"
   },
   {
    "duration": -3386,
    "start_time": "2021-09-24T20:26:33.035Z"
   },
   {
    "duration": -3389,
    "start_time": "2021-09-24T20:26:33.039Z"
   },
   {
    "duration": -3391,
    "start_time": "2021-09-24T20:26:33.042Z"
   },
   {
    "duration": -3393,
    "start_time": "2021-09-24T20:26:33.045Z"
   },
   {
    "duration": -3397,
    "start_time": "2021-09-24T20:26:33.049Z"
   },
   {
    "duration": -3400,
    "start_time": "2021-09-24T20:26:33.053Z"
   },
   {
    "duration": -3402,
    "start_time": "2021-09-24T20:26:33.056Z"
   },
   {
    "duration": -3404,
    "start_time": "2021-09-24T20:26:33.059Z"
   },
   {
    "duration": -3406,
    "start_time": "2021-09-24T20:26:33.062Z"
   },
   {
    "duration": -3409,
    "start_time": "2021-09-24T20:26:33.066Z"
   },
   {
    "duration": -3413,
    "start_time": "2021-09-24T20:26:33.070Z"
   },
   {
    "duration": -3415,
    "start_time": "2021-09-24T20:26:33.073Z"
   },
   {
    "duration": 85,
    "start_time": "2021-09-24T20:28:07.114Z"
   },
   {
    "duration": 51,
    "start_time": "2021-09-24T20:28:07.201Z"
   },
   {
    "duration": 67,
    "start_time": "2021-09-24T20:28:07.254Z"
   },
   {
    "duration": 39,
    "start_time": "2021-09-24T20:28:07.323Z"
   },
   {
    "duration": 17,
    "start_time": "2021-09-24T20:28:07.364Z"
   },
   {
    "duration": 5,
    "start_time": "2021-09-24T20:28:07.383Z"
   },
   {
    "duration": 57,
    "start_time": "2021-09-24T20:28:07.389Z"
   },
   {
    "duration": 25,
    "start_time": "2021-09-24T20:28:07.448Z"
   },
   {
    "duration": 10,
    "start_time": "2021-09-24T20:28:07.475Z"
   },
   {
    "duration": 3,
    "start_time": "2021-09-24T20:28:07.487Z"
   },
   {
    "duration": 56,
    "start_time": "2021-09-24T20:28:07.492Z"
   },
   {
    "duration": 473,
    "start_time": "2021-09-24T20:28:07.549Z"
   },
   {
    "duration": 33,
    "start_time": "2021-09-24T20:28:08.024Z"
   },
   {
    "duration": 751,
    "start_time": "2021-09-24T20:28:08.059Z"
   },
   {
    "duration": -3340,
    "start_time": "2021-09-24T20:28:12.153Z"
   },
   {
    "duration": -3346,
    "start_time": "2021-09-24T20:28:12.160Z"
   },
   {
    "duration": -3350,
    "start_time": "2021-09-24T20:28:12.166Z"
   },
   {
    "duration": -3353,
    "start_time": "2021-09-24T20:28:12.170Z"
   },
   {
    "duration": -3355,
    "start_time": "2021-09-24T20:28:12.174Z"
   },
   {
    "duration": -3358,
    "start_time": "2021-09-24T20:28:12.178Z"
   },
   {
    "duration": -3360,
    "start_time": "2021-09-24T20:28:12.182Z"
   },
   {
    "duration": -3363,
    "start_time": "2021-09-24T20:28:12.186Z"
   },
   {
    "duration": -3345,
    "start_time": "2021-09-24T20:28:12.189Z"
   },
   {
    "duration": -3354,
    "start_time": "2021-09-24T20:28:12.200Z"
   },
   {
    "duration": -3357,
    "start_time": "2021-09-24T20:28:12.205Z"
   },
   {
    "duration": -3360,
    "start_time": "2021-09-24T20:28:12.209Z"
   },
   {
    "duration": -3361,
    "start_time": "2021-09-24T20:28:12.212Z"
   },
   {
    "duration": -3363,
    "start_time": "2021-09-24T20:28:12.215Z"
   },
   {
    "duration": -3365,
    "start_time": "2021-09-24T20:28:12.218Z"
   },
   {
    "duration": -3366,
    "start_time": "2021-09-24T20:28:12.221Z"
   },
   {
    "duration": -3368,
    "start_time": "2021-09-24T20:28:12.224Z"
   },
   {
    "duration": -3370,
    "start_time": "2021-09-24T20:28:12.227Z"
   },
   {
    "duration": -3371,
    "start_time": "2021-09-24T20:28:12.230Z"
   },
   {
    "duration": -3373,
    "start_time": "2021-09-24T20:28:12.233Z"
   },
   {
    "duration": -3373,
    "start_time": "2021-09-24T20:28:12.235Z"
   },
   {
    "duration": -3375,
    "start_time": "2021-09-24T20:28:12.238Z"
   },
   {
    "duration": -3375,
    "start_time": "2021-09-24T20:28:12.240Z"
   },
   {
    "duration": -3377,
    "start_time": "2021-09-24T20:28:12.243Z"
   },
   {
    "duration": -3379,
    "start_time": "2021-09-24T20:28:12.246Z"
   },
   {
    "duration": -3380,
    "start_time": "2021-09-24T20:28:12.249Z"
   },
   {
    "duration": -3382,
    "start_time": "2021-09-24T20:28:12.252Z"
   },
   {
    "duration": -3395,
    "start_time": "2021-09-24T20:28:12.267Z"
   },
   {
    "duration": -3398,
    "start_time": "2021-09-24T20:28:12.271Z"
   },
   {
    "duration": -3401,
    "start_time": "2021-09-24T20:28:12.275Z"
   },
   {
    "duration": -3402,
    "start_time": "2021-09-24T20:28:12.278Z"
   },
   {
    "duration": -3408,
    "start_time": "2021-09-24T20:28:12.285Z"
   },
   {
    "duration": -3409,
    "start_time": "2021-09-24T20:28:12.288Z"
   },
   {
    "duration": -3411,
    "start_time": "2021-09-24T20:28:12.291Z"
   },
   {
    "duration": -3416,
    "start_time": "2021-09-24T20:28:12.298Z"
   },
   {
    "duration": -3418,
    "start_time": "2021-09-24T20:28:12.301Z"
   },
   {
    "duration": -3420,
    "start_time": "2021-09-24T20:28:12.304Z"
   },
   {
    "duration": -3420,
    "start_time": "2021-09-24T20:28:12.306Z"
   },
   {
    "duration": -3365,
    "start_time": "2021-09-24T20:28:12.309Z"
   },
   {
    "duration": 1288,
    "start_time": "2021-09-24T20:28:41.132Z"
   },
   {
    "duration": 521,
    "start_time": "2021-09-24T20:28:54.582Z"
   },
   {
    "duration": 220,
    "start_time": "2021-09-24T20:33:18.962Z"
   },
   {
    "duration": 80,
    "start_time": "2021-09-24T20:37:09.859Z"
   },
   {
    "duration": 27,
    "start_time": "2021-09-24T20:37:09.941Z"
   },
   {
    "duration": 100,
    "start_time": "2021-09-24T20:37:09.971Z"
   },
   {
    "duration": 24,
    "start_time": "2021-09-24T20:37:10.073Z"
   },
   {
    "duration": 16,
    "start_time": "2021-09-24T20:37:10.098Z"
   },
   {
    "duration": 4,
    "start_time": "2021-09-24T20:37:10.116Z"
   },
   {
    "duration": 50,
    "start_time": "2021-09-24T20:37:10.122Z"
   },
   {
    "duration": 24,
    "start_time": "2021-09-24T20:37:10.175Z"
   },
   {
    "duration": 10,
    "start_time": "2021-09-24T20:37:10.201Z"
   },
   {
    "duration": 3,
    "start_time": "2021-09-24T20:37:10.212Z"
   },
   {
    "duration": 61,
    "start_time": "2021-09-24T20:37:10.217Z"
   },
   {
    "duration": 642,
    "start_time": "2021-09-24T20:37:10.279Z"
   },
   {
    "duration": 30,
    "start_time": "2021-09-24T20:37:10.923Z"
   },
   {
    "duration": 236,
    "start_time": "2021-09-24T20:37:10.955Z"
   },
   {
    "duration": 262,
    "start_time": "2021-09-24T20:37:11.193Z"
   },
   {
    "duration": 211,
    "start_time": "2021-09-24T20:37:11.457Z"
   },
   {
    "duration": 191,
    "start_time": "2021-09-24T20:37:11.670Z"
   },
   {
    "duration": 12,
    "start_time": "2021-09-24T20:37:11.863Z"
   },
   {
    "duration": 209,
    "start_time": "2021-09-24T20:37:11.877Z"
   },
   {
    "duration": 6,
    "start_time": "2021-09-24T20:37:12.088Z"
   },
   {
    "duration": 304,
    "start_time": "2021-09-24T20:37:12.095Z"
   },
   {
    "duration": 248,
    "start_time": "2021-09-24T20:37:12.401Z"
   },
   {
    "duration": 275,
    "start_time": "2021-09-24T20:37:12.654Z"
   },
   {
    "duration": 671,
    "start_time": "2021-09-24T20:37:12.932Z"
   },
   {
    "duration": 20916,
    "start_time": "2021-09-24T20:37:13.606Z"
   },
   {
    "duration": 558,
    "start_time": "2021-09-24T20:37:34.524Z"
   },
   {
    "duration": 355,
    "start_time": "2021-09-24T20:37:35.084Z"
   },
   {
    "duration": 14,
    "start_time": "2021-09-24T20:37:35.440Z"
   },
   {
    "duration": 573,
    "start_time": "2021-09-24T20:37:35.455Z"
   },
   {
    "duration": 82217,
    "start_time": "2021-09-24T20:37:36.030Z"
   },
   {
    "duration": 27,
    "start_time": "2021-09-24T20:38:58.249Z"
   },
   {
    "duration": 31,
    "start_time": "2021-09-24T20:38:58.277Z"
   },
   {
    "duration": 587,
    "start_time": "2021-09-24T20:38:58.310Z"
   },
   {
    "duration": 229,
    "start_time": "2021-09-24T20:38:58.899Z"
   },
   {
    "duration": 556,
    "start_time": "2021-09-24T20:38:59.130Z"
   },
   {
    "duration": 269,
    "start_time": "2021-09-24T20:38:59.688Z"
   },
   {
    "duration": 664,
    "start_time": "2021-09-24T20:38:59.958Z"
   },
   {
    "duration": 266,
    "start_time": "2021-09-24T20:39:00.624Z"
   },
   {
    "duration": 25,
    "start_time": "2021-09-24T20:39:00.893Z"
   },
   {
    "duration": 618,
    "start_time": "2021-09-24T20:39:00.921Z"
   },
   {
    "duration": 616,
    "start_time": "2021-09-24T20:39:01.545Z"
   },
   {
    "duration": 15,
    "start_time": "2021-09-24T20:39:02.163Z"
   },
   {
    "duration": 9,
    "start_time": "2021-09-24T20:39:02.181Z"
   },
   {
    "duration": 11,
    "start_time": "2021-09-24T20:39:02.192Z"
   },
   {
    "duration": 45,
    "start_time": "2021-09-24T20:39:02.205Z"
   },
   {
    "duration": 410,
    "start_time": "2021-09-24T20:39:02.252Z"
   },
   {
    "duration": 23,
    "start_time": "2021-09-24T20:39:02.663Z"
   },
   {
    "duration": 486,
    "start_time": "2021-09-24T20:39:02.687Z"
   },
   {
    "duration": 23,
    "start_time": "2021-09-24T20:39:03.175Z"
   },
   {
    "duration": 325,
    "start_time": "2021-09-24T20:39:03.199Z"
   },
   {
    "duration": 283,
    "start_time": "2021-09-24T20:39:03.526Z"
   },
   {
    "duration": 289,
    "start_time": "2021-09-24T20:39:03.810Z"
   },
   {
    "duration": 580,
    "start_time": "2021-09-24T20:39:04.100Z"
   },
   {
    "duration": 279,
    "start_time": "2021-09-24T20:39:04.684Z"
   },
   {
    "duration": 209,
    "start_time": "2021-09-24T20:39:45.145Z"
   },
   {
    "duration": 183,
    "start_time": "2021-09-24T20:40:18.194Z"
   },
   {
    "duration": 206,
    "start_time": "2021-09-24T20:40:57.740Z"
   },
   {
    "duration": 300,
    "start_time": "2021-09-24T20:41:25.412Z"
   },
   {
    "duration": 229,
    "start_time": "2021-09-24T20:41:48.055Z"
   },
   {
    "duration": 260,
    "start_time": "2021-09-24T20:42:19.637Z"
   },
   {
    "duration": 57816,
    "start_time": "2021-09-24T20:47:17.891Z"
   },
   {
    "duration": 11,
    "start_time": "2021-09-24T20:50:32.889Z"
   },
   {
    "duration": 9,
    "start_time": "2021-09-24T20:50:38.874Z"
   },
   {
    "duration": 67,
    "start_time": "2021-09-24T20:51:11.606Z"
   },
   {
    "duration": 25,
    "start_time": "2021-09-24T20:51:11.675Z"
   },
   {
    "duration": 83,
    "start_time": "2021-09-24T20:51:11.702Z"
   },
   {
    "duration": 23,
    "start_time": "2021-09-24T20:51:11.787Z"
   },
   {
    "duration": 37,
    "start_time": "2021-09-24T20:51:11.812Z"
   },
   {
    "duration": 5,
    "start_time": "2021-09-24T20:51:11.851Z"
   },
   {
    "duration": 33,
    "start_time": "2021-09-24T20:51:11.857Z"
   },
   {
    "duration": 57,
    "start_time": "2021-09-24T20:51:11.893Z"
   },
   {
    "duration": 10,
    "start_time": "2021-09-24T20:51:11.952Z"
   },
   {
    "duration": 3,
    "start_time": "2021-09-24T20:51:11.964Z"
   },
   {
    "duration": 37,
    "start_time": "2021-09-24T20:51:11.969Z"
   },
   {
    "duration": 479,
    "start_time": "2021-09-24T20:51:12.008Z"
   },
   {
    "duration": 27,
    "start_time": "2021-09-24T20:51:12.488Z"
   },
   {
    "duration": 265,
    "start_time": "2021-09-24T20:51:12.516Z"
   },
   {
    "duration": 269,
    "start_time": "2021-09-24T20:51:12.783Z"
   },
   {
    "duration": 219,
    "start_time": "2021-09-24T20:51:13.053Z"
   },
   {
    "duration": 195,
    "start_time": "2021-09-24T20:51:13.274Z"
   },
   {
    "duration": 12,
    "start_time": "2021-09-24T20:51:13.470Z"
   },
   {
    "duration": 210,
    "start_time": "2021-09-24T20:51:13.484Z"
   },
   {
    "duration": 5,
    "start_time": "2021-09-24T20:51:13.695Z"
   },
   {
    "duration": 306,
    "start_time": "2021-09-24T20:51:13.702Z"
   },
   {
    "duration": 248,
    "start_time": "2021-09-24T20:51:14.010Z"
   },
   {
    "duration": 2145,
    "start_time": "2021-09-24T20:51:14.261Z"
   },
   {
    "duration": 598,
    "start_time": "2021-09-24T20:51:16.408Z"
   },
   {
    "duration": 21293,
    "start_time": "2021-09-24T20:51:17.009Z"
   },
   {
    "duration": 840,
    "start_time": "2021-09-24T20:51:38.304Z"
   },
   {
    "duration": 357,
    "start_time": "2021-09-24T20:51:39.146Z"
   },
   {
    "duration": 11,
    "start_time": "2021-09-24T20:51:39.505Z"
   },
   {
    "duration": 582,
    "start_time": "2021-09-24T20:51:39.518Z"
   },
   {
    "duration": 82675,
    "start_time": "2021-09-24T20:51:40.102Z"
   },
   {
    "duration": 27,
    "start_time": "2021-09-24T20:53:02.779Z"
   },
   {
    "duration": 51,
    "start_time": "2021-09-24T20:53:02.808Z"
   },
   {
    "duration": 617,
    "start_time": "2021-09-24T20:53:02.861Z"
   },
   {
    "duration": 228,
    "start_time": "2021-09-24T20:53:03.479Z"
   },
   {
    "duration": 608,
    "start_time": "2021-09-24T20:53:03.709Z"
   },
   {
    "duration": 271,
    "start_time": "2021-09-24T20:53:04.319Z"
   },
   {
    "duration": 613,
    "start_time": "2021-09-24T20:53:04.591Z"
   },
   {
    "duration": 265,
    "start_time": "2021-09-24T20:53:05.206Z"
   },
   {
    "duration": 24,
    "start_time": "2021-09-24T20:53:05.473Z"
   },
   {
    "duration": 613,
    "start_time": "2021-09-24T20:53:05.499Z"
   },
   {
    "duration": 581,
    "start_time": "2021-09-24T20:53:06.114Z"
   },
   {
    "duration": 11,
    "start_time": "2021-09-24T20:53:06.697Z"
   },
   {
    "duration": 7,
    "start_time": "2021-09-24T20:53:06.710Z"
   },
   {
    "duration": 27,
    "start_time": "2021-09-24T20:53:06.718Z"
   },
   {
    "duration": 8,
    "start_time": "2021-09-24T20:53:06.747Z"
   },
   {
    "duration": 397,
    "start_time": "2021-09-24T20:53:06.756Z"
   },
   {
    "duration": 25,
    "start_time": "2021-09-24T20:53:07.155Z"
   },
   {
    "duration": 491,
    "start_time": "2021-09-24T20:53:07.182Z"
   },
   {
    "duration": 24,
    "start_time": "2021-09-24T20:53:07.675Z"
   },
   {
    "duration": 323,
    "start_time": "2021-09-24T20:53:07.701Z"
   },
   {
    "duration": 288,
    "start_time": "2021-09-24T20:53:08.025Z"
   },
   {
    "duration": 281,
    "start_time": "2021-09-24T20:53:08.315Z"
   },
   {
    "duration": 59202,
    "start_time": "2021-09-24T20:53:08.598Z"
   },
   {
    "duration": 2237,
    "start_time": "2021-09-24T20:54:40.887Z"
   },
   {
    "duration": 560,
    "start_time": "2021-09-24T20:54:55.837Z"
   },
   {
    "duration": 505,
    "start_time": "2021-09-24T20:55:17.802Z"
   },
   {
    "duration": 680,
    "start_time": "2021-09-24T20:59:23.082Z"
   },
   {
    "duration": 79,
    "start_time": "2021-09-24T21:01:19.019Z"
   },
   {
    "duration": 52,
    "start_time": "2021-09-24T21:01:19.100Z"
   },
   {
    "duration": 79,
    "start_time": "2021-09-24T21:01:19.154Z"
   },
   {
    "duration": 25,
    "start_time": "2021-09-24T21:01:19.245Z"
   },
   {
    "duration": 17,
    "start_time": "2021-09-24T21:01:19.272Z"
   },
   {
    "duration": 6,
    "start_time": "2021-09-24T21:01:19.291Z"
   },
   {
    "duration": 75,
    "start_time": "2021-09-24T21:01:19.299Z"
   },
   {
    "duration": 36,
    "start_time": "2021-09-24T21:01:19.377Z"
   },
   {
    "duration": 30,
    "start_time": "2021-09-24T21:01:19.416Z"
   },
   {
    "duration": 5,
    "start_time": "2021-09-24T21:01:19.448Z"
   },
   {
    "duration": 66,
    "start_time": "2021-09-24T21:01:19.455Z"
   },
   {
    "duration": 511,
    "start_time": "2021-09-24T21:01:19.523Z"
   },
   {
    "duration": 31,
    "start_time": "2021-09-24T21:01:20.036Z"
   },
   {
    "duration": 244,
    "start_time": "2021-09-24T21:01:20.069Z"
   },
   {
    "duration": 271,
    "start_time": "2021-09-24T21:01:20.315Z"
   },
   {
    "duration": 219,
    "start_time": "2021-09-24T21:01:20.588Z"
   },
   {
    "duration": 194,
    "start_time": "2021-09-24T21:01:20.809Z"
   },
   {
    "duration": 14,
    "start_time": "2021-09-24T21:01:21.005Z"
   },
   {
    "duration": 236,
    "start_time": "2021-09-24T21:01:21.021Z"
   },
   {
    "duration": 5,
    "start_time": "2021-09-24T21:01:21.259Z"
   },
   {
    "duration": 323,
    "start_time": "2021-09-24T21:01:21.266Z"
   },
   {
    "duration": 272,
    "start_time": "2021-09-24T21:01:21.591Z"
   },
   {
    "duration": 269,
    "start_time": "2021-09-24T21:01:21.867Z"
   },
   {
    "duration": 626,
    "start_time": "2021-09-24T21:01:22.138Z"
   },
   {
    "duration": 24327,
    "start_time": "2021-09-24T21:01:22.766Z"
   },
   {
    "duration": 576,
    "start_time": "2021-09-24T21:01:47.095Z"
   },
   {
    "duration": 379,
    "start_time": "2021-09-24T21:01:47.673Z"
   },
   {
    "duration": 12,
    "start_time": "2021-09-24T21:01:48.054Z"
   },
   {
    "duration": 612,
    "start_time": "2021-09-24T21:01:48.068Z"
   },
   {
    "duration": 82081,
    "start_time": "2021-09-24T21:01:48.681Z"
   },
   {
    "duration": 27,
    "start_time": "2021-09-24T21:03:10.764Z"
   },
   {
    "duration": 30,
    "start_time": "2021-09-24T21:03:10.793Z"
   },
   {
    "duration": 583,
    "start_time": "2021-09-24T21:03:10.824Z"
   },
   {
    "duration": 226,
    "start_time": "2021-09-24T21:03:11.409Z"
   },
   {
    "duration": 592,
    "start_time": "2021-09-24T21:03:11.637Z"
   },
   {
    "duration": 269,
    "start_time": "2021-09-24T21:03:12.231Z"
   },
   {
    "duration": 604,
    "start_time": "2021-09-24T21:03:12.502Z"
   },
   {
    "duration": 249,
    "start_time": "2021-09-24T21:03:13.107Z"
   },
   {
    "duration": 24,
    "start_time": "2021-09-24T21:03:13.357Z"
   },
   {
    "duration": 579,
    "start_time": "2021-09-24T21:03:13.383Z"
   },
   {
    "duration": 580,
    "start_time": "2021-09-24T21:03:13.964Z"
   },
   {
    "duration": 11,
    "start_time": "2021-09-24T21:03:14.546Z"
   },
   {
    "duration": 7,
    "start_time": "2021-09-24T21:03:14.559Z"
   },
   {
    "duration": 7,
    "start_time": "2021-09-24T21:03:14.567Z"
   },
   {
    "duration": 13,
    "start_time": "2021-09-24T21:03:14.576Z"
   },
   {
    "duration": 420,
    "start_time": "2021-09-24T21:03:14.590Z"
   },
   {
    "duration": 33,
    "start_time": "2021-09-24T21:03:15.012Z"
   },
   {
    "duration": 502,
    "start_time": "2021-09-24T21:03:15.047Z"
   },
   {
    "duration": 24,
    "start_time": "2021-09-24T21:03:15.551Z"
   },
   {
    "duration": 335,
    "start_time": "2021-09-24T21:03:15.577Z"
   },
   {
    "duration": 283,
    "start_time": "2021-09-24T21:03:15.914Z"
   },
   {
    "duration": 281,
    "start_time": "2021-09-24T21:03:16.199Z"
   },
   {
    "duration": 727,
    "start_time": "2021-09-24T21:03:16.481Z"
   },
   {
    "duration": 993,
    "start_time": "2021-09-24T21:03:54.207Z"
   },
   {
    "duration": 8465,
    "start_time": "2021-09-24T21:15:09.074Z"
   },
   {
    "duration": 8007,
    "start_time": "2021-09-24T21:15:30.789Z"
   },
   {
    "duration": 11715,
    "start_time": "2021-09-24T21:16:14.515Z"
   },
   {
    "duration": 7365,
    "start_time": "2021-09-24T21:17:10.217Z"
   },
   {
    "duration": 8759,
    "start_time": "2021-09-24T21:17:43.185Z"
   },
   {
    "duration": 8626,
    "start_time": "2021-09-24T21:18:13.216Z"
   },
   {
    "duration": 575,
    "start_time": "2021-09-24T21:19:09.597Z"
   },
   {
    "duration": 938,
    "start_time": "2021-09-24T21:20:18.654Z"
   }
  ],
  "kernelspec": {
   "display_name": "Python 3",
   "language": "python",
   "name": "python3"
  },
  "language_info": {
   "codemirror_mode": {
    "name": "ipython",
    "version": 3
   },
   "file_extension": ".py",
   "mimetype": "text/x-python",
   "name": "python",
   "nbconvert_exporter": "python",
   "pygments_lexer": "ipython3",
   "version": "3.8.8"
  },
  "toc": {
   "base_numbering": 1,
   "nav_menu": {},
   "number_sections": true,
   "sideBar": true,
   "skip_h1_title": true,
   "title_cell": "Содержание",
   "title_sidebar": "Contents",
   "toc_cell": true,
   "toc_position": {
    "height": "calc(100% - 180px)",
    "left": "10px",
    "top": "150px",
    "width": "195.225px"
   },
   "toc_section_display": true,
   "toc_window_display": false
  }
 },
 "nbformat": 4,
 "nbformat_minor": 2
}
