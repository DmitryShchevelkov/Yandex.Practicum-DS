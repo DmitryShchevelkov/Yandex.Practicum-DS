{
 "cells": [
  {
   "cell_type": "markdown",
   "metadata": {
    "toc": true
   },
   "source": [
    "<h1>Table of Contents<span class=\"tocSkip\"></span></h1>\n",
    "<div class=\"toc\"><ul class=\"toc-item\"><li><span><a href=\"#Описание-проекта\" data-toc-modified-id=\"Описание-проекта-1\"><span class=\"toc-item-num\">1&nbsp;&nbsp;</span>Описание проекта</a></span></li><li><span><a href=\"#Ознакомление-с-данными-из-файла\" data-toc-modified-id=\"Ознакомление-с-данными-из-файла-2\"><span class=\"toc-item-num\">2&nbsp;&nbsp;</span>Ознакомление с данными из файла</a></span><ul class=\"toc-item\"><li><span><a href=\"#Обработка-данных\" data-toc-modified-id=\"Обработка-данных-2.1\"><span class=\"toc-item-num\">2.1&nbsp;&nbsp;</span>Обработка данных</a></span></li><li><span><a href=\"#Анализ-данных\" data-toc-modified-id=\"Анализ-данных-2.2\"><span class=\"toc-item-num\">2.2&nbsp;&nbsp;</span>Анализ данных</a></span><ul class=\"toc-item\"><li><span><a href=\"#Изучим-количество-выпущенных-игр-по-годам\" data-toc-modified-id=\"Изучим-количество-выпущенных-игр-по-годам-2.2.1\"><span class=\"toc-item-num\">2.2.1&nbsp;&nbsp;</span>Изучим количество выпущенных игр по годам</a></span></li><li><span><a href=\"#Посмотри-у-каких-игровых-платформ-больше-всего-продаж\" data-toc-modified-id=\"Посмотри-у-каких-игровых-платформ-больше-всего-продаж-2.2.2\"><span class=\"toc-item-num\">2.2.2&nbsp;&nbsp;</span>Посмотри у каких игровых платформ больше всего продаж</a></span></li><li><span><a href=\"#Диаграмма-рассеивания-и-корреляция-для-PS4\" data-toc-modified-id=\"Диаграмма-рассеивания-и-корреляция-для-PS4-2.2.3\"><span class=\"toc-item-num\">2.2.3&nbsp;&nbsp;</span>Диаграмма рассеивания и корреляция для PS4</a></span></li><li><span><a href=\"#Распределение-продаж-игр-в-зависимости-от-жанра.\" data-toc-modified-id=\"Распределение-продаж-игр-в-зависимости-от-жанра.-2.2.4\"><span class=\"toc-item-num\">2.2.4&nbsp;&nbsp;</span>Распределение продаж игр в зависимости от жанра.</a></span></li></ul></li></ul></li><li><span><a href=\"#Портрет-пользователя-по-регионам\" data-toc-modified-id=\"Портрет-пользователя-по-регионам-3\"><span class=\"toc-item-num\">3&nbsp;&nbsp;</span>Портрет пользователя по регионам</a></span><ul class=\"toc-item\"><li><span><a href=\"#Самые-популярные-платформы-по-регионам.\" data-toc-modified-id=\"Самые-популярные-платформы-по-регионам.-3.1\"><span class=\"toc-item-num\">3.1&nbsp;&nbsp;</span>Самые популярные платформы по регионам.</a></span></li><li><span><a href=\"#Топ-5-жанров-для-разных-регионов\" data-toc-modified-id=\"Топ-5-жанров-для-разных-регионов-3.2\"><span class=\"toc-item-num\">3.2&nbsp;&nbsp;</span>Топ-5 жанров для разных регионов</a></span></li></ul></li><li><span><a href=\"#Как-влияет-рейтинг-игр-на-продажи\" data-toc-modified-id=\"Как-влияет-рейтинг-игр-на-продажи-4\"><span class=\"toc-item-num\">4&nbsp;&nbsp;</span>Как влияет рейтинг игр на продажи</a></span></li><li><span><a href=\"#Проверка-гипотез\" data-toc-modified-id=\"Проверка-гипотез-5\"><span class=\"toc-item-num\">5&nbsp;&nbsp;</span>Проверка гипотез</a></span><ul class=\"toc-item\"><li><span><a href=\"#Средние-пользовательские-рейтинги-платформ-Xbox-One-и-PC-одинаковые\" data-toc-modified-id=\"Средние-пользовательские-рейтинги-платформ-Xbox-One-и-PC-одинаковые-5.1\"><span class=\"toc-item-num\">5.1&nbsp;&nbsp;</span>Средние пользовательские рейтинги платформ Xbox One и PC одинаковые</a></span></li><li><span><a href=\"#Средние-пользовательские-рейтинги-жанров-Action--и-Sports-разные\" data-toc-modified-id=\"Средние-пользовательские-рейтинги-жанров-Action--и-Sports-разные-5.2\"><span class=\"toc-item-num\">5.2&nbsp;&nbsp;</span>Средние пользовательские рейтинги жанров Action  и Sports разные</a></span></li></ul></li><li><span><a href=\"#Выводы\" data-toc-modified-id=\"Выводы-6\"><span class=\"toc-item-num\">6&nbsp;&nbsp;</span>Выводы</a></span></li></ul></div>"
   ]
  },
  {
   "cell_type": "markdown",
   "metadata": {},
   "source": [
    "# Определение перспективных игр"
   ]
  },
  {
   "cell_type": "markdown",
   "metadata": {},
   "source": [
    "## Описание проекта"
   ]
  },
  {
   "cell_type": "markdown",
   "metadata": {},
   "source": [
    "По условию проекта, я работаю в интернет-магазине «Стримчик», который продаёт по всему миру компьютерные игры. Из открытых источников доступны исторические данные о продажах игр, оценки пользователей и экспертов, жанры и платформы (например, Xbox или PlayStation). Мне нужно выявить определяющие успешность игры закономерности. Это позволит сделать ставку на потенциально популярный продукт и спланировать рекламные кампании.\n",
    "Имеются данные до 2016 года. Представим, что сейчас декабрь 2016 г., и я планирую кампанию на 2017-й. Нужно отработать принцип работы с данными.\n"
   ]
  },
  {
   "cell_type": "markdown",
   "metadata": {},
   "source": [
    "## Ознакомление с данными из файла"
   ]
  },
  {
   "cell_type": "code",
   "execution_count": 1,
   "metadata": {},
   "outputs": [
    {
     "name": "stdout",
     "output_type": "stream",
     "text": [
      "<class 'pandas.core.frame.DataFrame'>\n",
      "RangeIndex: 16715 entries, 0 to 16714\n",
      "Data columns (total 11 columns):\n",
      "Name               16713 non-null object\n",
      "Platform           16715 non-null object\n",
      "Year_of_Release    16446 non-null float64\n",
      "Genre              16713 non-null object\n",
      "NA_sales           16715 non-null float64\n",
      "EU_sales           16715 non-null float64\n",
      "JP_sales           16715 non-null float64\n",
      "Other_sales        16715 non-null float64\n",
      "Critic_Score       8137 non-null float64\n",
      "User_Score         10014 non-null object\n",
      "Rating             9949 non-null object\n",
      "dtypes: float64(6), object(5)\n",
      "memory usage: 1.4+ MB\n"
     ]
    }
   ],
   "source": [
    "import pandas as pd\n",
    "import matplotlib.pyplot as plt\n",
    "import math\n",
    "import numpy as np\n",
    "from scipy import stats as st\n",
    "\n",
    "df = pd.read_csv('/datasets/games.csv')\n",
    "df.sample(20)\n",
    "df.info()"
   ]
  },
  {
   "cell_type": "markdown",
   "metadata": {},
   "source": [
    "### Обработка данных"
   ]
  },
  {
   "cell_type": "code",
   "execution_count": 2,
   "metadata": {},
   "outputs": [],
   "source": [
    "df.columns = df.columns.str.lower()\n",
    "df.dropna(subset=['name', 'genre', 'year_of_release'], inplace=True)\n",
    "df['year_of_release'] = df['year_of_release'].astype(int)"
   ]
  },
  {
   "cell_type": "markdown",
   "metadata": {},
   "source": [
    "Переведем названия столбцов в нижний регистр. Избавимся от строк с значением Nan в столбцах 'name', 'genre', 'year_of_release', так заменить их или восполнить мы не сможем. Переведем тип данных столбца 'year_of_release' в целочисленное значение int."
   ]
  },
  {
   "cell_type": "code",
   "execution_count": 3,
   "metadata": {},
   "outputs": [
    {
     "name": "stdout",
     "output_type": "stream",
     "text": [
      "<class 'pandas.core.frame.DataFrame'>\n",
      "Int64Index: 16444 entries, 0 to 16714\n",
      "Data columns (total 11 columns):\n",
      "name               16444 non-null object\n",
      "platform           16444 non-null object\n",
      "year_of_release    16444 non-null int64\n",
      "genre              16444 non-null object\n",
      "na_sales           16444 non-null float64\n",
      "eu_sales           16444 non-null float64\n",
      "jp_sales           16444 non-null float64\n",
      "other_sales        16444 non-null float64\n",
      "critic_score       7983 non-null float64\n",
      "user_score         7463 non-null float64\n",
      "rating             9768 non-null object\n",
      "dtypes: float64(6), int64(1), object(4)\n",
      "memory usage: 1.5+ MB\n"
     ]
    }
   ],
   "source": [
    "df['user_score'].unique()\n",
    "\n",
    "df['user_score'] = df['user_score'].replace('tbd', np.NaN)\n",
    "df['user_score'] = df['user_score'].astype('float')\n",
    "\n",
    "df.info()"
   ]
  },
  {
   "cell_type": "markdown",
   "metadata": {},
   "source": [
    "В столбце 'user_score' встречается аббривиатура tbd (\"To Be Determined\"), что означает \"будет определено\", т.е. пока неизвестно  как и неопределенные Nan, так что заменим на Nan."
   ]
  },
  {
   "cell_type": "code",
   "execution_count": 4,
   "metadata": {},
   "outputs": [
    {
     "data": {
      "text/html": [
       "<div>\n",
       "<style scoped>\n",
       "    .dataframe tbody tr th:only-of-type {\n",
       "        vertical-align: middle;\n",
       "    }\n",
       "\n",
       "    .dataframe tbody tr th {\n",
       "        vertical-align: top;\n",
       "    }\n",
       "\n",
       "    .dataframe thead th {\n",
       "        text-align: right;\n",
       "    }\n",
       "</style>\n",
       "<table border=\"1\" class=\"dataframe\">\n",
       "  <thead>\n",
       "    <tr style=\"text-align: right;\">\n",
       "      <th></th>\n",
       "      <th>name</th>\n",
       "      <th>platform</th>\n",
       "      <th>year_of_release</th>\n",
       "      <th>genre</th>\n",
       "      <th>na_sales</th>\n",
       "      <th>eu_sales</th>\n",
       "      <th>jp_sales</th>\n",
       "      <th>other_sales</th>\n",
       "      <th>critic_score</th>\n",
       "      <th>user_score</th>\n",
       "      <th>rating</th>\n",
       "      <th>total_sales</th>\n",
       "    </tr>\n",
       "  </thead>\n",
       "  <tbody>\n",
       "    <tr>\n",
       "      <td>0</td>\n",
       "      <td>Wii Sports</td>\n",
       "      <td>Wii</td>\n",
       "      <td>2006</td>\n",
       "      <td>Sports</td>\n",
       "      <td>41.36</td>\n",
       "      <td>28.96</td>\n",
       "      <td>3.77</td>\n",
       "      <td>8.45</td>\n",
       "      <td>76.0</td>\n",
       "      <td>8.0</td>\n",
       "      <td>E</td>\n",
       "      <td>82.54</td>\n",
       "    </tr>\n",
       "    <tr>\n",
       "      <td>1</td>\n",
       "      <td>Super Mario Bros.</td>\n",
       "      <td>NES</td>\n",
       "      <td>1985</td>\n",
       "      <td>Platform</td>\n",
       "      <td>29.08</td>\n",
       "      <td>3.58</td>\n",
       "      <td>6.81</td>\n",
       "      <td>0.77</td>\n",
       "      <td>NaN</td>\n",
       "      <td>NaN</td>\n",
       "      <td>NaN</td>\n",
       "      <td>40.24</td>\n",
       "    </tr>\n",
       "    <tr>\n",
       "      <td>2</td>\n",
       "      <td>Mario Kart Wii</td>\n",
       "      <td>Wii</td>\n",
       "      <td>2008</td>\n",
       "      <td>Racing</td>\n",
       "      <td>15.68</td>\n",
       "      <td>12.76</td>\n",
       "      <td>3.79</td>\n",
       "      <td>3.29</td>\n",
       "      <td>82.0</td>\n",
       "      <td>8.3</td>\n",
       "      <td>E</td>\n",
       "      <td>35.52</td>\n",
       "    </tr>\n",
       "    <tr>\n",
       "      <td>3</td>\n",
       "      <td>Wii Sports Resort</td>\n",
       "      <td>Wii</td>\n",
       "      <td>2009</td>\n",
       "      <td>Sports</td>\n",
       "      <td>15.61</td>\n",
       "      <td>10.93</td>\n",
       "      <td>3.28</td>\n",
       "      <td>2.95</td>\n",
       "      <td>80.0</td>\n",
       "      <td>8.0</td>\n",
       "      <td>E</td>\n",
       "      <td>32.77</td>\n",
       "    </tr>\n",
       "    <tr>\n",
       "      <td>4</td>\n",
       "      <td>Pokemon Red/Pokemon Blue</td>\n",
       "      <td>GB</td>\n",
       "      <td>1996</td>\n",
       "      <td>Role-Playing</td>\n",
       "      <td>11.27</td>\n",
       "      <td>8.89</td>\n",
       "      <td>10.22</td>\n",
       "      <td>1.00</td>\n",
       "      <td>NaN</td>\n",
       "      <td>NaN</td>\n",
       "      <td>NaN</td>\n",
       "      <td>31.38</td>\n",
       "    </tr>\n",
       "    <tr>\n",
       "      <td>...</td>\n",
       "      <td>...</td>\n",
       "      <td>...</td>\n",
       "      <td>...</td>\n",
       "      <td>...</td>\n",
       "      <td>...</td>\n",
       "      <td>...</td>\n",
       "      <td>...</td>\n",
       "      <td>...</td>\n",
       "      <td>...</td>\n",
       "      <td>...</td>\n",
       "      <td>...</td>\n",
       "      <td>...</td>\n",
       "    </tr>\n",
       "    <tr>\n",
       "      <td>16710</td>\n",
       "      <td>Samurai Warriors: Sanada Maru</td>\n",
       "      <td>PS3</td>\n",
       "      <td>2016</td>\n",
       "      <td>Action</td>\n",
       "      <td>0.00</td>\n",
       "      <td>0.00</td>\n",
       "      <td>0.01</td>\n",
       "      <td>0.00</td>\n",
       "      <td>NaN</td>\n",
       "      <td>NaN</td>\n",
       "      <td>NaN</td>\n",
       "      <td>0.01</td>\n",
       "    </tr>\n",
       "    <tr>\n",
       "      <td>16711</td>\n",
       "      <td>LMA Manager 2007</td>\n",
       "      <td>X360</td>\n",
       "      <td>2006</td>\n",
       "      <td>Sports</td>\n",
       "      <td>0.00</td>\n",
       "      <td>0.01</td>\n",
       "      <td>0.00</td>\n",
       "      <td>0.00</td>\n",
       "      <td>NaN</td>\n",
       "      <td>NaN</td>\n",
       "      <td>NaN</td>\n",
       "      <td>0.01</td>\n",
       "    </tr>\n",
       "    <tr>\n",
       "      <td>16712</td>\n",
       "      <td>Haitaka no Psychedelica</td>\n",
       "      <td>PSV</td>\n",
       "      <td>2016</td>\n",
       "      <td>Adventure</td>\n",
       "      <td>0.00</td>\n",
       "      <td>0.00</td>\n",
       "      <td>0.01</td>\n",
       "      <td>0.00</td>\n",
       "      <td>NaN</td>\n",
       "      <td>NaN</td>\n",
       "      <td>NaN</td>\n",
       "      <td>0.01</td>\n",
       "    </tr>\n",
       "    <tr>\n",
       "      <td>16713</td>\n",
       "      <td>Spirits &amp; Spells</td>\n",
       "      <td>GBA</td>\n",
       "      <td>2003</td>\n",
       "      <td>Platform</td>\n",
       "      <td>0.01</td>\n",
       "      <td>0.00</td>\n",
       "      <td>0.00</td>\n",
       "      <td>0.00</td>\n",
       "      <td>NaN</td>\n",
       "      <td>NaN</td>\n",
       "      <td>NaN</td>\n",
       "      <td>0.01</td>\n",
       "    </tr>\n",
       "    <tr>\n",
       "      <td>16714</td>\n",
       "      <td>Winning Post 8 2016</td>\n",
       "      <td>PSV</td>\n",
       "      <td>2016</td>\n",
       "      <td>Simulation</td>\n",
       "      <td>0.00</td>\n",
       "      <td>0.00</td>\n",
       "      <td>0.01</td>\n",
       "      <td>0.00</td>\n",
       "      <td>NaN</td>\n",
       "      <td>NaN</td>\n",
       "      <td>NaN</td>\n",
       "      <td>0.01</td>\n",
       "    </tr>\n",
       "  </tbody>\n",
       "</table>\n",
       "<p>16444 rows × 12 columns</p>\n",
       "</div>"
      ],
      "text/plain": [
       "                                name platform  year_of_release         genre  \\\n",
       "0                         Wii Sports      Wii             2006        Sports   \n",
       "1                  Super Mario Bros.      NES             1985      Platform   \n",
       "2                     Mario Kart Wii      Wii             2008        Racing   \n",
       "3                  Wii Sports Resort      Wii             2009        Sports   \n",
       "4           Pokemon Red/Pokemon Blue       GB             1996  Role-Playing   \n",
       "...                              ...      ...              ...           ...   \n",
       "16710  Samurai Warriors: Sanada Maru      PS3             2016        Action   \n",
       "16711               LMA Manager 2007     X360             2006        Sports   \n",
       "16712        Haitaka no Psychedelica      PSV             2016     Adventure   \n",
       "16713               Spirits & Spells      GBA             2003      Platform   \n",
       "16714            Winning Post 8 2016      PSV             2016    Simulation   \n",
       "\n",
       "       na_sales  eu_sales  jp_sales  other_sales  critic_score  user_score  \\\n",
       "0         41.36     28.96      3.77         8.45          76.0         8.0   \n",
       "1         29.08      3.58      6.81         0.77           NaN         NaN   \n",
       "2         15.68     12.76      3.79         3.29          82.0         8.3   \n",
       "3         15.61     10.93      3.28         2.95          80.0         8.0   \n",
       "4         11.27      8.89     10.22         1.00           NaN         NaN   \n",
       "...         ...       ...       ...          ...           ...         ...   \n",
       "16710      0.00      0.00      0.01         0.00           NaN         NaN   \n",
       "16711      0.00      0.01      0.00         0.00           NaN         NaN   \n",
       "16712      0.00      0.00      0.01         0.00           NaN         NaN   \n",
       "16713      0.01      0.00      0.00         0.00           NaN         NaN   \n",
       "16714      0.00      0.00      0.01         0.00           NaN         NaN   \n",
       "\n",
       "      rating  total_sales  \n",
       "0          E        82.54  \n",
       "1        NaN        40.24  \n",
       "2          E        35.52  \n",
       "3          E        32.77  \n",
       "4        NaN        31.38  \n",
       "...      ...          ...  \n",
       "16710    NaN         0.01  \n",
       "16711    NaN         0.01  \n",
       "16712    NaN         0.01  \n",
       "16713    NaN         0.01  \n",
       "16714    NaN         0.01  \n",
       "\n",
       "[16444 rows x 12 columns]"
      ]
     },
     "execution_count": 4,
     "metadata": {},
     "output_type": "execute_result"
    }
   ],
   "source": [
    "df['total_sales'] = df['na_sales'] + df['eu_sales'] + df['jp_sales'] + df['other_sales']\n",
    "#df.sample(15)\n",
    "df"
   ]
  },
  {
   "cell_type": "markdown",
   "metadata": {},
   "source": [
    "Создадим столбец с суммарными продажами по всем регионам."
   ]
  },
  {
   "cell_type": "markdown",
   "metadata": {},
   "source": [
    "### Анализ данных"
   ]
  },
  {
   "cell_type": "markdown",
   "metadata": {},
   "source": [
    "#### Изучим количество выпущенных игр по годам"
   ]
  },
  {
   "cell_type": "code",
   "execution_count": 5,
   "metadata": {},
   "outputs": [
    {
     "data": {
      "text/plain": [
       "<matplotlib.axes._subplots.AxesSubplot at 0x7fdac34179d0>"
      ]
     },
     "execution_count": 5,
     "metadata": {},
     "output_type": "execute_result"
    },
    {
     "data": {
      "image/png": "[encoded data removed]",
      "text/plain": [
       "<Figure size 1080x720 with 1 Axes>"
      ]
     },
     "metadata": {
      "needs_background": "light"
     },
     "output_type": "display_data"
    }
   ],
   "source": [
    "df.groupby('year_of_release')['name'].count().plot(kind='barh',  figsize=(15,10))\n"
   ]
  },
  {
   "cell_type": "markdown",
   "metadata": {},
   "source": [
    "Начиная 1994 года количество игр, выпущенных за год, постоянно растет, вплоть 2008 года, после чего начинает идти на спад. Возможно причиной остановки роста стал мировой экономический кризис 2008 года, к тому же с каждым годом игры становятся все сложнее, чтобы угнаться за техническим прогрессом и удивлять искушенную публику, у которой за десятилетия уже накопилось достаточное количество игр (акуммулятотивный эффект).\n",
    "А возможно причиной стал выход первого Айфона и начавшаяся конкуренция с Андроидом, усилившая рост рынка мобильных игр, и вызвавшая отток денежных средств пользователей игровых консолей. \n",
    "Данные 80-х и 90-х годов, вряд ли, пригодятся для исследования, так как современные игры сильно отличаются от игр тех лет, ввиду технического прогресса."
   ]
  },
  {
   "cell_type": "markdown",
   "metadata": {},
   "source": [
    "#### Посмотри у каких игровых платформ больше всего продаж"
   ]
  },
  {
   "cell_type": "code",
   "execution_count": 6,
   "metadata": {},
   "outputs": [
    {
     "data": {
      "text/plain": [
       "<matplotlib.axes._subplots.AxesSubplot at 0x7fdabb3700d0>"
      ]
     },
     "execution_count": 6,
     "metadata": {},
     "output_type": "execute_result"
    },
    {
     "data": {
      "image/png": "[encoded data removed]",
      "text/plain": [
       "<Figure size 1080x720 with 1 Axes>"
      ]
     },
     "metadata": {
      "needs_background": "light"
     },
     "output_type": "display_data"
    }
   ],
   "source": [
    "df.groupby('platform')['total_sales'].sum().sort_values(ascending=False)\n",
    "df.groupby('platform')['total_sales'].sum().sort_values(ascending=True).plot(kind='barh', y='total_sales', figsize=(15,10))"
   ]
  },
  {
   "cell_type": "markdown",
   "metadata": {},
   "source": [
    "Лидеры по продажам: PS2, X360, PS3, Wii, DS и PS, две следующие по рейтингу продаж консоли PS4 и GBA. Game Boy можно не добавлять в исследование, как достаточно старую, а PS4, оставим."
   ]
  },
  {
   "cell_type": "code",
   "execution_count": 7,
   "metadata": {},
   "outputs": [
    {
     "data": {
      "text/html": [
       "<div>\n",
       "<style scoped>\n",
       "    .dataframe tbody tr th:only-of-type {\n",
       "        vertical-align: middle;\n",
       "    }\n",
       "\n",
       "    .dataframe tbody tr th {\n",
       "        vertical-align: top;\n",
       "    }\n",
       "\n",
       "    .dataframe thead th {\n",
       "        text-align: right;\n",
       "    }\n",
       "</style>\n",
       "<table border=\"1\" class=\"dataframe\">\n",
       "  <thead>\n",
       "    <tr style=\"text-align: right;\">\n",
       "      <th></th>\n",
       "      <th>name</th>\n",
       "      <th>platform</th>\n",
       "      <th>year_of_release</th>\n",
       "      <th>genre</th>\n",
       "      <th>na_sales</th>\n",
       "      <th>eu_sales</th>\n",
       "      <th>jp_sales</th>\n",
       "      <th>other_sales</th>\n",
       "      <th>critic_score</th>\n",
       "      <th>user_score</th>\n",
       "      <th>rating</th>\n",
       "      <th>total_sales</th>\n",
       "    </tr>\n",
       "  </thead>\n",
       "  <tbody>\n",
       "    <tr>\n",
       "      <td>0</td>\n",
       "      <td>Wii Sports</td>\n",
       "      <td>Wii</td>\n",
       "      <td>2006</td>\n",
       "      <td>Sports</td>\n",
       "      <td>41.36</td>\n",
       "      <td>28.96</td>\n",
       "      <td>3.77</td>\n",
       "      <td>8.45</td>\n",
       "      <td>76.0</td>\n",
       "      <td>8.0</td>\n",
       "      <td>E</td>\n",
       "      <td>82.54</td>\n",
       "    </tr>\n",
       "    <tr>\n",
       "      <td>2</td>\n",
       "      <td>Mario Kart Wii</td>\n",
       "      <td>Wii</td>\n",
       "      <td>2008</td>\n",
       "      <td>Racing</td>\n",
       "      <td>15.68</td>\n",
       "      <td>12.76</td>\n",
       "      <td>3.79</td>\n",
       "      <td>3.29</td>\n",
       "      <td>82.0</td>\n",
       "      <td>8.3</td>\n",
       "      <td>E</td>\n",
       "      <td>35.52</td>\n",
       "    </tr>\n",
       "    <tr>\n",
       "      <td>3</td>\n",
       "      <td>Wii Sports Resort</td>\n",
       "      <td>Wii</td>\n",
       "      <td>2009</td>\n",
       "      <td>Sports</td>\n",
       "      <td>15.61</td>\n",
       "      <td>10.93</td>\n",
       "      <td>3.28</td>\n",
       "      <td>2.95</td>\n",
       "      <td>80.0</td>\n",
       "      <td>8.0</td>\n",
       "      <td>E</td>\n",
       "      <td>32.77</td>\n",
       "    </tr>\n",
       "    <tr>\n",
       "      <td>6</td>\n",
       "      <td>New Super Mario Bros.</td>\n",
       "      <td>DS</td>\n",
       "      <td>2006</td>\n",
       "      <td>Platform</td>\n",
       "      <td>11.28</td>\n",
       "      <td>9.14</td>\n",
       "      <td>6.50</td>\n",
       "      <td>2.88</td>\n",
       "      <td>89.0</td>\n",
       "      <td>8.5</td>\n",
       "      <td>E</td>\n",
       "      <td>29.80</td>\n",
       "    </tr>\n",
       "    <tr>\n",
       "      <td>7</td>\n",
       "      <td>Wii Play</td>\n",
       "      <td>Wii</td>\n",
       "      <td>2006</td>\n",
       "      <td>Misc</td>\n",
       "      <td>13.96</td>\n",
       "      <td>9.18</td>\n",
       "      <td>2.93</td>\n",
       "      <td>2.84</td>\n",
       "      <td>58.0</td>\n",
       "      <td>6.6</td>\n",
       "      <td>E</td>\n",
       "      <td>28.91</td>\n",
       "    </tr>\n",
       "    <tr>\n",
       "      <td>...</td>\n",
       "      <td>...</td>\n",
       "      <td>...</td>\n",
       "      <td>...</td>\n",
       "      <td>...</td>\n",
       "      <td>...</td>\n",
       "      <td>...</td>\n",
       "      <td>...</td>\n",
       "      <td>...</td>\n",
       "      <td>...</td>\n",
       "      <td>...</td>\n",
       "      <td>...</td>\n",
       "      <td>...</td>\n",
       "    </tr>\n",
       "    <tr>\n",
       "      <td>16700</td>\n",
       "      <td>Mezase!! Tsuri Master DS</td>\n",
       "      <td>DS</td>\n",
       "      <td>2009</td>\n",
       "      <td>Sports</td>\n",
       "      <td>0.00</td>\n",
       "      <td>0.00</td>\n",
       "      <td>0.01</td>\n",
       "      <td>0.00</td>\n",
       "      <td>NaN</td>\n",
       "      <td>NaN</td>\n",
       "      <td>NaN</td>\n",
       "      <td>0.01</td>\n",
       "    </tr>\n",
       "    <tr>\n",
       "      <td>16704</td>\n",
       "      <td>Plushees</td>\n",
       "      <td>DS</td>\n",
       "      <td>2008</td>\n",
       "      <td>Simulation</td>\n",
       "      <td>0.01</td>\n",
       "      <td>0.00</td>\n",
       "      <td>0.00</td>\n",
       "      <td>0.00</td>\n",
       "      <td>NaN</td>\n",
       "      <td>NaN</td>\n",
       "      <td>E</td>\n",
       "      <td>0.01</td>\n",
       "    </tr>\n",
       "    <tr>\n",
       "      <td>16709</td>\n",
       "      <td>SCORE International Baja 1000: The Official Game</td>\n",
       "      <td>PS2</td>\n",
       "      <td>2008</td>\n",
       "      <td>Racing</td>\n",
       "      <td>0.00</td>\n",
       "      <td>0.00</td>\n",
       "      <td>0.00</td>\n",
       "      <td>0.00</td>\n",
       "      <td>NaN</td>\n",
       "      <td>NaN</td>\n",
       "      <td>NaN</td>\n",
       "      <td>0.00</td>\n",
       "    </tr>\n",
       "    <tr>\n",
       "      <td>16710</td>\n",
       "      <td>Samurai Warriors: Sanada Maru</td>\n",
       "      <td>PS3</td>\n",
       "      <td>2016</td>\n",
       "      <td>Action</td>\n",
       "      <td>0.00</td>\n",
       "      <td>0.00</td>\n",
       "      <td>0.01</td>\n",
       "      <td>0.00</td>\n",
       "      <td>NaN</td>\n",
       "      <td>NaN</td>\n",
       "      <td>NaN</td>\n",
       "      <td>0.01</td>\n",
       "    </tr>\n",
       "    <tr>\n",
       "      <td>16711</td>\n",
       "      <td>LMA Manager 2007</td>\n",
       "      <td>X360</td>\n",
       "      <td>2006</td>\n",
       "      <td>Sports</td>\n",
       "      <td>0.00</td>\n",
       "      <td>0.01</td>\n",
       "      <td>0.00</td>\n",
       "      <td>0.00</td>\n",
       "      <td>NaN</td>\n",
       "      <td>NaN</td>\n",
       "      <td>NaN</td>\n",
       "      <td>0.01</td>\n",
       "    </tr>\n",
       "  </tbody>\n",
       "</table>\n",
       "<p>9654 rows × 12 columns</p>\n",
       "</div>"
      ],
      "text/plain": [
       "                                                   name platform  \\\n",
       "0                                            Wii Sports      Wii   \n",
       "2                                        Mario Kart Wii      Wii   \n",
       "3                                     Wii Sports Resort      Wii   \n",
       "6                                 New Super Mario Bros.       DS   \n",
       "7                                              Wii Play      Wii   \n",
       "...                                                 ...      ...   \n",
       "16700                          Mezase!! Tsuri Master DS       DS   \n",
       "16704                                          Plushees       DS   \n",
       "16709  SCORE International Baja 1000: The Official Game      PS2   \n",
       "16710                     Samurai Warriors: Sanada Maru      PS3   \n",
       "16711                                  LMA Manager 2007     X360   \n",
       "\n",
       "       year_of_release       genre  na_sales  eu_sales  jp_sales  other_sales  \\\n",
       "0                 2006      Sports     41.36     28.96      3.77         8.45   \n",
       "2                 2008      Racing     15.68     12.76      3.79         3.29   \n",
       "3                 2009      Sports     15.61     10.93      3.28         2.95   \n",
       "6                 2006    Platform     11.28      9.14      6.50         2.88   \n",
       "7                 2006        Misc     13.96      9.18      2.93         2.84   \n",
       "...                ...         ...       ...       ...       ...          ...   \n",
       "16700             2009      Sports      0.00      0.00      0.01         0.00   \n",
       "16704             2008  Simulation      0.01      0.00      0.00         0.00   \n",
       "16709             2008      Racing      0.00      0.00      0.00         0.00   \n",
       "16710             2016      Action      0.00      0.00      0.01         0.00   \n",
       "16711             2006      Sports      0.00      0.01      0.00         0.00   \n",
       "\n",
       "       critic_score  user_score rating  total_sales  \n",
       "0              76.0         8.0      E        82.54  \n",
       "2              82.0         8.3      E        35.52  \n",
       "3              80.0         8.0      E        32.77  \n",
       "6              89.0         8.5      E        29.80  \n",
       "7              58.0         6.6      E        28.91  \n",
       "...             ...         ...    ...          ...  \n",
       "16700           NaN         NaN    NaN         0.01  \n",
       "16704           NaN         NaN      E         0.01  \n",
       "16709           NaN         NaN    NaN         0.00  \n",
       "16710           NaN         NaN    NaN         0.01  \n",
       "16711           NaN         NaN    NaN         0.01  \n",
       "\n",
       "[9654 rows x 12 columns]"
      ]
     },
     "execution_count": 7,
     "metadata": {},
     "output_type": "execute_result"
    }
   ],
   "source": [
    "our_list = ['PS2', 'X360', 'PS3', 'Wii', 'DS', 'PS', 'PS4']\n",
    "best_platform = df.query('platform in @our_list')\n",
    "best_platform"
   ]
  },
  {
   "cell_type": "code",
   "execution_count": 8,
   "metadata": {},
   "outputs": [
    {
     "data": {
      "text/html": [
       "<div>\n",
       "<style scoped>\n",
       "    .dataframe tbody tr th:only-of-type {\n",
       "        vertical-align: middle;\n",
       "    }\n",
       "\n",
       "    .dataframe tbody tr th {\n",
       "        vertical-align: top;\n",
       "    }\n",
       "\n",
       "    .dataframe thead th {\n",
       "        text-align: right;\n",
       "    }\n",
       "</style>\n",
       "<table border=\"1\" class=\"dataframe\">\n",
       "  <thead>\n",
       "    <tr style=\"text-align: right;\">\n",
       "      <th></th>\n",
       "      <th>PS2</th>\n",
       "      <th>X360</th>\n",
       "      <th>PS3</th>\n",
       "      <th>Wii</th>\n",
       "      <th>DS</th>\n",
       "      <th>PS</th>\n",
       "      <th>PS4</th>\n",
       "    </tr>\n",
       "    <tr>\n",
       "      <th>year_of_release</th>\n",
       "      <th></th>\n",
       "      <th></th>\n",
       "      <th></th>\n",
       "      <th></th>\n",
       "      <th></th>\n",
       "      <th></th>\n",
       "      <th></th>\n",
       "    </tr>\n",
       "  </thead>\n",
       "  <tbody>\n",
       "    <tr>\n",
       "      <td>1985</td>\n",
       "      <td>0.02</td>\n",
       "      <td>NaN</td>\n",
       "      <td>NaN</td>\n",
       "      <td>NaN</td>\n",
       "      <td>NaN</td>\n",
       "      <td>NaN</td>\n",
       "      <td>NaN</td>\n",
       "    </tr>\n",
       "    <tr>\n",
       "      <td>1994</td>\n",
       "      <td>NaN</td>\n",
       "      <td>6.03</td>\n",
       "      <td>NaN</td>\n",
       "      <td>NaN</td>\n",
       "      <td>NaN</td>\n",
       "      <td>NaN</td>\n",
       "      <td>NaN</td>\n",
       "    </tr>\n",
       "    <tr>\n",
       "      <td>1995</td>\n",
       "      <td>NaN</td>\n",
       "      <td>35.96</td>\n",
       "      <td>NaN</td>\n",
       "      <td>NaN</td>\n",
       "      <td>NaN</td>\n",
       "      <td>NaN</td>\n",
       "      <td>NaN</td>\n",
       "    </tr>\n",
       "    <tr>\n",
       "      <td>1996</td>\n",
       "      <td>NaN</td>\n",
       "      <td>94.70</td>\n",
       "      <td>NaN</td>\n",
       "      <td>NaN</td>\n",
       "      <td>NaN</td>\n",
       "      <td>NaN</td>\n",
       "      <td>NaN</td>\n",
       "    </tr>\n",
       "    <tr>\n",
       "      <td>1997</td>\n",
       "      <td>NaN</td>\n",
       "      <td>136.17</td>\n",
       "      <td>NaN</td>\n",
       "      <td>NaN</td>\n",
       "      <td>NaN</td>\n",
       "      <td>NaN</td>\n",
       "      <td>NaN</td>\n",
       "    </tr>\n",
       "    <tr>\n",
       "      <td>1998</td>\n",
       "      <td>NaN</td>\n",
       "      <td>169.49</td>\n",
       "      <td>NaN</td>\n",
       "      <td>NaN</td>\n",
       "      <td>NaN</td>\n",
       "      <td>NaN</td>\n",
       "      <td>NaN</td>\n",
       "    </tr>\n",
       "    <tr>\n",
       "      <td>1999</td>\n",
       "      <td>NaN</td>\n",
       "      <td>144.53</td>\n",
       "      <td>NaN</td>\n",
       "      <td>NaN</td>\n",
       "      <td>NaN</td>\n",
       "      <td>NaN</td>\n",
       "      <td>NaN</td>\n",
       "    </tr>\n",
       "    <tr>\n",
       "      <td>2000</td>\n",
       "      <td>NaN</td>\n",
       "      <td>96.37</td>\n",
       "      <td>39.17</td>\n",
       "      <td>NaN</td>\n",
       "      <td>NaN</td>\n",
       "      <td>NaN</td>\n",
       "      <td>NaN</td>\n",
       "    </tr>\n",
       "    <tr>\n",
       "      <td>2001</td>\n",
       "      <td>NaN</td>\n",
       "      <td>35.59</td>\n",
       "      <td>166.43</td>\n",
       "      <td>NaN</td>\n",
       "      <td>NaN</td>\n",
       "      <td>NaN</td>\n",
       "      <td>NaN</td>\n",
       "    </tr>\n",
       "    <tr>\n",
       "      <td>2002</td>\n",
       "      <td>NaN</td>\n",
       "      <td>6.67</td>\n",
       "      <td>205.38</td>\n",
       "      <td>NaN</td>\n",
       "      <td>NaN</td>\n",
       "      <td>NaN</td>\n",
       "      <td>NaN</td>\n",
       "    </tr>\n",
       "    <tr>\n",
       "      <td>2003</td>\n",
       "      <td>NaN</td>\n",
       "      <td>2.07</td>\n",
       "      <td>184.31</td>\n",
       "      <td>NaN</td>\n",
       "      <td>NaN</td>\n",
       "      <td>NaN</td>\n",
       "      <td>NaN</td>\n",
       "    </tr>\n",
       "    <tr>\n",
       "      <td>2004</td>\n",
       "      <td>17.27</td>\n",
       "      <td>NaN</td>\n",
       "      <td>211.81</td>\n",
       "      <td>NaN</td>\n",
       "      <td>NaN</td>\n",
       "      <td>NaN</td>\n",
       "      <td>NaN</td>\n",
       "    </tr>\n",
       "    <tr>\n",
       "      <td>2005</td>\n",
       "      <td>130.14</td>\n",
       "      <td>NaN</td>\n",
       "      <td>160.66</td>\n",
       "      <td>NaN</td>\n",
       "      <td>NaN</td>\n",
       "      <td>NaN</td>\n",
       "      <td>8.25</td>\n",
       "    </tr>\n",
       "    <tr>\n",
       "      <td>2006</td>\n",
       "      <td>119.81</td>\n",
       "      <td>NaN</td>\n",
       "      <td>103.42</td>\n",
       "      <td>20.96</td>\n",
       "      <td>NaN</td>\n",
       "      <td>137.15</td>\n",
       "      <td>51.62</td>\n",
       "    </tr>\n",
       "    <tr>\n",
       "      <td>2007</td>\n",
       "      <td>146.94</td>\n",
       "      <td>NaN</td>\n",
       "      <td>75.99</td>\n",
       "      <td>73.19</td>\n",
       "      <td>NaN</td>\n",
       "      <td>152.77</td>\n",
       "      <td>95.41</td>\n",
       "    </tr>\n",
       "    <tr>\n",
       "      <td>2008</td>\n",
       "      <td>145.31</td>\n",
       "      <td>NaN</td>\n",
       "      <td>53.90</td>\n",
       "      <td>118.52</td>\n",
       "      <td>NaN</td>\n",
       "      <td>171.32</td>\n",
       "      <td>135.26</td>\n",
       "    </tr>\n",
       "    <tr>\n",
       "      <td>2009</td>\n",
       "      <td>119.54</td>\n",
       "      <td>NaN</td>\n",
       "      <td>26.40</td>\n",
       "      <td>130.93</td>\n",
       "      <td>NaN</td>\n",
       "      <td>206.97</td>\n",
       "      <td>120.29</td>\n",
       "    </tr>\n",
       "    <tr>\n",
       "      <td>2010</td>\n",
       "      <td>85.02</td>\n",
       "      <td>NaN</td>\n",
       "      <td>5.64</td>\n",
       "      <td>142.17</td>\n",
       "      <td>NaN</td>\n",
       "      <td>127.95</td>\n",
       "      <td>170.03</td>\n",
       "    </tr>\n",
       "    <tr>\n",
       "      <td>2011</td>\n",
       "      <td>26.18</td>\n",
       "      <td>NaN</td>\n",
       "      <td>0.45</td>\n",
       "      <td>156.78</td>\n",
       "      <td>NaN</td>\n",
       "      <td>59.65</td>\n",
       "      <td>143.84</td>\n",
       "    </tr>\n",
       "    <tr>\n",
       "      <td>2012</td>\n",
       "      <td>11.01</td>\n",
       "      <td>NaN</td>\n",
       "      <td>NaN</td>\n",
       "      <td>107.36</td>\n",
       "      <td>NaN</td>\n",
       "      <td>21.71</td>\n",
       "      <td>99.74</td>\n",
       "    </tr>\n",
       "    <tr>\n",
       "      <td>2013</td>\n",
       "      <td>1.54</td>\n",
       "      <td>NaN</td>\n",
       "      <td>NaN</td>\n",
       "      <td>113.25</td>\n",
       "      <td>25.99</td>\n",
       "      <td>8.59</td>\n",
       "      <td>88.58</td>\n",
       "    </tr>\n",
       "    <tr>\n",
       "      <td>2014</td>\n",
       "      <td>NaN</td>\n",
       "      <td>NaN</td>\n",
       "      <td>NaN</td>\n",
       "      <td>47.76</td>\n",
       "      <td>100.00</td>\n",
       "      <td>3.75</td>\n",
       "      <td>34.74</td>\n",
       "    </tr>\n",
       "    <tr>\n",
       "      <td>2015</td>\n",
       "      <td>NaN</td>\n",
       "      <td>NaN</td>\n",
       "      <td>NaN</td>\n",
       "      <td>16.82</td>\n",
       "      <td>118.90</td>\n",
       "      <td>1.14</td>\n",
       "      <td>11.96</td>\n",
       "    </tr>\n",
       "    <tr>\n",
       "      <td>2016</td>\n",
       "      <td>NaN</td>\n",
       "      <td>NaN</td>\n",
       "      <td>NaN</td>\n",
       "      <td>3.60</td>\n",
       "      <td>69.25</td>\n",
       "      <td>0.18</td>\n",
       "      <td>1.52</td>\n",
       "    </tr>\n",
       "  </tbody>\n",
       "</table>\n",
       "</div>"
      ],
      "text/plain": [
       "                    PS2    X360     PS3     Wii      DS      PS     PS4\n",
       "year_of_release                                                        \n",
       "1985               0.02     NaN     NaN     NaN     NaN     NaN     NaN\n",
       "1994                NaN    6.03     NaN     NaN     NaN     NaN     NaN\n",
       "1995                NaN   35.96     NaN     NaN     NaN     NaN     NaN\n",
       "1996                NaN   94.70     NaN     NaN     NaN     NaN     NaN\n",
       "1997                NaN  136.17     NaN     NaN     NaN     NaN     NaN\n",
       "1998                NaN  169.49     NaN     NaN     NaN     NaN     NaN\n",
       "1999                NaN  144.53     NaN     NaN     NaN     NaN     NaN\n",
       "2000                NaN   96.37   39.17     NaN     NaN     NaN     NaN\n",
       "2001                NaN   35.59  166.43     NaN     NaN     NaN     NaN\n",
       "2002                NaN    6.67  205.38     NaN     NaN     NaN     NaN\n",
       "2003                NaN    2.07  184.31     NaN     NaN     NaN     NaN\n",
       "2004              17.27     NaN  211.81     NaN     NaN     NaN     NaN\n",
       "2005             130.14     NaN  160.66     NaN     NaN     NaN    8.25\n",
       "2006             119.81     NaN  103.42   20.96     NaN  137.15   51.62\n",
       "2007             146.94     NaN   75.99   73.19     NaN  152.77   95.41\n",
       "2008             145.31     NaN   53.90  118.52     NaN  171.32  135.26\n",
       "2009             119.54     NaN   26.40  130.93     NaN  206.97  120.29\n",
       "2010              85.02     NaN    5.64  142.17     NaN  127.95  170.03\n",
       "2011              26.18     NaN    0.45  156.78     NaN   59.65  143.84\n",
       "2012              11.01     NaN     NaN  107.36     NaN   21.71   99.74\n",
       "2013               1.54     NaN     NaN  113.25   25.99    8.59   88.58\n",
       "2014                NaN     NaN     NaN   47.76  100.00    3.75   34.74\n",
       "2015                NaN     NaN     NaN   16.82  118.90    1.14   11.96\n",
       "2016                NaN     NaN     NaN    3.60   69.25    0.18    1.52"
      ]
     },
     "execution_count": 8,
     "metadata": {},
     "output_type": "execute_result"
    }
   ],
   "source": [
    "top_platform = best_platform.pivot_table(\n",
    "                                index='year_of_release', columns = 'platform',\n",
    "                                values = 'total_sales', \n",
    "                                aggfunc = ['sum']\n",
    ")\n",
    "top_platform.columns = ['PS2', 'X360', 'PS3', 'Wii', 'DS', 'PS', 'PS4']\n",
    "top_platform\n"
   ]
  },
  {
   "cell_type": "code",
   "execution_count": 9,
   "metadata": {},
   "outputs": [
    {
     "data": {
      "text/plain": [
       "Text(0.5, 1.0, 'Продажи лучших платформ по годам')"
      ]
     },
     "execution_count": 9,
     "metadata": {},
     "output_type": "execute_result"
    },
    {
     "data": {
      "image/png": "[encoded data removed]",
      "text/plain": [
       "<Figure size 720x360 with 1 Axes>"
      ]
     },
     "metadata": {
      "needs_background": "light"
     },
     "output_type": "display_data"
    }
   ],
   "source": [
    "top_platform.plot(\n",
    "    kind='line', \n",
    "    xlim=(1994, 2017), \n",
    "    figsize=(10,5), \n",
    "    grid=True\n",
    ")\n",
    "\n",
    "plt.title('Продажи лучших платформ по годам')"
   ]
  },
  {
   "cell_type": "markdown",
   "metadata": {},
   "source": [
    "Судя по графику, средний \"срок жизни\" игровой платформы 9 лет. Все платформы-лидеры идут на спад по продажам и находятся на излете своего \"жизненного цикла\", кроме PS4.  Возьмем за __актуальный период__ годы с 2013 по 2016, период активности PS4 и посмотрим какие еще платформы проявляют активность, но еще не успели войти в топ по продажам."
   ]
  },
  {
   "cell_type": "code",
   "execution_count": 10,
   "metadata": {},
   "outputs": [
    {
     "data": {
      "text/plain": [
       "Text(0.5, 1.0, 'Продажи всех платформ в актуальный период')"
      ]
     },
     "execution_count": 10,
     "metadata": {},
     "output_type": "execute_result"
    },
    {
     "data": {
      "image/png": "[encoded data removed]",
      "text/plain": [
       "<Figure size 720x720 with 1 Axes>"
      ]
     },
     "metadata": {
      "needs_background": "light"
     },
     "output_type": "display_data"
    }
   ],
   "source": [
    "actual_data = df.query('year_of_release >= 2013')\n",
    "actual_pivot = actual_data.pivot_table(\n",
    "                                index='year_of_release', columns = 'platform',\n",
    "                                values = 'total_sales', \n",
    "                                aggfunc = ['sum']\n",
    ")\n",
    "actual_pivot.columns = ['3DS', 'DS', 'PC', 'PS3', 'PS4', 'PSP', 'PSV', 'Wii', 'WiiU', 'X360', 'XOne']\n",
    "\n",
    "actual_pivot.plot(\n",
    "    kind='line', \n",
    "    xlim=(2013, 2017), \n",
    "    figsize=(10,10), \n",
    "    grid=True\n",
    ")\n",
    "\n",
    "plt.title('Продажи всех платформ в актуальный период')\n"
   ]
  },
  {
   "cell_type": "markdown",
   "metadata": {},
   "source": [
    "Судя по графику, где представлены все игровые платформы, видно, что помимо PlayStation 4 есть еще одна платформа, которая появилась недавно и еще активна - это Xbox One (поскольку данные за 2016 год могут быть не полными, спад линии графика не должен смущать, продажи еще смогут подняться до конца года)."
   ]
  },
  {
   "cell_type": "code",
   "execution_count": 11,
   "metadata": {},
   "outputs": [
    {
     "data": {
      "text/html": [
       "<div>\n",
       "<style scoped>\n",
       "    .dataframe tbody tr th:only-of-type {\n",
       "        vertical-align: middle;\n",
       "    }\n",
       "\n",
       "    .dataframe tbody tr th {\n",
       "        vertical-align: top;\n",
       "    }\n",
       "\n",
       "    .dataframe thead th {\n",
       "        text-align: right;\n",
       "    }\n",
       "</style>\n",
       "<table border=\"1\" class=\"dataframe\">\n",
       "  <thead>\n",
       "    <tr style=\"text-align: right;\">\n",
       "      <th>platform</th>\n",
       "      <th>3DS</th>\n",
       "      <th>DS</th>\n",
       "      <th>PC</th>\n",
       "      <th>PS3</th>\n",
       "      <th>PS4</th>\n",
       "      <th>PSP</th>\n",
       "      <th>PSV</th>\n",
       "      <th>Wii</th>\n",
       "      <th>WiiU</th>\n",
       "      <th>X360</th>\n",
       "      <th>XOne</th>\n",
       "    </tr>\n",
       "    <tr>\n",
       "      <th>year_of_release</th>\n",
       "      <th></th>\n",
       "      <th></th>\n",
       "      <th></th>\n",
       "      <th></th>\n",
       "      <th></th>\n",
       "      <th></th>\n",
       "      <th></th>\n",
       "      <th></th>\n",
       "      <th></th>\n",
       "      <th></th>\n",
       "      <th></th>\n",
       "    </tr>\n",
       "  </thead>\n",
       "  <tbody>\n",
       "    <tr>\n",
       "      <td>2015</td>\n",
       "      <td>27.78</td>\n",
       "      <td>NaN</td>\n",
       "      <td>8.52</td>\n",
       "      <td>16.82</td>\n",
       "      <td>118.90</td>\n",
       "      <td>0.12</td>\n",
       "      <td>6.25</td>\n",
       "      <td>1.14</td>\n",
       "      <td>16.35</td>\n",
       "      <td>11.96</td>\n",
       "      <td>60.14</td>\n",
       "    </tr>\n",
       "    <tr>\n",
       "      <td>2016</td>\n",
       "      <td>15.14</td>\n",
       "      <td>NaN</td>\n",
       "      <td>5.25</td>\n",
       "      <td>3.60</td>\n",
       "      <td>69.25</td>\n",
       "      <td>NaN</td>\n",
       "      <td>4.25</td>\n",
       "      <td>0.18</td>\n",
       "      <td>4.60</td>\n",
       "      <td>1.52</td>\n",
       "      <td>26.15</td>\n",
       "    </tr>\n",
       "  </tbody>\n",
       "</table>\n",
       "</div>"
      ],
      "text/plain": [
       "platform           3DS  DS    PC    PS3     PS4   PSP   PSV   Wii   WiiU  \\\n",
       "year_of_release                                                            \n",
       "2015             27.78 NaN  8.52  16.82  118.90  0.12  6.25  1.14  16.35   \n",
       "2016             15.14 NaN  5.25   3.60   69.25   NaN  4.25  0.18   4.60   \n",
       "\n",
       "platform          X360   XOne  \n",
       "year_of_release                \n",
       "2015             11.96  60.14  \n",
       "2016              1.52  26.15  "
      ]
     },
     "execution_count": 11,
     "metadata": {},
     "output_type": "execute_result"
    }
   ],
   "source": [
    "actual_data.pivot_table(index='year_of_release', columns='platform', values='total_sales', aggfunc='sum').loc[[2015, 2016]]"
   ]
  },
  {
   "cell_type": "code",
   "execution_count": 12,
   "metadata": {},
   "outputs": [
    {
     "data": {
      "image/png": "[encoded data removed]",
      "text/plain": [
       "<Figure size 720x504 with 1 Axes>"
      ]
     },
     "metadata": {
      "needs_background": "light"
     },
     "output_type": "display_data"
    }
   ],
   "source": [
    "import warnings\n",
    "warnings.filterwarnings('ignore')\n",
    "\n",
    "actual_pivot.boxplot(figsize=(10,7))\n",
    "plt.show()\n"
   ]
  },
  {
   "cell_type": "code",
   "execution_count": 13,
   "metadata": {},
   "outputs": [
    {
     "data": {
      "text/plain": [
       "(0, 3)"
      ]
     },
     "execution_count": 13,
     "metadata": {},
     "output_type": "execute_result"
    },
    {
     "data": {
      "image/png": "[encoded data removed]",
      "text/plain": [
       "<Figure size 864x504 with 1 Axes>"
      ]
     },
     "metadata": {
      "needs_background": "light"
     },
     "output_type": "display_data"
    }
   ],
   "source": [
    "import warnings\n",
    "warnings.filterwarnings('ignore')\n",
    "\n",
    "actual_data.boxplot('total_sales', by='platform', figsize=(12,7))\n",
    "plt.ylim(0,3)"
   ]
  },
  {
   "cell_type": "markdown",
   "metadata": {},
   "source": [
    "Судя по ящикам с усами, в актуальном периоде PS4 лидирует по продажам, Xbox One ей сильно уступает, у их предыдущих поколений (PS3 и X360) медианы опускаются. Близка по показателям к Xbox One платформа Nintendo 3DS."
   ]
  },
  {
   "cell_type": "markdown",
   "metadata": {},
   "source": [
    "#### Диаграмма рассеивания и корреляция для PS4\n",
    "Построим диаграмму рассеяния и посчитаем корреляцию между отзывами и продажами PS4. "
   ]
  },
  {
   "cell_type": "code",
   "execution_count": 14,
   "metadata": {},
   "outputs": [
    {
     "data": {
      "text/plain": [
       "0.4035729107357781"
      ]
     },
     "execution_count": 14,
     "metadata": {},
     "output_type": "execute_result"
    },
    {
     "data": {
      "image/png": "[encoded data removed]",
      "text/plain": [
       "<Figure size 1080x576 with 1 Axes>"
      ]
     },
     "metadata": {
      "needs_background": "light"
     },
     "output_type": "display_data"
    }
   ],
   "source": [
    "PS4 = df.query('platform == \"PS4\"').dropna()\n",
    "PS4.plot(x='critic_score', y='total_sales', kind='scatter', figsize=(15, 8), sharex=False, grid=True)\n",
    "PS4['critic_score'].corr(PS4['total_sales'])"
   ]
  },
  {
   "cell_type": "code",
   "execution_count": 15,
   "metadata": {},
   "outputs": [
    {
     "data": {
      "text/plain": [
       "-0.03088781296873357"
      ]
     },
     "execution_count": 15,
     "metadata": {},
     "output_type": "execute_result"
    },
    {
     "data": {
      "image/png": "[encoded data removed]",
      "text/plain": [
       "<Figure size 1080x576 with 1 Axes>"
      ]
     },
     "metadata": {
      "needs_background": "light"
     },
     "output_type": "display_data"
    }
   ],
   "source": [
    "PS4.plot(x='user_score', y='total_sales', kind='scatter', figsize=(15, 8), sharex=False, grid=True)\n",
    "PS4['user_score'].corr(PS4['total_sales'])"
   ]
  },
  {
   "cell_type": "markdown",
   "metadata": {},
   "source": [
    "Отзывы критиков немного сказываются на продажах, в то время, как отзывы пользователей никак не влияют на продажи игр. Коэффициенты корреляции 0,4 и -0,03 соответственно.\n",
    "\n",
    "Посмотим на корреляцию для других платформ, в актуальный период. Будем рассматривать выводы только для платформ, где есть больше 100 оценок. "
   ]
  },
  {
   "cell_type": "code",
   "execution_count": 16,
   "metadata": {},
   "outputs": [
    {
     "name": "stdout",
     "output_type": "stream",
     "text": [
      "Корреляция отзывов критиков и продаж PC 0.19603028294369382\n",
      "Корреляция отзывов критиков и продаж PS3 0.3342853393371919\n",
      "Корреляция отзывов критиков и продаж XOne 0.4169983280084017\n"
     ]
    }
   ],
   "source": [
    "for platform in [''\"3DS\"'', ''\"DS\"'', ''\"PC\"'', ''\"PS3\"'', ''\"PSP\"'', ''\"PSV\"'', ''\"Wii\"'', ''\"WiiU\"'', ''\"X360\"'', ''\"XOne\"'']:\n",
    "    plt_corr = actual_data.query('platform == @platform').dropna(axis='index', how='any', subset=['critic_score'])\n",
    "    if len(plt_corr) > 100:\n",
    "        print('Корреляция отзывов критиков и продаж',\n",
    "        platform, plt_corr['critic_score'].corr(plt_corr['total_sales']))"
   ]
  },
  {
   "cell_type": "code",
   "execution_count": 17,
   "metadata": {},
   "outputs": [
    {
     "name": "stdout",
     "output_type": "stream",
     "text": [
      "Корреляция отзывов пользователей и продаж PC -0.0938418695247674\n",
      "Корреляция отзывов пользователей и продаж PS3 0.0023944027357566925\n",
      "Корреляция отзывов пользователей и продаж X360 -0.011742185147181342\n",
      "Корреляция отзывов пользователей и продаж XOne -0.06892505328279414\n"
     ]
    }
   ],
   "source": [
    "for platform in [''\"3DS\"'', ''\"DS\"'', ''\"PC\"'', ''\"PS3\"'', ''\"PSP\"'', ''\"PSV\"'', ''\"Wii\"'', ''\"WiiU\"'', ''\"X360\"'', ''\"XOne\"'']:\n",
    "    plt_corr = actual_data.query('platform == @platform').dropna(axis='index', how='any', subset=['user_score'])\n",
    "    if len(plt_corr) > 100:\n",
    "        print('Корреляция отзывов пользователей и продаж',\n",
    "        platform, plt_corr['user_score'].corr(plt_corr['total_sales']))"
   ]
  },
  {
   "cell_type": "markdown",
   "metadata": {},
   "source": [
    "Практически такие же данные и по другим платформам: мнение критиков больше влияет на продажи игр."
   ]
  },
  {
   "cell_type": "markdown",
   "metadata": {},
   "source": [
    "#### Распределение продаж игр в зависимости от жанра."
   ]
  },
  {
   "cell_type": "code",
   "execution_count": 18,
   "metadata": {},
   "outputs": [
    {
     "data": {
      "text/plain": [
       "<matplotlib.axes._subplots.AxesSubplot at 0x7fdab8d70f50>"
      ]
     },
     "execution_count": 18,
     "metadata": {},
     "output_type": "execute_result"
    },
    {
     "data": {
      "image/png": "[encoded data removed]",
      "text/plain": [
       "<Figure size 1080x216 with 1 Axes>"
      ]
     },
     "metadata": {
      "needs_background": "light"
     },
     "output_type": "display_data"
    }
   ],
   "source": [
    "actual_data.groupby('genre')['total_sales'].sum().sort_values(ascending=True).plot(kind='barh', y='total_sales', figsize=(15,3))"
   ]
  },
  {
   "cell_type": "code",
   "execution_count": 19,
   "metadata": {},
   "outputs": [
    {
     "data": {
      "text/plain": [
       "<matplotlib.axes._subplots.AxesSubplot at 0x7fdab8dab3d0>"
      ]
     },
     "execution_count": 19,
     "metadata": {},
     "output_type": "execute_result"
    },
    {
     "data": {
      "image/png": "[encoded data removed]",
      "text/plain": [
       "<Figure size 1080x216 with 1 Axes>"
      ]
     },
     "metadata": {
      "needs_background": "light"
     },
     "output_type": "display_data"
    }
   ],
   "source": [
    "actual_data.groupby('genre')['total_sales'].median().sort_values(ascending=True).plot(kind='barh', y='total_sales', figsize=(15,3))"
   ]
  },
  {
   "cell_type": "code",
   "execution_count": 20,
   "metadata": {},
   "outputs": [
    {
     "data": {
      "text/plain": [
       "<matplotlib.axes._subplots.AxesSubplot at 0x7fdab8d91490>"
      ]
     },
     "execution_count": 20,
     "metadata": {},
     "output_type": "execute_result"
    },
    {
     "data": {
      "image/png": "[encoded data removed]",
      "text/plain": [
       "<Figure size 1080x216 with 1 Axes>"
      ]
     },
     "metadata": {
      "needs_background": "light"
     },
     "output_type": "display_data"
    }
   ],
   "source": [
    "actual_data.groupby('genre')['total_sales'].count().sort_values(ascending=True).plot(kind='barh', y='total_sales', figsize=(15,3))"
   ]
  },
  {
   "cell_type": "markdown",
   "metadata": {},
   "source": [
    "Больше всего продается игр в жанре \"__action__\", \"__shooter__\"  и \"__sports__\", в то время как стратегии (\"__strategy__\"), симуляторы (\"__Simulation__\") и паззлы (\"__Puzzle__\") доходов в разы меньше. Большие продажи Экшен-игр связаны с огромным количеством игр этого жанра. А по медианным продажам лидируют игры жанра Shooting."
   ]
  },
  {
   "cell_type": "code",
   "execution_count": 21,
   "metadata": {},
   "outputs": [
    {
     "data": {
      "text/html": [
       "<div>\n",
       "<style scoped>\n",
       "    .dataframe tbody tr th:only-of-type {\n",
       "        vertical-align: middle;\n",
       "    }\n",
       "\n",
       "    .dataframe tbody tr th {\n",
       "        vertical-align: top;\n",
       "    }\n",
       "\n",
       "    .dataframe thead th {\n",
       "        text-align: right;\n",
       "    }\n",
       "</style>\n",
       "<table border=\"1\" class=\"dataframe\">\n",
       "  <thead>\n",
       "    <tr style=\"text-align: right;\">\n",
       "      <th></th>\n",
       "      <th>name</th>\n",
       "      <th>platform</th>\n",
       "      <th>year_of_release</th>\n",
       "      <th>genre</th>\n",
       "      <th>na_sales</th>\n",
       "      <th>eu_sales</th>\n",
       "      <th>jp_sales</th>\n",
       "      <th>other_sales</th>\n",
       "      <th>critic_score</th>\n",
       "      <th>user_score</th>\n",
       "      <th>rating</th>\n",
       "      <th>total_sales</th>\n",
       "    </tr>\n",
       "  </thead>\n",
       "  <tbody>\n",
       "    <tr>\n",
       "      <td>16</td>\n",
       "      <td>Grand Theft Auto V</td>\n",
       "      <td>PS3</td>\n",
       "      <td>2013</td>\n",
       "      <td>Action</td>\n",
       "      <td>7.02</td>\n",
       "      <td>9.09</td>\n",
       "      <td>0.98</td>\n",
       "      <td>3.96</td>\n",
       "      <td>97.0</td>\n",
       "      <td>8.2</td>\n",
       "      <td>M</td>\n",
       "      <td>21.05</td>\n",
       "    </tr>\n",
       "    <tr>\n",
       "      <td>23</td>\n",
       "      <td>Grand Theft Auto V</td>\n",
       "      <td>X360</td>\n",
       "      <td>2013</td>\n",
       "      <td>Action</td>\n",
       "      <td>9.66</td>\n",
       "      <td>5.14</td>\n",
       "      <td>0.06</td>\n",
       "      <td>1.41</td>\n",
       "      <td>97.0</td>\n",
       "      <td>8.1</td>\n",
       "      <td>M</td>\n",
       "      <td>16.27</td>\n",
       "    </tr>\n",
       "    <tr>\n",
       "      <td>31</td>\n",
       "      <td>Call of Duty: Black Ops 3</td>\n",
       "      <td>PS4</td>\n",
       "      <td>2015</td>\n",
       "      <td>Shooter</td>\n",
       "      <td>6.03</td>\n",
       "      <td>5.86</td>\n",
       "      <td>0.36</td>\n",
       "      <td>2.38</td>\n",
       "      <td>NaN</td>\n",
       "      <td>NaN</td>\n",
       "      <td>NaN</td>\n",
       "      <td>14.63</td>\n",
       "    </tr>\n",
       "    <tr>\n",
       "      <td>33</td>\n",
       "      <td>Pokemon X/Pokemon Y</td>\n",
       "      <td>3DS</td>\n",
       "      <td>2013</td>\n",
       "      <td>Role-Playing</td>\n",
       "      <td>5.28</td>\n",
       "      <td>4.19</td>\n",
       "      <td>4.35</td>\n",
       "      <td>0.78</td>\n",
       "      <td>NaN</td>\n",
       "      <td>NaN</td>\n",
       "      <td>NaN</td>\n",
       "      <td>14.60</td>\n",
       "    </tr>\n",
       "    <tr>\n",
       "      <td>42</td>\n",
       "      <td>Grand Theft Auto V</td>\n",
       "      <td>PS4</td>\n",
       "      <td>2014</td>\n",
       "      <td>Action</td>\n",
       "      <td>3.96</td>\n",
       "      <td>6.31</td>\n",
       "      <td>0.38</td>\n",
       "      <td>1.97</td>\n",
       "      <td>97.0</td>\n",
       "      <td>8.3</td>\n",
       "      <td>M</td>\n",
       "      <td>12.62</td>\n",
       "    </tr>\n",
       "  </tbody>\n",
       "</table>\n",
       "</div>"
      ],
      "text/plain": [
       "                         name platform  year_of_release         genre  \\\n",
       "16         Grand Theft Auto V      PS3             2013        Action   \n",
       "23         Grand Theft Auto V     X360             2013        Action   \n",
       "31  Call of Duty: Black Ops 3      PS4             2015       Shooter   \n",
       "33        Pokemon X/Pokemon Y      3DS             2013  Role-Playing   \n",
       "42         Grand Theft Auto V      PS4             2014        Action   \n",
       "\n",
       "    na_sales  eu_sales  jp_sales  other_sales  critic_score  user_score  \\\n",
       "16      7.02      9.09      0.98         3.96          97.0         8.2   \n",
       "23      9.66      5.14      0.06         1.41          97.0         8.1   \n",
       "31      6.03      5.86      0.36         2.38           NaN         NaN   \n",
       "33      5.28      4.19      4.35         0.78           NaN         NaN   \n",
       "42      3.96      6.31      0.38         1.97          97.0         8.3   \n",
       "\n",
       "   rating  total_sales  \n",
       "16      M        21.05  \n",
       "23      M        16.27  \n",
       "31    NaN        14.63  \n",
       "33    NaN        14.60  \n",
       "42      M        12.62  "
      ]
     },
     "execution_count": 21,
     "metadata": {},
     "output_type": "execute_result"
    }
   ],
   "source": [
    "actual_data.sort_values(by = 'total_sales', ascending=False).head()"
   ]
  },
  {
   "cell_type": "markdown",
   "metadata": {},
   "source": [
    "Пятерка самых продоваемых игр подтверждает предыдущие выводы."
   ]
  },
  {
   "cell_type": "markdown",
   "metadata": {},
   "source": [
    "## Портрет пользователя по регионам"
   ]
  },
  {
   "cell_type": "markdown",
   "metadata": {},
   "source": [
    "### Самые популярные платформы по регионам. "
   ]
  },
  {
   "cell_type": "code",
   "execution_count": 22,
   "metadata": {},
   "outputs": [
    {
     "data": {
      "text/html": [
       "<div>\n",
       "<style scoped>\n",
       "    .dataframe tbody tr th:only-of-type {\n",
       "        vertical-align: middle;\n",
       "    }\n",
       "\n",
       "    .dataframe tbody tr th {\n",
       "        vertical-align: top;\n",
       "    }\n",
       "\n",
       "    .dataframe thead th {\n",
       "        text-align: right;\n",
       "    }\n",
       "</style>\n",
       "<table border=\"1\" class=\"dataframe\">\n",
       "  <thead>\n",
       "    <tr style=\"text-align: right;\">\n",
       "      <th></th>\n",
       "      <th>Europe</th>\n",
       "      <th>Japane</th>\n",
       "      <th>Northen America</th>\n",
       "    </tr>\n",
       "    <tr>\n",
       "      <th>platform</th>\n",
       "      <th></th>\n",
       "      <th></th>\n",
       "      <th></th>\n",
       "    </tr>\n",
       "  </thead>\n",
       "  <tbody>\n",
       "    <tr>\n",
       "      <td>3DS</td>\n",
       "      <td>30.96</td>\n",
       "      <td>67.81</td>\n",
       "      <td>38.20</td>\n",
       "    </tr>\n",
       "    <tr>\n",
       "      <td>DS</td>\n",
       "      <td>0.85</td>\n",
       "      <td>0.00</td>\n",
       "      <td>0.57</td>\n",
       "    </tr>\n",
       "    <tr>\n",
       "      <td>PC</td>\n",
       "      <td>25.36</td>\n",
       "      <td>0.00</td>\n",
       "      <td>11.11</td>\n",
       "    </tr>\n",
       "    <tr>\n",
       "      <td>PS3</td>\n",
       "      <td>67.81</td>\n",
       "      <td>23.35</td>\n",
       "      <td>63.50</td>\n",
       "    </tr>\n",
       "    <tr>\n",
       "      <td>PS4</td>\n",
       "      <td>141.09</td>\n",
       "      <td>15.96</td>\n",
       "      <td>108.74</td>\n",
       "    </tr>\n",
       "    <tr>\n",
       "      <td>PSP</td>\n",
       "      <td>0.17</td>\n",
       "      <td>3.29</td>\n",
       "      <td>0.00</td>\n",
       "    </tr>\n",
       "    <tr>\n",
       "      <td>PSV</td>\n",
       "      <td>6.10</td>\n",
       "      <td>18.59</td>\n",
       "      <td>5.04</td>\n",
       "    </tr>\n",
       "    <tr>\n",
       "      <td>Wii</td>\n",
       "      <td>5.93</td>\n",
       "      <td>0.05</td>\n",
       "      <td>6.56</td>\n",
       "    </tr>\n",
       "    <tr>\n",
       "      <td>WiiU</td>\n",
       "      <td>19.85</td>\n",
       "      <td>10.88</td>\n",
       "      <td>29.21</td>\n",
       "    </tr>\n",
       "    <tr>\n",
       "      <td>X360</td>\n",
       "      <td>42.52</td>\n",
       "      <td>0.51</td>\n",
       "      <td>81.66</td>\n",
       "    </tr>\n",
       "    <tr>\n",
       "      <td>XOne</td>\n",
       "      <td>51.59</td>\n",
       "      <td>0.34</td>\n",
       "      <td>93.12</td>\n",
       "    </tr>\n",
       "  </tbody>\n",
       "</table>\n",
       "</div>"
      ],
      "text/plain": [
       "          Europe  Japane  Northen America\n",
       "platform                                 \n",
       "3DS        30.96   67.81            38.20\n",
       "DS          0.85    0.00             0.57\n",
       "PC         25.36    0.00            11.11\n",
       "PS3        67.81   23.35            63.50\n",
       "PS4       141.09   15.96           108.74\n",
       "PSP         0.17    3.29             0.00\n",
       "PSV         6.10   18.59             5.04\n",
       "Wii         5.93    0.05             6.56\n",
       "WiiU       19.85   10.88            29.21\n",
       "X360       42.52    0.51            81.66\n",
       "XOne       51.59    0.34            93.12"
      ]
     },
     "execution_count": 22,
     "metadata": {},
     "output_type": "execute_result"
    }
   ],
   "source": [
    "actual_platform = actual_data.pivot_table(index='platform',  \n",
    "                 values= ['na_sales', 'eu_sales', 'jp_sales'], \n",
    "                 aggfunc=['sum'])\n",
    "actual_platform.columns = ['Europe', 'Japane', 'Northen America']\n",
    "actual_platform"
   ]
  },
  {
   "cell_type": "code",
   "execution_count": 23,
   "metadata": {},
   "outputs": [
    {
     "data": {
      "image/png": "[encoded data removed]",
      "text/plain": [
       "<Figure size 360x144 with 1 Axes>"
      ]
     },
     "metadata": {
      "needs_background": "light"
     },
     "output_type": "display_data"
    },
    {
     "data": {
      "image/png": "[encoded data removed]",
      "text/plain": [
       "<Figure size 360x144 with 1 Axes>"
      ]
     },
     "metadata": {
      "needs_background": "light"
     },
     "output_type": "display_data"
    },
    {
     "data": {
      "image/png": "[encoded data removed]",
      "text/plain": [
       "<Figure size 360x144 with 1 Axes>"
      ]
     },
     "metadata": {
      "needs_background": "light"
     },
     "output_type": "display_data"
    }
   ],
   "source": [
    "columns = ['Europe', 'Japane', 'Northen America']\n",
    "\n",
    "for i in columns:\n",
    "    actual_platform.sort_values(by = i, ascending=False).head().plot(kind ='bar', y =i, figsize=(5,2))"
   ]
  },
  {
   "cell_type": "markdown",
   "metadata": {},
   "source": [
    "В Европе и Америке пристрастия в платформах приставок почти одинаковы (лидирует, выбранная нами, как перспективная PlayStation4), а вот у японцев в лидерах Nintendo 3DS, а также есть PlayStation Vita, то есть японцы предпочитают портативные устройства, которые удобно взять с собой на улицу или в метро, в то время как европейцы с американцами предпочитают играть дома, на больших экранах."
   ]
  },
  {
   "cell_type": "markdown",
   "metadata": {},
   "source": [
    "###  Топ-5 жанров для разных регионов"
   ]
  },
  {
   "cell_type": "code",
   "execution_count": 24,
   "metadata": {},
   "outputs": [
    {
     "data": {
      "image/png": "[encoded data removed]",
      "text/plain": [
       "<Figure size 360x144 with 1 Axes>"
      ]
     },
     "metadata": {
      "needs_background": "light"
     },
     "output_type": "display_data"
    },
    {
     "data": {
      "image/png": "[encoded data removed]",
      "text/plain": [
       "<Figure size 360x144 with 1 Axes>"
      ]
     },
     "metadata": {
      "needs_background": "light"
     },
     "output_type": "display_data"
    },
    {
     "data": {
      "image/png": "[encoded data removed]",
      "text/plain": [
       "<Figure size 360x144 with 1 Axes>"
      ]
     },
     "metadata": {
      "needs_background": "light"
     },
     "output_type": "display_data"
    }
   ],
   "source": [
    "actual_genre = actual_data.pivot_table(index='genre',  \n",
    "                 values= ['na_sales', 'eu_sales', 'jp_sales'], \n",
    "                 aggfunc=['sum'])\n",
    "\n",
    "actual_genre.columns = ['Europe', 'Japane', 'Northen America']\n",
    "columns = ['Europe', 'Japane', 'Northen America']\n",
    "for i in columns:\n",
    "    actual_genre.sort_values(by = i, ascending=False).head().plot(kind ='bar', y =i, figsize=(5,2))"
   ]
  },
  {
   "cell_type": "markdown",
   "metadata": {},
   "source": [
    "Опять у европейцев и американцев сходятся вкусы: они предпочитают Экшены и Шутеры, а вот японцы больше всего покупают РПГ (Role-Playing)."
   ]
  },
  {
   "cell_type": "markdown",
   "metadata": {},
   "source": [
    "##  Как влияет рейтинг игр на продажи"
   ]
  },
  {
   "cell_type": "code",
   "execution_count": 25,
   "metadata": {},
   "outputs": [
    {
     "data": {
      "image/png": "[encoded data removed]",
      "text/plain": [
       "<Figure size 360x144 with 1 Axes>"
      ]
     },
     "metadata": {
      "needs_background": "light"
     },
     "output_type": "display_data"
    },
    {
     "data": {
      "image/png": "[encoded data removed]",
      "text/plain": [
       "<Figure size 360x144 with 1 Axes>"
      ]
     },
     "metadata": {
      "needs_background": "light"
     },
     "output_type": "display_data"
    },
    {
     "data": {
      "image/png": "[encoded data removed]",
      "text/plain": [
       "<Figure size 360x144 with 1 Axes>"
      ]
     },
     "metadata": {
      "needs_background": "light"
     },
     "output_type": "display_data"
    }
   ],
   "source": [
    "actual_data['rating'] = actual_data['rating'].fillna('no_rating')\n",
    "actual_rating = actual_data.pivot_table(index='rating',  \n",
    "                 values= ['na_sales', 'eu_sales', 'jp_sales'], \n",
    "                 aggfunc=['sum'])\n",
    "\n",
    "actual_rating.columns = ['Europe', 'Japane', 'Northen America']\n",
    "columns = ['Europe', 'Japane', 'Northen America']\n",
    "for i in columns:\n",
    "    actual_rating.sort_values(by = i, ascending=False).head().plot(kind ='bar', y =i, figsize=(5,2))"
   ]
  },
  {
   "cell_type": "code",
   "execution_count": 26,
   "metadata": {},
   "outputs": [
    {
     "data": {
      "text/html": [
       "<div>\n",
       "<style scoped>\n",
       "    .dataframe tbody tr th:only-of-type {\n",
       "        vertical-align: middle;\n",
       "    }\n",
       "\n",
       "    .dataframe tbody tr th {\n",
       "        vertical-align: top;\n",
       "    }\n",
       "\n",
       "    .dataframe thead th {\n",
       "        text-align: right;\n",
       "    }\n",
       "</style>\n",
       "<table border=\"1\" class=\"dataframe\">\n",
       "  <thead>\n",
       "    <tr style=\"text-align: right;\">\n",
       "      <th></th>\n",
       "      <th>name</th>\n",
       "      <th>platform</th>\n",
       "      <th>year_of_release</th>\n",
       "      <th>genre</th>\n",
       "      <th>na_sales</th>\n",
       "      <th>eu_sales</th>\n",
       "      <th>jp_sales</th>\n",
       "      <th>other_sales</th>\n",
       "      <th>critic_score</th>\n",
       "      <th>user_score</th>\n",
       "      <th>rating</th>\n",
       "      <th>total_sales</th>\n",
       "    </tr>\n",
       "  </thead>\n",
       "  <tbody>\n",
       "    <tr>\n",
       "      <td>31</td>\n",
       "      <td>Call of Duty: Black Ops 3</td>\n",
       "      <td>PS4</td>\n",
       "      <td>2015</td>\n",
       "      <td>Shooter</td>\n",
       "      <td>6.03</td>\n",
       "      <td>5.86</td>\n",
       "      <td>0.36</td>\n",
       "      <td>2.38</td>\n",
       "      <td>NaN</td>\n",
       "      <td>NaN</td>\n",
       "      <td>no_rating</td>\n",
       "      <td>14.63</td>\n",
       "    </tr>\n",
       "    <tr>\n",
       "      <td>33</td>\n",
       "      <td>Pokemon X/Pokemon Y</td>\n",
       "      <td>3DS</td>\n",
       "      <td>2013</td>\n",
       "      <td>Role-Playing</td>\n",
       "      <td>5.28</td>\n",
       "      <td>4.19</td>\n",
       "      <td>4.35</td>\n",
       "      <td>0.78</td>\n",
       "      <td>NaN</td>\n",
       "      <td>NaN</td>\n",
       "      <td>no_rating</td>\n",
       "      <td>14.60</td>\n",
       "    </tr>\n",
       "    <tr>\n",
       "      <td>47</td>\n",
       "      <td>Pokemon Omega Ruby/Pokemon Alpha Sapphire</td>\n",
       "      <td>3DS</td>\n",
       "      <td>2014</td>\n",
       "      <td>Role-Playing</td>\n",
       "      <td>4.35</td>\n",
       "      <td>3.49</td>\n",
       "      <td>3.10</td>\n",
       "      <td>0.74</td>\n",
       "      <td>NaN</td>\n",
       "      <td>NaN</td>\n",
       "      <td>no_rating</td>\n",
       "      <td>11.68</td>\n",
       "    </tr>\n",
       "    <tr>\n",
       "      <td>72</td>\n",
       "      <td>Minecraft</td>\n",
       "      <td>X360</td>\n",
       "      <td>2013</td>\n",
       "      <td>Misc</td>\n",
       "      <td>5.70</td>\n",
       "      <td>2.65</td>\n",
       "      <td>0.02</td>\n",
       "      <td>0.81</td>\n",
       "      <td>NaN</td>\n",
       "      <td>NaN</td>\n",
       "      <td>no_rating</td>\n",
       "      <td>9.18</td>\n",
       "    </tr>\n",
       "    <tr>\n",
       "      <td>87</td>\n",
       "      <td>Star Wars Battlefront (2015)</td>\n",
       "      <td>PS4</td>\n",
       "      <td>2015</td>\n",
       "      <td>Shooter</td>\n",
       "      <td>2.99</td>\n",
       "      <td>3.49</td>\n",
       "      <td>0.22</td>\n",
       "      <td>1.28</td>\n",
       "      <td>NaN</td>\n",
       "      <td>NaN</td>\n",
       "      <td>no_rating</td>\n",
       "      <td>7.98</td>\n",
       "    </tr>\n",
       "  </tbody>\n",
       "</table>\n",
       "</div>"
      ],
      "text/plain": [
       "                                         name platform  year_of_release  \\\n",
       "31                  Call of Duty: Black Ops 3      PS4             2015   \n",
       "33                        Pokemon X/Pokemon Y      3DS             2013   \n",
       "47  Pokemon Omega Ruby/Pokemon Alpha Sapphire      3DS             2014   \n",
       "72                                  Minecraft     X360             2013   \n",
       "87               Star Wars Battlefront (2015)      PS4             2015   \n",
       "\n",
       "           genre  na_sales  eu_sales  jp_sales  other_sales  critic_score  \\\n",
       "31       Shooter      6.03      5.86      0.36         2.38           NaN   \n",
       "33  Role-Playing      5.28      4.19      4.35         0.78           NaN   \n",
       "47  Role-Playing      4.35      3.49      3.10         0.74           NaN   \n",
       "72          Misc      5.70      2.65      0.02         0.81           NaN   \n",
       "87       Shooter      2.99      3.49      0.22         1.28           NaN   \n",
       "\n",
       "    user_score     rating  total_sales  \n",
       "31         NaN  no_rating        14.63  \n",
       "33         NaN  no_rating        14.60  \n",
       "47         NaN  no_rating        11.68  \n",
       "72         NaN  no_rating         9.18  \n",
       "87         NaN  no_rating         7.98  "
      ]
     },
     "execution_count": 26,
     "metadata": {},
     "output_type": "execute_result"
    }
   ],
   "source": [
    "actual_data.query('rating == \"no_rating\"').head()"
   ]
  },
  {
   "cell_type": "markdown",
   "metadata": {},
   "source": [
    "Опять у европейцев и американцев схожие показатели. Больше всего доходов приносят игры с рейтингом M («Mature» — «Для взрослых»: Материалы игры не подходят для подростков младше 17 лет) и E («Everyone») — «Для всех»). У японцев же самые продаваемые игры с рейтингом T («Teen») — «Подросткам»: Игра подходит для лиц от 13 лет). Либо в Европе и Северной Америке больше взрослых игроманов, либо слабее контроль за продажей игр несовершеннолетним. \n",
    "В столбце 'rating' много значений Nan, заменим его на маркерное \"no_rating\" и добавим в гистограмму. Игры без указания возрастного рейтинга имеют большую долю продаж, но если взять первые 5 игр с таким маркером и посмотреть рейтинг игр в интернете, то оказывается, что все игры имеют разный рейтинг:\n",
    "*Call of Duty: Black Ops 3*\t- M (17+), *Pokemon X/Pokemon Y* - E (для всех от 6 лет),\t*Minecraft* - E10+ (для всех от 10 лет), так что заменить их на какое-то общее значение или анализировать вместе неправильно. Скорее всего значение Nan здесь похоже на _RP_ («Rating Pending») — «Рейтинг ожидается»: Продукт был отправлен в ESRB и ожидает присвоения рейтинга."
   ]
  },
  {
   "cell_type": "markdown",
   "metadata": {},
   "source": [
    "## Проверка гипотез"
   ]
  },
  {
   "cell_type": "markdown",
   "metadata": {},
   "source": [
    "### Средние пользовательские рейтинги платформ Xbox One и PC одинаковые"
   ]
  },
  {
   "cell_type": "markdown",
   "metadata": {},
   "source": [
    "Проверим нулевую гипотезу: \"Средние пользовательские рейтинги платформ Xbox One и PC одинаковые\". Альтернативной гипотезой будет утверждение, что средние пользовательские рейтинги Xbox One и PC не равны друг другу.\n",
    "Чтобы проверить гипотезу о равенстве среднего двух генеральных совокупностей по взятым из них выборкам, применим метод scipy.stats.ttest_ind (array1, array2, equal_var). Так как дисперсии у нас разные, то параметр equal_var = False. Возьмем критический уровень значимости 5%."
   ]
  },
  {
   "cell_type": "code",
   "execution_count": 27,
   "metadata": {},
   "outputs": [
    {
     "name": "stdout",
     "output_type": "stream",
     "text": [
      "p-значение: 0.14759594013430463\n",
      "Не получилось отвергнуть нулевую гипотезу\n"
     ]
    },
    {
     "data": {
      "text/plain": [
       "(6.521428571428572, 6.2696774193548395)"
      ]
     },
     "execution_count": 27,
     "metadata": {},
     "output_type": "execute_result"
    }
   ],
   "source": [
    "xbox = actual_data.query('platform == \"XOne\"')['user_score'].dropna() \n",
    "pc = actual_data.query('platform == \"PC\"')['user_score'].dropna()  \n",
    "\n",
    "results = st.ttest_ind(xbox, pc, equal_var = False)\n",
    "\n",
    "print('p-значение:', results.pvalue)\n",
    "alpha = 0.05\n",
    "if results.pvalue < alpha:\n",
    "    print('Отвергаем нулевую гипотезу')\n",
    "else:\n",
    "    print('Не получилось отвергнуть нулевую гипотезу') \n",
    "    \n",
    "xbox.mean(), pc.mean()"
   ]
  },
  {
   "cell_type": "markdown",
   "metadata": {},
   "source": [
    "Не получилось отвергнуть гипотезу, что \"средние пользовательские рейтинги PC и Xbox One одинаковы\"."
   ]
  },
  {
   "cell_type": "markdown",
   "metadata": {},
   "source": [
    "### Средние пользовательские рейтинги жанров Action  и Sports разные"
   ]
  },
  {
   "cell_type": "markdown",
   "metadata": {},
   "source": [
    "\"Средние пользовательские рейтинги жанров Action (англ. «действие», экшен-игры) и Sports (англ. «спортивные соревнования») разные\" - это альтернативная (H1) гипотеза, для нулевой (H0) гипотезы, что средние пользовательские рейтинги жанров Action и Sports одинаковы."
   ]
  },
  {
   "cell_type": "code",
   "execution_count": 28,
   "metadata": {},
   "outputs": [
    {
     "name": "stdout",
     "output_type": "stream",
     "text": [
      "p-значение: 1.4460039700704315e-20\n",
      "Отвергаем нулевую гипотезу\n"
     ]
    },
    {
     "data": {
      "text/plain": [
       "(6.837532133676092, 5.238124999999999)"
      ]
     },
     "execution_count": 28,
     "metadata": {},
     "output_type": "execute_result"
    }
   ],
   "source": [
    "action_games = actual_data.query('genre == \"Action\"')['user_score'].dropna() \n",
    "sports_games = actual_data.query('genre == \"Sports\"')['user_score'].dropna() \n",
    "\n",
    "results = st.ttest_ind(action_games, sports_games, equal_var = False)\n",
    "\n",
    "print('p-значение:', results.pvalue)\n",
    "alpha = 0.05\n",
    "if results.pvalue < alpha:\n",
    "    print('Отвергаем нулевую гипотезу')\n",
    "else:\n",
    "    print('Не получилось отвергнуть нулевую гипотезу') \n",
    "\n",
    "action_games.mean(), sports_games.mean() "
   ]
  },
  {
   "cell_type": "markdown",
   "metadata": {},
   "source": [
    "Отвергаем нулевую гипотезу, в пользу альтернативной: \"Средние пользовательские рейтинги жанров Action и Sports разные\" и судя по средним значениям у Экшн-игр больше, чем у спортивных. "
   ]
  },
  {
   "cell_type": "markdown",
   "metadata": {},
   "source": [
    "## Выводы\n",
    "\n",
    "Мы изучили исторические данные о компьютерных играх, их оценках и показателях продаж по разным регионам. В итоге выяснилось, что самой перспективными платформами для выпуска игры являются PlayStation 4 и Xbox One, так как она являются актуальными на 2016 год. Если же ориентироваться на рынок Японии, то там самой прибыльной платформой является портативая Nintendo 3DS, но по мировым продажам она замыкает верхнюю десятку, и с учетом большой конкуренции у портативных консолей со стороны смартфонов, делать ставку на эту платформу не стоит. \n",
    "\n",
    "Самые популярные жанры Экшн и Шутеры (Япония здесь выделяется, но и у нее Экшн на втором месте по популярности), но Экшены за счет большого количества игр этого жанра.\n",
    "\n",
    "Лучше всего продаются игры с рейтингом \"Для взрослых\" (опять же, кроме Японии, у нее популярнее подростковые игры, но это, скорее всего из-за Nintendo 3DS). Также везде популярны игры рейтинга E (для всех от 6 лет).\n",
    "\n",
    "Мнение пользователей не влияет на продажи игр, тогда как мнение критиков имеет некоторое значение, это нужно будет учесть при планировании рекламной компании.\n",
    "\n",
    "Также проверились две гипотезы:\n",
    "1. Гипотезу \"Средние пользовательские рейтинги платформ Xbox One и PC одинаковые\" не получилось отвергнуть.\n",
    "2. Гипотезу \"Средние пользовательские рейтинги жанров Action и Sports разные\" мы тоже не смогли отвергнуть.\n"
   ]
  }
 ],
 "metadata": {
  "ExecuteTimeLog": [
   {
    "duration": 1013,
    "start_time": "2021-10-12T16:47:11.789Z"
   },
   {
    "duration": 239,
    "start_time": "2021-10-12T16:48:32.494Z"
   },
   {
    "duration": 57,
    "start_time": "2021-10-12T16:48:38.669Z"
   },
   {
    "duration": 42,
    "start_time": "2021-10-12T16:50:56.985Z"
   },
   {
    "duration": 50,
    "start_time": "2021-10-12T16:51:07.882Z"
   },
   {
    "duration": 10,
    "start_time": "2021-10-12T16:51:11.027Z"
   },
   {
    "duration": 11,
    "start_time": "2021-10-12T16:56:54.082Z"
   },
   {
    "duration": 5,
    "start_time": "2021-10-12T16:57:39.365Z"
   },
   {
    "duration": 5,
    "start_time": "2021-10-12T16:58:33.739Z"
   },
   {
    "duration": 5,
    "start_time": "2021-10-12T16:58:50.752Z"
   },
   {
    "duration": 6,
    "start_time": "2021-10-12T16:59:02.986Z"
   },
   {
    "duration": 129,
    "start_time": "2021-10-12T16:59:52.937Z"
   },
   {
    "duration": 8,
    "start_time": "2021-10-12T16:59:56.395Z"
   },
   {
    "duration": 156,
    "start_time": "2021-10-12T17:05:36.629Z"
   },
   {
    "duration": 6,
    "start_time": "2021-10-12T17:06:07.844Z"
   },
   {
    "duration": 6,
    "start_time": "2021-10-12T17:06:26.394Z"
   },
   {
    "duration": 6,
    "start_time": "2021-10-12T17:06:37.537Z"
   },
   {
    "duration": 10,
    "start_time": "2021-10-12T17:07:38.139Z"
   },
   {
    "duration": 11,
    "start_time": "2021-10-12T17:07:56.693Z"
   },
   {
    "duration": 130,
    "start_time": "2021-10-12T17:08:03.925Z"
   },
   {
    "duration": 12,
    "start_time": "2021-10-12T17:09:32.424Z"
   },
   {
    "duration": 6,
    "start_time": "2021-10-12T17:09:39.056Z"
   },
   {
    "duration": 37,
    "start_time": "2021-10-12T18:21:00.345Z"
   },
   {
    "duration": 48,
    "start_time": "2021-10-12T18:25:47.200Z"
   },
   {
    "duration": 10,
    "start_time": "2021-10-12T18:25:47.250Z"
   },
   {
    "duration": 6,
    "start_time": "2021-10-12T18:25:47.262Z"
   },
   {
    "duration": 6,
    "start_time": "2021-10-12T18:26:09.508Z"
   },
   {
    "duration": 12,
    "start_time": "2021-10-12T18:29:37.043Z"
   },
   {
    "duration": 6,
    "start_time": "2021-10-12T18:29:49.896Z"
   },
   {
    "duration": 130,
    "start_time": "2021-10-12T18:30:06.555Z"
   },
   {
    "duration": 157,
    "start_time": "2021-10-12T18:30:31.754Z"
   },
   {
    "duration": 13,
    "start_time": "2021-10-12T18:30:40.049Z"
   },
   {
    "duration": 7,
    "start_time": "2021-10-12T18:30:43.906Z"
   },
   {
    "duration": 6,
    "start_time": "2021-10-12T18:30:47.849Z"
   },
   {
    "duration": 10,
    "start_time": "2021-10-12T18:33:56.361Z"
   },
   {
    "duration": 46,
    "start_time": "2021-10-12T18:34:00.568Z"
   },
   {
    "duration": 10,
    "start_time": "2021-10-12T18:34:03.756Z"
   },
   {
    "duration": 6,
    "start_time": "2021-10-12T18:34:10.968Z"
   },
   {
    "duration": 6,
    "start_time": "2021-10-12T18:34:25.424Z"
   },
   {
    "duration": 11,
    "start_time": "2021-10-12T18:34:41.441Z"
   },
   {
    "duration": 48,
    "start_time": "2021-10-12T18:35:40.583Z"
   },
   {
    "duration": 47,
    "start_time": "2021-10-12T18:35:54.621Z"
   },
   {
    "duration": 46,
    "start_time": "2021-10-12T18:36:09.201Z"
   },
   {
    "duration": 7,
    "start_time": "2021-10-12T18:36:40.329Z"
   },
   {
    "duration": 12,
    "start_time": "2021-10-12T18:37:17.362Z"
   },
   {
    "duration": 15,
    "start_time": "2021-10-12T18:41:15.196Z"
   },
   {
    "duration": 43,
    "start_time": "2021-10-12T18:41:38.958Z"
   },
   {
    "duration": 6,
    "start_time": "2021-10-12T18:41:46.122Z"
   },
   {
    "duration": 7,
    "start_time": "2021-10-12T18:42:09.741Z"
   },
   {
    "duration": 8,
    "start_time": "2021-10-12T18:42:24.661Z"
   },
   {
    "duration": 7,
    "start_time": "2021-10-12T18:42:40.164Z"
   },
   {
    "duration": 9,
    "start_time": "2021-10-12T18:42:49.914Z"
   },
   {
    "duration": 11,
    "start_time": "2021-10-12T18:42:52.992Z"
   },
   {
    "duration": 13,
    "start_time": "2021-10-12T18:42:55.971Z"
   },
   {
    "duration": 11,
    "start_time": "2021-10-12T18:43:07.282Z"
   },
   {
    "duration": 46,
    "start_time": "2021-10-12T18:43:36.152Z"
   },
   {
    "duration": 3119,
    "start_time": "2021-10-12T18:44:02.316Z"
   },
   {
    "duration": 3,
    "start_time": "2021-10-12T18:44:23.546Z"
   },
   {
    "duration": 13,
    "start_time": "2021-10-12T18:44:26.682Z"
   },
   {
    "duration": 41,
    "start_time": "2021-10-12T18:45:13.938Z"
   },
   {
    "duration": 10,
    "start_time": "2021-10-12T18:45:26.968Z"
   },
   {
    "duration": 11,
    "start_time": "2021-10-12T18:45:30.750Z"
   },
   {
    "duration": 3704,
    "start_time": "2021-10-12T19:19:21.587Z"
   },
   {
    "duration": 3066,
    "start_time": "2021-10-12T19:19:33.441Z"
   },
   {
    "duration": 10,
    "start_time": "2021-10-12T19:19:56.294Z"
   },
   {
    "duration": 7,
    "start_time": "2021-10-12T19:20:11.747Z"
   },
   {
    "duration": 5,
    "start_time": "2021-10-12T19:20:19.076Z"
   },
   {
    "duration": 9,
    "start_time": "2021-10-12T19:22:07.590Z"
   },
   {
    "duration": 12,
    "start_time": "2021-10-12T19:22:16.178Z"
   },
   {
    "duration": 13,
    "start_time": "2021-10-12T19:22:44.765Z"
   },
   {
    "duration": 141,
    "start_time": "2021-10-12T19:23:05.003Z"
   },
   {
    "duration": 15,
    "start_time": "2021-10-12T19:23:21.561Z"
   },
   {
    "duration": 14,
    "start_time": "2021-10-12T19:23:34.841Z"
   },
   {
    "duration": 15,
    "start_time": "2021-10-12T19:23:53.614Z"
   },
   {
    "duration": 14,
    "start_time": "2021-10-12T19:24:10.537Z"
   },
   {
    "duration": 17,
    "start_time": "2021-10-12T19:24:31.632Z"
   },
   {
    "duration": 11,
    "start_time": "2021-10-12T19:26:29.949Z"
   },
   {
    "duration": 15,
    "start_time": "2021-10-12T19:26:37.681Z"
   },
   {
    "duration": 15,
    "start_time": "2021-10-12T19:27:03.480Z"
   },
   {
    "duration": 17,
    "start_time": "2021-10-12T19:27:15.993Z"
   },
   {
    "duration": 16,
    "start_time": "2021-10-12T19:28:51.910Z"
   },
   {
    "duration": 40,
    "start_time": "2021-10-12T19:29:14.619Z"
   },
   {
    "duration": 8,
    "start_time": "2021-10-12T19:29:14.661Z"
   },
   {
    "duration": 9,
    "start_time": "2021-10-12T19:29:14.671Z"
   },
   {
    "duration": 156,
    "start_time": "2021-10-12T19:30:44.468Z"
   },
   {
    "duration": 22,
    "start_time": "2021-10-12T19:31:00.382Z"
   },
   {
    "duration": 41,
    "start_time": "2021-10-12T19:32:33.243Z"
   },
   {
    "duration": 8,
    "start_time": "2021-10-12T19:32:33.286Z"
   },
   {
    "duration": 139,
    "start_time": "2021-10-12T19:32:33.295Z"
   },
   {
    "duration": 46,
    "start_time": "2021-10-12T19:34:38.726Z"
   },
   {
    "duration": 139,
    "start_time": "2021-10-12T19:35:15.562Z"
   },
   {
    "duration": 134,
    "start_time": "2021-10-12T19:35:27.131Z"
   },
   {
    "duration": 13,
    "start_time": "2021-10-12T19:36:00.026Z"
   },
   {
    "duration": 12,
    "start_time": "2021-10-12T19:36:20.399Z"
   },
   {
    "duration": 13,
    "start_time": "2021-10-12T19:36:54.639Z"
   },
   {
    "duration": 11,
    "start_time": "2021-10-12T19:37:10.600Z"
   },
   {
    "duration": 328,
    "start_time": "2021-10-12T19:37:28.854Z"
   },
   {
    "duration": 18,
    "start_time": "2021-10-12T19:37:34.507Z"
   },
   {
    "duration": 9,
    "start_time": "2021-10-12T19:38:00.180Z"
   },
   {
    "duration": 13,
    "start_time": "2021-10-12T19:38:07.957Z"
   },
   {
    "duration": 16,
    "start_time": "2021-10-12T19:39:10.738Z"
   },
   {
    "duration": 21,
    "start_time": "2021-10-12T19:45:01.080Z"
   },
   {
    "duration": 331,
    "start_time": "2021-10-13T19:48:27.223Z"
   },
   {
    "duration": 1415,
    "start_time": "2021-10-13T19:48:34.009Z"
   },
   {
    "duration": 16,
    "start_time": "2021-10-13T19:48:35.427Z"
   },
   {
    "duration": 27,
    "start_time": "2021-10-13T19:48:35.446Z"
   },
   {
    "duration": 58,
    "start_time": "2021-10-13T19:48:35.476Z"
   },
   {
    "duration": 29,
    "start_time": "2021-10-13T19:48:35.536Z"
   },
   {
    "duration": 32,
    "start_time": "2021-10-13T19:48:59.621Z"
   },
   {
    "duration": 9,
    "start_time": "2021-10-13T19:49:28.227Z"
   },
   {
    "duration": 10,
    "start_time": "2021-10-13T20:02:11.707Z"
   },
   {
    "duration": 11,
    "start_time": "2021-10-13T20:04:41.694Z"
   },
   {
    "duration": 35,
    "start_time": "2021-10-13T20:10:20.376Z"
   },
   {
    "duration": 16,
    "start_time": "2021-10-13T20:11:38.048Z"
   },
   {
    "duration": 110,
    "start_time": "2021-10-13T20:16:05.867Z"
   },
   {
    "duration": 98,
    "start_time": "2021-10-13T20:16:31.591Z"
   },
   {
    "duration": 12,
    "start_time": "2021-10-13T20:16:48.055Z"
   },
   {
    "duration": 109,
    "start_time": "2021-10-13T20:29:11.374Z"
   },
   {
    "duration": 388,
    "start_time": "2021-10-13T20:29:25.453Z"
   },
   {
    "duration": 321,
    "start_time": "2021-10-13T20:30:55.397Z"
   },
   {
    "duration": 11,
    "start_time": "2021-10-13T20:31:09.526Z"
   },
   {
    "duration": 289,
    "start_time": "2021-10-13T20:31:19.654Z"
   },
   {
    "duration": 280,
    "start_time": "2021-10-13T20:31:28.049Z"
   },
   {
    "duration": 13,
    "start_time": "2021-10-13T20:31:59.531Z"
   },
   {
    "duration": 39,
    "start_time": "2021-10-13T20:32:09.620Z"
   },
   {
    "duration": 12,
    "start_time": "2021-10-13T20:32:31.455Z"
   },
   {
    "duration": 103,
    "start_time": "2021-10-13T20:33:26.713Z"
   },
   {
    "duration": 109,
    "start_time": "2021-10-13T20:34:00.721Z"
   },
   {
    "duration": 100,
    "start_time": "2021-10-13T20:34:29.097Z"
   },
   {
    "duration": 41,
    "start_time": "2021-10-13T20:34:37.143Z"
   },
   {
    "duration": 36,
    "start_time": "2021-10-13T20:35:07.162Z"
   },
   {
    "duration": 33,
    "start_time": "2021-10-13T20:39:24.901Z"
   },
   {
    "duration": 277,
    "start_time": "2021-10-13T20:51:42.075Z"
   },
   {
    "duration": 24457,
    "start_time": "2021-10-13T20:53:47.509Z"
   },
   {
    "duration": 296,
    "start_time": "2021-10-13T20:55:14.448Z"
   },
   {
    "duration": 2321,
    "start_time": "2021-10-13T20:56:05.836Z"
   },
   {
    "duration": 97,
    "start_time": "2021-10-13T20:57:46.464Z"
   },
   {
    "duration": 103,
    "start_time": "2021-10-13T20:59:25.436Z"
   },
   {
    "duration": 1474,
    "start_time": "2021-10-13T20:59:40.844Z"
   },
   {
    "duration": 1427,
    "start_time": "2021-10-13T21:00:30.621Z"
   },
   {
    "duration": 3201,
    "start_time": "2021-10-13T21:01:01.323Z"
   },
   {
    "duration": 3794,
    "start_time": "2021-10-13T21:04:32.795Z"
   },
   {
    "duration": 1461,
    "start_time": "2021-10-14T16:02:21.407Z"
   },
   {
    "duration": 14,
    "start_time": "2021-10-14T16:02:22.871Z"
   },
   {
    "duration": 41,
    "start_time": "2021-10-14T16:02:22.888Z"
   },
   {
    "duration": 47,
    "start_time": "2021-10-14T16:02:22.932Z"
   },
   {
    "duration": 10,
    "start_time": "2021-10-14T16:02:22.982Z"
   },
   {
    "duration": 66,
    "start_time": "2021-10-14T16:02:22.995Z"
   },
   {
    "duration": 32,
    "start_time": "2021-10-14T16:02:23.063Z"
   },
   {
    "duration": 1404,
    "start_time": "2021-10-14T16:02:23.098Z"
   },
   {
    "duration": 58,
    "start_time": "2021-10-14T16:25:32.369Z"
   },
   {
    "duration": 13,
    "start_time": "2021-10-14T16:25:32.430Z"
   },
   {
    "duration": 21,
    "start_time": "2021-10-14T16:25:32.446Z"
   },
   {
    "duration": 64,
    "start_time": "2021-10-14T16:25:32.469Z"
   },
   {
    "duration": 11,
    "start_time": "2021-10-14T16:25:32.536Z"
   },
   {
    "duration": 48,
    "start_time": "2021-10-14T16:25:32.549Z"
   },
   {
    "duration": 53,
    "start_time": "2021-10-14T16:25:32.599Z"
   },
   {
    "duration": 1613,
    "start_time": "2021-10-14T16:25:32.656Z"
   },
   {
    "duration": 15,
    "start_time": "2021-10-14T16:30:56.050Z"
   },
   {
    "duration": 313,
    "start_time": "2021-10-14T16:31:25.959Z"
   },
   {
    "duration": 389,
    "start_time": "2021-10-14T16:32:20.321Z"
   },
   {
    "duration": 264,
    "start_time": "2021-10-14T16:32:40.283Z"
   },
   {
    "duration": 258,
    "start_time": "2021-10-14T16:32:46.492Z"
   },
   {
    "duration": 573,
    "start_time": "2021-10-14T16:33:38.140Z"
   },
   {
    "duration": 503,
    "start_time": "2021-10-14T16:33:53.052Z"
   },
   {
    "duration": 654,
    "start_time": "2021-10-14T16:34:02.532Z"
   },
   {
    "duration": 625,
    "start_time": "2021-10-14T16:34:17.712Z"
   },
   {
    "duration": 629,
    "start_time": "2021-10-14T16:34:31.896Z"
   },
   {
    "duration": 42,
    "start_time": "2021-10-14T16:45:45.896Z"
   },
   {
    "duration": 33,
    "start_time": "2021-10-14T16:45:51.313Z"
   },
   {
    "duration": 1089,
    "start_time": "2021-10-14T16:45:54.161Z"
   },
   {
    "duration": 618,
    "start_time": "2021-10-14T16:51:58.066Z"
   },
   {
    "duration": 337,
    "start_time": "2021-10-14T16:55:50.686Z"
   },
   {
    "duration": 1176,
    "start_time": "2021-10-14T16:59:50.414Z"
   },
   {
    "duration": 1094,
    "start_time": "2021-10-14T19:51:30.873Z"
   },
   {
    "duration": 42,
    "start_time": "2021-10-14T19:52:24.419Z"
   },
   {
    "duration": 314,
    "start_time": "2021-10-14T19:54:24.953Z"
   },
   {
    "duration": 671,
    "start_time": "2021-10-14T19:55:21.985Z"
   },
   {
    "duration": 645,
    "start_time": "2021-10-14T19:55:29.078Z"
   },
   {
    "duration": 708,
    "start_time": "2021-10-14T19:56:02.933Z"
   },
   {
    "duration": 432,
    "start_time": "2021-10-14T19:57:56.600Z"
   },
   {
    "duration": 701,
    "start_time": "2021-10-14T19:58:13.750Z"
   },
   {
    "duration": 465,
    "start_time": "2021-10-14T19:58:18.667Z"
   },
   {
    "duration": 583,
    "start_time": "2021-10-14T19:58:44.491Z"
   },
   {
    "duration": 548,
    "start_time": "2021-10-14T19:58:50.525Z"
   },
   {
    "duration": 39,
    "start_time": "2021-10-14T19:59:53.288Z"
   },
   {
    "duration": 23,
    "start_time": "2021-10-14T20:02:27.799Z"
   },
   {
    "duration": 504,
    "start_time": "2021-10-14T20:02:45.469Z"
   },
   {
    "duration": 440,
    "start_time": "2021-10-14T20:02:52.840Z"
   },
   {
    "duration": 456,
    "start_time": "2021-10-14T20:03:15.121Z"
   },
   {
    "duration": 462,
    "start_time": "2021-10-14T20:16:16.967Z"
   },
   {
    "duration": 535,
    "start_time": "2021-10-14T20:16:42.609Z"
   },
   {
    "duration": 454,
    "start_time": "2021-10-14T20:20:51.416Z"
   },
   {
    "duration": 39,
    "start_time": "2021-10-14T20:21:20.748Z"
   },
   {
    "duration": 348,
    "start_time": "2021-10-14T20:21:37.078Z"
   },
   {
    "duration": 22,
    "start_time": "2021-10-14T20:23:43.371Z"
   },
   {
    "duration": 37,
    "start_time": "2021-10-14T20:23:56.187Z"
   },
   {
    "duration": 388,
    "start_time": "2021-10-14T20:24:11.562Z"
   },
   {
    "duration": 57,
    "start_time": "2021-10-14T20:28:23.702Z"
   },
   {
    "duration": 13,
    "start_time": "2021-10-14T20:28:23.761Z"
   },
   {
    "duration": 20,
    "start_time": "2021-10-14T20:28:23.777Z"
   },
   {
    "duration": 33,
    "start_time": "2021-10-14T20:28:23.800Z"
   },
   {
    "duration": 726,
    "start_time": "2021-10-14T20:28:23.835Z"
   },
   {
    "duration": 654,
    "start_time": "2021-10-14T20:28:24.567Z"
   },
   {
    "duration": 51,
    "start_time": "2021-10-14T20:28:25.223Z"
   },
   {
    "duration": 36,
    "start_time": "2021-10-14T20:28:25.276Z"
   },
   {
    "duration": 451,
    "start_time": "2021-10-14T20:28:25.316Z"
   },
   {
    "duration": 539,
    "start_time": "2021-10-14T20:28:25.770Z"
   },
   {
    "duration": 391,
    "start_time": "2021-10-14T20:28:26.312Z"
   },
   {
    "duration": 1449,
    "start_time": "2021-10-16T10:40:54.921Z"
   },
   {
    "duration": 14,
    "start_time": "2021-10-16T10:40:56.373Z"
   },
   {
    "duration": 34,
    "start_time": "2021-10-16T10:40:56.390Z"
   },
   {
    "duration": 48,
    "start_time": "2021-10-16T10:40:56.427Z"
   },
   {
    "duration": 685,
    "start_time": "2021-10-16T10:40:56.477Z"
   },
   {
    "duration": 669,
    "start_time": "2021-10-16T10:40:57.164Z"
   },
   {
    "duration": 47,
    "start_time": "2021-10-16T10:40:57.836Z"
   },
   {
    "duration": 39,
    "start_time": "2021-10-16T10:40:57.887Z"
   },
   {
    "duration": 420,
    "start_time": "2021-10-16T10:40:57.929Z"
   },
   {
    "duration": 515,
    "start_time": "2021-10-16T10:40:58.352Z"
   },
   {
    "duration": 357,
    "start_time": "2021-10-16T10:40:58.871Z"
   },
   {
    "duration": 10479,
    "start_time": "2021-10-16T10:40:59.232Z"
   },
   {
    "duration": -1765,
    "start_time": "2021-10-16T10:41:11.478Z"
   },
   {
    "duration": 416,
    "start_time": "2021-10-16T11:08:03.568Z"
   },
   {
    "duration": 7,
    "start_time": "2021-10-16T11:08:08.166Z"
   },
   {
    "duration": 472,
    "start_time": "2021-10-16T11:23:47.133Z"
   },
   {
    "duration": 437,
    "start_time": "2021-10-16T11:25:46.261Z"
   },
   {
    "duration": 34,
    "start_time": "2021-10-16T11:26:23.319Z"
   },
   {
    "duration": 745,
    "start_time": "2021-10-16T11:28:23.495Z"
   },
   {
    "duration": 726,
    "start_time": "2021-10-16T11:33:29.657Z"
   },
   {
    "duration": 836,
    "start_time": "2021-10-16T11:34:03.086Z"
   },
   {
    "duration": 724,
    "start_time": "2021-10-16T11:34:12.174Z"
   },
   {
    "duration": 795,
    "start_time": "2021-10-16T11:36:18.030Z"
   },
   {
    "duration": 477,
    "start_time": "2021-10-16T11:43:57.618Z"
   },
   {
    "duration": 3,
    "start_time": "2021-10-16T11:44:02.177Z"
   },
   {
    "duration": 1374,
    "start_time": "2021-10-16T11:44:03.881Z"
   },
   {
    "duration": 31,
    "start_time": "2021-10-16T11:45:48.571Z"
   },
   {
    "duration": 30,
    "start_time": "2021-10-16T11:45:51.729Z"
   },
   {
    "duration": 30,
    "start_time": "2021-10-16T11:46:09.900Z"
   },
   {
    "duration": 466,
    "start_time": "2021-10-16T11:46:25.842Z"
   },
   {
    "duration": 31,
    "start_time": "2021-10-16T11:48:52.073Z"
   },
   {
    "duration": 30,
    "start_time": "2021-10-16T11:49:23.301Z"
   },
   {
    "duration": 30,
    "start_time": "2021-10-16T11:49:33.746Z"
   },
   {
    "duration": 24,
    "start_time": "2021-10-16T11:50:11.644Z"
   },
   {
    "duration": 23,
    "start_time": "2021-10-16T11:50:15.135Z"
   },
   {
    "duration": 23,
    "start_time": "2021-10-16T11:50:18.671Z"
   },
   {
    "duration": 42,
    "start_time": "2021-10-16T11:51:05.998Z"
   },
   {
    "duration": 4,
    "start_time": "2021-10-16T11:58:34.747Z"
   },
   {
    "duration": 139,
    "start_time": "2021-10-16T11:58:50.241Z"
   },
   {
    "duration": 30,
    "start_time": "2021-10-16T11:58:55.670Z"
   },
   {
    "duration": 23,
    "start_time": "2021-10-16T11:59:47.049Z"
   },
   {
    "duration": 22,
    "start_time": "2021-10-16T11:59:54.131Z"
   },
   {
    "duration": 23,
    "start_time": "2021-10-16T12:00:16.896Z"
   },
   {
    "duration": 91,
    "start_time": "2021-10-16T12:00:31.056Z"
   },
   {
    "duration": 151,
    "start_time": "2021-10-16T12:01:03.944Z"
   },
   {
    "duration": 31,
    "start_time": "2021-10-16T12:01:20.995Z"
   },
   {
    "duration": 584,
    "start_time": "2021-10-16T12:01:50.355Z"
   },
   {
    "duration": 572,
    "start_time": "2021-10-16T12:02:06.104Z"
   },
   {
    "duration": 24,
    "start_time": "2021-10-16T12:04:40.977Z"
   },
   {
    "duration": 27,
    "start_time": "2021-10-16T12:05:04.306Z"
   },
   {
    "duration": 127,
    "start_time": "2021-10-16T12:05:51.704Z"
   },
   {
    "duration": 128,
    "start_time": "2021-10-16T12:05:55.516Z"
   },
   {
    "duration": 142,
    "start_time": "2021-10-16T12:06:10.903Z"
   },
   {
    "duration": 27,
    "start_time": "2021-10-16T12:06:49.922Z"
   },
   {
    "duration": 583,
    "start_time": "2021-10-16T12:07:43.549Z"
   },
   {
    "duration": 43,
    "start_time": "2021-10-16T12:08:11.162Z"
   },
   {
    "duration": 46,
    "start_time": "2021-10-16T12:08:50.467Z"
   },
   {
    "duration": 45,
    "start_time": "2021-10-16T12:09:13.475Z"
   },
   {
    "duration": 47,
    "start_time": "2021-10-16T12:10:23.914Z"
   },
   {
    "duration": 49,
    "start_time": "2021-10-16T12:12:44.635Z"
   },
   {
    "duration": 49,
    "start_time": "2021-10-16T12:13:15.871Z"
   },
   {
    "duration": 52,
    "start_time": "2021-10-16T12:13:30.380Z"
   },
   {
    "duration": 10,
    "start_time": "2021-10-16T12:18:35.231Z"
   },
   {
    "duration": 11,
    "start_time": "2021-10-16T12:19:14.816Z"
   },
   {
    "duration": 493,
    "start_time": "2021-10-16T12:19:41.509Z"
   },
   {
    "duration": 488,
    "start_time": "2021-10-16T12:19:51.721Z"
   },
   {
    "duration": 534,
    "start_time": "2021-10-16T12:27:38.330Z"
   },
   {
    "duration": 9,
    "start_time": "2021-10-16T12:28:58.745Z"
   },
   {
    "duration": 16,
    "start_time": "2021-10-16T12:30:22.659Z"
   },
   {
    "duration": 14,
    "start_time": "2021-10-16T12:30:53.591Z"
   },
   {
    "duration": 138,
    "start_time": "2021-10-16T12:31:07.888Z"
   },
   {
    "duration": 14,
    "start_time": "2021-10-16T12:31:15.836Z"
   },
   {
    "duration": 507,
    "start_time": "2021-10-16T12:33:21.015Z"
   },
   {
    "duration": 6,
    "start_time": "2021-10-16T12:33:30.234Z"
   },
   {
    "duration": 9,
    "start_time": "2021-10-16T12:33:59.831Z"
   },
   {
    "duration": 153,
    "start_time": "2021-10-16T12:47:19.027Z"
   },
   {
    "duration": 127,
    "start_time": "2021-10-16T12:47:38.971Z"
   },
   {
    "duration": 415,
    "start_time": "2021-10-16T12:47:52.087Z"
   },
   {
    "duration": 31,
    "start_time": "2021-10-16T12:48:35.161Z"
   },
   {
    "duration": 34,
    "start_time": "2021-10-16T12:48:52.540Z"
   },
   {
    "duration": 32,
    "start_time": "2021-10-16T12:48:58.566Z"
   },
   {
    "duration": 25,
    "start_time": "2021-10-16T12:49:08.936Z"
   },
   {
    "duration": 522,
    "start_time": "2021-10-16T12:49:44.919Z"
   },
   {
    "duration": 25,
    "start_time": "2021-10-16T12:51:03.493Z"
   },
   {
    "duration": 61,
    "start_time": "2021-10-16T12:55:08.544Z"
   },
   {
    "duration": 13,
    "start_time": "2021-10-16T12:55:08.607Z"
   },
   {
    "duration": 45,
    "start_time": "2021-10-16T12:55:08.623Z"
   },
   {
    "duration": 40,
    "start_time": "2021-10-16T12:55:08.671Z"
   },
   {
    "duration": 737,
    "start_time": "2021-10-16T12:55:08.713Z"
   },
   {
    "duration": 660,
    "start_time": "2021-10-16T12:55:09.452Z"
   },
   {
    "duration": 52,
    "start_time": "2021-10-16T12:55:10.114Z"
   },
   {
    "duration": 37,
    "start_time": "2021-10-16T12:55:10.169Z"
   },
   {
    "duration": 600,
    "start_time": "2021-10-16T12:55:10.209Z"
   },
   {
    "duration": 526,
    "start_time": "2021-10-16T12:55:10.811Z"
   },
   {
    "duration": 367,
    "start_time": "2021-10-16T12:55:11.340Z"
   },
   {
    "duration": 638,
    "start_time": "2021-10-16T12:55:11.709Z"
   },
   {
    "duration": 592,
    "start_time": "2021-10-16T12:55:12.349Z"
   },
   {
    "duration": 57,
    "start_time": "2021-10-16T12:55:12.944Z"
   },
   {
    "duration": 71,
    "start_time": "2021-10-16T12:55:13.004Z"
   },
   {
    "duration": 516,
    "start_time": "2021-10-16T12:55:13.078Z"
   },
   {
    "duration": 25,
    "start_time": "2021-10-16T12:55:13.597Z"
   },
   {
    "duration": 29,
    "start_time": "2021-10-16T12:56:34.702Z"
   },
   {
    "duration": 26,
    "start_time": "2021-10-16T12:57:26.290Z"
   },
   {
    "duration": 531,
    "start_time": "2021-10-16T13:43:15.057Z"
   },
   {
    "duration": 21,
    "start_time": "2021-10-16T13:44:58.312Z"
   },
   {
    "duration": 648,
    "start_time": "2021-10-16T13:46:06.928Z"
   },
   {
    "duration": 21,
    "start_time": "2021-10-16T13:46:14.997Z"
   },
   {
    "duration": 9,
    "start_time": "2021-10-16T13:53:08.344Z"
   },
   {
    "duration": 397,
    "start_time": "2021-10-16T13:53:24.305Z"
   },
   {
    "duration": 22,
    "start_time": "2021-10-16T13:53:59.897Z"
   },
   {
    "duration": 195,
    "start_time": "2021-10-16T14:02:03.659Z"
   },
   {
    "duration": 345,
    "start_time": "2021-10-16T14:02:15.776Z"
   },
   {
    "duration": 944,
    "start_time": "2021-10-16T14:02:44.611Z"
   },
   {
    "duration": 421,
    "start_time": "2021-10-16T14:02:59.251Z"
   },
   {
    "duration": 934,
    "start_time": "2021-10-16T14:03:28.973Z"
   },
   {
    "duration": 1019,
    "start_time": "2021-10-16T14:03:44.938Z"
   },
   {
    "duration": 531,
    "start_time": "2021-10-16T14:04:00.596Z"
   },
   {
    "duration": 418,
    "start_time": "2021-10-16T14:04:04.983Z"
   },
   {
    "duration": 1641,
    "start_time": "2021-10-16T14:05:11.360Z"
   },
   {
    "duration": 299,
    "start_time": "2021-10-16T14:06:09.563Z"
   },
   {
    "duration": 10,
    "start_time": "2021-10-16T14:06:32.156Z"
   },
   {
    "duration": 23,
    "start_time": "2021-10-16T14:13:52.607Z"
   },
   {
    "duration": 14,
    "start_time": "2021-10-16T14:16:22.209Z"
   },
   {
    "duration": 10089,
    "start_time": "2021-10-16T14:17:33.620Z"
   },
   {
    "duration": 25,
    "start_time": "2021-10-16T14:21:39.858Z"
   },
   {
    "duration": 16,
    "start_time": "2021-10-16T14:23:28.241Z"
   },
   {
    "duration": 25,
    "start_time": "2021-10-16T14:23:48.420Z"
   },
   {
    "duration": 10955,
    "start_time": "2021-10-16T14:24:16.584Z"
   },
   {
    "duration": 408,
    "start_time": "2021-10-16T14:25:07.468Z"
   },
   {
    "duration": 935,
    "start_time": "2021-10-16T14:25:15.832Z"
   },
   {
    "duration": 9862,
    "start_time": "2021-10-16T14:25:50.685Z"
   },
   {
    "duration": 458,
    "start_time": "2021-10-16T14:27:09.589Z"
   },
   {
    "duration": 23,
    "start_time": "2021-10-16T14:27:38.156Z"
   },
   {
    "duration": 452,
    "start_time": "2021-10-16T14:27:41.665Z"
   },
   {
    "duration": 17,
    "start_time": "2021-10-16T14:28:16.584Z"
   },
   {
    "duration": 395,
    "start_time": "2021-10-16T14:30:18.301Z"
   },
   {
    "duration": 17,
    "start_time": "2021-10-16T14:31:10.316Z"
   },
   {
    "duration": 25,
    "start_time": "2021-10-16T14:31:17.413Z"
   },
   {
    "duration": 415,
    "start_time": "2021-10-16T14:31:22.828Z"
   },
   {
    "duration": 16,
    "start_time": "2021-10-16T14:32:03.322Z"
   },
   {
    "duration": 79,
    "start_time": "2021-10-16T14:35:03.199Z"
   },
   {
    "duration": 18,
    "start_time": "2021-10-16T14:35:03.281Z"
   },
   {
    "duration": 31,
    "start_time": "2021-10-16T14:35:03.303Z"
   },
   {
    "duration": 42,
    "start_time": "2021-10-16T14:35:03.359Z"
   },
   {
    "duration": 725,
    "start_time": "2021-10-16T14:35:03.403Z"
   },
   {
    "duration": 651,
    "start_time": "2021-10-16T14:35:04.131Z"
   },
   {
    "duration": 35,
    "start_time": "2021-10-16T14:35:04.785Z"
   },
   {
    "duration": 61,
    "start_time": "2021-10-16T14:35:04.823Z"
   },
   {
    "duration": 440,
    "start_time": "2021-10-16T14:35:04.887Z"
   },
   {
    "duration": 742,
    "start_time": "2021-10-16T14:35:05.330Z"
   },
   {
    "duration": 396,
    "start_time": "2021-10-16T14:35:06.074Z"
   },
   {
    "duration": 568,
    "start_time": "2021-10-16T14:35:06.472Z"
   },
   {
    "duration": 591,
    "start_time": "2021-10-16T14:35:07.042Z"
   },
   {
    "duration": 56,
    "start_time": "2021-10-16T14:35:07.635Z"
   },
   {
    "duration": 64,
    "start_time": "2021-10-16T14:35:07.694Z"
   },
   {
    "duration": 511,
    "start_time": "2021-10-16T14:35:07.760Z"
   },
   {
    "duration": 22,
    "start_time": "2021-10-16T14:35:08.273Z"
   },
   {
    "duration": 23,
    "start_time": "2021-10-16T14:35:08.298Z"
   },
   {
    "duration": 49,
    "start_time": "2021-10-16T14:35:08.323Z"
   },
   {
    "duration": 17,
    "start_time": "2021-10-16T14:35:08.374Z"
   },
   {
    "duration": 8,
    "start_time": "2021-10-16T14:35:08.393Z"
   },
   {
    "duration": 30,
    "start_time": "2021-10-16T14:37:08.394Z"
   },
   {
    "duration": 25,
    "start_time": "2021-10-16T14:38:08.186Z"
   },
   {
    "duration": 17,
    "start_time": "2021-10-16T14:38:13.349Z"
   },
   {
    "duration": 10519,
    "start_time": "2021-10-16T14:39:08.697Z"
   },
   {
    "duration": 447,
    "start_time": "2021-10-16T14:45:37.271Z"
   },
   {
    "duration": 395,
    "start_time": "2021-10-16T14:46:20.892Z"
   },
   {
    "duration": 598,
    "start_time": "2021-10-16T14:46:29.956Z"
   },
   {
    "duration": 819,
    "start_time": "2021-10-16T14:46:49.240Z"
   },
   {
    "duration": 398,
    "start_time": "2021-10-16T14:47:21.708Z"
   },
   {
    "duration": 460,
    "start_time": "2021-10-16T14:49:34.272Z"
   },
   {
    "duration": 450,
    "start_time": "2021-10-16T14:50:44.193Z"
   },
   {
    "duration": 453,
    "start_time": "2021-10-16T14:51:22.332Z"
   },
   {
    "duration": 458,
    "start_time": "2021-10-16T14:56:37.229Z"
   },
   {
    "duration": 449,
    "start_time": "2021-10-16T14:56:56.854Z"
   },
   {
    "duration": 1354,
    "start_time": "2021-10-16T14:58:06.118Z"
   },
   {
    "duration": 3224,
    "start_time": "2021-10-16T15:05:04.304Z"
   },
   {
    "duration": 882,
    "start_time": "2021-10-16T15:05:14.031Z"
   },
   {
    "duration": 689,
    "start_time": "2021-10-16T15:07:45.959Z"
   },
   {
    "duration": 713,
    "start_time": "2021-10-16T15:07:54.858Z"
   },
   {
    "duration": 24,
    "start_time": "2021-10-16T15:09:24.531Z"
   },
   {
    "duration": 400,
    "start_time": "2021-10-16T15:09:41.640Z"
   },
   {
    "duration": 24,
    "start_time": "2021-10-16T15:10:35.182Z"
   },
   {
    "duration": 385,
    "start_time": "2021-10-16T15:10:38.716Z"
   },
   {
    "duration": 25,
    "start_time": "2021-10-16T15:11:21.548Z"
   },
   {
    "duration": 612,
    "start_time": "2021-10-16T15:12:04.397Z"
   },
   {
    "duration": 26,
    "start_time": "2021-10-16T15:12:12.956Z"
   },
   {
    "duration": 615,
    "start_time": "2021-10-16T15:12:17.645Z"
   },
   {
    "duration": 427,
    "start_time": "2021-10-16T15:21:17.266Z"
   },
   {
    "duration": 778,
    "start_time": "2021-10-16T15:21:49.777Z"
   },
   {
    "duration": 411,
    "start_time": "2021-10-16T15:22:46.338Z"
   },
   {
    "duration": 1283,
    "start_time": "2021-10-16T15:23:30.707Z"
   },
   {
    "duration": 30,
    "start_time": "2021-10-16T15:24:16.416Z"
   },
   {
    "duration": 57,
    "start_time": "2021-10-16T15:24:56.586Z"
   },
   {
    "duration": 14,
    "start_time": "2021-10-16T15:24:56.645Z"
   },
   {
    "duration": 23,
    "start_time": "2021-10-16T15:24:56.664Z"
   },
   {
    "duration": 34,
    "start_time": "2021-10-16T15:24:56.690Z"
   },
   {
    "duration": 762,
    "start_time": "2021-10-16T15:24:56.727Z"
   },
   {
    "duration": 697,
    "start_time": "2021-10-16T15:24:57.492Z"
   },
   {
    "duration": 36,
    "start_time": "2021-10-16T15:24:58.192Z"
   },
   {
    "duration": 57,
    "start_time": "2021-10-16T15:24:58.232Z"
   },
   {
    "duration": 463,
    "start_time": "2021-10-16T15:24:58.291Z"
   },
   {
    "duration": 630,
    "start_time": "2021-10-16T15:24:58.760Z"
   },
   {
    "duration": 384,
    "start_time": "2021-10-16T15:24:59.392Z"
   },
   {
    "duration": 600,
    "start_time": "2021-10-16T15:24:59.778Z"
   },
   {
    "duration": 847,
    "start_time": "2021-10-16T15:25:00.380Z"
   },
   {
    "duration": 74,
    "start_time": "2021-10-16T15:25:01.229Z"
   },
   {
    "duration": 71,
    "start_time": "2021-10-16T15:25:01.306Z"
   },
   {
    "duration": 538,
    "start_time": "2021-10-16T15:25:01.379Z"
   },
   {
    "duration": 21,
    "start_time": "2021-10-16T15:25:01.920Z"
   },
   {
    "duration": 30,
    "start_time": "2021-10-16T15:25:01.958Z"
   },
   {
    "duration": 686,
    "start_time": "2021-10-16T15:25:01.990Z"
   },
   {
    "duration": 16,
    "start_time": "2021-10-16T15:25:02.678Z"
   },
   {
    "duration": 422,
    "start_time": "2021-10-16T15:25:02.696Z"
   },
   {
    "duration": 25,
    "start_time": "2021-10-16T15:25:40.120Z"
   },
   {
    "duration": 411,
    "start_time": "2021-10-16T15:26:12.610Z"
   },
   {
    "duration": 397,
    "start_time": "2021-10-16T15:26:39.108Z"
   },
   {
    "duration": 422,
    "start_time": "2021-10-16T15:26:53.641Z"
   },
   {
    "duration": 400,
    "start_time": "2021-10-16T15:27:41.799Z"
   },
   {
    "duration": 13,
    "start_time": "2021-10-16T15:27:53.124Z"
   },
   {
    "duration": 13,
    "start_time": "2021-10-16T15:28:30.322Z"
   },
   {
    "duration": 744,
    "start_time": "2021-10-16T15:29:07.268Z"
   },
   {
    "duration": 653,
    "start_time": "2021-10-16T15:29:51.552Z"
   },
   {
    "duration": 427,
    "start_time": "2021-10-16T15:35:17.611Z"
   },
   {
    "duration": 17,
    "start_time": "2021-10-16T15:35:26.440Z"
   },
   {
    "duration": 36,
    "start_time": "2021-10-16T15:35:34.845Z"
   },
   {
    "duration": 593,
    "start_time": "2021-10-16T15:51:29.251Z"
   },
   {
    "duration": 9,
    "start_time": "2021-10-16T15:54:45.049Z"
   },
   {
    "duration": 6,
    "start_time": "2021-10-16T15:55:03.449Z"
   },
   {
    "duration": 403,
    "start_time": "2021-10-16T16:03:14.237Z"
   },
   {
    "duration": 402,
    "start_time": "2021-10-16T16:03:31.159Z"
   },
   {
    "duration": 8,
    "start_time": "2021-10-16T16:03:35.171Z"
   },
   {
    "duration": 9,
    "start_time": "2021-10-16T16:03:44.840Z"
   },
   {
    "duration": 9,
    "start_time": "2021-10-16T16:03:58.451Z"
   },
   {
    "duration": 7,
    "start_time": "2021-10-16T16:05:45.796Z"
   },
   {
    "duration": 8,
    "start_time": "2021-10-16T16:06:08.333Z"
   },
   {
    "duration": 8,
    "start_time": "2021-10-16T16:18:16.189Z"
   },
   {
    "duration": 31,
    "start_time": "2021-10-16T16:18:24.987Z"
   },
   {
    "duration": 11,
    "start_time": "2021-10-16T16:18:52.409Z"
   },
   {
    "duration": 31,
    "start_time": "2021-10-16T16:18:54.727Z"
   },
   {
    "duration": 15,
    "start_time": "2021-10-16T16:19:56.399Z"
   },
   {
    "duration": 20,
    "start_time": "2021-10-16T17:17:32.168Z"
   },
   {
    "duration": 18,
    "start_time": "2021-10-16T19:00:32.153Z"
   },
   {
    "duration": 22,
    "start_time": "2021-10-16T19:01:11.064Z"
   },
   {
    "duration": 19,
    "start_time": "2021-10-16T19:12:23.220Z"
   },
   {
    "duration": 22,
    "start_time": "2021-10-16T19:12:50.889Z"
   },
   {
    "duration": 8690,
    "start_time": "2021-10-16T19:13:28.969Z"
   },
   {
    "duration": 19,
    "start_time": "2021-10-16T19:13:41.712Z"
   },
   {
    "duration": 65,
    "start_time": "2021-10-16T19:14:53.815Z"
   },
   {
    "duration": 14,
    "start_time": "2021-10-16T19:14:53.883Z"
   },
   {
    "duration": 20,
    "start_time": "2021-10-16T19:14:53.901Z"
   },
   {
    "duration": 65,
    "start_time": "2021-10-16T19:14:53.924Z"
   },
   {
    "duration": 737,
    "start_time": "2021-10-16T19:14:53.992Z"
   },
   {
    "duration": 655,
    "start_time": "2021-10-16T19:14:54.732Z"
   },
   {
    "duration": 37,
    "start_time": "2021-10-16T19:14:55.390Z"
   },
   {
    "duration": 69,
    "start_time": "2021-10-16T19:14:55.429Z"
   },
   {
    "duration": 440,
    "start_time": "2021-10-16T19:14:55.502Z"
   },
   {
    "duration": 526,
    "start_time": "2021-10-16T19:14:55.945Z"
   },
   {
    "duration": 383,
    "start_time": "2021-10-16T19:14:56.474Z"
   },
   {
    "duration": 939,
    "start_time": "2021-10-16T19:14:56.862Z"
   },
   {
    "duration": 587,
    "start_time": "2021-10-16T19:14:57.803Z"
   },
   {
    "duration": 76,
    "start_time": "2021-10-16T19:14:58.393Z"
   },
   {
    "duration": 50,
    "start_time": "2021-10-16T19:14:58.472Z"
   },
   {
    "duration": 552,
    "start_time": "2021-10-16T19:14:58.525Z"
   },
   {
    "duration": 20,
    "start_time": "2021-10-16T19:14:59.079Z"
   },
   {
    "duration": 23,
    "start_time": "2021-10-16T19:14:59.102Z"
   },
   {
    "duration": 655,
    "start_time": "2021-10-16T19:14:59.128Z"
   },
   {
    "duration": 720,
    "start_time": "2021-10-16T19:14:59.786Z"
   },
   {
    "duration": 656,
    "start_time": "2021-10-16T19:15:00.510Z"
   },
   {
    "duration": 10,
    "start_time": "2021-10-16T19:15:01.169Z"
   },
   {
    "duration": 29,
    "start_time": "2021-10-16T19:15:01.181Z"
   },
   {
    "duration": 14,
    "start_time": "2021-10-16T19:15:09.469Z"
   },
   {
    "duration": 14,
    "start_time": "2021-10-16T19:15:25.753Z"
   },
   {
    "duration": 14,
    "start_time": "2021-10-16T19:15:47.675Z"
   },
   {
    "duration": 148,
    "start_time": "2021-10-16T19:17:45.667Z"
   },
   {
    "duration": 23,
    "start_time": "2021-10-16T19:18:00.880Z"
   },
   {
    "duration": 22,
    "start_time": "2021-10-16T19:19:08.623Z"
   },
   {
    "duration": 21,
    "start_time": "2021-10-16T19:19:38.815Z"
   },
   {
    "duration": 21,
    "start_time": "2021-10-16T19:22:25.073Z"
   },
   {
    "duration": 20,
    "start_time": "2021-10-16T19:22:35.082Z"
   },
   {
    "duration": 63,
    "start_time": "2021-10-16T20:14:25.768Z"
   },
   {
    "duration": 25,
    "start_time": "2021-10-16T20:14:25.834Z"
   },
   {
    "duration": 19,
    "start_time": "2021-10-16T20:14:25.862Z"
   },
   {
    "duration": 36,
    "start_time": "2021-10-16T20:14:25.884Z"
   },
   {
    "duration": 745,
    "start_time": "2021-10-16T20:14:25.923Z"
   },
   {
    "duration": 647,
    "start_time": "2021-10-16T20:14:26.670Z"
   },
   {
    "duration": 47,
    "start_time": "2021-10-16T20:14:27.320Z"
   },
   {
    "duration": 37,
    "start_time": "2021-10-16T20:14:27.371Z"
   },
   {
    "duration": 455,
    "start_time": "2021-10-16T20:14:27.411Z"
   },
   {
    "duration": 516,
    "start_time": "2021-10-16T20:14:27.869Z"
   },
   {
    "duration": 357,
    "start_time": "2021-10-16T20:14:28.387Z"
   },
   {
    "duration": 579,
    "start_time": "2021-10-16T20:14:28.747Z"
   },
   {
    "duration": 593,
    "start_time": "2021-10-16T20:14:29.328Z"
   },
   {
    "duration": 62,
    "start_time": "2021-10-16T20:14:29.923Z"
   },
   {
    "duration": 51,
    "start_time": "2021-10-16T20:14:29.987Z"
   },
   {
    "duration": 532,
    "start_time": "2021-10-16T20:14:30.041Z"
   },
   {
    "duration": 21,
    "start_time": "2021-10-16T20:14:30.575Z"
   },
   {
    "duration": 59,
    "start_time": "2021-10-16T20:14:30.598Z"
   },
   {
    "duration": 839,
    "start_time": "2021-10-16T20:14:30.660Z"
   },
   {
    "duration": 634,
    "start_time": "2021-10-16T20:14:31.501Z"
   },
   {
    "duration": 610,
    "start_time": "2021-10-16T20:14:32.137Z"
   },
   {
    "duration": 25,
    "start_time": "2021-10-16T20:14:32.749Z"
   },
   {
    "duration": 20,
    "start_time": "2021-10-16T20:14:32.778Z"
   },
   {
    "duration": 1391,
    "start_time": "2021-10-17T04:44:27.872Z"
   },
   {
    "duration": 14,
    "start_time": "2021-10-17T04:44:29.266Z"
   },
   {
    "duration": 19,
    "start_time": "2021-10-17T04:44:29.283Z"
   },
   {
    "duration": 39,
    "start_time": "2021-10-17T04:44:29.305Z"
   },
   {
    "duration": 695,
    "start_time": "2021-10-17T04:44:29.346Z"
   },
   {
    "duration": 815,
    "start_time": "2021-10-17T04:44:30.044Z"
   },
   {
    "duration": 35,
    "start_time": "2021-10-17T04:44:30.861Z"
   },
   {
    "duration": 47,
    "start_time": "2021-10-17T04:44:30.898Z"
   },
   {
    "duration": 433,
    "start_time": "2021-10-17T04:44:30.949Z"
   },
   {
    "duration": 517,
    "start_time": "2021-10-17T04:44:31.385Z"
   },
   {
    "duration": 376,
    "start_time": "2021-10-17T04:44:31.906Z"
   },
   {
    "duration": 599,
    "start_time": "2021-10-17T04:44:32.285Z"
   },
   {
    "duration": 582,
    "start_time": "2021-10-17T04:44:32.886Z"
   },
   {
    "duration": 66,
    "start_time": "2021-10-17T04:44:33.471Z"
   },
   {
    "duration": 51,
    "start_time": "2021-10-17T04:44:33.540Z"
   },
   {
    "duration": 521,
    "start_time": "2021-10-17T04:44:33.594Z"
   },
   {
    "duration": 24,
    "start_time": "2021-10-17T04:44:34.117Z"
   },
   {
    "duration": 26,
    "start_time": "2021-10-17T04:44:34.143Z"
   },
   {
    "duration": 369,
    "start_time": "2021-10-17T04:44:34.171Z"
   },
   {
    "duration": -4210,
    "start_time": "2021-10-17T04:44:38.752Z"
   },
   {
    "duration": -4212,
    "start_time": "2021-10-17T04:44:38.756Z"
   },
   {
    "duration": -4214,
    "start_time": "2021-10-17T04:44:38.759Z"
   },
   {
    "duration": -4215,
    "start_time": "2021-10-17T04:44:38.762Z"
   },
   {
    "duration": 20,
    "start_time": "2021-10-17T04:51:04.019Z"
   },
   {
    "duration": 29,
    "start_time": "2021-10-17T04:53:33.228Z"
   },
   {
    "duration": 713,
    "start_time": "2021-10-17T04:55:30.826Z"
   },
   {
    "duration": 634,
    "start_time": "2021-10-17T04:55:31.542Z"
   },
   {
    "duration": 21,
    "start_time": "2021-10-17T04:55:32.178Z"
   },
   {
    "duration": 24,
    "start_time": "2021-10-17T04:55:32.201Z"
   },
   {
    "duration": 262,
    "start_time": "2021-10-17T04:56:10.386Z"
   },
   {
    "duration": 259,
    "start_time": "2021-10-17T04:56:14.103Z"
   },
   {
    "duration": 322,
    "start_time": "2021-10-17T04:56:36.833Z"
   },
   {
    "duration": 494,
    "start_time": "2021-10-17T08:51:30.816Z"
   },
   {
    "duration": 1152,
    "start_time": "2021-10-17T08:51:37.322Z"
   },
   {
    "duration": 9,
    "start_time": "2021-10-17T08:51:38.476Z"
   },
   {
    "duration": 13,
    "start_time": "2021-10-17T08:51:38.488Z"
   },
   {
    "duration": 43,
    "start_time": "2021-10-17T08:51:38.503Z"
   },
   {
    "duration": 404,
    "start_time": "2021-10-17T08:51:38.548Z"
   },
   {
    "duration": 372,
    "start_time": "2021-10-17T08:51:38.954Z"
   },
   {
    "duration": 30,
    "start_time": "2021-10-17T08:51:39.328Z"
   },
   {
    "duration": 24,
    "start_time": "2021-10-17T08:51:39.360Z"
   },
   {
    "duration": 268,
    "start_time": "2021-10-17T08:51:39.387Z"
   },
   {
    "duration": 301,
    "start_time": "2021-10-17T08:51:39.657Z"
   },
   {
    "duration": 214,
    "start_time": "2021-10-17T08:51:39.959Z"
   },
   {
    "duration": 392,
    "start_time": "2021-10-17T08:51:40.175Z"
   },
   {
    "duration": 388,
    "start_time": "2021-10-17T08:51:40.569Z"
   },
   {
    "duration": 33,
    "start_time": "2021-10-17T08:51:40.958Z"
   },
   {
    "duration": 53,
    "start_time": "2021-10-17T08:51:40.993Z"
   },
   {
    "duration": 293,
    "start_time": "2021-10-17T08:51:41.047Z"
   },
   {
    "duration": 15,
    "start_time": "2021-10-17T08:51:41.341Z"
   },
   {
    "duration": 16,
    "start_time": "2021-10-17T08:51:41.357Z"
   },
   {
    "duration": 294,
    "start_time": "2021-10-17T08:51:41.374Z"
   },
   {
    "duration": -1956,
    "start_time": "2021-10-17T08:51:43.626Z"
   },
   {
    "duration": -1960,
    "start_time": "2021-10-17T08:51:43.632Z"
   },
   {
    "duration": -1962,
    "start_time": "2021-10-17T08:51:43.635Z"
   },
   {
    "duration": -1970,
    "start_time": "2021-10-17T08:51:43.644Z"
   },
   {
    "duration": 419,
    "start_time": "2021-10-17T08:52:12.214Z"
   },
   {
    "duration": 1114,
    "start_time": "2021-10-17T15:23:50.199Z"
   },
   {
    "duration": 12,
    "start_time": "2021-10-17T15:23:51.316Z"
   },
   {
    "duration": 14,
    "start_time": "2021-10-17T15:23:51.331Z"
   },
   {
    "duration": 33,
    "start_time": "2021-10-17T15:23:51.347Z"
   },
   {
    "duration": 419,
    "start_time": "2021-10-17T15:23:51.382Z"
   },
   {
    "duration": 374,
    "start_time": "2021-10-17T15:23:51.803Z"
   },
   {
    "duration": 23,
    "start_time": "2021-10-17T15:23:52.179Z"
   },
   {
    "duration": 25,
    "start_time": "2021-10-17T15:23:52.204Z"
   },
   {
    "duration": 270,
    "start_time": "2021-10-17T15:23:52.231Z"
   },
   {
    "duration": 415,
    "start_time": "2021-10-17T15:23:52.503Z"
   },
   {
    "duration": 213,
    "start_time": "2021-10-17T15:23:52.920Z"
   },
   {
    "duration": 452,
    "start_time": "2021-10-17T15:23:53.135Z"
   },
   {
    "duration": 399,
    "start_time": "2021-10-17T15:23:53.589Z"
   },
   {
    "duration": 35,
    "start_time": "2021-10-17T15:23:53.990Z"
   },
   {
    "duration": 52,
    "start_time": "2021-10-17T15:23:54.027Z"
   },
   {
    "duration": 308,
    "start_time": "2021-10-17T15:23:54.081Z"
   },
   {
    "duration": 13,
    "start_time": "2021-10-17T15:23:54.391Z"
   },
   {
    "duration": 16,
    "start_time": "2021-10-17T15:23:54.406Z"
   },
   {
    "duration": 469,
    "start_time": "2021-10-17T15:23:54.423Z"
   },
   {
    "duration": 410,
    "start_time": "2021-10-17T15:23:54.894Z"
   },
   {
    "duration": 393,
    "start_time": "2021-10-17T15:23:55.306Z"
   },
   {
    "duration": 17,
    "start_time": "2021-10-17T15:23:55.702Z"
   },
   {
    "duration": 14,
    "start_time": "2021-10-17T15:23:55.721Z"
   },
   {
    "duration": 21,
    "start_time": "2021-10-17T15:30:58.153Z"
   },
   {
    "duration": 22,
    "start_time": "2021-10-17T15:31:07.958Z"
   },
   {
    "duration": 5,
    "start_time": "2021-10-17T15:32:00.512Z"
   },
   {
    "duration": 358,
    "start_time": "2021-10-17T15:32:29.830Z"
   },
   {
    "duration": 542,
    "start_time": "2021-10-17T15:35:08.328Z"
   },
   {
    "duration": 383,
    "start_time": "2021-10-17T15:35:26.234Z"
   },
   {
    "duration": 292,
    "start_time": "2021-10-17T15:52:18.186Z"
   },
   {
    "duration": 395,
    "start_time": "2021-10-17T15:52:29.618Z"
   },
   {
    "duration": 368,
    "start_time": "2021-10-17T15:52:57.699Z"
   },
   {
    "duration": 390,
    "start_time": "2021-10-17T15:54:08.538Z"
   },
   {
    "duration": 398,
    "start_time": "2021-10-17T15:55:42.988Z"
   },
   {
    "duration": 361,
    "start_time": "2021-10-17T15:56:13.260Z"
   },
   {
    "duration": 356,
    "start_time": "2021-10-17T15:56:21.675Z"
   },
   {
    "duration": 302,
    "start_time": "2021-10-17T15:57:36.299Z"
   },
   {
    "duration": 452,
    "start_time": "2021-10-17T15:57:43.643Z"
   },
   {
    "duration": 378,
    "start_time": "2021-10-17T16:09:23.016Z"
   },
   {
    "duration": 37,
    "start_time": "2021-10-17T16:11:14.879Z"
   },
   {
    "duration": 34,
    "start_time": "2021-10-17T16:11:45.042Z"
   },
   {
    "duration": 30,
    "start_time": "2021-10-17T16:13:52.535Z"
   },
   {
    "duration": 351,
    "start_time": "2021-10-17T16:15:00.131Z"
   },
   {
    "duration": 109,
    "start_time": "2021-10-17T16:19:07.745Z"
   },
   {
    "duration": 81,
    "start_time": "2021-10-17T16:19:22.731Z"
   },
   {
    "duration": 46,
    "start_time": "2021-10-17T16:20:19.690Z"
   },
   {
    "duration": 47,
    "start_time": "2021-10-17T16:21:23.705Z"
   },
   {
    "duration": 76,
    "start_time": "2021-10-17T16:22:07.438Z"
   },
   {
    "duration": 45,
    "start_time": "2021-10-17T16:22:22.497Z"
   },
   {
    "duration": 53,
    "start_time": "2021-10-17T16:24:11.342Z"
   },
   {
    "duration": 45,
    "start_time": "2021-10-17T16:25:25.788Z"
   },
   {
    "duration": 338,
    "start_time": "2021-10-17T16:27:10.663Z"
   },
   {
    "duration": 15,
    "start_time": "2021-10-17T16:27:21.189Z"
   },
   {
    "duration": 17,
    "start_time": "2021-10-17T16:28:01.822Z"
   },
   {
    "duration": 16,
    "start_time": "2021-10-17T16:28:21.232Z"
   },
   {
    "duration": 17,
    "start_time": "2021-10-17T16:34:38.305Z"
   },
   {
    "duration": 56,
    "start_time": "2021-10-17T16:35:17.599Z"
   },
   {
    "duration": 47,
    "start_time": "2021-10-17T16:35:40.123Z"
   },
   {
    "duration": 24,
    "start_time": "2021-10-17T16:36:46.188Z"
   },
   {
    "duration": 17,
    "start_time": "2021-10-17T16:37:24.825Z"
   },
   {
    "duration": 45,
    "start_time": "2021-10-17T16:40:39.965Z"
   },
   {
    "duration": 25,
    "start_time": "2021-10-17T16:40:56.641Z"
   },
   {
    "duration": 44,
    "start_time": "2021-10-17T16:41:12.419Z"
   },
   {
    "duration": 42,
    "start_time": "2021-10-17T16:41:19.490Z"
   },
   {
    "duration": 4,
    "start_time": "2021-10-17T16:42:12.309Z"
   },
   {
    "duration": 9,
    "start_time": "2021-10-17T16:42:36.205Z"
   },
   {
    "duration": 41,
    "start_time": "2021-10-17T16:43:12.015Z"
   },
   {
    "duration": 39,
    "start_time": "2021-10-17T16:43:44.176Z"
   },
   {
    "duration": 291,
    "start_time": "2021-10-17T17:23:10.048Z"
   },
   {
    "duration": 225,
    "start_time": "2021-10-17T17:23:40.401Z"
   },
   {
    "duration": 220,
    "start_time": "2021-10-17T17:23:59.256Z"
   },
   {
    "duration": 307,
    "start_time": "2021-10-17T17:28:00.005Z"
   },
   {
    "duration": 196,
    "start_time": "2021-10-17T17:28:10.951Z"
   },
   {
    "duration": 198,
    "start_time": "2021-10-17T17:28:26.855Z"
   },
   {
    "duration": 186,
    "start_time": "2021-10-17T17:28:36.225Z"
   },
   {
    "duration": 268,
    "start_time": "2021-10-17T17:31:16.447Z"
   },
   {
    "duration": 207,
    "start_time": "2021-10-17T17:31:49.334Z"
   },
   {
    "duration": 196,
    "start_time": "2021-10-17T17:32:07.218Z"
   },
   {
    "duration": 7,
    "start_time": "2021-10-17T17:43:34.237Z"
   },
   {
    "duration": 4,
    "start_time": "2021-10-17T17:46:48.142Z"
   },
   {
    "duration": 7,
    "start_time": "2021-10-17T17:47:01.277Z"
   },
   {
    "duration": 22,
    "start_time": "2021-10-17T17:47:07.965Z"
   },
   {
    "duration": 501,
    "start_time": "2021-10-17T17:47:36.449Z"
   },
   {
    "duration": 25,
    "start_time": "2021-10-17T17:54:51.049Z"
   },
   {
    "duration": 17,
    "start_time": "2021-10-17T18:00:50.826Z"
   },
   {
    "duration": 383,
    "start_time": "2021-10-17T18:11:10.922Z"
   },
   {
    "duration": 49,
    "start_time": "2021-10-17T18:11:45.391Z"
   },
   {
    "duration": 11,
    "start_time": "2021-10-17T18:11:45.442Z"
   },
   {
    "duration": 15,
    "start_time": "2021-10-17T18:11:45.455Z"
   },
   {
    "duration": 21,
    "start_time": "2021-10-17T18:11:45.472Z"
   },
   {
    "duration": 433,
    "start_time": "2021-10-17T18:11:45.495Z"
   },
   {
    "duration": 371,
    "start_time": "2021-10-17T18:11:45.930Z"
   },
   {
    "duration": 22,
    "start_time": "2021-10-17T18:11:46.302Z"
   },
   {
    "duration": 39,
    "start_time": "2021-10-17T18:11:46.326Z"
   },
   {
    "duration": 253,
    "start_time": "2021-10-17T18:11:46.367Z"
   },
   {
    "duration": 358,
    "start_time": "2021-10-17T18:11:46.622Z"
   },
   {
    "duration": 333,
    "start_time": "2021-10-17T18:11:46.982Z"
   },
   {
    "duration": 414,
    "start_time": "2021-10-17T18:11:47.318Z"
   },
   {
    "duration": 450,
    "start_time": "2021-10-17T18:11:47.734Z"
   },
   {
    "duration": 40,
    "start_time": "2021-10-17T18:11:48.185Z"
   },
   {
    "duration": 58,
    "start_time": "2021-10-17T18:11:48.227Z"
   },
   {
    "duration": 254,
    "start_time": "2021-10-17T18:11:48.287Z"
   },
   {
    "duration": 338,
    "start_time": "2021-10-17T18:11:48.542Z"
   },
   {
    "duration": 228,
    "start_time": "2021-10-17T18:11:48.882Z"
   },
   {
    "duration": 13,
    "start_time": "2021-10-17T18:11:49.112Z"
   },
   {
    "duration": 16,
    "start_time": "2021-10-17T18:11:49.127Z"
   },
   {
    "duration": 384,
    "start_time": "2021-10-17T18:11:49.163Z"
   },
   {
    "duration": 376,
    "start_time": "2021-10-17T18:11:49.549Z"
   },
   {
    "duration": 382,
    "start_time": "2021-10-17T18:11:49.928Z"
   },
   {
    "duration": 15,
    "start_time": "2021-10-17T18:11:50.312Z"
   },
   {
    "duration": 17,
    "start_time": "2021-10-17T18:11:50.328Z"
   },
   {
    "duration": 27,
    "start_time": "2021-10-17T18:11:50.347Z"
   },
   {
    "duration": 13,
    "start_time": "2021-10-17T18:29:07.565Z"
   },
   {
    "duration": 17,
    "start_time": "2021-10-17T18:29:56.030Z"
   },
   {
    "duration": 13,
    "start_time": "2021-10-17T18:30:16.263Z"
   },
   {
    "duration": 15,
    "start_time": "2021-10-17T18:32:27.709Z"
   },
   {
    "duration": 46,
    "start_time": "2021-10-17T18:44:52.551Z"
   },
   {
    "duration": 10,
    "start_time": "2021-10-17T18:44:52.599Z"
   },
   {
    "duration": 13,
    "start_time": "2021-10-17T18:44:52.611Z"
   },
   {
    "duration": 51,
    "start_time": "2021-10-17T18:44:52.626Z"
   },
   {
    "duration": 422,
    "start_time": "2021-10-17T18:44:52.679Z"
   },
   {
    "duration": 369,
    "start_time": "2021-10-17T18:44:53.103Z"
   },
   {
    "duration": 23,
    "start_time": "2021-10-17T18:44:53.473Z"
   },
   {
    "duration": 27,
    "start_time": "2021-10-17T18:44:53.498Z"
   },
   {
    "duration": 282,
    "start_time": "2021-10-17T18:44:53.527Z"
   },
   {
    "duration": 373,
    "start_time": "2021-10-17T18:44:53.811Z"
   },
   {
    "duration": 481,
    "start_time": "2021-10-17T18:44:54.186Z"
   },
   {
    "duration": 567,
    "start_time": "2021-10-17T18:44:54.670Z"
   },
   {
    "duration": 439,
    "start_time": "2021-10-17T18:44:55.240Z"
   },
   {
    "duration": 43,
    "start_time": "2021-10-17T18:44:55.681Z"
   },
   {
    "duration": 65,
    "start_time": "2021-10-17T18:44:55.726Z"
   },
   {
    "duration": 203,
    "start_time": "2021-10-17T18:44:55.793Z"
   },
   {
    "duration": 201,
    "start_time": "2021-10-17T18:44:55.998Z"
   },
   {
    "duration": 212,
    "start_time": "2021-10-17T18:44:56.201Z"
   },
   {
    "duration": 13,
    "start_time": "2021-10-17T18:44:56.415Z"
   },
   {
    "duration": 34,
    "start_time": "2021-10-17T18:44:56.430Z"
   },
   {
    "duration": 376,
    "start_time": "2021-10-17T18:44:56.467Z"
   },
   {
    "duration": 400,
    "start_time": "2021-10-17T18:44:56.844Z"
   },
   {
    "duration": 397,
    "start_time": "2021-10-17T18:44:57.247Z"
   },
   {
    "duration": 20,
    "start_time": "2021-10-17T18:44:57.646Z"
   },
   {
    "duration": 13,
    "start_time": "2021-10-17T18:44:57.668Z"
   },
   {
    "duration": 16,
    "start_time": "2021-10-17T18:44:57.683Z"
   },
   {
    "duration": 76,
    "start_time": "2021-10-18T10:54:50.549Z"
   },
   {
    "duration": 1427,
    "start_time": "2021-10-18T10:54:53.262Z"
   },
   {
    "duration": 13,
    "start_time": "2021-10-18T10:54:54.692Z"
   },
   {
    "duration": 18,
    "start_time": "2021-10-18T10:54:54.708Z"
   },
   {
    "duration": 70,
    "start_time": "2021-10-18T10:54:54.729Z"
   },
   {
    "duration": 694,
    "start_time": "2021-10-18T10:54:54.801Z"
   },
   {
    "duration": 652,
    "start_time": "2021-10-18T10:54:55.497Z"
   },
   {
    "duration": 45,
    "start_time": "2021-10-18T10:54:56.151Z"
   },
   {
    "duration": 36,
    "start_time": "2021-10-18T10:54:56.199Z"
   },
   {
    "duration": 437,
    "start_time": "2021-10-18T10:54:56.239Z"
   },
   {
    "duration": 571,
    "start_time": "2021-10-18T10:54:56.679Z"
   },
   {
    "duration": 135,
    "start_time": "2021-10-18T10:54:57.252Z"
   },
   {
    "duration": 35,
    "start_time": "2021-10-18T10:55:05.542Z"
   },
   {
    "duration": 18,
    "start_time": "2021-10-18T10:56:03.761Z"
   },
   {
    "duration": 592,
    "start_time": "2021-10-18T10:57:17.690Z"
   },
   {
    "duration": 1340,
    "start_time": "2022-02-18T14:21:57.738Z"
   },
   {
    "duration": 12,
    "start_time": "2022-02-18T14:21:59.081Z"
   },
   {
    "duration": 26,
    "start_time": "2022-02-18T14:21:59.096Z"
   },
   {
    "duration": 41,
    "start_time": "2022-02-18T14:21:59.125Z"
   },
   {
    "duration": 765,
    "start_time": "2022-02-18T14:21:59.169Z"
   },
   {
    "duration": 717,
    "start_time": "2022-02-18T14:21:59.937Z"
   },
   {
    "duration": 30,
    "start_time": "2022-02-18T14:22:00.656Z"
   },
   {
    "duration": 54,
    "start_time": "2022-02-18T14:22:00.691Z"
   },
   {
    "duration": 426,
    "start_time": "2022-02-18T14:22:00.748Z"
   },
   {
    "duration": 513,
    "start_time": "2022-02-18T14:22:01.176Z"
   },
   {
    "duration": 47,
    "start_time": "2022-02-18T14:22:01.692Z"
   },
   {
    "duration": 627,
    "start_time": "2022-02-18T14:22:01.742Z"
   },
   {
    "duration": 708,
    "start_time": "2022-02-18T14:22:02.371Z"
   },
   {
    "duration": 630,
    "start_time": "2022-02-18T14:22:03.081Z"
   },
   {
    "duration": 709,
    "start_time": "2022-02-18T14:22:03.714Z"
   },
   {
    "duration": 91,
    "start_time": "2022-02-18T14:22:04.426Z"
   },
   {
    "duration": 71,
    "start_time": "2022-02-18T14:22:04.520Z"
   },
   {
    "duration": 261,
    "start_time": "2022-02-18T14:22:04.593Z"
   },
   {
    "duration": 244,
    "start_time": "2022-02-18T14:22:04.856Z"
   },
   {
    "duration": 261,
    "start_time": "2022-02-18T14:22:05.103Z"
   },
   {
    "duration": 16,
    "start_time": "2022-02-18T14:22:05.366Z"
   },
   {
    "duration": 38,
    "start_time": "2022-02-18T14:22:05.384Z"
   },
   {
    "duration": 478,
    "start_time": "2022-02-18T14:22:05.426Z"
   },
   {
    "duration": 630,
    "start_time": "2022-02-18T14:22:05.908Z"
   },
   {
    "duration": 728,
    "start_time": "2022-02-18T14:22:06.540Z"
   },
   {
    "duration": 20,
    "start_time": "2022-02-18T14:22:07.270Z"
   },
   {
    "duration": 25,
    "start_time": "2022-02-18T14:22:07.292Z"
   },
   {
    "duration": 20,
    "start_time": "2022-02-18T14:22:07.320Z"
   }
  ],
  "kernelspec": {
   "display_name": "Python 3",
   "language": "python",
   "name": "python3"
  },
  "language_info": {
   "codemirror_mode": {
    "name": "ipython",
    "version": 3
   },
   "file_extension": ".py",
   "mimetype": "text/x-python",
   "name": "python",
   "nbconvert_exporter": "python",
   "pygments_lexer": "ipython3",
   "version": "3.7.8"
  },
  "toc": {
   "base_numbering": 1,
   "nav_menu": {},
   "number_sections": true,
   "sideBar": true,
   "skip_h1_title": true,
   "title_cell": "Table of Contents",
   "title_sidebar": "Contents",
   "toc_cell": true,
   "toc_position": {
    "height": "calc(100% - 180px)",
    "left": "10px",
    "top": "150px",
    "width": "209px"
   },
   "toc_section_display": true,
   "toc_window_display": true
  }
 },
 "nbformat": 4,
 "nbformat_minor": 2
}
