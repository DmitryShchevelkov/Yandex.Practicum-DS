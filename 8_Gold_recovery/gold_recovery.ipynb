{
 "cells": [
  {
   "cell_type": "markdown",
   "metadata": {
    "toc": true
   },
   "source": [
    "<h1>Содержание<span class=\"tocSkip\"></span></h1>\n",
    "<div class=\"toc\"><ul class=\"toc-item\"><li><span><a href=\"#Подготовка-данных\" data-toc-modified-id=\"Подготовка-данных-1\"><span class=\"toc-item-num\">1&nbsp;&nbsp;</span>Подготовка данных</a></span><ul class=\"toc-item\"><li><span><a href=\"#Откроем--файлы-и-посмотрим-информацию\" data-toc-modified-id=\"Откроем--файлы-и-посмотрим-информацию-1.1\"><span class=\"toc-item-num\">1.1&nbsp;&nbsp;</span>Откроем  файлы и посмотрим информацию</a></span></li><li><span><a href=\"#Рассчитаем-эффективность-обогащения-(rougher.output.recovery)\" data-toc-modified-id=\"Рассчитаем-эффективность-обогащения-(rougher.output.recovery)-1.2\"><span class=\"toc-item-num\">1.2&nbsp;&nbsp;</span>Рассчитаем эффективность обогащения (rougher.output.recovery)</a></span></li><li><span><a href=\"#Проверка-признаков,-отсутствующих-в-тестовой-выборке\" data-toc-modified-id=\"Проверка-признаков,-отсутствующих-в-тестовой-выборке-1.3\"><span class=\"toc-item-num\">1.3&nbsp;&nbsp;</span>Проверка признаков, отсутствующих в тестовой выборке</a></span></li><li><span><a href=\"#Предобработка-данных\" data-toc-modified-id=\"Предобработка-данных-1.4\"><span class=\"toc-item-num\">1.4&nbsp;&nbsp;</span>Предобработка данных</a></span></li></ul></li><li><span><a href=\"#Анализ-данных\" data-toc-modified-id=\"Анализ-данных-2\"><span class=\"toc-item-num\">2&nbsp;&nbsp;</span>Анализ данных</a></span><ul class=\"toc-item\"><li><span><a href=\"#Сравнение-концентрации-металлов\" data-toc-modified-id=\"Сравнение-концентрации-металлов-2.1\"><span class=\"toc-item-num\">2.1&nbsp;&nbsp;</span>Сравнение концентрации металлов</a></span></li><li><span><a href=\"#Сравнение-распределения-размера-гранул\" data-toc-modified-id=\"Сравнение-распределения-размера-гранул-2.2\"><span class=\"toc-item-num\">2.2&nbsp;&nbsp;</span>Сравнение распределения размера гранул</a></span></li><li><span><a href=\"#Исследование-суммарной-концентрации\" data-toc-modified-id=\"Исследование-суммарной-концентрации-2.3\"><span class=\"toc-item-num\">2.3&nbsp;&nbsp;</span>Исследование суммарной концентрации</a></span></li></ul></li><li><span><a href=\"#Модель\" data-toc-modified-id=\"Модель-3\"><span class=\"toc-item-num\">3&nbsp;&nbsp;</span>Модель</a></span><ul class=\"toc-item\"><li><span><a href=\"#Функция-для-расчета-итогового-sMAPE\" data-toc-modified-id=\"Функция-для-расчета-итогового-sMAPE-3.1\"><span class=\"toc-item-num\">3.1&nbsp;&nbsp;</span>Функция для расчета итогового sMAPE</a></span></li><li><span><a href=\"#Обучение-моделей\" data-toc-modified-id=\"Обучение-моделей-3.2\"><span class=\"toc-item-num\">3.2&nbsp;&nbsp;</span>Обучение моделей</a></span></li><li><span><a href=\"#Проверка-модели-на-тестовой-выборке\" data-toc-modified-id=\"Проверка-модели-на-тестовой-выборке-3.3\"><span class=\"toc-item-num\">3.3&nbsp;&nbsp;</span>Проверка модели на тестовой выборке</a></span></li></ul></li><li><span><a href=\"#Выводы\" data-toc-modified-id=\"Выводы-4\"><span class=\"toc-item-num\">4&nbsp;&nbsp;</span>Выводы</a></span></li></ul></div>"
   ]
  },
  {
   "cell_type": "markdown",
   "metadata": {},
   "source": [
    "# Восстановление золота из руды"
   ]
  },
  {
   "cell_type": "markdown",
   "metadata": {},
   "source": [
    "Подготовьте прототип модели машинного обучения для «Цифры». Компания разрабатывает решения для эффективной работы промышленных предприятий.\n",
    "\n",
    "Модель должна предсказать коэффициент восстановления золота из золотосодержащей руды. Используйте данные с параметрами добычи и очистки. \n",
    "\n",
    "Модель поможет оптимизировать производство, чтобы не запускать предприятие с убыточными характеристиками.\n",
    "\n",
    "Вам нужно:\n",
    "\n",
    "1. Подготовить данные;\n",
    "2. Провести исследовательский анализ данных;\n",
    "3. Построить и обучить модель.\n",
    "\n",
    "Чтобы выполнить проект, обращайтесь к библиотекам *pandas*, *matplotlib* и *sklearn.* Вам поможет их документация."
   ]
  },
  {
   "cell_type": "markdown",
   "metadata": {},
   "source": [
    "## Подготовка данных"
   ]
  },
  {
   "cell_type": "code",
   "execution_count": 45,
   "metadata": {},
   "outputs": [],
   "source": [
    "import pandas as pd\n",
    "from sklearn.metrics import mean_absolute_error\n",
    "import matplotlib.pyplot as plt\n",
    "import seaborn as sns\n",
    "from sklearn.metrics import fbeta_score, make_scorer\n",
    "from sklearn.linear_model import LinearRegression \n",
    "from sklearn.ensemble import RandomForestRegressor\n",
    "from sklearn.tree import DecisionTreeRegressor\n",
    "import numpy as np\n",
    "from scipy import stats as st\n",
    "from sklearn.preprocessing import StandardScaler\n",
    "from sklearn.model_selection import cross_validate\n",
    "from sklearn.model_selection import cross_val_score\n",
    "import warnings\n",
    "warnings.filterwarnings('ignore')\n",
    "from sklearn.dummy import DummyRegressor"
   ]
  },
  {
   "cell_type": "markdown",
   "metadata": {},
   "source": [
    "### Откроем  файлы и посмотрим информацию"
   ]
  },
  {
   "cell_type": "code",
   "execution_count": 46,
   "metadata": {},
   "outputs": [
    {
     "name": "stdout",
     "output_type": "stream",
     "text": [
      "<class 'pandas.core.frame.DataFrame'>\n",
      "RangeIndex: 14149 entries, 0 to 14148\n",
      "Data columns (total 87 columns):\n",
      "date                                                  14149 non-null datetime64[ns]\n",
      "final.output.concentrate_ag                           14148 non-null float64\n",
      "final.output.concentrate_pb                           14148 non-null float64\n",
      "final.output.concentrate_sol                          13938 non-null float64\n",
      "final.output.concentrate_au                           14149 non-null float64\n",
      "final.output.recovery                                 14149 non-null float64\n",
      "final.output.tail_ag                                  14149 non-null float64\n",
      "final.output.tail_pb                                  14049 non-null float64\n",
      "final.output.tail_sol                                 14144 non-null float64\n",
      "final.output.tail_au                                  14149 non-null float64\n",
      "primary_cleaner.input.sulfate                         14129 non-null float64\n",
      "primary_cleaner.input.depressant                      14117 non-null float64\n",
      "primary_cleaner.input.feed_size                       14149 non-null float64\n",
      "primary_cleaner.input.xanthate                        14049 non-null float64\n",
      "primary_cleaner.output.concentrate_ag                 14149 non-null float64\n",
      "primary_cleaner.output.concentrate_pb                 14063 non-null float64\n",
      "primary_cleaner.output.concentrate_sol                13863 non-null float64\n",
      "primary_cleaner.output.concentrate_au                 14149 non-null float64\n",
      "primary_cleaner.output.tail_ag                        14148 non-null float64\n",
      "primary_cleaner.output.tail_pb                        14134 non-null float64\n",
      "primary_cleaner.output.tail_sol                       14103 non-null float64\n",
      "primary_cleaner.output.tail_au                        14149 non-null float64\n",
      "primary_cleaner.state.floatbank8_a_air                14145 non-null float64\n",
      "primary_cleaner.state.floatbank8_a_level              14148 non-null float64\n",
      "primary_cleaner.state.floatbank8_b_air                14145 non-null float64\n",
      "primary_cleaner.state.floatbank8_b_level              14148 non-null float64\n",
      "primary_cleaner.state.floatbank8_c_air                14147 non-null float64\n",
      "primary_cleaner.state.floatbank8_c_level              14148 non-null float64\n",
      "primary_cleaner.state.floatbank8_d_air                14146 non-null float64\n",
      "primary_cleaner.state.floatbank8_d_level              14148 non-null float64\n",
      "rougher.calculation.sulfate_to_au_concentrate         14148 non-null float64\n",
      "rougher.calculation.floatbank10_sulfate_to_au_feed    14148 non-null float64\n",
      "rougher.calculation.floatbank11_sulfate_to_au_feed    14148 non-null float64\n",
      "rougher.calculation.au_pb_ratio                       14149 non-null float64\n",
      "rougher.input.feed_ag                                 14149 non-null float64\n",
      "rougher.input.feed_pb                                 14049 non-null float64\n",
      "rougher.input.feed_rate                               14141 non-null float64\n",
      "rougher.input.feed_size                               14005 non-null float64\n",
      "rougher.input.feed_sol                                14071 non-null float64\n",
      "rougher.input.feed_au                                 14149 non-null float64\n",
      "rougher.input.floatbank10_sulfate                     14120 non-null float64\n",
      "rougher.input.floatbank10_xanthate                    14141 non-null float64\n",
      "rougher.input.floatbank11_sulfate                     14113 non-null float64\n",
      "rougher.input.floatbank11_xanthate                    13721 non-null float64\n",
      "rougher.output.concentrate_ag                         14149 non-null float64\n",
      "rougher.output.concentrate_pb                         14149 non-null float64\n",
      "rougher.output.concentrate_sol                        14127 non-null float64\n",
      "rougher.output.concentrate_au                         14149 non-null float64\n",
      "rougher.output.recovery                               14149 non-null float64\n",
      "rougher.output.tail_ag                                14148 non-null float64\n",
      "rougher.output.tail_pb                                14149 non-null float64\n",
      "rougher.output.tail_sol                               14149 non-null float64\n",
      "rougher.output.tail_au                                14149 non-null float64\n",
      "rougher.state.floatbank10_a_air                       14148 non-null float64\n",
      "rougher.state.floatbank10_a_level                     14148 non-null float64\n",
      "rougher.state.floatbank10_b_air                       14148 non-null float64\n",
      "rougher.state.floatbank10_b_level                     14148 non-null float64\n",
      "rougher.state.floatbank10_c_air                       14148 non-null float64\n",
      "rougher.state.floatbank10_c_level                     14148 non-null float64\n",
      "rougher.state.floatbank10_d_air                       14149 non-null float64\n",
      "rougher.state.floatbank10_d_level                     14149 non-null float64\n",
      "rougher.state.floatbank10_e_air                       13713 non-null float64\n",
      "rougher.state.floatbank10_e_level                     14149 non-null float64\n",
      "rougher.state.floatbank10_f_air                       14149 non-null float64\n",
      "rougher.state.floatbank10_f_level                     14149 non-null float64\n",
      "secondary_cleaner.output.tail_ag                      14147 non-null float64\n",
      "secondary_cleaner.output.tail_pb                      14139 non-null float64\n",
      "secondary_cleaner.output.tail_sol                     12544 non-null float64\n",
      "secondary_cleaner.output.tail_au                      14149 non-null float64\n",
      "secondary_cleaner.state.floatbank2_a_air              13932 non-null float64\n",
      "secondary_cleaner.state.floatbank2_a_level            14148 non-null float64\n",
      "secondary_cleaner.state.floatbank2_b_air              14128 non-null float64\n",
      "secondary_cleaner.state.floatbank2_b_level            14148 non-null float64\n",
      "secondary_cleaner.state.floatbank3_a_air              14145 non-null float64\n",
      "secondary_cleaner.state.floatbank3_a_level            14148 non-null float64\n",
      "secondary_cleaner.state.floatbank3_b_air              14148 non-null float64\n",
      "secondary_cleaner.state.floatbank3_b_level            14148 non-null float64\n",
      "secondary_cleaner.state.floatbank4_a_air              14143 non-null float64\n",
      "secondary_cleaner.state.floatbank4_a_level            14148 non-null float64\n",
      "secondary_cleaner.state.floatbank4_b_air              14148 non-null float64\n",
      "secondary_cleaner.state.floatbank4_b_level            14148 non-null float64\n",
      "secondary_cleaner.state.floatbank5_a_air              14148 non-null float64\n",
      "secondary_cleaner.state.floatbank5_a_level            14148 non-null float64\n",
      "secondary_cleaner.state.floatbank5_b_air              14148 non-null float64\n",
      "secondary_cleaner.state.floatbank5_b_level            14148 non-null float64\n",
      "secondary_cleaner.state.floatbank6_a_air              14147 non-null float64\n",
      "secondary_cleaner.state.floatbank6_a_level            14148 non-null float64\n",
      "dtypes: datetime64[ns](1), float64(86)\n",
      "memory usage: 9.4 MB\n"
     ]
    }
   ],
   "source": [
    "gold_recovery_train = pd.read_csv('/datasets/gold_recovery_train_new.csv', parse_dates = ['date'])\n",
    "gold_recovery_train\n",
    "gold_recovery_train.info()"
   ]
  },
  {
   "cell_type": "code",
   "execution_count": 47,
   "metadata": {
    "scrolled": true
   },
   "outputs": [
    {
     "name": "stdout",
     "output_type": "stream",
     "text": [
      "<class 'pandas.core.frame.DataFrame'>\n",
      "RangeIndex: 5290 entries, 0 to 5289\n",
      "Data columns (total 53 columns):\n",
      "date                                          5290 non-null datetime64[ns]\n",
      "primary_cleaner.input.sulfate                 5286 non-null float64\n",
      "primary_cleaner.input.depressant              5285 non-null float64\n",
      "primary_cleaner.input.feed_size               5290 non-null float64\n",
      "primary_cleaner.input.xanthate                5286 non-null float64\n",
      "primary_cleaner.state.floatbank8_a_air        5290 non-null float64\n",
      "primary_cleaner.state.floatbank8_a_level      5290 non-null float64\n",
      "primary_cleaner.state.floatbank8_b_air        5290 non-null float64\n",
      "primary_cleaner.state.floatbank8_b_level      5290 non-null float64\n",
      "primary_cleaner.state.floatbank8_c_air        5290 non-null float64\n",
      "primary_cleaner.state.floatbank8_c_level      5290 non-null float64\n",
      "primary_cleaner.state.floatbank8_d_air        5290 non-null float64\n",
      "primary_cleaner.state.floatbank8_d_level      5290 non-null float64\n",
      "rougher.input.feed_ag                         5290 non-null float64\n",
      "rougher.input.feed_pb                         5290 non-null float64\n",
      "rougher.input.feed_rate                       5287 non-null float64\n",
      "rougher.input.feed_size                       5289 non-null float64\n",
      "rougher.input.feed_sol                        5269 non-null float64\n",
      "rougher.input.feed_au                         5290 non-null float64\n",
      "rougher.input.floatbank10_sulfate             5285 non-null float64\n",
      "rougher.input.floatbank10_xanthate            5290 non-null float64\n",
      "rougher.input.floatbank11_sulfate             5282 non-null float64\n",
      "rougher.input.floatbank11_xanthate            5265 non-null float64\n",
      "rougher.state.floatbank10_a_air               5290 non-null float64\n",
      "rougher.state.floatbank10_a_level             5290 non-null float64\n",
      "rougher.state.floatbank10_b_air               5290 non-null float64\n",
      "rougher.state.floatbank10_b_level             5290 non-null float64\n",
      "rougher.state.floatbank10_c_air               5290 non-null float64\n",
      "rougher.state.floatbank10_c_level             5290 non-null float64\n",
      "rougher.state.floatbank10_d_air               5290 non-null float64\n",
      "rougher.state.floatbank10_d_level             5290 non-null float64\n",
      "rougher.state.floatbank10_e_air               5290 non-null float64\n",
      "rougher.state.floatbank10_e_level             5290 non-null float64\n",
      "rougher.state.floatbank10_f_air               5290 non-null float64\n",
      "rougher.state.floatbank10_f_level             5290 non-null float64\n",
      "secondary_cleaner.state.floatbank2_a_air      5287 non-null float64\n",
      "secondary_cleaner.state.floatbank2_a_level    5290 non-null float64\n",
      "secondary_cleaner.state.floatbank2_b_air      5288 non-null float64\n",
      "secondary_cleaner.state.floatbank2_b_level    5290 non-null float64\n",
      "secondary_cleaner.state.floatbank3_a_air      5281 non-null float64\n",
      "secondary_cleaner.state.floatbank3_a_level    5290 non-null float64\n",
      "secondary_cleaner.state.floatbank3_b_air      5290 non-null float64\n",
      "secondary_cleaner.state.floatbank3_b_level    5290 non-null float64\n",
      "secondary_cleaner.state.floatbank4_a_air      5290 non-null float64\n",
      "secondary_cleaner.state.floatbank4_a_level    5290 non-null float64\n",
      "secondary_cleaner.state.floatbank4_b_air      5290 non-null float64\n",
      "secondary_cleaner.state.floatbank4_b_level    5290 non-null float64\n",
      "secondary_cleaner.state.floatbank5_a_air      5290 non-null float64\n",
      "secondary_cleaner.state.floatbank5_a_level    5290 non-null float64\n",
      "secondary_cleaner.state.floatbank5_b_air      5290 non-null float64\n",
      "secondary_cleaner.state.floatbank5_b_level    5290 non-null float64\n",
      "secondary_cleaner.state.floatbank6_a_air      5290 non-null float64\n",
      "secondary_cleaner.state.floatbank6_a_level    5290 non-null float64\n",
      "dtypes: datetime64[ns](1), float64(52)\n",
      "memory usage: 2.1 MB\n"
     ]
    }
   ],
   "source": [
    "gold_recovery_test = pd.read_csv('/datasets/gold_recovery_test_new.csv', parse_dates = ['date'])\n",
    "gold_recovery_test\n",
    "gold_recovery_test.info()"
   ]
  },
  {
   "cell_type": "code",
   "execution_count": 48,
   "metadata": {
    "scrolled": true
   },
   "outputs": [
    {
     "name": "stdout",
     "output_type": "stream",
     "text": [
      "<class 'pandas.core.frame.DataFrame'>\n",
      "RangeIndex: 19439 entries, 0 to 19438\n",
      "Data columns (total 87 columns):\n",
      "date                                                  19439 non-null datetime64[ns]\n",
      "final.output.concentrate_ag                           19438 non-null float64\n",
      "final.output.concentrate_pb                           19438 non-null float64\n",
      "final.output.concentrate_sol                          19228 non-null float64\n",
      "final.output.concentrate_au                           19439 non-null float64\n",
      "final.output.recovery                                 19439 non-null float64\n",
      "final.output.tail_ag                                  19438 non-null float64\n",
      "final.output.tail_pb                                  19338 non-null float64\n",
      "final.output.tail_sol                                 19433 non-null float64\n",
      "final.output.tail_au                                  19439 non-null float64\n",
      "primary_cleaner.input.sulfate                         19415 non-null float64\n",
      "primary_cleaner.input.depressant                      19402 non-null float64\n",
      "primary_cleaner.input.feed_size                       19439 non-null float64\n",
      "primary_cleaner.input.xanthate                        19335 non-null float64\n",
      "primary_cleaner.output.concentrate_ag                 19439 non-null float64\n",
      "primary_cleaner.output.concentrate_pb                 19323 non-null float64\n",
      "primary_cleaner.output.concentrate_sol                19069 non-null float64\n",
      "primary_cleaner.output.concentrate_au                 19439 non-null float64\n",
      "primary_cleaner.output.tail_ag                        19435 non-null float64\n",
      "primary_cleaner.output.tail_pb                        19418 non-null float64\n",
      "primary_cleaner.output.tail_sol                       19377 non-null float64\n",
      "primary_cleaner.output.tail_au                        19439 non-null float64\n",
      "primary_cleaner.state.floatbank8_a_air                19435 non-null float64\n",
      "primary_cleaner.state.floatbank8_a_level              19438 non-null float64\n",
      "primary_cleaner.state.floatbank8_b_air                19435 non-null float64\n",
      "primary_cleaner.state.floatbank8_b_level              19438 non-null float64\n",
      "primary_cleaner.state.floatbank8_c_air                19437 non-null float64\n",
      "primary_cleaner.state.floatbank8_c_level              19438 non-null float64\n",
      "primary_cleaner.state.floatbank8_d_air                19436 non-null float64\n",
      "primary_cleaner.state.floatbank8_d_level              19438 non-null float64\n",
      "rougher.calculation.sulfate_to_au_concentrate         19437 non-null float64\n",
      "rougher.calculation.floatbank10_sulfate_to_au_feed    19437 non-null float64\n",
      "rougher.calculation.floatbank11_sulfate_to_au_feed    19437 non-null float64\n",
      "rougher.calculation.au_pb_ratio                       19439 non-null float64\n",
      "rougher.input.feed_ag                                 19439 non-null float64\n",
      "rougher.input.feed_pb                                 19339 non-null float64\n",
      "rougher.input.feed_rate                               19428 non-null float64\n",
      "rougher.input.feed_size                               19294 non-null float64\n",
      "rougher.input.feed_sol                                19340 non-null float64\n",
      "rougher.input.feed_au                                 19439 non-null float64\n",
      "rougher.input.floatbank10_sulfate                     19405 non-null float64\n",
      "rougher.input.floatbank10_xanthate                    19431 non-null float64\n",
      "rougher.input.floatbank11_sulfate                     19395 non-null float64\n",
      "rougher.input.floatbank11_xanthate                    18986 non-null float64\n",
      "rougher.output.concentrate_ag                         19439 non-null float64\n",
      "rougher.output.concentrate_pb                         19439 non-null float64\n",
      "rougher.output.concentrate_sol                        19416 non-null float64\n",
      "rougher.output.concentrate_au                         19439 non-null float64\n",
      "rougher.output.recovery                               19439 non-null float64\n",
      "rougher.output.tail_ag                                19438 non-null float64\n",
      "rougher.output.tail_pb                                19439 non-null float64\n",
      "rougher.output.tail_sol                               19439 non-null float64\n",
      "rougher.output.tail_au                                19439 non-null float64\n",
      "rougher.state.floatbank10_a_air                       19438 non-null float64\n",
      "rougher.state.floatbank10_a_level                     19438 non-null float64\n",
      "rougher.state.floatbank10_b_air                       19438 non-null float64\n",
      "rougher.state.floatbank10_b_level                     19438 non-null float64\n",
      "rougher.state.floatbank10_c_air                       19438 non-null float64\n",
      "rougher.state.floatbank10_c_level                     19438 non-null float64\n",
      "rougher.state.floatbank10_d_air                       19439 non-null float64\n",
      "rougher.state.floatbank10_d_level                     19439 non-null float64\n",
      "rougher.state.floatbank10_e_air                       19003 non-null float64\n",
      "rougher.state.floatbank10_e_level                     19439 non-null float64\n",
      "rougher.state.floatbank10_f_air                       19439 non-null float64\n",
      "rougher.state.floatbank10_f_level                     19439 non-null float64\n",
      "secondary_cleaner.output.tail_ag                      19437 non-null float64\n",
      "secondary_cleaner.output.tail_pb                      19427 non-null float64\n",
      "secondary_cleaner.output.tail_sol                     17691 non-null float64\n",
      "secondary_cleaner.output.tail_au                      19439 non-null float64\n",
      "secondary_cleaner.state.floatbank2_a_air              19219 non-null float64\n",
      "secondary_cleaner.state.floatbank2_a_level            19438 non-null float64\n",
      "secondary_cleaner.state.floatbank2_b_air              19416 non-null float64\n",
      "secondary_cleaner.state.floatbank2_b_level            19438 non-null float64\n",
      "secondary_cleaner.state.floatbank3_a_air              19426 non-null float64\n",
      "secondary_cleaner.state.floatbank3_a_level            19438 non-null float64\n",
      "secondary_cleaner.state.floatbank3_b_air              19438 non-null float64\n",
      "secondary_cleaner.state.floatbank3_b_level            19438 non-null float64\n",
      "secondary_cleaner.state.floatbank4_a_air              19433 non-null float64\n",
      "secondary_cleaner.state.floatbank4_a_level            19438 non-null float64\n",
      "secondary_cleaner.state.floatbank4_b_air              19438 non-null float64\n",
      "secondary_cleaner.state.floatbank4_b_level            19438 non-null float64\n",
      "secondary_cleaner.state.floatbank5_a_air              19438 non-null float64\n",
      "secondary_cleaner.state.floatbank5_a_level            19438 non-null float64\n",
      "secondary_cleaner.state.floatbank5_b_air              19438 non-null float64\n",
      "secondary_cleaner.state.floatbank5_b_level            19438 non-null float64\n",
      "secondary_cleaner.state.floatbank6_a_air              19437 non-null float64\n",
      "secondary_cleaner.state.floatbank6_a_level            19438 non-null float64\n",
      "dtypes: datetime64[ns](1), float64(86)\n",
      "memory usage: 12.9 MB\n"
     ]
    }
   ],
   "source": [
    "gold_recovery_full = pd.read_csv('/datasets/gold_recovery_full_new.csv', parse_dates = ['date'])\n",
    "gold_recovery_full\n",
    "gold_recovery_full.info()"
   ]
  },
  {
   "cell_type": "markdown",
   "metadata": {},
   "source": [
    "### Рассчитаем эффективность обогащения (rougher.output.recovery)"
   ]
  },
  {
   "cell_type": "markdown",
   "metadata": {},
   "source": [
    "В формулу для расчета эффективности обогащения подставим необходимые признаки из таблицы с обучающими данными и сохраним это в переменную recovery_pred (так как это можно считать предсказанными данными, раз мы их вычисляем по формуле)."
   ]
  },
  {
   "cell_type": "code",
   "execution_count": 49,
   "metadata": {},
   "outputs": [],
   "source": [
    "C = gold_recovery_train['rougher.output.concentrate_au']\n",
    "F = gold_recovery_train['rougher.input.feed_au']\n",
    "T = gold_recovery_train['rougher.output.tail_au']\n",
    "for i in range(len(gold_recovery_train)):\n",
    "    recovery_pred = C * (F - T) / (F * (C - T)) * 100"
   ]
  },
  {
   "cell_type": "markdown",
   "metadata": {},
   "source": [
    "Воспользуемся метрикой MAE из библиотеки sklearn, чтобы оценить различие между вычисленной эффективностью и той, что есть в исходных данных."
   ]
  },
  {
   "cell_type": "code",
   "execution_count": 50,
   "metadata": {},
   "outputs": [
    {
     "data": {
      "text/plain": [
       "9.682896147825551e-15"
      ]
     },
     "execution_count": 50,
     "metadata": {},
     "output_type": "execute_result"
    }
   ],
   "source": [
    "mean_absolute_error(gold_recovery_train['rougher.output.recovery'], recovery_pred)"
   ]
  },
  {
   "cell_type": "markdown",
   "metadata": {},
   "source": [
    "Значение MAE очень маленькое (близко к нулю), что означает, что эффективность обогащения рассчитана правильно."
   ]
  },
  {
   "cell_type": "markdown",
   "metadata": {},
   "source": [
    "### Проверка признаков, отсутствующих в тестовой выборке"
   ]
  },
  {
   "cell_type": "markdown",
   "metadata": {},
   "source": [
    "Проанализируем признаки, недоступные в тестовой выборке. Для этого возьмем названия колонок тестовой выборки и выкинем одноименные колонки из общей выборки. Сохраним получившуюся таблицу под названием df_target (так как отсутствующие в тестовой выборке признаки - это целевые признаки)."
   ]
  },
  {
   "cell_type": "code",
   "execution_count": 51,
   "metadata": {
    "scrolled": true
   },
   "outputs": [
    {
     "data": {
      "text/plain": [
       "Index(['date', 'primary_cleaner.input.sulfate',\n",
       "       'primary_cleaner.input.depressant', 'primary_cleaner.input.feed_size',\n",
       "       'primary_cleaner.input.xanthate',\n",
       "       'primary_cleaner.state.floatbank8_a_air',\n",
       "       'primary_cleaner.state.floatbank8_a_level',\n",
       "       'primary_cleaner.state.floatbank8_b_air',\n",
       "       'primary_cleaner.state.floatbank8_b_level',\n",
       "       'primary_cleaner.state.floatbank8_c_air',\n",
       "       'primary_cleaner.state.floatbank8_c_level',\n",
       "       'primary_cleaner.state.floatbank8_d_air',\n",
       "       'primary_cleaner.state.floatbank8_d_level', 'rougher.input.feed_ag',\n",
       "       'rougher.input.feed_pb', 'rougher.input.feed_rate',\n",
       "       'rougher.input.feed_size', 'rougher.input.feed_sol',\n",
       "       'rougher.input.feed_au', 'rougher.input.floatbank10_sulfate',\n",
       "       'rougher.input.floatbank10_xanthate',\n",
       "       'rougher.input.floatbank11_sulfate',\n",
       "       'rougher.input.floatbank11_xanthate', 'rougher.state.floatbank10_a_air',\n",
       "       'rougher.state.floatbank10_a_level', 'rougher.state.floatbank10_b_air',\n",
       "       'rougher.state.floatbank10_b_level', 'rougher.state.floatbank10_c_air',\n",
       "       'rougher.state.floatbank10_c_level', 'rougher.state.floatbank10_d_air',\n",
       "       'rougher.state.floatbank10_d_level', 'rougher.state.floatbank10_e_air',\n",
       "       'rougher.state.floatbank10_e_level', 'rougher.state.floatbank10_f_air',\n",
       "       'rougher.state.floatbank10_f_level',\n",
       "       'secondary_cleaner.state.floatbank2_a_air',\n",
       "       'secondary_cleaner.state.floatbank2_a_level',\n",
       "       'secondary_cleaner.state.floatbank2_b_air',\n",
       "       'secondary_cleaner.state.floatbank2_b_level',\n",
       "       'secondary_cleaner.state.floatbank3_a_air',\n",
       "       'secondary_cleaner.state.floatbank3_a_level',\n",
       "       'secondary_cleaner.state.floatbank3_b_air',\n",
       "       'secondary_cleaner.state.floatbank3_b_level',\n",
       "       'secondary_cleaner.state.floatbank4_a_air',\n",
       "       'secondary_cleaner.state.floatbank4_a_level',\n",
       "       'secondary_cleaner.state.floatbank4_b_air',\n",
       "       'secondary_cleaner.state.floatbank4_b_level',\n",
       "       'secondary_cleaner.state.floatbank5_a_air',\n",
       "       'secondary_cleaner.state.floatbank5_a_level',\n",
       "       'secondary_cleaner.state.floatbank5_b_air',\n",
       "       'secondary_cleaner.state.floatbank5_b_level',\n",
       "       'secondary_cleaner.state.floatbank6_a_air',\n",
       "       'secondary_cleaner.state.floatbank6_a_level'],\n",
       "      dtype='object')"
      ]
     },
     "execution_count": 51,
     "metadata": {},
     "output_type": "execute_result"
    }
   ],
   "source": [
    "gold_recovery_test.columns"
   ]
  },
  {
   "cell_type": "code",
   "execution_count": 52,
   "metadata": {},
   "outputs": [],
   "source": [
    "df_target = gold_recovery_train.drop(['date', 'primary_cleaner.input.sulfate',\n",
    "       'primary_cleaner.input.depressant', 'primary_cleaner.input.feed_size',\n",
    "       'primary_cleaner.input.xanthate',\n",
    "       'primary_cleaner.state.floatbank8_a_air',\n",
    "       'primary_cleaner.state.floatbank8_a_level',\n",
    "       'primary_cleaner.state.floatbank8_b_air',\n",
    "       'primary_cleaner.state.floatbank8_b_level',\n",
    "       'primary_cleaner.state.floatbank8_c_air',\n",
    "       'primary_cleaner.state.floatbank8_c_level',\n",
    "       'primary_cleaner.state.floatbank8_d_air',\n",
    "       'primary_cleaner.state.floatbank8_d_level', 'rougher.input.feed_ag',\n",
    "       'rougher.input.feed_pb', 'rougher.input.feed_rate',\n",
    "       'rougher.input.feed_size', 'rougher.input.feed_sol',\n",
    "       'rougher.input.feed_au', 'rougher.input.floatbank10_sulfate',\n",
    "       'rougher.input.floatbank10_xanthate',\n",
    "       'rougher.input.floatbank11_sulfate',\n",
    "       'rougher.input.floatbank11_xanthate', 'rougher.state.floatbank10_a_air',\n",
    "       'rougher.state.floatbank10_a_level', 'rougher.state.floatbank10_b_air',\n",
    "       'rougher.state.floatbank10_b_level', 'rougher.state.floatbank10_c_air',\n",
    "       'rougher.state.floatbank10_c_level', 'rougher.state.floatbank10_d_air',\n",
    "       'rougher.state.floatbank10_d_level', 'rougher.state.floatbank10_e_air',\n",
    "       'rougher.state.floatbank10_e_level', 'rougher.state.floatbank10_f_air',\n",
    "       'rougher.state.floatbank10_f_level',\n",
    "       'secondary_cleaner.state.floatbank2_a_air',\n",
    "       'secondary_cleaner.state.floatbank2_a_level',\n",
    "       'secondary_cleaner.state.floatbank2_b_air',\n",
    "       'secondary_cleaner.state.floatbank2_b_level',\n",
    "       'secondary_cleaner.state.floatbank3_a_air',\n",
    "       'secondary_cleaner.state.floatbank3_a_level',\n",
    "       'secondary_cleaner.state.floatbank3_b_air',\n",
    "       'secondary_cleaner.state.floatbank3_b_level',\n",
    "       'secondary_cleaner.state.floatbank4_a_air',\n",
    "       'secondary_cleaner.state.floatbank4_a_level',\n",
    "       'secondary_cleaner.state.floatbank4_b_air',\n",
    "       'secondary_cleaner.state.floatbank4_b_level',\n",
    "       'secondary_cleaner.state.floatbank5_a_air',\n",
    "       'secondary_cleaner.state.floatbank5_a_level',\n",
    "       'secondary_cleaner.state.floatbank5_b_air',\n",
    "       'secondary_cleaner.state.floatbank5_b_level',\n",
    "       'secondary_cleaner.state.floatbank6_a_air',\n",
    "       'secondary_cleaner.state.floatbank6_a_level'], axis=1)"
   ]
  },
  {
   "cell_type": "code",
   "execution_count": 53,
   "metadata": {
    "scrolled": true
   },
   "outputs": [
    {
     "name": "stdout",
     "output_type": "stream",
     "text": [
      "<class 'pandas.core.frame.DataFrame'>\n",
      "RangeIndex: 14149 entries, 0 to 14148\n",
      "Data columns (total 34 columns):\n",
      "final.output.concentrate_ag                           14148 non-null float64\n",
      "final.output.concentrate_pb                           14148 non-null float64\n",
      "final.output.concentrate_sol                          13938 non-null float64\n",
      "final.output.concentrate_au                           14149 non-null float64\n",
      "final.output.recovery                                 14149 non-null float64\n",
      "final.output.tail_ag                                  14149 non-null float64\n",
      "final.output.tail_pb                                  14049 non-null float64\n",
      "final.output.tail_sol                                 14144 non-null float64\n",
      "final.output.tail_au                                  14149 non-null float64\n",
      "primary_cleaner.output.concentrate_ag                 14149 non-null float64\n",
      "primary_cleaner.output.concentrate_pb                 14063 non-null float64\n",
      "primary_cleaner.output.concentrate_sol                13863 non-null float64\n",
      "primary_cleaner.output.concentrate_au                 14149 non-null float64\n",
      "primary_cleaner.output.tail_ag                        14148 non-null float64\n",
      "primary_cleaner.output.tail_pb                        14134 non-null float64\n",
      "primary_cleaner.output.tail_sol                       14103 non-null float64\n",
      "primary_cleaner.output.tail_au                        14149 non-null float64\n",
      "rougher.calculation.sulfate_to_au_concentrate         14148 non-null float64\n",
      "rougher.calculation.floatbank10_sulfate_to_au_feed    14148 non-null float64\n",
      "rougher.calculation.floatbank11_sulfate_to_au_feed    14148 non-null float64\n",
      "rougher.calculation.au_pb_ratio                       14149 non-null float64\n",
      "rougher.output.concentrate_ag                         14149 non-null float64\n",
      "rougher.output.concentrate_pb                         14149 non-null float64\n",
      "rougher.output.concentrate_sol                        14127 non-null float64\n",
      "rougher.output.concentrate_au                         14149 non-null float64\n",
      "rougher.output.recovery                               14149 non-null float64\n",
      "rougher.output.tail_ag                                14148 non-null float64\n",
      "rougher.output.tail_pb                                14149 non-null float64\n",
      "rougher.output.tail_sol                               14149 non-null float64\n",
      "rougher.output.tail_au                                14149 non-null float64\n",
      "secondary_cleaner.output.tail_ag                      14147 non-null float64\n",
      "secondary_cleaner.output.tail_pb                      14139 non-null float64\n",
      "secondary_cleaner.output.tail_sol                     12544 non-null float64\n",
      "secondary_cleaner.output.tail_au                      14149 non-null float64\n",
      "dtypes: float64(34)\n",
      "memory usage: 3.7 MB\n"
     ]
    }
   ],
   "source": [
    "df_target.info()"
   ]
  },
  {
   "cell_type": "markdown",
   "metadata": {},
   "source": [
    "В тестовую таблицу не попали целевые признаки (с типом output) для 4 разных веществ (Au - золото, Ag - серебро, Pb - свинец и Sol - скорее всего, прочие примеси), на разных этапах технологического процесса для концентратов и отвальных хвостов. Помимо этого не попали признаки с типом \"расчётные характеристики\" (calculation), потому что замеряются и/или рассчитываются значительно позже."
   ]
  },
  {
   "cell_type": "markdown",
   "metadata": {},
   "source": [
    "### Предобработка данных"
   ]
  },
  {
   "cell_type": "markdown",
   "metadata": {},
   "source": [
    "При открытии таблиц в pandas, мы уже перевели тип данных столбца \"date\" в тип данных datetime64. Поскольку в условии проекта говорится, что \"соседние по времени параметры часто похожи\", то можно заполнить пропуски соседними по времени значениями, используя методы ffill или bfill (остановимся на ffill)."
   ]
  },
  {
   "cell_type": "code",
   "execution_count": 54,
   "metadata": {},
   "outputs": [],
   "source": [
    "gold_recovery_test = gold_recovery_test.ffill()\n",
    "gold_recovery_train = gold_recovery_train.ffill()\n",
    "gold_recovery_full = gold_recovery_full.ffill()"
   ]
  },
  {
   "cell_type": "code",
   "execution_count": 55,
   "metadata": {},
   "outputs": [
    {
     "data": {
      "text/plain": [
       "date                                          0\n",
       "final.output.concentrate_ag                   0\n",
       "final.output.concentrate_pb                   0\n",
       "final.output.concentrate_sol                  0\n",
       "final.output.concentrate_au                   0\n",
       "                                             ..\n",
       "secondary_cleaner.state.floatbank5_a_level    0\n",
       "secondary_cleaner.state.floatbank5_b_air      0\n",
       "secondary_cleaner.state.floatbank5_b_level    0\n",
       "secondary_cleaner.state.floatbank6_a_air      0\n",
       "secondary_cleaner.state.floatbank6_a_level    0\n",
       "Length: 87, dtype: int64"
      ]
     },
     "execution_count": 55,
     "metadata": {},
     "output_type": "execute_result"
    }
   ],
   "source": [
    "gold_recovery_train.isnull().sum()"
   ]
  },
  {
   "cell_type": "markdown",
   "metadata": {},
   "source": [
    "## Анализ данных"
   ]
  },
  {
   "cell_type": "markdown",
   "metadata": {},
   "source": [
    "### Сравнение концентрации металлов\n",
    "Посмотрим как менялась концентрация металлов (Au, Pb, Ag) на различных этапах обработки."
   ]
  },
  {
   "cell_type": "code",
   "execution_count": 56,
   "metadata": {},
   "outputs": [],
   "source": [
    "au_conc = gold_recovery_full[['rougher.input.feed_au', 'rougher.output.concentrate_au', 'primary_cleaner.output.concentrate_au', 'final.output.concentrate_au']]\n",
    "ag_conc = gold_recovery_full[['rougher.input.feed_ag', 'rougher.output.concentrate_ag', 'primary_cleaner.output.concentrate_ag', 'final.output.concentrate_ag']]\n",
    "pb_conc = gold_recovery_full[['rougher.input.feed_pb', 'rougher.output.concentrate_pb', 'primary_cleaner.output.concentrate_pb', 'final.output.concentrate_pb']]"
   ]
  },
  {
   "cell_type": "code",
   "execution_count": 57,
   "metadata": {},
   "outputs": [
    {
     "data": {
      "image/png": "[encoded data removed]",
      "text/plain": [
       "<Figure size 1440x1440 with 3 Axes>"
      ]
     },
     "metadata": {
      "needs_background": "light"
     },
     "output_type": "display_data"
    }
   ],
   "source": [
    "fig, axes = plt.subplots(3, 1, figsize=(20, 20))\n",
    "for column in list(au_conc):\n",
    "    sns.distplot(au_conc[column], ax=axes[0], kde=False)\n",
    "axes[0].set(title=\"Au\", xlabel=\"Concentration %\", ylabel=\"Amount\")\n",
    "for column in list(ag_conc):\n",
    "    sns.distplot(ag_conc[column], ax=axes[1], kde=False)\n",
    "axes[1].set(title=\"Ag\", xlabel=\"Concentration %\", ylabel=\"Amount\")\n",
    "for column in list(pb_conc):\n",
    "    sns.distplot(pb_conc[column], ax=axes[2], kde=False)\n",
    "axes[2].set(title=\"Pb\", xlabel=\"Concentration %\", ylabel=\"Amount\")\n",
    "fig.suptitle(\"Концентрация металлов на разных стадиях обработки\")\n",
    "fig.legend([\"rougher.input.feed\", \"rougher.output.concentrate\", \"primary.cleaner.output concentrate\", \"final.output.concentrate\"])\n",
    "fig.show()"
   ]
  },
  {
   "cell_type": "markdown",
   "metadata": {},
   "source": [
    "Концентрация золота закономерно растет с каждым этапом очисткии к финальному этапу составляет приблизительно 45%.\n",
    "\n",
    "Концентрация сребра к финальному этапу падаети оказывается около 5%, видимо много вымывается или уходит в отвалы.\n",
    "\n",
    "Концентрация свинца практически не меняется от этапа к этапу."
   ]
  },
  {
   "cell_type": "markdown",
   "metadata": {},
   "source": [
    "### Сравнение распределения размера гранул\n",
    "\n",
    "Посмотрим распределение размера гранул для обучающей и тестовой выборок. "
   ]
  },
  {
   "cell_type": "code",
   "execution_count": 58,
   "metadata": {},
   "outputs": [
    {
     "data": {
      "image/png": "[encoded data removed]",
      "text/plain": [
       "<Figure size 720x720 with 2 Axes>"
      ]
     },
     "metadata": {
      "needs_background": "light"
     },
     "output_type": "display_data"
    }
   ],
   "source": [
    "fig, axes = plt.subplots(2, 1, figsize=(10, 10))\n",
    "sns.distplot(gold_recovery_train['rougher.input.feed_size'], ax=axes[0], kde=False)\n",
    "sns.distplot(gold_recovery_test['rougher.input.feed_size'], ax=axes[0], kde=False)\n",
    "axes[0].set(title=\"rougher.input\", xlabel=\"Size\", ylabel=\"Amount\")\n",
    "\n",
    "sns.distplot(gold_recovery_train['primary_cleaner.input.feed_size'], ax=axes[1], kde=False)\n",
    "sns.distplot(gold_recovery_test['primary_cleaner.input.feed_size'], ax=axes[1], kde=False)\n",
    "axes[1].set(title=\"primary_cleaner.input\", xlabel=\"Size\", ylabel=\"Amount\")\n",
    "\n",
    "fig.suptitle(\"Распределение размера гранул\")\n",
    "fig.legend([\"train\", \"test\"])\n",
    "fig.show()"
   ]
  },
  {
   "cell_type": "markdown",
   "metadata": {},
   "source": [
    "После флотации размер гранул уменьшается почти в 10 раз. Распределение размеров гранул на тестовой и обучающей выборках практически не отличаются, значит оценка модели может быть правильной."
   ]
  },
  {
   "cell_type": "markdown",
   "metadata": {},
   "source": [
    "### Исследование суммарной концентрации\n",
    "Исследуем суммарную концентрацию всех веществ на разных стадиях: в сырье, в черновом и финальном концентратах."
   ]
  },
  {
   "cell_type": "code",
   "execution_count": 59,
   "metadata": {},
   "outputs": [],
   "source": [
    "gold_recovery_full['rougher.output_concentrate_sum'] = gold_recovery_full['rougher.output.concentrate_ag'] + gold_recovery_full['rougher.output.concentrate_au'] + gold_recovery_full['rougher.output.concentrate_pb']+ gold_recovery_full['rougher.output.concentrate_sol'] "
   ]
  },
  {
   "cell_type": "code",
   "execution_count": 60,
   "metadata": {},
   "outputs": [],
   "source": [
    "gold_recovery_full['final.output.concentrate_sum'] = gold_recovery_full['final.output.concentrate_ag'] + gold_recovery_full['final.output.concentrate_au'] + gold_recovery_full['final.output.concentrate_pb']+ gold_recovery_full['final.output.concentrate_sol'] "
   ]
  },
  {
   "cell_type": "code",
   "execution_count": 61,
   "metadata": {},
   "outputs": [],
   "source": [
    "gold_recovery_full['rougher.input.feede_sum'] = gold_recovery_full['rougher.input.feed_ag'] + gold_recovery_full['rougher.input.feed_au'] + gold_recovery_full['rougher.input.feed_pb']+ gold_recovery_full['rougher.input.feed_sol'] "
   ]
  },
  {
   "cell_type": "code",
   "execution_count": 62,
   "metadata": {},
   "outputs": [],
   "source": [
    "metal_concentrate_sum = gold_recovery_full[['rougher.input.feede_sum', 'rougher.output_concentrate_sum', 'final.output.concentrate_sum']]"
   ]
  },
  {
   "cell_type": "code",
   "execution_count": 63,
   "metadata": {},
   "outputs": [
    {
     "data": {
      "image/png": "[encoded data removed]",
      "text/plain": [
       "<Figure size 720x720 with 1 Axes>"
      ]
     },
     "metadata": {
      "needs_background": "light"
     },
     "output_type": "display_data"
    }
   ],
   "source": [
    "fig = plt.figure(figsize=(10, 10))\n",
    "for column in list(metal_concentrate_sum):\n",
    "    sns.distplot(metal_concentrate_sum[column],  kde=False)\n",
    "fig.suptitle(\"Суммарная концентрация металлов на разных стадиях обработки\")\n",
    "fig.legend([\"rougher.input.feede_sum\", \"rougher.output_concentrate_sum\", \"final.output.concentrate_sum\"])\n",
    "fig.show()"
   ]
  },
  {
   "cell_type": "markdown",
   "metadata": {},
   "source": [
    "Концентрация веществ в процессе обработки и очистки увеличивается, имеются аномальные выбросы в районе нулевой сумарной концентрации, но их слишком много, чтобы пренебрегать ими."
   ]
  },
  {
   "cell_type": "markdown",
   "metadata": {},
   "source": [
    "Посмотрим сколько строк имеют нулевую сумарную концентрацию на разных этапах и одновременно на 3 этапах."
   ]
  },
  {
   "cell_type": "code",
   "execution_count": 64,
   "metadata": {},
   "outputs": [
    {
     "data": {
      "text/plain": [
       "(0, 90)"
      ]
     },
     "execution_count": 64,
     "metadata": {},
     "output_type": "execute_result"
    }
   ],
   "source": [
    "gold_recovery_full.loc[gold_recovery_full['rougher.input.feede_sum'] == 0].shape"
   ]
  },
  {
   "cell_type": "code",
   "execution_count": 65,
   "metadata": {},
   "outputs": [
    {
     "data": {
      "text/plain": [
       "(394, 90)"
      ]
     },
     "execution_count": 65,
     "metadata": {},
     "output_type": "execute_result"
    }
   ],
   "source": [
    "gold_recovery_full.loc[gold_recovery_full['rougher.output_concentrate_sum'] == 0].shape"
   ]
  },
  {
   "cell_type": "code",
   "execution_count": 66,
   "metadata": {},
   "outputs": [
    {
     "data": {
      "text/plain": [
       "(98, 90)"
      ]
     },
     "execution_count": 66,
     "metadata": {},
     "output_type": "execute_result"
    }
   ],
   "source": [
    "gold_recovery_full.loc[gold_recovery_full['final.output.concentrate_sum'] == 0].shape"
   ]
  },
  {
   "cell_type": "code",
   "execution_count": 67,
   "metadata": {},
   "outputs": [
    {
     "data": {
      "text/plain": [
       "(0, 90)"
      ]
     },
     "execution_count": 67,
     "metadata": {},
     "output_type": "execute_result"
    }
   ],
   "source": [
    "gold_recovery_full.loc[(gold_recovery_full['rougher.input.feede_sum'] == 0) & \n",
    "                       (gold_recovery_full['rougher.output_concentrate_sum'] == 0) &\n",
    "                        (gold_recovery_full['final.output.concentrate_sum'] == 0)].shape"
   ]
  },
  {
   "cell_type": "markdown",
   "metadata": {},
   "source": [
    "В чистом сырье нулевой концентрации нет, она появляется на этапах обработки. Уберем строки в обучающем датасете, где на каком-либо этапе нулевая суммарная концентрация, но судя по графику можно обрезать \"хвост\" до 20%.\n",
    "\n",
    "Для этого сделаем в полной таблице индексирование по столбцу 'date', сделаем список индексов строк, где на всех этапах суммарная концентрация больше 20%. И оставим в обучающей таблице только строки с индексами из этого списка."
   ]
  },
  {
   "cell_type": "code",
   "execution_count": 68,
   "metadata": {},
   "outputs": [
    {
     "data": {
      "text/plain": [
       "DatetimeIndex(['2016-01-15 00:00:00', '2016-01-15 01:00:00',\n",
       "               '2016-01-15 02:00:00', '2016-01-15 03:00:00',\n",
       "               '2016-01-15 04:00:00', '2016-01-15 05:00:00',\n",
       "               '2016-01-15 06:00:00', '2016-01-15 07:00:00',\n",
       "               '2016-01-15 08:00:00', '2016-01-15 09:00:00',\n",
       "               ...\n",
       "               '2018-08-18 01:59:59', '2018-08-18 02:59:59',\n",
       "               '2018-08-18 03:59:59', '2018-08-18 04:59:59',\n",
       "               '2018-08-18 05:59:59', '2018-08-18 06:59:59',\n",
       "               '2018-08-18 07:59:59', '2018-08-18 08:59:59',\n",
       "               '2018-08-18 09:59:59', '2018-08-18 10:59:59'],\n",
       "              dtype='datetime64[ns]', name='date', length=18884, freq=None)"
      ]
     },
     "execution_count": 68,
     "metadata": {},
     "output_type": "execute_result"
    }
   ],
   "source": [
    "gold_full = gold_recovery_full.set_index(['date'])\n",
    "good_index = gold_full.loc[(gold_full['rougher.input.feede_sum'] > 20) & \n",
    "                (gold_full['rougher.output_concentrate_sum'] > 20) &\n",
    "                (gold_full['final.output.concentrate_sum'] > 20)].index\n",
    "good_index"
   ]
  },
  {
   "cell_type": "code",
   "execution_count": 69,
   "metadata": {},
   "outputs": [
    {
     "data": {
      "text/html": [
       "<div>\n",
       "<style scoped>\n",
       "    .dataframe tbody tr th:only-of-type {\n",
       "        vertical-align: middle;\n",
       "    }\n",
       "\n",
       "    .dataframe tbody tr th {\n",
       "        vertical-align: top;\n",
       "    }\n",
       "\n",
       "    .dataframe thead th {\n",
       "        text-align: right;\n",
       "    }\n",
       "</style>\n",
       "<table border=\"1\" class=\"dataframe\">\n",
       "  <thead>\n",
       "    <tr style=\"text-align: right;\">\n",
       "      <th></th>\n",
       "      <th>final.output.concentrate_ag</th>\n",
       "      <th>final.output.concentrate_pb</th>\n",
       "      <th>final.output.concentrate_sol</th>\n",
       "      <th>final.output.concentrate_au</th>\n",
       "      <th>final.output.recovery</th>\n",
       "      <th>final.output.tail_ag</th>\n",
       "      <th>final.output.tail_pb</th>\n",
       "      <th>final.output.tail_sol</th>\n",
       "      <th>final.output.tail_au</th>\n",
       "      <th>primary_cleaner.input.sulfate</th>\n",
       "      <th>...</th>\n",
       "      <th>secondary_cleaner.state.floatbank4_a_air</th>\n",
       "      <th>secondary_cleaner.state.floatbank4_a_level</th>\n",
       "      <th>secondary_cleaner.state.floatbank4_b_air</th>\n",
       "      <th>secondary_cleaner.state.floatbank4_b_level</th>\n",
       "      <th>secondary_cleaner.state.floatbank5_a_air</th>\n",
       "      <th>secondary_cleaner.state.floatbank5_a_level</th>\n",
       "      <th>secondary_cleaner.state.floatbank5_b_air</th>\n",
       "      <th>secondary_cleaner.state.floatbank5_b_level</th>\n",
       "      <th>secondary_cleaner.state.floatbank6_a_air</th>\n",
       "      <th>secondary_cleaner.state.floatbank6_a_level</th>\n",
       "    </tr>\n",
       "    <tr>\n",
       "      <th>date</th>\n",
       "      <th></th>\n",
       "      <th></th>\n",
       "      <th></th>\n",
       "      <th></th>\n",
       "      <th></th>\n",
       "      <th></th>\n",
       "      <th></th>\n",
       "      <th></th>\n",
       "      <th></th>\n",
       "      <th></th>\n",
       "      <th></th>\n",
       "      <th></th>\n",
       "      <th></th>\n",
       "      <th></th>\n",
       "      <th></th>\n",
       "      <th></th>\n",
       "      <th></th>\n",
       "      <th></th>\n",
       "      <th></th>\n",
       "      <th></th>\n",
       "      <th></th>\n",
       "    </tr>\n",
       "  </thead>\n",
       "  <tbody>\n",
       "    <tr>\n",
       "      <td>2016-01-15 00:00:00</td>\n",
       "      <td>6.055403</td>\n",
       "      <td>9.889648</td>\n",
       "      <td>5.507324</td>\n",
       "      <td>42.192020</td>\n",
       "      <td>70.541216</td>\n",
       "      <td>10.411962</td>\n",
       "      <td>0.895447</td>\n",
       "      <td>16.904297</td>\n",
       "      <td>2.143149</td>\n",
       "      <td>127.092003</td>\n",
       "      <td>...</td>\n",
       "      <td>14.016835</td>\n",
       "      <td>-502.488007</td>\n",
       "      <td>12.099931</td>\n",
       "      <td>-504.715942</td>\n",
       "      <td>9.925633</td>\n",
       "      <td>-498.310211</td>\n",
       "      <td>8.079666</td>\n",
       "      <td>-500.470978</td>\n",
       "      <td>14.151341</td>\n",
       "      <td>-605.841980</td>\n",
       "    </tr>\n",
       "    <tr>\n",
       "      <td>2016-01-15 01:00:00</td>\n",
       "      <td>6.029369</td>\n",
       "      <td>9.968944</td>\n",
       "      <td>5.257781</td>\n",
       "      <td>42.701629</td>\n",
       "      <td>69.266198</td>\n",
       "      <td>10.462676</td>\n",
       "      <td>0.927452</td>\n",
       "      <td>16.634514</td>\n",
       "      <td>2.224930</td>\n",
       "      <td>125.629232</td>\n",
       "      <td>...</td>\n",
       "      <td>13.992281</td>\n",
       "      <td>-505.503262</td>\n",
       "      <td>11.950531</td>\n",
       "      <td>-501.331529</td>\n",
       "      <td>10.039245</td>\n",
       "      <td>-500.169983</td>\n",
       "      <td>7.984757</td>\n",
       "      <td>-500.582168</td>\n",
       "      <td>13.998353</td>\n",
       "      <td>-599.787184</td>\n",
       "    </tr>\n",
       "    <tr>\n",
       "      <td>2016-01-15 02:00:00</td>\n",
       "      <td>6.055926</td>\n",
       "      <td>10.213995</td>\n",
       "      <td>5.383759</td>\n",
       "      <td>42.657501</td>\n",
       "      <td>68.116445</td>\n",
       "      <td>10.507046</td>\n",
       "      <td>0.953716</td>\n",
       "      <td>16.208849</td>\n",
       "      <td>2.257889</td>\n",
       "      <td>123.819808</td>\n",
       "      <td>...</td>\n",
       "      <td>14.015015</td>\n",
       "      <td>-502.520901</td>\n",
       "      <td>11.912783</td>\n",
       "      <td>-501.133383</td>\n",
       "      <td>10.070913</td>\n",
       "      <td>-500.129135</td>\n",
       "      <td>8.013877</td>\n",
       "      <td>-500.517572</td>\n",
       "      <td>14.028663</td>\n",
       "      <td>-601.427363</td>\n",
       "    </tr>\n",
       "    <tr>\n",
       "      <td>2016-01-15 03:00:00</td>\n",
       "      <td>6.047977</td>\n",
       "      <td>9.977019</td>\n",
       "      <td>4.858634</td>\n",
       "      <td>42.689819</td>\n",
       "      <td>68.347543</td>\n",
       "      <td>10.422762</td>\n",
       "      <td>0.883763</td>\n",
       "      <td>16.532835</td>\n",
       "      <td>2.146849</td>\n",
       "      <td>122.270188</td>\n",
       "      <td>...</td>\n",
       "      <td>14.036510</td>\n",
       "      <td>-500.857308</td>\n",
       "      <td>11.999550</td>\n",
       "      <td>-501.193686</td>\n",
       "      <td>9.970366</td>\n",
       "      <td>-499.201640</td>\n",
       "      <td>7.977324</td>\n",
       "      <td>-500.255908</td>\n",
       "      <td>14.005551</td>\n",
       "      <td>-599.996129</td>\n",
       "    </tr>\n",
       "    <tr>\n",
       "      <td>2016-01-15 04:00:00</td>\n",
       "      <td>6.148599</td>\n",
       "      <td>10.142511</td>\n",
       "      <td>4.939416</td>\n",
       "      <td>42.774141</td>\n",
       "      <td>66.927016</td>\n",
       "      <td>10.360302</td>\n",
       "      <td>0.792826</td>\n",
       "      <td>16.525686</td>\n",
       "      <td>2.055292</td>\n",
       "      <td>117.988169</td>\n",
       "      <td>...</td>\n",
       "      <td>14.027298</td>\n",
       "      <td>-499.838632</td>\n",
       "      <td>11.953070</td>\n",
       "      <td>-501.053894</td>\n",
       "      <td>9.925709</td>\n",
       "      <td>-501.686727</td>\n",
       "      <td>7.894242</td>\n",
       "      <td>-500.356035</td>\n",
       "      <td>13.996647</td>\n",
       "      <td>-601.496691</td>\n",
       "    </tr>\n",
       "    <tr>\n",
       "      <td>...</td>\n",
       "      <td>...</td>\n",
       "      <td>...</td>\n",
       "      <td>...</td>\n",
       "      <td>...</td>\n",
       "      <td>...</td>\n",
       "      <td>...</td>\n",
       "      <td>...</td>\n",
       "      <td>...</td>\n",
       "      <td>...</td>\n",
       "      <td>...</td>\n",
       "      <td>...</td>\n",
       "      <td>...</td>\n",
       "      <td>...</td>\n",
       "      <td>...</td>\n",
       "      <td>...</td>\n",
       "      <td>...</td>\n",
       "      <td>...</td>\n",
       "      <td>...</td>\n",
       "      <td>...</td>\n",
       "      <td>...</td>\n",
       "      <td>...</td>\n",
       "    </tr>\n",
       "    <tr>\n",
       "      <td>2018-08-18 06:59:59</td>\n",
       "      <td>3.224920</td>\n",
       "      <td>11.356233</td>\n",
       "      <td>6.803482</td>\n",
       "      <td>46.713954</td>\n",
       "      <td>73.755150</td>\n",
       "      <td>8.769645</td>\n",
       "      <td>3.141541</td>\n",
       "      <td>10.403181</td>\n",
       "      <td>1.529220</td>\n",
       "      <td>123.381787</td>\n",
       "      <td>...</td>\n",
       "      <td>23.031497</td>\n",
       "      <td>-501.167942</td>\n",
       "      <td>20.007571</td>\n",
       "      <td>-499.740028</td>\n",
       "      <td>18.006038</td>\n",
       "      <td>-499.834374</td>\n",
       "      <td>13.001114</td>\n",
       "      <td>-500.155694</td>\n",
       "      <td>20.007840</td>\n",
       "      <td>-501.296428</td>\n",
       "    </tr>\n",
       "    <tr>\n",
       "      <td>2018-08-18 07:59:59</td>\n",
       "      <td>3.195978</td>\n",
       "      <td>11.349355</td>\n",
       "      <td>6.862249</td>\n",
       "      <td>46.866780</td>\n",
       "      <td>69.049291</td>\n",
       "      <td>8.897321</td>\n",
       "      <td>3.130493</td>\n",
       "      <td>10.549470</td>\n",
       "      <td>1.612542</td>\n",
       "      <td>120.878188</td>\n",
       "      <td>...</td>\n",
       "      <td>22.960095</td>\n",
       "      <td>-501.612783</td>\n",
       "      <td>20.035660</td>\n",
       "      <td>-500.251357</td>\n",
       "      <td>17.998535</td>\n",
       "      <td>-500.395178</td>\n",
       "      <td>12.954048</td>\n",
       "      <td>-499.895163</td>\n",
       "      <td>19.968498</td>\n",
       "      <td>-501.041608</td>\n",
       "    </tr>\n",
       "    <tr>\n",
       "      <td>2018-08-18 08:59:59</td>\n",
       "      <td>3.109998</td>\n",
       "      <td>11.434366</td>\n",
       "      <td>6.886013</td>\n",
       "      <td>46.795691</td>\n",
       "      <td>67.002189</td>\n",
       "      <td>8.529606</td>\n",
       "      <td>2.911418</td>\n",
       "      <td>11.115147</td>\n",
       "      <td>1.596616</td>\n",
       "      <td>105.666118</td>\n",
       "      <td>...</td>\n",
       "      <td>23.015718</td>\n",
       "      <td>-501.711599</td>\n",
       "      <td>19.951231</td>\n",
       "      <td>-499.857027</td>\n",
       "      <td>18.019543</td>\n",
       "      <td>-500.451156</td>\n",
       "      <td>13.023431</td>\n",
       "      <td>-499.914391</td>\n",
       "      <td>19.990885</td>\n",
       "      <td>-501.518452</td>\n",
       "    </tr>\n",
       "    <tr>\n",
       "      <td>2018-08-18 09:59:59</td>\n",
       "      <td>3.367241</td>\n",
       "      <td>11.625587</td>\n",
       "      <td>6.799433</td>\n",
       "      <td>46.408188</td>\n",
       "      <td>65.523246</td>\n",
       "      <td>8.777171</td>\n",
       "      <td>2.819214</td>\n",
       "      <td>10.463847</td>\n",
       "      <td>1.602879</td>\n",
       "      <td>98.880538</td>\n",
       "      <td>...</td>\n",
       "      <td>23.024963</td>\n",
       "      <td>-501.153409</td>\n",
       "      <td>20.054122</td>\n",
       "      <td>-500.314711</td>\n",
       "      <td>17.979515</td>\n",
       "      <td>-499.272871</td>\n",
       "      <td>12.992404</td>\n",
       "      <td>-499.976268</td>\n",
       "      <td>20.013986</td>\n",
       "      <td>-500.625471</td>\n",
       "    </tr>\n",
       "    <tr>\n",
       "      <td>2018-08-18 10:59:59</td>\n",
       "      <td>3.598375</td>\n",
       "      <td>11.737832</td>\n",
       "      <td>6.717509</td>\n",
       "      <td>46.299438</td>\n",
       "      <td>70.281454</td>\n",
       "      <td>8.406690</td>\n",
       "      <td>2.517518</td>\n",
       "      <td>10.652193</td>\n",
       "      <td>1.389434</td>\n",
       "      <td>95.248427</td>\n",
       "      <td>...</td>\n",
       "      <td>23.018622</td>\n",
       "      <td>-500.492702</td>\n",
       "      <td>20.020205</td>\n",
       "      <td>-500.220296</td>\n",
       "      <td>17.963512</td>\n",
       "      <td>-499.939490</td>\n",
       "      <td>12.990306</td>\n",
       "      <td>-500.080993</td>\n",
       "      <td>19.990336</td>\n",
       "      <td>-499.191575</td>\n",
       "    </tr>\n",
       "  </tbody>\n",
       "</table>\n",
       "<p>13741 rows × 86 columns</p>\n",
       "</div>"
      ],
      "text/plain": [
       "                     final.output.concentrate_ag  final.output.concentrate_pb  \\\n",
       "date                                                                            \n",
       "2016-01-15 00:00:00                     6.055403                     9.889648   \n",
       "2016-01-15 01:00:00                     6.029369                     9.968944   \n",
       "2016-01-15 02:00:00                     6.055926                    10.213995   \n",
       "2016-01-15 03:00:00                     6.047977                     9.977019   \n",
       "2016-01-15 04:00:00                     6.148599                    10.142511   \n",
       "...                                          ...                          ...   \n",
       "2018-08-18 06:59:59                     3.224920                    11.356233   \n",
       "2018-08-18 07:59:59                     3.195978                    11.349355   \n",
       "2018-08-18 08:59:59                     3.109998                    11.434366   \n",
       "2018-08-18 09:59:59                     3.367241                    11.625587   \n",
       "2018-08-18 10:59:59                     3.598375                    11.737832   \n",
       "\n",
       "                     final.output.concentrate_sol  \\\n",
       "date                                                \n",
       "2016-01-15 00:00:00                      5.507324   \n",
       "2016-01-15 01:00:00                      5.257781   \n",
       "2016-01-15 02:00:00                      5.383759   \n",
       "2016-01-15 03:00:00                      4.858634   \n",
       "2016-01-15 04:00:00                      4.939416   \n",
       "...                                           ...   \n",
       "2018-08-18 06:59:59                      6.803482   \n",
       "2018-08-18 07:59:59                      6.862249   \n",
       "2018-08-18 08:59:59                      6.886013   \n",
       "2018-08-18 09:59:59                      6.799433   \n",
       "2018-08-18 10:59:59                      6.717509   \n",
       "\n",
       "                     final.output.concentrate_au  final.output.recovery  \\\n",
       "date                                                                      \n",
       "2016-01-15 00:00:00                    42.192020              70.541216   \n",
       "2016-01-15 01:00:00                    42.701629              69.266198   \n",
       "2016-01-15 02:00:00                    42.657501              68.116445   \n",
       "2016-01-15 03:00:00                    42.689819              68.347543   \n",
       "2016-01-15 04:00:00                    42.774141              66.927016   \n",
       "...                                          ...                    ...   \n",
       "2018-08-18 06:59:59                    46.713954              73.755150   \n",
       "2018-08-18 07:59:59                    46.866780              69.049291   \n",
       "2018-08-18 08:59:59                    46.795691              67.002189   \n",
       "2018-08-18 09:59:59                    46.408188              65.523246   \n",
       "2018-08-18 10:59:59                    46.299438              70.281454   \n",
       "\n",
       "                     final.output.tail_ag  final.output.tail_pb  \\\n",
       "date                                                              \n",
       "2016-01-15 00:00:00             10.411962              0.895447   \n",
       "2016-01-15 01:00:00             10.462676              0.927452   \n",
       "2016-01-15 02:00:00             10.507046              0.953716   \n",
       "2016-01-15 03:00:00             10.422762              0.883763   \n",
       "2016-01-15 04:00:00             10.360302              0.792826   \n",
       "...                                   ...                   ...   \n",
       "2018-08-18 06:59:59              8.769645              3.141541   \n",
       "2018-08-18 07:59:59              8.897321              3.130493   \n",
       "2018-08-18 08:59:59              8.529606              2.911418   \n",
       "2018-08-18 09:59:59              8.777171              2.819214   \n",
       "2018-08-18 10:59:59              8.406690              2.517518   \n",
       "\n",
       "                     final.output.tail_sol  final.output.tail_au  \\\n",
       "date                                                               \n",
       "2016-01-15 00:00:00              16.904297              2.143149   \n",
       "2016-01-15 01:00:00              16.634514              2.224930   \n",
       "2016-01-15 02:00:00              16.208849              2.257889   \n",
       "2016-01-15 03:00:00              16.532835              2.146849   \n",
       "2016-01-15 04:00:00              16.525686              2.055292   \n",
       "...                                    ...                   ...   \n",
       "2018-08-18 06:59:59              10.403181              1.529220   \n",
       "2018-08-18 07:59:59              10.549470              1.612542   \n",
       "2018-08-18 08:59:59              11.115147              1.596616   \n",
       "2018-08-18 09:59:59              10.463847              1.602879   \n",
       "2018-08-18 10:59:59              10.652193              1.389434   \n",
       "\n",
       "                     primary_cleaner.input.sulfate  ...  \\\n",
       "date                                                ...   \n",
       "2016-01-15 00:00:00                     127.092003  ...   \n",
       "2016-01-15 01:00:00                     125.629232  ...   \n",
       "2016-01-15 02:00:00                     123.819808  ...   \n",
       "2016-01-15 03:00:00                     122.270188  ...   \n",
       "2016-01-15 04:00:00                     117.988169  ...   \n",
       "...                                            ...  ...   \n",
       "2018-08-18 06:59:59                     123.381787  ...   \n",
       "2018-08-18 07:59:59                     120.878188  ...   \n",
       "2018-08-18 08:59:59                     105.666118  ...   \n",
       "2018-08-18 09:59:59                      98.880538  ...   \n",
       "2018-08-18 10:59:59                      95.248427  ...   \n",
       "\n",
       "                     secondary_cleaner.state.floatbank4_a_air  \\\n",
       "date                                                            \n",
       "2016-01-15 00:00:00                                 14.016835   \n",
       "2016-01-15 01:00:00                                 13.992281   \n",
       "2016-01-15 02:00:00                                 14.015015   \n",
       "2016-01-15 03:00:00                                 14.036510   \n",
       "2016-01-15 04:00:00                                 14.027298   \n",
       "...                                                       ...   \n",
       "2018-08-18 06:59:59                                 23.031497   \n",
       "2018-08-18 07:59:59                                 22.960095   \n",
       "2018-08-18 08:59:59                                 23.015718   \n",
       "2018-08-18 09:59:59                                 23.024963   \n",
       "2018-08-18 10:59:59                                 23.018622   \n",
       "\n",
       "                     secondary_cleaner.state.floatbank4_a_level  \\\n",
       "date                                                              \n",
       "2016-01-15 00:00:00                                 -502.488007   \n",
       "2016-01-15 01:00:00                                 -505.503262   \n",
       "2016-01-15 02:00:00                                 -502.520901   \n",
       "2016-01-15 03:00:00                                 -500.857308   \n",
       "2016-01-15 04:00:00                                 -499.838632   \n",
       "...                                                         ...   \n",
       "2018-08-18 06:59:59                                 -501.167942   \n",
       "2018-08-18 07:59:59                                 -501.612783   \n",
       "2018-08-18 08:59:59                                 -501.711599   \n",
       "2018-08-18 09:59:59                                 -501.153409   \n",
       "2018-08-18 10:59:59                                 -500.492702   \n",
       "\n",
       "                     secondary_cleaner.state.floatbank4_b_air  \\\n",
       "date                                                            \n",
       "2016-01-15 00:00:00                                 12.099931   \n",
       "2016-01-15 01:00:00                                 11.950531   \n",
       "2016-01-15 02:00:00                                 11.912783   \n",
       "2016-01-15 03:00:00                                 11.999550   \n",
       "2016-01-15 04:00:00                                 11.953070   \n",
       "...                                                       ...   \n",
       "2018-08-18 06:59:59                                 20.007571   \n",
       "2018-08-18 07:59:59                                 20.035660   \n",
       "2018-08-18 08:59:59                                 19.951231   \n",
       "2018-08-18 09:59:59                                 20.054122   \n",
       "2018-08-18 10:59:59                                 20.020205   \n",
       "\n",
       "                     secondary_cleaner.state.floatbank4_b_level  \\\n",
       "date                                                              \n",
       "2016-01-15 00:00:00                                 -504.715942   \n",
       "2016-01-15 01:00:00                                 -501.331529   \n",
       "2016-01-15 02:00:00                                 -501.133383   \n",
       "2016-01-15 03:00:00                                 -501.193686   \n",
       "2016-01-15 04:00:00                                 -501.053894   \n",
       "...                                                         ...   \n",
       "2018-08-18 06:59:59                                 -499.740028   \n",
       "2018-08-18 07:59:59                                 -500.251357   \n",
       "2018-08-18 08:59:59                                 -499.857027   \n",
       "2018-08-18 09:59:59                                 -500.314711   \n",
       "2018-08-18 10:59:59                                 -500.220296   \n",
       "\n",
       "                     secondary_cleaner.state.floatbank5_a_air  \\\n",
       "date                                                            \n",
       "2016-01-15 00:00:00                                  9.925633   \n",
       "2016-01-15 01:00:00                                 10.039245   \n",
       "2016-01-15 02:00:00                                 10.070913   \n",
       "2016-01-15 03:00:00                                  9.970366   \n",
       "2016-01-15 04:00:00                                  9.925709   \n",
       "...                                                       ...   \n",
       "2018-08-18 06:59:59                                 18.006038   \n",
       "2018-08-18 07:59:59                                 17.998535   \n",
       "2018-08-18 08:59:59                                 18.019543   \n",
       "2018-08-18 09:59:59                                 17.979515   \n",
       "2018-08-18 10:59:59                                 17.963512   \n",
       "\n",
       "                     secondary_cleaner.state.floatbank5_a_level  \\\n",
       "date                                                              \n",
       "2016-01-15 00:00:00                                 -498.310211   \n",
       "2016-01-15 01:00:00                                 -500.169983   \n",
       "2016-01-15 02:00:00                                 -500.129135   \n",
       "2016-01-15 03:00:00                                 -499.201640   \n",
       "2016-01-15 04:00:00                                 -501.686727   \n",
       "...                                                         ...   \n",
       "2018-08-18 06:59:59                                 -499.834374   \n",
       "2018-08-18 07:59:59                                 -500.395178   \n",
       "2018-08-18 08:59:59                                 -500.451156   \n",
       "2018-08-18 09:59:59                                 -499.272871   \n",
       "2018-08-18 10:59:59                                 -499.939490   \n",
       "\n",
       "                     secondary_cleaner.state.floatbank5_b_air  \\\n",
       "date                                                            \n",
       "2016-01-15 00:00:00                                  8.079666   \n",
       "2016-01-15 01:00:00                                  7.984757   \n",
       "2016-01-15 02:00:00                                  8.013877   \n",
       "2016-01-15 03:00:00                                  7.977324   \n",
       "2016-01-15 04:00:00                                  7.894242   \n",
       "...                                                       ...   \n",
       "2018-08-18 06:59:59                                 13.001114   \n",
       "2018-08-18 07:59:59                                 12.954048   \n",
       "2018-08-18 08:59:59                                 13.023431   \n",
       "2018-08-18 09:59:59                                 12.992404   \n",
       "2018-08-18 10:59:59                                 12.990306   \n",
       "\n",
       "                     secondary_cleaner.state.floatbank5_b_level  \\\n",
       "date                                                              \n",
       "2016-01-15 00:00:00                                 -500.470978   \n",
       "2016-01-15 01:00:00                                 -500.582168   \n",
       "2016-01-15 02:00:00                                 -500.517572   \n",
       "2016-01-15 03:00:00                                 -500.255908   \n",
       "2016-01-15 04:00:00                                 -500.356035   \n",
       "...                                                         ...   \n",
       "2018-08-18 06:59:59                                 -500.155694   \n",
       "2018-08-18 07:59:59                                 -499.895163   \n",
       "2018-08-18 08:59:59                                 -499.914391   \n",
       "2018-08-18 09:59:59                                 -499.976268   \n",
       "2018-08-18 10:59:59                                 -500.080993   \n",
       "\n",
       "                     secondary_cleaner.state.floatbank6_a_air  \\\n",
       "date                                                            \n",
       "2016-01-15 00:00:00                                 14.151341   \n",
       "2016-01-15 01:00:00                                 13.998353   \n",
       "2016-01-15 02:00:00                                 14.028663   \n",
       "2016-01-15 03:00:00                                 14.005551   \n",
       "2016-01-15 04:00:00                                 13.996647   \n",
       "...                                                       ...   \n",
       "2018-08-18 06:59:59                                 20.007840   \n",
       "2018-08-18 07:59:59                                 19.968498   \n",
       "2018-08-18 08:59:59                                 19.990885   \n",
       "2018-08-18 09:59:59                                 20.013986   \n",
       "2018-08-18 10:59:59                                 19.990336   \n",
       "\n",
       "                     secondary_cleaner.state.floatbank6_a_level  \n",
       "date                                                             \n",
       "2016-01-15 00:00:00                                 -605.841980  \n",
       "2016-01-15 01:00:00                                 -599.787184  \n",
       "2016-01-15 02:00:00                                 -601.427363  \n",
       "2016-01-15 03:00:00                                 -599.996129  \n",
       "2016-01-15 04:00:00                                 -601.496691  \n",
       "...                                                         ...  \n",
       "2018-08-18 06:59:59                                 -501.296428  \n",
       "2018-08-18 07:59:59                                 -501.041608  \n",
       "2018-08-18 08:59:59                                 -501.518452  \n",
       "2018-08-18 09:59:59                                 -500.625471  \n",
       "2018-08-18 10:59:59                                 -499.191575  \n",
       "\n",
       "[13741 rows x 86 columns]"
      ]
     },
     "execution_count": 69,
     "metadata": {},
     "output_type": "execute_result"
    }
   ],
   "source": [
    "gold_train = gold_recovery_train.set_index(['date'])\n",
    "gold_train = gold_train.loc[gold_train.index.isin(good_index)]\n",
    "gold_train"
   ]
  },
  {
   "cell_type": "markdown",
   "metadata": {},
   "source": [
    "Из 14149 строк осталось 13741. Избавились от 3% строк."
   ]
  },
  {
   "cell_type": "markdown",
   "metadata": {},
   "source": [
    "## Модель"
   ]
  },
  {
   "cell_type": "markdown",
   "metadata": {},
   "source": [
    "### Функция для расчета итогового sMAPE"
   ]
  },
  {
   "cell_type": "code",
   "execution_count": 70,
   "metadata": {},
   "outputs": [],
   "source": [
    "def smape (target, predictions):\n",
    "    numerator = abs(predictions - target)\n",
    "    denominator = (abs(target) + abs(predictions)) / 2\n",
    "    summa = (numerator / denominator).sum()\n",
    "    smape = (1 / len(target)) * summa * 100\n",
    "    return smape"
   ]
  },
  {
   "cell_type": "markdown",
   "metadata": {},
   "source": [
    "Подготовим признаки для обучения и тестирования моделей.\n",
    "\n",
    "Для \"rougher\":"
   ]
  },
  {
   "cell_type": "code",
   "execution_count": 71,
   "metadata": {},
   "outputs": [],
   "source": [
    "features_rougher = []\n",
    "for column in gold_recovery_test.columns:\n",
    "    if \"rougher\" in column:\n",
    "        features_rougher.append(column)\n",
    "features_train_rougher = gold_train[features_rougher]\n",
    "target_train_rougher = gold_train['rougher.output.recovery']"
   ]
  },
  {
   "cell_type": "raw",
   "metadata": {},
   "source": [
    "data_train_fin.columns.str.contains(pat='rougher.input|rougher.state')\n",
    "\n",
    "df.columns[df.columns.str.contains(pat='ДО|ПОСЛЕ 3 мес')]\n",
    "df.filter(like='ДО', axis=1)\n",
    "df.filter(regex='ДО|ПОСЛЕ 3 мес', axis=1)"
   ]
  },
  {
   "cell_type": "markdown",
   "metadata": {},
   "source": [
    "Для \"final\":"
   ]
  },
  {
   "cell_type": "code",
   "execution_count": 72,
   "metadata": {},
   "outputs": [],
   "source": [
    "gold_test = gold_recovery_test.set_index(['date'])\n",
    "features_train_final = gold_train[gold_test.columns]\n",
    "target_train_final = gold_train['final.output.recovery']"
   ]
  },
  {
   "cell_type": "markdown",
   "metadata": {},
   "source": [
    "Для тестовой выборки (\"rougher\") добавим целевой признак из общего датасета, с индексами, соответствующими датам тестовой выборки."
   ]
  },
  {
   "cell_type": "code",
   "execution_count": 73,
   "metadata": {},
   "outputs": [
    {
     "data": {
      "text/plain": [
       "date\n",
       "2017-12-31 19:59:59    95.172585\n",
       "2017-12-31 20:59:59    94.575036\n",
       "2017-12-31 21:59:59    93.018138\n",
       "2017-12-31 22:59:59    92.599042\n",
       "2017-12-31 23:59:59    91.177695\n",
       "Name: rougher.output.recovery, dtype: float64"
      ]
     },
     "execution_count": 73,
     "metadata": {},
     "output_type": "execute_result"
    }
   ],
   "source": [
    "gold_full = gold_recovery_full.set_index(['date'])\n",
    "gold_test['rougher.output.recovery'] = gold_full['rougher.output.recovery'][gold_test.index]\n",
    "gold_test['final.output.recovery'] = gold_full['final.output.recovery'][gold_test.index]\n",
    "gold_test['rougher.output.recovery'].tail()"
   ]
  },
  {
   "cell_type": "code",
   "execution_count": 74,
   "metadata": {},
   "outputs": [],
   "source": [
    "features_test_rougher = gold_test[features_rougher]\n",
    "target_test_rougher = gold_test['rougher.output.recovery']"
   ]
  },
  {
   "cell_type": "markdown",
   "metadata": {},
   "source": [
    "Подготовим данные для проверки тестовой выборки \"final\"."
   ]
  },
  {
   "cell_type": "code",
   "execution_count": 75,
   "metadata": {},
   "outputs": [],
   "source": [
    "features_test_final = gold_test.drop(['rougher.output.recovery','final.output.recovery'], axis=1)\n",
    "target_test_final = gold_test['final.output.recovery']"
   ]
  },
  {
   "cell_type": "markdown",
   "metadata": {},
   "source": [
    "Сделаем масштабирование признаков."
   ]
  },
  {
   "cell_type": "code",
   "execution_count": 76,
   "metadata": {},
   "outputs": [],
   "source": [
    "scaler_rougher = StandardScaler()\n",
    "features_train_rougher = scaler_rougher.fit_transform(features_train_rougher)"
   ]
  },
  {
   "cell_type": "code",
   "execution_count": 77,
   "metadata": {},
   "outputs": [],
   "source": [
    "scaler_final = StandardScaler()\n",
    "features_train_final = scaler_final.fit_transform(features_train_final)"
   ]
  },
  {
   "cell_type": "code",
   "execution_count": 78,
   "metadata": {},
   "outputs": [],
   "source": [
    "scaler_rougher_test = StandardScaler()\n",
    "features_test_rougher = scaler_rougher_test.fit_transform(features_test_rougher)"
   ]
  },
  {
   "cell_type": "code",
   "execution_count": 79,
   "metadata": {},
   "outputs": [],
   "source": [
    "scaler_final_test = StandardScaler()\n",
    "features_test_final = scaler_final_test.fit_transform(features_test_final)"
   ]
  },
  {
   "cell_type": "markdown",
   "metadata": {},
   "source": [
    "Напишем функцию для оценки среднего sMAPE при кросвалидации датасета. "
   ]
  },
  {
   "cell_type": "code",
   "execution_count": 80,
   "metadata": {},
   "outputs": [],
   "source": [
    "def cross_val (model, features, target):\n",
    "    scores = cross_val_score(model, features, \n",
    "                                   target, scoring=make_scorer(smape, greater_is_better=False), cv=5)\n",
    "    smape_res = scores.mean()\n",
    "    return smape_res"
   ]
  },
  {
   "cell_type": "markdown",
   "metadata": {},
   "source": [
    "Напишем функцию, которая считает финальный sMAPE."
   ]
  },
  {
   "cell_type": "code",
   "execution_count": 81,
   "metadata": {},
   "outputs": [],
   "source": [
    "def model_smape(model):\n",
    "    smape_rougher = -cross_val (model, features_train_rougher, target_train_rougher)\n",
    "    smape_final = -cross_val (model, features_train_final, target_train_final)\n",
    "    smape_end = 0.25 * smape_rougher + 0.75 * smape_final\n",
    "    print('Средняя оценка качества по кросс-валидации на этапе флотации составила', smape_rougher)\n",
    "    print('Средняя оценка качества по кросс-валидации на финальном этапе составила', smape_final)\n",
    "    print('Конечная оценка качества по кросс-валидации составила', smape_end)"
   ]
  },
  {
   "cell_type": "markdown",
   "metadata": {},
   "source": [
    "### Обучение моделей\n",
    "Обучем 3 модели: DecisionTree, RandomForest и LinearRegression. И посмотрим значение финального sMAPE."
   ]
  },
  {
   "cell_type": "code",
   "execution_count": 82,
   "metadata": {},
   "outputs": [],
   "source": [
    "state = np.random.RandomState(12345) "
   ]
  },
  {
   "cell_type": "code",
   "execution_count": 83,
   "metadata": {},
   "outputs": [
    {
     "name": "stdout",
     "output_type": "stream",
     "text": [
      "Средняя оценка качества по кросс-валидации на этапе флотации составила 6.567463138258319\n",
      "Средняя оценка качества по кросс-валидации на финальном этапе составила 10.882451355325173\n",
      "Конечная оценка качества по кросс-валидации составила 9.80370430105846\n"
     ]
    }
   ],
   "source": [
    "model = LinearRegression()\n",
    "model_smape(model)"
   ]
  },
  {
   "cell_type": "code",
   "execution_count": 84,
   "metadata": {},
   "outputs": [
    {
     "name": "stdout",
     "output_type": "stream",
     "text": [
      "Средняя оценка качества по кросс-валидации на этапе флотации составила 9.365604102646019\n",
      "Средняя оценка качества по кросс-валидации на финальном этапе составила 15.175736256478581\n",
      "Конечная оценка качества по кросс-валидации составила 13.72320321802044\n"
     ]
    }
   ],
   "source": [
    "model = DecisionTreeRegressor()\n",
    "model_smape(model)"
   ]
  },
  {
   "cell_type": "code",
   "execution_count": 85,
   "metadata": {},
   "outputs": [
    {
     "name": "stdout",
     "output_type": "stream",
     "text": [
      "Средняя оценка качества по кросс-валидации на этапе флотации составила 6.789183874957611\n",
      "Средняя оценка качества по кросс-валидации на финальном этапе составила 9.917029895508072\n",
      "Конечная оценка качества по кросс-валидации составила 9.135068390370456\n"
     ]
    }
   ],
   "source": [
    "model = RandomForestRegressor(random_state=12345)\n",
    "model_smape(model)"
   ]
  },
  {
   "cell_type": "code",
   "execution_count": 86,
   "metadata": {},
   "outputs": [
    {
     "name": "stdout",
     "output_type": "stream",
     "text": [
      "Средняя оценка качества по кросс-валидации на этапе флотации составила 7.73561339916878\n",
      "Средняя оценка качества по кросс-валидации на финальном этапе составила 10.332144764435286\n",
      "Конечная оценка качества по кросс-валидации составила 9.68301192311866\n"
     ]
    }
   ],
   "source": [
    "model = DummyRegressor()\n",
    "model_smape(model)"
   ]
  },
  {
   "cell_type": "markdown",
   "metadata": {},
   "source": [
    "Лучшее значение sMAPE у RandomForest, она даже лучше, чем DummyRegressor. Подберем для RandomForest лучшие гиперпараметры."
   ]
  },
  {
   "cell_type": "code",
   "execution_count": 87,
   "metadata": {},
   "outputs": [
    {
     "name": "stdout",
     "output_type": "stream",
     "text": [
      "Наилучшая модель с sMAPE, равным 8.357812868785377, получена для случайного леса с количеством деревьев 40 и глубиной 4\n"
     ]
    }
   ],
   "source": [
    "best_smape = 11\n",
    "est_est = 0\n",
    "best_depth = 0\n",
    "for est in range(10, 51, 10):\n",
    "    for depth in range (1, 5):\n",
    "        model = RandomForestRegressor(random_state=12345, n_estimators=est, max_depth=depth)\n",
    "        smape_rougher = -cross_val (model, features_train_rougher, target_train_rougher)\n",
    "        smape_final = -cross_val (model, features_train_final, target_train_final)\n",
    "        smape_end = 0.25 * smape_rougher + 0.75 * smape_final\n",
    "        if smape_end < best_smape:\n",
    "            best_smape = smape_end\n",
    "            best_est = est\n",
    "            best_depth = depth\n",
    "print('Наилучшая модель с sMAPE, равным {}, получена для случайного леса \\\n",
    "с количеством деревьев {} и глубиной {}'.format(best_smape, best_est, best_depth))"
   ]
  },
  {
   "cell_type": "markdown",
   "metadata": {},
   "source": [
    "### Проверка модели на тестовой выборке\n",
    "Обучим модель RandomForestRegressor и проверим на тестовой выборке. Для этого напишем функцию."
   ]
  },
  {
   "cell_type": "code",
   "execution_count": 88,
   "metadata": {},
   "outputs": [],
   "source": [
    "def smape_test(features_rougher, features_final):\n",
    "    model_r = RandomForestRegressor(random_state=12345, n_estimators=41, max_depth=4)\n",
    "    model_r.fit(features_train_rougher, target_train_rougher)\n",
    "    predict_r = model_r.predict(features_rougher)\n",
    "    model_f = RandomForestRegressor(random_state=12345, n_estimators=41, max_depth=4)\n",
    "    model_f.fit(features_train_final, target_train_final)\n",
    "    predict_f = model_f.predict(features_final)\n",
    "    smape_r =  smape(target_test_rougher, predict_r)\n",
    "    smape_f =  smape(target_test_final, predict_f)\n",
    "    smape_end = 0.25 * smape_r + 0.75 * smape_f\n",
    "    print('Конечная оценка составила', smape_end)"
   ]
  },
  {
   "cell_type": "code",
   "execution_count": 89,
   "metadata": {},
   "outputs": [
    {
     "name": "stdout",
     "output_type": "stream",
     "text": [
      "Конечная оценка составила 9.823298144944689\n"
     ]
    }
   ],
   "source": [
    "smape_test(features_test_rougher, features_test_final)"
   ]
  },
  {
   "cell_type": "markdown",
   "metadata": {},
   "source": [
    "## Выводы"
   ]
  },
  {
   "cell_type": "markdown",
   "metadata": {},
   "source": [
    "В ходе проекта был подготовлен прототип модели машинного обучения для «Цифры».\n",
    "\n",
    "Модель предсказывает коэффициент восстановления золота из золотосодержащей руды, используя данные с параметрами добычи и очистки.\n",
    "\n",
    "Модель поможет оптимизировать производство, чтобы не запускать предприятие с убыточными характеристиками.\n",
    "\n",
    "В ходе проекта были обработаны исходные данные.\n",
    "\n",
    "- Была рассчитана эффективность обогощения и проведено сравнение с исходными данными;\n",
    "\n",
    "- Проведен анализ изменения концентрации металлов в руде, на разных этапах очистки, показавший, что концентрация золота растет с каждым этапом;\n",
    "\n",
    "- Было проведено сравнение распределений размеров гранул на тестовой и обучающей выборке, показавшее, что они схожи;\n",
    "\n",
    "- Была написана функция для вычисления итоговой sMAPE;\n",
    "\n",
    "- Была выбрана модель с лучшим значением итоговой sMAPE, это RandomForest;\n",
    "\n",
    "- sMAPE выбранной модели оказалось лучше, чем у Dummy, что означает, что ее применение может принести пользу;\n",
    "\n",
    "- Выбранная модель была проверена на тестовой выборке.\n"
   ]
  }
 ],
 "metadata": {
  "ExecuteTimeLog": [
   {
    "duration": 277,
    "start_time": "2021-12-09T16:36:41.532Z"
   },
   {
    "duration": 547,
    "start_time": "2021-12-09T16:36:45.087Z"
   },
   {
    "duration": 1229,
    "start_time": "2021-12-09T16:36:47.178Z"
   },
   {
    "duration": 79,
    "start_time": "2021-12-09T16:37:18.825Z"
   },
   {
    "duration": 347,
    "start_time": "2021-12-09T16:37:47.511Z"
   },
   {
    "duration": 290,
    "start_time": "2021-12-09T16:38:26.453Z"
   },
   {
    "duration": 4,
    "start_time": "2021-12-09T17:03:37.877Z"
   },
   {
    "duration": 384,
    "start_time": "2021-12-09T19:26:50.270Z"
   },
   {
    "duration": 800,
    "start_time": "2021-12-09T19:26:58.650Z"
   },
   {
    "duration": 401,
    "start_time": "2021-12-09T19:26:59.453Z"
   },
   {
    "duration": 104,
    "start_time": "2021-12-09T19:26:59.867Z"
   },
   {
    "duration": 487,
    "start_time": "2021-12-09T19:26:59.975Z"
   },
   {
    "duration": 11,
    "start_time": "2021-12-09T19:27:00.470Z"
   },
   {
    "duration": 16777,
    "start_time": "2021-12-09T19:27:00.483Z"
   },
   {
    "duration": 147,
    "start_time": "2021-12-09T19:27:17.266Z"
   },
   {
    "duration": 7,
    "start_time": "2021-12-09T19:27:25.243Z"
   },
   {
    "duration": 6,
    "start_time": "2021-12-09T19:28:12.577Z"
   },
   {
    "duration": 8,
    "start_time": "2021-12-09T19:28:20.700Z"
   },
   {
    "duration": 326,
    "start_time": "2021-12-09T19:28:45.290Z"
   },
   {
    "duration": 8,
    "start_time": "2021-12-09T19:28:51.887Z"
   },
   {
    "duration": 10,
    "start_time": "2021-12-09T19:29:09.765Z"
   },
   {
    "duration": 363,
    "start_time": "2021-12-09T19:29:27.391Z"
   },
   {
    "duration": 297,
    "start_time": "2021-12-09T19:29:32.500Z"
   },
   {
    "duration": 7,
    "start_time": "2021-12-09T19:29:39.311Z"
   },
   {
    "duration": 651,
    "start_time": "2021-12-09T19:33:31.480Z"
   },
   {
    "duration": 6,
    "start_time": "2021-12-09T19:34:36.152Z"
   },
   {
    "duration": 17414,
    "start_time": "2021-12-09T19:40:26.415Z"
   },
   {
    "duration": 8,
    "start_time": "2021-12-09T19:44:40.068Z"
   },
   {
    "duration": 6,
    "start_time": "2021-12-09T19:49:53.154Z"
   },
   {
    "duration": 55,
    "start_time": "2021-12-09T19:50:58.359Z"
   },
   {
    "duration": 11,
    "start_time": "2021-12-09T19:51:28.580Z"
   },
   {
    "duration": 15,
    "start_time": "2021-12-09T19:51:49.428Z"
   },
   {
    "duration": 42,
    "start_time": "2021-12-09T20:00:44.965Z"
   },
   {
    "duration": 7,
    "start_time": "2021-12-09T20:06:20.141Z"
   },
   {
    "duration": 8,
    "start_time": "2021-12-09T20:07:00.970Z"
   },
   {
    "duration": 7,
    "start_time": "2021-12-09T20:07:08.176Z"
   },
   {
    "duration": 2282,
    "start_time": "2021-12-09T20:47:19.317Z"
   },
   {
    "duration": 371,
    "start_time": "2021-12-09T20:48:29.762Z"
   },
   {
    "duration": 399,
    "start_time": "2021-12-09T20:48:39.338Z"
   },
   {
    "duration": 420,
    "start_time": "2021-12-09T20:54:34.117Z"
   },
   {
    "duration": 385,
    "start_time": "2021-12-09T20:55:38.893Z"
   },
   {
    "duration": 385,
    "start_time": "2021-12-09T20:57:22.358Z"
   },
   {
    "duration": 396,
    "start_time": "2021-12-09T20:57:43.353Z"
   },
   {
    "duration": 404,
    "start_time": "2021-12-09T20:58:01.871Z"
   },
   {
    "duration": 410,
    "start_time": "2021-12-09T20:58:32.222Z"
   },
   {
    "duration": 412,
    "start_time": "2021-12-09T20:58:51.857Z"
   },
   {
    "duration": 410,
    "start_time": "2021-12-09T20:59:14.532Z"
   },
   {
    "duration": 117,
    "start_time": "2021-12-09T20:59:41.909Z"
   },
   {
    "duration": 531,
    "start_time": "2021-12-09T20:59:55.824Z"
   },
   {
    "duration": 5,
    "start_time": "2021-12-09T21:00:05.765Z"
   },
   {
    "duration": 458,
    "start_time": "2021-12-09T21:00:05.774Z"
   },
   {
    "duration": 119,
    "start_time": "2021-12-09T21:00:06.235Z"
   },
   {
    "duration": 511,
    "start_time": "2021-12-09T21:00:06.356Z"
   },
   {
    "duration": 17256,
    "start_time": "2021-12-09T21:00:06.871Z"
   },
   {
    "duration": 7,
    "start_time": "2021-12-09T21:00:24.129Z"
   },
   {
    "duration": 28,
    "start_time": "2021-12-09T21:00:24.138Z"
   },
   {
    "duration": 13,
    "start_time": "2021-12-09T21:00:24.173Z"
   },
   {
    "duration": 25,
    "start_time": "2021-12-09T21:00:24.188Z"
   },
   {
    "duration": 965,
    "start_time": "2021-12-12T12:09:56.926Z"
   },
   {
    "duration": 299,
    "start_time": "2021-12-12T12:09:57.893Z"
   },
   {
    "duration": 84,
    "start_time": "2021-12-12T12:09:58.194Z"
   },
   {
    "duration": 365,
    "start_time": "2021-12-12T12:09:58.280Z"
   },
   {
    "duration": 7544,
    "start_time": "2021-12-12T12:09:58.647Z"
   },
   {
    "duration": 268,
    "start_time": "2021-12-12T12:10:06.193Z"
   },
   {
    "duration": -11453,
    "start_time": "2021-12-12T12:10:17.916Z"
   },
   {
    "duration": -11454,
    "start_time": "2021-12-12T12:10:17.918Z"
   },
   {
    "duration": -11457,
    "start_time": "2021-12-12T12:10:17.922Z"
   },
   {
    "duration": 5,
    "start_time": "2021-12-12T12:11:09.380Z"
   },
   {
    "duration": 5,
    "start_time": "2021-12-12T12:14:34.416Z"
   },
   {
    "duration": 46,
    "start_time": "2021-12-12T12:31:27.604Z"
   },
   {
    "duration": 46,
    "start_time": "2021-12-12T12:32:01.101Z"
   },
   {
    "duration": 7,
    "start_time": "2021-12-12T12:32:25.794Z"
   },
   {
    "duration": 9,
    "start_time": "2021-12-12T12:33:06.497Z"
   },
   {
    "duration": 10,
    "start_time": "2021-12-12T12:33:54.206Z"
   },
   {
    "duration": 62,
    "start_time": "2021-12-12T12:34:20.519Z"
   },
   {
    "duration": 7,
    "start_time": "2021-12-12T12:34:32.877Z"
   },
   {
    "duration": 8,
    "start_time": "2021-12-12T12:34:44.942Z"
   },
   {
    "duration": 8,
    "start_time": "2021-12-12T12:34:52.534Z"
   },
   {
    "duration": 8,
    "start_time": "2021-12-12T12:35:08.131Z"
   },
   {
    "duration": 9,
    "start_time": "2021-12-12T12:39:59.141Z"
   },
   {
    "duration": 10,
    "start_time": "2021-12-12T12:40:22.757Z"
   },
   {
    "duration": 9,
    "start_time": "2021-12-12T12:40:29.263Z"
   },
   {
    "duration": 65,
    "start_time": "2021-12-12T12:40:34.524Z"
   },
   {
    "duration": 7,
    "start_time": "2021-12-12T12:40:36.967Z"
   },
   {
    "duration": 21,
    "start_time": "2021-12-12T12:45:57.236Z"
   },
   {
    "duration": 6,
    "start_time": "2021-12-12T12:46:06.649Z"
   },
   {
    "duration": 10,
    "start_time": "2021-12-12T12:46:25.293Z"
   },
   {
    "duration": 9,
    "start_time": "2021-12-12T12:46:36.633Z"
   },
   {
    "duration": 69,
    "start_time": "2021-12-12T13:12:07.791Z"
   },
   {
    "duration": 6,
    "start_time": "2021-12-12T13:14:39.973Z"
   },
   {
    "duration": 580,
    "start_time": "2021-12-12T13:30:20.495Z"
   },
   {
    "duration": 237,
    "start_time": "2021-12-12T13:37:37.110Z"
   },
   {
    "duration": 226,
    "start_time": "2021-12-12T13:37:41.924Z"
   },
   {
    "duration": 1032,
    "start_time": "2021-12-12T13:37:46.226Z"
   },
   {
    "duration": 318,
    "start_time": "2021-12-12T13:37:47.260Z"
   },
   {
    "duration": 92,
    "start_time": "2021-12-12T13:37:47.580Z"
   },
   {
    "duration": 392,
    "start_time": "2021-12-12T13:37:47.674Z"
   },
   {
    "duration": 7494,
    "start_time": "2021-12-12T13:37:48.068Z"
   },
   {
    "duration": 5,
    "start_time": "2021-12-12T13:37:55.563Z"
   },
   {
    "duration": 6,
    "start_time": "2021-12-12T13:37:55.569Z"
   },
   {
    "duration": 17,
    "start_time": "2021-12-12T13:37:55.578Z"
   },
   {
    "duration": 13,
    "start_time": "2021-12-12T13:37:55.597Z"
   },
   {
    "duration": 22,
    "start_time": "2021-12-12T13:37:55.611Z"
   },
   {
    "duration": 8,
    "start_time": "2021-12-12T13:37:55.635Z"
   },
   {
    "duration": 6,
    "start_time": "2021-12-12T13:37:55.644Z"
   },
   {
    "duration": 622,
    "start_time": "2021-12-12T13:37:55.651Z"
   },
   {
    "duration": 729,
    "start_time": "2021-12-12T13:41:45.479Z"
   },
   {
    "duration": 55,
    "start_time": "2021-12-12T13:42:10.423Z"
   },
   {
    "duration": 1872,
    "start_time": "2021-12-12T13:42:16.705Z"
   },
   {
    "duration": 1903,
    "start_time": "2021-12-12T13:44:13.929Z"
   },
   {
    "duration": 60,
    "start_time": "2021-12-12T13:44:59.637Z"
   },
   {
    "duration": 1790,
    "start_time": "2021-12-12T13:45:05.826Z"
   },
   {
    "duration": 2004,
    "start_time": "2021-12-12T13:58:55.018Z"
   },
   {
    "duration": 2167,
    "start_time": "2021-12-12T13:59:08.663Z"
   },
   {
    "duration": 309,
    "start_time": "2021-12-12T14:12:51.785Z"
   },
   {
    "duration": 940,
    "start_time": "2021-12-12T14:17:47.289Z"
   },
   {
    "duration": 1094,
    "start_time": "2021-12-12T14:19:35.201Z"
   },
   {
    "duration": 1057,
    "start_time": "2021-12-12T14:19:50.938Z"
   },
   {
    "duration": 836,
    "start_time": "2021-12-12T14:23:39.964Z"
   },
   {
    "duration": 3,
    "start_time": "2021-12-12T14:24:07.590Z"
   },
   {
    "duration": 309,
    "start_time": "2021-12-12T14:24:07.595Z"
   },
   {
    "duration": 95,
    "start_time": "2021-12-12T14:24:07.907Z"
   },
   {
    "duration": 419,
    "start_time": "2021-12-12T14:24:08.005Z"
   },
   {
    "duration": 7971,
    "start_time": "2021-12-12T14:24:08.427Z"
   },
   {
    "duration": 6,
    "start_time": "2021-12-12T14:24:16.400Z"
   },
   {
    "duration": 19,
    "start_time": "2021-12-12T14:24:16.408Z"
   },
   {
    "duration": 21,
    "start_time": "2021-12-12T14:24:16.431Z"
   },
   {
    "duration": 24,
    "start_time": "2021-12-12T14:24:16.454Z"
   },
   {
    "duration": 32,
    "start_time": "2021-12-12T14:24:16.480Z"
   },
   {
    "duration": 10,
    "start_time": "2021-12-12T14:24:16.514Z"
   },
   {
    "duration": 6,
    "start_time": "2021-12-12T14:24:16.525Z"
   },
   {
    "duration": 2159,
    "start_time": "2021-12-12T14:24:16.533Z"
   },
   {
    "duration": 879,
    "start_time": "2021-12-12T14:24:18.694Z"
   },
   {
    "duration": 933,
    "start_time": "2021-12-12T14:25:35.365Z"
   },
   {
    "duration": 853,
    "start_time": "2021-12-12T14:25:54.138Z"
   },
   {
    "duration": 1025,
    "start_time": "2021-12-12T14:26:50.603Z"
   },
   {
    "duration": 775,
    "start_time": "2021-12-12T14:29:07.217Z"
   },
   {
    "duration": 779,
    "start_time": "2021-12-12T14:30:39.990Z"
   },
   {
    "duration": 17,
    "start_time": "2021-12-12T15:24:50.451Z"
   },
   {
    "duration": 68,
    "start_time": "2021-12-12T15:28:19.157Z"
   },
   {
    "duration": 51,
    "start_time": "2021-12-12T15:35:35.842Z"
   },
   {
    "duration": 1867,
    "start_time": "2021-12-12T15:38:00.377Z"
   },
   {
    "duration": 3,
    "start_time": "2021-12-12T15:38:30.661Z"
   },
   {
    "duration": 319,
    "start_time": "2021-12-12T15:38:30.665Z"
   },
   {
    "duration": 90,
    "start_time": "2021-12-12T15:38:30.991Z"
   },
   {
    "duration": 408,
    "start_time": "2021-12-12T15:38:31.083Z"
   },
   {
    "duration": 7591,
    "start_time": "2021-12-12T15:38:31.493Z"
   },
   {
    "duration": 6,
    "start_time": "2021-12-12T15:38:39.086Z"
   },
   {
    "duration": 21,
    "start_time": "2021-12-12T15:38:39.093Z"
   },
   {
    "duration": 19,
    "start_time": "2021-12-12T15:38:39.117Z"
   },
   {
    "duration": 42,
    "start_time": "2021-12-12T15:38:39.137Z"
   },
   {
    "duration": 26,
    "start_time": "2021-12-12T15:38:39.181Z"
   },
   {
    "duration": 10,
    "start_time": "2021-12-12T15:38:39.208Z"
   },
   {
    "duration": 20,
    "start_time": "2021-12-12T15:38:39.220Z"
   },
   {
    "duration": 2126,
    "start_time": "2021-12-12T15:38:39.242Z"
   },
   {
    "duration": 790,
    "start_time": "2021-12-12T15:38:41.370Z"
   },
   {
    "duration": 15,
    "start_time": "2021-12-12T15:38:42.162Z"
   },
   {
    "duration": 62,
    "start_time": "2021-12-12T15:38:42.178Z"
   },
   {
    "duration": -11299,
    "start_time": "2021-12-12T15:38:53.540Z"
   },
   {
    "duration": 55,
    "start_time": "2021-12-12T15:42:20.445Z"
   },
   {
    "duration": 5,
    "start_time": "2021-12-12T15:42:36.311Z"
   },
   {
    "duration": 5,
    "start_time": "2021-12-12T15:43:12.588Z"
   },
   {
    "duration": 5,
    "start_time": "2021-12-12T15:44:07.960Z"
   },
   {
    "duration": -11354,
    "start_time": "2021-12-12T15:44:36.755Z"
   },
   {
    "duration": 5,
    "start_time": "2021-12-12T15:44:30.180Z"
   },
   {
    "duration": 4,
    "start_time": "2021-12-12T15:45:51.642Z"
   },
   {
    "duration": 4308,
    "start_time": "2021-12-12T15:47:15.841Z"
   },
   {
    "duration": 14,
    "start_time": "2021-12-12T15:48:00.143Z"
   },
   {
    "duration": 11,
    "start_time": "2021-12-12T15:48:12.013Z"
   },
   {
    "duration": 1091,
    "start_time": "2021-12-12T15:52:25.733Z"
   },
   {
    "duration": 2294,
    "start_time": "2021-12-12T15:53:36.685Z"
   },
   {
    "duration": 1150,
    "start_time": "2021-12-12T15:53:51.941Z"
   },
   {
    "duration": 997,
    "start_time": "2021-12-12T15:54:34.996Z"
   },
   {
    "duration": 177,
    "start_time": "2021-12-12T15:54:41.317Z"
   },
   {
    "duration": 111,
    "start_time": "2021-12-12T15:55:01.104Z"
   },
   {
    "duration": 520,
    "start_time": "2021-12-12T15:55:14.472Z"
   },
   {
    "duration": 556,
    "start_time": "2021-12-12T15:55:54.605Z"
   },
   {
    "duration": 578,
    "start_time": "2021-12-12T15:56:01.695Z"
   },
   {
    "duration": 5,
    "start_time": "2021-12-12T16:02:58.507Z"
   },
   {
    "duration": 5,
    "start_time": "2021-12-12T16:03:14.879Z"
   },
   {
    "duration": 7,
    "start_time": "2021-12-12T16:03:50.961Z"
   },
   {
    "duration": 4,
    "start_time": "2021-12-12T16:04:03.137Z"
   },
   {
    "duration": 688,
    "start_time": "2021-12-12T16:04:06.552Z"
   },
   {
    "duration": 6,
    "start_time": "2021-12-12T16:10:00.808Z"
   },
   {
    "duration": 5,
    "start_time": "2021-12-12T16:10:34.818Z"
   },
   {
    "duration": 14,
    "start_time": "2021-12-12T16:10:37.250Z"
   },
   {
    "duration": 547,
    "start_time": "2021-12-12T16:10:40.266Z"
   },
   {
    "duration": 609,
    "start_time": "2021-12-12T16:11:36.832Z"
   },
   {
    "duration": 3,
    "start_time": "2021-12-12T16:26:49.511Z"
   },
   {
    "duration": 3,
    "start_time": "2021-12-12T16:35:37.404Z"
   },
   {
    "duration": 195,
    "start_time": "2021-12-12T16:38:48.515Z"
   },
   {
    "duration": 172,
    "start_time": "2021-12-12T16:39:14.408Z"
   },
   {
    "duration": 1261,
    "start_time": "2021-12-12T20:14:07.058Z"
   },
   {
    "duration": 417,
    "start_time": "2021-12-12T20:23:00.750Z"
   },
   {
    "duration": 3,
    "start_time": "2021-12-12T20:23:46.325Z"
   },
   {
    "duration": 288,
    "start_time": "2021-12-12T20:23:46.330Z"
   },
   {
    "duration": 83,
    "start_time": "2021-12-12T20:23:46.620Z"
   },
   {
    "duration": 364,
    "start_time": "2021-12-12T20:23:46.705Z"
   },
   {
    "duration": 7694,
    "start_time": "2021-12-12T20:23:47.071Z"
   },
   {
    "duration": 7,
    "start_time": "2021-12-12T20:23:54.767Z"
   },
   {
    "duration": 21,
    "start_time": "2021-12-12T20:23:54.776Z"
   },
   {
    "duration": 24,
    "start_time": "2021-12-12T20:23:54.799Z"
   },
   {
    "duration": 50,
    "start_time": "2021-12-12T20:23:54.824Z"
   },
   {
    "duration": 52,
    "start_time": "2021-12-12T20:23:54.876Z"
   },
   {
    "duration": 7,
    "start_time": "2021-12-12T20:23:54.930Z"
   },
   {
    "duration": 12,
    "start_time": "2021-12-12T20:23:54.939Z"
   },
   {
    "duration": 1874,
    "start_time": "2021-12-12T20:23:54.953Z"
   },
   {
    "duration": 718,
    "start_time": "2021-12-12T20:23:56.829Z"
   },
   {
    "duration": 5,
    "start_time": "2021-12-12T20:23:57.549Z"
   },
   {
    "duration": 12,
    "start_time": "2021-12-12T20:23:57.555Z"
   },
   {
    "duration": 8,
    "start_time": "2021-12-12T20:23:57.568Z"
   },
   {
    "duration": 16,
    "start_time": "2021-12-12T20:23:57.578Z"
   },
   {
    "duration": 498,
    "start_time": "2021-12-12T20:23:57.597Z"
   },
   {
    "duration": 3,
    "start_time": "2021-12-12T20:23:58.096Z"
   },
   {
    "duration": 8,
    "start_time": "2021-12-12T20:23:58.101Z"
   },
   {
    "duration": 90,
    "start_time": "2021-12-12T20:23:58.111Z"
   },
   {
    "duration": -11216,
    "start_time": "2021-12-12T20:24:09.418Z"
   },
   {
    "duration": 3,
    "start_time": "2021-12-12T20:32:04.073Z"
   },
   {
    "duration": 6,
    "start_time": "2021-12-12T20:33:49.494Z"
   },
   {
    "duration": 7,
    "start_time": "2021-12-12T20:42:23.914Z"
   },
   {
    "duration": 3,
    "start_time": "2021-12-12T20:48:50.164Z"
   },
   {
    "duration": 312,
    "start_time": "2021-12-12T20:48:50.171Z"
   },
   {
    "duration": 83,
    "start_time": "2021-12-12T20:48:50.485Z"
   },
   {
    "duration": 381,
    "start_time": "2021-12-12T20:48:50.570Z"
   },
   {
    "duration": 7710,
    "start_time": "2021-12-12T20:48:50.953Z"
   },
   {
    "duration": 5,
    "start_time": "2021-12-12T20:48:58.665Z"
   },
   {
    "duration": 12,
    "start_time": "2021-12-12T20:48:58.672Z"
   },
   {
    "duration": 10,
    "start_time": "2021-12-12T20:48:58.685Z"
   },
   {
    "duration": 14,
    "start_time": "2021-12-12T20:48:58.696Z"
   },
   {
    "duration": 35,
    "start_time": "2021-12-12T20:48:58.712Z"
   },
   {
    "duration": 8,
    "start_time": "2021-12-12T20:48:58.750Z"
   },
   {
    "duration": 6,
    "start_time": "2021-12-12T20:48:58.759Z"
   },
   {
    "duration": 1963,
    "start_time": "2021-12-12T20:48:58.767Z"
   },
   {
    "duration": 696,
    "start_time": "2021-12-12T20:49:00.731Z"
   },
   {
    "duration": 5,
    "start_time": "2021-12-12T20:49:01.429Z"
   },
   {
    "duration": 5,
    "start_time": "2021-12-12T20:49:01.443Z"
   },
   {
    "duration": 18,
    "start_time": "2021-12-12T20:49:01.449Z"
   },
   {
    "duration": 22,
    "start_time": "2021-12-12T20:49:01.469Z"
   },
   {
    "duration": 491,
    "start_time": "2021-12-12T20:49:01.493Z"
   },
   {
    "duration": 3,
    "start_time": "2021-12-12T20:49:01.986Z"
   },
   {
    "duration": 32,
    "start_time": "2021-12-12T20:49:01.991Z"
   },
   {
    "duration": 9,
    "start_time": "2021-12-12T20:49:02.025Z"
   },
   {
    "duration": 301,
    "start_time": "2021-12-12T20:49:02.035Z"
   },
   {
    "duration": -11220,
    "start_time": "2021-12-12T20:49:13.558Z"
   },
   {
    "duration": -11221,
    "start_time": "2021-12-12T20:49:13.560Z"
   },
   {
    "duration": -11222,
    "start_time": "2021-12-12T20:49:13.562Z"
   },
   {
    "duration": -11228,
    "start_time": "2021-12-12T20:49:13.569Z"
   },
   {
    "duration": -11229,
    "start_time": "2021-12-12T20:49:13.571Z"
   },
   {
    "duration": -11231,
    "start_time": "2021-12-12T20:49:13.573Z"
   },
   {
    "duration": 85,
    "start_time": "2021-12-12T20:53:43.104Z"
   },
   {
    "duration": 6,
    "start_time": "2021-12-12T20:54:06.382Z"
   },
   {
    "duration": 6,
    "start_time": "2021-12-12T20:54:12.253Z"
   },
   {
    "duration": 6,
    "start_time": "2021-12-12T20:54:13.956Z"
   },
   {
    "duration": 4,
    "start_time": "2021-12-12T20:54:14.537Z"
   },
   {
    "duration": 5,
    "start_time": "2021-12-12T20:54:19.478Z"
   },
   {
    "duration": 1297,
    "start_time": "2021-12-13T19:28:17.332Z"
   },
   {
    "duration": 317,
    "start_time": "2021-12-13T19:28:18.631Z"
   },
   {
    "duration": 97,
    "start_time": "2021-12-13T19:28:18.950Z"
   },
   {
    "duration": 414,
    "start_time": "2021-12-13T19:28:19.049Z"
   },
   {
    "duration": 7674,
    "start_time": "2021-12-13T19:28:19.465Z"
   },
   {
    "duration": 6,
    "start_time": "2021-12-13T19:28:27.141Z"
   },
   {
    "duration": 16,
    "start_time": "2021-12-13T19:28:27.148Z"
   },
   {
    "duration": 7,
    "start_time": "2021-12-13T19:28:27.165Z"
   },
   {
    "duration": 13,
    "start_time": "2021-12-13T19:28:27.174Z"
   },
   {
    "duration": 22,
    "start_time": "2021-12-13T19:28:27.189Z"
   },
   {
    "duration": 8,
    "start_time": "2021-12-13T19:28:27.213Z"
   },
   {
    "duration": 201,
    "start_time": "2021-12-13T19:28:27.222Z"
   },
   {
    "duration": 1999,
    "start_time": "2021-12-13T19:28:27.425Z"
   },
   {
    "duration": 777,
    "start_time": "2021-12-13T19:28:29.425Z"
   },
   {
    "duration": 5,
    "start_time": "2021-12-13T19:28:30.204Z"
   },
   {
    "duration": 22,
    "start_time": "2021-12-13T19:28:30.211Z"
   },
   {
    "duration": 7,
    "start_time": "2021-12-13T19:28:30.235Z"
   },
   {
    "duration": 26,
    "start_time": "2021-12-13T19:28:30.244Z"
   },
   {
    "duration": 517,
    "start_time": "2021-12-13T19:28:30.272Z"
   },
   {
    "duration": 4,
    "start_time": "2021-12-13T19:28:30.791Z"
   },
   {
    "duration": 9,
    "start_time": "2021-12-13T19:28:30.797Z"
   },
   {
    "duration": 11,
    "start_time": "2021-12-13T19:28:30.808Z"
   },
   {
    "duration": 12,
    "start_time": "2021-12-13T19:28:30.821Z"
   },
   {
    "duration": 15,
    "start_time": "2021-12-13T19:28:30.835Z"
   },
   {
    "duration": 6,
    "start_time": "2021-12-13T19:28:30.863Z"
   },
   {
    "duration": 9,
    "start_time": "2021-12-13T19:28:30.871Z"
   },
   {
    "duration": 12,
    "start_time": "2021-12-13T19:28:30.883Z"
   },
   {
    "duration": 99,
    "start_time": "2021-12-13T19:28:30.897Z"
   },
   {
    "duration": -11098,
    "start_time": "2021-12-13T19:28:42.096Z"
   },
   {
    "duration": 4,
    "start_time": "2021-12-13T19:29:15.073Z"
   },
   {
    "duration": 3,
    "start_time": "2021-12-13T19:37:44.387Z"
   },
   {
    "duration": 35,
    "start_time": "2021-12-13T19:39:00.551Z"
   },
   {
    "duration": 4,
    "start_time": "2021-12-13T19:39:05.275Z"
   },
   {
    "duration": 675,
    "start_time": "2021-12-13T19:40:17.895Z"
   },
   {
    "duration": 7,
    "start_time": "2021-12-13T19:40:43.612Z"
   },
   {
    "duration": 3,
    "start_time": "2021-12-13T19:40:58.269Z"
   },
   {
    "duration": 457,
    "start_time": "2021-12-13T19:41:01.404Z"
   },
   {
    "duration": 4,
    "start_time": "2021-12-13T19:41:29.874Z"
   },
   {
    "duration": 1083,
    "start_time": "2021-12-13T19:41:32.120Z"
   },
   {
    "duration": 3,
    "start_time": "2021-12-13T19:42:01.515Z"
   },
   {
    "duration": 1078,
    "start_time": "2021-12-13T19:42:07.347Z"
   },
   {
    "duration": 3,
    "start_time": "2021-12-13T19:43:14.782Z"
   },
   {
    "duration": 6,
    "start_time": "2021-12-13T19:43:21.461Z"
   },
   {
    "duration": 4,
    "start_time": "2021-12-13T19:43:26.416Z"
   },
   {
    "duration": 3,
    "start_time": "2021-12-13T19:43:29.537Z"
   },
   {
    "duration": 975,
    "start_time": "2021-12-13T19:43:33.149Z"
   },
   {
    "duration": 5,
    "start_time": "2021-12-13T19:45:12.883Z"
   },
   {
    "duration": 2,
    "start_time": "2021-12-13T19:46:46.200Z"
   },
   {
    "duration": 1241,
    "start_time": "2021-12-13T19:46:51.232Z"
   },
   {
    "duration": 5,
    "start_time": "2021-12-13T19:49:51.486Z"
   },
   {
    "duration": 4,
    "start_time": "2021-12-13T19:51:22.991Z"
   },
   {
    "duration": 5,
    "start_time": "2021-12-13T19:53:42.886Z"
   },
   {
    "duration": 11,
    "start_time": "2021-12-13T19:55:09.655Z"
   },
   {
    "duration": 4,
    "start_time": "2021-12-13T19:55:44.947Z"
   },
   {
    "duration": 285,
    "start_time": "2021-12-13T19:55:44.953Z"
   },
   {
    "duration": 84,
    "start_time": "2021-12-13T19:55:45.240Z"
   },
   {
    "duration": 345,
    "start_time": "2021-12-13T19:55:45.326Z"
   },
   {
    "duration": 7476,
    "start_time": "2021-12-13T19:55:45.673Z"
   },
   {
    "duration": 5,
    "start_time": "2021-12-13T19:55:53.150Z"
   },
   {
    "duration": 4,
    "start_time": "2021-12-13T19:55:53.163Z"
   },
   {
    "duration": 6,
    "start_time": "2021-12-13T19:55:53.170Z"
   },
   {
    "duration": 14,
    "start_time": "2021-12-13T19:55:53.178Z"
   },
   {
    "duration": 22,
    "start_time": "2021-12-13T19:55:53.193Z"
   },
   {
    "duration": 9,
    "start_time": "2021-12-13T19:55:53.217Z"
   },
   {
    "duration": 39,
    "start_time": "2021-12-13T19:55:53.228Z"
   },
   {
    "duration": 2116,
    "start_time": "2021-12-13T19:55:53.269Z"
   },
   {
    "duration": 693,
    "start_time": "2021-12-13T19:55:55.387Z"
   },
   {
    "duration": 5,
    "start_time": "2021-12-13T19:55:56.082Z"
   },
   {
    "duration": 6,
    "start_time": "2021-12-13T19:55:56.089Z"
   },
   {
    "duration": 5,
    "start_time": "2021-12-13T19:55:56.096Z"
   },
   {
    "duration": 16,
    "start_time": "2021-12-13T19:55:56.103Z"
   },
   {
    "duration": 684,
    "start_time": "2021-12-13T19:55:56.121Z"
   },
   {
    "duration": 3,
    "start_time": "2021-12-13T19:55:56.807Z"
   },
   {
    "duration": 9,
    "start_time": "2021-12-13T19:55:56.811Z"
   },
   {
    "duration": 7,
    "start_time": "2021-12-13T19:55:56.822Z"
   },
   {
    "duration": 10,
    "start_time": "2021-12-13T19:55:56.830Z"
   },
   {
    "duration": 22,
    "start_time": "2021-12-13T19:55:56.841Z"
   },
   {
    "duration": 5,
    "start_time": "2021-12-13T19:55:56.865Z"
   },
   {
    "duration": 4,
    "start_time": "2021-12-13T19:55:56.871Z"
   },
   {
    "duration": 5,
    "start_time": "2021-12-13T19:55:56.878Z"
   },
   {
    "duration": 11,
    "start_time": "2021-12-13T19:55:56.885Z"
   },
   {
    "duration": 2166,
    "start_time": "2021-12-13T19:55:56.898Z"
   },
   {
    "duration": 4,
    "start_time": "2021-12-13T19:55:59.066Z"
   },
   {
    "duration": 3,
    "start_time": "2021-12-13T19:56:50.592Z"
   },
   {
    "duration": 2524,
    "start_time": "2021-12-13T19:56:53.039Z"
   },
   {
    "duration": 3,
    "start_time": "2021-12-13T19:57:58.421Z"
   },
   {
    "duration": 4,
    "start_time": "2021-12-13T19:58:00.047Z"
   },
   {
    "duration": 2378,
    "start_time": "2021-12-13T19:58:02.689Z"
   },
   {
    "duration": 3,
    "start_time": "2021-12-13T20:15:31.704Z"
   },
   {
    "duration": 3,
    "start_time": "2021-12-13T20:16:05.290Z"
   },
   {
    "duration": 3,
    "start_time": "2021-12-13T20:28:27.921Z"
   },
   {
    "duration": 6459,
    "start_time": "2021-12-13T20:30:28.655Z"
   },
   {
    "duration": 12,
    "start_time": "2021-12-13T20:31:37.280Z"
   },
   {
    "duration": 3,
    "start_time": "2021-12-13T20:32:39.577Z"
   },
   {
    "duration": 3,
    "start_time": "2021-12-13T20:34:42.400Z"
   },
   {
    "duration": 13,
    "start_time": "2021-12-13T20:35:14.311Z"
   },
   {
    "duration": 1532,
    "start_time": "2021-12-14T16:30:11.511Z"
   },
   {
    "duration": 362,
    "start_time": "2021-12-14T16:30:13.046Z"
   },
   {
    "duration": 110,
    "start_time": "2021-12-14T16:30:13.411Z"
   },
   {
    "duration": 497,
    "start_time": "2021-12-14T16:30:13.523Z"
   },
   {
    "duration": 16005,
    "start_time": "2021-12-14T16:30:14.022Z"
   },
   {
    "duration": 8,
    "start_time": "2021-12-14T16:30:30.029Z"
   },
   {
    "duration": 29,
    "start_time": "2021-12-14T16:30:30.040Z"
   },
   {
    "duration": 25,
    "start_time": "2021-12-14T16:30:30.073Z"
   },
   {
    "duration": 36,
    "start_time": "2021-12-14T16:30:30.101Z"
   },
   {
    "duration": 36,
    "start_time": "2021-12-14T16:30:30.140Z"
   },
   {
    "duration": 11,
    "start_time": "2021-12-14T16:30:30.178Z"
   },
   {
    "duration": 16,
    "start_time": "2021-12-14T16:30:30.192Z"
   },
   {
    "duration": 3431,
    "start_time": "2021-12-14T16:30:30.210Z"
   },
   {
    "duration": 1297,
    "start_time": "2021-12-14T16:30:33.644Z"
   },
   {
    "duration": 6,
    "start_time": "2021-12-14T16:30:34.943Z"
   },
   {
    "duration": 45,
    "start_time": "2021-12-14T16:30:34.952Z"
   },
   {
    "duration": 72,
    "start_time": "2021-12-14T16:30:35.000Z"
   },
   {
    "duration": 36,
    "start_time": "2021-12-14T16:30:35.075Z"
   },
   {
    "duration": 895,
    "start_time": "2021-12-14T16:30:35.113Z"
   },
   {
    "duration": 6,
    "start_time": "2021-12-14T16:30:36.011Z"
   },
   {
    "duration": 20,
    "start_time": "2021-12-14T16:30:36.020Z"
   },
   {
    "duration": 22,
    "start_time": "2021-12-14T16:30:36.043Z"
   },
   {
    "duration": 37,
    "start_time": "2021-12-14T16:30:36.071Z"
   },
   {
    "duration": 24,
    "start_time": "2021-12-14T16:30:36.111Z"
   },
   {
    "duration": 432,
    "start_time": "2021-12-14T16:30:36.137Z"
   },
   {
    "duration": -11479,
    "start_time": "2021-12-14T16:30:48.052Z"
   },
   {
    "duration": -11480,
    "start_time": "2021-12-14T16:30:48.055Z"
   },
   {
    "duration": -11481,
    "start_time": "2021-12-14T16:30:48.058Z"
   },
   {
    "duration": -11483,
    "start_time": "2021-12-14T16:30:48.062Z"
   },
   {
    "duration": -11484,
    "start_time": "2021-12-14T16:30:48.065Z"
   },
   {
    "duration": -11484,
    "start_time": "2021-12-14T16:30:48.067Z"
   },
   {
    "duration": -11499,
    "start_time": "2021-12-14T16:30:48.085Z"
   },
   {
    "duration": -11503,
    "start_time": "2021-12-14T16:30:48.091Z"
   },
   {
    "duration": -11506,
    "start_time": "2021-12-14T16:30:48.096Z"
   },
   {
    "duration": -11509,
    "start_time": "2021-12-14T16:30:48.101Z"
   },
   {
    "duration": 388,
    "start_time": "2021-12-14T16:31:05.664Z"
   },
   {
    "duration": 784,
    "start_time": "2021-12-14T16:31:16.856Z"
   },
   {
    "duration": 6,
    "start_time": "2021-12-14T16:39:38.898Z"
   },
   {
    "duration": 5,
    "start_time": "2021-12-14T16:39:58.138Z"
   },
   {
    "duration": 12,
    "start_time": "2021-12-14T16:43:35.437Z"
   },
   {
    "duration": 41,
    "start_time": "2021-12-14T16:43:43.580Z"
   },
   {
    "duration": 13,
    "start_time": "2021-12-14T16:44:05.514Z"
   },
   {
    "duration": 38,
    "start_time": "2021-12-14T16:44:15.182Z"
   },
   {
    "duration": 284,
    "start_time": "2021-12-14T16:44:42.392Z"
   },
   {
    "duration": 6,
    "start_time": "2021-12-14T16:48:23.710Z"
   },
   {
    "duration": 351,
    "start_time": "2021-12-14T16:48:32.810Z"
   },
   {
    "duration": 15,
    "start_time": "2021-12-14T16:49:49.921Z"
   },
   {
    "duration": 21,
    "start_time": "2021-12-14T16:49:52.643Z"
   },
   {
    "duration": 4,
    "start_time": "2021-12-14T16:50:20.968Z"
   },
   {
    "duration": 5,
    "start_time": "2021-12-14T16:52:49.507Z"
   },
   {
    "duration": 3672,
    "start_time": "2021-12-14T16:52:59.093Z"
   },
   {
    "duration": 7,
    "start_time": "2021-12-14T17:02:35.808Z"
   },
   {
    "duration": 4,
    "start_time": "2021-12-14T17:02:38.981Z"
   },
   {
    "duration": 15,
    "start_time": "2021-12-14T17:02:39.357Z"
   },
   {
    "duration": 22,
    "start_time": "2021-12-14T17:02:39.706Z"
   },
   {
    "duration": 4,
    "start_time": "2021-12-14T17:02:40.070Z"
   },
   {
    "duration": 4,
    "start_time": "2021-12-14T17:02:40.434Z"
   },
   {
    "duration": 3927,
    "start_time": "2021-12-14T17:02:42.506Z"
   },
   {
    "duration": 6,
    "start_time": "2021-12-14T17:07:07.897Z"
   },
   {
    "duration": 643,
    "start_time": "2021-12-14T17:07:07.905Z"
   },
   {
    "duration": 482,
    "start_time": "2021-12-14T17:07:08.553Z"
   },
   {
    "duration": 6354,
    "start_time": "2021-12-14T17:07:09.038Z"
   },
   {
    "duration": 19983,
    "start_time": "2021-12-14T17:07:15.396Z"
   },
   {
    "duration": 7,
    "start_time": "2021-12-14T17:07:35.382Z"
   },
   {
    "duration": 12,
    "start_time": "2021-12-14T17:07:35.391Z"
   },
   {
    "duration": 12,
    "start_time": "2021-12-14T17:07:35.407Z"
   },
   {
    "duration": 45,
    "start_time": "2021-12-14T17:07:35.422Z"
   },
   {
    "duration": 28,
    "start_time": "2021-12-14T17:07:35.470Z"
   },
   {
    "duration": 11,
    "start_time": "2021-12-14T17:07:35.501Z"
   },
   {
    "duration": 9,
    "start_time": "2021-12-14T17:07:35.515Z"
   },
   {
    "duration": 3721,
    "start_time": "2021-12-14T17:07:35.526Z"
   },
   {
    "duration": 1448,
    "start_time": "2021-12-14T17:07:39.250Z"
   },
   {
    "duration": 7,
    "start_time": "2021-12-14T17:07:40.702Z"
   },
   {
    "duration": 23,
    "start_time": "2021-12-14T17:07:40.712Z"
   },
   {
    "duration": 19,
    "start_time": "2021-12-14T17:07:40.738Z"
   },
   {
    "duration": 24,
    "start_time": "2021-12-14T17:07:40.760Z"
   },
   {
    "duration": 953,
    "start_time": "2021-12-14T17:07:40.787Z"
   },
   {
    "duration": 6,
    "start_time": "2021-12-14T17:07:41.743Z"
   },
   {
    "duration": 42,
    "start_time": "2021-12-14T17:07:41.752Z"
   },
   {
    "duration": 33,
    "start_time": "2021-12-14T17:07:41.797Z"
   },
   {
    "duration": 45,
    "start_time": "2021-12-14T17:07:41.835Z"
   },
   {
    "duration": 7,
    "start_time": "2021-12-14T17:07:41.883Z"
   },
   {
    "duration": 29,
    "start_time": "2021-12-14T17:07:41.893Z"
   },
   {
    "duration": 4413,
    "start_time": "2021-12-14T17:07:41.924Z"
   },
   {
    "duration": -11545,
    "start_time": "2021-12-14T17:07:57.885Z"
   },
   {
    "duration": -11549,
    "start_time": "2021-12-14T17:07:57.891Z"
   },
   {
    "duration": -11550,
    "start_time": "2021-12-14T17:07:57.894Z"
   },
   {
    "duration": -11551,
    "start_time": "2021-12-14T17:07:57.896Z"
   },
   {
    "duration": -11552,
    "start_time": "2021-12-14T17:07:57.899Z"
   },
   {
    "duration": -11553,
    "start_time": "2021-12-14T17:07:57.901Z"
   },
   {
    "duration": -11554,
    "start_time": "2021-12-14T17:07:57.903Z"
   },
   {
    "duration": -11554,
    "start_time": "2021-12-14T17:07:57.905Z"
   },
   {
    "duration": -11556,
    "start_time": "2021-12-14T17:07:57.908Z"
   },
   {
    "duration": -11556,
    "start_time": "2021-12-14T17:07:57.910Z"
   },
   {
    "duration": -11556,
    "start_time": "2021-12-14T17:07:57.912Z"
   },
   {
    "duration": -11557,
    "start_time": "2021-12-14T17:07:57.914Z"
   },
   {
    "duration": -11557,
    "start_time": "2021-12-14T17:07:57.916Z"
   },
   {
    "duration": -11559,
    "start_time": "2021-12-14T17:07:57.919Z"
   },
   {
    "duration": -11559,
    "start_time": "2021-12-14T17:07:57.921Z"
   },
   {
    "duration": 7,
    "start_time": "2021-12-14T17:08:01.035Z"
   },
   {
    "duration": 4,
    "start_time": "2021-12-14T17:08:04.628Z"
   },
   {
    "duration": 36,
    "start_time": "2021-12-14T17:08:04.635Z"
   },
   {
    "duration": 45,
    "start_time": "2021-12-14T17:08:04.674Z"
   },
   {
    "duration": 6,
    "start_time": "2021-12-14T17:08:04.722Z"
   },
   {
    "duration": 4,
    "start_time": "2021-12-14T17:08:08.384Z"
   },
   {
    "duration": 3923,
    "start_time": "2021-12-14T17:08:09.995Z"
   },
   {
    "duration": 5,
    "start_time": "2021-12-14T17:15:29.836Z"
   },
   {
    "duration": 4,
    "start_time": "2021-12-14T17:15:30.403Z"
   },
   {
    "duration": 4,
    "start_time": "2021-12-14T17:16:16.082Z"
   },
   {
    "duration": 4,
    "start_time": "2021-12-14T17:16:48.564Z"
   },
   {
    "duration": 4,
    "start_time": "2021-12-14T17:17:31.468Z"
   },
   {
    "duration": 3382,
    "start_time": "2021-12-14T17:17:41.579Z"
   },
   {
    "duration": 91,
    "start_time": "2021-12-14T17:19:05.212Z"
   },
   {
    "duration": 4,
    "start_time": "2021-12-14T17:19:16.373Z"
   },
   {
    "duration": 3502,
    "start_time": "2021-12-14T17:19:19.517Z"
   },
   {
    "duration": 3,
    "start_time": "2021-12-14T17:25:10.952Z"
   },
   {
    "duration": 12,
    "start_time": "2021-12-14T17:25:41.140Z"
   },
   {
    "duration": 18,
    "start_time": "2021-12-14T17:25:59.370Z"
   },
   {
    "duration": 3,
    "start_time": "2021-12-14T17:26:05.536Z"
   },
   {
    "duration": 1746,
    "start_time": "2021-12-14T17:26:15.885Z"
   },
   {
    "duration": 1410,
    "start_time": "2021-12-14T17:28:00.742Z"
   },
   {
    "duration": 6,
    "start_time": "2021-12-14T19:18:29.104Z"
   },
   {
    "duration": 388,
    "start_time": "2021-12-14T19:18:29.113Z"
   },
   {
    "duration": 110,
    "start_time": "2021-12-14T19:18:29.505Z"
   },
   {
    "duration": 485,
    "start_time": "2021-12-14T19:18:29.618Z"
   },
   {
    "duration": 16482,
    "start_time": "2021-12-14T19:18:30.106Z"
   },
   {
    "duration": 8,
    "start_time": "2021-12-14T19:18:46.592Z"
   },
   {
    "duration": 28,
    "start_time": "2021-12-14T19:18:46.605Z"
   },
   {
    "duration": 25,
    "start_time": "2021-12-14T19:18:46.638Z"
   },
   {
    "duration": 32,
    "start_time": "2021-12-14T19:18:46.666Z"
   },
   {
    "duration": 27,
    "start_time": "2021-12-14T19:18:46.702Z"
   },
   {
    "duration": 16,
    "start_time": "2021-12-14T19:18:46.732Z"
   },
   {
    "duration": 26,
    "start_time": "2021-12-14T19:18:46.752Z"
   },
   {
    "duration": 3625,
    "start_time": "2021-12-14T19:18:46.781Z"
   },
   {
    "duration": 2132,
    "start_time": "2021-12-14T19:18:50.409Z"
   },
   {
    "duration": 7,
    "start_time": "2021-12-14T19:18:52.544Z"
   },
   {
    "duration": 34,
    "start_time": "2021-12-14T19:18:52.554Z"
   },
   {
    "duration": 30,
    "start_time": "2021-12-14T19:18:52.590Z"
   },
   {
    "duration": 26,
    "start_time": "2021-12-14T19:18:52.622Z"
   },
   {
    "duration": 1070,
    "start_time": "2021-12-14T19:18:52.652Z"
   },
   {
    "duration": 4,
    "start_time": "2021-12-14T19:18:53.725Z"
   },
   {
    "duration": 40,
    "start_time": "2021-12-14T19:18:53.732Z"
   },
   {
    "duration": 50,
    "start_time": "2021-12-14T19:18:53.776Z"
   },
   {
    "duration": 35,
    "start_time": "2021-12-14T19:18:53.829Z"
   },
   {
    "duration": 31,
    "start_time": "2021-12-14T19:18:53.867Z"
   },
   {
    "duration": 17,
    "start_time": "2021-12-14T19:18:53.900Z"
   },
   {
    "duration": 18,
    "start_time": "2021-12-14T19:18:53.919Z"
   },
   {
    "duration": 47,
    "start_time": "2021-12-14T19:18:53.940Z"
   },
   {
    "duration": 28,
    "start_time": "2021-12-14T19:18:53.991Z"
   },
   {
    "duration": 580,
    "start_time": "2021-12-14T19:18:54.022Z"
   },
   {
    "duration": 5,
    "start_time": "2021-12-14T19:19:27.162Z"
   },
   {
    "duration": 5,
    "start_time": "2021-12-14T19:19:27.663Z"
   },
   {
    "duration": 3464,
    "start_time": "2021-12-14T19:19:28.113Z"
   },
   {
    "duration": 11,
    "start_time": "2021-12-14T19:20:35.215Z"
   },
   {
    "duration": 9,
    "start_time": "2021-12-14T19:22:32.967Z"
   },
   {
    "duration": 7,
    "start_time": "2021-12-14T19:24:08.175Z"
   },
   {
    "duration": 13,
    "start_time": "2021-12-14T19:24:08.619Z"
   },
   {
    "duration": 4,
    "start_time": "2021-12-14T19:24:10.588Z"
   },
   {
    "duration": 5,
    "start_time": "2021-12-14T19:24:11.347Z"
   },
   {
    "duration": 4,
    "start_time": "2021-12-14T19:24:12.251Z"
   },
   {
    "duration": 3373,
    "start_time": "2021-12-14T19:24:18.507Z"
   },
   {
    "duration": 6,
    "start_time": "2021-12-14T19:25:57.309Z"
   },
   {
    "duration": 5,
    "start_time": "2021-12-14T19:26:11.002Z"
   },
   {
    "duration": 5,
    "start_time": "2021-12-14T19:26:11.693Z"
   },
   {
    "duration": 6,
    "start_time": "2021-12-14T19:26:12.233Z"
   },
   {
    "duration": 2607,
    "start_time": "2021-12-14T19:26:12.666Z"
   },
   {
    "duration": 266,
    "start_time": "2021-12-14T19:30:00.788Z"
   },
   {
    "duration": 10149,
    "start_time": "2021-12-14T19:30:11.802Z"
   },
   {
    "duration": 53224,
    "start_time": "2021-12-14T19:30:40.754Z"
   },
   {
    "duration": 6,
    "start_time": "2021-12-14T19:31:33.981Z"
   },
   {
    "duration": 6,
    "start_time": "2021-12-14T19:31:45.090Z"
   },
   {
    "duration": 389,
    "start_time": "2021-12-14T19:31:45.099Z"
   },
   {
    "duration": 105,
    "start_time": "2021-12-14T19:31:45.492Z"
   },
   {
    "duration": 439,
    "start_time": "2021-12-14T19:31:45.601Z"
   },
   {
    "duration": 17059,
    "start_time": "2021-12-14T19:31:46.042Z"
   },
   {
    "duration": 6,
    "start_time": "2021-12-14T19:32:03.103Z"
   },
   {
    "duration": 7,
    "start_time": "2021-12-14T19:32:03.112Z"
   },
   {
    "duration": 9,
    "start_time": "2021-12-14T19:32:03.122Z"
   },
   {
    "duration": 14,
    "start_time": "2021-12-14T19:32:03.168Z"
   },
   {
    "duration": 23,
    "start_time": "2021-12-14T19:32:03.185Z"
   },
   {
    "duration": 12,
    "start_time": "2021-12-14T19:32:03.211Z"
   },
   {
    "duration": 42,
    "start_time": "2021-12-14T19:32:03.226Z"
   },
   {
    "duration": 3512,
    "start_time": "2021-12-14T19:32:03.271Z"
   },
   {
    "duration": 1787,
    "start_time": "2021-12-14T19:32:06.785Z"
   },
   {
    "duration": 8,
    "start_time": "2021-12-14T19:32:08.575Z"
   },
   {
    "duration": 13,
    "start_time": "2021-12-14T19:32:08.586Z"
   },
   {
    "duration": 14,
    "start_time": "2021-12-14T19:32:08.602Z"
   },
   {
    "duration": 23,
    "start_time": "2021-12-14T19:32:08.618Z"
   },
   {
    "duration": 935,
    "start_time": "2021-12-14T19:32:08.667Z"
   },
   {
    "duration": 5,
    "start_time": "2021-12-14T19:32:09.605Z"
   },
   {
    "duration": 12,
    "start_time": "2021-12-14T19:32:09.613Z"
   },
   {
    "duration": 40,
    "start_time": "2021-12-14T19:32:09.627Z"
   },
   {
    "duration": 7,
    "start_time": "2021-12-14T19:32:09.670Z"
   },
   {
    "duration": 11,
    "start_time": "2021-12-14T19:32:09.680Z"
   },
   {
    "duration": 6,
    "start_time": "2021-12-14T19:32:09.694Z"
   },
   {
    "duration": 12,
    "start_time": "2021-12-14T19:32:09.703Z"
   },
   {
    "duration": 49,
    "start_time": "2021-12-14T19:32:09.721Z"
   },
   {
    "duration": 6,
    "start_time": "2021-12-14T19:32:09.773Z"
   },
   {
    "duration": 7,
    "start_time": "2021-12-14T19:32:09.782Z"
   },
   {
    "duration": 6,
    "start_time": "2021-12-14T19:32:09.792Z"
   },
   {
    "duration": 2872,
    "start_time": "2021-12-14T19:32:09.800Z"
   },
   {
    "duration": 9169,
    "start_time": "2021-12-14T19:32:12.675Z"
   },
   {
    "duration": 52776,
    "start_time": "2021-12-14T19:32:21.847Z"
   },
   {
    "duration": 4,
    "start_time": "2021-12-14T19:35:20.723Z"
   },
   {
    "duration": 5,
    "start_time": "2021-12-14T19:35:21.424Z"
   },
   {
    "duration": 4,
    "start_time": "2021-12-14T19:35:21.901Z"
   },
   {
    "duration": 4221,
    "start_time": "2021-12-14T19:35:22.254Z"
   },
   {
    "duration": 6,
    "start_time": "2021-12-14T19:36:53.104Z"
   },
   {
    "duration": 363,
    "start_time": "2021-12-14T19:36:53.114Z"
   },
   {
    "duration": 110,
    "start_time": "2021-12-14T19:36:53.480Z"
   },
   {
    "duration": 439,
    "start_time": "2021-12-14T19:36:53.593Z"
   },
   {
    "duration": 16971,
    "start_time": "2021-12-14T19:36:54.034Z"
   },
   {
    "duration": 6,
    "start_time": "2021-12-14T19:37:11.008Z"
   },
   {
    "duration": 23,
    "start_time": "2021-12-14T19:37:11.017Z"
   },
   {
    "duration": 25,
    "start_time": "2021-12-14T19:37:11.045Z"
   },
   {
    "duration": 48,
    "start_time": "2021-12-14T19:37:11.073Z"
   },
   {
    "duration": 19,
    "start_time": "2021-12-14T19:37:11.123Z"
   },
   {
    "duration": 21,
    "start_time": "2021-12-14T19:37:11.144Z"
   },
   {
    "duration": 13,
    "start_time": "2021-12-14T19:37:11.168Z"
   },
   {
    "duration": 3463,
    "start_time": "2021-12-14T19:37:11.184Z"
   },
   {
    "duration": 1292,
    "start_time": "2021-12-14T19:37:14.650Z"
   },
   {
    "duration": 7,
    "start_time": "2021-12-14T19:37:15.945Z"
   },
   {
    "duration": 7,
    "start_time": "2021-12-14T19:37:15.968Z"
   },
   {
    "duration": 13,
    "start_time": "2021-12-14T19:37:15.978Z"
   },
   {
    "duration": 24,
    "start_time": "2021-12-14T19:37:15.993Z"
   },
   {
    "duration": 939,
    "start_time": "2021-12-14T19:37:16.019Z"
   },
   {
    "duration": 9,
    "start_time": "2021-12-14T19:37:16.960Z"
   },
   {
    "duration": 11,
    "start_time": "2021-12-14T19:37:16.972Z"
   },
   {
    "duration": 12,
    "start_time": "2021-12-14T19:37:16.985Z"
   },
   {
    "duration": 6,
    "start_time": "2021-12-14T19:37:17.002Z"
   },
   {
    "duration": 6,
    "start_time": "2021-12-14T19:37:17.012Z"
   },
   {
    "duration": 46,
    "start_time": "2021-12-14T19:37:17.021Z"
   },
   {
    "duration": 12,
    "start_time": "2021-12-14T19:37:17.070Z"
   },
   {
    "duration": 13,
    "start_time": "2021-12-14T19:37:17.084Z"
   },
   {
    "duration": 5,
    "start_time": "2021-12-14T19:37:17.100Z"
   },
   {
    "duration": 7,
    "start_time": "2021-12-14T19:37:17.108Z"
   },
   {
    "duration": 7,
    "start_time": "2021-12-14T19:37:17.117Z"
   },
   {
    "duration": 2445,
    "start_time": "2021-12-14T19:37:17.126Z"
   },
   {
    "duration": 9514,
    "start_time": "2021-12-14T19:37:19.574Z"
   },
   {
    "duration": 53761,
    "start_time": "2021-12-14T19:37:29.092Z"
   },
   {
    "duration": 434,
    "start_time": "2021-12-14T19:38:22.856Z"
   },
   {
    "duration": -11600,
    "start_time": "2021-12-14T19:38:34.894Z"
   },
   {
    "duration": -11606,
    "start_time": "2021-12-14T19:38:34.901Z"
   },
   {
    "duration": -11608,
    "start_time": "2021-12-14T19:38:34.906Z"
   },
   {
    "duration": -11619,
    "start_time": "2021-12-14T19:38:34.919Z"
   },
   {
    "duration": 5,
    "start_time": "2021-12-14T19:38:52.259Z"
   },
   {
    "duration": 5,
    "start_time": "2021-12-14T19:38:52.811Z"
   },
   {
    "duration": 4,
    "start_time": "2021-12-14T19:38:53.795Z"
   },
   {
    "duration": 2481,
    "start_time": "2021-12-14T19:38:54.192Z"
   },
   {
    "duration": 287267,
    "start_time": "2021-12-14T19:42:06.808Z"
   },
   {
    "duration": 93,
    "start_time": "2021-12-14T20:03:33.408Z"
   },
   {
    "duration": 7,
    "start_time": "2021-12-14T20:04:34.517Z"
   },
   {
    "duration": 389,
    "start_time": "2021-12-14T20:04:34.527Z"
   },
   {
    "duration": 103,
    "start_time": "2021-12-14T20:04:34.919Z"
   },
   {
    "duration": 465,
    "start_time": "2021-12-14T20:04:35.025Z"
   },
   {
    "duration": 16340,
    "start_time": "2021-12-14T20:04:35.493Z"
   },
   {
    "duration": 6,
    "start_time": "2021-12-14T20:04:51.836Z"
   },
   {
    "duration": 27,
    "start_time": "2021-12-14T20:04:51.845Z"
   },
   {
    "duration": 9,
    "start_time": "2021-12-14T20:04:51.876Z"
   },
   {
    "duration": 27,
    "start_time": "2021-12-14T20:04:51.889Z"
   },
   {
    "duration": 60,
    "start_time": "2021-12-14T20:04:51.919Z"
   },
   {
    "duration": 16,
    "start_time": "2021-12-14T20:04:51.982Z"
   },
   {
    "duration": 12,
    "start_time": "2021-12-14T20:04:52.001Z"
   },
   {
    "duration": 4568,
    "start_time": "2021-12-14T20:04:52.016Z"
   },
   {
    "duration": 2154,
    "start_time": "2021-12-14T20:04:56.588Z"
   },
   {
    "duration": 20,
    "start_time": "2021-12-14T20:04:58.746Z"
   },
   {
    "duration": 37,
    "start_time": "2021-12-14T20:04:58.770Z"
   },
   {
    "duration": 18,
    "start_time": "2021-12-14T20:04:58.810Z"
   },
   {
    "duration": 42,
    "start_time": "2021-12-14T20:04:58.831Z"
   },
   {
    "duration": 1499,
    "start_time": "2021-12-14T20:04:58.876Z"
   },
   {
    "duration": 5,
    "start_time": "2021-12-14T20:05:00.378Z"
   },
   {
    "duration": 32,
    "start_time": "2021-12-14T20:05:00.385Z"
   },
   {
    "duration": 43,
    "start_time": "2021-12-14T20:05:00.419Z"
   },
   {
    "duration": 31,
    "start_time": "2021-12-14T20:05:00.468Z"
   },
   {
    "duration": 40,
    "start_time": "2021-12-14T20:05:00.502Z"
   },
   {
    "duration": 24,
    "start_time": "2021-12-14T20:05:00.544Z"
   },
   {
    "duration": 40,
    "start_time": "2021-12-14T20:05:00.571Z"
   },
   {
    "duration": 37,
    "start_time": "2021-12-14T20:05:00.613Z"
   },
   {
    "duration": 14,
    "start_time": "2021-12-14T20:05:00.653Z"
   },
   {
    "duration": 30,
    "start_time": "2021-12-14T20:05:00.670Z"
   },
   {
    "duration": 53,
    "start_time": "2021-12-14T20:05:00.702Z"
   },
   {
    "duration": 3309,
    "start_time": "2021-12-14T20:05:00.758Z"
   },
   {
    "duration": 9302,
    "start_time": "2021-12-14T20:05:04.071Z"
   },
   {
    "duration": 56573,
    "start_time": "2021-12-14T20:05:13.376Z"
   },
   {
    "duration": 1496,
    "start_time": "2021-12-15T05:38:27.490Z"
   },
   {
    "duration": 371,
    "start_time": "2021-12-15T05:38:29.344Z"
   },
   {
    "duration": 113,
    "start_time": "2021-12-15T05:38:29.995Z"
   },
   {
    "duration": 466,
    "start_time": "2021-12-15T05:38:30.475Z"
   },
   {
    "duration": 14608,
    "start_time": "2021-12-15T05:39:31.816Z"
   },
   {
    "duration": 9,
    "start_time": "2021-12-15T05:39:46.427Z"
   },
   {
    "duration": 6,
    "start_time": "2021-12-15T05:40:02.129Z"
   },
   {
    "duration": 9,
    "start_time": "2021-12-15T05:40:02.766Z"
   },
   {
    "duration": 13,
    "start_time": "2021-12-15T05:40:04.044Z"
   },
   {
    "duration": 27,
    "start_time": "2021-12-15T05:41:21.168Z"
   },
   {
    "duration": 12,
    "start_time": "2021-12-15T05:41:22.583Z"
   },
   {
    "duration": 8,
    "start_time": "2021-12-15T05:42:29.733Z"
   },
   {
    "duration": 3147,
    "start_time": "2021-12-15T05:42:31.391Z"
   },
   {
    "duration": 1162,
    "start_time": "2021-12-15T05:43:05.705Z"
   },
   {
    "duration": 7,
    "start_time": "2021-12-15T05:43:37.711Z"
   },
   {
    "duration": 7,
    "start_time": "2021-12-15T05:43:38.384Z"
   },
   {
    "duration": 6,
    "start_time": "2021-12-15T05:43:39.104Z"
   },
   {
    "duration": 20,
    "start_time": "2021-12-15T05:43:39.639Z"
   },
   {
    "duration": 855,
    "start_time": "2021-12-15T05:43:40.238Z"
   },
   {
    "duration": 4,
    "start_time": "2021-12-15T05:48:47.996Z"
   },
   {
    "duration": 9,
    "start_time": "2021-12-15T05:52:33.614Z"
   },
   {
    "duration": 15,
    "start_time": "2021-12-15T05:53:58.136Z"
   },
   {
    "duration": 40,
    "start_time": "2021-12-15T05:54:37.522Z"
   },
   {
    "duration": 7,
    "start_time": "2021-12-15T05:55:24.074Z"
   },
   {
    "duration": 7,
    "start_time": "2021-12-15T05:55:34.847Z"
   },
   {
    "duration": 5,
    "start_time": "2021-12-15T05:55:36.998Z"
   },
   {
    "duration": 7,
    "start_time": "2021-12-15T05:55:57.082Z"
   },
   {
    "duration": 7,
    "start_time": "2021-12-15T05:56:11.094Z"
   },
   {
    "duration": 35,
    "start_time": "2021-12-15T05:59:38.917Z"
   },
   {
    "duration": 8,
    "start_time": "2021-12-15T06:00:29.157Z"
   },
   {
    "duration": 14,
    "start_time": "2021-12-15T06:00:33.981Z"
   },
   {
    "duration": 5,
    "start_time": "2021-12-15T06:00:45.840Z"
   },
   {
    "duration": 6,
    "start_time": "2021-12-15T06:00:51.198Z"
   },
   {
    "duration": 3,
    "start_time": "2021-12-15T06:00:51.637Z"
   },
   {
    "duration": 2969,
    "start_time": "2021-12-15T06:00:51.890Z"
   },
   {
    "duration": 8752,
    "start_time": "2021-12-15T06:02:25.353Z"
   },
   {
    "duration": 50652,
    "start_time": "2021-12-15T06:02:34.108Z"
   },
   {
    "duration": 1524,
    "start_time": "2021-12-15T16:34:36.486Z"
   },
   {
    "duration": 355,
    "start_time": "2021-12-15T16:34:38.013Z"
   },
   {
    "duration": 108,
    "start_time": "2021-12-15T16:34:38.371Z"
   },
   {
    "duration": 450,
    "start_time": "2021-12-15T16:34:38.482Z"
   },
   {
    "duration": 15239,
    "start_time": "2021-12-15T16:34:38.934Z"
   },
   {
    "duration": 9,
    "start_time": "2021-12-15T16:34:54.175Z"
   },
   {
    "duration": 12,
    "start_time": "2021-12-15T16:34:54.186Z"
   },
   {
    "duration": 25,
    "start_time": "2021-12-15T16:34:54.202Z"
   },
   {
    "duration": 40,
    "start_time": "2021-12-15T16:34:54.229Z"
   },
   {
    "duration": 37,
    "start_time": "2021-12-15T16:34:54.272Z"
   },
   {
    "duration": 11,
    "start_time": "2021-12-15T16:34:54.311Z"
   },
   {
    "duration": 12,
    "start_time": "2021-12-15T16:34:54.325Z"
   },
   {
    "duration": 3136,
    "start_time": "2021-12-15T16:34:54.339Z"
   },
   {
    "duration": 1236,
    "start_time": "2021-12-15T16:34:57.478Z"
   },
   {
    "duration": 8,
    "start_time": "2021-12-15T16:34:58.716Z"
   },
   {
    "duration": 11,
    "start_time": "2021-12-15T16:34:58.726Z"
   },
   {
    "duration": 7,
    "start_time": "2021-12-15T16:34:58.739Z"
   },
   {
    "duration": 20,
    "start_time": "2021-12-15T16:34:58.748Z"
   },
   {
    "duration": 886,
    "start_time": "2021-12-15T16:34:58.771Z"
   },
   {
    "duration": 5,
    "start_time": "2021-12-15T16:34:59.661Z"
   },
   {
    "duration": 11,
    "start_time": "2021-12-15T16:34:59.669Z"
   },
   {
    "duration": 46,
    "start_time": "2021-12-15T16:34:59.683Z"
   },
   {
    "duration": 7,
    "start_time": "2021-12-15T16:34:59.733Z"
   },
   {
    "duration": 12,
    "start_time": "2021-12-15T16:34:59.742Z"
   },
   {
    "duration": 9,
    "start_time": "2021-12-15T16:34:59.756Z"
   },
   {
    "duration": 9,
    "start_time": "2021-12-15T16:34:59.767Z"
   },
   {
    "duration": 11,
    "start_time": "2021-12-15T16:34:59.778Z"
   },
   {
    "duration": 32,
    "start_time": "2021-12-15T16:34:59.791Z"
   },
   {
    "duration": 4,
    "start_time": "2021-12-15T16:34:59.826Z"
   },
   {
    "duration": 7,
    "start_time": "2021-12-15T16:34:59.832Z"
   },
   {
    "duration": 2286,
    "start_time": "2021-12-15T16:34:59.841Z"
   },
   {
    "duration": 8651,
    "start_time": "2021-12-15T16:35:02.130Z"
   },
   {
    "duration": 54499,
    "start_time": "2021-12-15T16:35:10.783Z"
   },
   {
    "duration": 424,
    "start_time": "2021-12-15T16:36:05.284Z"
   },
   {
    "duration": 327,
    "start_time": "2021-12-15T16:36:18.169Z"
   },
   {
    "duration": 96,
    "start_time": "2021-12-15T16:36:40.141Z"
   },
   {
    "duration": 337,
    "start_time": "2021-12-15T16:38:35.253Z"
   },
   {
    "duration": 5,
    "start_time": "2021-12-15T16:39:05.475Z"
   },
   {
    "duration": 392,
    "start_time": "2021-12-15T16:39:05.483Z"
   },
   {
    "duration": 115,
    "start_time": "2021-12-15T16:39:05.878Z"
   },
   {
    "duration": 481,
    "start_time": "2021-12-15T16:39:05.996Z"
   },
   {
    "duration": 17349,
    "start_time": "2021-12-15T16:39:06.480Z"
   },
   {
    "duration": 9,
    "start_time": "2021-12-15T16:39:23.832Z"
   },
   {
    "duration": 12,
    "start_time": "2021-12-15T16:39:23.843Z"
   },
   {
    "duration": 11,
    "start_time": "2021-12-15T16:39:23.861Z"
   },
   {
    "duration": 17,
    "start_time": "2021-12-15T16:39:23.875Z"
   },
   {
    "duration": 22,
    "start_time": "2021-12-15T16:39:23.930Z"
   },
   {
    "duration": 15,
    "start_time": "2021-12-15T16:39:23.955Z"
   },
   {
    "duration": 12,
    "start_time": "2021-12-15T16:39:23.974Z"
   },
   {
    "duration": 3856,
    "start_time": "2021-12-15T16:39:23.988Z"
   },
   {
    "duration": 1417,
    "start_time": "2021-12-15T16:39:27.847Z"
   },
   {
    "duration": 8,
    "start_time": "2021-12-15T16:39:29.266Z"
   },
   {
    "duration": 14,
    "start_time": "2021-12-15T16:39:29.277Z"
   },
   {
    "duration": 30,
    "start_time": "2021-12-15T16:39:29.294Z"
   },
   {
    "duration": 23,
    "start_time": "2021-12-15T16:39:29.328Z"
   },
   {
    "duration": 1110,
    "start_time": "2021-12-15T16:39:29.354Z"
   },
   {
    "duration": 470,
    "start_time": "2021-12-15T16:39:30.467Z"
   },
   {
    "duration": -11254,
    "start_time": "2021-12-15T16:39:42.195Z"
   },
   {
    "duration": -11256,
    "start_time": "2021-12-15T16:39:42.199Z"
   },
   {
    "duration": -11257,
    "start_time": "2021-12-15T16:39:42.202Z"
   },
   {
    "duration": -11258,
    "start_time": "2021-12-15T16:39:42.205Z"
   },
   {
    "duration": -11258,
    "start_time": "2021-12-15T16:39:42.207Z"
   },
   {
    "duration": -11264,
    "start_time": "2021-12-15T16:39:42.216Z"
   },
   {
    "duration": -11265,
    "start_time": "2021-12-15T16:39:42.219Z"
   },
   {
    "duration": -11266,
    "start_time": "2021-12-15T16:39:42.222Z"
   },
   {
    "duration": -11268,
    "start_time": "2021-12-15T16:39:42.226Z"
   },
   {
    "duration": -11273,
    "start_time": "2021-12-15T16:39:42.233Z"
   },
   {
    "duration": -11273,
    "start_time": "2021-12-15T16:39:42.237Z"
   },
   {
    "duration": -11276,
    "start_time": "2021-12-15T16:39:42.241Z"
   },
   {
    "duration": -11307,
    "start_time": "2021-12-15T16:39:42.273Z"
   },
   {
    "duration": -11317,
    "start_time": "2021-12-15T16:39:42.284Z"
   },
   {
    "duration": 85,
    "start_time": "2021-12-15T16:45:37.555Z"
   },
   {
    "duration": 105,
    "start_time": "2021-12-15T16:46:15.420Z"
   },
   {
    "duration": 43,
    "start_time": "2021-12-15T16:46:52.357Z"
   },
   {
    "duration": 44,
    "start_time": "2021-12-15T16:52:45.675Z"
   },
   {
    "duration": 30,
    "start_time": "2021-12-15T16:53:16.614Z"
   },
   {
    "duration": 73,
    "start_time": "2021-12-15T16:54:02.361Z"
   },
   {
    "duration": 23,
    "start_time": "2021-12-15T17:19:21.042Z"
   },
   {
    "duration": 306,
    "start_time": "2021-12-15T17:19:35.441Z"
   },
   {
    "duration": 7,
    "start_time": "2021-12-15T17:19:38.699Z"
   },
   {
    "duration": 14,
    "start_time": "2021-12-15T17:22:24.217Z"
   },
   {
    "duration": 7,
    "start_time": "2021-12-15T17:23:35.407Z"
   },
   {
    "duration": 10,
    "start_time": "2021-12-15T17:24:04.068Z"
   },
   {
    "duration": 99,
    "start_time": "2021-12-15T17:26:36.259Z"
   },
   {
    "duration": 9,
    "start_time": "2021-12-15T17:27:25.263Z"
   },
   {
    "duration": 9,
    "start_time": "2021-12-15T17:28:20.657Z"
   },
   {
    "duration": 10,
    "start_time": "2021-12-15T17:28:52.957Z"
   },
   {
    "duration": 10,
    "start_time": "2021-12-15T17:29:04.248Z"
   },
   {
    "duration": 8,
    "start_time": "2021-12-15T17:30:39.456Z"
   },
   {
    "duration": 7,
    "start_time": "2021-12-15T17:30:50.415Z"
   },
   {
    "duration": 431,
    "start_time": "2021-12-15T17:44:44.990Z"
   },
   {
    "duration": 400,
    "start_time": "2021-12-15T17:44:53.074Z"
   },
   {
    "duration": 10215,
    "start_time": "2021-12-15T17:46:26.253Z"
   },
   {
    "duration": 288,
    "start_time": "2021-12-15T17:47:20.149Z"
   },
   {
    "duration": 8640,
    "start_time": "2021-12-15T17:47:25.249Z"
   },
   {
    "duration": -11302,
    "start_time": "2021-12-15T17:47:45.194Z"
   },
   {
    "duration": 1065,
    "start_time": "2021-12-15T17:47:38.252Z"
   },
   {
    "duration": 15,
    "start_time": "2021-12-15T17:47:57.537Z"
   },
   {
    "duration": 16,
    "start_time": "2021-12-15T17:48:11.153Z"
   },
   {
    "duration": 12,
    "start_time": "2021-12-15T17:48:22.597Z"
   },
   {
    "duration": 331,
    "start_time": "2021-12-15T17:54:58.162Z"
   },
   {
    "duration": 302,
    "start_time": "2021-12-15T17:55:26.053Z"
   },
   {
    "duration": 9,
    "start_time": "2021-12-15T17:57:16.770Z"
   },
   {
    "duration": 24,
    "start_time": "2021-12-15T17:58:10.609Z"
   },
   {
    "duration": 9,
    "start_time": "2021-12-15T17:59:29.054Z"
   },
   {
    "duration": 13,
    "start_time": "2021-12-15T18:01:09.569Z"
   },
   {
    "duration": 19,
    "start_time": "2021-12-15T18:01:27.945Z"
   },
   {
    "duration": 43,
    "start_time": "2021-12-15T18:02:44.853Z"
   },
   {
    "duration": 26,
    "start_time": "2021-12-15T18:07:18.615Z"
   },
   {
    "duration": 51,
    "start_time": "2021-12-15T18:07:24.850Z"
   },
   {
    "duration": 20,
    "start_time": "2021-12-15T18:13:07.515Z"
   },
   {
    "duration": 54,
    "start_time": "2021-12-15T18:13:26.620Z"
   },
   {
    "duration": 43,
    "start_time": "2021-12-15T18:43:51.335Z"
   },
   {
    "duration": 7,
    "start_time": "2021-12-15T18:44:48.106Z"
   },
   {
    "duration": 296,
    "start_time": "2021-12-15T18:45:35.266Z"
   },
   {
    "duration": 322,
    "start_time": "2021-12-15T18:47:14.548Z"
   },
   {
    "duration": 9,
    "start_time": "2021-12-15T18:49:36.771Z"
   },
   {
    "duration": 18,
    "start_time": "2021-12-15T18:50:21.617Z"
   },
   {
    "duration": 55,
    "start_time": "2021-12-15T18:53:57.275Z"
   },
   {
    "duration": 34,
    "start_time": "2021-12-15T18:54:06.375Z"
   },
   {
    "duration": 42,
    "start_time": "2021-12-15T18:54:28.845Z"
   },
   {
    "duration": 38,
    "start_time": "2021-12-15T19:05:22.855Z"
   },
   {
    "duration": 31,
    "start_time": "2021-12-15T19:05:48.001Z"
   },
   {
    "duration": 6,
    "start_time": "2021-12-15T19:09:46.544Z"
   },
   {
    "duration": 418,
    "start_time": "2021-12-15T19:09:46.554Z"
   },
   {
    "duration": 116,
    "start_time": "2021-12-15T19:09:46.976Z"
   },
   {
    "duration": 508,
    "start_time": "2021-12-15T19:09:47.095Z"
   },
   {
    "duration": 16862,
    "start_time": "2021-12-15T19:09:47.606Z"
   },
   {
    "duration": 7,
    "start_time": "2021-12-15T19:10:04.471Z"
   },
   {
    "duration": 32,
    "start_time": "2021-12-15T19:10:04.481Z"
   },
   {
    "duration": 25,
    "start_time": "2021-12-15T19:10:04.516Z"
   },
   {
    "duration": 49,
    "start_time": "2021-12-15T19:10:04.545Z"
   },
   {
    "duration": 36,
    "start_time": "2021-12-15T19:10:04.597Z"
   },
   {
    "duration": 16,
    "start_time": "2021-12-15T19:10:04.636Z"
   },
   {
    "duration": 21,
    "start_time": "2021-12-15T19:10:04.655Z"
   },
   {
    "duration": 3426,
    "start_time": "2021-12-15T19:10:04.678Z"
   },
   {
    "duration": 1268,
    "start_time": "2021-12-15T19:10:08.106Z"
   },
   {
    "duration": 7,
    "start_time": "2021-12-15T19:10:09.376Z"
   },
   {
    "duration": 14,
    "start_time": "2021-12-15T19:10:09.385Z"
   },
   {
    "duration": 21,
    "start_time": "2021-12-15T19:10:09.402Z"
   },
   {
    "duration": 20,
    "start_time": "2021-12-15T19:10:09.425Z"
   },
   {
    "duration": 1094,
    "start_time": "2021-12-15T19:10:09.448Z"
   },
   {
    "duration": 7,
    "start_time": "2021-12-15T19:10:10.545Z"
   },
   {
    "duration": 10,
    "start_time": "2021-12-15T19:10:10.554Z"
   },
   {
    "duration": 10,
    "start_time": "2021-12-15T19:10:10.566Z"
   },
   {
    "duration": 45,
    "start_time": "2021-12-15T19:10:10.578Z"
   },
   {
    "duration": 19,
    "start_time": "2021-12-15T19:10:10.625Z"
   },
   {
    "duration": 47,
    "start_time": "2021-12-15T19:10:10.646Z"
   },
   {
    "duration": 30,
    "start_time": "2021-12-15T19:10:10.695Z"
   },
   {
    "duration": 10,
    "start_time": "2021-12-15T19:10:10.730Z"
   },
   {
    "duration": 14,
    "start_time": "2021-12-15T19:10:10.743Z"
   },
   {
    "duration": 33,
    "start_time": "2021-12-15T19:10:10.760Z"
   },
   {
    "duration": 60,
    "start_time": "2021-12-15T19:10:10.795Z"
   },
   {
    "duration": 8368,
    "start_time": "2021-12-15T19:10:10.857Z"
   },
   {
    "duration": -11534,
    "start_time": "2021-12-15T19:10:30.761Z"
   },
   {
    "duration": -11538,
    "start_time": "2021-12-15T19:10:30.766Z"
   },
   {
    "duration": -11541,
    "start_time": "2021-12-15T19:10:30.770Z"
   },
   {
    "duration": -11542,
    "start_time": "2021-12-15T19:10:30.773Z"
   },
   {
    "duration": -11544,
    "start_time": "2021-12-15T19:10:30.776Z"
   },
   {
    "duration": -11546,
    "start_time": "2021-12-15T19:10:30.779Z"
   },
   {
    "duration": -11552,
    "start_time": "2021-12-15T19:10:30.787Z"
   },
   {
    "duration": -11555,
    "start_time": "2021-12-15T19:10:30.791Z"
   },
   {
    "duration": -11556,
    "start_time": "2021-12-15T19:10:30.793Z"
   },
   {
    "duration": 7098,
    "start_time": "2021-12-15T19:13:53.575Z"
   },
   {
    "duration": 38,
    "start_time": "2021-12-15T19:16:19.165Z"
   },
   {
    "duration": 7,
    "start_time": "2021-12-15T19:16:27.285Z"
   },
   {
    "duration": 310,
    "start_time": "2021-12-15T19:16:33.887Z"
   },
   {
    "duration": 6,
    "start_time": "2021-12-15T19:17:03.736Z"
   },
   {
    "duration": 33,
    "start_time": "2021-12-15T19:18:26.213Z"
   },
   {
    "duration": 10,
    "start_time": "2021-12-15T19:19:12.556Z"
   },
   {
    "duration": 13,
    "start_time": "2021-12-15T19:19:19.664Z"
   },
   {
    "duration": 14,
    "start_time": "2021-12-15T19:21:05.801Z"
   },
   {
    "duration": 6,
    "start_time": "2021-12-15T19:21:06.705Z"
   },
   {
    "duration": 7,
    "start_time": "2021-12-15T19:21:07.304Z"
   },
   {
    "duration": 8,
    "start_time": "2021-12-15T19:21:18.036Z"
   },
   {
    "duration": 11,
    "start_time": "2021-12-15T19:21:18.716Z"
   },
   {
    "duration": 4,
    "start_time": "2021-12-15T19:21:30.748Z"
   },
   {
    "duration": 5,
    "start_time": "2021-12-15T19:21:31.476Z"
   },
   {
    "duration": 5,
    "start_time": "2021-12-15T19:21:32.304Z"
   },
   {
    "duration": 2075,
    "start_time": "2021-12-15T19:21:32.952Z"
   },
   {
    "duration": 4,
    "start_time": "2021-12-15T19:22:34.129Z"
   },
   {
    "duration": 4,
    "start_time": "2021-12-15T19:22:35.043Z"
   },
   {
    "duration": 2764,
    "start_time": "2021-12-15T19:22:35.564Z"
   },
   {
    "duration": 11,
    "start_time": "2021-12-15T19:34:37.375Z"
   },
   {
    "duration": 17,
    "start_time": "2021-12-15T19:34:41.105Z"
   },
   {
    "duration": 6,
    "start_time": "2021-12-15T19:34:41.891Z"
   },
   {
    "duration": 10,
    "start_time": "2021-12-15T19:34:42.594Z"
   },
   {
    "duration": 5,
    "start_time": "2021-12-15T19:34:52.421Z"
   },
   {
    "duration": 5,
    "start_time": "2021-12-15T19:34:53.300Z"
   },
   {
    "duration": 4,
    "start_time": "2021-12-15T19:34:56.582Z"
   },
   {
    "duration": 2814,
    "start_time": "2021-12-15T19:34:57.315Z"
   },
   {
    "duration": 7794,
    "start_time": "2021-12-15T19:35:05.351Z"
   },
   {
    "duration": 46567,
    "start_time": "2021-12-15T19:35:21.160Z"
   },
   {
    "duration": 6,
    "start_time": "2021-12-15T19:49:52.519Z"
   },
   {
    "duration": 71,
    "start_time": "2021-12-15T19:50:30.517Z"
   },
   {
    "duration": 2031,
    "start_time": "2021-12-15T19:55:50.761Z"
   },
   {
    "duration": 331195,
    "start_time": "2021-12-15T19:56:57.840Z"
   },
   {
    "duration": 6,
    "start_time": "2021-12-15T22:03:58.666Z"
   },
   {
    "duration": 389,
    "start_time": "2021-12-15T22:03:58.675Z"
   },
   {
    "duration": 105,
    "start_time": "2021-12-15T22:03:59.068Z"
   },
   {
    "duration": 440,
    "start_time": "2021-12-15T22:03:59.176Z"
   },
   {
    "duration": 16197,
    "start_time": "2021-12-15T22:03:59.619Z"
   },
   {
    "duration": 9,
    "start_time": "2021-12-15T22:04:15.819Z"
   },
   {
    "duration": 8,
    "start_time": "2021-12-15T22:04:15.830Z"
   },
   {
    "duration": 16,
    "start_time": "2021-12-15T22:04:15.841Z"
   },
   {
    "duration": 19,
    "start_time": "2021-12-15T22:04:15.860Z"
   },
   {
    "duration": 59,
    "start_time": "2021-12-15T22:04:15.882Z"
   },
   {
    "duration": 12,
    "start_time": "2021-12-15T22:04:15.943Z"
   },
   {
    "duration": 9,
    "start_time": "2021-12-15T22:04:15.957Z"
   },
   {
    "duration": 3481,
    "start_time": "2021-12-15T22:04:15.968Z"
   },
   {
    "duration": 1389,
    "start_time": "2021-12-15T22:04:19.451Z"
   },
   {
    "duration": 6,
    "start_time": "2021-12-15T22:04:20.843Z"
   },
   {
    "duration": 11,
    "start_time": "2021-12-15T22:04:20.851Z"
   },
   {
    "duration": 8,
    "start_time": "2021-12-15T22:04:20.864Z"
   },
   {
    "duration": 48,
    "start_time": "2021-12-15T22:04:20.875Z"
   },
   {
    "duration": 913,
    "start_time": "2021-12-15T22:04:20.927Z"
   },
   {
    "duration": 9,
    "start_time": "2021-12-15T22:04:21.844Z"
   },
   {
    "duration": 11,
    "start_time": "2021-12-15T22:04:21.856Z"
   },
   {
    "duration": 9,
    "start_time": "2021-12-15T22:04:21.869Z"
   },
   {
    "duration": 43,
    "start_time": "2021-12-15T22:04:21.880Z"
   },
   {
    "duration": 24,
    "start_time": "2021-12-15T22:04:21.928Z"
   },
   {
    "duration": 71,
    "start_time": "2021-12-15T22:04:21.955Z"
   },
   {
    "duration": 6,
    "start_time": "2021-12-15T22:04:22.028Z"
   },
   {
    "duration": 13,
    "start_time": "2021-12-15T22:04:22.041Z"
   },
   {
    "duration": 16,
    "start_time": "2021-12-15T22:04:22.056Z"
   },
   {
    "duration": 15,
    "start_time": "2021-12-15T22:04:22.075Z"
   },
   {
    "duration": 10,
    "start_time": "2021-12-15T22:04:22.124Z"
   },
   {
    "duration": 286,
    "start_time": "2021-12-15T22:04:22.138Z"
   },
   {
    "duration": -11530,
    "start_time": "2021-12-15T22:04:33.957Z"
   },
   {
    "duration": -11535,
    "start_time": "2021-12-15T22:04:33.964Z"
   },
   {
    "duration": -11539,
    "start_time": "2021-12-15T22:04:33.969Z"
   },
   {
    "duration": -11542,
    "start_time": "2021-12-15T22:04:33.974Z"
   },
   {
    "duration": -11544,
    "start_time": "2021-12-15T22:04:33.978Z"
   },
   {
    "duration": -11547,
    "start_time": "2021-12-15T22:04:33.982Z"
   },
   {
    "duration": -11546,
    "start_time": "2021-12-15T22:04:33.985Z"
   },
   {
    "duration": -11547,
    "start_time": "2021-12-15T22:04:33.988Z"
   },
   {
    "duration": -11550,
    "start_time": "2021-12-15T22:04:33.992Z"
   },
   {
    "duration": -11551,
    "start_time": "2021-12-15T22:04:33.995Z"
   },
   {
    "duration": -11552,
    "start_time": "2021-12-15T22:04:33.997Z"
   },
   {
    "duration": -11553,
    "start_time": "2021-12-15T22:04:34.000Z"
   },
   {
    "duration": 6,
    "start_time": "2021-12-15T22:11:27.702Z"
   },
   {
    "duration": 16,
    "start_time": "2021-12-15T22:11:59.206Z"
   },
   {
    "duration": 8,
    "start_time": "2021-12-15T22:12:09.505Z"
   },
   {
    "duration": 7,
    "start_time": "2021-12-15T22:12:12.619Z"
   },
   {
    "duration": 14,
    "start_time": "2021-12-15T22:12:18.166Z"
   },
   {
    "duration": 19,
    "start_time": "2021-12-15T22:12:18.908Z"
   },
   {
    "duration": 9,
    "start_time": "2021-12-15T22:12:24.123Z"
   },
   {
    "duration": 13,
    "start_time": "2021-12-15T22:12:24.713Z"
   },
   {
    "duration": 4,
    "start_time": "2021-12-15T22:12:25.916Z"
   },
   {
    "duration": 5,
    "start_time": "2021-12-15T22:12:27.579Z"
   },
   {
    "duration": 5,
    "start_time": "2021-12-15T22:12:30.204Z"
   },
   {
    "duration": 3602,
    "start_time": "2021-12-15T22:12:30.843Z"
   },
   {
    "duration": 7892,
    "start_time": "2021-12-15T22:12:34.449Z"
   },
   {
    "duration": 45644,
    "start_time": "2021-12-15T22:12:58.133Z"
   },
   {
    "duration": 78,
    "start_time": "2021-12-15T22:13:43.780Z"
   },
   {
    "duration": -11633,
    "start_time": "2021-12-15T22:19:25.812Z"
   },
   {
    "duration": -11610,
    "start_time": "2021-12-15T22:25:04.525Z"
   },
   {
    "duration": 6,
    "start_time": "2021-12-15T22:24:56.502Z"
   },
   {
    "duration": 391,
    "start_time": "2021-12-15T22:24:56.511Z"
   },
   {
    "duration": 96,
    "start_time": "2021-12-15T22:24:56.905Z"
   },
   {
    "duration": 462,
    "start_time": "2021-12-15T22:24:57.004Z"
   },
   {
    "duration": 14870,
    "start_time": "2021-12-15T22:24:57.468Z"
   },
   {
    "duration": 7,
    "start_time": "2021-12-15T22:25:12.340Z"
   },
   {
    "duration": 16,
    "start_time": "2021-12-15T22:25:12.351Z"
   },
   {
    "duration": 10,
    "start_time": "2021-12-15T22:25:12.370Z"
   },
   {
    "duration": 31,
    "start_time": "2021-12-15T22:25:12.383Z"
   },
   {
    "duration": 24,
    "start_time": "2021-12-15T22:25:12.423Z"
   },
   {
    "duration": 10,
    "start_time": "2021-12-15T22:25:12.450Z"
   },
   {
    "duration": 17,
    "start_time": "2021-12-15T22:25:12.462Z"
   },
   {
    "duration": 3057,
    "start_time": "2021-12-15T22:25:12.481Z"
   },
   {
    "duration": 1309,
    "start_time": "2021-12-15T22:25:15.540Z"
   },
   {
    "duration": 8,
    "start_time": "2021-12-15T22:25:16.852Z"
   },
   {
    "duration": 8,
    "start_time": "2021-12-15T22:25:16.862Z"
   },
   {
    "duration": 6,
    "start_time": "2021-12-15T22:25:16.873Z"
   },
   {
    "duration": 51,
    "start_time": "2021-12-15T22:25:16.882Z"
   },
   {
    "duration": 823,
    "start_time": "2021-12-15T22:25:16.939Z"
   },
   {
    "duration": 7,
    "start_time": "2021-12-15T22:25:17.766Z"
   },
   {
    "duration": 32,
    "start_time": "2021-12-15T22:25:17.776Z"
   },
   {
    "duration": 14,
    "start_time": "2021-12-15T22:25:17.811Z"
   },
   {
    "duration": 25,
    "start_time": "2021-12-15T22:25:17.827Z"
   },
   {
    "duration": 22,
    "start_time": "2021-12-15T22:25:17.855Z"
   },
   {
    "duration": 52,
    "start_time": "2021-12-15T22:25:17.879Z"
   },
   {
    "duration": 5,
    "start_time": "2021-12-15T22:25:17.933Z"
   },
   {
    "duration": 13,
    "start_time": "2021-12-15T22:25:17.940Z"
   },
   {
    "duration": 24,
    "start_time": "2021-12-15T22:25:17.955Z"
   },
   {
    "duration": 35,
    "start_time": "2021-12-15T22:25:17.982Z"
   },
   {
    "duration": 6,
    "start_time": "2021-12-15T22:25:18.019Z"
   },
   {
    "duration": 17,
    "start_time": "2021-12-15T22:25:18.028Z"
   },
   {
    "duration": 27,
    "start_time": "2021-12-15T22:25:18.047Z"
   },
   {
    "duration": 27,
    "start_time": "2021-12-15T22:25:18.076Z"
   },
   {
    "duration": 17,
    "start_time": "2021-12-15T22:25:18.105Z"
   },
   {
    "duration": 12,
    "start_time": "2021-12-15T22:25:18.124Z"
   },
   {
    "duration": 5,
    "start_time": "2021-12-15T22:25:18.138Z"
   },
   {
    "duration": 12,
    "start_time": "2021-12-15T22:25:18.145Z"
   },
   {
    "duration": 10,
    "start_time": "2021-12-15T22:25:18.159Z"
   },
   {
    "duration": 2254,
    "start_time": "2021-12-15T22:25:18.171Z"
   },
   {
    "duration": 7496,
    "start_time": "2021-12-15T22:25:20.427Z"
   },
   {
    "duration": 42198,
    "start_time": "2021-12-15T22:25:27.925Z"
   },
   {
    "duration": 265,
    "start_time": "2021-12-15T22:26:10.126Z"
   },
   {
    "duration": -11538,
    "start_time": "2021-12-15T22:26:21.932Z"
   },
   {
    "duration": 41924,
    "start_time": "2021-12-15T22:26:26.748Z"
   },
   {
    "duration": 59,
    "start_time": "2021-12-15T22:27:15.059Z"
   },
   {
    "duration": 258904,
    "start_time": "2021-12-15T22:27:17.808Z"
   },
   {
    "duration": 6,
    "start_time": "2021-12-15T22:31:46.022Z"
   },
   {
    "duration": 403,
    "start_time": "2021-12-15T22:31:46.031Z"
   },
   {
    "duration": 99,
    "start_time": "2021-12-15T22:31:46.437Z"
   },
   {
    "duration": 532,
    "start_time": "2021-12-15T22:31:46.539Z"
   },
   {
    "duration": 15293,
    "start_time": "2021-12-15T22:31:47.075Z"
   },
   {
    "duration": 8,
    "start_time": "2021-12-15T22:32:02.370Z"
   },
   {
    "duration": 9,
    "start_time": "2021-12-15T22:32:02.380Z"
   },
   {
    "duration": 32,
    "start_time": "2021-12-15T22:32:02.392Z"
   },
   {
    "duration": 21,
    "start_time": "2021-12-15T22:32:02.428Z"
   },
   {
    "duration": 17,
    "start_time": "2021-12-15T22:32:02.452Z"
   },
   {
    "duration": 11,
    "start_time": "2021-12-15T22:32:02.471Z"
   },
   {
    "duration": 39,
    "start_time": "2021-12-15T22:32:02.484Z"
   },
   {
    "duration": 3236,
    "start_time": "2021-12-15T22:32:02.526Z"
   },
   {
    "duration": 1207,
    "start_time": "2021-12-15T22:32:05.764Z"
   },
   {
    "duration": 6,
    "start_time": "2021-12-15T22:32:06.974Z"
   },
   {
    "duration": 11,
    "start_time": "2021-12-15T22:32:06.982Z"
   },
   {
    "duration": 9,
    "start_time": "2021-12-15T22:32:06.995Z"
   },
   {
    "duration": 11,
    "start_time": "2021-12-15T22:32:07.024Z"
   },
   {
    "duration": 866,
    "start_time": "2021-12-15T22:32:07.037Z"
   },
   {
    "duration": 18,
    "start_time": "2021-12-15T22:32:07.905Z"
   },
   {
    "duration": 7,
    "start_time": "2021-12-15T22:32:07.925Z"
   },
   {
    "duration": 9,
    "start_time": "2021-12-15T22:32:07.934Z"
   },
   {
    "duration": 11,
    "start_time": "2021-12-15T22:32:07.945Z"
   },
   {
    "duration": 65,
    "start_time": "2021-12-15T22:32:07.959Z"
   },
   {
    "duration": 46,
    "start_time": "2021-12-15T22:32:08.028Z"
   },
   {
    "duration": 6,
    "start_time": "2021-12-15T22:32:08.077Z"
   },
   {
    "duration": 39,
    "start_time": "2021-12-15T22:32:08.090Z"
   },
   {
    "duration": 12,
    "start_time": "2021-12-15T22:32:08.133Z"
   },
   {
    "duration": 18,
    "start_time": "2021-12-15T22:32:08.147Z"
   },
   {
    "duration": 8,
    "start_time": "2021-12-15T22:32:08.168Z"
   },
   {
    "duration": 45,
    "start_time": "2021-12-15T22:32:08.179Z"
   },
   {
    "duration": 14,
    "start_time": "2021-12-15T22:32:08.226Z"
   },
   {
    "duration": 17,
    "start_time": "2021-12-15T22:32:08.243Z"
   },
   {
    "duration": 8,
    "start_time": "2021-12-15T22:32:08.262Z"
   },
   {
    "duration": 9,
    "start_time": "2021-12-15T22:32:08.273Z"
   },
   {
    "duration": 39,
    "start_time": "2021-12-15T22:32:08.284Z"
   },
   {
    "duration": 4,
    "start_time": "2021-12-15T22:32:08.326Z"
   },
   {
    "duration": 6,
    "start_time": "2021-12-15T22:32:08.332Z"
   },
   {
    "duration": 2382,
    "start_time": "2021-12-15T22:32:08.341Z"
   },
   {
    "duration": 7826,
    "start_time": "2021-12-15T22:32:10.726Z"
   },
   {
    "duration": 44798,
    "start_time": "2021-12-15T22:32:18.555Z"
   },
   {
    "duration": 77,
    "start_time": "2021-12-15T22:33:03.356Z"
   },
   {
    "duration": 317678,
    "start_time": "2021-12-15T22:33:03.435Z"
   },
   {
    "duration": -11610,
    "start_time": "2021-12-15T22:38:32.726Z"
   },
   {
    "duration": -11613,
    "start_time": "2021-12-15T22:38:32.730Z"
   },
   {
    "duration": 143075,
    "start_time": "2021-12-15T22:38:46.162Z"
   },
   {
    "duration": 6,
    "start_time": "2021-12-15T22:43:20.748Z"
   },
   {
    "duration": 380,
    "start_time": "2021-12-15T22:43:20.757Z"
   },
   {
    "duration": 109,
    "start_time": "2021-12-15T22:43:21.140Z"
   },
   {
    "duration": 459,
    "start_time": "2021-12-15T22:43:21.252Z"
   },
   {
    "duration": 14765,
    "start_time": "2021-12-15T22:43:21.713Z"
   },
   {
    "duration": 7,
    "start_time": "2021-12-15T22:43:36.480Z"
   },
   {
    "duration": 27,
    "start_time": "2021-12-15T22:43:36.490Z"
   },
   {
    "duration": 25,
    "start_time": "2021-12-15T22:43:36.520Z"
   },
   {
    "duration": 36,
    "start_time": "2021-12-15T22:43:36.547Z"
   },
   {
    "duration": 25,
    "start_time": "2021-12-15T22:43:36.585Z"
   },
   {
    "duration": 13,
    "start_time": "2021-12-15T22:43:36.612Z"
   },
   {
    "duration": 14,
    "start_time": "2021-12-15T22:43:36.627Z"
   },
   {
    "duration": 3091,
    "start_time": "2021-12-15T22:43:36.644Z"
   },
   {
    "duration": 1120,
    "start_time": "2021-12-15T22:43:39.737Z"
   },
   {
    "duration": 7,
    "start_time": "2021-12-15T22:43:40.859Z"
   },
   {
    "duration": 30,
    "start_time": "2021-12-15T22:43:40.868Z"
   },
   {
    "duration": 16,
    "start_time": "2021-12-15T22:43:40.900Z"
   },
   {
    "duration": 21,
    "start_time": "2021-12-15T22:43:40.918Z"
   },
   {
    "duration": 797,
    "start_time": "2021-12-15T22:43:40.944Z"
   },
   {
    "duration": 7,
    "start_time": "2021-12-15T22:43:41.744Z"
   },
   {
    "duration": 16,
    "start_time": "2021-12-15T22:43:41.754Z"
   },
   {
    "duration": 21,
    "start_time": "2021-12-15T22:43:41.772Z"
   },
   {
    "duration": 26,
    "start_time": "2021-12-15T22:43:41.795Z"
   },
   {
    "duration": 35,
    "start_time": "2021-12-15T22:43:41.823Z"
   },
   {
    "duration": 48,
    "start_time": "2021-12-15T22:43:41.860Z"
   },
   {
    "duration": 4,
    "start_time": "2021-12-15T22:43:41.910Z"
   },
   {
    "duration": 6,
    "start_time": "2021-12-15T22:43:41.923Z"
   },
   {
    "duration": 25,
    "start_time": "2021-12-15T22:43:41.931Z"
   },
   {
    "duration": 24,
    "start_time": "2021-12-15T22:43:41.958Z"
   },
   {
    "duration": 8,
    "start_time": "2021-12-15T22:43:41.984Z"
   },
   {
    "duration": 18,
    "start_time": "2021-12-15T22:43:41.995Z"
   },
   {
    "duration": 30,
    "start_time": "2021-12-15T22:43:42.015Z"
   },
   {
    "duration": 26,
    "start_time": "2021-12-15T22:43:42.048Z"
   },
   {
    "duration": 13,
    "start_time": "2021-12-15T22:43:42.077Z"
   },
   {
    "duration": 12,
    "start_time": "2021-12-15T22:43:42.092Z"
   },
   {
    "duration": 12,
    "start_time": "2021-12-15T22:43:42.106Z"
   },
   {
    "duration": 18,
    "start_time": "2021-12-15T22:43:42.121Z"
   },
   {
    "duration": 11,
    "start_time": "2021-12-15T22:43:42.141Z"
   },
   {
    "duration": 2272,
    "start_time": "2021-12-15T22:43:42.154Z"
   },
   {
    "duration": 7208,
    "start_time": "2021-12-15T22:43:44.430Z"
   },
   {
    "duration": 43322,
    "start_time": "2021-12-15T22:43:51.640Z"
   },
   {
    "duration": 75,
    "start_time": "2021-12-15T22:44:34.964Z"
   },
   {
    "duration": 458589,
    "start_time": "2021-12-15T22:44:35.041Z"
   },
   {
    "duration": 6,
    "start_time": "2021-12-15T22:52:13.632Z"
   },
   {
    "duration": 12354,
    "start_time": "2021-12-15T22:52:13.640Z"
   },
   {
    "duration": 1156,
    "start_time": "2021-12-16T07:54:55.353Z"
   },
   {
    "duration": 263,
    "start_time": "2021-12-16T07:54:57.476Z"
   },
   {
    "duration": 79,
    "start_time": "2021-12-16T07:54:57.741Z"
   },
   {
    "duration": 339,
    "start_time": "2021-12-16T07:54:57.822Z"
   },
   {
    "duration": 7581,
    "start_time": "2021-12-16T07:54:58.351Z"
   },
   {
    "duration": 6,
    "start_time": "2021-12-16T07:55:05.934Z"
   },
   {
    "duration": 21,
    "start_time": "2021-12-16T07:55:05.942Z"
   },
   {
    "duration": 17,
    "start_time": "2021-12-16T07:55:05.965Z"
   },
   {
    "duration": 30,
    "start_time": "2021-12-16T07:55:05.984Z"
   },
   {
    "duration": 27,
    "start_time": "2021-12-16T07:55:06.015Z"
   },
   {
    "duration": 7,
    "start_time": "2021-12-16T07:55:06.044Z"
   },
   {
    "duration": 13,
    "start_time": "2021-12-16T07:55:06.054Z"
   },
   {
    "duration": 1787,
    "start_time": "2021-12-16T07:55:06.069Z"
   },
   {
    "duration": 672,
    "start_time": "2021-12-16T07:55:07.858Z"
   },
   {
    "duration": 4,
    "start_time": "2021-12-16T07:55:08.532Z"
   },
   {
    "duration": 8,
    "start_time": "2021-12-16T07:55:08.537Z"
   },
   {
    "duration": 5,
    "start_time": "2021-12-16T07:55:08.547Z"
   },
   {
    "duration": 16,
    "start_time": "2021-12-16T07:55:08.554Z"
   },
   {
    "duration": 487,
    "start_time": "2021-12-16T07:55:08.571Z"
   },
   {
    "duration": 5,
    "start_time": "2021-12-16T07:55:09.060Z"
   },
   {
    "duration": 7,
    "start_time": "2021-12-16T07:55:09.067Z"
   },
   {
    "duration": 16,
    "start_time": "2021-12-16T07:55:09.075Z"
   },
   {
    "duration": 8,
    "start_time": "2021-12-16T07:55:09.092Z"
   },
   {
    "duration": 20,
    "start_time": "2021-12-16T07:55:09.348Z"
   },
   {
    "duration": 30,
    "start_time": "2021-12-16T07:55:10.224Z"
   },
   {
    "duration": 4,
    "start_time": "2021-12-16T07:55:12.985Z"
   },
   {
    "duration": 4,
    "start_time": "2021-12-16T07:55:13.664Z"
   },
   {
    "duration": 9,
    "start_time": "2021-12-16T07:55:15.753Z"
   },
   {
    "duration": 15,
    "start_time": "2021-12-16T07:55:16.898Z"
   },
   {
    "duration": 6,
    "start_time": "2021-12-16T07:55:17.079Z"
   },
   {
    "duration": 4,
    "start_time": "2021-12-16T07:55:17.572Z"
   },
   {
    "duration": 9,
    "start_time": "2021-12-16T07:55:19.142Z"
   },
   {
    "duration": 15,
    "start_time": "2021-12-16T07:55:19.317Z"
   },
   {
    "duration": 7,
    "start_time": "2021-12-16T07:55:19.479Z"
   },
   {
    "duration": 11,
    "start_time": "2021-12-16T07:55:19.650Z"
   },
   {
    "duration": 3,
    "start_time": "2021-12-16T07:55:20.428Z"
   },
   {
    "duration": 4,
    "start_time": "2021-12-16T07:55:21.278Z"
   },
   {
    "duration": 3,
    "start_time": "2021-12-16T07:55:24.698Z"
   },
   {
    "duration": 3151,
    "start_time": "2021-12-16T07:55:25.751Z"
   },
   {
    "duration": 65,
    "start_time": "2021-12-16T07:56:26.453Z"
   },
   {
    "duration": 1322,
    "start_time": "2022-02-20T08:33:20.243Z"
   },
   {
    "duration": 309,
    "start_time": "2022-02-20T08:33:21.567Z"
   },
   {
    "duration": 89,
    "start_time": "2022-02-20T08:33:21.879Z"
   },
   {
    "duration": 389,
    "start_time": "2022-02-20T08:33:21.970Z"
   },
   {
    "duration": 8726,
    "start_time": "2022-02-20T08:33:22.361Z"
   },
   {
    "duration": 7,
    "start_time": "2022-02-20T08:33:31.089Z"
   },
   {
    "duration": 12,
    "start_time": "2022-02-20T08:33:31.098Z"
   },
   {
    "duration": 14,
    "start_time": "2022-02-20T08:33:31.113Z"
   },
   {
    "duration": 15,
    "start_time": "2022-02-20T08:33:31.129Z"
   },
   {
    "duration": 37,
    "start_time": "2022-02-20T08:33:31.146Z"
   },
   {
    "duration": 9,
    "start_time": "2022-02-20T08:33:31.185Z"
   },
   {
    "duration": 6,
    "start_time": "2022-02-20T08:33:31.195Z"
   },
   {
    "duration": 2466,
    "start_time": "2022-02-20T08:33:31.203Z"
   },
   {
    "duration": 928,
    "start_time": "2022-02-20T08:33:33.671Z"
   },
   {
    "duration": 6,
    "start_time": "2022-02-20T08:33:34.601Z"
   },
   {
    "duration": 14,
    "start_time": "2022-02-20T08:33:34.609Z"
   },
   {
    "duration": 7,
    "start_time": "2022-02-20T08:33:34.625Z"
   },
   {
    "duration": 35,
    "start_time": "2022-02-20T08:33:34.634Z"
   },
   {
    "duration": 701,
    "start_time": "2022-02-20T08:33:34.671Z"
   },
   {
    "duration": 5,
    "start_time": "2022-02-20T08:33:35.374Z"
   },
   {
    "duration": 9,
    "start_time": "2022-02-20T08:33:35.381Z"
   },
   {
    "duration": 5,
    "start_time": "2022-02-20T08:33:35.392Z"
   },
   {
    "duration": 15,
    "start_time": "2022-02-20T08:33:35.401Z"
   },
   {
    "duration": 29,
    "start_time": "2022-02-20T08:33:35.418Z"
   },
   {
    "duration": 40,
    "start_time": "2022-02-20T08:33:35.449Z"
   },
   {
    "duration": 3,
    "start_time": "2022-02-20T08:33:35.491Z"
   },
   {
    "duration": 8,
    "start_time": "2022-02-20T08:33:35.496Z"
   },
   {
    "duration": 13,
    "start_time": "2022-02-20T08:33:35.506Z"
   },
   {
    "duration": 19,
    "start_time": "2022-02-20T08:33:35.521Z"
   },
   {
    "duration": 5,
    "start_time": "2022-02-20T08:33:35.542Z"
   },
   {
    "duration": 8,
    "start_time": "2022-02-20T08:33:35.549Z"
   },
   {
    "duration": 15,
    "start_time": "2022-02-20T08:33:35.559Z"
   },
   {
    "duration": 18,
    "start_time": "2022-02-20T08:33:35.576Z"
   },
   {
    "duration": 7,
    "start_time": "2022-02-20T08:33:35.595Z"
   },
   {
    "duration": 12,
    "start_time": "2022-02-20T08:33:35.604Z"
   },
   {
    "duration": 20,
    "start_time": "2022-02-20T08:33:35.617Z"
   },
   {
    "duration": 7,
    "start_time": "2022-02-20T08:33:35.639Z"
   },
   {
    "duration": 11,
    "start_time": "2022-02-20T08:33:35.647Z"
   },
   {
    "duration": 2110,
    "start_time": "2022-02-20T08:33:35.659Z"
   },
   {
    "duration": 6949,
    "start_time": "2022-02-20T08:33:37.771Z"
   },
   {
    "duration": 38715,
    "start_time": "2022-02-20T08:33:44.722Z"
   },
   {
    "duration": 65,
    "start_time": "2022-02-20T08:34:23.439Z"
   },
   {
    "duration": -751,
    "start_time": "2022-02-20T08:40:39.396Z"
   },
   {
    "duration": -763,
    "start_time": "2022-02-20T08:40:39.409Z"
   },
   {
    "duration": -769,
    "start_time": "2022-02-20T08:40:39.416Z"
   },
   {
    "duration": -707,
    "start_time": "2022-02-20T08:43:01.393Z"
   },
   {
    "duration": -714,
    "start_time": "2022-02-20T08:43:01.401Z"
   },
   {
    "duration": -718,
    "start_time": "2022-02-20T08:43:01.406Z"
   },
   {
    "duration": -720,
    "start_time": "2022-02-20T08:43:01.409Z"
   },
   {
    "duration": -727,
    "start_time": "2022-02-20T08:43:01.417Z"
   },
   {
    "duration": -730,
    "start_time": "2022-02-20T08:43:01.421Z"
   },
   {
    "duration": -733,
    "start_time": "2022-02-20T08:43:01.425Z"
   },
   {
    "duration": -735,
    "start_time": "2022-02-20T08:43:01.428Z"
   },
   {
    "duration": -738,
    "start_time": "2022-02-20T08:43:01.432Z"
   },
   {
    "duration": -740,
    "start_time": "2022-02-20T08:43:01.435Z"
   },
   {
    "duration": -742,
    "start_time": "2022-02-20T08:43:01.438Z"
   },
   {
    "duration": -744,
    "start_time": "2022-02-20T08:43:01.441Z"
   },
   {
    "duration": -746,
    "start_time": "2022-02-20T08:43:01.444Z"
   },
   {
    "duration": -748,
    "start_time": "2022-02-20T08:43:01.447Z"
   },
   {
    "duration": -750,
    "start_time": "2022-02-20T08:43:01.450Z"
   },
   {
    "duration": -751,
    "start_time": "2022-02-20T08:43:01.452Z"
   },
   {
    "duration": -753,
    "start_time": "2022-02-20T08:43:01.455Z"
   },
   {
    "duration": -754,
    "start_time": "2022-02-20T08:43:01.457Z"
   },
   {
    "duration": -756,
    "start_time": "2022-02-20T08:43:01.460Z"
   },
   {
    "duration": -757,
    "start_time": "2022-02-20T08:43:01.462Z"
   },
   {
    "duration": -759,
    "start_time": "2022-02-20T08:43:01.465Z"
   },
   {
    "duration": -760,
    "start_time": "2022-02-20T08:43:01.467Z"
   },
   {
    "duration": -762,
    "start_time": "2022-02-20T08:43:01.470Z"
   },
   {
    "duration": -763,
    "start_time": "2022-02-20T08:43:01.472Z"
   },
   {
    "duration": -764,
    "start_time": "2022-02-20T08:43:01.474Z"
   },
   {
    "duration": -765,
    "start_time": "2022-02-20T08:43:01.476Z"
   },
   {
    "duration": -766,
    "start_time": "2022-02-20T08:43:01.478Z"
   },
   {
    "duration": -767,
    "start_time": "2022-02-20T08:43:01.480Z"
   },
   {
    "duration": -769,
    "start_time": "2022-02-20T08:43:01.483Z"
   },
   {
    "duration": -771,
    "start_time": "2022-02-20T08:43:01.485Z"
   },
   {
    "duration": -772,
    "start_time": "2022-02-20T08:43:01.487Z"
   },
   {
    "duration": -774,
    "start_time": "2022-02-20T08:43:01.490Z"
   },
   {
    "duration": -775,
    "start_time": "2022-02-20T08:43:01.492Z"
   },
   {
    "duration": -776,
    "start_time": "2022-02-20T08:43:01.494Z"
   },
   {
    "duration": -776,
    "start_time": "2022-02-20T08:43:01.495Z"
   },
   {
    "duration": -734,
    "start_time": "2022-02-20T08:43:01.503Z"
   },
   {
    "duration": -736,
    "start_time": "2022-02-20T08:43:01.506Z"
   },
   {
    "duration": -737,
    "start_time": "2022-02-20T08:43:01.508Z"
   },
   {
    "duration": -738,
    "start_time": "2022-02-20T08:43:01.511Z"
   },
   {
    "duration": -739,
    "start_time": "2022-02-20T08:43:01.513Z"
   },
   {
    "duration": -739,
    "start_time": "2022-02-20T08:43:01.515Z"
   },
   {
    "duration": -739,
    "start_time": "2022-02-20T08:43:01.516Z"
   },
   {
    "duration": -740,
    "start_time": "2022-02-20T08:43:01.518Z"
   },
   {
    "duration": -741,
    "start_time": "2022-02-20T08:43:01.520Z"
   },
   {
    "duration": -742,
    "start_time": "2022-02-20T08:43:01.522Z"
   },
   {
    "duration": 4,
    "start_time": "2022-02-20T08:43:03.530Z"
   },
   {
    "duration": 326,
    "start_time": "2022-02-20T08:43:03.536Z"
   },
   {
    "duration": 98,
    "start_time": "2022-02-20T08:43:03.869Z"
   },
   {
    "duration": 396,
    "start_time": "2022-02-20T08:43:03.969Z"
   },
   {
    "duration": 8668,
    "start_time": "2022-02-20T08:43:04.368Z"
   },
   {
    "duration": 6,
    "start_time": "2022-02-20T08:43:13.037Z"
   },
   {
    "duration": 8,
    "start_time": "2022-02-20T08:43:13.045Z"
   },
   {
    "duration": 18,
    "start_time": "2022-02-20T08:43:13.055Z"
   },
   {
    "duration": 16,
    "start_time": "2022-02-20T08:43:13.076Z"
   },
   {
    "duration": 25,
    "start_time": "2022-02-20T08:43:13.094Z"
   },
   {
    "duration": 9,
    "start_time": "2022-02-20T08:43:13.121Z"
   },
   {
    "duration": 37,
    "start_time": "2022-02-20T08:43:13.132Z"
   },
   {
    "duration": 2304,
    "start_time": "2022-02-20T08:43:13.172Z"
   },
   {
    "duration": 898,
    "start_time": "2022-02-20T08:43:15.478Z"
   },
   {
    "duration": 6,
    "start_time": "2022-02-20T08:43:16.379Z"
   },
   {
    "duration": 12,
    "start_time": "2022-02-20T08:43:16.386Z"
   },
   {
    "duration": 10,
    "start_time": "2022-02-20T08:43:16.400Z"
   },
   {
    "duration": 21,
    "start_time": "2022-02-20T08:43:16.412Z"
   },
   {
    "duration": 803,
    "start_time": "2022-02-20T08:43:16.435Z"
   },
   {
    "duration": 6,
    "start_time": "2022-02-20T08:43:17.239Z"
   },
   {
    "duration": 10,
    "start_time": "2022-02-20T08:43:17.247Z"
   },
   {
    "duration": 6,
    "start_time": "2022-02-20T08:43:17.269Z"
   },
   {
    "duration": 10,
    "start_time": "2022-02-20T08:43:17.277Z"
   },
   {
    "duration": 20,
    "start_time": "2022-02-20T08:43:17.289Z"
   },
   {
    "duration": 59,
    "start_time": "2022-02-20T08:43:17.311Z"
   },
   {
    "duration": 3,
    "start_time": "2022-02-20T08:43:17.373Z"
   },
   {
    "duration": 8,
    "start_time": "2022-02-20T08:43:17.380Z"
   },
   {
    "duration": 12,
    "start_time": "2022-02-20T08:43:17.390Z"
   },
   {
    "duration": 16,
    "start_time": "2022-02-20T08:43:17.403Z"
   },
   {
    "duration": 5,
    "start_time": "2022-02-20T08:43:17.421Z"
   },
   {
    "duration": 11,
    "start_time": "2022-02-20T08:43:17.428Z"
   },
   {
    "duration": 34,
    "start_time": "2022-02-20T08:43:17.441Z"
   },
   {
    "duration": 17,
    "start_time": "2022-02-20T08:43:17.477Z"
   },
   {
    "duration": 7,
    "start_time": "2022-02-20T08:43:17.496Z"
   },
   {
    "duration": 10,
    "start_time": "2022-02-20T08:43:17.505Z"
   },
   {
    "duration": 3,
    "start_time": "2022-02-20T08:43:17.517Z"
   },
   {
    "duration": 16,
    "start_time": "2022-02-20T08:43:17.522Z"
   },
   {
    "duration": 29,
    "start_time": "2022-02-20T08:43:17.540Z"
   },
   {
    "duration": 1906,
    "start_time": "2022-02-20T08:43:17.571Z"
   },
   {
    "duration": 6912,
    "start_time": "2022-02-20T08:43:19.570Z"
   },
   {
    "duration": 39298,
    "start_time": "2022-02-20T08:43:26.484Z"
   },
   {
    "duration": 60,
    "start_time": "2022-02-20T08:44:05.784Z"
   },
   {
    "duration": 417719,
    "start_time": "2022-02-20T08:44:05.846Z"
   },
   {
    "duration": 4,
    "start_time": "2022-02-20T08:51:03.567Z"
   },
   {
    "duration": 11094,
    "start_time": "2022-02-20T08:51:03.573Z"
   }
  ],
  "kernelspec": {
   "display_name": "Python 3",
   "language": "python",
   "name": "python3"
  },
  "language_info": {
   "codemirror_mode": {
    "name": "ipython",
    "version": 3
   },
   "file_extension": ".py",
   "mimetype": "text/x-python",
   "name": "python",
   "nbconvert_exporter": "python",
   "pygments_lexer": "ipython3",
   "version": "3.7.8"
  },
  "toc": {
   "base_numbering": 1,
   "nav_menu": {},
   "number_sections": true,
   "sideBar": true,
   "skip_h1_title": true,
   "title_cell": "Содержание",
   "title_sidebar": "Contents",
   "toc_cell": true,
   "toc_position": {
    "height": "calc(100% - 180px)",
    "left": "10px",
    "top": "150px",
    "width": "165px"
   },
   "toc_section_display": true,
   "toc_window_display": false
  }
 },
 "nbformat": 4,
 "nbformat_minor": 2
}
