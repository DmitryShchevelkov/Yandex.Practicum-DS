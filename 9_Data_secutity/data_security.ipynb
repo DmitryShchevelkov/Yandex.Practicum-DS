{
 "cells": [
  {
   "cell_type": "markdown",
   "metadata": {
    "toc": true
   },
   "source": [
    "<h1>Содержание<span class=\"tocSkip\"></span></h1>\n",
    "<div class=\"toc\"><ul class=\"toc-item\"><li><span><a href=\"#Загрузка-данных\" data-toc-modified-id=\"Загрузка-данных-1\"><span class=\"toc-item-num\">1&nbsp;&nbsp;</span>Загрузка данных</a></span></li><li><span><a href=\"#Умножение-матриц\" data-toc-modified-id=\"Умножение-матриц-2\"><span class=\"toc-item-num\">2&nbsp;&nbsp;</span>Умножение матриц</a></span></li><li><span><a href=\"#Алгоритм-преобразования\" data-toc-modified-id=\"Алгоритм-преобразования-3\"><span class=\"toc-item-num\">3&nbsp;&nbsp;</span>Алгоритм преобразования</a></span></li><li><span><a href=\"#Проверка-алгоритма\" data-toc-modified-id=\"Проверка-алгоритма-4\"><span class=\"toc-item-num\">4&nbsp;&nbsp;</span>Проверка алгоритма</a></span><ul class=\"toc-item\"><li><span><a href=\"#Проверка-шифрования-данных-выбранным-алгоритмом\" data-toc-modified-id=\"Проверка-шифрования-данных-выбранным-алгоритмом-4.1\"><span class=\"toc-item-num\">4.1&nbsp;&nbsp;</span>Проверка шифрования данных выбранным алгоритмом</a></span></li><li><span><a href=\"#Проверка-качества-линейной-регрессии-до-и-после-преобразования-данных\" data-toc-modified-id=\"Проверка-качества-линейной-регрессии-до-и-после-преобразования-данных-4.2\"><span class=\"toc-item-num\">4.2&nbsp;&nbsp;</span>Проверка качества линейной регрессии до и после преобразования данных</a></span></li></ul></li><li><span><a href=\"#Выводы\" data-toc-modified-id=\"Выводы-5\"><span class=\"toc-item-num\">5&nbsp;&nbsp;</span>Выводы</a></span></li><li><span><a href=\"#Чек-лист-проверки\" data-toc-modified-id=\"Чек-лист-проверки-6\"><span class=\"toc-item-num\">6&nbsp;&nbsp;</span>Чек-лист проверки</a></span></li></ul></div>"
   ]
  },
  {
   "cell_type": "markdown",
   "metadata": {},
   "source": [
    "# Защита персональных данных клиентов"
   ]
  },
  {
   "cell_type": "markdown",
   "metadata": {},
   "source": [
    "Вам нужно защитить данные клиентов страховой компании «Хоть потоп». Разработайте такой метод преобразования данных, чтобы по ним было сложно восстановить персональную информацию. Обоснуйте корректность его работы.\n",
    "\n",
    "Нужно защитить данные, чтобы при преобразовании качество моделей машинного обучения не ухудшилось. Подбирать наилучшую модель не требуется."
   ]
  },
  {
   "cell_type": "markdown",
   "metadata": {},
   "source": [
    "## Загрузка данных"
   ]
  },
  {
   "cell_type": "code",
   "execution_count": 1,
   "metadata": {},
   "outputs": [],
   "source": [
    "import numpy as np\n",
    "import pandas as pd\n",
    "from sklearn.metrics import r2_score\n",
    "from sklearn.linear_model import LinearRegression\n",
    "from numpy import linalg as LA\n",
    "from sklearn.datasets import make_spd_matrix\n",
    "from sklearn.metrics import r2_score"
   ]
  },
  {
   "cell_type": "code",
   "execution_count": 2,
   "metadata": {},
   "outputs": [
    {
     "name": "stdout",
     "output_type": "stream",
     "text": [
      "<class 'pandas.core.frame.DataFrame'>\n",
      "RangeIndex: 5000 entries, 0 to 4999\n",
      "Data columns (total 5 columns):\n",
      "Пол                  5000 non-null int64\n",
      "Возраст              5000 non-null float64\n",
      "Зарплата             5000 non-null float64\n",
      "Члены семьи          5000 non-null int64\n",
      "Страховые выплаты    5000 non-null int64\n",
      "dtypes: float64(2), int64(3)\n",
      "memory usage: 195.4 KB\n"
     ]
    },
    {
     "data": {
      "text/plain": [
       "(   Пол  Возраст  Зарплата  Члены семьи  Страховые выплаты\n",
       " 0    1     41.0   49600.0            1                  0\n",
       " 1    0     46.0   38000.0            1                  1\n",
       " 2    0     29.0   21000.0            0                  0\n",
       " 3    0     21.0   41700.0            2                  0\n",
       " 4    1     28.0   26100.0            0                  0\n",
       " 5    1     43.0   41000.0            2                  1\n",
       " 6    1     39.0   39700.0            2                  0\n",
       " 7    1     25.0   38600.0            4                  0\n",
       " 8    1     36.0   49700.0            1                  0\n",
       " 9    1     32.0   51700.0            1                  0,\n",
       " None)"
      ]
     },
     "execution_count": 2,
     "metadata": {},
     "output_type": "execute_result"
    }
   ],
   "source": [
    "df = pd.read_csv('/datasets/insurance.csv')\n",
    "(df.head(10), df.info())"
   ]
  },
  {
   "cell_type": "code",
   "execution_count": 3,
   "metadata": {},
   "outputs": [],
   "source": [
    "df['Возраст'] = df['Возраст'].astype(int)"
   ]
  },
  {
   "cell_type": "markdown",
   "metadata": {},
   "source": [
    "Данные загружены и не имеют аномалий, значение столбца \"Возраст\" заменено на integer."
   ]
  },
  {
   "cell_type": "markdown",
   "metadata": {},
   "source": [
    "## Умножение матриц"
   ]
  },
  {
   "cell_type": "markdown",
   "metadata": {},
   "source": [
    "Обозначения:\n",
    "\n",
    "- $X$ — матрица признаков (нулевой столбец состоит из единиц)\n",
    "\n",
    "- $y$ — вектор целевого признака\n",
    "\n",
    "- $P$ — матрица, на которую умножаются признаки\n",
    "\n",
    "- $w$ — вектор весов линейной регрессии (нулевой элемент равен сдвигу)"
   ]
  },
  {
   "cell_type": "markdown",
   "metadata": {},
   "source": [
    "Предсказания:\n",
    "\n",
    "$$\n",
    "a = Xw\n",
    "$$\n",
    "\n",
    "Задача обучения:\n",
    "\n",
    "$$\n",
    "w = \\arg\\min_w MSE(Xw, y)\n",
    "$$\n",
    "\n",
    "Формула обучения:\n",
    "\n",
    "$$\n",
    "w = (X^T X)^{-1} X^T y\n",
    "$$"
   ]
  },
  {
   "cell_type": "markdown",
   "metadata": {},
   "source": [
    "**Вопрос:** Признаки умножают на обратимую матрицу. Изменится ли качество линейной регрессии?\n",
    "\n",
    "**Ответ:** Нет, не изменится.\n",
    "\n",
    "**Обоснование:** Пусть предсказание по измененным признакам будет __a'__, а коэффициент линейной регрессии __w'__.\n",
    "Тогда \n",
    "\n",
    "$$\n",
    "a' = XPw'\n",
    "$$\n",
    "\n",
    "Поскольку:\n",
    "\n",
    "$$\n",
    "(AB)^{-1} = B^{-1}A^{-1} ; (AB)^T = A^TB^T ; AE = A ; A^{-1}A = E\n",
    "$$\n",
    "\n",
    "Получаем значение измененного коэффициента регрессии w1':\n",
    "\n",
    "$$\n",
    "w' = ((XP)^T XP)^{-1} (XP)^T y = (X^TP^TXP)^{-1}X^TP^Ty = P^{-1}(X^TX)^{-1}(P^T)^{-1}X^TP^Ty =  P^{-1}(X^TX)^{-1}X^Ty = P^{-1}w\n",
    "$$\n",
    "\n",
    "или \n",
    "$$\n",
    "w' =  P^{-1}w\n",
    "$$\n",
    "\n",
    "Тогда:\n",
    "$$\n",
    "a' = XPw' = XPP^{-1}w = Xw = a\n",
    "$$\n",
    "\n",
    "Вывод: если матрица P, на которую умножаются признаки, является обратимой, то предсказания модели линейной регресии не меняются, следовательно и качество линейной регрессии не изменится."
   ]
  },
  {
   "cell_type": "markdown",
   "metadata": {},
   "source": [
    "## Алгоритм преобразования"
   ]
  },
  {
   "cell_type": "markdown",
   "metadata": {},
   "source": [
    "**Алгоритм**\n",
    "\n",
    "Для преобразования исходных признаков, умножим матрицу признаков на случайную обратимую матрицу P."
   ]
  },
  {
   "cell_type": "markdown",
   "metadata": {},
   "source": [
    "**Обоснование**\n",
    "\n",
    "Исходя из предыдущего пункта, если умножить матрицу признаков на обратимую матрицу (P), то качество линейной регрессии не измениться, а восстановить исходные данные по изменённым признакам можно, умножив матрицу измененных признаков на обратную матрицу.\n",
    "\n",
    "Зашифрованные  признаки:\n",
    "$$\n",
    "XP \n",
    "$$\n",
    "Расшифрованные признаки:\n",
    "$$\n",
    "XPP^{-1} = X\n",
    "$$"
   ]
  },
  {
   "cell_type": "markdown",
   "metadata": {},
   "source": [
    "## Проверка алгоритма"
   ]
  },
  {
   "cell_type": "markdown",
   "metadata": {},
   "source": [
    "### Проверка шифрования данных выбранным алгоритмом\n",
    "Создадим случайную квадратную матрицу размером 4x4 и проверим, что существует обратная к ней матрица. Сохраним её, для последующего восстановления данных."
   ]
  },
  {
   "cell_type": "code",
   "execution_count": 4,
   "metadata": {},
   "outputs": [],
   "source": [
    "p_matrix = make_spd_matrix(n_dim=4, random_state=42)\n",
    "p_inverse_matrix = np.linalg.inv(p_matrix)"
   ]
  },
  {
   "cell_type": "code",
   "execution_count": 5,
   "metadata": {},
   "outputs": [
    {
     "data": {
      "text/plain": [
       "array([[ 2.38872896,  0.56901523, -0.06452387,  0.64417423],\n",
       "       [ 0.56901523,  1.58681651,  0.19811965, -0.80791757],\n",
       "       [-0.06452387,  0.19811965,  2.45754414,  1.00276849],\n",
       "       [ 0.64417423, -0.80791757,  1.00276849,  1.86322127]])"
      ]
     },
     "execution_count": 5,
     "metadata": {},
     "output_type": "execute_result"
    }
   ],
   "source": [
    "p_inverse_matrix"
   ]
  },
  {
   "cell_type": "markdown",
   "metadata": {},
   "source": [
    "Создадим выборки с признаками (features) и целевыми признаками (target)."
   ]
  },
  {
   "cell_type": "code",
   "execution_count": 6,
   "metadata": {},
   "outputs": [],
   "source": [
    "features = df.drop('Страховые выплаты', axis=1)\n",
    "target = df['Страховые выплаты']"
   ]
  },
  {
   "cell_type": "markdown",
   "metadata": {},
   "source": [
    "Зашифруем данные выбранным алгоритмом (умножим признаки на матрицу P). "
   ]
  },
  {
   "cell_type": "code",
   "execution_count": 7,
   "metadata": {},
   "outputs": [],
   "source": [
    "new_features = features.values @ p_matrix"
   ]
  },
  {
   "cell_type": "markdown",
   "metadata": {},
   "source": [
    "Посмотрим новую таблицу с зашифрованными данными."
   ]
  },
  {
   "cell_type": "code",
   "execution_count": 8,
   "metadata": {},
   "outputs": [
    {
     "data": {
      "text/html": [
       "<div>\n",
       "<style scoped>\n",
       "    .dataframe tbody tr th:only-of-type {\n",
       "        vertical-align: middle;\n",
       "    }\n",
       "\n",
       "    .dataframe tbody tr th {\n",
       "        vertical-align: top;\n",
       "    }\n",
       "\n",
       "    .dataframe thead th {\n",
       "        text-align: right;\n",
       "    }\n",
       "</style>\n",
       "<table border=\"1\" class=\"dataframe\">\n",
       "  <thead>\n",
       "    <tr style=\"text-align: right;\">\n",
       "      <th></th>\n",
       "      <th>0</th>\n",
       "      <th>1</th>\n",
       "      <th>2</th>\n",
       "      <th>3</th>\n",
       "    </tr>\n",
       "  </thead>\n",
       "  <tbody>\n",
       "    <tr>\n",
       "      <td>0</td>\n",
       "      <td>23135.223341</td>\n",
       "      <td>-38043.068354</td>\n",
       "      <td>43377.273227</td>\n",
       "      <td>-47839.267450</td>\n",
       "    </tr>\n",
       "    <tr>\n",
       "      <td>1</td>\n",
       "      <td>17711.373143</td>\n",
       "      <td>-29118.929523</td>\n",
       "      <td>33220.793453</td>\n",
       "      <td>-36628.322581</td>\n",
       "    </tr>\n",
       "    <tr>\n",
       "      <td>2</td>\n",
       "      <td>9785.355195</td>\n",
       "      <td>-16086.483381</td>\n",
       "      <td>18356.642884</td>\n",
       "      <td>-20237.794526</td>\n",
       "    </tr>\n",
       "    <tr>\n",
       "      <td>3</td>\n",
       "      <td>19459.929862</td>\n",
       "      <td>-32005.353270</td>\n",
       "      <td>36477.231989</td>\n",
       "      <td>-40236.493918</td>\n",
       "    </tr>\n",
       "    <tr>\n",
       "      <td>4</td>\n",
       "      <td>12169.461932</td>\n",
       "      <td>-20008.365963</td>\n",
       "      <td>22821.332653</td>\n",
       "      <td>-25165.490617</td>\n",
       "    </tr>\n",
       "    <tr>\n",
       "      <td>...</td>\n",
       "      <td>...</td>\n",
       "      <td>...</td>\n",
       "      <td>...</td>\n",
       "      <td>...</td>\n",
       "    </tr>\n",
       "    <tr>\n",
       "      <td>4995</td>\n",
       "      <td>16651.223387</td>\n",
       "      <td>-27381.995973</td>\n",
       "      <td>31220.730082</td>\n",
       "      <td>-34431.685568</td>\n",
       "    </tr>\n",
       "    <tr>\n",
       "      <td>4996</td>\n",
       "      <td>24448.220761</td>\n",
       "      <td>-40206.439701</td>\n",
       "      <td>45832.709316</td>\n",
       "      <td>-50552.771657</td>\n",
       "    </tr>\n",
       "    <tr>\n",
       "      <td>4997</td>\n",
       "      <td>15817.128948</td>\n",
       "      <td>-26012.973799</td>\n",
       "      <td>29651.541179</td>\n",
       "      <td>-32705.163632</td>\n",
       "    </tr>\n",
       "    <tr>\n",
       "      <td>4998</td>\n",
       "      <td>15254.840765</td>\n",
       "      <td>-25086.599956</td>\n",
       "      <td>28599.281097</td>\n",
       "      <td>-31542.221503</td>\n",
       "    </tr>\n",
       "    <tr>\n",
       "      <td>4999</td>\n",
       "      <td>18941.981582</td>\n",
       "      <td>-31149.878730</td>\n",
       "      <td>35510.579695</td>\n",
       "      <td>-39166.771101</td>\n",
       "    </tr>\n",
       "  </tbody>\n",
       "</table>\n",
       "<p>5000 rows × 4 columns</p>\n",
       "</div>"
      ],
      "text/plain": [
       "                 0             1             2             3\n",
       "0     23135.223341 -38043.068354  43377.273227 -47839.267450\n",
       "1     17711.373143 -29118.929523  33220.793453 -36628.322581\n",
       "2      9785.355195 -16086.483381  18356.642884 -20237.794526\n",
       "3     19459.929862 -32005.353270  36477.231989 -40236.493918\n",
       "4     12169.461932 -20008.365963  22821.332653 -25165.490617\n",
       "...            ...           ...           ...           ...\n",
       "4995  16651.223387 -27381.995973  31220.730082 -34431.685568\n",
       "4996  24448.220761 -40206.439701  45832.709316 -50552.771657\n",
       "4997  15817.128948 -26012.973799  29651.541179 -32705.163632\n",
       "4998  15254.840765 -25086.599956  28599.281097 -31542.221503\n",
       "4999  18941.981582 -31149.878730  35510.579695 -39166.771101\n",
       "\n",
       "[5000 rows x 4 columns]"
      ]
     },
     "execution_count": 8,
     "metadata": {},
     "output_type": "execute_result"
    }
   ],
   "source": [
    "new_df = pd.DataFrame(new_features)\n",
    "new_df"
   ]
  },
  {
   "cell_type": "markdown",
   "metadata": {},
   "source": [
    "Проверим, что умножением на обратную матрицу данные восстановятся."
   ]
  },
  {
   "cell_type": "code",
   "execution_count": 9,
   "metadata": {},
   "outputs": [
    {
     "data": {
      "text/html": [
       "<div>\n",
       "<style scoped>\n",
       "    .dataframe tbody tr th:only-of-type {\n",
       "        vertical-align: middle;\n",
       "    }\n",
       "\n",
       "    .dataframe tbody tr th {\n",
       "        vertical-align: top;\n",
       "    }\n",
       "\n",
       "    .dataframe thead th {\n",
       "        text-align: right;\n",
       "    }\n",
       "</style>\n",
       "<table border=\"1\" class=\"dataframe\">\n",
       "  <thead>\n",
       "    <tr style=\"text-align: right;\">\n",
       "      <th></th>\n",
       "      <th>0</th>\n",
       "      <th>1</th>\n",
       "      <th>2</th>\n",
       "      <th>3</th>\n",
       "    </tr>\n",
       "  </thead>\n",
       "  <tbody>\n",
       "    <tr>\n",
       "      <td>0</td>\n",
       "      <td>1.0</td>\n",
       "      <td>41.0</td>\n",
       "      <td>49600.0</td>\n",
       "      <td>1.0</td>\n",
       "    </tr>\n",
       "    <tr>\n",
       "      <td>1</td>\n",
       "      <td>-0.0</td>\n",
       "      <td>46.0</td>\n",
       "      <td>38000.0</td>\n",
       "      <td>1.0</td>\n",
       "    </tr>\n",
       "    <tr>\n",
       "      <td>2</td>\n",
       "      <td>0.0</td>\n",
       "      <td>29.0</td>\n",
       "      <td>21000.0</td>\n",
       "      <td>-0.0</td>\n",
       "    </tr>\n",
       "    <tr>\n",
       "      <td>3</td>\n",
       "      <td>0.0</td>\n",
       "      <td>21.0</td>\n",
       "      <td>41700.0</td>\n",
       "      <td>2.0</td>\n",
       "    </tr>\n",
       "    <tr>\n",
       "      <td>4</td>\n",
       "      <td>1.0</td>\n",
       "      <td>28.0</td>\n",
       "      <td>26100.0</td>\n",
       "      <td>-0.0</td>\n",
       "    </tr>\n",
       "  </tbody>\n",
       "</table>\n",
       "</div>"
      ],
      "text/plain": [
       "     0     1        2    3\n",
       "0  1.0  41.0  49600.0  1.0\n",
       "1 -0.0  46.0  38000.0  1.0\n",
       "2  0.0  29.0  21000.0 -0.0\n",
       "3  0.0  21.0  41700.0  2.0\n",
       "4  1.0  28.0  26100.0 -0.0"
      ]
     },
     "execution_count": 9,
     "metadata": {},
     "output_type": "execute_result"
    }
   ],
   "source": [
    "pd.DataFrame(new_df.values @ p_inverse_matrix).round().head()"
   ]
  },
  {
   "cell_type": "code",
   "execution_count": 10,
   "metadata": {},
   "outputs": [
    {
     "data": {
      "text/html": [
       "<div>\n",
       "<style scoped>\n",
       "    .dataframe tbody tr th:only-of-type {\n",
       "        vertical-align: middle;\n",
       "    }\n",
       "\n",
       "    .dataframe tbody tr th {\n",
       "        vertical-align: top;\n",
       "    }\n",
       "\n",
       "    .dataframe thead th {\n",
       "        text-align: right;\n",
       "    }\n",
       "</style>\n",
       "<table border=\"1\" class=\"dataframe\">\n",
       "  <thead>\n",
       "    <tr style=\"text-align: right;\">\n",
       "      <th></th>\n",
       "      <th>Пол</th>\n",
       "      <th>Возраст</th>\n",
       "      <th>Зарплата</th>\n",
       "      <th>Члены семьи</th>\n",
       "    </tr>\n",
       "  </thead>\n",
       "  <tbody>\n",
       "    <tr>\n",
       "      <td>0</td>\n",
       "      <td>1</td>\n",
       "      <td>41</td>\n",
       "      <td>49600.0</td>\n",
       "      <td>1</td>\n",
       "    </tr>\n",
       "    <tr>\n",
       "      <td>1</td>\n",
       "      <td>0</td>\n",
       "      <td>46</td>\n",
       "      <td>38000.0</td>\n",
       "      <td>1</td>\n",
       "    </tr>\n",
       "    <tr>\n",
       "      <td>2</td>\n",
       "      <td>0</td>\n",
       "      <td>29</td>\n",
       "      <td>21000.0</td>\n",
       "      <td>0</td>\n",
       "    </tr>\n",
       "    <tr>\n",
       "      <td>3</td>\n",
       "      <td>0</td>\n",
       "      <td>21</td>\n",
       "      <td>41700.0</td>\n",
       "      <td>2</td>\n",
       "    </tr>\n",
       "    <tr>\n",
       "      <td>4</td>\n",
       "      <td>1</td>\n",
       "      <td>28</td>\n",
       "      <td>26100.0</td>\n",
       "      <td>0</td>\n",
       "    </tr>\n",
       "  </tbody>\n",
       "</table>\n",
       "</div>"
      ],
      "text/plain": [
       "   Пол  Возраст  Зарплата  Члены семьи\n",
       "0    1       41   49600.0            1\n",
       "1    0       46   38000.0            1\n",
       "2    0       29   21000.0            0\n",
       "3    0       21   41700.0            2\n",
       "4    1       28   26100.0            0"
      ]
     },
     "execution_count": 10,
     "metadata": {},
     "output_type": "execute_result"
    }
   ],
   "source": [
    "features.head()"
   ]
  },
  {
   "cell_type": "markdown",
   "metadata": {},
   "source": [
    "### Проверка качества линейной регрессии до и после преобразования данных"
   ]
  },
  {
   "cell_type": "markdown",
   "metadata": {},
   "source": [
    "Посчитаем значение R2 для признаков до преобразования:"
   ]
  },
  {
   "cell_type": "code",
   "execution_count": 11,
   "metadata": {},
   "outputs": [
    {
     "name": "stdout",
     "output_type": "stream",
     "text": [
      "0.42494550286668\n"
     ]
    }
   ],
   "source": [
    "model = LinearRegression()\n",
    "model.fit(features, target)\n",
    "predictions = model.predict(features)\n",
    "print(r2_score(target, predictions))"
   ]
  },
  {
   "cell_type": "markdown",
   "metadata": {},
   "source": [
    "Посчитаем значение R2 для признаков после преобразования:"
   ]
  },
  {
   "cell_type": "code",
   "execution_count": 12,
   "metadata": {},
   "outputs": [
    {
     "name": "stdout",
     "output_type": "stream",
     "text": [
      "0.42494550286668153\n"
     ]
    }
   ],
   "source": [
    "model = LinearRegression()\n",
    "model.fit(new_features, target)\n",
    "predictions = model.predict(new_features)\n",
    "print(r2_score(target, predictions))"
   ]
  },
  {
   "cell_type": "markdown",
   "metadata": {},
   "source": [
    "Качество R2 модели линейной регрессии не изменилось после преобразования признаков."
   ]
  },
  {
   "cell_type": "markdown",
   "metadata": {},
   "source": [
    "## Выводы"
   ]
  },
  {
   "cell_type": "markdown",
   "metadata": {},
   "source": [
    "В ходе выполнения данного проекта было подтверждено утверждение, что качество модели линейной регрессии не меняется, если признаки умножают на обратимую матрицу.\n",
    "\n",
    "На основе этого утверждения был предложен алгоритм шифрования данных клиентов страховой компании «Хоть потоп»:\n",
    "- Была сгенерирована случайная обратимая квадратная матрица;\n",
    "- было проверено, что умножение признаков на нее, меняет исходные данные,\n",
    "- была проверена операция дешифрования данных при помощи обратной матрицы,\n",
    "- было проверено качество R2 модели линейной регрессии до и после преобразования признаков."
   ]
  }
 ],
 "metadata": {
  "ExecuteTimeLog": [
   {
    "duration": 86,
    "start_time": "2021-12-26T11:38:59.837Z"
   },
   {
    "duration": 85,
    "start_time": "2021-12-26T11:39:20.140Z"
   },
   {
    "duration": 321,
    "start_time": "2021-12-26T11:39:30.136Z"
   },
   {
    "duration": 755,
    "start_time": "2021-12-26T11:39:33.555Z"
   },
   {
    "duration": 42,
    "start_time": "2021-12-26T11:39:35.320Z"
   },
   {
    "duration": 27,
    "start_time": "2021-12-26T11:39:39.593Z"
   },
   {
    "duration": 41,
    "start_time": "2021-12-26T11:39:53.855Z"
   },
   {
    "duration": 32,
    "start_time": "2021-12-26T11:40:19.746Z"
   },
   {
    "duration": 33,
    "start_time": "2021-12-26T11:40:28.877Z"
   },
   {
    "duration": 29,
    "start_time": "2021-12-26T11:40:34.930Z"
   },
   {
    "duration": 25,
    "start_time": "2021-12-26T11:40:58.643Z"
   },
   {
    "duration": 34,
    "start_time": "2021-12-26T11:41:07.609Z"
   },
   {
    "duration": 32,
    "start_time": "2021-12-26T11:41:15.066Z"
   },
   {
    "duration": 6,
    "start_time": "2021-12-26T11:55:13.884Z"
   },
   {
    "duration": 708,
    "start_time": "2021-12-26T11:55:37.640Z"
   },
   {
    "duration": 17,
    "start_time": "2021-12-26T12:00:43.914Z"
   },
   {
    "duration": 7,
    "start_time": "2021-12-26T12:16:13.678Z"
   },
   {
    "duration": 18,
    "start_time": "2021-12-26T12:16:28.013Z"
   },
   {
    "duration": 12,
    "start_time": "2021-12-26T12:16:36.513Z"
   },
   {
    "duration": 15,
    "start_time": "2021-12-26T12:16:42.107Z"
   },
   {
    "duration": 5,
    "start_time": "2021-12-26T12:18:37.273Z"
   },
   {
    "duration": 11,
    "start_time": "2021-12-26T12:18:40.100Z"
   },
   {
    "duration": 476,
    "start_time": "2021-12-26T12:25:23.308Z"
   },
   {
    "duration": 430,
    "start_time": "2021-12-26T12:25:29.141Z"
   },
   {
    "duration": 27,
    "start_time": "2021-12-26T12:25:50.943Z"
   },
   {
    "duration": 395,
    "start_time": "2021-12-26T12:25:55.049Z"
   },
   {
    "duration": 14,
    "start_time": "2021-12-26T12:26:01.732Z"
   },
   {
    "duration": 453,
    "start_time": "2021-12-26T12:27:09.746Z"
   },
   {
    "duration": 4,
    "start_time": "2021-12-26T12:32:30.821Z"
   },
   {
    "duration": 8,
    "start_time": "2021-12-26T12:32:38.770Z"
   },
   {
    "duration": 296,
    "start_time": "2021-12-26T12:33:04.908Z"
   },
   {
    "duration": 539,
    "start_time": "2021-12-26T12:33:23.831Z"
   },
   {
    "duration": 245,
    "start_time": "2021-12-26T12:33:37.092Z"
   },
   {
    "duration": 11,
    "start_time": "2021-12-26T12:33:41.613Z"
   },
   {
    "duration": 87,
    "start_time": "2021-12-26T12:34:09.579Z"
   },
   {
    "duration": 1019,
    "start_time": "2021-12-26T16:40:37.662Z"
   },
   {
    "duration": 215,
    "start_time": "2021-12-26T16:51:52.327Z"
   },
   {
    "duration": 4,
    "start_time": "2021-12-26T16:52:01.431Z"
   },
   {
    "duration": 48,
    "start_time": "2021-12-26T16:52:01.437Z"
   },
   {
    "duration": 5,
    "start_time": "2021-12-26T16:52:01.488Z"
   },
   {
    "duration": 32,
    "start_time": "2021-12-26T16:52:01.495Z"
   },
   {
    "duration": 17,
    "start_time": "2021-12-26T17:00:17.452Z"
   },
   {
    "duration": 4,
    "start_time": "2021-12-26T17:01:09.629Z"
   },
   {
    "duration": 6,
    "start_time": "2021-12-26T17:01:27.181Z"
   },
   {
    "duration": 5,
    "start_time": "2021-12-26T17:01:35.740Z"
   },
   {
    "duration": 6,
    "start_time": "2021-12-26T17:01:48.723Z"
   },
   {
    "duration": 4,
    "start_time": "2021-12-26T17:10:43.083Z"
   },
   {
    "duration": 4,
    "start_time": "2021-12-26T17:10:52.221Z"
   },
   {
    "duration": 4,
    "start_time": "2021-12-26T17:11:09.334Z"
   },
   {
    "duration": 5,
    "start_time": "2021-12-26T17:11:09.769Z"
   },
   {
    "duration": 184,
    "start_time": "2021-12-26T17:12:19.126Z"
   },
   {
    "duration": 5,
    "start_time": "2021-12-26T17:12:26.028Z"
   },
   {
    "duration": 5,
    "start_time": "2021-12-26T17:12:40.372Z"
   },
   {
    "duration": 4,
    "start_time": "2021-12-26T17:13:04.201Z"
   },
   {
    "duration": 13,
    "start_time": "2021-12-26T17:13:27.129Z"
   },
   {
    "duration": 11,
    "start_time": "2021-12-26T17:14:19.441Z"
   },
   {
    "duration": 5,
    "start_time": "2021-12-26T17:14:46.861Z"
   },
   {
    "duration": 13,
    "start_time": "2021-12-26T17:15:20.637Z"
   },
   {
    "duration": 136,
    "start_time": "2021-12-26T17:15:54.696Z"
   },
   {
    "duration": 146,
    "start_time": "2021-12-26T17:16:02.296Z"
   },
   {
    "duration": 42,
    "start_time": "2021-12-26T17:16:12.034Z"
   },
   {
    "duration": 9,
    "start_time": "2021-12-26T17:16:31.420Z"
   },
   {
    "duration": 9,
    "start_time": "2021-12-26T17:16:50.422Z"
   },
   {
    "duration": 8,
    "start_time": "2021-12-26T17:17:04.571Z"
   },
   {
    "duration": 11,
    "start_time": "2021-12-26T17:17:32.625Z"
   },
   {
    "duration": 11,
    "start_time": "2021-12-26T17:17:59.580Z"
   },
   {
    "duration": 4,
    "start_time": "2021-12-26T17:21:07.019Z"
   },
   {
    "duration": 4,
    "start_time": "2021-12-26T17:22:39.111Z"
   },
   {
    "duration": 3,
    "start_time": "2021-12-26T17:25:13.276Z"
   },
   {
    "duration": 10,
    "start_time": "2021-12-26T17:26:43.301Z"
   },
   {
    "duration": 9,
    "start_time": "2021-12-26T17:27:03.766Z"
   },
   {
    "duration": 3,
    "start_time": "2021-12-26T17:29:18.432Z"
   },
   {
    "duration": 15,
    "start_time": "2021-12-26T17:29:54.959Z"
   },
   {
    "duration": 10,
    "start_time": "2021-12-26T17:30:27.389Z"
   },
   {
    "duration": 3,
    "start_time": "2021-12-26T17:40:58.632Z"
   },
   {
    "duration": 31,
    "start_time": "2021-12-26T17:40:58.638Z"
   },
   {
    "duration": 5,
    "start_time": "2021-12-26T17:40:58.672Z"
   },
   {
    "duration": 12,
    "start_time": "2021-12-26T17:40:58.680Z"
   },
   {
    "duration": 7,
    "start_time": "2021-12-26T17:40:58.694Z"
   },
   {
    "duration": 8,
    "start_time": "2021-12-26T17:40:58.704Z"
   },
   {
    "duration": 77,
    "start_time": "2021-12-26T17:40:58.715Z"
   },
   {
    "duration": 16,
    "start_time": "2021-12-26T17:40:58.795Z"
   },
   {
    "duration": 11,
    "start_time": "2021-12-26T17:40:58.893Z"
   },
   {
    "duration": 6,
    "start_time": "2021-12-26T17:40:58.906Z"
   },
   {
    "duration": 79,
    "start_time": "2021-12-26T17:40:58.914Z"
   },
   {
    "duration": 102,
    "start_time": "2021-12-26T17:40:58.996Z"
   },
   {
    "duration": 971,
    "start_time": "2021-12-27T12:14:04.072Z"
   },
   {
    "duration": 30,
    "start_time": "2021-12-27T12:14:05.044Z"
   },
   {
    "duration": 4,
    "start_time": "2021-12-27T12:14:05.076Z"
   },
   {
    "duration": 7,
    "start_time": "2021-12-27T12:14:05.082Z"
   },
   {
    "duration": 40,
    "start_time": "2021-12-27T12:14:05.090Z"
   },
   {
    "duration": 10,
    "start_time": "2021-12-27T12:14:05.131Z"
   },
   {
    "duration": 84,
    "start_time": "2021-12-27T12:14:05.143Z"
   },
   {
    "duration": 14,
    "start_time": "2021-12-27T12:14:05.230Z"
   },
   {
    "duration": 12,
    "start_time": "2021-12-27T12:14:05.246Z"
   },
   {
    "duration": 6,
    "start_time": "2021-12-27T12:14:05.260Z"
   },
   {
    "duration": 10,
    "start_time": "2021-12-27T12:14:05.268Z"
   },
   {
    "duration": 101,
    "start_time": "2021-12-27T12:14:05.331Z"
   },
   {
    "duration": 1021,
    "start_time": "2021-12-27T12:27:20.213Z"
   },
   {
    "duration": 31,
    "start_time": "2021-12-27T12:27:21.236Z"
   },
   {
    "duration": 4,
    "start_time": "2021-12-27T12:27:21.272Z"
   },
   {
    "duration": 6,
    "start_time": "2021-12-27T12:27:21.278Z"
   },
   {
    "duration": 43,
    "start_time": "2021-12-27T12:27:21.286Z"
   },
   {
    "duration": 10,
    "start_time": "2021-12-27T12:27:21.331Z"
   },
   {
    "duration": 7,
    "start_time": "2021-12-27T12:27:21.342Z"
   },
   {
    "duration": 84,
    "start_time": "2021-12-27T12:27:21.351Z"
   },
   {
    "duration": 13,
    "start_time": "2021-12-27T12:27:21.437Z"
   },
   {
    "duration": 6,
    "start_time": "2021-12-27T12:27:21.451Z"
   },
   {
    "duration": 169,
    "start_time": "2021-12-27T12:27:21.459Z"
   },
   {
    "duration": 5,
    "start_time": "2021-12-27T12:27:21.630Z"
   },
   {
    "duration": 1092,
    "start_time": "2022-02-20T08:59:48.981Z"
   },
   {
    "duration": 32,
    "start_time": "2022-02-20T08:59:50.075Z"
   },
   {
    "duration": 3,
    "start_time": "2022-02-20T08:59:50.109Z"
   },
   {
    "duration": 16,
    "start_time": "2022-02-20T08:59:50.114Z"
   },
   {
    "duration": 39,
    "start_time": "2022-02-20T08:59:50.133Z"
   },
   {
    "duration": 6,
    "start_time": "2022-02-20T08:59:50.175Z"
   },
   {
    "duration": 86,
    "start_time": "2022-02-20T08:59:50.183Z"
   },
   {
    "duration": 13,
    "start_time": "2022-02-20T08:59:50.272Z"
   },
   {
    "duration": 13,
    "start_time": "2022-02-20T08:59:50.287Z"
   },
   {
    "duration": 7,
    "start_time": "2022-02-20T08:59:50.301Z"
   },
   {
    "duration": 61,
    "start_time": "2022-02-20T08:59:50.310Z"
   },
   {
    "duration": 104,
    "start_time": "2022-02-20T08:59:50.373Z"
   }
  ],
  "kernelspec": {
   "display_name": "Python 3",
   "language": "python",
   "name": "python3"
  },
  "language_info": {
   "codemirror_mode": {
    "name": "ipython",
    "version": 3
   },
   "file_extension": ".py",
   "mimetype": "text/x-python",
   "name": "python",
   "nbconvert_exporter": "python",
   "pygments_lexer": "ipython3",
   "version": "3.7.8"
  },
  "toc": {
   "base_numbering": 1,
   "nav_menu": {},
   "number_sections": true,
   "sideBar": true,
   "skip_h1_title": true,
   "title_cell": "Содержание",
   "title_sidebar": "Contents",
   "toc_cell": true,
   "toc_position": {
    "height": "calc(100% - 180px)",
    "left": "10px",
    "top": "150px",
    "width": "165px"
   },
   "toc_section_display": true,
   "toc_window_display": true
  }
 },
 "nbformat": 4,
 "nbformat_minor": 2
}
