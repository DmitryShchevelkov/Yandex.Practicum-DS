{
 "cells": [
  {
   "cell_type": "markdown",
   "metadata": {
    "toc": true
   },
   "source": [
    "<h1>Содержание<span class=\"tocSkip\"></span></h1>\n",
    "<div class=\"toc\"><ul class=\"toc-item\"><li><span><a href=\"#Подготовка\" data-toc-modified-id=\"Подготовка-1\"><span class=\"toc-item-num\">1&nbsp;&nbsp;</span>Подготовка</a></span></li><li><span><a href=\"#Обучение\" data-toc-modified-id=\"Обучение-2\"><span class=\"toc-item-num\">2&nbsp;&nbsp;</span>Обучение</a></span><ul class=\"toc-item\"><li><span><a href=\"#LogisticRegression\" data-toc-modified-id=\"LogisticRegression-2.1\"><span class=\"toc-item-num\">2.1&nbsp;&nbsp;</span>LogisticRegression</a></span></li><li><span><a href=\"#SGDClassifier\" data-toc-modified-id=\"SGDClassifier-2.2\"><span class=\"toc-item-num\">2.2&nbsp;&nbsp;</span>SGDClassifier</a></span></li><li><span><a href=\"#DecisionTreeClassifier\" data-toc-modified-id=\"DecisionTreeClassifier-2.3\"><span class=\"toc-item-num\">2.3&nbsp;&nbsp;</span>DecisionTreeClassifier</a></span></li><li><span><a href=\"#GridSearchCV\" data-toc-modified-id=\"GridSearchCV-2.4\"><span class=\"toc-item-num\">2.4&nbsp;&nbsp;</span>GridSearchCV</a></span></li></ul></li><li><span><a href=\"#Выводы\" data-toc-modified-id=\"Выводы-3\"><span class=\"toc-item-num\">3&nbsp;&nbsp;</span>Выводы</a></span></li></ul></div>"
   ]
  },
  {
   "cell_type": "markdown",
   "metadata": {},
   "source": [
    "# Проект для «Викишоп»"
   ]
  },
  {
   "cell_type": "markdown",
   "metadata": {},
   "source": [
    "Интернет-магазин «Викишоп» запускает новый сервис. Теперь пользователи могут редактировать и дополнять описания товаров, как в вики-сообществах. То есть клиенты предлагают свои правки и комментируют изменения других. Магазину нужен инструмент, который будет искать токсичные комментарии и отправлять их на модерацию. \n",
    "\n",
    "Обучите модель классифицировать комментарии на позитивные и негативные. В вашем распоряжении набор данных с разметкой о токсичности правок.\n",
    "\n",
    "Постройте модель со значением метрики качества *F1* не меньше 0.75. \n",
    "\n",
    "**Инструкция по выполнению проекта**\n",
    "\n",
    "1. Загрузите и подготовьте данные.\n",
    "2. Обучите разные модели. \n",
    "3. Сделайте выводы.\n",
    "\n",
    "Для выполнения проекта применять *BERT* необязательно, но вы можете попробовать.\n",
    "\n",
    "**Описание данных**\n",
    "\n",
    "Данные находятся в файле `toxic_comments.csv`. Столбец *text* в нём содержит текст комментария, а *toxic* — целевой признак."
   ]
  },
  {
   "cell_type": "markdown",
   "metadata": {},
   "source": [
    "## Подготовка"
   ]
  },
  {
   "cell_type": "code",
   "execution_count": 1,
   "metadata": {},
   "outputs": [],
   "source": [
    "import pandas as pd\n",
    "import nltk\n",
    "from nltk.corpus import stopwords as nltk_stopwords\n",
    "from sklearn.feature_extraction.text import TfidfVectorizer \n",
    "from sklearn.linear_model import LogisticRegression\n",
    "from sklearn.linear_model import SGDClassifier\n",
    "from sklearn.tree import DecisionTreeClassifier\n",
    "from sklearn.metrics import accuracy_score\n",
    "import numpy as np\n",
    "from sklearn.model_selection import train_test_split\n",
    "import re \n",
    "from nltk.stem import WordNetLemmatizer \n",
    "from sklearn.metrics import f1_score"
   ]
  },
  {
   "cell_type": "markdown",
   "metadata": {},
   "source": [
    "Скачаем датасет и посмотрим на него."
   ]
  },
  {
   "cell_type": "code",
   "execution_count": 2,
   "metadata": {},
   "outputs": [
    {
     "name": "stdout",
     "output_type": "stream",
     "text": [
      "<class 'pandas.core.frame.DataFrame'>\n",
      "RangeIndex: 159571 entries, 0 to 159570\n",
      "Data columns (total 2 columns):\n",
      "text     159571 non-null object\n",
      "toxic    159571 non-null int64\n",
      "dtypes: int64(1), object(1)\n",
      "memory usage: 2.4+ MB\n"
     ]
    }
   ],
   "source": [
    "df = pd.read_csv(\"/datasets/toxic_comments.csv\")\n",
    "df.info()"
   ]
  },
  {
   "cell_type": "code",
   "execution_count": 3,
   "metadata": {},
   "outputs": [
    {
     "data": {
      "text/html": [
       "<div>\n",
       "<style scoped>\n",
       "    .dataframe tbody tr th:only-of-type {\n",
       "        vertical-align: middle;\n",
       "    }\n",
       "\n",
       "    .dataframe tbody tr th {\n",
       "        vertical-align: top;\n",
       "    }\n",
       "\n",
       "    .dataframe thead th {\n",
       "        text-align: right;\n",
       "    }\n",
       "</style>\n",
       "<table border=\"1\" class=\"dataframe\">\n",
       "  <thead>\n",
       "    <tr style=\"text-align: right;\">\n",
       "      <th></th>\n",
       "      <th>text</th>\n",
       "      <th>toxic</th>\n",
       "    </tr>\n",
       "  </thead>\n",
       "  <tbody>\n",
       "    <tr>\n",
       "      <td>0</td>\n",
       "      <td>Explanation\\nWhy the edits made under my usern...</td>\n",
       "      <td>0</td>\n",
       "    </tr>\n",
       "    <tr>\n",
       "      <td>1</td>\n",
       "      <td>D'aww! He matches this background colour I'm s...</td>\n",
       "      <td>0</td>\n",
       "    </tr>\n",
       "    <tr>\n",
       "      <td>2</td>\n",
       "      <td>Hey man, I'm really not trying to edit war. It...</td>\n",
       "      <td>0</td>\n",
       "    </tr>\n",
       "    <tr>\n",
       "      <td>3</td>\n",
       "      <td>\"\\nMore\\nI can't make any real suggestions on ...</td>\n",
       "      <td>0</td>\n",
       "    </tr>\n",
       "    <tr>\n",
       "      <td>4</td>\n",
       "      <td>You, sir, are my hero. Any chance you remember...</td>\n",
       "      <td>0</td>\n",
       "    </tr>\n",
       "    <tr>\n",
       "      <td>...</td>\n",
       "      <td>...</td>\n",
       "      <td>...</td>\n",
       "    </tr>\n",
       "    <tr>\n",
       "      <td>159566</td>\n",
       "      <td>\":::::And for the second time of asking, when ...</td>\n",
       "      <td>0</td>\n",
       "    </tr>\n",
       "    <tr>\n",
       "      <td>159567</td>\n",
       "      <td>You should be ashamed of yourself \\n\\nThat is ...</td>\n",
       "      <td>0</td>\n",
       "    </tr>\n",
       "    <tr>\n",
       "      <td>159568</td>\n",
       "      <td>Spitzer \\n\\nUmm, theres no actual article for ...</td>\n",
       "      <td>0</td>\n",
       "    </tr>\n",
       "    <tr>\n",
       "      <td>159569</td>\n",
       "      <td>And it looks like it was actually you who put ...</td>\n",
       "      <td>0</td>\n",
       "    </tr>\n",
       "    <tr>\n",
       "      <td>159570</td>\n",
       "      <td>\"\\nAnd ... I really don't think you understand...</td>\n",
       "      <td>0</td>\n",
       "    </tr>\n",
       "  </tbody>\n",
       "</table>\n",
       "<p>159571 rows × 2 columns</p>\n",
       "</div>"
      ],
      "text/plain": [
       "                                                     text  toxic\n",
       "0       Explanation\\nWhy the edits made under my usern...      0\n",
       "1       D'aww! He matches this background colour I'm s...      0\n",
       "2       Hey man, I'm really not trying to edit war. It...      0\n",
       "3       \"\\nMore\\nI can't make any real suggestions on ...      0\n",
       "4       You, sir, are my hero. Any chance you remember...      0\n",
       "...                                                   ...    ...\n",
       "159566  \":::::And for the second time of asking, when ...      0\n",
       "159567  You should be ashamed of yourself \\n\\nThat is ...      0\n",
       "159568  Spitzer \\n\\nUmm, theres no actual article for ...      0\n",
       "159569  And it looks like it was actually you who put ...      0\n",
       "159570  \"\\nAnd ... I really don't think you understand...      0\n",
       "\n",
       "[159571 rows x 2 columns]"
      ]
     },
     "execution_count": 3,
     "metadata": {},
     "output_type": "execute_result"
    }
   ],
   "source": [
    "df"
   ]
  },
  {
   "cell_type": "markdown",
   "metadata": {},
   "source": [
    "В первые 5 и последние 5 строк не попало единиц в столбце \"toxic\", поэтому посмотрим, есть ли они вообще и посмотрим дубликаты строк."
   ]
  },
  {
   "cell_type": "code",
   "execution_count": 4,
   "metadata": {},
   "outputs": [
    {
     "data": {
      "text/plain": [
       "0    0.898321\n",
       "1    0.101679\n",
       "Name: toxic, dtype: float64"
      ]
     },
     "execution_count": 4,
     "metadata": {},
     "output_type": "execute_result"
    }
   ],
   "source": [
    "df['toxic'].value_counts(normalize=True)"
   ]
  },
  {
   "cell_type": "code",
   "execution_count": 5,
   "metadata": {},
   "outputs": [
    {
     "data": {
      "text/plain": [
       "0"
      ]
     },
     "execution_count": 5,
     "metadata": {},
     "output_type": "execute_result"
    }
   ],
   "source": [
    "df.duplicated().sum()"
   ]
  },
  {
   "cell_type": "markdown",
   "metadata": {},
   "source": [
    "Добавим функции для лемматизации и очистки текста. Добавим подготовленный текст в новую колонку 'text_clear_lemm'."
   ]
  },
  {
   "cell_type": "code",
   "execution_count": 6,
   "metadata": {},
   "outputs": [],
   "source": [
    "def lemmatize(text):\n",
    "    m = WordNetLemmatizer()\n",
    "    lemm_list = m.lemmatize(text)\n",
    "    lemm_text = \"\".join(lemm_list)\n",
    "        \n",
    "    return lemm_text\n",
    "\n",
    "\n",
    "def clear_text(text):\n",
    "    cl_text = re.sub(r'[^a-zA-Z ]', ' ', text)\n",
    "    return  \" \".join(cl_text.split())"
   ]
  },
  {
   "cell_type": "code",
   "execution_count": 7,
   "metadata": {},
   "outputs": [],
   "source": [
    "df['text_clear'] = df['text'].apply(clear_text)\n"
   ]
  },
  {
   "cell_type": "code",
   "execution_count": 8,
   "metadata": {},
   "outputs": [],
   "source": [
    "df['text_clear_lemm'] = df['text_clear'].apply(lemmatize)"
   ]
  },
  {
   "cell_type": "code",
   "execution_count": 9,
   "metadata": {},
   "outputs": [
    {
     "data": {
      "text/html": [
       "<div>\n",
       "<style scoped>\n",
       "    .dataframe tbody tr th:only-of-type {\n",
       "        vertical-align: middle;\n",
       "    }\n",
       "\n",
       "    .dataframe tbody tr th {\n",
       "        vertical-align: top;\n",
       "    }\n",
       "\n",
       "    .dataframe thead th {\n",
       "        text-align: right;\n",
       "    }\n",
       "</style>\n",
       "<table border=\"1\" class=\"dataframe\">\n",
       "  <thead>\n",
       "    <tr style=\"text-align: right;\">\n",
       "      <th></th>\n",
       "      <th>text</th>\n",
       "      <th>toxic</th>\n",
       "      <th>text_clear</th>\n",
       "      <th>text_clear_lemm</th>\n",
       "    </tr>\n",
       "  </thead>\n",
       "  <tbody>\n",
       "    <tr>\n",
       "      <td>129000</td>\n",
       "      <td>\"\\n\\nhelp me\\n\\nAn editor ( | Talk \"</td>\n",
       "      <td>0</td>\n",
       "      <td>help me An editor Talk</td>\n",
       "      <td>help me An editor Talk</td>\n",
       "    </tr>\n",
       "    <tr>\n",
       "      <td>136300</td>\n",
       "      <td>18. Removed another external link: this one ha...</td>\n",
       "      <td>0</td>\n",
       "      <td>Removed another external link this one has no ...</td>\n",
       "      <td>Removed another external link this one has no ...</td>\n",
       "    </tr>\n",
       "    <tr>\n",
       "      <td>155865</td>\n",
       "      <td>\"\\n\"\"We\"\" stand for Ultra-Orthodox Jews. Pleas...</td>\n",
       "      <td>0</td>\n",
       "      <td>We stand for Ultra Orthodox Jews Please step b...</td>\n",
       "      <td>We stand for Ultra Orthodox Jews Please step b...</td>\n",
       "    </tr>\n",
       "    <tr>\n",
       "      <td>5160</td>\n",
       "      <td>\"\\n\\n Good policy suggestion on class assignme...</td>\n",
       "      <td>0</td>\n",
       "      <td>Good policy suggestion on class assignments My...</td>\n",
       "      <td>Good policy suggestion on class assignments My...</td>\n",
       "    </tr>\n",
       "    <tr>\n",
       "      <td>34579</td>\n",
       "      <td>=I see you back from Madison</td>\n",
       "      <td>0</td>\n",
       "      <td>I see you back from Madison</td>\n",
       "      <td>I see you back from Madison</td>\n",
       "    </tr>\n",
       "    <tr>\n",
       "      <td>23192</td>\n",
       "      <td>I see you're one of the many wikipedians that ...</td>\n",
       "      <td>0</td>\n",
       "      <td>I see you re one of the many wikipedians that ...</td>\n",
       "      <td>I see you re one of the many wikipedians that ...</td>\n",
       "    </tr>\n",
       "    <tr>\n",
       "      <td>92867</td>\n",
       "      <td>\"\\nI was just reading the preface of \"\"Making ...</td>\n",
       "      <td>0</td>\n",
       "      <td>I was just reading the preface of Making Rumou...</td>\n",
       "      <td>I was just reading the preface of Making Rumou...</td>\n",
       "    </tr>\n",
       "    <tr>\n",
       "      <td>140268</td>\n",
       "      <td>\"Try answering these two first - Does the Seco...</td>\n",
       "      <td>0</td>\n",
       "      <td>Try answering these two first Does the Second ...</td>\n",
       "      <td>Try answering these two first Does the Second ...</td>\n",
       "    </tr>\n",
       "    <tr>\n",
       "      <td>77374</td>\n",
       "      <td>\"Furthermore, you substantiate my allegation t...</td>\n",
       "      <td>0</td>\n",
       "      <td>Furthermore you substantiate my allegation tha...</td>\n",
       "      <td>Furthermore you substantiate my allegation tha...</td>\n",
       "    </tr>\n",
       "    <tr>\n",
       "      <td>107575</td>\n",
       "      <td>Stop. Hounding. Me.\\nLeave. My. Constructive. ...</td>\n",
       "      <td>0</td>\n",
       "      <td>Stop Hounding Me Leave My Constructive Edits A...</td>\n",
       "      <td>Stop Hounding Me Leave My Constructive Edits A...</td>\n",
       "    </tr>\n",
       "    <tr>\n",
       "      <td>50791</td>\n",
       "      <td>nb: might was well acknowledge that this was m...</td>\n",
       "      <td>0</td>\n",
       "      <td>nb might was well acknowledge that this was me...</td>\n",
       "      <td>nb might was well acknowledge that this was me...</td>\n",
       "    </tr>\n",
       "    <tr>\n",
       "      <td>116658</td>\n",
       "      <td>\"\\n\\n Back on the Colbert Report  \\nFYI: On to...</td>\n",
       "      <td>0</td>\n",
       "      <td>Back on the Colbert Report FYI On today Aug nd...</td>\n",
       "      <td>Back on the Colbert Report FYI On today Aug nd...</td>\n",
       "    </tr>\n",
       "    <tr>\n",
       "      <td>144320</td>\n",
       "      <td>Argh. That's pretty unpleasant. Out goes the s...</td>\n",
       "      <td>0</td>\n",
       "      <td>Argh That s pretty unpleasant Out goes the sen...</td>\n",
       "      <td>Argh That s pretty unpleasant Out goes the sen...</td>\n",
       "    </tr>\n",
       "    <tr>\n",
       "      <td>21865</td>\n",
       "      <td>\"\\nNAACP had a mission for the \"\"advancement o...</td>\n",
       "      <td>0</td>\n",
       "      <td>NAACP had a mission for the advancement of all...</td>\n",
       "      <td>NAACP had a mission for the advancement of all...</td>\n",
       "    </tr>\n",
       "    <tr>\n",
       "      <td>155889</td>\n",
       "      <td>Hey there, good to see you. I've set up an ado...</td>\n",
       "      <td>0</td>\n",
       "      <td>Hey there good to see you I ve set up an adopt...</td>\n",
       "      <td>Hey there good to see you I ve set up an adopt...</td>\n",
       "    </tr>\n",
       "  </tbody>\n",
       "</table>\n",
       "</div>"
      ],
      "text/plain": [
       "                                                     text  toxic  \\\n",
       "129000               \"\\n\\nhelp me\\n\\nAn editor ( | Talk \"      0   \n",
       "136300  18. Removed another external link: this one ha...      0   \n",
       "155865  \"\\n\"\"We\"\" stand for Ultra-Orthodox Jews. Pleas...      0   \n",
       "5160    \"\\n\\n Good policy suggestion on class assignme...      0   \n",
       "34579                        =I see you back from Madison      0   \n",
       "23192   I see you're one of the many wikipedians that ...      0   \n",
       "92867   \"\\nI was just reading the preface of \"\"Making ...      0   \n",
       "140268  \"Try answering these two first - Does the Seco...      0   \n",
       "77374   \"Furthermore, you substantiate my allegation t...      0   \n",
       "107575  Stop. Hounding. Me.\\nLeave. My. Constructive. ...      0   \n",
       "50791   nb: might was well acknowledge that this was m...      0   \n",
       "116658  \"\\n\\n Back on the Colbert Report  \\nFYI: On to...      0   \n",
       "144320  Argh. That's pretty unpleasant. Out goes the s...      0   \n",
       "21865   \"\\nNAACP had a mission for the \"\"advancement o...      0   \n",
       "155889  Hey there, good to see you. I've set up an ado...      0   \n",
       "\n",
       "                                               text_clear  \\\n",
       "129000                             help me An editor Talk   \n",
       "136300  Removed another external link this one has no ...   \n",
       "155865  We stand for Ultra Orthodox Jews Please step b...   \n",
       "5160    Good policy suggestion on class assignments My...   \n",
       "34579                         I see you back from Madison   \n",
       "23192   I see you re one of the many wikipedians that ...   \n",
       "92867   I was just reading the preface of Making Rumou...   \n",
       "140268  Try answering these two first Does the Second ...   \n",
       "77374   Furthermore you substantiate my allegation tha...   \n",
       "107575  Stop Hounding Me Leave My Constructive Edits A...   \n",
       "50791   nb might was well acknowledge that this was me...   \n",
       "116658  Back on the Colbert Report FYI On today Aug nd...   \n",
       "144320  Argh That s pretty unpleasant Out goes the sen...   \n",
       "21865   NAACP had a mission for the advancement of all...   \n",
       "155889  Hey there good to see you I ve set up an adopt...   \n",
       "\n",
       "                                          text_clear_lemm  \n",
       "129000                             help me An editor Talk  \n",
       "136300  Removed another external link this one has no ...  \n",
       "155865  We stand for Ultra Orthodox Jews Please step b...  \n",
       "5160    Good policy suggestion on class assignments My...  \n",
       "34579                         I see you back from Madison  \n",
       "23192   I see you re one of the many wikipedians that ...  \n",
       "92867   I was just reading the preface of Making Rumou...  \n",
       "140268  Try answering these two first Does the Second ...  \n",
       "77374   Furthermore you substantiate my allegation tha...  \n",
       "107575  Stop Hounding Me Leave My Constructive Edits A...  \n",
       "50791   nb might was well acknowledge that this was me...  \n",
       "116658  Back on the Colbert Report FYI On today Aug nd...  \n",
       "144320  Argh That s pretty unpleasant Out goes the sen...  \n",
       "21865   NAACP had a mission for the advancement of all...  \n",
       "155889  Hey there good to see you I ve set up an adopt...  "
      ]
     },
     "execution_count": 9,
     "metadata": {},
     "output_type": "execute_result"
    }
   ],
   "source": [
    "df.sample(15)"
   ]
  },
  {
   "cell_type": "markdown",
   "metadata": {},
   "source": [
    "Разделим датасет на обучающую и тестовую выборку."
   ]
  },
  {
   "cell_type": "code",
   "execution_count": 10,
   "metadata": {},
   "outputs": [],
   "source": [
    "df_train, df_test = train_test_split(df, test_size=0.25)"
   ]
  },
  {
   "cell_type": "markdown",
   "metadata": {},
   "source": [
    "Переведём тексты в стандартный для Python формат: кодировку Unicode (U). Изменим кодировку методом astype():"
   ]
  },
  {
   "cell_type": "code",
   "execution_count": 11,
   "metadata": {},
   "outputs": [],
   "source": [
    "train_corpus = df_train['text_clear_lemm']\n",
    "test_corpus = df_test['text_clear_lemm']"
   ]
  },
  {
   "cell_type": "markdown",
   "metadata": {},
   "source": [
    "Подготовим целевые признаки для обоих выборок."
   ]
  },
  {
   "cell_type": "code",
   "execution_count": 12,
   "metadata": {},
   "outputs": [],
   "source": [
    "target_train = df_train['toxic']\n",
    "target_test = df_test['toxic']"
   ]
  },
  {
   "cell_type": "markdown",
   "metadata": {},
   "source": [
    "Вызовем функцию __stopwords.words()__, передадим ей аргумент 'english' - английские стоп-слова. \n",
    "Создадим счётчик, указав в нём стоп-слова."
   ]
  },
  {
   "cell_type": "code",
   "execution_count": 13,
   "metadata": {},
   "outputs": [],
   "source": [
    "stopwords = set(nltk_stopwords.words('english'))\n",
    "count_tf_idf = TfidfVectorizer(stop_words=stopwords)"
   ]
  },
  {
   "cell_type": "markdown",
   "metadata": {},
   "source": [
    "Чтобы посчитать TF-IDF для корпуса текстов, вызовем функцию fit_transform(). Для определения тональности применим величины TF-IDF как признаки."
   ]
  },
  {
   "cell_type": "code",
   "execution_count": 14,
   "metadata": {},
   "outputs": [],
   "source": [
    "feature_train = count_tf_idf.fit_transform(train_corpus)"
   ]
  },
  {
   "cell_type": "markdown",
   "metadata": {},
   "source": [
    "Создадим тестовые признаки, без функции fit."
   ]
  },
  {
   "cell_type": "code",
   "execution_count": 15,
   "metadata": {},
   "outputs": [],
   "source": [
    "feature_test = count_tf_idf.transform(test_corpus)"
   ]
  },
  {
   "cell_type": "markdown",
   "metadata": {},
   "source": [
    "## Обучение"
   ]
  },
  {
   "cell_type": "markdown",
   "metadata": {},
   "source": [
    "### LogisticRegression\n",
    "Обучим модель LogisticRegression и посмотрим метрику F1 на тестовой выборки."
   ]
  },
  {
   "cell_type": "code",
   "execution_count": 16,
   "metadata": {},
   "outputs": [
    {
     "name": "stderr",
     "output_type": "stream",
     "text": [
      "/opt/conda/lib/python3.7/site-packages/sklearn/linear_model/logistic.py:432: FutureWarning: Default solver will be changed to 'lbfgs' in 0.22. Specify a solver to silence this warning.\n",
      "  FutureWarning)\n"
     ]
    },
    {
     "data": {
      "text/plain": [
       "LogisticRegression(C=1.0, class_weight='balanced', dual=False,\n",
       "                   fit_intercept=True, intercept_scaling=1, l1_ratio=None,\n",
       "                   max_iter=100, multi_class='warn', n_jobs=-1, penalty='l2',\n",
       "                   random_state=42, solver='warn', tol=0.0001, verbose=0,\n",
       "                   warm_start=False)"
      ]
     },
     "execution_count": 16,
     "metadata": {},
     "output_type": "execute_result"
    }
   ],
   "source": [
    "model_lr = LogisticRegression(class_weight='balanced', n_jobs=-1, random_state=42)\n",
    "model_lr.fit(feature_train, target_train)"
   ]
  },
  {
   "cell_type": "code",
   "execution_count": 17,
   "metadata": {},
   "outputs": [
    {
     "data": {
      "text/plain": [
       "0.7599398237696111"
      ]
     },
     "execution_count": 17,
     "metadata": {},
     "output_type": "execute_result"
    }
   ],
   "source": [
    "predictions_lr = model_lr.predict(feature_test)\n",
    "f1_score(target_test, predictions_lr, average='binary')"
   ]
  },
  {
   "cell_type": "markdown",
   "metadata": {},
   "source": [
    "### SGDClassifier\n",
    "Обучим модель SGDClassifier и посмотрим метрику F1 на тестовой выборки."
   ]
  },
  {
   "cell_type": "code",
   "execution_count": 18,
   "metadata": {},
   "outputs": [
    {
     "data": {
      "text/plain": [
       "SGDClassifier(alpha=0.0001, average=False, class_weight='balanced',\n",
       "              early_stopping=False, epsilon=0.1, eta0=0.0, fit_intercept=True,\n",
       "              l1_ratio=0.15, learning_rate='optimal', loss='hinge',\n",
       "              max_iter=1000, n_iter_no_change=5, n_jobs=-1, penalty='l2',\n",
       "              power_t=0.5, random_state=42, shuffle=True, tol=0.001,\n",
       "              validation_fraction=0.1, verbose=0, warm_start=False)"
      ]
     },
     "execution_count": 18,
     "metadata": {},
     "output_type": "execute_result"
    }
   ],
   "source": [
    "model_SGDCl = SGDClassifier(class_weight='balanced', n_jobs=-1, random_state=42)\n",
    "model_SGDCl.fit(feature_train, target_train)"
   ]
  },
  {
   "cell_type": "code",
   "execution_count": 19,
   "metadata": {},
   "outputs": [
    {
     "data": {
      "text/plain": [
       "0.7424500212675457"
      ]
     },
     "execution_count": 19,
     "metadata": {},
     "output_type": "execute_result"
    }
   ],
   "source": [
    "predictions_SGDCl = model_SGDCl.predict(feature_test)\n",
    "f1_score(target_test, predictions_SGDCl, average='binary')"
   ]
  },
  {
   "cell_type": "markdown",
   "metadata": {},
   "source": [
    "### DecisionTreeClassifier\n",
    "Обучим модель DecisionTreeClassifier и посмотрим метрику F1 на тестовой выборки."
   ]
  },
  {
   "cell_type": "code",
   "execution_count": 20,
   "metadata": {},
   "outputs": [
    {
     "data": {
      "text/plain": [
       "DecisionTreeClassifier(class_weight=None, criterion='gini', max_depth=None,\n",
       "                       max_features=None, max_leaf_nodes=None,\n",
       "                       min_impurity_decrease=0.0, min_impurity_split=None,\n",
       "                       min_samples_leaf=1, min_samples_split=2,\n",
       "                       min_weight_fraction_leaf=0.0, presort=False,\n",
       "                       random_state=42, splitter='best')"
      ]
     },
     "execution_count": 20,
     "metadata": {},
     "output_type": "execute_result"
    }
   ],
   "source": [
    "model_dtc = DecisionTreeClassifier(random_state=42)\n",
    "model_dtc.fit(feature_train, target_train)"
   ]
  },
  {
   "cell_type": "code",
   "execution_count": 21,
   "metadata": {},
   "outputs": [
    {
     "data": {
      "text/plain": [
       "0.7200097727827999"
      ]
     },
     "execution_count": 21,
     "metadata": {},
     "output_type": "execute_result"
    }
   ],
   "source": [
    "predictions_dtc = model_dtc.predict(feature_test)\n",
    "f1_score(target_test, predictions_dtc, average='binary')"
   ]
  },
  {
   "cell_type": "markdown",
   "metadata": {},
   "source": [
    "### GridSearchCV\n",
    "Обучим модель LogisticRegression с GridSearchCV и посмотрим метрику F1 на тестовой выборки."
   ]
  },
  {
   "cell_type": "code",
   "execution_count": 22,
   "metadata": {},
   "outputs": [],
   "source": [
    "from sklearn.pipeline import Pipeline\n",
    "from sklearn.model_selection import GridSearchCV\n",
    "from sklearn.feature_extraction.text import TfidfTransformer\n",
    "from sklearn.feature_extraction.text import CountVectorizer"
   ]
  },
  {
   "cell_type": "code",
   "execution_count": 23,
   "metadata": {},
   "outputs": [],
   "source": [
    "pipe_lr = Pipeline([('vect', CountVectorizer(stop_words=stopwords)),\n",
    "                    ('tfidf', TfidfTransformer()),\n",
    "                    ('clf', LogisticRegression(random_state=42))])"
   ]
  },
  {
   "cell_type": "code",
   "execution_count": 24,
   "metadata": {},
   "outputs": [],
   "source": [
    "param_range = [9, 10]\n",
    "param_range_fl = [1.0, 0.5]"
   ]
  },
  {
   "cell_type": "code",
   "execution_count": 25,
   "metadata": {},
   "outputs": [],
   "source": [
    "grid_params_lr = [{'clf__penalty': ['l1', 'l2'],\n",
    "                'clf__C': param_range_fl,\n",
    "                'clf__solver': ['liblinear']}] \n",
    "jobs = -1"
   ]
  },
  {
   "cell_type": "code",
   "execution_count": 26,
   "metadata": {},
   "outputs": [],
   "source": [
    "LR = GridSearchCV(estimator=pipe_lr,\n",
    "                param_grid=grid_params_lr,\n",
    "                scoring='f1',\n",
    "                cv=10) "
   ]
  },
  {
   "cell_type": "code",
   "execution_count": 27,
   "metadata": {},
   "outputs": [
    {
     "data": {
      "text/plain": [
       "GridSearchCV(cv=10, error_score='raise-deprecating',\n",
       "             estimator=Pipeline(memory=None,\n",
       "                                steps=[('vect',\n",
       "                                        CountVectorizer(analyzer='word',\n",
       "                                                        binary=False,\n",
       "                                                        decode_error='strict',\n",
       "                                                        dtype=<class 'numpy.int64'>,\n",
       "                                                        encoding='utf-8',\n",
       "                                                        input='content',\n",
       "                                                        lowercase=True,\n",
       "                                                        max_df=1.0,\n",
       "                                                        max_features=None,\n",
       "                                                        min_df=1,\n",
       "                                                        ngram_range=(1, 1),\n",
       "                                                        preprocessor=None,\n",
       "                                                        stop_words={'a',\n",
       "                                                                    'about',\n",
       "                                                                    'above',\n",
       "                                                                    'afte...\n",
       "                                                           l1_ratio=None,\n",
       "                                                           max_iter=100,\n",
       "                                                           multi_class='warn',\n",
       "                                                           n_jobs=None,\n",
       "                                                           penalty='l2',\n",
       "                                                           random_state=42,\n",
       "                                                           solver='warn',\n",
       "                                                           tol=0.0001,\n",
       "                                                           verbose=0,\n",
       "                                                           warm_start=False))],\n",
       "                                verbose=False),\n",
       "             iid='warn', n_jobs=None,\n",
       "             param_grid=[{'clf__C': [1.0, 0.5], 'clf__penalty': ['l1', 'l2'],\n",
       "                          'clf__solver': ['liblinear']}],\n",
       "             pre_dispatch='2*n_jobs', refit=True, return_train_score=False,\n",
       "             scoring='f1', verbose=0)"
      ]
     },
     "execution_count": 27,
     "metadata": {},
     "output_type": "execute_result"
    }
   ],
   "source": [
    "LR.fit(train_corpus, target_train)"
   ]
  },
  {
   "cell_type": "code",
   "execution_count": 28,
   "metadata": {},
   "outputs": [
    {
     "data": {
      "text/plain": [
       "0.7762632520996834"
      ]
     },
     "execution_count": 28,
     "metadata": {},
     "output_type": "execute_result"
    }
   ],
   "source": [
    "predictions = LR.predict(test_corpus)\n",
    "f1_score(target_test, predictions, average='binary')"
   ]
  },
  {
   "cell_type": "markdown",
   "metadata": {},
   "source": [
    "## Выводы"
   ]
  },
  {
   "cell_type": "markdown",
   "metadata": {},
   "source": [
    "   В данном проекте нужно было подобрать инструмент для интернет-магазина «Викишоп», который будет искать токсичные комментарии и отправлять их на модерацию. По имеющимуся набору данных с разметкой о токсичности правок необходимо было обучить модель классификации со значением метрики качества F1 не меньше 0.75.\n",
    "   \n",
    "   Имеющиеся текстовые комментарии были лемматизированы и очищены от знаков припенания и лишних символов. \n",
    "   \n",
    "   Для определения тональности были применены величины TF-IDF как признаки.\n",
    "   \n",
    "   Были проверены 4 модели классификации: LogisticRegression, SGDClassifier, DecisionTreeClassifier и LogisticRegression с GridSearchCV.\n",
    "   \n",
    "|  Model | F1 |\n",
    "| -- | -- | \n",
    "|LogisticRegression | 0.755 |\n",
    "|SGDClassifier | 0.739 |\n",
    "|DecisionTreeClassifier | 0.717 |\n",
    "|GridSearchCV | 0.776 |\n",
    "\n",
    "Подходящей моделью оказалась модель LogisticRegression с GridSearchCV. "
   ]
  },
  {
   "cell_type": "code",
   "execution_count": null,
   "metadata": {},
   "outputs": [],
   "source": []
  }
 ],
 "metadata": {
  "ExecuteTimeLog": [
   {
    "duration": 1630,
    "start_time": "2022-02-03T09:53:05.427Z"
   },
   {
    "duration": 2697,
    "start_time": "2022-02-03T09:53:50.941Z"
   },
   {
    "duration": 735,
    "start_time": "2022-02-03T09:54:43.320Z"
   },
   {
    "duration": 762,
    "start_time": "2022-02-03T09:55:15.476Z"
   },
   {
    "duration": 766,
    "start_time": "2022-02-03T09:55:25.490Z"
   },
   {
    "duration": 837,
    "start_time": "2022-02-03T09:55:38.141Z"
   },
   {
    "duration": 232,
    "start_time": "2022-02-03T09:56:04.880Z"
   },
   {
    "duration": 9,
    "start_time": "2022-02-03T09:56:21.214Z"
   },
   {
    "duration": 846,
    "start_time": "2022-02-03T09:56:34.278Z"
   },
   {
    "duration": 330,
    "start_time": "2022-02-03T09:56:44.058Z"
   },
   {
    "duration": 301,
    "start_time": "2022-02-03T09:58:01.760Z"
   },
   {
    "duration": 4,
    "start_time": "2022-02-03T09:59:38.617Z"
   },
   {
    "duration": 460,
    "start_time": "2022-02-03T09:59:44.139Z"
   },
   {
    "duration": 232,
    "start_time": "2022-02-03T09:59:47.847Z"
   },
   {
    "duration": 9,
    "start_time": "2022-02-03T09:59:52.384Z"
   },
   {
    "duration": 15,
    "start_time": "2022-02-03T10:02:06.350Z"
   },
   {
    "duration": 262,
    "start_time": "2022-02-03T10:04:27.518Z"
   },
   {
    "duration": 249,
    "start_time": "2022-02-03T10:05:00.331Z"
   },
   {
    "duration": 243,
    "start_time": "2022-02-03T10:05:04.829Z"
   },
   {
    "duration": 5,
    "start_time": "2022-02-03T10:07:27.073Z"
   },
   {
    "duration": 32,
    "start_time": "2022-02-03T10:10:45.387Z"
   },
   {
    "duration": 5,
    "start_time": "2022-02-03T10:11:53.168Z"
   },
   {
    "duration": 14,
    "start_time": "2022-02-03T10:14:17.062Z"
   },
   {
    "duration": 7,
    "start_time": "2022-02-03T10:20:29.136Z"
   },
   {
    "duration": 13,
    "start_time": "2022-02-03T10:23:38.509Z"
   },
   {
    "duration": 5,
    "start_time": "2022-02-03T10:23:43.914Z"
   },
   {
    "duration": 76,
    "start_time": "2022-02-03T10:25:54.419Z"
   },
   {
    "duration": 259,
    "start_time": "2022-02-03T10:26:01.907Z"
   },
   {
    "duration": 233,
    "start_time": "2022-02-03T10:27:35.423Z"
   },
   {
    "duration": 245,
    "start_time": "2022-02-03T10:28:09.830Z"
   },
   {
    "duration": 338,
    "start_time": "2022-02-03T10:28:25.954Z"
   },
   {
    "duration": 257,
    "start_time": "2022-02-03T10:28:38.036Z"
   },
   {
    "duration": 1023,
    "start_time": "2022-02-03T10:28:59.870Z"
   },
   {
    "duration": 2778,
    "start_time": "2022-02-03T10:29:15.052Z"
   },
   {
    "duration": 2894,
    "start_time": "2022-02-03T10:29:22.243Z"
   },
   {
    "duration": -581,
    "start_time": "2022-02-03T10:32:04.768Z"
   },
   {
    "duration": -584,
    "start_time": "2022-02-03T10:32:04.773Z"
   },
   {
    "duration": -585,
    "start_time": "2022-02-03T10:32:04.775Z"
   },
   {
    "duration": -585,
    "start_time": "2022-02-03T10:32:04.777Z"
   },
   {
    "duration": -585,
    "start_time": "2022-02-03T10:32:04.778Z"
   },
   {
    "duration": -584,
    "start_time": "2022-02-03T10:32:04.779Z"
   },
   {
    "duration": -585,
    "start_time": "2022-02-03T10:32:04.781Z"
   },
   {
    "duration": -584,
    "start_time": "2022-02-03T10:32:04.782Z"
   },
   {
    "duration": -585,
    "start_time": "2022-02-03T10:32:04.784Z"
   },
   {
    "duration": 6,
    "start_time": "2022-02-03T10:32:05.049Z"
   },
   {
    "duration": 853,
    "start_time": "2022-02-03T10:32:05.058Z"
   },
   {
    "duration": 14,
    "start_time": "2022-02-03T10:32:05.914Z"
   },
   {
    "duration": 27,
    "start_time": "2022-02-03T10:32:05.931Z"
   },
   {
    "duration": 344,
    "start_time": "2022-02-03T10:32:05.961Z"
   },
   {
    "duration": 4,
    "start_time": "2022-02-03T10:32:06.308Z"
   },
   {
    "duration": 2761,
    "start_time": "2022-02-03T10:32:06.315Z"
   },
   {
    "duration": 57762,
    "start_time": "2022-02-03T10:32:09.078Z"
   },
   {
    "duration": -533,
    "start_time": "2022-02-03T10:33:07.376Z"
   },
   {
    "duration": 5,
    "start_time": "2022-02-03T10:38:43.825Z"
   },
   {
    "duration": 6,
    "start_time": "2022-02-03T10:38:47.012Z"
   },
   {
    "duration": 2824,
    "start_time": "2022-02-03T10:38:48.954Z"
   },
   {
    "duration": 4736,
    "start_time": "2022-02-03T10:38:54.261Z"
   },
   {
    "duration": 20,
    "start_time": "2022-02-03T10:39:02.585Z"
   },
   {
    "duration": 8,
    "start_time": "2022-02-03T10:40:23.442Z"
   },
   {
    "duration": 5,
    "start_time": "2022-02-03T10:42:27.382Z"
   },
   {
    "duration": 779,
    "start_time": "2022-02-03T10:42:27.390Z"
   },
   {
    "duration": 12,
    "start_time": "2022-02-03T10:42:28.172Z"
   },
   {
    "duration": 12,
    "start_time": "2022-02-03T10:42:28.187Z"
   },
   {
    "duration": 296,
    "start_time": "2022-02-03T10:42:28.202Z"
   },
   {
    "duration": 6,
    "start_time": "2022-02-03T10:42:28.501Z"
   },
   {
    "duration": 2700,
    "start_time": "2022-02-03T10:42:28.509Z"
   },
   {
    "duration": 2796,
    "start_time": "2022-02-03T10:42:31.212Z"
   },
   {
    "duration": 7,
    "start_time": "2022-02-03T10:42:34.011Z"
   },
   {
    "duration": 6,
    "start_time": "2022-02-03T10:42:34.021Z"
   },
   {
    "duration": 243,
    "start_time": "2022-02-03T10:43:56.882Z"
   },
   {
    "duration": 5,
    "start_time": "2022-02-03T10:44:21.922Z"
   },
   {
    "duration": 6,
    "start_time": "2022-02-03T10:44:49.474Z"
   },
   {
    "duration": 5,
    "start_time": "2022-02-03T10:44:58.936Z"
   },
   {
    "duration": 5,
    "start_time": "2022-02-03T10:45:16.274Z"
   },
   {
    "duration": 5,
    "start_time": "2022-02-03T10:45:32.198Z"
   },
   {
    "duration": 5,
    "start_time": "2022-02-03T10:45:41.609Z"
   },
   {
    "duration": 10,
    "start_time": "2022-02-03T10:45:51.044Z"
   },
   {
    "duration": 5,
    "start_time": "2022-02-03T10:46:27.136Z"
   },
   {
    "duration": 5,
    "start_time": "2022-02-03T10:48:32.489Z"
   },
   {
    "duration": 5,
    "start_time": "2022-02-03T10:49:05.289Z"
   },
   {
    "duration": 63,
    "start_time": "2022-02-03T10:50:19.641Z"
   },
   {
    "duration": 246,
    "start_time": "2022-02-03T10:58:03.576Z"
   },
   {
    "duration": 5,
    "start_time": "2022-02-03T10:58:28.593Z"
   },
   {
    "duration": 2703,
    "start_time": "2022-02-03T10:58:31.176Z"
   },
   {
    "duration": 2754,
    "start_time": "2022-02-03T10:58:34.596Z"
   },
   {
    "duration": 18,
    "start_time": "2022-02-03T11:04:50.317Z"
   },
   {
    "duration": 19,
    "start_time": "2022-02-03T11:05:01.506Z"
   },
   {
    "duration": 5,
    "start_time": "2022-02-03T11:06:56.088Z"
   },
   {
    "duration": 737,
    "start_time": "2022-02-03T11:06:56.096Z"
   },
   {
    "duration": 18,
    "start_time": "2022-02-03T11:06:56.836Z"
   },
   {
    "duration": 294,
    "start_time": "2022-02-03T11:07:28.093Z"
   },
   {
    "duration": 1651,
    "start_time": "2022-02-03T11:07:33.661Z"
   },
   {
    "duration": 817,
    "start_time": "2022-02-03T11:07:35.315Z"
   },
   {
    "duration": 34,
    "start_time": "2022-02-03T11:07:36.135Z"
   },
   {
    "duration": 1541,
    "start_time": "2022-02-03T11:08:11.232Z"
   },
   {
    "duration": 760,
    "start_time": "2022-02-03T11:08:12.776Z"
   },
   {
    "duration": 29,
    "start_time": "2022-02-03T11:08:13.539Z"
   },
   {
    "duration": 1687,
    "start_time": "2022-02-03T11:08:30.049Z"
   },
   {
    "duration": 904,
    "start_time": "2022-02-03T11:08:31.739Z"
   },
   {
    "duration": 31,
    "start_time": "2022-02-03T11:08:32.649Z"
   },
   {
    "duration": 3,
    "start_time": "2022-02-03T11:08:32.684Z"
   },
   {
    "duration": 24,
    "start_time": "2022-02-03T11:08:32.690Z"
   },
   {
    "duration": 341,
    "start_time": "2022-02-03T11:08:32.717Z"
   },
   {
    "duration": 6,
    "start_time": "2022-02-03T11:08:33.061Z"
   },
   {
    "duration": 3104,
    "start_time": "2022-02-03T11:08:33.072Z"
   },
   {
    "duration": 4748,
    "start_time": "2022-02-03T11:08:36.179Z"
   },
   {
    "duration": 76,
    "start_time": "2022-02-03T11:08:40.930Z"
   },
   {
    "duration": 3,
    "start_time": "2022-02-03T11:08:41.009Z"
   },
   {
    "duration": 2715,
    "start_time": "2022-02-03T11:12:32.726Z"
   },
   {
    "duration": 435,
    "start_time": "2022-02-03T11:17:35.319Z"
   },
   {
    "duration": 1553,
    "start_time": "2022-02-03T11:17:40.417Z"
   },
   {
    "duration": 759,
    "start_time": "2022-02-03T11:17:41.973Z"
   },
   {
    "duration": 26,
    "start_time": "2022-02-03T11:17:42.735Z"
   },
   {
    "duration": 3,
    "start_time": "2022-02-03T11:17:42.764Z"
   },
   {
    "duration": 17,
    "start_time": "2022-02-03T11:17:42.770Z"
   },
   {
    "duration": 301,
    "start_time": "2022-02-03T11:17:42.789Z"
   },
   {
    "duration": 5,
    "start_time": "2022-02-03T11:17:43.092Z"
   },
   {
    "duration": 2654,
    "start_time": "2022-02-03T11:17:43.100Z"
   },
   {
    "duration": 4956,
    "start_time": "2022-02-03T11:17:45.757Z"
   },
   {
    "duration": 80,
    "start_time": "2022-02-03T11:17:50.715Z"
   },
   {
    "duration": 9,
    "start_time": "2022-02-03T11:17:50.797Z"
   },
   {
    "duration": 2746,
    "start_time": "2022-02-03T11:19:11.943Z"
   },
   {
    "duration": 13299,
    "start_time": "2022-02-03T11:20:54.769Z"
   },
   {
    "duration": 74,
    "start_time": "2022-02-03T11:24:45.338Z"
   },
   {
    "duration": 5,
    "start_time": "2022-02-03T11:27:35.685Z"
   },
   {
    "duration": 9257,
    "start_time": "2022-02-03T11:29:47.159Z"
   },
   {
    "duration": 338,
    "start_time": "2022-02-03T11:29:59.568Z"
   },
   {
    "duration": 27,
    "start_time": "2022-02-03T11:30:07.861Z"
   },
   {
    "duration": 26,
    "start_time": "2022-02-03T11:30:22.697Z"
   },
   {
    "duration": 127541,
    "start_time": "2022-02-03T11:32:03.358Z"
   },
   {
    "duration": 30204,
    "start_time": "2022-02-03T11:34:13.192Z"
   },
   {
    "duration": -580,
    "start_time": "2022-02-03T11:34:43.982Z"
   },
   {
    "duration": -528,
    "start_time": "2022-02-03T11:44:01.087Z"
   },
   {
    "duration": -532,
    "start_time": "2022-02-03T11:44:01.092Z"
   },
   {
    "duration": -533,
    "start_time": "2022-02-03T11:44:01.095Z"
   },
   {
    "duration": -535,
    "start_time": "2022-02-03T11:44:01.098Z"
   },
   {
    "duration": 338,
    "start_time": "2022-02-03T13:25:07.202Z"
   },
   {
    "duration": 1483,
    "start_time": "2022-02-03T13:31:59.702Z"
   },
   {
    "duration": 349,
    "start_time": "2022-02-03T13:32:07.171Z"
   },
   {
    "duration": 5,
    "start_time": "2022-02-03T13:42:59.141Z"
   },
   {
    "duration": 727,
    "start_time": "2022-02-03T13:42:59.149Z"
   },
   {
    "duration": 23,
    "start_time": "2022-02-03T13:42:59.881Z"
   },
   {
    "duration": 4,
    "start_time": "2022-02-03T13:42:59.908Z"
   },
   {
    "duration": 47,
    "start_time": "2022-02-03T13:42:59.915Z"
   },
   {
    "duration": 284,
    "start_time": "2022-02-03T13:42:59.964Z"
   },
   {
    "duration": 4,
    "start_time": "2022-02-03T13:43:00.251Z"
   },
   {
    "duration": 3090,
    "start_time": "2022-02-03T13:43:00.258Z"
   },
   {
    "duration": 5116,
    "start_time": "2022-02-03T13:43:03.352Z"
   },
   {
    "duration": 86,
    "start_time": "2022-02-03T13:43:08.471Z"
   },
   {
    "duration": 2820,
    "start_time": "2022-02-03T13:43:08.559Z"
   },
   {
    "duration": 13317,
    "start_time": "2022-02-03T13:43:11.381Z"
   },
   {
    "duration": 85,
    "start_time": "2022-02-03T13:43:24.700Z"
   },
   {
    "duration": 13727,
    "start_time": "2022-02-03T13:43:24.788Z"
   },
   {
    "duration": 41,
    "start_time": "2022-02-03T13:43:38.517Z"
   },
   {
    "duration": 733,
    "start_time": "2022-02-03T13:43:38.561Z"
   },
   {
    "duration": 26,
    "start_time": "2022-02-03T13:43:39.296Z"
   },
   {
    "duration": 626996,
    "start_time": "2022-02-03T13:43:39.325Z"
   },
   {
    "duration": 256,
    "start_time": "2022-02-03T13:54:06.324Z"
   },
   {
    "duration": 49,
    "start_time": "2022-02-03T13:54:24.549Z"
   },
   {
    "duration": 5,
    "start_time": "2022-02-03T13:59:29.045Z"
   },
   {
    "duration": 709,
    "start_time": "2022-02-03T13:59:29.053Z"
   },
   {
    "duration": 15,
    "start_time": "2022-02-03T13:59:29.766Z"
   },
   {
    "duration": 14,
    "start_time": "2022-02-03T13:59:29.785Z"
   },
   {
    "duration": 295,
    "start_time": "2022-02-03T13:59:29.801Z"
   },
   {
    "duration": 5,
    "start_time": "2022-02-03T13:59:30.098Z"
   },
   {
    "duration": 2800,
    "start_time": "2022-02-03T13:59:30.106Z"
   },
   {
    "duration": 2779,
    "start_time": "2022-02-03T13:59:32.909Z"
   },
   {
    "duration": 66,
    "start_time": "2022-02-03T13:59:35.692Z"
   },
   {
    "duration": 62,
    "start_time": "2022-02-03T13:59:35.760Z"
   },
   {
    "duration": 296,
    "start_time": "2022-02-03T13:59:46.964Z"
   },
   {
    "duration": 1418,
    "start_time": "2022-02-03T13:59:52.762Z"
   },
   {
    "duration": 758,
    "start_time": "2022-02-03T13:59:54.182Z"
   },
   {
    "duration": 29,
    "start_time": "2022-02-03T13:59:54.943Z"
   },
   {
    "duration": 21,
    "start_time": "2022-02-03T13:59:54.975Z"
   },
   {
    "duration": 293,
    "start_time": "2022-02-03T13:59:54.999Z"
   },
   {
    "duration": 4,
    "start_time": "2022-02-03T13:59:55.295Z"
   },
   {
    "duration": 2734,
    "start_time": "2022-02-03T13:59:55.302Z"
   },
   {
    "duration": 4749,
    "start_time": "2022-02-03T13:59:58.040Z"
   },
   {
    "duration": 97,
    "start_time": "2022-02-03T14:00:02.793Z"
   },
   {
    "duration": 63,
    "start_time": "2022-02-03T14:00:02.892Z"
   },
   {
    "duration": 2955,
    "start_time": "2022-02-03T14:00:02.957Z"
   },
   {
    "duration": 37,
    "start_time": "2022-02-03T14:00:05.915Z"
   },
   {
    "duration": 34,
    "start_time": "2022-02-03T14:00:05.954Z"
   },
   {
    "duration": 9786,
    "start_time": "2022-02-03T14:00:05.991Z"
   },
   {
    "duration": 9683,
    "start_time": "2022-02-03T14:00:15.780Z"
   },
   {
    "duration": 13647,
    "start_time": "2022-02-03T14:00:25.466Z"
   },
   {
    "duration": 395,
    "start_time": "2022-02-03T14:00:39.115Z"
   },
   {
    "duration": -1083,
    "start_time": "2022-02-03T14:00:40.596Z"
   },
   {
    "duration": -1087,
    "start_time": "2022-02-03T14:00:40.601Z"
   },
   {
    "duration": -1089,
    "start_time": "2022-02-03T14:00:40.605Z"
   },
   {
    "duration": -1092,
    "start_time": "2022-02-03T14:00:40.609Z"
   },
   {
    "duration": 3136,
    "start_time": "2022-02-03T14:02:02.722Z"
   },
   {
    "duration": 24,
    "start_time": "2022-02-03T14:02:17.021Z"
   },
   {
    "duration": 653,
    "start_time": "2022-02-03T14:02:20.029Z"
   },
   {
    "duration": 23,
    "start_time": "2022-02-03T14:02:21.960Z"
   },
   {
    "duration": 508037,
    "start_time": "2022-02-03T14:02:25.076Z"
   },
   {
    "duration": 207,
    "start_time": "2022-02-03T14:10:53.116Z"
   },
   {
    "duration": 1282,
    "start_time": "2022-02-03T20:02:33.159Z"
   },
   {
    "duration": 684,
    "start_time": "2022-02-03T20:02:41.161Z"
   },
   {
    "duration": 18,
    "start_time": "2022-02-03T20:02:42.704Z"
   },
   {
    "duration": 14,
    "start_time": "2022-02-03T20:02:44.492Z"
   },
   {
    "duration": 227,
    "start_time": "2022-02-03T20:02:45.225Z"
   },
   {
    "duration": 4,
    "start_time": "2022-02-03T20:02:48.925Z"
   },
   {
    "duration": 2222,
    "start_time": "2022-02-03T20:02:49.571Z"
   },
   {
    "duration": 3556,
    "start_time": "2022-02-03T20:02:51.796Z"
   },
   {
    "duration": 66,
    "start_time": "2022-02-03T20:02:55.354Z"
   },
   {
    "duration": 52,
    "start_time": "2022-02-03T20:02:55.422Z"
   },
   {
    "duration": 2275,
    "start_time": "2022-02-03T20:02:55.476Z"
   },
   {
    "duration": 4,
    "start_time": "2022-02-03T20:03:02.275Z"
   },
   {
    "duration": 15,
    "start_time": "2022-02-03T20:03:03.537Z"
   },
   {
    "duration": 7332,
    "start_time": "2022-02-03T20:03:04.626Z"
   },
   {
    "duration": 2415,
    "start_time": "2022-02-03T20:03:13.762Z"
   },
   {
    "duration": 3,
    "start_time": "2022-02-03T20:03:22.819Z"
   },
   {
    "duration": 335,
    "start_time": "2022-02-03T20:03:23.769Z"
   },
   {
    "duration": 3,
    "start_time": "2022-02-03T20:09:33.943Z"
   },
   {
    "duration": 3,
    "start_time": "2022-02-03T20:09:35.853Z"
   },
   {
    "duration": 3,
    "start_time": "2022-02-03T20:09:37.325Z"
   },
   {
    "duration": 4,
    "start_time": "2022-02-03T20:09:38.116Z"
   },
   {
    "duration": 3,
    "start_time": "2022-02-03T20:09:38.806Z"
   },
   {
    "duration": 178939,
    "start_time": "2022-02-03T20:09:39.651Z"
   },
   {
    "duration": 73,
    "start_time": "2022-02-03T20:13:10.295Z"
   },
   {
    "duration": 138,
    "start_time": "2022-02-03T20:17:29.302Z"
   },
   {
    "duration": 3,
    "start_time": "2022-02-03T20:20:54.232Z"
   },
   {
    "duration": 4,
    "start_time": "2022-02-03T20:20:54.833Z"
   },
   {
    "duration": 3,
    "start_time": "2022-02-03T20:20:55.359Z"
   },
   {
    "duration": 4,
    "start_time": "2022-02-03T20:20:55.851Z"
   },
   {
    "duration": 3,
    "start_time": "2022-02-03T20:20:56.327Z"
   },
   {
    "duration": 284,
    "start_time": "2022-02-03T20:20:57.377Z"
   },
   {
    "duration": 21,
    "start_time": "2022-02-03T20:22:58.681Z"
   },
   {
    "duration": 3,
    "start_time": "2022-02-03T20:25:42.380Z"
   },
   {
    "duration": 3,
    "start_time": "2022-02-03T20:25:48.076Z"
   },
   {
    "duration": 3,
    "start_time": "2022-02-03T20:25:48.752Z"
   },
   {
    "duration": 3,
    "start_time": "2022-02-03T20:25:49.512Z"
   },
   {
    "duration": 3,
    "start_time": "2022-02-03T20:25:50.542Z"
   },
   {
    "duration": 496415,
    "start_time": "2022-02-03T20:25:52.328Z"
   },
   {
    "duration": 2105,
    "start_time": "2022-02-03T20:34:08.746Z"
   },
   {
    "duration": 3,
    "start_time": "2022-02-03T20:34:25.583Z"
   },
   {
    "duration": 3,
    "start_time": "2022-02-03T20:34:26.363Z"
   },
   {
    "duration": 3,
    "start_time": "2022-02-03T20:34:27.009Z"
   },
   {
    "duration": 4,
    "start_time": "2022-02-03T20:34:27.792Z"
   },
   {
    "duration": 418771,
    "start_time": "2022-02-03T20:34:35.118Z"
   },
   {
    "duration": 1904,
    "start_time": "2022-02-03T20:41:33.891Z"
   },
   {
    "duration": 1328,
    "start_time": "2022-02-20T09:36:51.151Z"
   },
   {
    "duration": 709,
    "start_time": "2022-02-20T09:36:52.482Z"
   },
   {
    "duration": 18,
    "start_time": "2022-02-20T09:36:53.193Z"
   },
   {
    "duration": 18,
    "start_time": "2022-02-20T09:36:53.213Z"
   },
   {
    "duration": 241,
    "start_time": "2022-02-20T09:36:53.233Z"
   },
   {
    "duration": 4,
    "start_time": "2022-02-20T09:36:53.476Z"
   },
   {
    "duration": 2206,
    "start_time": "2022-02-20T09:36:53.481Z"
   },
   {
    "duration": 3265,
    "start_time": "2022-02-20T09:36:55.689Z"
   },
   {
    "duration": 65,
    "start_time": "2022-02-20T09:36:58.958Z"
   },
   {
    "duration": 58,
    "start_time": "2022-02-20T09:36:59.025Z"
   },
   {
    "duration": 2,
    "start_time": "2022-02-20T09:36:59.085Z"
   },
   {
    "duration": 19,
    "start_time": "2022-02-20T09:36:59.089Z"
   },
   {
    "duration": 18,
    "start_time": "2022-02-20T09:36:59.110Z"
   },
   {
    "duration": 5909,
    "start_time": "2022-02-20T09:36:59.129Z"
   },
   {
    "duration": 1911,
    "start_time": "2022-02-20T09:37:05.041Z"
   },
   {
    "duration": 11973,
    "start_time": "2022-02-20T09:37:06.954Z"
   },
   {
    "duration": 42,
    "start_time": "2022-02-20T09:37:18.929Z"
   },
   {
    "duration": 650,
    "start_time": "2022-02-20T09:37:18.973Z"
   },
   {
    "duration": 25,
    "start_time": "2022-02-20T09:37:19.625Z"
   },
   {
    "duration": -787,
    "start_time": "2022-02-20T09:44:28.456Z"
   },
   {
    "duration": -792,
    "start_time": "2022-02-20T09:44:28.462Z"
   },
   {
    "duration": -800,
    "start_time": "2022-02-20T09:44:28.471Z"
   },
   {
    "duration": -804,
    "start_time": "2022-02-20T09:44:28.476Z"
   },
   {
    "duration": -812,
    "start_time": "2022-02-20T09:44:28.485Z"
   },
   {
    "duration": -809,
    "start_time": "2022-02-20T09:44:28.490Z"
   },
   {
    "duration": -811,
    "start_time": "2022-02-20T09:44:28.493Z"
   },
   {
    "duration": -812,
    "start_time": "2022-02-20T09:44:28.495Z"
   },
   {
    "duration": -812,
    "start_time": "2022-02-20T09:44:28.497Z"
   },
   {
    "duration": 1293,
    "start_time": "2022-02-20T09:50:42.934Z"
   },
   {
    "duration": 709,
    "start_time": "2022-02-20T09:50:44.229Z"
   },
   {
    "duration": 18,
    "start_time": "2022-02-20T09:50:44.940Z"
   },
   {
    "duration": 8,
    "start_time": "2022-02-20T09:50:44.970Z"
   },
   {
    "duration": 243,
    "start_time": "2022-02-20T09:50:44.980Z"
   },
   {
    "duration": 3,
    "start_time": "2022-02-20T09:50:45.225Z"
   },
   {
    "duration": 2190,
    "start_time": "2022-02-20T09:50:45.230Z"
   },
   {
    "duration": 3200,
    "start_time": "2022-02-20T09:50:47.422Z"
   },
   {
    "duration": 57,
    "start_time": "2022-02-20T09:50:50.625Z"
   },
   {
    "duration": 47,
    "start_time": "2022-02-20T09:50:50.684Z"
   },
   {
    "duration": 2,
    "start_time": "2022-02-20T09:50:50.733Z"
   },
   {
    "duration": 9,
    "start_time": "2022-02-20T09:50:50.737Z"
   },
   {
    "duration": 6,
    "start_time": "2022-02-20T09:50:50.748Z"
   },
   {
    "duration": 5877,
    "start_time": "2022-02-20T09:50:50.756Z"
   },
   {
    "duration": 1899,
    "start_time": "2022-02-20T09:50:56.635Z"
   },
   {
    "duration": 11992,
    "start_time": "2022-02-20T09:50:58.536Z"
   },
   {
    "duration": 40,
    "start_time": "2022-02-20T09:51:10.529Z"
   },
   {
    "duration": 627,
    "start_time": "2022-02-20T09:51:10.571Z"
   },
   {
    "duration": 24,
    "start_time": "2022-02-20T09:51:11.200Z"
   },
   {
    "duration": 741,
    "start_time": "2022-02-20T09:56:21.950Z"
   },
   {
    "duration": 311,
    "start_time": "2022-02-20T09:56:24.669Z"
   },
   {
    "duration": 575,
    "start_time": "2022-02-20T09:56:31.399Z"
   },
   {
    "duration": 726,
    "start_time": "2022-02-20T09:56:32.389Z"
   },
   {
    "duration": 18,
    "start_time": "2022-02-20T09:56:33.184Z"
   },
   {
    "duration": 9,
    "start_time": "2022-02-20T09:56:34.459Z"
   },
   {
    "duration": 237,
    "start_time": "2022-02-20T09:56:34.886Z"
   },
   {
    "duration": 4,
    "start_time": "2022-02-20T09:56:35.719Z"
   },
   {
    "duration": 2179,
    "start_time": "2022-02-20T09:56:36.188Z"
   },
   {
    "duration": 3191,
    "start_time": "2022-02-20T09:56:38.369Z"
   },
   {
    "duration": 61,
    "start_time": "2022-02-20T09:56:41.562Z"
   },
   {
    "duration": 62,
    "start_time": "2022-02-20T09:56:41.625Z"
   },
   {
    "duration": 3,
    "start_time": "2022-02-20T09:56:41.689Z"
   },
   {
    "duration": 8,
    "start_time": "2022-02-20T09:56:41.694Z"
   },
   {
    "duration": 6,
    "start_time": "2022-02-20T09:56:41.704Z"
   },
   {
    "duration": 5703,
    "start_time": "2022-02-20T09:56:43.557Z"
   },
   {
    "duration": 1948,
    "start_time": "2022-02-20T09:56:49.261Z"
   },
   {
    "duration": 12018,
    "start_time": "2022-02-20T09:56:51.211Z"
   },
   {
    "duration": 38,
    "start_time": "2022-02-20T09:57:03.232Z"
   },
   {
    "duration": 726,
    "start_time": "2022-02-20T09:57:03.272Z"
   },
   {
    "duration": 2,
    "start_time": "2022-02-20T09:57:04.001Z"
   },
   {
    "duration": 4,
    "start_time": "2022-02-20T09:57:05.989Z"
   },
   {
    "duration": 3,
    "start_time": "2022-02-20T09:57:08.650Z"
   },
   {
    "duration": 4,
    "start_time": "2022-02-20T09:57:09.474Z"
   },
   {
    "duration": 3,
    "start_time": "2022-02-20T09:57:11.747Z"
   },
   {
    "duration": 1983,
    "start_time": "2022-02-20T10:04:26.350Z"
   },
   {
    "duration": 63053,
    "start_time": "2022-02-20T10:04:28.335Z"
   },
   {
    "duration": -889,
    "start_time": "2022-02-20T10:05:32.279Z"
   },
   {
    "duration": 3,
    "start_time": "2022-02-20T10:05:37.405Z"
   },
   {
    "duration": 3,
    "start_time": "2022-02-20T10:05:39.035Z"
   },
   {
    "duration": 4,
    "start_time": "2022-02-20T10:05:39.573Z"
   },
   {
    "duration": 3,
    "start_time": "2022-02-20T10:05:40.472Z"
   },
   {
    "duration": 1265,
    "start_time": "2022-02-20T10:12:18.411Z"
   },
   {
    "duration": 724,
    "start_time": "2022-02-20T10:12:19.679Z"
   },
   {
    "duration": 19,
    "start_time": "2022-02-20T10:12:20.406Z"
   },
   {
    "duration": 14,
    "start_time": "2022-02-20T10:12:20.427Z"
   },
   {
    "duration": 264,
    "start_time": "2022-02-20T10:12:20.443Z"
   },
   {
    "duration": 4,
    "start_time": "2022-02-20T10:12:20.709Z"
   },
   {
    "duration": 2254,
    "start_time": "2022-02-20T10:12:20.715Z"
   },
   {
    "duration": 3292,
    "start_time": "2022-02-20T10:12:22.972Z"
   },
   {
    "duration": 57,
    "start_time": "2022-02-20T10:12:26.266Z"
   },
   {
    "duration": 65,
    "start_time": "2022-02-20T10:12:26.325Z"
   },
   {
    "duration": 4,
    "start_time": "2022-02-20T10:12:26.392Z"
   },
   {
    "duration": 11,
    "start_time": "2022-02-20T10:12:26.398Z"
   },
   {
    "duration": 8,
    "start_time": "2022-02-20T10:12:26.410Z"
   },
   {
    "duration": 5697,
    "start_time": "2022-02-20T10:12:26.420Z"
   },
   {
    "duration": 1826,
    "start_time": "2022-02-20T10:12:32.119Z"
   },
   {
    "duration": 13572,
    "start_time": "2022-02-20T10:12:33.946Z"
   },
   {
    "duration": 23,
    "start_time": "2022-02-20T10:12:47.520Z"
   },
   {
    "duration": 695,
    "start_time": "2022-02-20T10:12:47.544Z"
   },
   {
    "duration": 23,
    "start_time": "2022-02-20T10:12:48.241Z"
   },
   {
    "duration": 378554,
    "start_time": "2022-02-20T10:12:48.269Z"
   },
   {
    "duration": 166,
    "start_time": "2022-02-20T10:19:06.825Z"
   },
   {
    "duration": 3,
    "start_time": "2022-02-20T10:19:06.993Z"
   },
   {
    "duration": 13,
    "start_time": "2022-02-20T10:19:06.999Z"
   },
   {
    "duration": 14,
    "start_time": "2022-02-20T10:19:07.014Z"
   },
   {
    "duration": 11,
    "start_time": "2022-02-20T10:19:07.030Z"
   },
   {
    "duration": 6,
    "start_time": "2022-02-20T10:19:07.043Z"
   },
   {
    "duration": 434422,
    "start_time": "2022-02-20T10:19:07.051Z"
   },
   {
    "duration": 1861,
    "start_time": "2022-02-20T10:26:21.475Z"
   }
  ],
  "kernelspec": {
   "display_name": "Python 3",
   "language": "python",
   "name": "python3"
  },
  "language_info": {
   "codemirror_mode": {
    "name": "ipython",
    "version": 3
   },
   "file_extension": ".py",
   "mimetype": "text/x-python",
   "name": "python",
   "nbconvert_exporter": "python",
   "pygments_lexer": "ipython3",
   "version": "3.7.8"
  },
  "toc": {
   "base_numbering": 1,
   "nav_menu": {},
   "number_sections": true,
   "sideBar": true,
   "skip_h1_title": true,
   "title_cell": "Содержание",
   "title_sidebar": "Contents",
   "toc_cell": true,
   "toc_position": {
    "height": "calc(100% - 180px)",
    "left": "10px",
    "top": "150px",
    "width": "302.391px"
   },
   "toc_section_display": true,
   "toc_window_display": false
  }
 },
 "nbformat": 4,
 "nbformat_minor": 2
}
