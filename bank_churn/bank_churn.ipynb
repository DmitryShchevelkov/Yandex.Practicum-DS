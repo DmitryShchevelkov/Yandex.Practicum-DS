{
 "cells": [
  {
   "cell_type": "markdown",
   "metadata": {
    "toc": true
   },
   "source": [
    "<h1>Содержание<span class=\"tocSkip\"></span></h1>\n",
    "<div class=\"toc\"><ul class=\"toc-item\"><li><ul class=\"toc-item\"><li><span><a href=\"#Общее-впечатление\" data-toc-modified-id=\"Общее-впечатление-0.1\"><span class=\"toc-item-num\">0.1&nbsp;&nbsp;</span><font color=\"orange\">Общее впечатление</font></a></span></li><li><span><a href=\"#Общее-впечатление-(ревью-2)\" data-toc-modified-id=\"Общее-впечатление-(ревью-2)-0.2\"><span class=\"toc-item-num\">0.2&nbsp;&nbsp;</span><font color=\"orange\">Общее впечатление (ревью 2)</font></a></span></li></ul></li><li><span><a href=\"#Подготовка-данных\" data-toc-modified-id=\"Подготовка-данных-1\"><span class=\"toc-item-num\">1&nbsp;&nbsp;</span>Подготовка данных</a></span></li><li><span><a href=\"#Исследование-задачи\" data-toc-modified-id=\"Исследование-задачи-2\"><span class=\"toc-item-num\">2&nbsp;&nbsp;</span>Исследование задачи</a></span></li><li><span><a href=\"#Борьба-с-дисбалансом\" data-toc-modified-id=\"Борьба-с-дисбалансом-3\"><span class=\"toc-item-num\">3&nbsp;&nbsp;</span>Борьба с дисбалансом</a></span><ul class=\"toc-item\"><li><span><a href=\"#Аргумент-class_weight\" data-toc-modified-id=\"Аргумент-class_weight-3.1\"><span class=\"toc-item-num\">3.1&nbsp;&nbsp;</span>Аргумент class_weight</a></span></li><li><span><a href=\"#Техника-upsampling\" data-toc-modified-id=\"Техника-upsampling-3.2\"><span class=\"toc-item-num\">3.2&nbsp;&nbsp;</span>Техника upsampling</a></span></li><li><span><a href=\"#Техника-downsampling\" data-toc-modified-id=\"Техника-downsampling-3.3\"><span class=\"toc-item-num\">3.3&nbsp;&nbsp;</span>Техника downsampling</a></span></li><li><span><a href=\"#Выбор-лучшей-модели\" data-toc-modified-id=\"Выбор-лучшей-модели-3.4\"><span class=\"toc-item-num\">3.4&nbsp;&nbsp;</span>Выбор лучшей модели</a></span></li></ul></li><li><span><a href=\"#Тестирование-модели\" data-toc-modified-id=\"Тестирование-модели-4\"><span class=\"toc-item-num\">4&nbsp;&nbsp;</span>Тестирование модели</a></span></li><li><span><a href=\"#Чек-лист-готовности-проекта\" data-toc-modified-id=\"Чек-лист-готовности-проекта-5\"><span class=\"toc-item-num\">5&nbsp;&nbsp;</span>Чек-лист готовности проекта</a></span></li><li><span><a href=\"#Вывод\" data-toc-modified-id=\"Вывод-6\"><span class=\"toc-item-num\">6&nbsp;&nbsp;</span>Вывод</a></span></li></ul></div>"
   ]
  },
  {
   "cell_type": "markdown",
   "metadata": {},
   "source": [
    "# Отток клиентов"
   ]
  },
  {
   "cell_type": "markdown",
   "metadata": {},
   "source": [
    "Из «Бета-Банка» стали уходить клиенты. Каждый месяц. Немного, но заметно. Банковские маркетологи посчитали: сохранять текущих клиентов дешевле, чем привлекать новых.\n",
    "\n",
    "Нужно спрогнозировать, уйдёт клиент из банка в ближайшее время или нет. Вам предоставлены исторические данные о поведении клиентов и расторжении договоров с банком. \n",
    "\n",
    "Постройте модель с предельно большим значением *F1*-меры. Чтобы сдать проект успешно, нужно довести метрику до 0.59. Проверьте *F1*-меру на тестовой выборке самостоятельно.\n",
    "\n",
    "Дополнительно измеряйте *AUC-ROC*, сравнивайте её значение с *F1*-мерой.\n",
    "\n",
    "Источник данных: [https://www.kaggle.com/barelydedicated/bank-customer-churn-modeling](https://www.kaggle.com/barelydedicated/bank-customer-churn-modeling)"
   ]
  },
  {
   "cell_type": "markdown",
   "metadata": {},
   "source": [
    "## Подготовка данных"
   ]
  },
  {
   "cell_type": "code",
   "execution_count": 1,
   "metadata": {},
   "outputs": [],
   "source": [
    "import pandas as pd\n",
    "from sklearn.model_selection import train_test_split\n",
    "from sklearn.linear_model import LogisticRegression\n",
    "from sklearn.ensemble import RandomForestClassifier\n",
    "from sklearn.tree import DecisionTreeClassifier\n",
    "from sklearn.metrics import f1_score\n",
    "from sklearn.utils import shuffle\n",
    "from sklearn.metrics import roc_auc_score\n",
    "import matplotlib.pyplot as plt\n",
    "from sklearn.metrics import roc_curve\n",
    "df = pd.read_csv('/datasets/Churn.csv')\n"
   ]
  },
  {
   "cell_type": "markdown",
   "metadata": {},
   "source": [
    "Загрузим данные и посмотрим на таблицу."
   ]
  },
  {
   "cell_type": "code",
   "execution_count": 2,
   "metadata": {},
   "outputs": [
    {
     "data": {
      "text/html": [
       "<div>\n",
       "<style scoped>\n",
       "    .dataframe tbody tr th:only-of-type {\n",
       "        vertical-align: middle;\n",
       "    }\n",
       "\n",
       "    .dataframe tbody tr th {\n",
       "        vertical-align: top;\n",
       "    }\n",
       "\n",
       "    .dataframe thead th {\n",
       "        text-align: right;\n",
       "    }\n",
       "</style>\n",
       "<table border=\"1\" class=\"dataframe\">\n",
       "  <thead>\n",
       "    <tr style=\"text-align: right;\">\n",
       "      <th></th>\n",
       "      <th>RowNumber</th>\n",
       "      <th>CustomerId</th>\n",
       "      <th>Surname</th>\n",
       "      <th>CreditScore</th>\n",
       "      <th>Geography</th>\n",
       "      <th>Gender</th>\n",
       "      <th>Age</th>\n",
       "      <th>Tenure</th>\n",
       "      <th>Balance</th>\n",
       "      <th>NumOfProducts</th>\n",
       "      <th>HasCrCard</th>\n",
       "      <th>IsActiveMember</th>\n",
       "      <th>EstimatedSalary</th>\n",
       "      <th>Exited</th>\n",
       "    </tr>\n",
       "  </thead>\n",
       "  <tbody>\n",
       "    <tr>\n",
       "      <td>0</td>\n",
       "      <td>1</td>\n",
       "      <td>15634602</td>\n",
       "      <td>Hargrave</td>\n",
       "      <td>619</td>\n",
       "      <td>France</td>\n",
       "      <td>Female</td>\n",
       "      <td>42</td>\n",
       "      <td>2.0</td>\n",
       "      <td>0.00</td>\n",
       "      <td>1</td>\n",
       "      <td>1</td>\n",
       "      <td>1</td>\n",
       "      <td>101348.88</td>\n",
       "      <td>1</td>\n",
       "    </tr>\n",
       "    <tr>\n",
       "      <td>1</td>\n",
       "      <td>2</td>\n",
       "      <td>15647311</td>\n",
       "      <td>Hill</td>\n",
       "      <td>608</td>\n",
       "      <td>Spain</td>\n",
       "      <td>Female</td>\n",
       "      <td>41</td>\n",
       "      <td>1.0</td>\n",
       "      <td>83807.86</td>\n",
       "      <td>1</td>\n",
       "      <td>0</td>\n",
       "      <td>1</td>\n",
       "      <td>112542.58</td>\n",
       "      <td>0</td>\n",
       "    </tr>\n",
       "    <tr>\n",
       "      <td>2</td>\n",
       "      <td>3</td>\n",
       "      <td>15619304</td>\n",
       "      <td>Onio</td>\n",
       "      <td>502</td>\n",
       "      <td>France</td>\n",
       "      <td>Female</td>\n",
       "      <td>42</td>\n",
       "      <td>8.0</td>\n",
       "      <td>159660.80</td>\n",
       "      <td>3</td>\n",
       "      <td>1</td>\n",
       "      <td>0</td>\n",
       "      <td>113931.57</td>\n",
       "      <td>1</td>\n",
       "    </tr>\n",
       "    <tr>\n",
       "      <td>3</td>\n",
       "      <td>4</td>\n",
       "      <td>15701354</td>\n",
       "      <td>Boni</td>\n",
       "      <td>699</td>\n",
       "      <td>France</td>\n",
       "      <td>Female</td>\n",
       "      <td>39</td>\n",
       "      <td>1.0</td>\n",
       "      <td>0.00</td>\n",
       "      <td>2</td>\n",
       "      <td>0</td>\n",
       "      <td>0</td>\n",
       "      <td>93826.63</td>\n",
       "      <td>0</td>\n",
       "    </tr>\n",
       "    <tr>\n",
       "      <td>4</td>\n",
       "      <td>5</td>\n",
       "      <td>15737888</td>\n",
       "      <td>Mitchell</td>\n",
       "      <td>850</td>\n",
       "      <td>Spain</td>\n",
       "      <td>Female</td>\n",
       "      <td>43</td>\n",
       "      <td>2.0</td>\n",
       "      <td>125510.82</td>\n",
       "      <td>1</td>\n",
       "      <td>1</td>\n",
       "      <td>1</td>\n",
       "      <td>79084.10</td>\n",
       "      <td>0</td>\n",
       "    </tr>\n",
       "    <tr>\n",
       "      <td>5</td>\n",
       "      <td>6</td>\n",
       "      <td>15574012</td>\n",
       "      <td>Chu</td>\n",
       "      <td>645</td>\n",
       "      <td>Spain</td>\n",
       "      <td>Male</td>\n",
       "      <td>44</td>\n",
       "      <td>8.0</td>\n",
       "      <td>113755.78</td>\n",
       "      <td>2</td>\n",
       "      <td>1</td>\n",
       "      <td>0</td>\n",
       "      <td>149756.71</td>\n",
       "      <td>1</td>\n",
       "    </tr>\n",
       "    <tr>\n",
       "      <td>6</td>\n",
       "      <td>7</td>\n",
       "      <td>15592531</td>\n",
       "      <td>Bartlett</td>\n",
       "      <td>822</td>\n",
       "      <td>France</td>\n",
       "      <td>Male</td>\n",
       "      <td>50</td>\n",
       "      <td>7.0</td>\n",
       "      <td>0.00</td>\n",
       "      <td>2</td>\n",
       "      <td>1</td>\n",
       "      <td>1</td>\n",
       "      <td>10062.80</td>\n",
       "      <td>0</td>\n",
       "    </tr>\n",
       "    <tr>\n",
       "      <td>7</td>\n",
       "      <td>8</td>\n",
       "      <td>15656148</td>\n",
       "      <td>Obinna</td>\n",
       "      <td>376</td>\n",
       "      <td>Germany</td>\n",
       "      <td>Female</td>\n",
       "      <td>29</td>\n",
       "      <td>4.0</td>\n",
       "      <td>115046.74</td>\n",
       "      <td>4</td>\n",
       "      <td>1</td>\n",
       "      <td>0</td>\n",
       "      <td>119346.88</td>\n",
       "      <td>1</td>\n",
       "    </tr>\n",
       "    <tr>\n",
       "      <td>8</td>\n",
       "      <td>9</td>\n",
       "      <td>15792365</td>\n",
       "      <td>He</td>\n",
       "      <td>501</td>\n",
       "      <td>France</td>\n",
       "      <td>Male</td>\n",
       "      <td>44</td>\n",
       "      <td>4.0</td>\n",
       "      <td>142051.07</td>\n",
       "      <td>2</td>\n",
       "      <td>0</td>\n",
       "      <td>1</td>\n",
       "      <td>74940.50</td>\n",
       "      <td>0</td>\n",
       "    </tr>\n",
       "    <tr>\n",
       "      <td>9</td>\n",
       "      <td>10</td>\n",
       "      <td>15592389</td>\n",
       "      <td>H?</td>\n",
       "      <td>684</td>\n",
       "      <td>France</td>\n",
       "      <td>Male</td>\n",
       "      <td>27</td>\n",
       "      <td>2.0</td>\n",
       "      <td>134603.88</td>\n",
       "      <td>1</td>\n",
       "      <td>1</td>\n",
       "      <td>1</td>\n",
       "      <td>71725.73</td>\n",
       "      <td>0</td>\n",
       "    </tr>\n",
       "  </tbody>\n",
       "</table>\n",
       "</div>"
      ],
      "text/plain": [
       "   RowNumber  CustomerId   Surname  CreditScore Geography  Gender  Age  \\\n",
       "0          1    15634602  Hargrave          619    France  Female   42   \n",
       "1          2    15647311      Hill          608     Spain  Female   41   \n",
       "2          3    15619304      Onio          502    France  Female   42   \n",
       "3          4    15701354      Boni          699    France  Female   39   \n",
       "4          5    15737888  Mitchell          850     Spain  Female   43   \n",
       "5          6    15574012       Chu          645     Spain    Male   44   \n",
       "6          7    15592531  Bartlett          822    France    Male   50   \n",
       "7          8    15656148    Obinna          376   Germany  Female   29   \n",
       "8          9    15792365        He          501    France    Male   44   \n",
       "9         10    15592389        H?          684    France    Male   27   \n",
       "\n",
       "   Tenure    Balance  NumOfProducts  HasCrCard  IsActiveMember  \\\n",
       "0     2.0       0.00              1          1               1   \n",
       "1     1.0   83807.86              1          0               1   \n",
       "2     8.0  159660.80              3          1               0   \n",
       "3     1.0       0.00              2          0               0   \n",
       "4     2.0  125510.82              1          1               1   \n",
       "5     8.0  113755.78              2          1               0   \n",
       "6     7.0       0.00              2          1               1   \n",
       "7     4.0  115046.74              4          1               0   \n",
       "8     4.0  142051.07              2          0               1   \n",
       "9     2.0  134603.88              1          1               1   \n",
       "\n",
       "   EstimatedSalary  Exited  \n",
       "0        101348.88       1  \n",
       "1        112542.58       0  \n",
       "2        113931.57       1  \n",
       "3         93826.63       0  \n",
       "4         79084.10       0  \n",
       "5        149756.71       1  \n",
       "6         10062.80       0  \n",
       "7        119346.88       1  \n",
       "8         74940.50       0  \n",
       "9         71725.73       0  "
      ]
     },
     "execution_count": 2,
     "metadata": {},
     "output_type": "execute_result"
    }
   ],
   "source": [
    "df.head(10)\n"
   ]
  },
  {
   "cell_type": "code",
   "execution_count": 3,
   "metadata": {},
   "outputs": [
    {
     "name": "stdout",
     "output_type": "stream",
     "text": [
      "<class 'pandas.core.frame.DataFrame'>\n",
      "RangeIndex: 10000 entries, 0 to 9999\n",
      "Data columns (total 14 columns):\n",
      "RowNumber          10000 non-null int64\n",
      "CustomerId         10000 non-null int64\n",
      "Surname            10000 non-null object\n",
      "CreditScore        10000 non-null int64\n",
      "Geography          10000 non-null object\n",
      "Gender             10000 non-null object\n",
      "Age                10000 non-null int64\n",
      "Tenure             9091 non-null float64\n",
      "Balance            10000 non-null float64\n",
      "NumOfProducts      10000 non-null int64\n",
      "HasCrCard          10000 non-null int64\n",
      "IsActiveMember     10000 non-null int64\n",
      "EstimatedSalary    10000 non-null float64\n",
      "Exited             10000 non-null int64\n",
      "dtypes: float64(3), int64(8), object(3)\n",
      "memory usage: 1.1+ MB\n"
     ]
    }
   ],
   "source": [
    "df.shape\n",
    "df.info()"
   ]
  },
  {
   "cell_type": "markdown",
   "metadata": {},
   "source": [
    "В столбце 'Tenure' (сколько лет человек является клиентом банка) почти 10% значений это NaN, их можно заменит медианой."
   ]
  },
  {
   "cell_type": "code",
   "execution_count": 4,
   "metadata": {},
   "outputs": [
    {
     "name": "stdout",
     "output_type": "stream",
     "text": [
      "<class 'pandas.core.frame.DataFrame'>\n",
      "RangeIndex: 10000 entries, 0 to 9999\n",
      "Data columns (total 14 columns):\n",
      "RowNumber          10000 non-null int64\n",
      "CustomerId         10000 non-null int64\n",
      "Surname            10000 non-null object\n",
      "CreditScore        10000 non-null int64\n",
      "Geography          10000 non-null object\n",
      "Gender             10000 non-null object\n",
      "Age                10000 non-null int64\n",
      "Tenure             10000 non-null float64\n",
      "Balance            10000 non-null float64\n",
      "NumOfProducts      10000 non-null int64\n",
      "HasCrCard          10000 non-null int64\n",
      "IsActiveMember     10000 non-null int64\n",
      "EstimatedSalary    10000 non-null float64\n",
      "Exited             10000 non-null int64\n",
      "dtypes: float64(3), int64(8), object(3)\n",
      "memory usage: 1.1+ MB\n"
     ]
    }
   ],
   "source": [
    "df['Tenure'] = df['Tenure'].fillna(df['Tenure'].median())\n",
    "df.info()"
   ]
  },
  {
   "cell_type": "markdown",
   "metadata": {},
   "source": [
    "Также имеются 3 столбца с данными типа object и 3 столбца с данными float.\n",
    "- 'Surname' (тип object) - не будем использовать как признак для обучения модели, так как фамилия не влияет на отток клиентов (как и ID клиента и \"технический\" столбец 'RowNumber');\n",
    "- 'Geography' (тип object) - поменяем категориальные данные на численные техникой прямого кодирования One-Hot Encoding;\n",
    "- 'Gender' (тип object) - поменяем категориальные данные на численные техникой прямого кодирования One-Hot Encoding;\n",
    "- 'Tenure' (тип float) - поменяем тип на int;\n",
    "- 'Balance' (тип float) - округлим и заменим тип на int;\n",
    "- 'EstimatedSalary' (тип float) - округлим и заменим тип на int."
   ]
  },
  {
   "cell_type": "code",
   "execution_count": 5,
   "metadata": {},
   "outputs": [
    {
     "name": "stdout",
     "output_type": "stream",
     "text": [
      "<class 'pandas.core.frame.DataFrame'>\n",
      "RangeIndex: 10000 entries, 0 to 9999\n",
      "Data columns (total 14 columns):\n",
      "RowNumber          10000 non-null int64\n",
      "CustomerId         10000 non-null int64\n",
      "Surname            10000 non-null object\n",
      "CreditScore        10000 non-null int64\n",
      "Geography          10000 non-null object\n",
      "Gender             10000 non-null object\n",
      "Age                10000 non-null int64\n",
      "Tenure             10000 non-null int64\n",
      "Balance            10000 non-null int64\n",
      "NumOfProducts      10000 non-null int64\n",
      "HasCrCard          10000 non-null int64\n",
      "IsActiveMember     10000 non-null int64\n",
      "EstimatedSalary    10000 non-null int64\n",
      "Exited             10000 non-null int64\n",
      "dtypes: int64(11), object(3)\n",
      "memory usage: 1.1+ MB\n"
     ]
    }
   ],
   "source": [
    "df['Tenure'] = df['Tenure'].astype(int)\n",
    "df['Balance'] = df['Balance'].round().astype(int)\n",
    "df['EstimatedSalary'] = df['EstimatedSalary'].round().astype(int)\n",
    "df.info()"
   ]
  },
  {
   "cell_type": "code",
   "execution_count": 6,
   "metadata": {},
   "outputs": [
    {
     "name": "stdout",
     "output_type": "stream",
     "text": [
      "<class 'pandas.core.frame.DataFrame'>\n",
      "RangeIndex: 10000 entries, 0 to 9999\n",
      "Data columns (total 15 columns):\n",
      "RowNumber            10000 non-null int64\n",
      "CustomerId           10000 non-null int64\n",
      "Surname              10000 non-null object\n",
      "CreditScore          10000 non-null int64\n",
      "Age                  10000 non-null int64\n",
      "Tenure               10000 non-null int64\n",
      "Balance              10000 non-null int64\n",
      "NumOfProducts        10000 non-null int64\n",
      "HasCrCard            10000 non-null int64\n",
      "IsActiveMember       10000 non-null int64\n",
      "EstimatedSalary      10000 non-null int64\n",
      "Exited               10000 non-null int64\n",
      "Geography_Germany    10000 non-null uint8\n",
      "Geography_Spain      10000 non-null uint8\n",
      "Gender_Male          10000 non-null uint8\n",
      "dtypes: int64(11), object(1), uint8(3)\n",
      "memory usage: 966.9+ KB\n"
     ]
    }
   ],
   "source": [
    "df_ohe = pd.get_dummies(df, columns=[\"Geography\", \"Gender\"], drop_first=True)\n",
    "df_ohe.info()"
   ]
  },
  {
   "cell_type": "code",
   "execution_count": 7,
   "metadata": {},
   "outputs": [
    {
     "data": {
      "text/html": [
       "<div>\n",
       "<style scoped>\n",
       "    .dataframe tbody tr th:only-of-type {\n",
       "        vertical-align: middle;\n",
       "    }\n",
       "\n",
       "    .dataframe tbody tr th {\n",
       "        vertical-align: top;\n",
       "    }\n",
       "\n",
       "    .dataframe thead th {\n",
       "        text-align: right;\n",
       "    }\n",
       "</style>\n",
       "<table border=\"1\" class=\"dataframe\">\n",
       "  <thead>\n",
       "    <tr style=\"text-align: right;\">\n",
       "      <th></th>\n",
       "      <th>RowNumber</th>\n",
       "      <th>CustomerId</th>\n",
       "      <th>Surname</th>\n",
       "      <th>CreditScore</th>\n",
       "      <th>Age</th>\n",
       "      <th>Tenure</th>\n",
       "      <th>Balance</th>\n",
       "      <th>NumOfProducts</th>\n",
       "      <th>HasCrCard</th>\n",
       "      <th>IsActiveMember</th>\n",
       "      <th>EstimatedSalary</th>\n",
       "      <th>Exited</th>\n",
       "      <th>Geography_Germany</th>\n",
       "      <th>Geography_Spain</th>\n",
       "      <th>Gender_Male</th>\n",
       "    </tr>\n",
       "  </thead>\n",
       "  <tbody>\n",
       "    <tr>\n",
       "      <td>7656</td>\n",
       "      <td>7657</td>\n",
       "      <td>15575146</td>\n",
       "      <td>Jamieson</td>\n",
       "      <td>492</td>\n",
       "      <td>51</td>\n",
       "      <td>8</td>\n",
       "      <td>117809</td>\n",
       "      <td>2</td>\n",
       "      <td>1</td>\n",
       "      <td>1</td>\n",
       "      <td>67311</td>\n",
       "      <td>0</td>\n",
       "      <td>1</td>\n",
       "      <td>0</td>\n",
       "      <td>1</td>\n",
       "    </tr>\n",
       "    <tr>\n",
       "      <td>9390</td>\n",
       "      <td>9391</td>\n",
       "      <td>15619130</td>\n",
       "      <td>Simpson</td>\n",
       "      <td>752</td>\n",
       "      <td>37</td>\n",
       "      <td>5</td>\n",
       "      <td>113291</td>\n",
       "      <td>2</td>\n",
       "      <td>1</td>\n",
       "      <td>1</td>\n",
       "      <td>132468</td>\n",
       "      <td>0</td>\n",
       "      <td>1</td>\n",
       "      <td>0</td>\n",
       "      <td>0</td>\n",
       "    </tr>\n",
       "    <tr>\n",
       "      <td>9890</td>\n",
       "      <td>9891</td>\n",
       "      <td>15670427</td>\n",
       "      <td>Chidi</td>\n",
       "      <td>662</td>\n",
       "      <td>37</td>\n",
       "      <td>4</td>\n",
       "      <td>155187</td>\n",
       "      <td>1</td>\n",
       "      <td>1</td>\n",
       "      <td>0</td>\n",
       "      <td>48931</td>\n",
       "      <td>0</td>\n",
       "      <td>0</td>\n",
       "      <td>1</td>\n",
       "      <td>1</td>\n",
       "    </tr>\n",
       "    <tr>\n",
       "      <td>8398</td>\n",
       "      <td>8399</td>\n",
       "      <td>15582116</td>\n",
       "      <td>Ma</td>\n",
       "      <td>767</td>\n",
       "      <td>45</td>\n",
       "      <td>5</td>\n",
       "      <td>132746</td>\n",
       "      <td>2</td>\n",
       "      <td>1</td>\n",
       "      <td>0</td>\n",
       "      <td>26629</td>\n",
       "      <td>1</td>\n",
       "      <td>1</td>\n",
       "      <td>0</td>\n",
       "      <td>0</td>\n",
       "    </tr>\n",
       "    <tr>\n",
       "      <td>1318</td>\n",
       "      <td>1319</td>\n",
       "      <td>15665077</td>\n",
       "      <td>Vogel</td>\n",
       "      <td>598</td>\n",
       "      <td>43</td>\n",
       "      <td>5</td>\n",
       "      <td>0</td>\n",
       "      <td>3</td>\n",
       "      <td>1</td>\n",
       "      <td>1</td>\n",
       "      <td>100723</td>\n",
       "      <td>1</td>\n",
       "      <td>0</td>\n",
       "      <td>0</td>\n",
       "      <td>0</td>\n",
       "    </tr>\n",
       "    <tr>\n",
       "      <td>7318</td>\n",
       "      <td>7319</td>\n",
       "      <td>15771856</td>\n",
       "      <td>Cremin</td>\n",
       "      <td>632</td>\n",
       "      <td>32</td>\n",
       "      <td>1</td>\n",
       "      <td>0</td>\n",
       "      <td>2</td>\n",
       "      <td>1</td>\n",
       "      <td>0</td>\n",
       "      <td>19526</td>\n",
       "      <td>0</td>\n",
       "      <td>0</td>\n",
       "      <td>1</td>\n",
       "      <td>0</td>\n",
       "    </tr>\n",
       "    <tr>\n",
       "      <td>9840</td>\n",
       "      <td>9841</td>\n",
       "      <td>15607877</td>\n",
       "      <td>Maclean</td>\n",
       "      <td>576</td>\n",
       "      <td>26</td>\n",
       "      <td>8</td>\n",
       "      <td>0</td>\n",
       "      <td>2</td>\n",
       "      <td>0</td>\n",
       "      <td>1</td>\n",
       "      <td>34101</td>\n",
       "      <td>0</td>\n",
       "      <td>0</td>\n",
       "      <td>1</td>\n",
       "      <td>1</td>\n",
       "    </tr>\n",
       "    <tr>\n",
       "      <td>6227</td>\n",
       "      <td>6228</td>\n",
       "      <td>15636016</td>\n",
       "      <td>Wreford</td>\n",
       "      <td>588</td>\n",
       "      <td>34</td>\n",
       "      <td>3</td>\n",
       "      <td>120778</td>\n",
       "      <td>1</td>\n",
       "      <td>1</td>\n",
       "      <td>1</td>\n",
       "      <td>131730</td>\n",
       "      <td>0</td>\n",
       "      <td>0</td>\n",
       "      <td>0</td>\n",
       "      <td>0</td>\n",
       "    </tr>\n",
       "    <tr>\n",
       "      <td>8106</td>\n",
       "      <td>8107</td>\n",
       "      <td>15764892</td>\n",
       "      <td>Spinelli</td>\n",
       "      <td>590</td>\n",
       "      <td>51</td>\n",
       "      <td>5</td>\n",
       "      <td>84475</td>\n",
       "      <td>2</td>\n",
       "      <td>1</td>\n",
       "      <td>1</td>\n",
       "      <td>190937</td>\n",
       "      <td>0</td>\n",
       "      <td>0</td>\n",
       "      <td>1</td>\n",
       "      <td>0</td>\n",
       "    </tr>\n",
       "    <tr>\n",
       "      <td>9238</td>\n",
       "      <td>9239</td>\n",
       "      <td>15639133</td>\n",
       "      <td>Ku</td>\n",
       "      <td>773</td>\n",
       "      <td>50</td>\n",
       "      <td>4</td>\n",
       "      <td>0</td>\n",
       "      <td>2</td>\n",
       "      <td>1</td>\n",
       "      <td>0</td>\n",
       "      <td>129373</td>\n",
       "      <td>0</td>\n",
       "      <td>0</td>\n",
       "      <td>0</td>\n",
       "      <td>0</td>\n",
       "    </tr>\n",
       "    <tr>\n",
       "      <td>7227</td>\n",
       "      <td>7228</td>\n",
       "      <td>15566495</td>\n",
       "      <td>Hanson</td>\n",
       "      <td>704</td>\n",
       "      <td>24</td>\n",
       "      <td>2</td>\n",
       "      <td>0</td>\n",
       "      <td>1</td>\n",
       "      <td>1</td>\n",
       "      <td>0</td>\n",
       "      <td>35600</td>\n",
       "      <td>1</td>\n",
       "      <td>0</td>\n",
       "      <td>1</td>\n",
       "      <td>0</td>\n",
       "    </tr>\n",
       "    <tr>\n",
       "      <td>876</td>\n",
       "      <td>877</td>\n",
       "      <td>15581229</td>\n",
       "      <td>Gregory</td>\n",
       "      <td>502</td>\n",
       "      <td>32</td>\n",
       "      <td>1</td>\n",
       "      <td>173341</td>\n",
       "      <td>1</td>\n",
       "      <td>0</td>\n",
       "      <td>1</td>\n",
       "      <td>122764</td>\n",
       "      <td>0</td>\n",
       "      <td>1</td>\n",
       "      <td>0</td>\n",
       "      <td>0</td>\n",
       "    </tr>\n",
       "    <tr>\n",
       "      <td>8894</td>\n",
       "      <td>8895</td>\n",
       "      <td>15631222</td>\n",
       "      <td>Cattaneo</td>\n",
       "      <td>485</td>\n",
       "      <td>39</td>\n",
       "      <td>5</td>\n",
       "      <td>75340</td>\n",
       "      <td>1</td>\n",
       "      <td>1</td>\n",
       "      <td>1</td>\n",
       "      <td>70665</td>\n",
       "      <td>0</td>\n",
       "      <td>0</td>\n",
       "      <td>0</td>\n",
       "      <td>0</td>\n",
       "    </tr>\n",
       "    <tr>\n",
       "      <td>2742</td>\n",
       "      <td>2743</td>\n",
       "      <td>15576126</td>\n",
       "      <td>Young</td>\n",
       "      <td>649</td>\n",
       "      <td>41</td>\n",
       "      <td>2</td>\n",
       "      <td>125785</td>\n",
       "      <td>1</td>\n",
       "      <td>1</td>\n",
       "      <td>1</td>\n",
       "      <td>70524</td>\n",
       "      <td>0</td>\n",
       "      <td>0</td>\n",
       "      <td>0</td>\n",
       "      <td>0</td>\n",
       "    </tr>\n",
       "    <tr>\n",
       "      <td>958</td>\n",
       "      <td>959</td>\n",
       "      <td>15619529</td>\n",
       "      <td>Ndukaku</td>\n",
       "      <td>531</td>\n",
       "      <td>27</td>\n",
       "      <td>8</td>\n",
       "      <td>132576</td>\n",
       "      <td>1</td>\n",
       "      <td>0</td>\n",
       "      <td>0</td>\n",
       "      <td>7223</td>\n",
       "      <td>0</td>\n",
       "      <td>0</td>\n",
       "      <td>1</td>\n",
       "      <td>1</td>\n",
       "    </tr>\n",
       "  </tbody>\n",
       "</table>\n",
       "</div>"
      ],
      "text/plain": [
       "      RowNumber  CustomerId   Surname  CreditScore  Age  Tenure  Balance  \\\n",
       "7656       7657    15575146  Jamieson          492   51       8   117809   \n",
       "9390       9391    15619130   Simpson          752   37       5   113291   \n",
       "9890       9891    15670427     Chidi          662   37       4   155187   \n",
       "8398       8399    15582116        Ma          767   45       5   132746   \n",
       "1318       1319    15665077     Vogel          598   43       5        0   \n",
       "7318       7319    15771856    Cremin          632   32       1        0   \n",
       "9840       9841    15607877   Maclean          576   26       8        0   \n",
       "6227       6228    15636016   Wreford          588   34       3   120778   \n",
       "8106       8107    15764892  Spinelli          590   51       5    84475   \n",
       "9238       9239    15639133        Ku          773   50       4        0   \n",
       "7227       7228    15566495    Hanson          704   24       2        0   \n",
       "876         877    15581229   Gregory          502   32       1   173341   \n",
       "8894       8895    15631222  Cattaneo          485   39       5    75340   \n",
       "2742       2743    15576126     Young          649   41       2   125785   \n",
       "958         959    15619529   Ndukaku          531   27       8   132576   \n",
       "\n",
       "      NumOfProducts  HasCrCard  IsActiveMember  EstimatedSalary  Exited  \\\n",
       "7656              2          1               1            67311       0   \n",
       "9390              2          1               1           132468       0   \n",
       "9890              1          1               0            48931       0   \n",
       "8398              2          1               0            26629       1   \n",
       "1318              3          1               1           100723       1   \n",
       "7318              2          1               0            19526       0   \n",
       "9840              2          0               1            34101       0   \n",
       "6227              1          1               1           131730       0   \n",
       "8106              2          1               1           190937       0   \n",
       "9238              2          1               0           129373       0   \n",
       "7227              1          1               0            35600       1   \n",
       "876               1          0               1           122764       0   \n",
       "8894              1          1               1            70665       0   \n",
       "2742              1          1               1            70524       0   \n",
       "958               1          0               0             7223       0   \n",
       "\n",
       "      Geography_Germany  Geography_Spain  Gender_Male  \n",
       "7656                  1                0            1  \n",
       "9390                  1                0            0  \n",
       "9890                  0                1            1  \n",
       "8398                  1                0            0  \n",
       "1318                  0                0            0  \n",
       "7318                  0                1            0  \n",
       "9840                  0                1            1  \n",
       "6227                  0                0            0  \n",
       "8106                  0                1            0  \n",
       "9238                  0                0            0  \n",
       "7227                  0                1            0  \n",
       "876                   1                0            0  \n",
       "8894                  0                0            0  \n",
       "2742                  0                0            0  \n",
       "958                   0                1            1  "
      ]
     },
     "execution_count": 7,
     "metadata": {},
     "output_type": "execute_result"
    }
   ],
   "source": [
    "df_ohe.sample(15)"
   ]
  },
  {
   "cell_type": "markdown",
   "metadata": {},
   "source": [
    "Подготовим данные с признаками и целевым признаком."
   ]
  },
  {
   "cell_type": "code",
   "execution_count": 8,
   "metadata": {},
   "outputs": [],
   "source": [
    "target = df_ohe['Exited']\n",
    "features = df_ohe.drop(['Exited', 'RowNumber', 'CustomerId', 'Surname'], axis=1)"
   ]
  },
  {
   "cell_type": "markdown",
   "metadata": {},
   "source": [
    "Данные нужно разбить на три части: обучающую, валидационную и тестовую. Размеры тестового и валидационного наборов обычно равны. Исходные данные разбивают в соотношении 3:1:1. Применим к нашему датасету функцию train_test_split(), чтоб разделить его на тестовую выборку (20%) и обучающую-вылидационную."
   ]
  },
  {
   "cell_type": "code",
   "execution_count": 9,
   "metadata": {},
   "outputs": [],
   "source": [
    "features_train_valid, features_test, target_train_valid, target_test = train_test_split(features, target, \n",
    "                                                    test_size=0.2, \n",
    "                                                    random_state=12345)"
   ]
  },
  {
   "cell_type": "markdown",
   "metadata": {},
   "source": [
    "Получившиеся выборки features_train_valid и target_train_valid разделим на валидационную (25%)) и обучающую выборки (75%)."
   ]
  },
  {
   "cell_type": "code",
   "execution_count": 10,
   "metadata": {},
   "outputs": [],
   "source": [
    "features_train, features_valid, target_train, target_valid = train_test_split(features_train_valid, target_train_valid,\n",
    "                                                                              test_size=0.25, \n",
    "                                                                              random_state=12345) "
   ]
  },
  {
   "cell_type": "markdown",
   "metadata": {},
   "source": [
    "## Исследование задачи"
   ]
  },
  {
   "cell_type": "markdown",
   "metadata": {},
   "source": [
    "Обучим модель без учёта дисбаланса классов и посмотрим значение F1-меры (и auc-roc) для модели логистичесской регресии"
   ]
  },
  {
   "cell_type": "code",
   "execution_count": 11,
   "metadata": {},
   "outputs": [
    {
     "name": "stdout",
     "output_type": "stream",
     "text": [
      "F1: 0.10290827740492169\n",
      "auc_roc: 0.6813607600469863\n"
     ]
    }
   ],
   "source": [
    "model = LogisticRegression(random_state=12345, solver='liblinear')\n",
    "model.fit(features_train, target_train)\n",
    "predictions_valid = model.predict(features_valid)\n",
    "\n",
    "print(\"F1:\", f1_score(target_valid, predictions_valid))\n",
    "\n",
    "probabilities_valid = model.predict_proba(features_valid)\n",
    "probabilities_one_valid = probabilities_valid[:, 1]\n",
    "\n",
    "auc_roc = roc_auc_score(target_valid, probabilities_one_valid)\n",
    "print(\"auc_roc:\", auc_roc)"
   ]
  },
  {
   "cell_type": "markdown",
   "metadata": {},
   "source": [
    "F1=0.10 это очень мало (Значение auc-roc тоже далеко до 1).\n",
    "Посмотрим для какой глубины модели решающего дерева будет лучшая F1-мера "
   ]
  },
  {
   "cell_type": "code",
   "execution_count": 12,
   "metadata": {},
   "outputs": [
    {
     "name": "stdout",
     "output_type": "stream",
     "text": [
      "7 0.5583596214511041\n"
     ]
    }
   ],
   "source": [
    "best_depth = None\n",
    "best_f1 = 0\n",
    "for depth in range(2, 20):\n",
    "    model = DecisionTreeClassifier(random_state=12345, max_depth=depth)\n",
    "    model.fit(features_train, target_train)\n",
    "    predictions_valid = model.predict(features_valid)\n",
    "    result = f1_score(target_valid, predictions_valid)\n",
    "    if result > best_f1:\n",
    "        best_depth = depth\n",
    "        best_f1 = result\n",
    "print(best_depth, best_f1)"
   ]
  },
  {
   "cell_type": "code",
   "execution_count": 13,
   "metadata": {},
   "outputs": [
    {
     "name": "stdout",
     "output_type": "stream",
     "text": [
      "F1: 0.5583596214511041\n",
      "auc_roc: 0.8231010349393358\n"
     ]
    }
   ],
   "source": [
    "model = DecisionTreeClassifier(random_state=12345, max_depth=7)\n",
    "model.fit(features_train, target_train)\n",
    "predictions_valid = model.predict(features_valid)\n",
    "print(\"F1:\", f1_score(target_valid, predictions_valid))\n",
    "\n",
    "probabilities_valid = model.predict_proba(features_valid)\n",
    "probabilities_one_valid = probabilities_valid[:, 1]\n",
    "\n",
    "auc_roc = roc_auc_score(target_valid, probabilities_one_valid)\n",
    "print(\"auc_roc:\", auc_roc)"
   ]
  },
  {
   "cell_type": "markdown",
   "metadata": {},
   "source": [
    "Лучшее значение F1-меры=0.56 при максимальной глубине решающего дерева max_depth=7 (auc_roc = 0.82).\n",
    "\n",
    "Посмотрим при каком значении гиперпараметра n_estimators лучшее значение F1-меры у модели случайного леса."
   ]
  },
  {
   "cell_type": "code",
   "execution_count": 14,
   "metadata": {},
   "outputs": [
    {
     "name": "stdout",
     "output_type": "stream",
     "text": [
      "45 0.5736677115987461\n",
      "auc_roc: 0.8368273728817601\n"
     ]
    }
   ],
   "source": [
    "best_est = None\n",
    "best_f1 = 0\n",
    "for est in range(1, 101):\n",
    "    model = RandomForestClassifier(random_state=12345, n_estimators=est) \n",
    "    model.fit(features_train, target_train) \n",
    "    predictions_valid = model.predict(features_valid)\n",
    "    result = f1_score(target_valid, predictions_valid)\n",
    "    if result > best_f1:\n",
    "        best_est = est\n",
    "        best_f1 = result\n",
    "        probabilities_valid = model.predict_proba(features_valid)\n",
    "        probabilities_one_valid = probabilities_valid[:, 1]\n",
    "        auc_roc = roc_auc_score(target_valid, probabilities_one_valid)\n",
    "print(best_est, best_f1)\n",
    "print(\"auc_roc:\", auc_roc)\n"
   ]
  },
  {
   "cell_type": "markdown",
   "metadata": {},
   "source": [
    "При n_estimators=45, значение F1=0.573 (auc-roc = 0.84). Лучшее значение среди всех моделей до учета дисбаланса классов. "
   ]
  },
  {
   "cell_type": "markdown",
   "metadata": {},
   "source": [
    "## Борьба с дисбалансом"
   ]
  },
  {
   "cell_type": "markdown",
   "metadata": {},
   "source": [
    "### Аргумент class_weight\n",
    "Сделаем веса классов сбалансированными при помощи аргумента class_weight. Посмотрим значение F1 для 3 разных моделей."
   ]
  },
  {
   "cell_type": "code",
   "execution_count": 15,
   "metadata": {},
   "outputs": [
    {
     "name": "stdout",
     "output_type": "stream",
     "text": [
      "F1: 0.4330900243309002\n",
      "auc_roc: 0.7200672686725406\n"
     ]
    }
   ],
   "source": [
    "model = LogisticRegression(random_state=12345, solver='liblinear', class_weight='balanced')\n",
    "model.fit(features_train, target_train)\n",
    "\n",
    "predictions_valid = model.predict(features_valid)\n",
    "print(\"F1:\", f1_score(target_valid, predictions_valid))\n",
    "\n",
    "probabilities_valid = model.predict_proba(features_valid)\n",
    "probabilities_one_valid = probabilities_valid[:, 1]\n",
    "\n",
    "auc_roc = roc_auc_score(target_valid, probabilities_one_valid)\n",
    "print(\"auc_roc:\", auc_roc)"
   ]
  },
  {
   "cell_type": "code",
   "execution_count": 16,
   "metadata": {},
   "outputs": [
    {
     "name": "stdout",
     "output_type": "stream",
     "text": [
      "F1: 0.5549949545913219\n",
      "auc_roc: 0.8083621699551278\n"
     ]
    }
   ],
   "source": [
    "model = DecisionTreeClassifier(random_state=12345, max_depth=7, class_weight='balanced')\n",
    "model.fit(features_train, target_train)\n",
    "predictions_valid = model.predict(features_valid)\n",
    "print(\"F1:\", f1_score(target_valid, predictions_valid))\n",
    "\n",
    "probabilities_valid = model.predict_proba(features_valid)\n",
    "probabilities_one_valid = probabilities_valid[:, 1]\n",
    "\n",
    "auc_roc = roc_auc_score(target_valid, probabilities_one_valid)\n",
    "print(\"auc_roc:\", auc_roc)"
   ]
  },
  {
   "cell_type": "code",
   "execution_count": 17,
   "metadata": {},
   "outputs": [
    {
     "name": "stdout",
     "output_type": "stream",
     "text": [
      "F1: 0.5551948051948052\n",
      "auc_roc: 0.8442568099199039\n"
     ]
    }
   ],
   "source": [
    "model = RandomForestClassifier(random_state=12345, n_estimators=45, class_weight='balanced') \n",
    "model.fit(features_train, target_train) \n",
    "predictions_valid = model.predict(features_valid)\n",
    "print(\"F1:\", f1_score(target_valid, predictions_valid))\n",
    "\n",
    "probabilities_valid = model.predict_proba(features_valid)\n",
    "probabilities_one_valid = probabilities_valid[:, 1]\n",
    "\n",
    "auc_roc = roc_auc_score(target_valid, probabilities_one_valid)\n",
    "print(\"auc_roc:\", auc_roc)"
   ]
  },
  {
   "cell_type": "markdown",
   "metadata": {},
   "source": [
    "Опять лучшее значение у случайного леса, но F1 хуже, чем до балансировки классов (хотя auc-roc немного лучше). Попробуем другие методы: увеличение выборки и уменьшение выборки."
   ]
  },
  {
   "cell_type": "markdown",
   "metadata": {},
   "source": [
    "### Техника upsampling\n",
    "Разделили обучающую выборку на отрицательные и положительные объекты. И посмотрим во сколько отрицательных ответов больше, чем положительных."
   ]
  },
  {
   "cell_type": "code",
   "execution_count": 18,
   "metadata": {},
   "outputs": [
    {
     "data": {
      "text/plain": [
       "((4781,), (1219,))"
      ]
     },
     "execution_count": 18,
     "metadata": {},
     "output_type": "execute_result"
    }
   ],
   "source": [
    "target_zeros = target_train[target_train == 0]\n",
    "target_ones = target_train[target_train == 1]\n",
    "target_zeros.shape, target_ones.shape"
   ]
  },
  {
   "cell_type": "markdown",
   "metadata": {},
   "source": [
    "Отрицательных ответов больше, чем положительных в 4 раза.\n",
    "\n",
    "Напишем функцию upsample, которая:\n",
    "- принимает 3 параметра (features - признаки обучающей выборки, target целевой признак обучающей выборки, repeat - количество повторений для положительных ответов в обучающей выборке); \n",
    "- делит обучающую выборку на отрицательные и положительные объекты;\n",
    "- дублирует объекты положительного класса и объедините их с объектами отрицательного класса (функцией pd.concat());\n",
    "- перемешивает данные (функцией shuffle());\n",
    "- возвращает признаки и целевой признак после операции upsampling."
   ]
  },
  {
   "cell_type": "code",
   "execution_count": 19,
   "metadata": {},
   "outputs": [],
   "source": [
    "def upsample(features, target, repeat):\n",
    "    \n",
    "    features_zeros = features_train[target_train == 0]\n",
    "    features_ones = features_train[target_train == 1]\n",
    "    target_zeros = target_train[target_train == 0]\n",
    "    target_ones = target_train[target_train == 1]\n",
    "\n",
    "    repeat = 4\n",
    "    features_upsampled = pd.concat([features_zeros] + [features_ones] * repeat)\n",
    "    target_upsampled = pd.concat([target_zeros] + [target_ones] * repeat)\n",
    "   \n",
    "    features_upsampled, target_upsampled = shuffle(features_upsampled, target_upsampled, random_state=12345)\n",
    "    return features_upsampled, target_upsampled\n",
    "features_upsampled, target_upsampled = upsample(features_train, target_train, 4)"
   ]
  },
  {
   "cell_type": "markdown",
   "metadata": {},
   "source": [
    "Посмотрим значение F1 и auc-roc для 3 разных моделей, обученных на данных с увеличинной выборкой."
   ]
  },
  {
   "cell_type": "code",
   "execution_count": 20,
   "metadata": {},
   "outputs": [
    {
     "name": "stdout",
     "output_type": "stream",
     "text": [
      "F1: 0.4327764518695307\n",
      "auc_roc: 0.7203327192470742\n"
     ]
    }
   ],
   "source": [
    "model = LogisticRegression(random_state=12345, solver='liblinear')\n",
    "model.fit(features_upsampled, target_upsampled)\n",
    "\n",
    "predictions_valid = model.predict(features_valid)\n",
    "print(\"F1:\", f1_score(target_valid, predictions_valid))\n",
    "\n",
    "probabilities_valid = model.predict_proba(features_valid)\n",
    "probabilities_one_valid = probabilities_valid[:, 1]\n",
    "\n",
    "auc_roc = roc_auc_score(target_valid, probabilities_one_valid)\n",
    "print(\"auc_roc:\", auc_roc)"
   ]
  },
  {
   "cell_type": "code",
   "execution_count": 21,
   "metadata": {},
   "outputs": [
    {
     "name": "stdout",
     "output_type": "stream",
     "text": [
      "F1: 0.5549949545913219\n",
      "auc_roc: 0.8083621699551278\n"
     ]
    }
   ],
   "source": [
    "model = DecisionTreeClassifier(random_state=12345, max_depth=7)\n",
    "model.fit(features_upsampled, target_upsampled)\n",
    "\n",
    "predictions_valid = model.predict(features_valid)\n",
    "print(\"F1:\", f1_score(target_valid, predictions_valid))\n",
    "\n",
    "probabilities_valid = model.predict_proba(features_valid)\n",
    "probabilities_one_valid = probabilities_valid[:, 1]\n",
    "\n",
    "auc_roc = roc_auc_score(target_valid, probabilities_one_valid)\n",
    "print(\"auc_roc:\", auc_roc)"
   ]
  },
  {
   "cell_type": "code",
   "execution_count": 22,
   "metadata": {},
   "outputs": [
    {
     "name": "stdout",
     "output_type": "stream",
     "text": [
      "87 0.5933147632311978\n",
      "auc_roc: 0.8433770081653869\n"
     ]
    }
   ],
   "source": [
    "best_est = None\n",
    "best_f1 = 0\n",
    "for est in range(1, 101):\n",
    "    model = RandomForestClassifier(random_state=12345, n_estimators=est) \n",
    "    model.fit(features_upsampled, target_upsampled) \n",
    "    predictions_valid = model.predict(features_valid)\n",
    "    result = f1_score(target_valid, predictions_valid)\n",
    "    if result > best_f1:\n",
    "        best_est = est\n",
    "        best_f1 = result\n",
    "        probabilities_valid = model.predict_proba(features_valid)\n",
    "        probabilities_one_valid = probabilities_valid[:, 1]\n",
    "        auc_roc = roc_auc_score(target_valid, probabilities_one_valid)\n",
    "print(best_est, best_f1)\n",
    "print(\"auc_roc:\", auc_roc)"
   ]
  },
  {
   "cell_type": "markdown",
   "metadata": {},
   "source": [
    "Лучшие значения метрик у случайного леса, при значении est=87: F1 - 0.5933147632311978, auc_roc - 0.8433770081653869"
   ]
  },
  {
   "cell_type": "markdown",
   "metadata": {},
   "source": [
    "### Техника downsampling\n",
    "Разделили обучающую выборку на отрицательные и положительные объекты. И посмотрим во сколько отрицательных ответов больше, чем положительных ."
   ]
  },
  {
   "cell_type": "markdown",
   "metadata": {},
   "source": [
    "Напишем функцию downsample, которая:\n",
    "- принимает 3 параметра (features - признаки обучающей выборки, target целевой признак обучающей выборки, fraction - доля отрицательных объектов, которые нужно сохранить); \n",
    "- делит обучающую выборку на отрицательные и положительные объекты;\n",
    "- cлучайным образом отбросывает часть из отрицательных объектов (функцией sample());\n",
    "- перемешивает данные (функцией shuffle());\n",
    "- возвращает признаки и целевой признак после операции downsampling."
   ]
  },
  {
   "cell_type": "code",
   "execution_count": 23,
   "metadata": {},
   "outputs": [],
   "source": [
    "def downsample(features, target, fraction):\n",
    "    features_zeros = features[target == 0]\n",
    "    features_ones = features[target == 1]\n",
    "    target_zeros = target[target == 0]\n",
    "    target_ones = target[target == 1]\n",
    "\n",
    "    features_downsampled = pd.concat(\n",
    "        [features_zeros.sample(frac=fraction, random_state=12345)] + [features_ones])\n",
    "    target_downsampled = pd.concat(\n",
    "        [target_zeros.sample(frac=fraction, random_state=12345)] + [target_ones])\n",
    "    \n",
    "    features_downsampled, target_downsampled = shuffle(\n",
    "        features_downsampled, target_downsampled, random_state=12345)\n",
    "    \n",
    "    return features_downsampled, target_downsampled\n",
    "\n",
    "features_downsampled, target_downsampled = downsample(features_train, target_train, 0.25)"
   ]
  },
  {
   "cell_type": "markdown",
   "metadata": {},
   "source": [
    "Посмотрим значение F1 для 3 разных моделей, обученных на данных с увеличинной выборкой."
   ]
  },
  {
   "cell_type": "code",
   "execution_count": 24,
   "metadata": {},
   "outputs": [
    {
     "name": "stdout",
     "output_type": "stream",
     "text": [
      "F1: 0.4376470588235294\n",
      "auc_roc: 0.7177354363800807\n"
     ]
    }
   ],
   "source": [
    "model = LogisticRegression(random_state=12345, solver='liblinear')\n",
    "model.fit(features_downsampled, target_downsampled)\n",
    "predictions_valid = model.predict(features_valid)\n",
    "print(\"F1:\", f1_score(target_valid, predictions_valid))\n",
    "\n",
    "probabilities_valid = model.predict_proba(features_valid)\n",
    "probabilities_one_valid = probabilities_valid[:, 1]\n",
    "\n",
    "auc_roc = roc_auc_score(target_valid, probabilities_one_valid)\n",
    "print(\"auc_roc:\", auc_roc)"
   ]
  },
  {
   "cell_type": "code",
   "execution_count": 25,
   "metadata": {},
   "outputs": [
    {
     "name": "stdout",
     "output_type": "stream",
     "text": [
      "F1: 0.5493482309124766\n",
      "auc_roc: 0.8143546769371137\n"
     ]
    }
   ],
   "source": [
    "model = DecisionTreeClassifier(random_state=12345, max_depth=7)\n",
    "model.fit(features_downsampled, target_downsampled)\n",
    "predictions_valid = model.predict(features_valid)\n",
    "print(\"F1:\", f1_score(target_valid, predictions_valid))\n",
    "\n",
    "probabilities_valid = model.predict_proba(features_valid)\n",
    "probabilities_one_valid = probabilities_valid[:, 1]\n",
    "\n",
    "auc_roc = roc_auc_score(target_valid, probabilities_one_valid)\n",
    "print(\"auc_roc:\", auc_roc)"
   ]
  },
  {
   "cell_type": "code",
   "execution_count": 26,
   "metadata": {},
   "outputs": [
    {
     "name": "stdout",
     "output_type": "stream",
     "text": [
      "78 0.5601539942252166\n",
      "auc_roc: 0.8434024405557613\n"
     ]
    }
   ],
   "source": [
    "best_est = None\n",
    "best_f1 = 0\n",
    "for est in range(1, 101):\n",
    "    model = RandomForestClassifier(random_state=12345, n_estimators=est) \n",
    "    model.fit(features_downsampled, target_downsampled)\n",
    "    predictions_valid = model.predict(features_valid)\n",
    "    result = f1_score(target_valid, predictions_valid)\n",
    "    if result > best_f1:\n",
    "        best_est = est\n",
    "        best_f1 = result\n",
    "        probabilities_valid = model.predict_proba(features_valid)\n",
    "        probabilities_one_valid = probabilities_valid[:, 1]\n",
    "        auc_roc = roc_auc_score(target_valid, probabilities_one_valid)\n",
    "print(best_est, best_f1)\n",
    "print(\"auc_roc:\", auc_roc)"
   ]
  },
  {
   "cell_type": "markdown",
   "metadata": {},
   "source": [
    "Опять лучшее значение у модели, обученной алгоритмом случайного леса (при est=78), но F1-мера (0.56) хуже, чем при техники upsampling."
   ]
  },
  {
   "cell_type": "markdown",
   "metadata": {},
   "source": [
    "### Выбор лучшей модели\n",
    "\n",
    "Моделью с самой лучшей F1-мерой (0.59) стала модель с алгоритмом классификации — случайный лес, с гиперпараметром n_estimators=87, обученная выборкой, с применением техники upsampling для избавления от дисбаланса классов."
   ]
  },
  {
   "cell_type": "markdown",
   "metadata": {},
   "source": [
    "## Тестирование модели"
   ]
  },
  {
   "cell_type": "markdown",
   "metadata": {},
   "source": [
    "Протестируем лучшую модель на тестовой выборке."
   ]
  },
  {
   "cell_type": "code",
   "execution_count": 27,
   "metadata": {},
   "outputs": [
    {
     "name": "stdout",
     "output_type": "stream",
     "text": [
      "F1: 0.58898847631242\n",
      "auc_roc: 0.8561036578920335\n"
     ]
    }
   ],
   "source": [
    "model = RandomForestClassifier(random_state=12345, n_estimators=87) \n",
    "model.fit(features_upsampled, target_upsampled) \n",
    "predictions_test = model.predict(features_test)\n",
    "result = f1_score(target_test, predictions_test)\n",
    "print(\"F1:\", f1_score(target_test, predictions_test))\n",
    "\n",
    "probabilities_test = model.predict_proba(features_test)\n",
    "probabilities_one_test = probabilities_test[:, 1]\n",
    "\n",
    "auc_roc = roc_auc_score(target_test, probabilities_one_test)\n",
    "print(\"auc_roc:\", auc_roc)"
   ]
  },
  {
   "cell_type": "markdown",
   "metadata": {},
   "source": [
    "На тестовой выборке значение F1-меры для модели, выбранной лучшей оказалось меньше 0.59. Попробуем добавить гиперпараметр max_depth, со значением 7 из лучшей модели дерева решений."
   ]
  },
  {
   "cell_type": "code",
   "execution_count": 28,
   "metadata": {},
   "outputs": [
    {
     "name": "stdout",
     "output_type": "stream",
     "text": [
      "F1: 0.6340508806262232\n",
      "auc_roc: 0.8687675960403233\n"
     ]
    }
   ],
   "source": [
    "model = RandomForestClassifier(random_state=12345, max_depth=7, n_estimators=87) \n",
    "model.fit(features_upsampled, target_upsampled) \n",
    "predictions_test = model.predict(features_test)\n",
    "result = f1_score(target_test, predictions_test)\n",
    "print(\"F1:\", f1_score(target_test, predictions_test))\n",
    "\n",
    "probabilities_test = model.predict_proba(features_test)\n",
    "probabilities_one_test = probabilities_test[:, 1]\n",
    "\n",
    "auc_roc = roc_auc_score(target_test, probabilities_one_test)\n",
    "print(\"auc_roc:\", auc_roc)"
   ]
  },
  {
   "cell_type": "code",
   "execution_count": 30,
   "metadata": {},
   "outputs": [
    {
     "data": {
      "image/png": "[encoded data removed]",
      "text/plain": [
       "<Figure size 432x288 with 1 Axes>"
      ]
     },
     "metadata": {
      "needs_background": "light"
     },
     "output_type": "display_data"
    }
   ],
   "source": [
    "fpr, tpr, thresholds = roc_curve(target_test, probabilities_one_test) \n",
    "\n",
    "plt.figure()\n",
    "\n",
    "plt.plot(fpr, tpr)\n",
    "\n",
    "# ROC-кривая случайной модели \n",
    "plt.plot([0, 1], [0, 1], linestyle='--')\n",
    "\n",
    "plt.ylim([0.0, 1.0])\n",
    "plt.xlim([0.0, 1.0])\n",
    "\n",
    "plt.xlabel('False Positive Rate')\n",
    "plt.ylabel('True Positive Rate')\n",
    "plt.title('ROC-кривая')\n",
    "\n",
    "plt.show()"
   ]
  },
  {
   "cell_type": "markdown",
   "metadata": {},
   "source": [
    "В результате значение F1: 0.6340508806262232, а auc_roc: 0.8687675960403233."
   ]
  },
  {
   "cell_type": "markdown",
   "metadata": {},
   "source": [
    "## Вывод\n",
    "\n",
    "В данном проекте решалась задача прогнозирования ухода из \"Бета-банка\" клиентов. Для этого на основе исторических данных о поведении клиентов и расторжении договора с банком, были рассмотрены и обучены модели разными алгоритмами, с учетом дисбаланса классов и без него. В итоге была построена модель, обученная алгоритмом случайного леса на основе выборки, с балансировкой классов техникой upsampling. Эта модель показала лучшее значение F1-меры (0.63) на тестовой выборке и auc_roc - 0.87. Можно предложить эту модель руководству банка, для принятия решения о намерении клиента покинуть банк."
   ]
  }
 ],
 "metadata": {
  "ExecuteTimeLog": [
   {
    "duration": 6291,
    "start_time": "2021-11-16T16:58:55.795Z"
   },
   {
    "duration": 5,
    "start_time": "2021-11-16T17:08:40.224Z"
   },
   {
    "duration": 260,
    "start_time": "2021-11-16T17:11:00.026Z"
   },
   {
    "duration": 29,
    "start_time": "2021-11-16T17:12:23.727Z"
   },
   {
    "duration": 43,
    "start_time": "2021-11-16T17:12:35.504Z"
   },
   {
    "duration": 29,
    "start_time": "2021-11-16T17:13:02.659Z"
   },
   {
    "duration": 33,
    "start_time": "2021-11-16T17:13:11.850Z"
   },
   {
    "duration": 8,
    "start_time": "2021-11-16T17:13:22.590Z"
   },
   {
    "duration": 27,
    "start_time": "2021-11-16T17:13:25.322Z"
   },
   {
    "duration": 18,
    "start_time": "2021-11-16T17:13:45.825Z"
   },
   {
    "duration": 9,
    "start_time": "2021-11-16T17:14:07.018Z"
   },
   {
    "duration": 229,
    "start_time": "2021-11-16T19:46:00.354Z"
   },
   {
    "duration": 199,
    "start_time": "2021-11-16T19:46:30.373Z"
   },
   {
    "duration": 555,
    "start_time": "2021-11-16T19:47:47.046Z"
   },
   {
    "duration": 17,
    "start_time": "2021-11-16T19:47:47.603Z"
   },
   {
    "duration": 31,
    "start_time": "2021-11-16T19:47:47.623Z"
   },
   {
    "duration": 12,
    "start_time": "2021-11-16T19:47:47.655Z"
   },
   {
    "duration": 4287,
    "start_time": "2021-11-16T19:49:29.689Z"
   },
   {
    "duration": 10,
    "start_time": "2021-11-16T19:50:02.080Z"
   },
   {
    "duration": 189,
    "start_time": "2021-11-16T19:50:12.946Z"
   },
   {
    "duration": 10,
    "start_time": "2021-11-16T19:50:25.271Z"
   },
   {
    "duration": 5,
    "start_time": "2021-11-16T19:50:53.345Z"
   },
   {
    "duration": 186,
    "start_time": "2021-11-16T19:51:21.409Z"
   },
   {
    "duration": 86,
    "start_time": "2021-11-16T19:55:07.582Z"
   },
   {
    "duration": 5,
    "start_time": "2021-11-16T19:55:17.941Z"
   },
   {
    "duration": 5,
    "start_time": "2021-11-16T19:57:57.453Z"
   },
   {
    "duration": 174,
    "start_time": "2021-11-16T19:58:19.873Z"
   },
   {
    "duration": 6,
    "start_time": "2021-11-16T19:58:28.354Z"
   },
   {
    "duration": 4,
    "start_time": "2021-11-16T19:59:04.986Z"
   },
   {
    "duration": 6,
    "start_time": "2021-11-16T19:59:15.980Z"
   },
   {
    "duration": 22,
    "start_time": "2021-11-16T20:00:11.212Z"
   },
   {
    "duration": 28,
    "start_time": "2021-11-16T20:09:53.609Z"
   },
   {
    "duration": 12,
    "start_time": "2021-11-16T20:09:53.652Z"
   },
   {
    "duration": 10,
    "start_time": "2021-11-16T20:09:53.666Z"
   },
   {
    "duration": 6,
    "start_time": "2021-11-16T20:09:53.681Z"
   },
   {
    "duration": 232,
    "start_time": "2021-11-16T20:09:53.688Z"
   },
   {
    "duration": -5075,
    "start_time": "2021-11-16T20:09:58.997Z"
   },
   {
    "duration": 191,
    "start_time": "2021-11-16T20:10:09.704Z"
   },
   {
    "duration": 15,
    "start_time": "2021-11-16T20:11:42.904Z"
   },
   {
    "duration": 17,
    "start_time": "2021-11-16T20:12:13.809Z"
   },
   {
    "duration": 8,
    "start_time": "2021-11-16T20:14:06.480Z"
   },
   {
    "duration": 5,
    "start_time": "2021-11-16T20:17:28.973Z"
   },
   {
    "duration": 27,
    "start_time": "2021-11-16T20:17:48.837Z"
   },
   {
    "duration": 12,
    "start_time": "2021-11-16T20:17:48.865Z"
   },
   {
    "duration": 11,
    "start_time": "2021-11-16T20:17:48.878Z"
   },
   {
    "duration": 4,
    "start_time": "2021-11-16T20:17:48.895Z"
   },
   {
    "duration": 14,
    "start_time": "2021-11-16T20:17:48.903Z"
   },
   {
    "duration": 8,
    "start_time": "2021-11-16T20:18:08.679Z"
   },
   {
    "duration": 5,
    "start_time": "2021-11-16T20:18:23.647Z"
   },
   {
    "duration": 6,
    "start_time": "2021-11-16T20:19:14.180Z"
   },
   {
    "duration": 26,
    "start_time": "2021-11-16T20:19:44.712Z"
   },
   {
    "duration": 13,
    "start_time": "2021-11-16T20:19:44.739Z"
   },
   {
    "duration": 11,
    "start_time": "2021-11-16T20:19:44.753Z"
   },
   {
    "duration": 6,
    "start_time": "2021-11-16T20:19:44.766Z"
   },
   {
    "duration": 15,
    "start_time": "2021-11-16T20:19:44.773Z"
   },
   {
    "duration": 15,
    "start_time": "2021-11-16T20:19:44.789Z"
   },
   {
    "duration": 9,
    "start_time": "2021-11-16T20:19:44.805Z"
   },
   {
    "duration": 27,
    "start_time": "2021-11-16T20:19:59.821Z"
   },
   {
    "duration": 14,
    "start_time": "2021-11-16T20:19:59.850Z"
   },
   {
    "duration": 9,
    "start_time": "2021-11-16T20:19:59.866Z"
   },
   {
    "duration": 4,
    "start_time": "2021-11-16T20:19:59.876Z"
   },
   {
    "duration": 8,
    "start_time": "2021-11-16T20:19:59.881Z"
   },
   {
    "duration": 5,
    "start_time": "2021-11-16T20:19:59.891Z"
   },
   {
    "duration": 8,
    "start_time": "2021-11-16T20:19:59.897Z"
   },
   {
    "duration": 9,
    "start_time": "2021-11-16T20:25:15.968Z"
   },
   {
    "duration": 8,
    "start_time": "2021-11-16T20:25:57.732Z"
   },
   {
    "duration": 4,
    "start_time": "2021-11-16T20:53:36.806Z"
   },
   {
    "duration": 4,
    "start_time": "2021-11-16T20:53:45.013Z"
   },
   {
    "duration": 4,
    "start_time": "2021-11-16T20:54:33.794Z"
   },
   {
    "duration": 8,
    "start_time": "2021-11-16T20:54:41.543Z"
   },
   {
    "duration": 10,
    "start_time": "2021-11-16T20:54:54.936Z"
   },
   {
    "duration": 4,
    "start_time": "2021-11-16T20:56:47.093Z"
   },
   {
    "duration": 6,
    "start_time": "2021-11-16T20:57:16.150Z"
   },
   {
    "duration": 10,
    "start_time": "2021-11-16T20:57:36.353Z"
   },
   {
    "duration": 13,
    "start_time": "2021-11-16T21:08:34.858Z"
   },
   {
    "duration": 13,
    "start_time": "2021-11-16T21:10:48.774Z"
   },
   {
    "duration": 13,
    "start_time": "2021-11-16T21:11:10.420Z"
   },
   {
    "duration": 174,
    "start_time": "2021-11-16T21:18:43.482Z"
   },
   {
    "duration": 4,
    "start_time": "2021-11-16T21:20:45.734Z"
   },
   {
    "duration": 166,
    "start_time": "2021-11-16T21:23:13.118Z"
   },
   {
    "duration": 449,
    "start_time": "2021-11-16T21:23:30.239Z"
   },
   {
    "duration": 14,
    "start_time": "2021-11-16T21:23:30.690Z"
   },
   {
    "duration": 18,
    "start_time": "2021-11-16T21:23:30.705Z"
   },
   {
    "duration": 15,
    "start_time": "2021-11-16T21:23:30.725Z"
   },
   {
    "duration": 14,
    "start_time": "2021-11-16T21:23:30.742Z"
   },
   {
    "duration": 17,
    "start_time": "2021-11-16T21:23:30.758Z"
   },
   {
    "duration": 19,
    "start_time": "2021-11-16T21:23:30.776Z"
   },
   {
    "duration": 11,
    "start_time": "2021-11-16T21:23:30.797Z"
   },
   {
    "duration": 23,
    "start_time": "2021-11-16T21:23:30.810Z"
   },
   {
    "duration": 15,
    "start_time": "2021-11-16T21:23:54.982Z"
   },
   {
    "duration": 6,
    "start_time": "2021-11-16T21:24:11.468Z"
   },
   {
    "duration": 3,
    "start_time": "2021-11-16T21:28:23.600Z"
   },
   {
    "duration": 28,
    "start_time": "2021-11-16T21:29:21.894Z"
   },
   {
    "duration": 13,
    "start_time": "2021-11-16T21:29:21.923Z"
   },
   {
    "duration": 16,
    "start_time": "2021-11-16T21:29:21.938Z"
   },
   {
    "duration": 14,
    "start_time": "2021-11-16T21:29:21.956Z"
   },
   {
    "duration": 9,
    "start_time": "2021-11-16T21:29:21.972Z"
   },
   {
    "duration": 14,
    "start_time": "2021-11-16T21:29:21.991Z"
   },
   {
    "duration": 12,
    "start_time": "2021-11-16T21:29:22.007Z"
   },
   {
    "duration": 12,
    "start_time": "2021-11-16T21:29:22.021Z"
   },
   {
    "duration": 17,
    "start_time": "2021-11-16T21:29:22.035Z"
   },
   {
    "duration": 40,
    "start_time": "2021-11-16T21:29:22.054Z"
   },
   {
    "duration": 330,
    "start_time": "2021-11-16T21:29:22.096Z"
   },
   {
    "duration": 25,
    "start_time": "2021-11-16T21:29:46.656Z"
   },
   {
    "duration": 12,
    "start_time": "2021-11-16T21:29:46.682Z"
   },
   {
    "duration": 11,
    "start_time": "2021-11-16T21:29:46.696Z"
   },
   {
    "duration": 14,
    "start_time": "2021-11-16T21:29:46.708Z"
   },
   {
    "duration": 9,
    "start_time": "2021-11-16T21:29:46.723Z"
   },
   {
    "duration": 14,
    "start_time": "2021-11-16T21:29:46.733Z"
   },
   {
    "duration": 12,
    "start_time": "2021-11-16T21:29:46.748Z"
   },
   {
    "duration": 3,
    "start_time": "2021-11-16T21:29:46.762Z"
   },
   {
    "duration": 27,
    "start_time": "2021-11-16T21:29:46.767Z"
   },
   {
    "duration": 36,
    "start_time": "2021-11-16T21:29:46.795Z"
   },
   {
    "duration": 67,
    "start_time": "2021-11-16T21:29:46.833Z"
   },
   {
    "duration": 241,
    "start_time": "2021-11-16T21:39:49.390Z"
   },
   {
    "duration": 38,
    "start_time": "2021-11-16T21:39:57.422Z"
   },
   {
    "duration": 12,
    "start_time": "2021-11-16T21:39:57.462Z"
   },
   {
    "duration": 8,
    "start_time": "2021-11-16T21:39:57.476Z"
   },
   {
    "duration": 8,
    "start_time": "2021-11-16T21:39:57.486Z"
   },
   {
    "duration": 16,
    "start_time": "2021-11-16T21:39:57.496Z"
   },
   {
    "duration": 12,
    "start_time": "2021-11-16T21:39:57.513Z"
   },
   {
    "duration": 11,
    "start_time": "2021-11-16T21:39:57.527Z"
   },
   {
    "duration": 6,
    "start_time": "2021-11-16T21:39:57.540Z"
   },
   {
    "duration": 7,
    "start_time": "2021-11-16T21:39:57.547Z"
   },
   {
    "duration": 73,
    "start_time": "2021-11-16T21:39:57.555Z"
   },
   {
    "duration": 66,
    "start_time": "2021-11-16T21:39:57.630Z"
   },
   {
    "duration": 130,
    "start_time": "2021-11-16T21:39:57.699Z"
   },
   {
    "duration": 68,
    "start_time": "2021-11-16T21:39:57.830Z"
   },
   {
    "duration": 37,
    "start_time": "2021-11-16T21:43:48.686Z"
   },
   {
    "duration": 12,
    "start_time": "2021-11-16T21:43:48.725Z"
   },
   {
    "duration": 10,
    "start_time": "2021-11-16T21:43:48.739Z"
   },
   {
    "duration": 11,
    "start_time": "2021-11-16T21:43:48.750Z"
   },
   {
    "duration": 12,
    "start_time": "2021-11-16T21:43:48.762Z"
   },
   {
    "duration": 30,
    "start_time": "2021-11-16T21:43:48.776Z"
   },
   {
    "duration": 13,
    "start_time": "2021-11-16T21:43:48.807Z"
   },
   {
    "duration": 5,
    "start_time": "2021-11-16T21:43:48.823Z"
   },
   {
    "duration": 8,
    "start_time": "2021-11-16T21:43:48.830Z"
   },
   {
    "duration": 70,
    "start_time": "2021-11-16T21:43:48.840Z"
   },
   {
    "duration": 87,
    "start_time": "2021-11-16T21:43:48.912Z"
   },
   {
    "duration": 126,
    "start_time": "2021-11-16T21:43:49.000Z"
   },
   {
    "duration": 71,
    "start_time": "2021-11-16T21:43:49.128Z"
   },
   {
    "duration": 160,
    "start_time": "2021-11-16T21:48:21.599Z"
   },
   {
    "duration": 29,
    "start_time": "2021-11-16T21:48:34.704Z"
   },
   {
    "duration": 12,
    "start_time": "2021-11-16T21:48:34.735Z"
   },
   {
    "duration": 10,
    "start_time": "2021-11-16T21:48:34.748Z"
   },
   {
    "duration": 7,
    "start_time": "2021-11-16T21:48:34.760Z"
   },
   {
    "duration": 10,
    "start_time": "2021-11-16T21:48:34.769Z"
   },
   {
    "duration": 25,
    "start_time": "2021-11-16T21:48:34.780Z"
   },
   {
    "duration": 12,
    "start_time": "2021-11-16T21:48:34.806Z"
   },
   {
    "duration": 8,
    "start_time": "2021-11-16T21:48:34.819Z"
   },
   {
    "duration": 22,
    "start_time": "2021-11-16T21:48:34.829Z"
   },
   {
    "duration": 46,
    "start_time": "2021-11-16T21:48:34.852Z"
   },
   {
    "duration": 99,
    "start_time": "2021-11-16T21:48:34.900Z"
   },
   {
    "duration": 270,
    "start_time": "2021-11-16T21:48:35.000Z"
   },
   {
    "duration": 65,
    "start_time": "2021-11-16T21:48:35.271Z"
   },
   {
    "duration": 14,
    "start_time": "2021-11-16T21:49:56.960Z"
   },
   {
    "duration": 17,
    "start_time": "2021-11-16T21:50:02.754Z"
   },
   {
    "duration": 156,
    "start_time": "2021-11-16T21:51:01.572Z"
   },
   {
    "duration": 184,
    "start_time": "2021-11-16T21:51:38.174Z"
   },
   {
    "duration": 154,
    "start_time": "2021-11-16T21:51:45.519Z"
   },
   {
    "duration": 147,
    "start_time": "2021-11-16T21:51:49.419Z"
   },
   {
    "duration": 145,
    "start_time": "2021-11-16T21:52:40.500Z"
   },
   {
    "duration": 164,
    "start_time": "2021-11-16T21:52:46.201Z"
   },
   {
    "duration": 150,
    "start_time": "2021-11-16T21:52:55.312Z"
   },
   {
    "duration": 224,
    "start_time": "2021-11-16T21:53:01.636Z"
   },
   {
    "duration": 524,
    "start_time": "2021-11-16T21:56:08.060Z"
   },
   {
    "duration": 520,
    "start_time": "2021-11-16T21:56:29.829Z"
   },
   {
    "duration": 301,
    "start_time": "2021-11-16T21:57:27.767Z"
   },
   {
    "duration": 160,
    "start_time": "2021-11-16T21:57:52.993Z"
   },
   {
    "duration": 187,
    "start_time": "2021-11-16T21:57:58.549Z"
   },
   {
    "duration": 218,
    "start_time": "2021-11-16T21:58:02.855Z"
   },
   {
    "duration": 249,
    "start_time": "2021-11-16T21:58:06.770Z"
   },
   {
    "duration": 265,
    "start_time": "2021-11-16T21:58:14.284Z"
   },
   {
    "duration": 308,
    "start_time": "2021-11-16T21:58:30.683Z"
   },
   {
    "duration": 330,
    "start_time": "2021-11-16T21:58:42.379Z"
   },
   {
    "duration": 346,
    "start_time": "2021-11-16T21:58:55.029Z"
   },
   {
    "duration": 398,
    "start_time": "2021-11-16T21:59:04.825Z"
   },
   {
    "duration": 300,
    "start_time": "2021-11-16T21:59:08.844Z"
   },
   {
    "duration": 272,
    "start_time": "2021-11-16T21:59:13.361Z"
   },
   {
    "duration": 303,
    "start_time": "2021-11-16T21:59:26.880Z"
   },
   {
    "duration": 128,
    "start_time": "2021-11-16T21:59:34.975Z"
   },
   {
    "duration": 301,
    "start_time": "2021-11-16T21:59:42.116Z"
   },
   {
    "duration": 311,
    "start_time": "2021-11-16T21:59:46.668Z"
   },
   {
    "duration": 281,
    "start_time": "2021-11-16T22:00:03.383Z"
   },
   {
    "duration": 496,
    "start_time": "2021-11-16T22:00:17.012Z"
   },
   {
    "duration": 1436,
    "start_time": "2021-11-17T19:30:41.676Z"
   },
   {
    "duration": 29,
    "start_time": "2021-11-17T19:30:43.115Z"
   },
   {
    "duration": 22,
    "start_time": "2021-11-17T19:30:43.147Z"
   },
   {
    "duration": 19,
    "start_time": "2021-11-17T19:30:43.173Z"
   },
   {
    "duration": 15,
    "start_time": "2021-11-17T19:30:43.194Z"
   },
   {
    "duration": 21,
    "start_time": "2021-11-17T19:30:43.212Z"
   },
   {
    "duration": 23,
    "start_time": "2021-11-17T19:30:43.261Z"
   },
   {
    "duration": 7,
    "start_time": "2021-11-17T19:30:43.289Z"
   },
   {
    "duration": 13,
    "start_time": "2021-11-17T19:30:43.298Z"
   },
   {
    "duration": 149,
    "start_time": "2021-11-17T19:30:43.314Z"
   },
   {
    "duration": 95,
    "start_time": "2021-11-17T19:30:43.467Z"
   },
   {
    "duration": 340,
    "start_time": "2021-11-17T19:30:43.565Z"
   },
   {
    "duration": 786,
    "start_time": "2021-11-17T19:30:43.908Z"
   },
   {
    "duration": 164,
    "start_time": "2021-11-17T19:30:44.696Z"
   },
   {
    "duration": 61461,
    "start_time": "2021-11-17T19:31:10.399Z"
   },
   {
    "duration": 540,
    "start_time": "2021-11-17T19:36:27.801Z"
   },
   {
    "duration": 735,
    "start_time": "2021-11-17T19:36:48.702Z"
   },
   {
    "duration": 62031,
    "start_time": "2021-11-17T19:37:15.090Z"
   },
   {
    "duration": 33580,
    "start_time": "2021-11-17T19:38:47.955Z"
   },
   {
    "duration": 61747,
    "start_time": "2021-11-17T19:40:06.272Z"
   },
   {
    "duration": 422,
    "start_time": "2021-11-17T19:45:22.266Z"
   },
   {
    "duration": 708,
    "start_time": "2021-11-17T19:45:29.396Z"
   },
   {
    "duration": 9,
    "start_time": "2021-11-17T19:58:59.957Z"
   },
   {
    "duration": 24,
    "start_time": "2021-11-17T19:59:11.214Z"
   },
   {
    "duration": 10,
    "start_time": "2021-11-17T19:59:23.613Z"
   },
   {
    "duration": 122,
    "start_time": "2021-11-17T20:02:38.394Z"
   },
   {
    "duration": 22,
    "start_time": "2021-11-17T20:02:56.554Z"
   },
   {
    "duration": 34,
    "start_time": "2021-11-17T20:03:06.293Z"
   },
   {
    "duration": 21,
    "start_time": "2021-11-17T20:03:06.330Z"
   },
   {
    "duration": 12,
    "start_time": "2021-11-17T20:03:06.354Z"
   },
   {
    "duration": 18,
    "start_time": "2021-11-17T20:03:06.369Z"
   },
   {
    "duration": 15,
    "start_time": "2021-11-17T20:03:06.389Z"
   },
   {
    "duration": 20,
    "start_time": "2021-11-17T20:03:06.407Z"
   },
   {
    "duration": 41,
    "start_time": "2021-11-17T20:03:06.429Z"
   },
   {
    "duration": 9,
    "start_time": "2021-11-17T20:03:06.474Z"
   },
   {
    "duration": 11,
    "start_time": "2021-11-17T20:03:06.486Z"
   },
   {
    "duration": 9,
    "start_time": "2021-11-17T20:03:06.499Z"
   },
   {
    "duration": 150,
    "start_time": "2021-11-17T20:03:06.511Z"
   },
   {
    "duration": 99,
    "start_time": "2021-11-17T20:03:06.666Z"
   },
   {
    "duration": 562,
    "start_time": "2021-11-17T20:03:06.767Z"
   },
   {
    "duration": 50119,
    "start_time": "2021-11-17T20:03:07.332Z"
   },
   {
    "duration": 101,
    "start_time": "2021-11-17T20:03:57.460Z"
   },
   {
    "duration": 36,
    "start_time": "2021-11-17T20:09:35.612Z"
   },
   {
    "duration": 942,
    "start_time": "2021-11-17T20:10:32.665Z"
   },
   {
    "duration": 427,
    "start_time": "2021-11-17T20:10:47.065Z"
   },
   {
    "duration": 46,
    "start_time": "2021-11-17T20:11:49.750Z"
   },
   {
    "duration": 443,
    "start_time": "2021-11-17T20:12:02.128Z"
   },
   {
    "duration": 165,
    "start_time": "2021-11-17T20:12:13.911Z"
   },
   {
    "duration": 49374,
    "start_time": "2021-11-17T20:12:41.019Z"
   },
   {
    "duration": 563,
    "start_time": "2021-11-17T20:14:17.903Z"
   },
   {
    "duration": 10,
    "start_time": "2021-11-17T20:20:47.996Z"
   },
   {
    "duration": 19,
    "start_time": "2021-11-17T20:20:54.084Z"
   },
   {
    "duration": 6,
    "start_time": "2021-11-17T20:23:02.302Z"
   },
   {
    "duration": 6,
    "start_time": "2021-11-17T20:23:38.686Z"
   },
   {
    "duration": 6,
    "start_time": "2021-11-17T20:23:39.267Z"
   },
   {
    "duration": 6,
    "start_time": "2021-11-17T20:23:39.714Z"
   },
   {
    "duration": 6,
    "start_time": "2021-11-17T20:27:48.021Z"
   },
   {
    "duration": 6,
    "start_time": "2021-11-17T20:28:01.132Z"
   },
   {
    "duration": 581,
    "start_time": "2021-11-17T20:29:26.931Z"
   },
   {
    "duration": 35,
    "start_time": "2021-11-17T20:29:47.952Z"
   },
   {
    "duration": 15,
    "start_time": "2021-11-17T20:29:59.732Z"
   },
   {
    "duration": 7,
    "start_time": "2021-11-17T20:30:45.055Z"
   },
   {
    "duration": 8,
    "start_time": "2021-11-17T20:39:37.587Z"
   },
   {
    "duration": 15,
    "start_time": "2021-11-17T20:39:40.036Z"
   },
   {
    "duration": 5,
    "start_time": "2021-11-17T20:40:05.988Z"
   },
   {
    "duration": 81,
    "start_time": "2021-11-17T20:41:26.776Z"
   },
   {
    "duration": 46,
    "start_time": "2021-11-17T20:46:00.503Z"
   },
   {
    "duration": 40,
    "start_time": "2021-11-17T20:46:21.370Z"
   },
   {
    "duration": 647,
    "start_time": "2021-11-17T20:46:56.098Z"
   },
   {
    "duration": 15,
    "start_time": "2021-11-17T20:50:43.625Z"
   },
   {
    "duration": 15,
    "start_time": "2021-11-17T20:54:03.548Z"
   },
   {
    "duration": 101,
    "start_time": "2021-11-17T20:54:45.461Z"
   },
   {
    "duration": 21,
    "start_time": "2021-11-17T20:55:25.371Z"
   },
   {
    "duration": 237,
    "start_time": "2021-11-17T20:55:26.032Z"
   },
   {
    "duration": 223,
    "start_time": "2021-11-17T20:55:53.126Z"
   },
   {
    "duration": 226,
    "start_time": "2021-11-17T20:56:04.896Z"
   },
   {
    "duration": 24747,
    "start_time": "2021-11-17T20:56:43.379Z"
   },
   {
    "duration": 72268,
    "start_time": "2021-11-17T20:57:30.248Z"
   },
   {
    "duration": 1094,
    "start_time": "2021-11-18T19:35:09.210Z"
   },
   {
    "duration": 16,
    "start_time": "2021-11-18T19:35:10.305Z"
   },
   {
    "duration": 10,
    "start_time": "2021-11-18T19:35:10.323Z"
   },
   {
    "duration": 8,
    "start_time": "2021-11-18T19:35:10.335Z"
   },
   {
    "duration": 10,
    "start_time": "2021-11-18T19:35:10.345Z"
   },
   {
    "duration": 38,
    "start_time": "2021-11-18T19:35:10.356Z"
   },
   {
    "duration": 12,
    "start_time": "2021-11-18T19:35:10.396Z"
   },
   {
    "duration": 7,
    "start_time": "2021-11-18T19:35:10.410Z"
   },
   {
    "duration": 7,
    "start_time": "2021-11-18T19:35:10.419Z"
   },
   {
    "duration": 5,
    "start_time": "2021-11-18T19:35:10.428Z"
   },
   {
    "duration": 58,
    "start_time": "2021-11-18T19:35:10.434Z"
   },
   {
    "duration": 101,
    "start_time": "2021-11-18T19:35:10.494Z"
   },
   {
    "duration": 391,
    "start_time": "2021-11-18T19:35:10.597Z"
   },
   {
    "duration": 31624,
    "start_time": "2021-11-18T19:35:10.992Z"
   },
   {
    "duration": 73,
    "start_time": "2021-11-18T19:35:42.618Z"
   },
   {
    "duration": 115,
    "start_time": "2021-11-18T19:35:42.695Z"
   },
   {
    "duration": 298,
    "start_time": "2021-11-18T19:35:42.812Z"
   },
   {
    "duration": 6,
    "start_time": "2021-11-18T19:35:43.112Z"
   },
   {
    "duration": 22,
    "start_time": "2021-11-18T19:35:43.120Z"
   },
   {
    "duration": 64,
    "start_time": "2021-11-18T19:35:43.144Z"
   },
   {
    "duration": 200,
    "start_time": "2021-11-18T19:35:43.211Z"
   },
   {
    "duration": 423,
    "start_time": "2021-11-18T19:35:43.412Z"
   },
   {
    "duration": 11,
    "start_time": "2021-11-18T19:35:43.837Z"
   },
   {
    "duration": 42,
    "start_time": "2021-11-18T19:35:43.850Z"
   },
   {
    "duration": 197,
    "start_time": "2021-11-18T19:35:43.896Z"
   },
   {
    "duration": 6,
    "start_time": "2021-11-18T19:35:44.094Z"
   },
   {
    "duration": 44767,
    "start_time": "2021-11-18T19:35:44.103Z"
   },
   {
    "duration": 45,
    "start_time": "2021-11-18T19:36:34.051Z"
   },
   {
    "duration": 19,
    "start_time": "2021-11-18T19:37:05.744Z"
   },
   {
    "duration": 16,
    "start_time": "2021-11-18T19:38:14.019Z"
   },
   {
    "duration": 22,
    "start_time": "2021-11-18T19:38:41.962Z"
   },
   {
    "duration": 11,
    "start_time": "2021-11-18T19:40:14.070Z"
   },
   {
    "duration": 5,
    "start_time": "2021-11-18T19:40:43.776Z"
   },
   {
    "duration": 6,
    "start_time": "2021-11-18T19:40:50.431Z"
   },
   {
    "duration": 28,
    "start_time": "2021-11-18T19:40:56.232Z"
   },
   {
    "duration": 6,
    "start_time": "2021-11-18T19:40:59.219Z"
   },
   {
    "duration": 32,
    "start_time": "2021-11-18T19:42:23.310Z"
   },
   {
    "duration": 84,
    "start_time": "2021-11-18T19:43:58.811Z"
   },
   {
    "duration": 73,
    "start_time": "2021-11-18T19:44:07.521Z"
   },
   {
    "duration": 38,
    "start_time": "2021-11-18T19:44:38.661Z"
   },
   {
    "duration": 11,
    "start_time": "2021-11-18T19:47:19.028Z"
   },
   {
    "duration": 13,
    "start_time": "2021-11-18T19:47:27.883Z"
   },
   {
    "duration": 26,
    "start_time": "2021-11-18T19:48:52.889Z"
   },
   {
    "duration": 304,
    "start_time": "2021-11-18T19:50:46.239Z"
   },
   {
    "duration": 36,
    "start_time": "2021-11-18T19:53:21.563Z"
   },
   {
    "duration": 27,
    "start_time": "2021-11-18T19:53:30.657Z"
   },
   {
    "duration": 290,
    "start_time": "2021-11-18T19:53:42.116Z"
   },
   {
    "duration": 87,
    "start_time": "2021-11-18T19:56:19.606Z"
   },
   {
    "duration": 32,
    "start_time": "2021-11-18T19:56:46.198Z"
   },
   {
    "duration": 425,
    "start_time": "2021-11-18T19:57:01.936Z"
   },
   {
    "duration": 61,
    "start_time": "2021-11-18T19:58:53.735Z"
   },
   {
    "duration": 179,
    "start_time": "2021-11-18T20:01:02.615Z"
   },
   {
    "duration": 44625,
    "start_time": "2021-11-18T20:03:54.994Z"
   },
   {
    "duration": 809,
    "start_time": "2021-11-18T20:05:59.095Z"
   },
   {
    "duration": 16246,
    "start_time": "2021-11-18T20:07:11.869Z"
   },
   {
    "duration": 44977,
    "start_time": "2021-11-18T20:08:42.702Z"
   },
   {
    "duration": 848,
    "start_time": "2021-11-18T20:23:18.490Z"
   },
   {
    "duration": 565,
    "start_time": "2021-11-18T20:24:34.918Z"
   },
   {
    "duration": 30795,
    "start_time": "2021-11-18T20:25:07.646Z"
   },
   {
    "duration": 46688,
    "start_time": "2021-11-18T20:26:06.395Z"
   },
   {
    "duration": 10761,
    "start_time": "2021-11-18T20:36:27.851Z"
   },
   {
    "duration": 661,
    "start_time": "2021-11-18T20:36:57.932Z"
   },
   {
    "duration": 544,
    "start_time": "2021-11-18T20:37:16.095Z"
   },
   {
    "duration": 287,
    "start_time": "2021-11-18T20:37:43.446Z"
   },
   {
    "duration": 539,
    "start_time": "2021-11-18T20:37:52.685Z"
   },
   {
    "duration": 815,
    "start_time": "2021-11-18T20:38:29.822Z"
   },
   {
    "duration": 288,
    "start_time": "2021-11-18T20:41:20.432Z"
   },
   {
    "duration": 181,
    "start_time": "2021-11-18T20:43:17.116Z"
   },
   {
    "duration": 28,
    "start_time": "2021-11-18T20:56:13.358Z"
   },
   {
    "duration": 13,
    "start_time": "2021-11-18T20:56:13.388Z"
   },
   {
    "duration": 8,
    "start_time": "2021-11-18T20:56:13.404Z"
   },
   {
    "duration": 9,
    "start_time": "2021-11-18T20:56:13.415Z"
   },
   {
    "duration": 12,
    "start_time": "2021-11-18T20:56:13.425Z"
   },
   {
    "duration": 13,
    "start_time": "2021-11-18T20:56:13.438Z"
   },
   {
    "duration": 48,
    "start_time": "2021-11-18T20:56:13.453Z"
   },
   {
    "duration": 4,
    "start_time": "2021-11-18T20:56:13.504Z"
   },
   {
    "duration": 7,
    "start_time": "2021-11-18T20:56:13.510Z"
   },
   {
    "duration": 6,
    "start_time": "2021-11-18T20:56:13.519Z"
   },
   {
    "duration": 80,
    "start_time": "2021-11-18T20:56:13.526Z"
   },
   {
    "duration": 470,
    "start_time": "2021-11-18T20:56:13.693Z"
   },
   {
    "duration": 32,
    "start_time": "2021-11-18T20:56:14.165Z"
   },
   {
    "duration": 31485,
    "start_time": "2021-11-18T20:56:14.198Z"
   },
   {
    "duration": 310,
    "start_time": "2021-11-18T20:56:45.685Z"
   },
   {
    "duration": 96,
    "start_time": "2021-11-18T20:56:45.997Z"
   },
   {
    "duration": 117,
    "start_time": "2021-11-18T20:56:46.096Z"
   },
   {
    "duration": 305,
    "start_time": "2021-11-18T20:56:46.215Z"
   },
   {
    "duration": 7,
    "start_time": "2021-11-18T20:56:46.522Z"
   },
   {
    "duration": 11,
    "start_time": "2021-11-18T20:56:46.530Z"
   },
   {
    "duration": 76,
    "start_time": "2021-11-18T20:56:46.544Z"
   },
   {
    "duration": 123,
    "start_time": "2021-11-18T20:56:46.693Z"
   },
   {
    "duration": 44486,
    "start_time": "2021-11-18T20:56:46.818Z"
   },
   {
    "duration": 11,
    "start_time": "2021-11-18T20:57:31.306Z"
   },
   {
    "duration": 75,
    "start_time": "2021-11-18T20:57:31.318Z"
   },
   {
    "duration": 108,
    "start_time": "2021-11-18T20:57:31.396Z"
   },
   {
    "duration": 16310,
    "start_time": "2021-11-18T20:57:31.506Z"
   },
   {
    "duration": 798,
    "start_time": "2021-11-18T20:57:47.817Z"
   },
   {
    "duration": 542,
    "start_time": "2021-11-18T20:57:48.617Z"
   },
   {
    "duration": 31843,
    "start_time": "2021-11-18T21:01:59.719Z"
   },
   {
    "duration": 1541,
    "start_time": "2021-11-19T14:35:39.219Z"
   },
   {
    "duration": 25,
    "start_time": "2021-11-19T14:35:40.762Z"
   },
   {
    "duration": 17,
    "start_time": "2021-11-19T14:35:40.791Z"
   },
   {
    "duration": 13,
    "start_time": "2021-11-19T14:35:40.811Z"
   },
   {
    "duration": 41,
    "start_time": "2021-11-19T14:35:40.826Z"
   },
   {
    "duration": 20,
    "start_time": "2021-11-19T14:35:40.869Z"
   },
   {
    "duration": 21,
    "start_time": "2021-11-19T14:35:40.891Z"
   },
   {
    "duration": 5,
    "start_time": "2021-11-19T14:35:40.916Z"
   },
   {
    "duration": 41,
    "start_time": "2021-11-19T14:35:40.924Z"
   },
   {
    "duration": 8,
    "start_time": "2021-11-19T14:35:40.968Z"
   },
   {
    "duration": 191,
    "start_time": "2021-11-19T14:35:40.978Z"
   },
   {
    "duration": 635,
    "start_time": "2021-11-19T14:35:41.172Z"
   },
   {
    "duration": 52,
    "start_time": "2021-11-19T14:35:41.809Z"
   },
   {
    "duration": 49842,
    "start_time": "2021-11-19T14:35:41.863Z"
   },
   {
    "duration": 154,
    "start_time": "2021-11-19T14:36:31.707Z"
   },
   {
    "duration": 132,
    "start_time": "2021-11-19T14:36:31.865Z"
   },
   {
    "duration": 488,
    "start_time": "2021-11-19T14:36:32.000Z"
   },
   {
    "duration": 8,
    "start_time": "2021-11-19T14:36:32.490Z"
   },
   {
    "duration": 19,
    "start_time": "2021-11-19T14:36:32.501Z"
   },
   {
    "duration": 145,
    "start_time": "2021-11-19T14:36:32.523Z"
   },
   {
    "duration": 134,
    "start_time": "2021-11-19T14:36:32.762Z"
   },
   {
    "duration": 75036,
    "start_time": "2021-11-19T14:36:32.898Z"
   },
   {
    "duration": 23,
    "start_time": "2021-11-19T14:37:47.938Z"
   },
   {
    "duration": 105,
    "start_time": "2021-11-19T14:37:47.964Z"
   },
   {
    "duration": 115,
    "start_time": "2021-11-19T14:37:48.166Z"
   },
   {
    "duration": 25921,
    "start_time": "2021-11-19T14:37:48.283Z"
   },
   {
    "duration": 1290,
    "start_time": "2021-11-19T14:38:14.206Z"
   },
   {
    "duration": 867,
    "start_time": "2021-11-19T14:38:15.499Z"
   },
   {
    "duration": 250,
    "start_time": "2021-11-19T14:39:06.880Z"
   },
   {
    "duration": 239,
    "start_time": "2021-11-19T14:39:36.894Z"
   },
   {
    "duration": 1275,
    "start_time": "2022-02-18T14:55:40.728Z"
   },
   {
    "duration": 21,
    "start_time": "2022-02-18T14:55:42.005Z"
   },
   {
    "duration": 57,
    "start_time": "2022-02-18T14:55:42.029Z"
   },
   {
    "duration": 153,
    "start_time": "2022-02-18T14:55:42.089Z"
   },
   {
    "duration": 144,
    "start_time": "2022-02-18T14:55:42.254Z"
   },
   {
    "duration": 46,
    "start_time": "2022-02-18T14:55:42.407Z"
   },
   {
    "duration": 18,
    "start_time": "2022-02-18T14:55:42.456Z"
   },
   {
    "duration": 8,
    "start_time": "2022-02-18T14:55:42.477Z"
   },
   {
    "duration": 9,
    "start_time": "2022-02-18T14:55:42.487Z"
   },
   {
    "duration": 8,
    "start_time": "2022-02-18T14:55:42.498Z"
   },
   {
    "duration": 44,
    "start_time": "2022-02-18T14:55:42.508Z"
   },
   {
    "duration": 563,
    "start_time": "2022-02-18T14:55:42.610Z"
   },
   {
    "duration": 38,
    "start_time": "2022-02-18T14:55:43.175Z"
   },
   {
    "duration": 46925,
    "start_time": "2022-02-18T14:55:43.216Z"
   },
   {
    "duration": 164,
    "start_time": "2022-02-18T14:56:30.143Z"
   },
   {
    "duration": 121,
    "start_time": "2022-02-18T14:56:30.317Z"
   },
   {
    "duration": 391,
    "start_time": "2022-02-18T14:56:30.440Z"
   },
   {
    "duration": 8,
    "start_time": "2022-02-18T14:56:30.834Z"
   },
   {
    "duration": 20,
    "start_time": "2022-02-18T14:56:30.844Z"
   },
   {
    "duration": 240,
    "start_time": "2022-02-18T14:56:30.867Z"
   },
   {
    "duration": 130,
    "start_time": "2022-02-18T14:56:31.110Z"
   },
   {
    "duration": 55886,
    "start_time": "2022-02-18T14:56:31.243Z"
   },
   {
    "duration": 19,
    "start_time": "2022-02-18T14:57:27.134Z"
   },
   {
    "duration": 154,
    "start_time": "2022-02-18T14:57:27.156Z"
   },
   {
    "duration": 113,
    "start_time": "2022-02-18T14:57:27.312Z"
   },
   {
    "duration": 20370,
    "start_time": "2022-02-18T14:57:27.427Z"
   },
   {
    "duration": 1014,
    "start_time": "2022-02-18T14:57:47.799Z"
   },
   {
    "duration": 674,
    "start_time": "2022-02-18T14:57:48.816Z"
   },
   {
    "duration": 192,
    "start_time": "2022-02-18T14:57:49.493Z"
   },
   {
    "duration": 288,
    "start_time": "2022-02-18T14:58:01.736Z"
   }
  ],
  "kernelspec": {
   "display_name": "Python 3",
   "language": "python",
   "name": "python3"
  },
  "language_info": {
   "codemirror_mode": {
    "name": "ipython",
    "version": 3
   },
   "file_extension": ".py",
   "mimetype": "text/x-python",
   "name": "python",
   "nbconvert_exporter": "python",
   "pygments_lexer": "ipython3",
   "version": "3.7.8"
  },
  "toc": {
   "base_numbering": 1,
   "nav_menu": {},
   "number_sections": true,
   "sideBar": true,
   "skip_h1_title": true,
   "title_cell": "Содержание",
   "title_sidebar": "Contents",
   "toc_cell": true,
   "toc_position": {
    "height": "calc(100% - 180px)",
    "left": "10px",
    "top": "150px",
    "width": "190.225px"
   },
   "toc_section_display": true,
   "toc_window_display": false
  }
 },
 "nbformat": 4,
 "nbformat_minor": 2
}
