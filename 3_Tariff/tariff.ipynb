{
 "cells": [
  {
   "cell_type": "markdown",
   "metadata": {},
   "source": [
    "# Определение перспективного тарифа для телеком-компании"
   ]
  },
  {
   "cell_type": "markdown",
   "metadata": {
    "toc": true
   },
   "source": [
    "<h1>Содержание<span class=\"tocSkip\"></span></h1>\n",
    "<div class=\"toc\"><ul class=\"toc-item\"><li><span><a href=\"#Изучение-данных-из-файлов\" data-toc-modified-id=\"Изучение-данных-из-файлов-1\"><span class=\"toc-item-num\">1&nbsp;&nbsp;</span>Изучение данных из файлов</a></span></li><li><span><a href=\"#Создание-объединенной-таблицы\" data-toc-modified-id=\"Создание-объединенной-таблицы-2\"><span class=\"toc-item-num\">2&nbsp;&nbsp;</span>Создание объединенной таблицы</a></span></li><li><span><a href=\"#Анализ-данных-о-поведении-и-расходах-клиентов-Мегалайн\" data-toc-modified-id=\"Анализ-данных-о-поведении-и-расходах-клиентов-Мегалайн-3\"><span class=\"toc-item-num\">3&nbsp;&nbsp;</span>Анализ данных о поведении и расходах клиентов Мегалайн</a></span></li><li><span><a href=\"#Проверка-гипотезы\" data-toc-modified-id=\"Проверка-гипотезы-4\"><span class=\"toc-item-num\">4&nbsp;&nbsp;</span>Проверка гипотезы</a></span></li><li><span><a href=\"#Общий-вывод\" data-toc-modified-id=\"Общий-вывод-5\"><span class=\"toc-item-num\">5&nbsp;&nbsp;</span>Общий вывод</a></span></li></ul></div>"
   ]
  },
  {
   "cell_type": "markdown",
   "metadata": {},
   "source": [
    "По условию проекта, я - аналитик компании «Мегалайн» — федерального оператора сотовой связи. Клиентам предлагают два тарифных плана: «Смарт» и «Ультра». Чтобы скорректировать рекламный бюджет, коммерческий департамент хочет понять, какой тариф приносит больше денег.\n",
    "Необходимо сделать предварительный анализ тарифов на небольшой выборке клиентов. В моем распоряжении данные 500 пользователей «Мегалайна»: кто они, откуда, каким тарифом пользуются, сколько звонков и сообщений каждый отправил за 2018 год. Нужно проанализировать поведение клиентов и сделать вывод — какой тариф лучше."
   ]
  },
  {
   "cell_type": "markdown",
   "metadata": {},
   "source": [
    "###  Изучение данных из файлов"
   ]
  },
  {
   "cell_type": "code",
   "execution_count": 1,
   "metadata": {},
   "outputs": [],
   "source": [
    "import pandas as pd\n",
    "import matplotlib.pyplot as plt\n",
    "import math\n",
    "import numpy as np\n",
    "from scipy import stats as st\n",
    "\n",
    "calls = pd.read_csv('/datasets/calls.csv')\n",
    "internet = pd.read_csv('/datasets/internet.csv')\n",
    "messages = pd.read_csv('/datasets/messages.csv')\n",
    "tariffs = pd.read_csv('/datasets/tariffs.csv')\n",
    "users = pd.read_csv('/datasets/users.csv')"
   ]
  },
  {
   "cell_type": "code",
   "execution_count": 2,
   "metadata": {},
   "outputs": [
    {
     "data": {
      "text/html": [
       "<div>\n",
       "<style scoped>\n",
       "    .dataframe tbody tr th:only-of-type {\n",
       "        vertical-align: middle;\n",
       "    }\n",
       "\n",
       "    .dataframe tbody tr th {\n",
       "        vertical-align: top;\n",
       "    }\n",
       "\n",
       "    .dataframe thead th {\n",
       "        text-align: right;\n",
       "    }\n",
       "</style>\n",
       "<table border=\"1\" class=\"dataframe\">\n",
       "  <thead>\n",
       "    <tr style=\"text-align: right;\">\n",
       "      <th></th>\n",
       "      <th>id</th>\n",
       "      <th>call_date</th>\n",
       "      <th>duration</th>\n",
       "      <th>user_id</th>\n",
       "      <th>month</th>\n",
       "    </tr>\n",
       "  </thead>\n",
       "  <tbody>\n",
       "    <tr>\n",
       "      <td>19517</td>\n",
       "      <td>1053_138</td>\n",
       "      <td>2018-12-03</td>\n",
       "      <td>0</td>\n",
       "      <td>1053</td>\n",
       "      <td>12</td>\n",
       "    </tr>\n",
       "    <tr>\n",
       "      <td>92749</td>\n",
       "      <td>1233_94</td>\n",
       "      <td>2018-10-14</td>\n",
       "      <td>11</td>\n",
       "      <td>1233</td>\n",
       "      <td>10</td>\n",
       "    </tr>\n",
       "    <tr>\n",
       "      <td>181605</td>\n",
       "      <td>1453_797</td>\n",
       "      <td>2018-07-19</td>\n",
       "      <td>6</td>\n",
       "      <td>1453</td>\n",
       "      <td>7</td>\n",
       "    </tr>\n",
       "    <tr>\n",
       "      <td>189813</td>\n",
       "      <td>1467_80</td>\n",
       "      <td>2018-11-29</td>\n",
       "      <td>9</td>\n",
       "      <td>1467</td>\n",
       "      <td>11</td>\n",
       "    </tr>\n",
       "    <tr>\n",
       "      <td>186401</td>\n",
       "      <td>1460_319</td>\n",
       "      <td>2018-07-06</td>\n",
       "      <td>12</td>\n",
       "      <td>1460</td>\n",
       "      <td>7</td>\n",
       "    </tr>\n",
       "    <tr>\n",
       "      <td>40458</td>\n",
       "      <td>1099_831</td>\n",
       "      <td>2018-05-15</td>\n",
       "      <td>5</td>\n",
       "      <td>1099</td>\n",
       "      <td>5</td>\n",
       "    </tr>\n",
       "    <tr>\n",
       "      <td>164307</td>\n",
       "      <td>1404_144</td>\n",
       "      <td>2018-05-21</td>\n",
       "      <td>10</td>\n",
       "      <td>1404</td>\n",
       "      <td>5</td>\n",
       "    </tr>\n",
       "    <tr>\n",
       "      <td>71975</td>\n",
       "      <td>1179_247</td>\n",
       "      <td>2018-11-15</td>\n",
       "      <td>2</td>\n",
       "      <td>1179</td>\n",
       "      <td>11</td>\n",
       "    </tr>\n",
       "    <tr>\n",
       "      <td>143694</td>\n",
       "      <td>1363_606</td>\n",
       "      <td>2018-11-16</td>\n",
       "      <td>7</td>\n",
       "      <td>1363</td>\n",
       "      <td>11</td>\n",
       "    </tr>\n",
       "    <tr>\n",
       "      <td>108514</td>\n",
       "      <td>1280_433</td>\n",
       "      <td>2018-09-30</td>\n",
       "      <td>0</td>\n",
       "      <td>1280</td>\n",
       "      <td>9</td>\n",
       "    </tr>\n",
       "    <tr>\n",
       "      <td>60164</td>\n",
       "      <td>1151_189</td>\n",
       "      <td>2018-12-18</td>\n",
       "      <td>15</td>\n",
       "      <td>1151</td>\n",
       "      <td>12</td>\n",
       "    </tr>\n",
       "    <tr>\n",
       "      <td>172436</td>\n",
       "      <td>1426_80</td>\n",
       "      <td>2018-09-16</td>\n",
       "      <td>0</td>\n",
       "      <td>1426</td>\n",
       "      <td>9</td>\n",
       "    </tr>\n",
       "    <tr>\n",
       "      <td>27367</td>\n",
       "      <td>1067_277</td>\n",
       "      <td>2018-07-31</td>\n",
       "      <td>1</td>\n",
       "      <td>1067</td>\n",
       "      <td>7</td>\n",
       "    </tr>\n",
       "    <tr>\n",
       "      <td>4767</td>\n",
       "      <td>1012_241</td>\n",
       "      <td>2018-05-05</td>\n",
       "      <td>11</td>\n",
       "      <td>1012</td>\n",
       "      <td>5</td>\n",
       "    </tr>\n",
       "    <tr>\n",
       "      <td>60106</td>\n",
       "      <td>1151_131</td>\n",
       "      <td>2018-10-16</td>\n",
       "      <td>0</td>\n",
       "      <td>1151</td>\n",
       "      <td>10</td>\n",
       "    </tr>\n",
       "  </tbody>\n",
       "</table>\n",
       "</div>"
      ],
      "text/plain": [
       "              id  call_date  duration  user_id  month\n",
       "19517   1053_138 2018-12-03         0     1053     12\n",
       "92749    1233_94 2018-10-14        11     1233     10\n",
       "181605  1453_797 2018-07-19         6     1453      7\n",
       "189813   1467_80 2018-11-29         9     1467     11\n",
       "186401  1460_319 2018-07-06        12     1460      7\n",
       "40458   1099_831 2018-05-15         5     1099      5\n",
       "164307  1404_144 2018-05-21        10     1404      5\n",
       "71975   1179_247 2018-11-15         2     1179     11\n",
       "143694  1363_606 2018-11-16         7     1363     11\n",
       "108514  1280_433 2018-09-30         0     1280      9\n",
       "60164   1151_189 2018-12-18        15     1151     12\n",
       "172436   1426_80 2018-09-16         0     1426      9\n",
       "27367   1067_277 2018-07-31         1     1067      7\n",
       "4767    1012_241 2018-05-05        11     1012      5\n",
       "60106   1151_131 2018-10-16         0     1151     10"
      ]
     },
     "execution_count": 2,
     "metadata": {},
     "output_type": "execute_result"
    }
   ],
   "source": [
    "calls['call_date'] = pd.to_datetime(calls['call_date'], format='%Y-%m-%d')\n",
    "calls['duration'] = np.ceil(calls['duration']).astype(int)\n",
    "calls['month'] = calls['call_date'].dt.month\n",
    "calls.sample(15)"
   ]
  },
  {
   "cell_type": "markdown",
   "metadata": {},
   "source": [
    "   \n",
    "   В таблице с данными о звонках клиентов \"Мегалайн\" округлили длительность звонков, по правилам компании, в большую сторону до минут. Поправили формат даты в столбце \"__Call_date__\", и добавили столбец со значением месяца \"__Month__\".\n",
    "   \n",
    "   "
   ]
  },
  {
   "cell_type": "code",
   "execution_count": 3,
   "metadata": {},
   "outputs": [
    {
     "data": {
      "text/html": [
       "<div>\n",
       "<style scoped>\n",
       "    .dataframe tbody tr th:only-of-type {\n",
       "        vertical-align: middle;\n",
       "    }\n",
       "\n",
       "    .dataframe tbody tr th {\n",
       "        vertical-align: top;\n",
       "    }\n",
       "\n",
       "    .dataframe thead th {\n",
       "        text-align: right;\n",
       "    }\n",
       "</style>\n",
       "<table border=\"1\" class=\"dataframe\">\n",
       "  <thead>\n",
       "    <tr style=\"text-align: right;\">\n",
       "      <th></th>\n",
       "      <th>Unnamed: 0</th>\n",
       "      <th>id</th>\n",
       "      <th>mb_used</th>\n",
       "      <th>session_date</th>\n",
       "      <th>user_id</th>\n",
       "      <th>month</th>\n",
       "    </tr>\n",
       "  </thead>\n",
       "  <tbody>\n",
       "    <tr>\n",
       "      <td>66645</td>\n",
       "      <td>66645</td>\n",
       "      <td>1227_242</td>\n",
       "      <td>0.00</td>\n",
       "      <td>2018-07-09</td>\n",
       "      <td>1227</td>\n",
       "      <td>7</td>\n",
       "    </tr>\n",
       "    <tr>\n",
       "      <td>107209</td>\n",
       "      <td>107209</td>\n",
       "      <td>1363_255</td>\n",
       "      <td>646.58</td>\n",
       "      <td>2018-05-04</td>\n",
       "      <td>1363</td>\n",
       "      <td>5</td>\n",
       "    </tr>\n",
       "    <tr>\n",
       "      <td>57826</td>\n",
       "      <td>57826</td>\n",
       "      <td>1193_365</td>\n",
       "      <td>133.76</td>\n",
       "      <td>2018-11-02</td>\n",
       "      <td>1193</td>\n",
       "      <td>11</td>\n",
       "    </tr>\n",
       "    <tr>\n",
       "      <td>41039</td>\n",
       "      <td>41039</td>\n",
       "      <td>1144_199</td>\n",
       "      <td>0.00</td>\n",
       "      <td>2018-07-29</td>\n",
       "      <td>1144</td>\n",
       "      <td>7</td>\n",
       "    </tr>\n",
       "    <tr>\n",
       "      <td>35735</td>\n",
       "      <td>35735</td>\n",
       "      <td>1124_115</td>\n",
       "      <td>369.62</td>\n",
       "      <td>2018-11-20</td>\n",
       "      <td>1124</td>\n",
       "      <td>11</td>\n",
       "    </tr>\n",
       "    <tr>\n",
       "      <td>94797</td>\n",
       "      <td>94797</td>\n",
       "      <td>1321_61</td>\n",
       "      <td>307.84</td>\n",
       "      <td>2018-07-20</td>\n",
       "      <td>1321</td>\n",
       "      <td>7</td>\n",
       "    </tr>\n",
       "    <tr>\n",
       "      <td>50114</td>\n",
       "      <td>50114</td>\n",
       "      <td>1172_396</td>\n",
       "      <td>702.54</td>\n",
       "      <td>2018-12-14</td>\n",
       "      <td>1172</td>\n",
       "      <td>12</td>\n",
       "    </tr>\n",
       "    <tr>\n",
       "      <td>71754</td>\n",
       "      <td>71754</td>\n",
       "      <td>1242_9</td>\n",
       "      <td>502.98</td>\n",
       "      <td>2018-12-17</td>\n",
       "      <td>1242</td>\n",
       "      <td>12</td>\n",
       "    </tr>\n",
       "    <tr>\n",
       "      <td>32930</td>\n",
       "      <td>32930</td>\n",
       "      <td>1115_133</td>\n",
       "      <td>252.96</td>\n",
       "      <td>2018-12-14</td>\n",
       "      <td>1115</td>\n",
       "      <td>12</td>\n",
       "    </tr>\n",
       "    <tr>\n",
       "      <td>128291</td>\n",
       "      <td>128291</td>\n",
       "      <td>1429_449</td>\n",
       "      <td>269.25</td>\n",
       "      <td>2018-06-21</td>\n",
       "      <td>1429</td>\n",
       "      <td>6</td>\n",
       "    </tr>\n",
       "    <tr>\n",
       "      <td>111826</td>\n",
       "      <td>111826</td>\n",
       "      <td>1379_194</td>\n",
       "      <td>694.03</td>\n",
       "      <td>2018-12-09</td>\n",
       "      <td>1379</td>\n",
       "      <td>12</td>\n",
       "    </tr>\n",
       "    <tr>\n",
       "      <td>15640</td>\n",
       "      <td>15640</td>\n",
       "      <td>1055_98</td>\n",
       "      <td>482.20</td>\n",
       "      <td>2018-07-04</td>\n",
       "      <td>1055</td>\n",
       "      <td>7</td>\n",
       "    </tr>\n",
       "    <tr>\n",
       "      <td>48856</td>\n",
       "      <td>48856</td>\n",
       "      <td>1168_624</td>\n",
       "      <td>279.79</td>\n",
       "      <td>2018-03-26</td>\n",
       "      <td>1168</td>\n",
       "      <td>3</td>\n",
       "    </tr>\n",
       "    <tr>\n",
       "      <td>78062</td>\n",
       "      <td>78062</td>\n",
       "      <td>1263_133</td>\n",
       "      <td>401.68</td>\n",
       "      <td>2018-07-25</td>\n",
       "      <td>1263</td>\n",
       "      <td>7</td>\n",
       "    </tr>\n",
       "    <tr>\n",
       "      <td>17154</td>\n",
       "      <td>17154</td>\n",
       "      <td>1059_160</td>\n",
       "      <td>357.78</td>\n",
       "      <td>2018-12-07</td>\n",
       "      <td>1059</td>\n",
       "      <td>12</td>\n",
       "    </tr>\n",
       "  </tbody>\n",
       "</table>\n",
       "</div>"
      ],
      "text/plain": [
       "        Unnamed: 0        id  mb_used session_date  user_id  month\n",
       "66645        66645  1227_242     0.00   2018-07-09     1227      7\n",
       "107209      107209  1363_255   646.58   2018-05-04     1363      5\n",
       "57826        57826  1193_365   133.76   2018-11-02     1193     11\n",
       "41039        41039  1144_199     0.00   2018-07-29     1144      7\n",
       "35735        35735  1124_115   369.62   2018-11-20     1124     11\n",
       "94797        94797   1321_61   307.84   2018-07-20     1321      7\n",
       "50114        50114  1172_396   702.54   2018-12-14     1172     12\n",
       "71754        71754    1242_9   502.98   2018-12-17     1242     12\n",
       "32930        32930  1115_133   252.96   2018-12-14     1115     12\n",
       "128291      128291  1429_449   269.25   2018-06-21     1429      6\n",
       "111826      111826  1379_194   694.03   2018-12-09     1379     12\n",
       "15640        15640   1055_98   482.20   2018-07-04     1055      7\n",
       "48856        48856  1168_624   279.79   2018-03-26     1168      3\n",
       "78062        78062  1263_133   401.68   2018-07-25     1263      7\n",
       "17154        17154  1059_160   357.78   2018-12-07     1059     12"
      ]
     },
     "execution_count": 3,
     "metadata": {},
     "output_type": "execute_result"
    }
   ],
   "source": [
    "internet['session_date'] = pd.to_datetime(internet['session_date'], format='%Y-%m-%d') \n",
    "internet['month'] = internet['session_date'].dt.month\n",
    "internet.sample(15)"
   ]
  },
  {
   "cell_type": "markdown",
   "metadata": {},
   "source": [
    "\n",
    "В таблице с данными о потраченных Мегабайтах интернет-траффика клиентов \"Мегалайн\" поправили формат даты в столбце \"__session_date__\", и добавили столбец со значением месяца \"__Month__\".\n"
   ]
  },
  {
   "cell_type": "code",
   "execution_count": 4,
   "metadata": {},
   "outputs": [
    {
     "name": "stdout",
     "output_type": "stream",
     "text": [
      "<class 'pandas.core.frame.DataFrame'>\n",
      "RangeIndex: 123036 entries, 0 to 123035\n",
      "Data columns (total 4 columns):\n",
      "id              123036 non-null object\n",
      "message_date    123036 non-null datetime64[ns]\n",
      "user_id         123036 non-null int64\n",
      "month           123036 non-null int64\n",
      "dtypes: datetime64[ns](1), int64(2), object(1)\n",
      "memory usage: 3.8+ MB\n"
     ]
    },
    {
     "data": {
      "text/html": [
       "<div>\n",
       "<style scoped>\n",
       "    .dataframe tbody tr th:only-of-type {\n",
       "        vertical-align: middle;\n",
       "    }\n",
       "\n",
       "    .dataframe tbody tr th {\n",
       "        vertical-align: top;\n",
       "    }\n",
       "\n",
       "    .dataframe thead th {\n",
       "        text-align: right;\n",
       "    }\n",
       "</style>\n",
       "<table border=\"1\" class=\"dataframe\">\n",
       "  <thead>\n",
       "    <tr style=\"text-align: right;\">\n",
       "      <th></th>\n",
       "      <th>id</th>\n",
       "      <th>message_date</th>\n",
       "      <th>user_id</th>\n",
       "      <th>month</th>\n",
       "    </tr>\n",
       "  </thead>\n",
       "  <tbody>\n",
       "    <tr>\n",
       "      <td>18257</td>\n",
       "      <td>1080_203</td>\n",
       "      <td>2018-10-17</td>\n",
       "      <td>1080</td>\n",
       "      <td>10</td>\n",
       "    </tr>\n",
       "    <tr>\n",
       "      <td>101132</td>\n",
       "      <td>1414_76</td>\n",
       "      <td>2018-07-18</td>\n",
       "      <td>1414</td>\n",
       "      <td>7</td>\n",
       "    </tr>\n",
       "    <tr>\n",
       "      <td>73283</td>\n",
       "      <td>1310_152</td>\n",
       "      <td>2018-08-28</td>\n",
       "      <td>1310</td>\n",
       "      <td>8</td>\n",
       "    </tr>\n",
       "    <tr>\n",
       "      <td>101570</td>\n",
       "      <td>1415_146</td>\n",
       "      <td>2018-07-22</td>\n",
       "      <td>1415</td>\n",
       "      <td>7</td>\n",
       "    </tr>\n",
       "    <tr>\n",
       "      <td>87806</td>\n",
       "      <td>1366_65</td>\n",
       "      <td>2018-12-04</td>\n",
       "      <td>1366</td>\n",
       "      <td>12</td>\n",
       "    </tr>\n",
       "    <tr>\n",
       "      <td>81307</td>\n",
       "      <td>1341_161</td>\n",
       "      <td>2018-06-27</td>\n",
       "      <td>1341</td>\n",
       "      <td>6</td>\n",
       "    </tr>\n",
       "    <tr>\n",
       "      <td>20836</td>\n",
       "      <td>1089_839</td>\n",
       "      <td>2018-11-27</td>\n",
       "      <td>1089</td>\n",
       "      <td>11</td>\n",
       "    </tr>\n",
       "    <tr>\n",
       "      <td>59730</td>\n",
       "      <td>1262_221</td>\n",
       "      <td>2018-05-01</td>\n",
       "      <td>1262</td>\n",
       "      <td>5</td>\n",
       "    </tr>\n",
       "    <tr>\n",
       "      <td>118040</td>\n",
       "      <td>1478_392</td>\n",
       "      <td>2018-10-16</td>\n",
       "      <td>1478</td>\n",
       "      <td>10</td>\n",
       "    </tr>\n",
       "    <tr>\n",
       "      <td>79419</td>\n",
       "      <td>1332_39</td>\n",
       "      <td>2018-08-23</td>\n",
       "      <td>1332</td>\n",
       "      <td>8</td>\n",
       "    </tr>\n",
       "    <tr>\n",
       "      <td>71024</td>\n",
       "      <td>1300_776</td>\n",
       "      <td>2018-10-13</td>\n",
       "      <td>1300</td>\n",
       "      <td>10</td>\n",
       "    </tr>\n",
       "    <tr>\n",
       "      <td>116431</td>\n",
       "      <td>1472_735</td>\n",
       "      <td>2018-08-27</td>\n",
       "      <td>1472</td>\n",
       "      <td>8</td>\n",
       "    </tr>\n",
       "    <tr>\n",
       "      <td>7965</td>\n",
       "      <td>1032_136</td>\n",
       "      <td>2018-06-26</td>\n",
       "      <td>1032</td>\n",
       "      <td>6</td>\n",
       "    </tr>\n",
       "    <tr>\n",
       "      <td>24452</td>\n",
       "      <td>1100_209</td>\n",
       "      <td>2018-08-06</td>\n",
       "      <td>1100</td>\n",
       "      <td>8</td>\n",
       "    </tr>\n",
       "    <tr>\n",
       "      <td>92558</td>\n",
       "      <td>1382_19</td>\n",
       "      <td>2018-11-13</td>\n",
       "      <td>1382</td>\n",
       "      <td>11</td>\n",
       "    </tr>\n",
       "  </tbody>\n",
       "</table>\n",
       "</div>"
      ],
      "text/plain": [
       "              id message_date  user_id  month\n",
       "18257   1080_203   2018-10-17     1080     10\n",
       "101132   1414_76   2018-07-18     1414      7\n",
       "73283   1310_152   2018-08-28     1310      8\n",
       "101570  1415_146   2018-07-22     1415      7\n",
       "87806    1366_65   2018-12-04     1366     12\n",
       "81307   1341_161   2018-06-27     1341      6\n",
       "20836   1089_839   2018-11-27     1089     11\n",
       "59730   1262_221   2018-05-01     1262      5\n",
       "118040  1478_392   2018-10-16     1478     10\n",
       "79419    1332_39   2018-08-23     1332      8\n",
       "71024   1300_776   2018-10-13     1300     10\n",
       "116431  1472_735   2018-08-27     1472      8\n",
       "7965    1032_136   2018-06-26     1032      6\n",
       "24452   1100_209   2018-08-06     1100      8\n",
       "92558    1382_19   2018-11-13     1382     11"
      ]
     },
     "execution_count": 4,
     "metadata": {},
     "output_type": "execute_result"
    }
   ],
   "source": [
    "messages['message_date'] = pd.to_datetime(messages['message_date'], format='%Y-%m-%d')\n",
    "messages['month'] = messages['message_date'].dt.month\n",
    "messages.info()\n",
    "messages.sample(15)"
   ]
  },
  {
   "cell_type": "markdown",
   "metadata": {},
   "source": [
    "В таблице с данными о сообщениях клиентов \"Мегалайн\" поправили формат даты в столбце \"__message_date__\", и добавили столбец со значением месяца \"__Month__\"."
   ]
  },
  {
   "cell_type": "code",
   "execution_count": 5,
   "metadata": {},
   "outputs": [
    {
     "name": "stdout",
     "output_type": "stream",
     "text": [
      "<class 'pandas.core.frame.DataFrame'>\n",
      "RangeIndex: 2 entries, 0 to 1\n",
      "Data columns (total 8 columns):\n",
      "messages_included        2 non-null int64\n",
      "mb_per_month_included    2 non-null int64\n",
      "minutes_included         2 non-null int64\n",
      "rub_monthly_fee          2 non-null int64\n",
      "rub_per_gb               2 non-null int64\n",
      "rub_per_message          2 non-null int64\n",
      "rub_per_minute           2 non-null int64\n",
      "tariff_name              2 non-null object\n",
      "dtypes: int64(7), object(1)\n",
      "memory usage: 256.0+ bytes\n"
     ]
    },
    {
     "data": {
      "text/html": [
       "<div>\n",
       "<style scoped>\n",
       "    .dataframe tbody tr th:only-of-type {\n",
       "        vertical-align: middle;\n",
       "    }\n",
       "\n",
       "    .dataframe tbody tr th {\n",
       "        vertical-align: top;\n",
       "    }\n",
       "\n",
       "    .dataframe thead th {\n",
       "        text-align: right;\n",
       "    }\n",
       "</style>\n",
       "<table border=\"1\" class=\"dataframe\">\n",
       "  <thead>\n",
       "    <tr style=\"text-align: right;\">\n",
       "      <th></th>\n",
       "      <th>messages_included</th>\n",
       "      <th>mb_per_month_included</th>\n",
       "      <th>minutes_included</th>\n",
       "      <th>rub_monthly_fee</th>\n",
       "      <th>rub_per_gb</th>\n",
       "      <th>rub_per_message</th>\n",
       "      <th>rub_per_minute</th>\n",
       "      <th>tariff_name</th>\n",
       "      <th>gb_per_month_included</th>\n",
       "    </tr>\n",
       "  </thead>\n",
       "  <tbody>\n",
       "    <tr>\n",
       "      <td>0</td>\n",
       "      <td>50</td>\n",
       "      <td>15360</td>\n",
       "      <td>500</td>\n",
       "      <td>550</td>\n",
       "      <td>200</td>\n",
       "      <td>3</td>\n",
       "      <td>3</td>\n",
       "      <td>smart</td>\n",
       "      <td>15</td>\n",
       "    </tr>\n",
       "    <tr>\n",
       "      <td>1</td>\n",
       "      <td>1000</td>\n",
       "      <td>30720</td>\n",
       "      <td>3000</td>\n",
       "      <td>1950</td>\n",
       "      <td>150</td>\n",
       "      <td>1</td>\n",
       "      <td>1</td>\n",
       "      <td>ultra</td>\n",
       "      <td>30</td>\n",
       "    </tr>\n",
       "  </tbody>\n",
       "</table>\n",
       "</div>"
      ],
      "text/plain": [
       "   messages_included  mb_per_month_included  minutes_included  \\\n",
       "0                 50                  15360               500   \n",
       "1               1000                  30720              3000   \n",
       "\n",
       "   rub_monthly_fee  rub_per_gb  rub_per_message  rub_per_minute tariff_name  \\\n",
       "0              550         200                3               3       smart   \n",
       "1             1950         150                1               1       ultra   \n",
       "\n",
       "   gb_per_month_included  \n",
       "0                     15  \n",
       "1                     30  "
      ]
     },
     "execution_count": 5,
     "metadata": {},
     "output_type": "execute_result"
    }
   ],
   "source": [
    "tariffs.info()\n",
    "\n",
    "tariffs['gb_per_month_included'] = tariffs['mb_per_month_included'] /1024 \n",
    "tariffs['gb_per_month_included'] = tariffs['gb_per_month_included'].astype(int)\n",
    "tariffs"
   ]
  },
  {
   "cell_type": "markdown",
   "metadata": {},
   "source": [
    "В таблице с данными о тарифах \"Мегалайн\" перевели значения входящих в тариф бесплатных Мегабайт в Гигабайты (столбец \"__gb_per_month_included__\" и перевели данные в тип __int__."
   ]
  },
  {
   "cell_type": "code",
   "execution_count": 6,
   "metadata": {},
   "outputs": [
    {
     "name": "stdout",
     "output_type": "stream",
     "text": [
      "<class 'pandas.core.frame.DataFrame'>\n",
      "RangeIndex: 500 entries, 0 to 499\n",
      "Data columns (total 8 columns):\n",
      "user_id       500 non-null int64\n",
      "age           500 non-null int64\n",
      "churn_date    38 non-null datetime64[ns]\n",
      "city          500 non-null object\n",
      "first_name    500 non-null object\n",
      "last_name     500 non-null object\n",
      "reg_date      500 non-null datetime64[ns]\n",
      "tariff        500 non-null object\n",
      "dtypes: datetime64[ns](2), int64(2), object(4)\n",
      "memory usage: 31.4+ KB\n"
     ]
    }
   ],
   "source": [
    "users['reg_date'] = pd.to_datetime(users['reg_date'], format='%Y-%m-%d')\n",
    "users['churn_date'] = pd.to_datetime(users['churn_date'], format='%Y-%m-%d')\n",
    "users.info()"
   ]
  },
  {
   "cell_type": "markdown",
   "metadata": {},
   "source": [
    "В таблице с данными о клиентах \"Мегалайн\" поправили формат даты в столбцах \"__reg_date__\" и \"__churn_date__\"."
   ]
  },
  {
   "cell_type": "markdown",
   "metadata": {},
   "source": [
    "### Создание объединенной таблицы \n",
    "Создадим общую таблицу с количеством сделанных звонков, израсходованных минут разговора, отправленных сообщений и объема израсходованного интернет-трафика по месяцам."
   ]
  },
  {
   "cell_type": "code",
   "execution_count": 7,
   "metadata": {},
   "outputs": [
    {
     "data": {
      "text/html": [
       "<div>\n",
       "<style scoped>\n",
       "    .dataframe tbody tr th:only-of-type {\n",
       "        vertical-align: middle;\n",
       "    }\n",
       "\n",
       "    .dataframe tbody tr th {\n",
       "        vertical-align: top;\n",
       "    }\n",
       "\n",
       "    .dataframe thead th {\n",
       "        text-align: right;\n",
       "    }\n",
       "</style>\n",
       "<table border=\"1\" class=\"dataframe\">\n",
       "  <thead>\n",
       "    <tr style=\"text-align: right;\">\n",
       "      <th></th>\n",
       "      <th></th>\n",
       "      <th>calls_count</th>\n",
       "      <th>minutes_spent</th>\n",
       "    </tr>\n",
       "    <tr>\n",
       "      <th>user_id</th>\n",
       "      <th>month</th>\n",
       "      <th></th>\n",
       "      <th></th>\n",
       "    </tr>\n",
       "  </thead>\n",
       "  <tbody>\n",
       "    <tr>\n",
       "      <td rowspan=\"5\" valign=\"top\">1000</td>\n",
       "      <td>5</td>\n",
       "      <td>22</td>\n",
       "      <td>159</td>\n",
       "    </tr>\n",
       "    <tr>\n",
       "      <td>6</td>\n",
       "      <td>43</td>\n",
       "      <td>172</td>\n",
       "    </tr>\n",
       "    <tr>\n",
       "      <td>7</td>\n",
       "      <td>47</td>\n",
       "      <td>340</td>\n",
       "    </tr>\n",
       "    <tr>\n",
       "      <td>8</td>\n",
       "      <td>52</td>\n",
       "      <td>408</td>\n",
       "    </tr>\n",
       "    <tr>\n",
       "      <td>9</td>\n",
       "      <td>58</td>\n",
       "      <td>466</td>\n",
       "    </tr>\n",
       "    <tr>\n",
       "      <td>...</td>\n",
       "      <td>...</td>\n",
       "      <td>...</td>\n",
       "      <td>...</td>\n",
       "    </tr>\n",
       "    <tr>\n",
       "      <td>1498</td>\n",
       "      <td>10</td>\n",
       "      <td>41</td>\n",
       "      <td>247</td>\n",
       "    </tr>\n",
       "    <tr>\n",
       "      <td rowspan=\"4\" valign=\"top\">1499</td>\n",
       "      <td>9</td>\n",
       "      <td>9</td>\n",
       "      <td>70</td>\n",
       "    </tr>\n",
       "    <tr>\n",
       "      <td>10</td>\n",
       "      <td>68</td>\n",
       "      <td>449</td>\n",
       "    </tr>\n",
       "    <tr>\n",
       "      <td>11</td>\n",
       "      <td>74</td>\n",
       "      <td>612</td>\n",
       "    </tr>\n",
       "    <tr>\n",
       "      <td>12</td>\n",
       "      <td>69</td>\n",
       "      <td>492</td>\n",
       "    </tr>\n",
       "  </tbody>\n",
       "</table>\n",
       "<p>3174 rows × 2 columns</p>\n",
       "</div>"
      ],
      "text/plain": [
       "               calls_count  minutes_spent\n",
       "user_id month                            \n",
       "1000    5               22            159\n",
       "        6               43            172\n",
       "        7               47            340\n",
       "        8               52            408\n",
       "        9               58            466\n",
       "...                    ...            ...\n",
       "1498    10              41            247\n",
       "1499    9                9             70\n",
       "        10              68            449\n",
       "        11              74            612\n",
       "        12              69            492\n",
       "\n",
       "[3174 rows x 2 columns]"
      ]
     },
     "execution_count": 7,
     "metadata": {},
     "output_type": "execute_result"
    }
   ],
   "source": [
    "calls_month = calls.pivot_table(\n",
    "    index = ['user_id', 'month'], \n",
    "    values = 'duration', \n",
    "    aggfunc = ['count','sum']\n",
    ")\n",
    "calls_month.columns = [ 'calls_count', 'minutes_spent']\n",
    "calls_month\n"
   ]
  },
  {
   "cell_type": "code",
   "execution_count": 8,
   "metadata": {},
   "outputs": [
    {
     "data": {
      "text/html": [
       "<div>\n",
       "<style scoped>\n",
       "    .dataframe tbody tr th:only-of-type {\n",
       "        vertical-align: middle;\n",
       "    }\n",
       "\n",
       "    .dataframe tbody tr th {\n",
       "        vertical-align: top;\n",
       "    }\n",
       "\n",
       "    .dataframe thead th {\n",
       "        text-align: right;\n",
       "    }\n",
       "</style>\n",
       "<table border=\"1\" class=\"dataframe\">\n",
       "  <thead>\n",
       "    <tr style=\"text-align: right;\">\n",
       "      <th></th>\n",
       "      <th></th>\n",
       "      <th>message_count</th>\n",
       "    </tr>\n",
       "    <tr>\n",
       "      <th>user_id</th>\n",
       "      <th>month</th>\n",
       "      <th></th>\n",
       "    </tr>\n",
       "  </thead>\n",
       "  <tbody>\n",
       "    <tr>\n",
       "      <td rowspan=\"5\" valign=\"top\">1000</td>\n",
       "      <td>5</td>\n",
       "      <td>22</td>\n",
       "    </tr>\n",
       "    <tr>\n",
       "      <td>6</td>\n",
       "      <td>60</td>\n",
       "    </tr>\n",
       "    <tr>\n",
       "      <td>7</td>\n",
       "      <td>75</td>\n",
       "    </tr>\n",
       "    <tr>\n",
       "      <td>8</td>\n",
       "      <td>81</td>\n",
       "    </tr>\n",
       "    <tr>\n",
       "      <td>9</td>\n",
       "      <td>57</td>\n",
       "    </tr>\n",
       "    <tr>\n",
       "      <td>...</td>\n",
       "      <td>...</td>\n",
       "      <td>...</td>\n",
       "    </tr>\n",
       "    <tr>\n",
       "      <td>1498</td>\n",
       "      <td>10</td>\n",
       "      <td>42</td>\n",
       "    </tr>\n",
       "    <tr>\n",
       "      <td rowspan=\"4\" valign=\"top\">1499</td>\n",
       "      <td>9</td>\n",
       "      <td>11</td>\n",
       "    </tr>\n",
       "    <tr>\n",
       "      <td>10</td>\n",
       "      <td>48</td>\n",
       "    </tr>\n",
       "    <tr>\n",
       "      <td>11</td>\n",
       "      <td>59</td>\n",
       "    </tr>\n",
       "    <tr>\n",
       "      <td>12</td>\n",
       "      <td>66</td>\n",
       "    </tr>\n",
       "  </tbody>\n",
       "</table>\n",
       "<p>2717 rows × 1 columns</p>\n",
       "</div>"
      ],
      "text/plain": [
       "               message_count\n",
       "user_id month               \n",
       "1000    5                 22\n",
       "        6                 60\n",
       "        7                 75\n",
       "        8                 81\n",
       "        9                 57\n",
       "...                      ...\n",
       "1498    10                42\n",
       "1499    9                 11\n",
       "        10                48\n",
       "        11                59\n",
       "        12                66\n",
       "\n",
       "[2717 rows x 1 columns]"
      ]
     },
     "execution_count": 8,
     "metadata": {},
     "output_type": "execute_result"
    }
   ],
   "source": [
    "messages_month = messages.pivot_table(\n",
    "    index = ['user_id', 'month'], \n",
    "    values = 'id', \n",
    "    aggfunc = ['count']\n",
    ")\n",
    "messages_month.columns = [ 'message_count']\n",
    "messages_month"
   ]
  },
  {
   "cell_type": "code",
   "execution_count": 9,
   "metadata": {},
   "outputs": [
    {
     "data": {
      "text/html": [
       "<div>\n",
       "<style scoped>\n",
       "    .dataframe tbody tr th:only-of-type {\n",
       "        vertical-align: middle;\n",
       "    }\n",
       "\n",
       "    .dataframe tbody tr th {\n",
       "        vertical-align: top;\n",
       "    }\n",
       "\n",
       "    .dataframe thead th {\n",
       "        text-align: right;\n",
       "    }\n",
       "</style>\n",
       "<table border=\"1\" class=\"dataframe\">\n",
       "  <thead>\n",
       "    <tr style=\"text-align: right;\">\n",
       "      <th></th>\n",
       "      <th></th>\n",
       "      <th>traffic_mb</th>\n",
       "      <th>traffic_gb</th>\n",
       "    </tr>\n",
       "    <tr>\n",
       "      <th>user_id</th>\n",
       "      <th>month</th>\n",
       "      <th></th>\n",
       "      <th></th>\n",
       "    </tr>\n",
       "  </thead>\n",
       "  <tbody>\n",
       "    <tr>\n",
       "      <td rowspan=\"5\" valign=\"top\">1000</td>\n",
       "      <td>5</td>\n",
       "      <td>2253.49</td>\n",
       "      <td>3.0</td>\n",
       "    </tr>\n",
       "    <tr>\n",
       "      <td>6</td>\n",
       "      <td>23233.77</td>\n",
       "      <td>23.0</td>\n",
       "    </tr>\n",
       "    <tr>\n",
       "      <td>7</td>\n",
       "      <td>14003.64</td>\n",
       "      <td>14.0</td>\n",
       "    </tr>\n",
       "    <tr>\n",
       "      <td>8</td>\n",
       "      <td>14055.93</td>\n",
       "      <td>14.0</td>\n",
       "    </tr>\n",
       "    <tr>\n",
       "      <td>9</td>\n",
       "      <td>14568.91</td>\n",
       "      <td>15.0</td>\n",
       "    </tr>\n",
       "    <tr>\n",
       "      <td>...</td>\n",
       "      <td>...</td>\n",
       "      <td>...</td>\n",
       "      <td>...</td>\n",
       "    </tr>\n",
       "    <tr>\n",
       "      <td>1498</td>\n",
       "      <td>10</td>\n",
       "      <td>20579.36</td>\n",
       "      <td>21.0</td>\n",
       "    </tr>\n",
       "    <tr>\n",
       "      <td rowspan=\"4\" valign=\"top\">1499</td>\n",
       "      <td>9</td>\n",
       "      <td>1845.75</td>\n",
       "      <td>2.0</td>\n",
       "    </tr>\n",
       "    <tr>\n",
       "      <td>10</td>\n",
       "      <td>17788.51</td>\n",
       "      <td>18.0</td>\n",
       "    </tr>\n",
       "    <tr>\n",
       "      <td>11</td>\n",
       "      <td>17963.31</td>\n",
       "      <td>18.0</td>\n",
       "    </tr>\n",
       "    <tr>\n",
       "      <td>12</td>\n",
       "      <td>13055.58</td>\n",
       "      <td>13.0</td>\n",
       "    </tr>\n",
       "  </tbody>\n",
       "</table>\n",
       "<p>3203 rows × 2 columns</p>\n",
       "</div>"
      ],
      "text/plain": [
       "               traffic_mb  traffic_gb\n",
       "user_id month                        \n",
       "1000    5         2253.49         3.0\n",
       "        6        23233.77        23.0\n",
       "        7        14003.64        14.0\n",
       "        8        14055.93        14.0\n",
       "        9        14568.91        15.0\n",
       "...                   ...         ...\n",
       "1498    10       20579.36        21.0\n",
       "1499    9         1845.75         2.0\n",
       "        10       17788.51        18.0\n",
       "        11       17963.31        18.0\n",
       "        12       13055.58        13.0\n",
       "\n",
       "[3203 rows x 2 columns]"
      ]
     },
     "execution_count": 9,
     "metadata": {},
     "output_type": "execute_result"
    }
   ],
   "source": [
    "internet_month = internet.pivot_table(\n",
    "    index = ['user_id', 'month'], \n",
    "    values = 'mb_used', \n",
    "    aggfunc = ['sum']\n",
    ")\n",
    "internet_month.columns = ['traffic_mb']\n",
    "\n",
    "internet_month['traffic_gb'] = np.ceil(internet_month['traffic_mb'] / 1024)\n",
    "\n",
    "internet_month"
   ]
  },
  {
   "cell_type": "code",
   "execution_count": 10,
   "metadata": {},
   "outputs": [
    {
     "data": {
      "text/html": [
       "<div>\n",
       "<style scoped>\n",
       "    .dataframe tbody tr th:only-of-type {\n",
       "        vertical-align: middle;\n",
       "    }\n",
       "\n",
       "    .dataframe tbody tr th {\n",
       "        vertical-align: top;\n",
       "    }\n",
       "\n",
       "    .dataframe thead th {\n",
       "        text-align: right;\n",
       "    }\n",
       "</style>\n",
       "<table border=\"1\" class=\"dataframe\">\n",
       "  <thead>\n",
       "    <tr style=\"text-align: right;\">\n",
       "      <th></th>\n",
       "      <th></th>\n",
       "      <th>calls_count</th>\n",
       "      <th>minutes_spent</th>\n",
       "      <th>message_count</th>\n",
       "      <th>traffic_mb</th>\n",
       "      <th>traffic_gb</th>\n",
       "      <th>tariff</th>\n",
       "    </tr>\n",
       "    <tr>\n",
       "      <th>user_id</th>\n",
       "      <th>month</th>\n",
       "      <th></th>\n",
       "      <th></th>\n",
       "      <th></th>\n",
       "      <th></th>\n",
       "      <th></th>\n",
       "      <th></th>\n",
       "    </tr>\n",
       "  </thead>\n",
       "  <tbody>\n",
       "    <tr>\n",
       "      <td rowspan=\"5\" valign=\"top\">1000</td>\n",
       "      <td>5</td>\n",
       "      <td>22.0</td>\n",
       "      <td>159.0</td>\n",
       "      <td>22.0</td>\n",
       "      <td>2253.49</td>\n",
       "      <td>3.0</td>\n",
       "      <td>ultra</td>\n",
       "    </tr>\n",
       "    <tr>\n",
       "      <td>6</td>\n",
       "      <td>43.0</td>\n",
       "      <td>172.0</td>\n",
       "      <td>60.0</td>\n",
       "      <td>23233.77</td>\n",
       "      <td>23.0</td>\n",
       "      <td>ultra</td>\n",
       "    </tr>\n",
       "    <tr>\n",
       "      <td>7</td>\n",
       "      <td>47.0</td>\n",
       "      <td>340.0</td>\n",
       "      <td>75.0</td>\n",
       "      <td>14003.64</td>\n",
       "      <td>14.0</td>\n",
       "      <td>ultra</td>\n",
       "    </tr>\n",
       "    <tr>\n",
       "      <td>8</td>\n",
       "      <td>52.0</td>\n",
       "      <td>408.0</td>\n",
       "      <td>81.0</td>\n",
       "      <td>14055.93</td>\n",
       "      <td>14.0</td>\n",
       "      <td>ultra</td>\n",
       "    </tr>\n",
       "    <tr>\n",
       "      <td>9</td>\n",
       "      <td>58.0</td>\n",
       "      <td>466.0</td>\n",
       "      <td>57.0</td>\n",
       "      <td>14568.91</td>\n",
       "      <td>15.0</td>\n",
       "      <td>ultra</td>\n",
       "    </tr>\n",
       "    <tr>\n",
       "      <td>...</td>\n",
       "      <td>...</td>\n",
       "      <td>...</td>\n",
       "      <td>...</td>\n",
       "      <td>...</td>\n",
       "      <td>...</td>\n",
       "      <td>...</td>\n",
       "      <td>...</td>\n",
       "    </tr>\n",
       "    <tr>\n",
       "      <td rowspan=\"5\" valign=\"top\">1489</td>\n",
       "      <td>8</td>\n",
       "      <td>NaN</td>\n",
       "      <td>NaN</td>\n",
       "      <td>NaN</td>\n",
       "      <td>11050.56</td>\n",
       "      <td>11.0</td>\n",
       "      <td>smart</td>\n",
       "    </tr>\n",
       "    <tr>\n",
       "      <td>9</td>\n",
       "      <td>NaN</td>\n",
       "      <td>NaN</td>\n",
       "      <td>NaN</td>\n",
       "      <td>17206.30</td>\n",
       "      <td>17.0</td>\n",
       "      <td>smart</td>\n",
       "    </tr>\n",
       "    <tr>\n",
       "      <td>10</td>\n",
       "      <td>NaN</td>\n",
       "      <td>NaN</td>\n",
       "      <td>NaN</td>\n",
       "      <td>19559.44</td>\n",
       "      <td>20.0</td>\n",
       "      <td>smart</td>\n",
       "    </tr>\n",
       "    <tr>\n",
       "      <td>11</td>\n",
       "      <td>NaN</td>\n",
       "      <td>NaN</td>\n",
       "      <td>NaN</td>\n",
       "      <td>17491.56</td>\n",
       "      <td>18.0</td>\n",
       "      <td>smart</td>\n",
       "    </tr>\n",
       "    <tr>\n",
       "      <td>12</td>\n",
       "      <td>NaN</td>\n",
       "      <td>NaN</td>\n",
       "      <td>NaN</td>\n",
       "      <td>17322.51</td>\n",
       "      <td>17.0</td>\n",
       "      <td>smart</td>\n",
       "    </tr>\n",
       "  </tbody>\n",
       "</table>\n",
       "<p>3203 rows × 6 columns</p>\n",
       "</div>"
      ],
      "text/plain": [
       "               calls_count  minutes_spent  message_count  traffic_mb  \\\n",
       "user_id month                                                          \n",
       "1000    5             22.0          159.0           22.0     2253.49   \n",
       "        6             43.0          172.0           60.0    23233.77   \n",
       "        7             47.0          340.0           75.0    14003.64   \n",
       "        8             52.0          408.0           81.0    14055.93   \n",
       "        9             58.0          466.0           57.0    14568.91   \n",
       "...                    ...            ...            ...         ...   \n",
       "1489    8              NaN            NaN            NaN    11050.56   \n",
       "        9              NaN            NaN            NaN    17206.30   \n",
       "        10             NaN            NaN            NaN    19559.44   \n",
       "        11             NaN            NaN            NaN    17491.56   \n",
       "        12             NaN            NaN            NaN    17322.51   \n",
       "\n",
       "               traffic_gb tariff  \n",
       "user_id month                     \n",
       "1000    5             3.0  ultra  \n",
       "        6            23.0  ultra  \n",
       "        7            14.0  ultra  \n",
       "        8            14.0  ultra  \n",
       "        9            15.0  ultra  \n",
       "...                   ...    ...  \n",
       "1489    8            11.0  smart  \n",
       "        9            17.0  smart  \n",
       "        10           20.0  smart  \n",
       "        11           18.0  smart  \n",
       "        12           17.0  smart  \n",
       "\n",
       "[3203 rows x 6 columns]"
      ]
     },
     "execution_count": 10,
     "metadata": {},
     "output_type": "execute_result"
    }
   ],
   "source": [
    "calls_masseges = calls_month.merge(messages_month, on=['user_id', 'month'], how='left')\n",
    "\n",
    "calls_masseges_internet = calls_masseges.merge(internet_month, on=['user_id', 'month'], how='right')\n",
    "\n",
    "for user in calls_masseges_internet.index:\n",
    "    calls_masseges_internet.loc[user, 'tariff'] = users.loc[user[0]-1000, 'tariff']\n",
    "\n",
    "total_pivot = calls_masseges_internet\n",
    "\n",
    "total_pivot.fillna(0)\n",
    "\n",
    "total_pivot"
   ]
  },
  {
   "cell_type": "markdown",
   "metadata": {},
   "source": [
    "Добавим в сводную таблицу столбец \"__total_spent__\" с количеством потраченных денежных средств для пользователей по месяцам, с учетом условий тарифов. Потраченные денежные средства посчитаем при помощи функции с данными из тарифа.\n",
    "    "
   ]
  },
  {
   "cell_type": "code",
   "execution_count": 11,
   "metadata": {},
   "outputs": [
    {
     "data": {
      "text/html": [
       "<div>\n",
       "<style scoped>\n",
       "    .dataframe tbody tr th:only-of-type {\n",
       "        vertical-align: middle;\n",
       "    }\n",
       "\n",
       "    .dataframe tbody tr th {\n",
       "        vertical-align: top;\n",
       "    }\n",
       "\n",
       "    .dataframe thead th {\n",
       "        text-align: right;\n",
       "    }\n",
       "</style>\n",
       "<table border=\"1\" class=\"dataframe\">\n",
       "  <thead>\n",
       "    <tr style=\"text-align: right;\">\n",
       "      <th></th>\n",
       "      <th></th>\n",
       "      <th>calls_count</th>\n",
       "      <th>minutes_spent</th>\n",
       "      <th>message_count</th>\n",
       "      <th>traffic_mb</th>\n",
       "      <th>traffic_gb</th>\n",
       "      <th>tariff</th>\n",
       "      <th>total_spent</th>\n",
       "    </tr>\n",
       "    <tr>\n",
       "      <th>user_id</th>\n",
       "      <th>month</th>\n",
       "      <th></th>\n",
       "      <th></th>\n",
       "      <th></th>\n",
       "      <th></th>\n",
       "      <th></th>\n",
       "      <th></th>\n",
       "      <th></th>\n",
       "    </tr>\n",
       "  </thead>\n",
       "  <tbody>\n",
       "    <tr>\n",
       "      <td rowspan=\"5\" valign=\"top\">1000</td>\n",
       "      <td>5</td>\n",
       "      <td>22.0</td>\n",
       "      <td>159.0</td>\n",
       "      <td>22.0</td>\n",
       "      <td>2253.49</td>\n",
       "      <td>3.0</td>\n",
       "      <td>ultra</td>\n",
       "      <td>1950.0</td>\n",
       "    </tr>\n",
       "    <tr>\n",
       "      <td>6</td>\n",
       "      <td>43.0</td>\n",
       "      <td>172.0</td>\n",
       "      <td>60.0</td>\n",
       "      <td>23233.77</td>\n",
       "      <td>23.0</td>\n",
       "      <td>ultra</td>\n",
       "      <td>1950.0</td>\n",
       "    </tr>\n",
       "    <tr>\n",
       "      <td>7</td>\n",
       "      <td>47.0</td>\n",
       "      <td>340.0</td>\n",
       "      <td>75.0</td>\n",
       "      <td>14003.64</td>\n",
       "      <td>14.0</td>\n",
       "      <td>ultra</td>\n",
       "      <td>1950.0</td>\n",
       "    </tr>\n",
       "    <tr>\n",
       "      <td>8</td>\n",
       "      <td>52.0</td>\n",
       "      <td>408.0</td>\n",
       "      <td>81.0</td>\n",
       "      <td>14055.93</td>\n",
       "      <td>14.0</td>\n",
       "      <td>ultra</td>\n",
       "      <td>1950.0</td>\n",
       "    </tr>\n",
       "    <tr>\n",
       "      <td>9</td>\n",
       "      <td>58.0</td>\n",
       "      <td>466.0</td>\n",
       "      <td>57.0</td>\n",
       "      <td>14568.91</td>\n",
       "      <td>15.0</td>\n",
       "      <td>ultra</td>\n",
       "      <td>1950.0</td>\n",
       "    </tr>\n",
       "    <tr>\n",
       "      <td>...</td>\n",
       "      <td>...</td>\n",
       "      <td>...</td>\n",
       "      <td>...</td>\n",
       "      <td>...</td>\n",
       "      <td>...</td>\n",
       "      <td>...</td>\n",
       "      <td>...</td>\n",
       "      <td>...</td>\n",
       "    </tr>\n",
       "    <tr>\n",
       "      <td rowspan=\"5\" valign=\"top\">1489</td>\n",
       "      <td>8</td>\n",
       "      <td>NaN</td>\n",
       "      <td>NaN</td>\n",
       "      <td>NaN</td>\n",
       "      <td>11050.56</td>\n",
       "      <td>11.0</td>\n",
       "      <td>smart</td>\n",
       "      <td>550.0</td>\n",
       "    </tr>\n",
       "    <tr>\n",
       "      <td>9</td>\n",
       "      <td>NaN</td>\n",
       "      <td>NaN</td>\n",
       "      <td>NaN</td>\n",
       "      <td>17206.30</td>\n",
       "      <td>17.0</td>\n",
       "      <td>smart</td>\n",
       "      <td>950.0</td>\n",
       "    </tr>\n",
       "    <tr>\n",
       "      <td>10</td>\n",
       "      <td>NaN</td>\n",
       "      <td>NaN</td>\n",
       "      <td>NaN</td>\n",
       "      <td>19559.44</td>\n",
       "      <td>20.0</td>\n",
       "      <td>smart</td>\n",
       "      <td>1550.0</td>\n",
       "    </tr>\n",
       "    <tr>\n",
       "      <td>11</td>\n",
       "      <td>NaN</td>\n",
       "      <td>NaN</td>\n",
       "      <td>NaN</td>\n",
       "      <td>17491.56</td>\n",
       "      <td>18.0</td>\n",
       "      <td>smart</td>\n",
       "      <td>1150.0</td>\n",
       "    </tr>\n",
       "    <tr>\n",
       "      <td>12</td>\n",
       "      <td>NaN</td>\n",
       "      <td>NaN</td>\n",
       "      <td>NaN</td>\n",
       "      <td>17322.51</td>\n",
       "      <td>17.0</td>\n",
       "      <td>smart</td>\n",
       "      <td>950.0</td>\n",
       "    </tr>\n",
       "  </tbody>\n",
       "</table>\n",
       "<p>3203 rows × 7 columns</p>\n",
       "</div>"
      ],
      "text/plain": [
       "               calls_count  minutes_spent  message_count  traffic_mb  \\\n",
       "user_id month                                                          \n",
       "1000    5             22.0          159.0           22.0     2253.49   \n",
       "        6             43.0          172.0           60.0    23233.77   \n",
       "        7             47.0          340.0           75.0    14003.64   \n",
       "        8             52.0          408.0           81.0    14055.93   \n",
       "        9             58.0          466.0           57.0    14568.91   \n",
       "...                    ...            ...            ...         ...   \n",
       "1489    8              NaN            NaN            NaN    11050.56   \n",
       "        9              NaN            NaN            NaN    17206.30   \n",
       "        10             NaN            NaN            NaN    19559.44   \n",
       "        11             NaN            NaN            NaN    17491.56   \n",
       "        12             NaN            NaN            NaN    17322.51   \n",
       "\n",
       "               traffic_gb tariff  total_spent  \n",
       "user_id month                                  \n",
       "1000    5             3.0  ultra       1950.0  \n",
       "        6            23.0  ultra       1950.0  \n",
       "        7            14.0  ultra       1950.0  \n",
       "        8            14.0  ultra       1950.0  \n",
       "        9            15.0  ultra       1950.0  \n",
       "...                   ...    ...          ...  \n",
       "1489    8            11.0  smart        550.0  \n",
       "        9            17.0  smart        950.0  \n",
       "        10           20.0  smart       1550.0  \n",
       "        11           18.0  smart       1150.0  \n",
       "        12           17.0  smart        950.0  \n",
       "\n",
       "[3203 rows x 7 columns]"
      ]
     },
     "execution_count": 11,
     "metadata": {},
     "output_type": "execute_result"
    }
   ],
   "source": [
    "def profit(row):\n",
    "    if row['tariff'] == 'smart':\n",
    "        if row['message_count'] > 50:\n",
    "            messages_over = (row['message_count'] - 50)*3\n",
    "        else:\n",
    "            messages_over = 0\n",
    "        if row['minutes_spent'] > 500:\n",
    "            calls_over = (row['minutes_spent'] - 500)*3\n",
    "        else:\n",
    "            calls_over = 0\n",
    "        if row['traffic_gb'] > 15:\n",
    "            traffic_over_gb = (row['traffic_gb'] - 15)*200\n",
    "        else:\n",
    "            traffic_over_gb = 0\n",
    "        total_spent = messages_over + calls_over + traffic_over_gb + 550\n",
    "    if row['tariff'] == 'ultra':\n",
    "        if row['message_count'] > 1000:\n",
    "            messages_over = (row['message_count'] - 1000)*1\n",
    "        else:\n",
    "            messages_over = 0\n",
    "        if row['minutes_spent'] > 3000:\n",
    "            calls_over = (row['minutes_spent'] - 3000)*1\n",
    "        else:\n",
    "            calls_over = 0\n",
    "        if row['traffic_gb'] > 30:\n",
    "            traffic_over_gb = (row['traffic_gb'] - 30)*150\n",
    "        else:\n",
    "            traffic_over_gb = 0\n",
    "        total_spent = messages_over + calls_over + traffic_over_gb + 1950\n",
    "    return total_spent\n",
    " \n",
    "total_pivot['total_spent'] = total_pivot.apply(profit, axis=1)\n",
    "total_pivot"
   ]
  },
  {
   "cell_type": "markdown",
   "metadata": {},
   "source": [
    "В итоге получаем таблицу \"__total_pivot__\" со значениями количества звонков (\"__colls_count__\"), потраченных минут (\"__minutes_spent__\"), количества сообщений (\"__message_count__\"), количества израсходованных Гигабайт интернет-траффика (\"__traffic_gb__\") и потраченных средств (\"__total_spent__\") каждого пользователя по месяцам, с указанием его тарифного плана."
   ]
  },
  {
   "cell_type": "markdown",
   "metadata": {},
   "source": [
    "### Анализ данных о поведении и расходах клиентов Мегалайн"
   ]
  },
  {
   "cell_type": "markdown",
   "metadata": {},
   "source": [
    "___Тариф \"Смарт\"___"
   ]
  },
  {
   "cell_type": "code",
   "execution_count": 12,
   "metadata": {},
   "outputs": [
    {
     "data": {
      "image/png": "[encoded data removed]",
      "text/plain": [
       "<Figure size 432x288 with 1 Axes>"
      ]
     },
     "metadata": {
      "needs_background": "light"
     },
     "output_type": "display_data"
    },
    {
     "data": {
      "image/png": "[encoded data removed]",
      "text/plain": [
       "<Figure size 432x288 with 1 Axes>"
      ]
     },
     "metadata": {
      "needs_background": "light"
     },
     "output_type": "display_data"
    },
    {
     "data": {
      "image/png": "[encoded data removed]",
      "text/plain": [
       "<Figure size 432x288 with 1 Axes>"
      ]
     },
     "metadata": {
      "needs_background": "light"
     },
     "output_type": "display_data"
    }
   ],
   "source": [
    "smart = total_pivot.query('tariff == \"smart\"')\n",
    "\n",
    "columns = ['minutes_spent', 'message_count', 'traffic_gb']\n",
    "\n",
    "for i in columns:\n",
    "    smart[i].hist(bins=50)\n",
    "    plt.title(i)\n",
    "    plt.show()\n"
   ]
  },
  {
   "cell_type": "code",
   "execution_count": 13,
   "metadata": {},
   "outputs": [
    {
     "data": {
      "text/plain": [
       "(35798.97361633957, 718.8036193391554, 32.92375582354312)"
      ]
     },
     "execution_count": 13,
     "metadata": {},
     "output_type": "execute_result"
    }
   ],
   "source": [
    "variance_smart_calls = np.var(smart['minutes_spent'], ddof=1)\n",
    "\n",
    "variance_smart_message = np.var(smart['message_count'], ddof=1)\n",
    "\n",
    "variance_smart_internet = np.var(smart['traffic_gb'], ddof=1)\n",
    "\n",
    "variance_smart_calls, variance_smart_message, variance_smart_internet"
   ]
  },
  {
   "cell_type": "code",
   "execution_count": 14,
   "metadata": {},
   "outputs": [
    {
     "data": {
      "text/html": [
       "<div>\n",
       "<style scoped>\n",
       "    .dataframe tbody tr th:only-of-type {\n",
       "        vertical-align: middle;\n",
       "    }\n",
       "\n",
       "    .dataframe tbody tr th {\n",
       "        vertical-align: top;\n",
       "    }\n",
       "\n",
       "    .dataframe thead th {\n",
       "        text-align: right;\n",
       "    }\n",
       "</style>\n",
       "<table border=\"1\" class=\"dataframe\">\n",
       "  <thead>\n",
       "    <tr style=\"text-align: right;\">\n",
       "      <th></th>\n",
       "      <th>minutes_spent</th>\n",
       "      <th>message_count</th>\n",
       "      <th>traffic_gb</th>\n",
       "      <th>total_spent</th>\n",
       "    </tr>\n",
       "  </thead>\n",
       "  <tbody>\n",
       "    <tr>\n",
       "      <td>count</td>\n",
       "      <td>2222.000000</td>\n",
       "      <td>1915.000000</td>\n",
       "      <td>2228.000000</td>\n",
       "      <td>2228.000000</td>\n",
       "    </tr>\n",
       "    <tr>\n",
       "      <td>mean</td>\n",
       "      <td>419.229073</td>\n",
       "      <td>38.767102</td>\n",
       "      <td>16.336176</td>\n",
       "      <td>1290.305655</td>\n",
       "    </tr>\n",
       "    <tr>\n",
       "      <td>std</td>\n",
       "      <td>189.206167</td>\n",
       "      <td>26.810513</td>\n",
       "      <td>5.737923</td>\n",
       "      <td>818.437830</td>\n",
       "    </tr>\n",
       "    <tr>\n",
       "      <td>min</td>\n",
       "      <td>0.000000</td>\n",
       "      <td>1.000000</td>\n",
       "      <td>0.000000</td>\n",
       "      <td>550.000000</td>\n",
       "    </tr>\n",
       "    <tr>\n",
       "      <td>25%</td>\n",
       "      <td>285.000000</td>\n",
       "      <td>17.000000</td>\n",
       "      <td>13.000000</td>\n",
       "      <td>550.000000</td>\n",
       "    </tr>\n",
       "    <tr>\n",
       "      <td>50%</td>\n",
       "      <td>423.000000</td>\n",
       "      <td>34.000000</td>\n",
       "      <td>17.000000</td>\n",
       "      <td>1026.500000</td>\n",
       "    </tr>\n",
       "    <tr>\n",
       "      <td>75%</td>\n",
       "      <td>545.750000</td>\n",
       "      <td>55.000000</td>\n",
       "      <td>20.000000</td>\n",
       "      <td>1750.000000</td>\n",
       "    </tr>\n",
       "    <tr>\n",
       "      <td>max</td>\n",
       "      <td>1435.000000</td>\n",
       "      <td>143.000000</td>\n",
       "      <td>38.000000</td>\n",
       "      <td>6770.000000</td>\n",
       "    </tr>\n",
       "  </tbody>\n",
       "</table>\n",
       "</div>"
      ],
      "text/plain": [
       "       minutes_spent  message_count   traffic_gb  total_spent\n",
       "count    2222.000000    1915.000000  2228.000000  2228.000000\n",
       "mean      419.229073      38.767102    16.336176  1290.305655\n",
       "std       189.206167      26.810513     5.737923   818.437830\n",
       "min         0.000000       1.000000     0.000000   550.000000\n",
       "25%       285.000000      17.000000    13.000000   550.000000\n",
       "50%       423.000000      34.000000    17.000000  1026.500000\n",
       "75%       545.750000      55.000000    20.000000  1750.000000\n",
       "max      1435.000000     143.000000    38.000000  6770.000000"
      ]
     },
     "execution_count": 14,
     "metadata": {},
     "output_type": "execute_result"
    }
   ],
   "source": [
    "smart[['minutes_spent', 'message_count', 'traffic_gb', 'total_spent']].describe()"
   ]
  },
  {
   "cell_type": "markdown",
   "metadata": {},
   "source": [
    "Клиенты с тарифом \"Смарт\" в среднем в месяц тратят 419 минуту на звонки, что немного меньше, чем входит в тариф (500 минту), при СКО 189 и дисперсии 35798. По гистограмме видно, что распределение нормальное. Сообщений в среднем отправляют 39, что тоже входит в рамки тарифного плана (50 бесплатных сообщений), дисперсия 718,8, СКО 26,8. По гистограмме видно, что распределение Пуассона. Среднее количество потраченных Гигабайт интернет-трафика 16, что не сильно выше тарифного лимита (15 Гб), при СКО 5,7 и дисперсии 32,9. Распределение на гистограмме нормальное. В среднем клиент тарифа \"Смарт\" переплачивает больше, чем в 2 раза (1290 рублей вместо 550 рублей)."
   ]
  },
  {
   "cell_type": "markdown",
   "metadata": {},
   "source": [
    "___Тариф \"Ультра\"___"
   ]
  },
  {
   "cell_type": "code",
   "execution_count": 15,
   "metadata": {},
   "outputs": [
    {
     "data": {
      "image/png": "[encoded data removed]",
      "text/plain": [
       "<Figure size 432x288 with 1 Axes>"
      ]
     },
     "metadata": {
      "needs_background": "light"
     },
     "output_type": "display_data"
    },
    {
     "data": {
      "image/png": "[encoded data removed]",
      "text/plain": [
       "<Figure size 432x288 with 1 Axes>"
      ]
     },
     "metadata": {
      "needs_background": "light"
     },
     "output_type": "display_data"
    },
    {
     "data": {
      "image/png": "[encoded data removed]",
      "text/plain": [
       "<Figure size 432x288 with 1 Axes>"
      ]
     },
     "metadata": {
      "needs_background": "light"
     },
     "output_type": "display_data"
    }
   ],
   "source": [
    "ultra = total_pivot.query('tariff == \"ultra\"')\n",
    "\n",
    "columns = ['minutes_spent', 'message_count', 'traffic_gb']\n",
    "\n",
    "for i in columns:\n",
    "    ultra[i].hist(bins=50)\n",
    "    plt.title(i)\n",
    "    plt.show()\n"
   ]
  },
  {
   "cell_type": "code",
   "execution_count": 16,
   "metadata": {},
   "outputs": [
    {
     "data": {
      "text/plain": [
       "(94015.42736789744, 2008.5500113324078, 94.14673405991682)"
      ]
     },
     "execution_count": 16,
     "metadata": {},
     "output_type": "execute_result"
    }
   ],
   "source": [
    "variance_ultra_calls = np.var(ultra['minutes_spent'], ddof=1)\n",
    "\n",
    "variance_ultra_message = np.var(ultra['message_count'], ddof=1)\n",
    "\n",
    "variance_ultra_internet = np.var(ultra['traffic_gb'], ddof=1)\n",
    "\n",
    "variance_ultra_calls, variance_ultra_message, variance_ultra_internet"
   ]
  },
  {
   "cell_type": "code",
   "execution_count": 17,
   "metadata": {},
   "outputs": [
    {
     "data": {
      "text/html": [
       "<div>\n",
       "<style scoped>\n",
       "    .dataframe tbody tr th:only-of-type {\n",
       "        vertical-align: middle;\n",
       "    }\n",
       "\n",
       "    .dataframe tbody tr th {\n",
       "        vertical-align: top;\n",
       "    }\n",
       "\n",
       "    .dataframe thead th {\n",
       "        text-align: right;\n",
       "    }\n",
       "</style>\n",
       "<table border=\"1\" class=\"dataframe\">\n",
       "  <thead>\n",
       "    <tr style=\"text-align: right;\">\n",
       "      <th></th>\n",
       "      <th>minutes_spent</th>\n",
       "      <th>message_count</th>\n",
       "      <th>traffic_gb</th>\n",
       "      <th>total_spent</th>\n",
       "    </tr>\n",
       "  </thead>\n",
       "  <tbody>\n",
       "    <tr>\n",
       "      <td>count</td>\n",
       "      <td>941.000000</td>\n",
       "      <td>752.000000</td>\n",
       "      <td>975.000000</td>\n",
       "      <td>975.000000</td>\n",
       "    </tr>\n",
       "    <tr>\n",
       "      <td>mean</td>\n",
       "      <td>548.890542</td>\n",
       "      <td>61.640957</td>\n",
       "      <td>19.694359</td>\n",
       "      <td>2071.384615</td>\n",
       "    </tr>\n",
       "    <tr>\n",
       "      <td>std</td>\n",
       "      <td>306.619353</td>\n",
       "      <td>44.816850</td>\n",
       "      <td>9.702924</td>\n",
       "      <td>377.915268</td>\n",
       "    </tr>\n",
       "    <tr>\n",
       "      <td>min</td>\n",
       "      <td>0.000000</td>\n",
       "      <td>1.000000</td>\n",
       "      <td>0.000000</td>\n",
       "      <td>1950.000000</td>\n",
       "    </tr>\n",
       "    <tr>\n",
       "      <td>25%</td>\n",
       "      <td>315.000000</td>\n",
       "      <td>25.000000</td>\n",
       "      <td>12.000000</td>\n",
       "      <td>1950.000000</td>\n",
       "    </tr>\n",
       "    <tr>\n",
       "      <td>50%</td>\n",
       "      <td>531.000000</td>\n",
       "      <td>53.000000</td>\n",
       "      <td>19.000000</td>\n",
       "      <td>1950.000000</td>\n",
       "    </tr>\n",
       "    <tr>\n",
       "      <td>75%</td>\n",
       "      <td>760.000000</td>\n",
       "      <td>89.000000</td>\n",
       "      <td>27.000000</td>\n",
       "      <td>1950.000000</td>\n",
       "    </tr>\n",
       "    <tr>\n",
       "      <td>max</td>\n",
       "      <td>1673.000000</td>\n",
       "      <td>224.000000</td>\n",
       "      <td>49.000000</td>\n",
       "      <td>4800.000000</td>\n",
       "    </tr>\n",
       "  </tbody>\n",
       "</table>\n",
       "</div>"
      ],
      "text/plain": [
       "       minutes_spent  message_count  traffic_gb  total_spent\n",
       "count     941.000000     752.000000  975.000000   975.000000\n",
       "mean      548.890542      61.640957   19.694359  2071.384615\n",
       "std       306.619353      44.816850    9.702924   377.915268\n",
       "min         0.000000       1.000000    0.000000  1950.000000\n",
       "25%       315.000000      25.000000   12.000000  1950.000000\n",
       "50%       531.000000      53.000000   19.000000  1950.000000\n",
       "75%       760.000000      89.000000   27.000000  1950.000000\n",
       "max      1673.000000     224.000000   49.000000  4800.000000"
      ]
     },
     "execution_count": 17,
     "metadata": {},
     "output_type": "execute_result"
    }
   ],
   "source": [
    "ultra[['minutes_spent', 'message_count', 'traffic_gb', 'total_spent']].describe()"
   ]
  },
  {
   "cell_type": "code",
   "execution_count": 18,
   "metadata": {},
   "outputs": [
    {
     "data": {
      "text/html": [
       "<style  type=\"text/css\" >\n",
       "</style><table id=\"T_80175444_9015_11ec_bc6d_02420a3909e1\" ><thead>    <tr>        <th class=\"blank\" ></th>        <th class=\"index_name level0\" >tariff</th>        <th class=\"col_heading level0 col0\" >smart</th>        <th class=\"col_heading level0 col1\" >ultra</th>    </tr></thead><tbody>\n",
       "                <tr>\n",
       "                        <th id=\"T_80175444_9015_11ec_bc6d_02420a3909e1level0_row0\" class=\"row_heading level0 row0\" rowspan=4>mean</th>\n",
       "                        <th id=\"T_80175444_9015_11ec_bc6d_02420a3909e1level1_row0\" class=\"row_heading level1 row0\" >message_count</th>\n",
       "                        <td id=\"T_80175444_9015_11ec_bc6d_02420a3909e1row0_col0\" class=\"data row0 col0\" >38.77</td>\n",
       "                        <td id=\"T_80175444_9015_11ec_bc6d_02420a3909e1row0_col1\" class=\"data row0 col1\" >61.64</td>\n",
       "            </tr>\n",
       "            <tr>\n",
       "                                <th id=\"T_80175444_9015_11ec_bc6d_02420a3909e1level1_row1\" class=\"row_heading level1 row1\" >minutes_spent</th>\n",
       "                        <td id=\"T_80175444_9015_11ec_bc6d_02420a3909e1row1_col0\" class=\"data row1 col0\" >419.23</td>\n",
       "                        <td id=\"T_80175444_9015_11ec_bc6d_02420a3909e1row1_col1\" class=\"data row1 col1\" >548.89</td>\n",
       "            </tr>\n",
       "            <tr>\n",
       "                                <th id=\"T_80175444_9015_11ec_bc6d_02420a3909e1level1_row2\" class=\"row_heading level1 row2\" >total_spent</th>\n",
       "                        <td id=\"T_80175444_9015_11ec_bc6d_02420a3909e1row2_col0\" class=\"data row2 col0\" >1290.31</td>\n",
       "                        <td id=\"T_80175444_9015_11ec_bc6d_02420a3909e1row2_col1\" class=\"data row2 col1\" >2071.38</td>\n",
       "            </tr>\n",
       "            <tr>\n",
       "                                <th id=\"T_80175444_9015_11ec_bc6d_02420a3909e1level1_row3\" class=\"row_heading level1 row3\" >traffic_gb</th>\n",
       "                        <td id=\"T_80175444_9015_11ec_bc6d_02420a3909e1row3_col0\" class=\"data row3 col0\" >16.34</td>\n",
       "                        <td id=\"T_80175444_9015_11ec_bc6d_02420a3909e1row3_col1\" class=\"data row3 col1\" >19.69</td>\n",
       "            </tr>\n",
       "            <tr>\n",
       "                        <th id=\"T_80175444_9015_11ec_bc6d_02420a3909e1level0_row4\" class=\"row_heading level0 row4\" rowspan=4>std</th>\n",
       "                        <th id=\"T_80175444_9015_11ec_bc6d_02420a3909e1level1_row4\" class=\"row_heading level1 row4\" >message_count</th>\n",
       "                        <td id=\"T_80175444_9015_11ec_bc6d_02420a3909e1row4_col0\" class=\"data row4 col0\" >26.81</td>\n",
       "                        <td id=\"T_80175444_9015_11ec_bc6d_02420a3909e1row4_col1\" class=\"data row4 col1\" >44.82</td>\n",
       "            </tr>\n",
       "            <tr>\n",
       "                                <th id=\"T_80175444_9015_11ec_bc6d_02420a3909e1level1_row5\" class=\"row_heading level1 row5\" >minutes_spent</th>\n",
       "                        <td id=\"T_80175444_9015_11ec_bc6d_02420a3909e1row5_col0\" class=\"data row5 col0\" >189.21</td>\n",
       "                        <td id=\"T_80175444_9015_11ec_bc6d_02420a3909e1row5_col1\" class=\"data row5 col1\" >306.62</td>\n",
       "            </tr>\n",
       "            <tr>\n",
       "                                <th id=\"T_80175444_9015_11ec_bc6d_02420a3909e1level1_row6\" class=\"row_heading level1 row6\" >total_spent</th>\n",
       "                        <td id=\"T_80175444_9015_11ec_bc6d_02420a3909e1row6_col0\" class=\"data row6 col0\" >818.44</td>\n",
       "                        <td id=\"T_80175444_9015_11ec_bc6d_02420a3909e1row6_col1\" class=\"data row6 col1\" >377.92</td>\n",
       "            </tr>\n",
       "            <tr>\n",
       "                                <th id=\"T_80175444_9015_11ec_bc6d_02420a3909e1level1_row7\" class=\"row_heading level1 row7\" >traffic_gb</th>\n",
       "                        <td id=\"T_80175444_9015_11ec_bc6d_02420a3909e1row7_col0\" class=\"data row7 col0\" >5.74</td>\n",
       "                        <td id=\"T_80175444_9015_11ec_bc6d_02420a3909e1row7_col1\" class=\"data row7 col1\" >9.70</td>\n",
       "            </tr>\n",
       "            <tr>\n",
       "                        <th id=\"T_80175444_9015_11ec_bc6d_02420a3909e1level0_row8\" class=\"row_heading level0 row8\" rowspan=4>var</th>\n",
       "                        <th id=\"T_80175444_9015_11ec_bc6d_02420a3909e1level1_row8\" class=\"row_heading level1 row8\" >message_count</th>\n",
       "                        <td id=\"T_80175444_9015_11ec_bc6d_02420a3909e1row8_col0\" class=\"data row8 col0\" >718.80</td>\n",
       "                        <td id=\"T_80175444_9015_11ec_bc6d_02420a3909e1row8_col1\" class=\"data row8 col1\" >2008.55</td>\n",
       "            </tr>\n",
       "            <tr>\n",
       "                                <th id=\"T_80175444_9015_11ec_bc6d_02420a3909e1level1_row9\" class=\"row_heading level1 row9\" >minutes_spent</th>\n",
       "                        <td id=\"T_80175444_9015_11ec_bc6d_02420a3909e1row9_col0\" class=\"data row9 col0\" >35798.97</td>\n",
       "                        <td id=\"T_80175444_9015_11ec_bc6d_02420a3909e1row9_col1\" class=\"data row9 col1\" >94015.43</td>\n",
       "            </tr>\n",
       "            <tr>\n",
       "                                <th id=\"T_80175444_9015_11ec_bc6d_02420a3909e1level1_row10\" class=\"row_heading level1 row10\" >total_spent</th>\n",
       "                        <td id=\"T_80175444_9015_11ec_bc6d_02420a3909e1row10_col0\" class=\"data row10 col0\" >669840.48</td>\n",
       "                        <td id=\"T_80175444_9015_11ec_bc6d_02420a3909e1row10_col1\" class=\"data row10 col1\" >142819.95</td>\n",
       "            </tr>\n",
       "            <tr>\n",
       "                                <th id=\"T_80175444_9015_11ec_bc6d_02420a3909e1level1_row11\" class=\"row_heading level1 row11\" >traffic_gb</th>\n",
       "                        <td id=\"T_80175444_9015_11ec_bc6d_02420a3909e1row11_col0\" class=\"data row11 col0\" >32.92</td>\n",
       "                        <td id=\"T_80175444_9015_11ec_bc6d_02420a3909e1row11_col1\" class=\"data row11 col1\" >94.15</td>\n",
       "            </tr>\n",
       "    </tbody></table>"
      ],
      "text/plain": [
       "<pandas.io.formats.style.Styler at 0x7f1568887390>"
      ]
     },
     "execution_count": 18,
     "metadata": {},
     "output_type": "execute_result"
    }
   ],
   "source": [
    "total_pivot.pivot_table(index='tariff',  \n",
    "                 values=['minutes_spent', 'message_count', 'traffic_gb', 'total_spent'], \n",
    "                 aggfunc=['mean', 'std', 'var']).T.style.format('{:.2f}')"
   ]
  },
  {
   "cell_type": "markdown",
   "metadata": {},
   "source": [
    "Клиенты с тарифом \"Ультра\" в среднем в месяц тратят 548 минут на звонки, что сильно меньше, чем входит в тариф (3000 минут), при СКО 306,62 и дисперсии 94015.43. По гистограмме видно, что распределение нормальное. Сообщений в среднем отправляют 62, что тоже сильно меньше лимита тарифного плана (1000 бесплатных сообщений), дисперсия 2008.55, СКО 44,8. По гистограмме видно, что распределение Пуассона. Среднее количество потраченных Гигабайт интернет-трафика 19,69, что ниже тарифного лимита (30 Гб), при СКО 9,70 и дисперсии 94,15. Распределение на гистограмме нормальное. В среднем клиенты тарифа \"Ультра\" платят больше абонентской платы (2071 рублей вместо 1950 рублей). Так как лимиты по звонкам и сообщениям никто не превышает, перерасход интернет-трафика является причиной переплат клиентов."
   ]
  },
  {
   "cell_type": "code",
   "execution_count": 19,
   "metadata": {},
   "outputs": [
    {
     "name": "stderr",
     "output_type": "stream",
     "text": [
      "/opt/conda/lib/python3.7/site-packages/numpy/core/_asarray.py:83: VisibleDeprecationWarning: Creating an ndarray from ragged nested sequences (which is a list-or-tuple of lists-or-tuples-or ndarrays with different lengths or shapes) is deprecated. If you meant to do this, you must specify 'dtype=object' when creating the ndarray\n",
      "  return array(a, dtype, copy=False, order=order)\n"
     ]
    },
    {
     "data": {
      "image/png": "[encoded data removed]",
      "text/plain": [
       "<Figure size 432x288 with 1 Axes>"
      ]
     },
     "metadata": {
      "needs_background": "light"
     },
     "output_type": "display_data"
    },
    {
     "data": {
      "image/png": "[encoded data removed]",
      "text/plain": [
       "<Figure size 432x288 with 1 Axes>"
      ]
     },
     "metadata": {
      "needs_background": "light"
     },
     "output_type": "display_data"
    },
    {
     "data": {
      "image/png": "[encoded data removed]",
      "text/plain": [
       "<Figure size 432x288 with 1 Axes>"
      ]
     },
     "metadata": {
      "needs_background": "light"
     },
     "output_type": "display_data"
    }
   ],
   "source": [
    "columns = ['minutes_spent', 'message_count', 'traffic_gb']\n",
    "\n",
    "for i in columns:\n",
    "    plt.hist([smart[i], ultra[i]], bins=50, label=['smart[i]', 'ultra[i]'])\n",
    "    plt.title(i)\n",
    "    plt.legend(loc='upper left')\n",
    "    plt.show()\n"
   ]
  },
  {
   "cell_type": "code",
   "execution_count": 20,
   "metadata": {},
   "outputs": [
    {
     "data": {
      "image/png": "[encoded data removed]",
      "text/plain": [
       "<Figure size 720x360 with 1 Axes>"
      ]
     },
     "metadata": {
      "needs_background": "light"
     },
     "output_type": "display_data"
    },
    {
     "data": {
      "image/png": "[encoded data removed]",
      "text/plain": [
       "<Figure size 720x360 with 1 Axes>"
      ]
     },
     "metadata": {
      "needs_background": "light"
     },
     "output_type": "display_data"
    },
    {
     "data": {
      "image/png": "[encoded data removed]",
      "text/plain": [
       "<Figure size 720x360 with 1 Axes>"
      ]
     },
     "metadata": {
      "needs_background": "light"
     },
     "output_type": "display_data"
    }
   ],
   "source": [
    "for column in columns:\n",
    "    fig = plt.figure(figsize=(10, 5))\n",
    "    plt.hist(total_pivot[total_pivot['tariff'] == 'smart'][column], bins=50, label='smart', alpha=0.7)\n",
    "    plt.hist(total_pivot[total_pivot['tariff'] == 'ultra'][column], bins=50, label='ultra', alpha=0.7)\n",
    "    plt.ylabel('Частота')\n",
    "    plt.xlabel(f'Значение {column}')\n",
    "    plt.title(f'График распределения по столбцу {column}', fontsize=14)\n",
    "    plt.legend()\n",
    "    plt.show()"
   ]
  },
  {
   "cell_type": "markdown",
   "metadata": {},
   "source": [
    "   ### Проверка гипотезы\n",
    "        \n",
    "   Проверим H0 гипотизу: средняя выручка от клиентов тарифов Смарт и Ультра одинакова. Альтернативная гипотеза (H1): средние выручки от клиентов тарифов Смарт и Ультра не равны Чтобы проверить гипотезу о равенстве среднего двух генеральных совокупностей по взятым из них выборкам, применим метод scipy.stats.ttest_ind (array1, array2, equal_var). Так как дисперсии у нас разные, то параметр equal_var = False. Возьмем критический уровень значимости 5%."
   ]
  },
  {
   "cell_type": "code",
   "execution_count": 21,
   "metadata": {},
   "outputs": [
    {
     "name": "stdout",
     "output_type": "stream",
     "text": [
      "p-значение: 5.22403940028982e-249\n",
      "Отвергаем нулевую гипотезу\n"
     ]
    }
   ],
   "source": [
    "results = st.ttest_ind(smart['total_spent'], ultra['total_spent'], equal_var = False)\n",
    "\n",
    "print('p-значение:', results.pvalue)\n",
    "alpha = 0.05\n",
    "if results.pvalue < alpha:\n",
    "    print('Отвергаем нулевую гипотезу')\n",
    "else:\n",
    "    print('Не получилось отвергнуть нулевую гипотезу') "
   ]
  },
  {
   "cell_type": "markdown",
   "metadata": {},
   "source": [
    "Вероятность того, что средняя выручка от клиентов тарифов Смарт и Ультра одинакова, слишком мала, поэтому отвргеам нулевую гипотезу."
   ]
  },
  {
   "cell_type": "markdown",
   "metadata": {},
   "source": [
    "  Проверим H0 гипотизу: средняя выручка от клиентов из Москвы и регионов одинакова. Альтернативная H1 гипотеза: выручка от клиентов из Москвы и регионов различается. Чтобы проверить гипотезу о равенстве среднего двух генеральных совокупностей по взятым из них выборкам, применим метод scipy.stats.ttest_ind (array1, array2, equal_var). Возьмем критический уровень значимости 4%."
   ]
  },
  {
   "cell_type": "code",
   "execution_count": 22,
   "metadata": {},
   "outputs": [
    {
     "name": "stdout",
     "output_type": "stream",
     "text": [
      "p-значение: 0.5023167352991608\n",
      "Не получилось отвергнуть нулевую гипотезу\n"
     ]
    }
   ],
   "source": [
    "for user in total_pivot.index:\n",
    "    total_pivot.loc[user, 'city'] = users.loc[user[0]-1000, 'city']\n",
    "\n",
    "moscow_users = total_pivot.query('city == \"Москва\"')\n",
    "region_users = total_pivot.query('city != \"Москва\"')\n",
    "\n",
    "\n",
    "results = st.ttest_ind(moscow_users['total_spent'], region_users['total_spent'], equal_var = False)\n",
    "\n",
    "print('p-значение:', results.pvalue)\n",
    "alpha = 0.04\n",
    "if results.pvalue < alpha:\n",
    "    print('Отвергаем нулевую гипотезу')\n",
    "else:\n",
    "    print('Не получилось отвергнуть нулевую гипотезу') "
   ]
  },
  {
   "cell_type": "code",
   "execution_count": 23,
   "metadata": {},
   "outputs": [
    {
     "data": {
      "text/plain": [
       "[1546.7135842880523, 1523.6724537037037]"
      ]
     },
     "execution_count": 23,
     "metadata": {},
     "output_type": "execute_result"
    }
   ],
   "source": [
    "[moscow_users['total_spent'].mean(), region_users['total_spent'].mean()]"
   ]
  },
  {
   "cell_type": "markdown",
   "metadata": {},
   "source": [
    "Не получилось отвергнуть нулевую гипотезу, о том что средняя выручка от клиентов из Москвы и регионов одинакова. Вероятность того, что выручка от клиентов из Москвы и регионов окажется одинаковой случайно, меньше 4%."
   ]
  },
  {
   "cell_type": "markdown",
   "metadata": {},
   "source": [
    "### Общий вывод"
   ]
  },
  {
   "cell_type": "markdown",
   "metadata": {},
   "source": [
    "   Проведен предварительный анализ тарифов на небольшой выборке клиентов «Мегалайна». \n",
    "   \n",
    "   Были изучены количество минут телефонных разговоров, количество отправленных сообщений и количество израсходованных Гигабайт интернет-траффика по месяцам для каждого клиента. Все данные были собраны в одну сводную таблицу с расчетом средних значений по месяцам. \n",
    "   \n",
    "   Была написана функция, с помощью которой, на основе данных сводной таблицы было расчитано сколько денег приносит каждый клиент для компании в месяц. \n",
    "   \n",
    "   Были проверены 2 гипотезы:\n",
    "   1. \"Средняя выручка от клиентов тарифов Смарт и Ультра одинакова\". После проверки гипотезы методом scipy.stats.ttest_ind (array1, array2, equal_var) приходим к выводу, что наше предположение не верно и \"средняя выручка от клиентов тарифов Смарт и Ультра различаются\".\n",
    "   2. \"Средняя выручка от клиентов из Москвы и регионов одинакова\". После проверки гипотезы методом scipy.stats.ttest_ind (array1, array2, equal_var) приходим к выводу, что не можем отвергнуть нашу гипотезу.\n",
    "   \n",
    "   Главным результатом всего исследования является выявления тарифа, клиенты которого приносят больше денег для компании Мегалайн. Клиенты с тарифом \"Ультра\" приносят больше денег, поэтому коммерческому департаменту стоит скорректировать рекламный бюджет с учетом этих данных."
   ]
  }
 ],
 "metadata": {
  "ExecuteTimeLog": [
   {
    "duration": 1565,
    "start_time": "2021-10-05T16:03:05.129Z"
   },
   {
    "duration": 234,
    "start_time": "2021-10-05T16:03:18.020Z"
   },
   {
    "duration": 239,
    "start_time": "2021-10-05T16:03:30.418Z"
   },
   {
    "duration": 239,
    "start_time": "2021-10-05T16:04:55.948Z"
   },
   {
    "duration": 214,
    "start_time": "2021-10-05T16:05:33.667Z"
   },
   {
    "duration": 140,
    "start_time": "2021-10-05T16:06:56.388Z"
   },
   {
    "duration": 31,
    "start_time": "2021-10-05T16:08:46.015Z"
   },
   {
    "duration": 79,
    "start_time": "2021-10-05T16:09:35.911Z"
   },
   {
    "duration": 605,
    "start_time": "2021-10-05T16:13:47.283Z"
   },
   {
    "duration": 258,
    "start_time": "2021-10-05T16:13:57.798Z"
   },
   {
    "duration": 240,
    "start_time": "2021-10-05T16:14:09.990Z"
   },
   {
    "duration": 237,
    "start_time": "2021-10-05T16:14:17.023Z"
   },
   {
    "duration": 246,
    "start_time": "2021-10-05T16:14:46.014Z"
   },
   {
    "duration": 344,
    "start_time": "2021-10-05T16:16:25.996Z"
   },
   {
    "duration": 240,
    "start_time": "2021-10-05T16:16:39.538Z"
   },
   {
    "duration": 240,
    "start_time": "2021-10-05T16:17:14.246Z"
   },
   {
    "duration": 291,
    "start_time": "2021-10-05T16:17:39.512Z"
   },
   {
    "duration": 186,
    "start_time": "2021-10-05T16:17:47.160Z"
   },
   {
    "duration": 88,
    "start_time": "2021-10-05T16:17:51.567Z"
   },
   {
    "duration": 27,
    "start_time": "2021-10-05T16:17:58.060Z"
   },
   {
    "duration": 52,
    "start_time": "2021-10-05T16:18:10.095Z"
   },
   {
    "duration": 59,
    "start_time": "2021-10-05T16:18:27.769Z"
   },
   {
    "duration": 564,
    "start_time": "2021-10-05T16:26:39.055Z"
   },
   {
    "duration": 585,
    "start_time": "2021-10-05T16:27:52.336Z"
   },
   {
    "duration": 608,
    "start_time": "2021-10-05T16:28:05.919Z"
   },
   {
    "duration": 849,
    "start_time": "2021-10-05T16:34:15.940Z"
   },
   {
    "duration": 703,
    "start_time": "2021-10-05T16:36:58.331Z"
   },
   {
    "duration": 752,
    "start_time": "2021-10-05T16:42:30.766Z"
   },
   {
    "duration": 38,
    "start_time": "2021-10-05T16:44:58.450Z"
   },
   {
    "duration": 30,
    "start_time": "2021-10-05T16:47:14.456Z"
   },
   {
    "duration": 14,
    "start_time": "2021-10-05T16:47:29.725Z"
   },
   {
    "duration": 25,
    "start_time": "2021-10-05T16:47:36.623Z"
   },
   {
    "duration": 24,
    "start_time": "2021-10-05T16:47:51.317Z"
   },
   {
    "duration": 25,
    "start_time": "2021-10-05T16:48:07.601Z"
   },
   {
    "duration": 7387,
    "start_time": "2021-10-05T16:51:06.379Z"
   },
   {
    "duration": 152,
    "start_time": "2021-10-05T16:51:30.914Z"
   },
   {
    "duration": 35,
    "start_time": "2021-10-05T16:57:44.512Z"
   },
   {
    "duration": 755,
    "start_time": "2021-10-05T16:58:19.477Z"
   },
   {
    "duration": 53,
    "start_time": "2021-10-05T16:59:33.716Z"
   },
   {
    "duration": 51,
    "start_time": "2021-10-05T17:00:16.714Z"
   },
   {
    "duration": 392,
    "start_time": "2021-10-05T19:08:46.016Z"
   },
   {
    "duration": 1672,
    "start_time": "2021-10-05T19:08:59.544Z"
   },
   {
    "duration": 183,
    "start_time": "2021-10-05T19:09:01.219Z"
   },
   {
    "duration": 79,
    "start_time": "2021-10-05T19:09:01.405Z"
   },
   {
    "duration": 11,
    "start_time": "2021-10-05T19:09:01.487Z"
   },
   {
    "duration": 11,
    "start_time": "2021-10-05T19:09:09.802Z"
   },
   {
    "duration": 10,
    "start_time": "2021-10-05T19:09:24.206Z"
   },
   {
    "duration": 16,
    "start_time": "2021-10-05T19:09:45.208Z"
   },
   {
    "duration": 10,
    "start_time": "2021-10-05T19:22:25.157Z"
   },
   {
    "duration": 25,
    "start_time": "2021-10-05T19:22:33.526Z"
   },
   {
    "duration": 363,
    "start_time": "2021-10-05T19:23:16.101Z"
   },
   {
    "duration": 18,
    "start_time": "2021-10-05T19:24:18.805Z"
   },
   {
    "duration": 20,
    "start_time": "2021-10-05T19:24:32.811Z"
   },
   {
    "duration": 18,
    "start_time": "2021-10-05T20:38:23.252Z"
   },
   {
    "duration": 1192,
    "start_time": "2021-10-05T20:42:24.126Z"
   },
   {
    "duration": 1081,
    "start_time": "2021-10-05T20:42:32.490Z"
   },
   {
    "duration": 141,
    "start_time": "2021-10-05T20:43:00.748Z"
   },
   {
    "duration": 381,
    "start_time": "2021-10-05T20:43:15.017Z"
   },
   {
    "duration": 76,
    "start_time": "2021-10-05T20:43:21.809Z"
   },
   {
    "duration": 78,
    "start_time": "2021-10-05T20:44:44.317Z"
   },
   {
    "duration": 79,
    "start_time": "2021-10-05T20:45:05.554Z"
   },
   {
    "duration": 77,
    "start_time": "2021-10-05T20:47:02.070Z"
   },
   {
    "duration": 69,
    "start_time": "2021-10-05T20:47:21.719Z"
   },
   {
    "duration": 70,
    "start_time": "2021-10-05T20:47:27.297Z"
   },
   {
    "duration": 74,
    "start_time": "2021-10-05T20:48:22.757Z"
   },
   {
    "duration": 81,
    "start_time": "2021-10-05T20:48:36.787Z"
   },
   {
    "duration": 47,
    "start_time": "2021-10-05T20:55:08.622Z"
   },
   {
    "duration": 20,
    "start_time": "2021-10-05T20:56:05.978Z"
   },
   {
    "duration": 39,
    "start_time": "2021-10-05T20:58:15.117Z"
   },
   {
    "duration": 39,
    "start_time": "2021-10-05T20:59:42.110Z"
   },
   {
    "duration": 19,
    "start_time": "2021-10-05T21:10:25.441Z"
   },
   {
    "duration": 8,
    "start_time": "2021-10-05T21:10:45.114Z"
   },
   {
    "duration": 102,
    "start_time": "2021-10-05T21:15:56.880Z"
   },
   {
    "duration": 103,
    "start_time": "2021-10-05T21:16:12.966Z"
   },
   {
    "duration": 6,
    "start_time": "2021-10-05T21:16:36.392Z"
   },
   {
    "duration": 34,
    "start_time": "2021-10-05T21:18:20.804Z"
   },
   {
    "duration": 33,
    "start_time": "2021-10-05T21:18:32.885Z"
   },
   {
    "duration": 301,
    "start_time": "2021-10-06T17:02:50.608Z"
   },
   {
    "duration": 1724,
    "start_time": "2021-10-06T17:03:09.475Z"
   },
   {
    "duration": 194,
    "start_time": "2021-10-06T17:03:11.202Z"
   },
   {
    "duration": 75,
    "start_time": "2021-10-06T17:03:11.399Z"
   },
   {
    "duration": 48,
    "start_time": "2021-10-06T17:03:11.477Z"
   },
   {
    "duration": 38,
    "start_time": "2021-10-06T17:03:11.528Z"
   },
   {
    "duration": 138,
    "start_time": "2021-10-06T17:03:11.568Z"
   },
   {
    "duration": 53,
    "start_time": "2021-10-06T17:03:11.709Z"
   },
   {
    "duration": 21,
    "start_time": "2021-10-06T17:03:11.765Z"
   },
   {
    "duration": 71,
    "start_time": "2021-10-06T17:03:11.789Z"
   },
   {
    "duration": 14,
    "start_time": "2021-10-06T17:03:11.863Z"
   },
   {
    "duration": 3,
    "start_time": "2021-10-06T17:03:11.879Z"
   },
   {
    "duration": 29,
    "start_time": "2021-10-06T17:03:25.330Z"
   },
   {
    "duration": 30,
    "start_time": "2021-10-06T17:07:09.705Z"
   },
   {
    "duration": 40,
    "start_time": "2021-10-06T17:08:08.971Z"
   },
   {
    "duration": 42,
    "start_time": "2021-10-06T17:09:07.043Z"
   },
   {
    "duration": 33,
    "start_time": "2021-10-06T17:22:07.352Z"
   },
   {
    "duration": 60,
    "start_time": "2021-10-06T17:22:16.867Z"
   },
   {
    "duration": 331,
    "start_time": "2021-10-06T17:23:03.790Z"
   },
   {
    "duration": 61,
    "start_time": "2021-10-06T17:26:19.347Z"
   },
   {
    "duration": 295,
    "start_time": "2021-10-06T17:32:06.587Z"
   },
   {
    "duration": 33,
    "start_time": "2021-10-06T18:39:35.382Z"
   },
   {
    "duration": 67,
    "start_time": "2021-10-06T18:39:51.293Z"
   },
   {
    "duration": 53,
    "start_time": "2021-10-06T18:43:17.058Z"
   },
   {
    "duration": 277,
    "start_time": "2021-10-06T18:45:06.876Z"
   },
   {
    "duration": 39,
    "start_time": "2021-10-06T18:45:19.591Z"
   },
   {
    "duration": 35,
    "start_time": "2021-10-06T18:45:43.164Z"
   },
   {
    "duration": 41,
    "start_time": "2021-10-06T18:46:36.751Z"
   },
   {
    "duration": 2564,
    "start_time": "2021-10-06T19:04:33.110Z"
   },
   {
    "duration": 2699,
    "start_time": "2021-10-06T19:04:56.349Z"
   },
   {
    "duration": 32,
    "start_time": "2021-10-06T19:07:12.835Z"
   },
   {
    "duration": 45,
    "start_time": "2021-10-06T19:07:55.731Z"
   },
   {
    "duration": 3198,
    "start_time": "2021-10-06T19:31:09.026Z"
   },
   {
    "duration": 6937,
    "start_time": "2021-10-06T19:32:03.393Z"
   },
   {
    "duration": 558,
    "start_time": "2021-10-06T19:34:34.742Z"
   },
   {
    "duration": 403,
    "start_time": "2021-10-06T19:37:37.157Z"
   },
   {
    "duration": 84,
    "start_time": "2021-10-06T19:38:07.272Z"
   },
   {
    "duration": 79,
    "start_time": "2021-10-06T19:38:39.830Z"
   },
   {
    "duration": 85,
    "start_time": "2021-10-06T19:38:54.324Z"
   },
   {
    "duration": 28,
    "start_time": "2021-10-06T19:38:59.264Z"
   },
   {
    "duration": 9,
    "start_time": "2021-10-06T19:39:33.162Z"
   },
   {
    "duration": 30,
    "start_time": "2021-10-06T19:40:36.099Z"
   },
   {
    "duration": 20,
    "start_time": "2021-10-06T19:45:46.171Z"
   },
   {
    "duration": 29,
    "start_time": "2021-10-06T19:45:56.369Z"
   },
   {
    "duration": 34,
    "start_time": "2021-10-06T19:46:26.459Z"
   },
   {
    "duration": 253,
    "start_time": "2021-10-06T19:46:59.154Z"
   },
   {
    "duration": 40,
    "start_time": "2021-10-06T19:47:04.341Z"
   },
   {
    "duration": 6508,
    "start_time": "2021-10-06T19:53:24.966Z"
   },
   {
    "duration": 35,
    "start_time": "2021-10-06T19:54:04.556Z"
   },
   {
    "duration": 16,
    "start_time": "2021-10-06T19:58:47.980Z"
   },
   {
    "duration": 22,
    "start_time": "2021-10-06T19:59:27.703Z"
   },
   {
    "duration": 810,
    "start_time": "2021-10-06T20:03:20.527Z"
   },
   {
    "duration": 15,
    "start_time": "2021-10-06T20:03:31.718Z"
   },
   {
    "duration": 23,
    "start_time": "2021-10-06T20:04:45.914Z"
   },
   {
    "duration": 250,
    "start_time": "2021-10-06T20:06:17.048Z"
   },
   {
    "duration": 17,
    "start_time": "2021-10-06T20:07:30.216Z"
   },
   {
    "duration": 26,
    "start_time": "2021-10-06T20:07:53.661Z"
   },
   {
    "duration": 11,
    "start_time": "2021-10-06T20:08:27.102Z"
   },
   {
    "duration": 924,
    "start_time": "2021-10-06T20:10:24.268Z"
   },
   {
    "duration": 17,
    "start_time": "2021-10-06T20:10:34.371Z"
   },
   {
    "duration": 127,
    "start_time": "2021-10-06T20:12:06.915Z"
   },
   {
    "duration": 33,
    "start_time": "2021-10-06T20:12:15.396Z"
   },
   {
    "duration": 34,
    "start_time": "2021-10-06T20:13:03.066Z"
   },
   {
    "duration": 786,
    "start_time": "2021-10-06T20:18:00.803Z"
   },
   {
    "duration": 185,
    "start_time": "2021-10-06T20:18:01.591Z"
   },
   {
    "duration": 83,
    "start_time": "2021-10-06T20:18:01.779Z"
   },
   {
    "duration": 20,
    "start_time": "2021-10-06T20:18:01.864Z"
   },
   {
    "duration": 70,
    "start_time": "2021-10-06T20:18:01.886Z"
   },
   {
    "duration": 96,
    "start_time": "2021-10-06T20:18:01.958Z"
   },
   {
    "duration": 43,
    "start_time": "2021-10-06T20:18:02.057Z"
   },
   {
    "duration": 21,
    "start_time": "2021-10-06T20:18:02.122Z"
   },
   {
    "duration": 51,
    "start_time": "2021-10-06T20:18:02.146Z"
   },
   {
    "duration": 2761,
    "start_time": "2021-10-06T20:18:02.200Z"
   },
   {
    "duration": 563,
    "start_time": "2021-10-06T20:18:04.964Z"
   },
   {
    "duration": 36,
    "start_time": "2021-10-06T20:18:05.529Z"
   },
   {
    "duration": 16,
    "start_time": "2021-10-06T20:18:05.567Z"
   },
   {
    "duration": 69,
    "start_time": "2021-10-06T20:18:05.586Z"
   },
   {
    "duration": 5,
    "start_time": "2021-10-06T20:23:07.632Z"
   },
   {
    "duration": 6,
    "start_time": "2021-10-06T20:23:19.358Z"
   },
   {
    "duration": 388,
    "start_time": "2021-10-07T16:49:27.591Z"
   },
   {
    "duration": 1573,
    "start_time": "2021-10-07T16:49:36.467Z"
   },
   {
    "duration": 182,
    "start_time": "2021-10-07T16:49:38.043Z"
   },
   {
    "duration": 78,
    "start_time": "2021-10-07T16:49:38.228Z"
   },
   {
    "duration": 20,
    "start_time": "2021-10-07T16:49:38.309Z"
   },
   {
    "duration": 71,
    "start_time": "2021-10-07T16:49:38.331Z"
   },
   {
    "duration": 89,
    "start_time": "2021-10-07T16:49:38.404Z"
   },
   {
    "duration": 47,
    "start_time": "2021-10-07T16:49:38.495Z"
   },
   {
    "duration": 45,
    "start_time": "2021-10-07T16:49:38.546Z"
   },
   {
    "duration": 40,
    "start_time": "2021-10-07T16:49:38.594Z"
   },
   {
    "duration": 2613,
    "start_time": "2021-10-07T16:49:38.637Z"
   },
   {
    "duration": 532,
    "start_time": "2021-10-07T16:49:41.252Z"
   },
   {
    "duration": 33,
    "start_time": "2021-10-07T16:49:41.786Z"
   },
   {
    "duration": 16,
    "start_time": "2021-10-07T16:49:41.821Z"
   },
   {
    "duration": 63,
    "start_time": "2021-10-07T16:49:41.840Z"
   },
   {
    "duration": 6,
    "start_time": "2021-10-07T16:49:41.905Z"
   },
   {
    "duration": 7,
    "start_time": "2021-10-07T16:51:00.810Z"
   },
   {
    "duration": 7,
    "start_time": "2021-10-07T16:51:19.484Z"
   },
   {
    "duration": 1280,
    "start_time": "2021-10-07T16:55:47.666Z"
   },
   {
    "duration": 324,
    "start_time": "2021-10-07T16:56:07.932Z"
   },
   {
    "duration": 114,
    "start_time": "2021-10-07T16:56:14.969Z"
   },
   {
    "duration": 1142,
    "start_time": "2021-10-07T16:56:27.825Z"
   },
   {
    "duration": 1147,
    "start_time": "2021-10-07T17:05:09.118Z"
   },
   {
    "duration": 329,
    "start_time": "2021-10-07T17:09:29.891Z"
   },
   {
    "duration": 8,
    "start_time": "2021-10-07T17:09:49.466Z"
   },
   {
    "duration": 2700,
    "start_time": "2021-10-07T17:19:25.639Z"
   },
   {
    "duration": 2583,
    "start_time": "2021-10-07T17:19:37.662Z"
   },
   {
    "duration": 3023,
    "start_time": "2021-10-07T17:22:41.987Z"
   },
   {
    "duration": 2589,
    "start_time": "2021-10-07T17:22:54.823Z"
   },
   {
    "duration": 2709,
    "start_time": "2021-10-07T17:24:34.029Z"
   },
   {
    "duration": 2616,
    "start_time": "2021-10-07T17:25:16.067Z"
   },
   {
    "duration": 41,
    "start_time": "2021-10-07T17:26:32.580Z"
   },
   {
    "duration": 7,
    "start_time": "2021-10-07T17:26:59.972Z"
   },
   {
    "duration": 1149,
    "start_time": "2021-10-07T17:27:11.233Z"
   },
   {
    "duration": 191,
    "start_time": "2021-10-07T17:27:12.385Z"
   },
   {
    "duration": 69,
    "start_time": "2021-10-07T17:27:12.579Z"
   },
   {
    "duration": 55,
    "start_time": "2021-10-07T17:27:12.652Z"
   },
   {
    "duration": 84,
    "start_time": "2021-10-07T17:27:12.710Z"
   },
   {
    "duration": 120,
    "start_time": "2021-10-07T17:27:12.797Z"
   },
   {
    "duration": 85,
    "start_time": "2021-10-07T17:27:12.920Z"
   },
   {
    "duration": 32,
    "start_time": "2021-10-07T17:27:13.011Z"
   },
   {
    "duration": 76,
    "start_time": "2021-10-07T17:27:13.046Z"
   },
   {
    "duration": 3003,
    "start_time": "2021-10-07T17:27:13.125Z"
   },
   {
    "duration": 634,
    "start_time": "2021-10-07T17:27:16.132Z"
   },
   {
    "duration": 44,
    "start_time": "2021-10-07T17:27:16.769Z"
   },
   {
    "duration": 25,
    "start_time": "2021-10-07T17:27:16.816Z"
   },
   {
    "duration": 80,
    "start_time": "2021-10-07T17:27:16.844Z"
   },
   {
    "duration": 17,
    "start_time": "2021-10-07T17:27:16.927Z"
   },
   {
    "duration": 1549,
    "start_time": "2021-10-07T17:27:16.947Z"
   },
   {
    "duration": 1273,
    "start_time": "2021-10-07T17:27:18.500Z"
   },
   {
    "duration": 11,
    "start_time": "2021-10-07T17:27:19.783Z"
   },
   {
    "duration": 4477,
    "start_time": "2021-10-07T17:27:19.797Z"
   },
   {
    "duration": 55,
    "start_time": "2021-10-07T17:27:24.281Z"
   },
   {
    "duration": 8,
    "start_time": "2021-10-07T17:28:08.538Z"
   },
   {
    "duration": 165,
    "start_time": "2021-10-07T17:45:11.985Z"
   },
   {
    "duration": 17,
    "start_time": "2021-10-07T17:53:42.429Z"
   },
   {
    "duration": 718,
    "start_time": "2021-10-07T18:35:49.866Z"
   },
   {
    "duration": 176,
    "start_time": "2021-10-07T18:35:50.586Z"
   },
   {
    "duration": 74,
    "start_time": "2021-10-07T18:35:50.765Z"
   },
   {
    "duration": 19,
    "start_time": "2021-10-07T18:35:50.843Z"
   },
   {
    "duration": 19,
    "start_time": "2021-10-07T18:35:50.884Z"
   },
   {
    "duration": 94,
    "start_time": "2021-10-07T18:35:50.906Z"
   },
   {
    "duration": 46,
    "start_time": "2021-10-07T18:35:51.003Z"
   },
   {
    "duration": 63,
    "start_time": "2021-10-07T18:35:51.052Z"
   },
   {
    "duration": 2618,
    "start_time": "2021-10-07T18:35:51.121Z"
   },
   {
    "duration": 575,
    "start_time": "2021-10-07T18:35:53.742Z"
   },
   {
    "duration": 35,
    "start_time": "2021-10-07T18:35:54.320Z"
   },
   {
    "duration": 36,
    "start_time": "2021-10-07T18:35:54.357Z"
   },
   {
    "duration": 33,
    "start_time": "2021-10-07T18:35:54.396Z"
   },
   {
    "duration": 7,
    "start_time": "2021-10-07T18:35:54.432Z"
   },
   {
    "duration": 1207,
    "start_time": "2021-10-07T18:35:54.442Z"
   },
   {
    "duration": 1238,
    "start_time": "2021-10-07T18:35:55.652Z"
   },
   {
    "duration": 8,
    "start_time": "2021-10-07T18:35:56.893Z"
   },
   {
    "duration": 2699,
    "start_time": "2021-10-07T18:35:56.903Z"
   },
   {
    "duration": 6,
    "start_time": "2021-10-07T18:35:59.605Z"
   },
   {
    "duration": 28,
    "start_time": "2021-10-07T19:15:21.314Z"
   },
   {
    "duration": 5,
    "start_time": "2021-10-07T19:15:43.816Z"
   },
   {
    "duration": 7,
    "start_time": "2021-10-07T19:16:02.690Z"
   },
   {
    "duration": 33,
    "start_time": "2021-10-07T19:16:05.177Z"
   },
   {
    "duration": 1166,
    "start_time": "2021-10-07T19:23:25.104Z"
   },
   {
    "duration": 50,
    "start_time": "2021-10-07T19:23:40.440Z"
   },
   {
    "duration": 7,
    "start_time": "2021-10-07T19:27:43.550Z"
   },
   {
    "duration": 6,
    "start_time": "2021-10-07T19:27:49.800Z"
   },
   {
    "duration": 6,
    "start_time": "2021-10-07T19:31:16.260Z"
   },
   {
    "duration": 310,
    "start_time": "2021-10-07T19:32:51.460Z"
   },
   {
    "duration": 6,
    "start_time": "2021-10-07T19:33:18.456Z"
   },
   {
    "duration": 10,
    "start_time": "2021-10-07T19:33:23.392Z"
   },
   {
    "duration": 5,
    "start_time": "2021-10-07T19:36:19.936Z"
   },
   {
    "duration": 8,
    "start_time": "2021-10-07T19:36:53.806Z"
   },
   {
    "duration": 1140,
    "start_time": "2021-10-07T19:59:31.131Z"
   },
   {
    "duration": 33,
    "start_time": "2021-10-07T19:59:40.398Z"
   },
   {
    "duration": 9,
    "start_time": "2021-10-07T20:01:59.319Z"
   },
   {
    "duration": 7,
    "start_time": "2021-10-07T20:12:34.372Z"
   },
   {
    "duration": 2592,
    "start_time": "2021-10-07T20:22:43.737Z"
   },
   {
    "duration": 2601,
    "start_time": "2021-10-07T20:23:47.165Z"
   },
   {
    "duration": 2126,
    "start_time": "2021-10-08T08:32:01.900Z"
   },
   {
    "duration": 192,
    "start_time": "2021-10-08T08:32:04.030Z"
   },
   {
    "duration": 83,
    "start_time": "2021-10-08T08:32:04.226Z"
   },
   {
    "duration": 21,
    "start_time": "2021-10-08T08:32:04.313Z"
   },
   {
    "duration": 43,
    "start_time": "2021-10-08T08:32:04.337Z"
   },
   {
    "duration": 103,
    "start_time": "2021-10-08T08:32:04.384Z"
   },
   {
    "duration": 48,
    "start_time": "2021-10-08T08:32:04.490Z"
   },
   {
    "duration": 65,
    "start_time": "2021-10-08T08:32:04.541Z"
   },
   {
    "duration": 2636,
    "start_time": "2021-10-08T08:32:04.608Z"
   },
   {
    "duration": 593,
    "start_time": "2021-10-08T08:32:07.246Z"
   },
   {
    "duration": 1238,
    "start_time": "2021-10-08T08:32:07.841Z"
   },
   {
    "duration": 11,
    "start_time": "2021-10-08T08:32:09.082Z"
   },
   {
    "duration": 34,
    "start_time": "2021-10-08T08:32:09.096Z"
   },
   {
    "duration": 1249,
    "start_time": "2021-10-08T08:32:09.133Z"
   },
   {
    "duration": 10,
    "start_time": "2021-10-08T08:32:10.385Z"
   },
   {
    "duration": 34,
    "start_time": "2021-10-08T08:32:10.398Z"
   },
   {
    "duration": 38,
    "start_time": "2021-10-08T08:32:10.435Z"
   },
   {
    "duration": 2760,
    "start_time": "2021-10-08T08:32:10.476Z"
   },
   {
    "duration": 7196,
    "start_time": "2021-10-08T08:46:30.088Z"
   },
   {
    "duration": 1778,
    "start_time": "2021-10-09T08:23:50.727Z"
   },
   {
    "duration": 129,
    "start_time": "2021-10-09T08:23:52.507Z"
   },
   {
    "duration": 62,
    "start_time": "2021-10-09T08:23:52.638Z"
   },
   {
    "duration": 15,
    "start_time": "2021-10-09T08:23:52.702Z"
   },
   {
    "duration": 40,
    "start_time": "2021-10-09T08:23:52.719Z"
   },
   {
    "duration": 60,
    "start_time": "2021-10-09T08:23:52.761Z"
   },
   {
    "duration": 65,
    "start_time": "2021-10-09T08:23:52.823Z"
   },
   {
    "duration": 32,
    "start_time": "2021-10-09T08:23:52.890Z"
   },
   {
    "duration": 1658,
    "start_time": "2021-10-09T08:23:52.925Z"
   },
   {
    "duration": 330,
    "start_time": "2021-10-09T08:23:54.585Z"
   },
   {
    "duration": 799,
    "start_time": "2021-10-09T08:23:54.917Z"
   },
   {
    "duration": 6,
    "start_time": "2021-10-09T08:23:55.718Z"
   },
   {
    "duration": 44,
    "start_time": "2021-10-09T08:23:55.726Z"
   },
   {
    "duration": 819,
    "start_time": "2021-10-09T08:23:55.772Z"
   },
   {
    "duration": 7,
    "start_time": "2021-10-09T08:23:56.593Z"
   },
   {
    "duration": 22,
    "start_time": "2021-10-09T08:23:56.602Z"
   },
   {
    "duration": 626,
    "start_time": "2021-10-09T08:23:56.626Z"
   },
   {
    "duration": 14,
    "start_time": "2021-10-09T08:23:57.255Z"
   },
   {
    "duration": 1908,
    "start_time": "2021-10-09T08:23:57.271Z"
   },
   {
    "duration": 455,
    "start_time": "2021-10-09T08:33:26.812Z"
   },
   {
    "duration": 88,
    "start_time": "2021-10-09T08:33:27.270Z"
   },
   {
    "duration": 125,
    "start_time": "2021-10-09T08:33:27.361Z"
   },
   {
    "duration": 48,
    "start_time": "2021-10-09T08:33:27.488Z"
   },
   {
    "duration": 16,
    "start_time": "2021-10-09T08:33:27.555Z"
   },
   {
    "duration": 11,
    "start_time": "2021-10-09T08:33:27.573Z"
   },
   {
    "duration": 79,
    "start_time": "2021-10-09T08:33:27.586Z"
   },
   {
    "duration": 35,
    "start_time": "2021-10-09T08:33:27.668Z"
   },
   {
    "duration": 50,
    "start_time": "2021-10-09T08:33:27.705Z"
   },
   {
    "duration": 1632,
    "start_time": "2021-10-09T08:33:27.757Z"
   },
   {
    "duration": 317,
    "start_time": "2021-10-09T08:33:29.391Z"
   },
   {
    "duration": 767,
    "start_time": "2021-10-09T08:33:29.710Z"
   },
   {
    "duration": 5,
    "start_time": "2021-10-09T08:33:30.479Z"
   },
   {
    "duration": 26,
    "start_time": "2021-10-09T08:33:30.486Z"
   },
   {
    "duration": 793,
    "start_time": "2021-10-09T08:33:30.514Z"
   },
   {
    "duration": 6,
    "start_time": "2021-10-09T08:33:31.309Z"
   },
   {
    "duration": 50,
    "start_time": "2021-10-09T08:33:31.317Z"
   },
   {
    "duration": 32,
    "start_time": "2021-10-09T08:33:31.369Z"
   },
   {
    "duration": 5,
    "start_time": "2021-10-09T08:33:31.403Z"
   },
   {
    "duration": 1724,
    "start_time": "2021-10-09T08:33:31.410Z"
   },
   {
    "duration": 111,
    "start_time": "2021-10-09T08:34:37.623Z"
   },
   {
    "duration": 59,
    "start_time": "2021-10-09T08:35:19.781Z"
   },
   {
    "duration": 375,
    "start_time": "2021-10-09T08:36:03.474Z"
   },
   {
    "duration": 49,
    "start_time": "2021-10-09T08:36:46.165Z"
   },
   {
    "duration": 40,
    "start_time": "2021-10-09T08:36:54.204Z"
   },
   {
    "duration": 98,
    "start_time": "2021-10-09T08:47:11.428Z"
   },
   {
    "duration": 39,
    "start_time": "2021-10-09T08:53:46.987Z"
   },
   {
    "duration": 412,
    "start_time": "2021-10-09T08:53:58.035Z"
   },
   {
    "duration": 65,
    "start_time": "2021-10-09T08:53:58.449Z"
   },
   {
    "duration": 68,
    "start_time": "2021-10-09T08:53:58.517Z"
   },
   {
    "duration": 62,
    "start_time": "2021-10-09T08:53:58.587Z"
   },
   {
    "duration": 15,
    "start_time": "2021-10-09T08:53:58.651Z"
   },
   {
    "duration": 11,
    "start_time": "2021-10-09T08:53:58.667Z"
   },
   {
    "duration": 76,
    "start_time": "2021-10-09T08:53:58.680Z"
   },
   {
    "duration": 39,
    "start_time": "2021-10-09T08:53:58.758Z"
   },
   {
    "duration": 195,
    "start_time": "2021-10-09T08:53:58.801Z"
   },
   {
    "duration": -5976,
    "start_time": "2021-10-09T08:54:04.975Z"
   },
   {
    "duration": -5982,
    "start_time": "2021-10-09T08:54:04.982Z"
   },
   {
    "duration": -5986,
    "start_time": "2021-10-09T08:54:04.987Z"
   },
   {
    "duration": -5989,
    "start_time": "2021-10-09T08:54:04.991Z"
   },
   {
    "duration": -5991,
    "start_time": "2021-10-09T08:54:04.994Z"
   },
   {
    "duration": -5994,
    "start_time": "2021-10-09T08:54:04.998Z"
   },
   {
    "duration": -5995,
    "start_time": "2021-10-09T08:54:05.000Z"
   },
   {
    "duration": -5996,
    "start_time": "2021-10-09T08:54:05.003Z"
   },
   {
    "duration": -5998,
    "start_time": "2021-10-09T08:54:05.006Z"
   },
   {
    "duration": -5999,
    "start_time": "2021-10-09T08:54:05.008Z"
   },
   {
    "duration": -6000,
    "start_time": "2021-10-09T08:54:05.010Z"
   },
   {
    "duration": 453,
    "start_time": "2021-10-09T09:02:53.044Z"
   },
   {
    "duration": 75,
    "start_time": "2021-10-09T09:02:53.499Z"
   },
   {
    "duration": 48,
    "start_time": "2021-10-09T09:02:53.577Z"
   },
   {
    "duration": 68,
    "start_time": "2021-10-09T09:02:53.627Z"
   },
   {
    "duration": 13,
    "start_time": "2021-10-09T09:02:53.697Z"
   },
   {
    "duration": 18,
    "start_time": "2021-10-09T09:02:53.711Z"
   },
   {
    "duration": 70,
    "start_time": "2021-10-09T09:02:53.731Z"
   },
   {
    "duration": 60,
    "start_time": "2021-10-09T09:02:53.804Z"
   },
   {
    "duration": 211,
    "start_time": "2021-10-09T09:02:53.866Z"
   },
   {
    "duration": -6025,
    "start_time": "2021-10-09T09:03:00.104Z"
   },
   {
    "duration": -6028,
    "start_time": "2021-10-09T09:03:00.108Z"
   },
   {
    "duration": -6030,
    "start_time": "2021-10-09T09:03:00.111Z"
   },
   {
    "duration": -6031,
    "start_time": "2021-10-09T09:03:00.113Z"
   },
   {
    "duration": -6033,
    "start_time": "2021-10-09T09:03:00.116Z"
   },
   {
    "duration": -6034,
    "start_time": "2021-10-09T09:03:00.118Z"
   },
   {
    "duration": -6035,
    "start_time": "2021-10-09T09:03:00.120Z"
   },
   {
    "duration": -6036,
    "start_time": "2021-10-09T09:03:00.122Z"
   },
   {
    "duration": -6041,
    "start_time": "2021-10-09T09:03:00.128Z"
   },
   {
    "duration": -6043,
    "start_time": "2021-10-09T09:03:00.131Z"
   },
   {
    "duration": -6047,
    "start_time": "2021-10-09T09:03:00.136Z"
   },
   {
    "duration": 38,
    "start_time": "2021-10-09T09:07:02.444Z"
   },
   {
    "duration": 28,
    "start_time": "2021-10-09T09:07:57.613Z"
   },
   {
    "duration": 41,
    "start_time": "2021-10-09T09:09:54.453Z"
   },
   {
    "duration": 1652,
    "start_time": "2021-10-09T09:10:22.843Z"
   },
   {
    "duration": 2175,
    "start_time": "2021-10-09T09:17:54.333Z"
   },
   {
    "duration": 2832,
    "start_time": "2021-10-09T09:25:38.125Z"
   },
   {
    "duration": 1851,
    "start_time": "2021-10-09T09:25:57.464Z"
   },
   {
    "duration": 1807,
    "start_time": "2021-10-09T09:26:19.629Z"
   },
   {
    "duration": 2112,
    "start_time": "2021-10-09T09:27:27.993Z"
   },
   {
    "duration": 2104,
    "start_time": "2021-10-09T09:27:36.658Z"
   },
   {
    "duration": 2090,
    "start_time": "2021-10-09T09:27:42.385Z"
   },
   {
    "duration": 1827,
    "start_time": "2021-10-09T09:27:46.876Z"
   },
   {
    "duration": 1848,
    "start_time": "2021-10-09T09:31:27.913Z"
   },
   {
    "duration": 1842,
    "start_time": "2021-10-09T09:32:05.844Z"
   },
   {
    "duration": 424,
    "start_time": "2021-10-09T09:32:14.398Z"
   },
   {
    "duration": 68,
    "start_time": "2021-10-09T09:32:14.824Z"
   },
   {
    "duration": 60,
    "start_time": "2021-10-09T09:32:14.894Z"
   },
   {
    "duration": 59,
    "start_time": "2021-10-09T09:32:14.956Z"
   },
   {
    "duration": 38,
    "start_time": "2021-10-09T09:32:15.017Z"
   },
   {
    "duration": 15,
    "start_time": "2021-10-09T09:32:15.057Z"
   },
   {
    "duration": 56,
    "start_time": "2021-10-09T09:32:15.074Z"
   },
   {
    "duration": 36,
    "start_time": "2021-10-09T09:32:15.151Z"
   },
   {
    "duration": 31,
    "start_time": "2021-10-09T09:32:15.190Z"
   },
   {
    "duration": 1969,
    "start_time": "2021-10-09T09:32:15.223Z"
   },
   {
    "duration": 370,
    "start_time": "2021-10-09T09:32:17.193Z"
   },
   {
    "duration": 783,
    "start_time": "2021-10-09T09:32:17.566Z"
   },
   {
    "duration": 8,
    "start_time": "2021-10-09T09:32:18.351Z"
   },
   {
    "duration": 24,
    "start_time": "2021-10-09T09:32:18.362Z"
   },
   {
    "duration": 856,
    "start_time": "2021-10-09T09:32:18.387Z"
   },
   {
    "duration": 6,
    "start_time": "2021-10-09T09:32:19.244Z"
   },
   {
    "duration": 31,
    "start_time": "2021-10-09T09:32:19.252Z"
   },
   {
    "duration": 148,
    "start_time": "2021-10-09T09:32:19.284Z"
   },
   {
    "duration": 6,
    "start_time": "2021-10-09T09:32:19.433Z"
   },
   {
    "duration": 2025,
    "start_time": "2021-10-09T09:32:19.440Z"
   },
   {
    "duration": 1937,
    "start_time": "2021-10-09T09:33:01.184Z"
   },
   {
    "duration": 1891,
    "start_time": "2021-10-09T09:33:11.707Z"
   },
   {
    "duration": 330,
    "start_time": "2021-10-09T09:35:08.412Z"
   },
   {
    "duration": 1871,
    "start_time": "2021-10-09T09:35:27.243Z"
   },
   {
    "duration": 1900,
    "start_time": "2021-10-09T09:36:01.492Z"
   },
   {
    "duration": 2017,
    "start_time": "2021-10-09T09:36:22.209Z"
   },
   {
    "duration": 1899,
    "start_time": "2021-10-09T09:36:28.395Z"
   },
   {
    "duration": 199,
    "start_time": "2021-10-09T09:50:32.967Z"
   },
   {
    "duration": 201,
    "start_time": "2021-10-09T09:50:41.454Z"
   },
   {
    "duration": 3628,
    "start_time": "2021-10-09T09:50:47.688Z"
   },
   {
    "duration": 5,
    "start_time": "2021-10-09T09:51:00.112Z"
   },
   {
    "duration": 932,
    "start_time": "2021-10-09T10:05:06.180Z"
   },
   {
    "duration": 1090,
    "start_time": "2021-10-09T10:06:24.064Z"
   },
   {
    "duration": 462,
    "start_time": "2021-10-09T15:27:16.241Z"
   },
   {
    "duration": 1862,
    "start_time": "2021-10-09T15:27:28.615Z"
   },
   {
    "duration": 104,
    "start_time": "2021-10-09T15:27:30.480Z"
   },
   {
    "duration": 80,
    "start_time": "2021-10-09T15:27:30.588Z"
   },
   {
    "duration": 70,
    "start_time": "2021-10-09T15:27:30.670Z"
   },
   {
    "duration": 27,
    "start_time": "2021-10-09T15:27:30.762Z"
   },
   {
    "duration": 14,
    "start_time": "2021-10-09T15:27:30.792Z"
   },
   {
    "duration": 103,
    "start_time": "2021-10-09T15:27:30.809Z"
   },
   {
    "duration": 54,
    "start_time": "2021-10-09T15:27:30.916Z"
   },
   {
    "duration": 47,
    "start_time": "2021-10-09T15:27:30.974Z"
   },
   {
    "duration": 3277,
    "start_time": "2021-10-09T15:27:31.024Z"
   },
   {
    "duration": 649,
    "start_time": "2021-10-09T15:27:34.304Z"
   },
   {
    "duration": 1236,
    "start_time": "2021-10-09T15:27:34.955Z"
   },
   {
    "duration": 11,
    "start_time": "2021-10-09T15:27:36.194Z"
   },
   {
    "duration": 66,
    "start_time": "2021-10-09T15:27:36.208Z"
   },
   {
    "duration": 1164,
    "start_time": "2021-10-09T15:27:36.277Z"
   },
   {
    "duration": 18,
    "start_time": "2021-10-09T15:27:37.444Z"
   },
   {
    "duration": 30,
    "start_time": "2021-10-09T15:27:37.464Z"
   },
   {
    "duration": 788,
    "start_time": "2021-10-09T15:27:37.497Z"
   },
   {
    "duration": 1696,
    "start_time": "2021-10-09T15:27:38.288Z"
   },
   {
    "duration": 7,
    "start_time": "2021-10-09T15:27:39.987Z"
   },
   {
    "duration": 3297,
    "start_time": "2021-10-09T15:27:39.997Z"
   },
   {
    "duration": 6,
    "start_time": "2021-10-09T15:27:43.296Z"
   },
   {
    "duration": 7,
    "start_time": "2021-10-09T15:28:18.857Z"
   },
   {
    "duration": 7,
    "start_time": "2021-10-09T15:28:34.305Z"
   },
   {
    "duration": 566,
    "start_time": "2021-10-09T15:54:33.908Z"
   },
   {
    "duration": 97,
    "start_time": "2021-10-09T15:54:34.477Z"
   },
   {
    "duration": 90,
    "start_time": "2021-10-09T15:54:34.578Z"
   },
   {
    "duration": 69,
    "start_time": "2021-10-09T15:54:34.671Z"
   },
   {
    "duration": 21,
    "start_time": "2021-10-09T15:54:34.762Z"
   },
   {
    "duration": 15,
    "start_time": "2021-10-09T15:54:34.786Z"
   },
   {
    "duration": 108,
    "start_time": "2021-10-09T15:54:34.803Z"
   },
   {
    "duration": 58,
    "start_time": "2021-10-09T15:54:34.915Z"
   },
   {
    "duration": 45,
    "start_time": "2021-10-09T15:54:34.976Z"
   },
   {
    "duration": 3333,
    "start_time": "2021-10-09T15:54:35.024Z"
   },
   {
    "duration": 664,
    "start_time": "2021-10-09T15:54:38.361Z"
   },
   {
    "duration": 1488,
    "start_time": "2021-10-09T15:54:39.028Z"
   },
   {
    "duration": 8,
    "start_time": "2021-10-09T15:54:40.519Z"
   },
   {
    "duration": 54,
    "start_time": "2021-10-09T15:54:40.530Z"
   },
   {
    "duration": 1194,
    "start_time": "2021-10-09T15:54:40.587Z"
   },
   {
    "duration": 8,
    "start_time": "2021-10-09T15:54:41.783Z"
   },
   {
    "duration": 32,
    "start_time": "2021-10-09T15:54:41.794Z"
   },
   {
    "duration": 64,
    "start_time": "2021-10-09T15:54:41.828Z"
   },
   {
    "duration": 1680,
    "start_time": "2021-10-09T15:54:41.895Z"
   },
   {
    "duration": 7,
    "start_time": "2021-10-09T15:54:43.578Z"
   },
   {
    "duration": 3422,
    "start_time": "2021-10-09T15:54:43.587Z"
   },
   {
    "duration": 7,
    "start_time": "2021-10-09T15:54:47.012Z"
   },
   {
    "duration": 1962,
    "start_time": "2021-10-10T10:34:44.464Z"
   },
   {
    "duration": 102,
    "start_time": "2021-10-10T10:34:46.429Z"
   },
   {
    "duration": 83,
    "start_time": "2021-10-10T10:34:46.534Z"
   },
   {
    "duration": 83,
    "start_time": "2021-10-10T10:34:46.619Z"
   },
   {
    "duration": 23,
    "start_time": "2021-10-10T10:34:46.704Z"
   },
   {
    "duration": 14,
    "start_time": "2021-10-10T10:34:46.729Z"
   },
   {
    "duration": 109,
    "start_time": "2021-10-10T10:34:46.746Z"
   },
   {
    "duration": 58,
    "start_time": "2021-10-10T10:34:46.858Z"
   },
   {
    "duration": 47,
    "start_time": "2021-10-10T10:34:46.919Z"
   },
   {
    "duration": 3186,
    "start_time": "2021-10-10T10:34:46.968Z"
   },
   {
    "duration": 680,
    "start_time": "2021-10-10T10:34:50.156Z"
   },
   {
    "duration": 1338,
    "start_time": "2021-10-10T10:34:50.838Z"
   },
   {
    "duration": 7,
    "start_time": "2021-10-10T10:34:52.179Z"
   },
   {
    "duration": 40,
    "start_time": "2021-10-10T10:34:52.188Z"
   },
   {
    "duration": 1175,
    "start_time": "2021-10-10T10:34:52.231Z"
   },
   {
    "duration": 8,
    "start_time": "2021-10-10T10:34:53.409Z"
   },
   {
    "duration": 35,
    "start_time": "2021-10-10T10:34:53.419Z"
   },
   {
    "duration": 6425,
    "start_time": "2021-10-10T10:34:53.456Z"
   },
   {
    "duration": 1697,
    "start_time": "2021-10-10T10:34:59.884Z"
   },
   {
    "duration": 16152,
    "start_time": "2021-10-10T10:35:01.583Z"
   },
   {
    "duration": -3372,
    "start_time": "2021-10-10T10:35:21.110Z"
   },
   {
    "duration": -3374,
    "start_time": "2021-10-10T10:35:21.114Z"
   },
   {
    "duration": -3381,
    "start_time": "2021-10-10T10:35:21.122Z"
   },
   {
    "duration": 2236,
    "start_time": "2021-10-10T10:37:43.744Z"
   },
   {
    "duration": 9,
    "start_time": "2021-10-10T10:39:01.130Z"
   },
   {
    "duration": 3343,
    "start_time": "2021-10-10T10:39:02.951Z"
   },
   {
    "duration": 9,
    "start_time": "2021-10-10T10:39:06.297Z"
   },
   {
    "duration": 1502,
    "start_time": "2022-02-17T17:17:29.398Z"
   },
   {
    "duration": 79,
    "start_time": "2022-02-17T17:17:30.902Z"
   },
   {
    "duration": 57,
    "start_time": "2022-02-17T17:17:30.984Z"
   },
   {
    "duration": 48,
    "start_time": "2022-02-17T17:17:31.043Z"
   },
   {
    "duration": 30,
    "start_time": "2022-02-17T17:17:31.092Z"
   },
   {
    "duration": 18,
    "start_time": "2022-02-17T17:17:31.124Z"
   },
   {
    "duration": 62,
    "start_time": "2022-02-17T17:17:31.144Z"
   },
   {
    "duration": 43,
    "start_time": "2022-02-17T17:17:31.209Z"
   },
   {
    "duration": 34,
    "start_time": "2022-02-17T17:17:31.255Z"
   },
   {
    "duration": 2036,
    "start_time": "2022-02-17T17:17:31.290Z"
   },
   {
    "duration": 375,
    "start_time": "2022-02-17T17:17:33.327Z"
   },
   {
    "duration": 840,
    "start_time": "2022-02-17T17:17:33.704Z"
   },
   {
    "duration": 8,
    "start_time": "2022-02-17T17:17:34.547Z"
   },
   {
    "duration": 30,
    "start_time": "2022-02-17T17:17:34.557Z"
   },
   {
    "duration": 849,
    "start_time": "2022-02-17T17:17:34.588Z"
   },
   {
    "duration": 6,
    "start_time": "2022-02-17T17:17:35.439Z"
   },
   {
    "duration": 24,
    "start_time": "2022-02-17T17:17:35.447Z"
   },
   {
    "duration": 471,
    "start_time": "2022-02-17T17:17:35.473Z"
   },
   {
    "duration": 1173,
    "start_time": "2022-02-17T17:17:35.946Z"
   },
   {
    "duration": 1521,
    "start_time": "2022-02-17T17:17:37.121Z"
   },
   {
    "duration": 5,
    "start_time": "2022-02-17T17:17:38.645Z"
   },
   {
    "duration": 2123,
    "start_time": "2022-02-17T17:17:38.652Z"
   },
   {
    "duration": 4,
    "start_time": "2022-02-17T17:17:40.778Z"
   }
  ],
  "kernelspec": {
   "display_name": "Python 3",
   "language": "python",
   "name": "python3"
  },
  "language_info": {
   "codemirror_mode": {
    "name": "ipython",
    "version": 3
   },
   "file_extension": ".py",
   "mimetype": "text/x-python",
   "name": "python",
   "nbconvert_exporter": "python",
   "pygments_lexer": "ipython3",
   "version": "3.7.8"
  },
  "toc": {
   "base_numbering": 1,
   "nav_menu": {},
   "number_sections": true,
   "sideBar": true,
   "skip_h1_title": true,
   "title_cell": "Содержание",
   "title_sidebar": "Contents",
   "toc_cell": true,
   "toc_position": {
    "height": "calc(100% - 180px)",
    "left": "10px",
    "top": "150px",
    "width": "286.237px"
   },
   "toc_section_display": true,
   "toc_window_display": false
  }
 },
 "nbformat": 4,
 "nbformat_minor": 2
}
