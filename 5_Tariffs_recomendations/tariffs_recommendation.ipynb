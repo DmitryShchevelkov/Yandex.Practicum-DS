{
 "cells": [
  {
   "cell_type": "markdown",
   "metadata": {},
   "source": [
    "# Рекомендация тарифов"
   ]
  },
  {
   "cell_type": "markdown",
   "metadata": {},
   "source": [
    "В вашем распоряжении данные о поведении клиентов, которые уже перешли на эти тарифы (из проекта курса «Статистический анализ данных»). Нужно построить модель для задачи классификации, которая выберет подходящий тариф. Предобработка данных не понадобится — вы её уже сделали.\n",
    "\n",
    "Постройте модель с максимально большим значением *accuracy*. Чтобы сдать проект успешно, нужно довести долю правильных ответов по крайней мере до 0.75. Проверьте *accuracy* на тестовой выборке самостоятельно."
   ]
  },
  {
   "cell_type": "markdown",
   "metadata": {},
   "source": [
    "## Откроем и изучим файл"
   ]
  },
  {
   "cell_type": "markdown",
   "metadata": {},
   "source": [
    "Добавим pandas и необходимые модули из библиотеки sklearn."
   ]
  },
  {
   "cell_type": "code",
   "execution_count": 1,
   "metadata": {},
   "outputs": [
    {
     "data": {
      "text/html": [
       "<div>\n",
       "<style scoped>\n",
       "    .dataframe tbody tr th:only-of-type {\n",
       "        vertical-align: middle;\n",
       "    }\n",
       "\n",
       "    .dataframe tbody tr th {\n",
       "        vertical-align: top;\n",
       "    }\n",
       "\n",
       "    .dataframe thead th {\n",
       "        text-align: right;\n",
       "    }\n",
       "</style>\n",
       "<table border=\"1\" class=\"dataframe\">\n",
       "  <thead>\n",
       "    <tr style=\"text-align: right;\">\n",
       "      <th></th>\n",
       "      <th>calls</th>\n",
       "      <th>minutes</th>\n",
       "      <th>messages</th>\n",
       "      <th>mb_used</th>\n",
       "      <th>is_ultra</th>\n",
       "    </tr>\n",
       "  </thead>\n",
       "  <tbody>\n",
       "    <tr>\n",
       "      <td>0</td>\n",
       "      <td>40.0</td>\n",
       "      <td>311.90</td>\n",
       "      <td>83.0</td>\n",
       "      <td>19915.42</td>\n",
       "      <td>0</td>\n",
       "    </tr>\n",
       "    <tr>\n",
       "      <td>1</td>\n",
       "      <td>85.0</td>\n",
       "      <td>516.75</td>\n",
       "      <td>56.0</td>\n",
       "      <td>22696.96</td>\n",
       "      <td>0</td>\n",
       "    </tr>\n",
       "    <tr>\n",
       "      <td>2</td>\n",
       "      <td>77.0</td>\n",
       "      <td>467.66</td>\n",
       "      <td>86.0</td>\n",
       "      <td>21060.45</td>\n",
       "      <td>0</td>\n",
       "    </tr>\n",
       "    <tr>\n",
       "      <td>3</td>\n",
       "      <td>106.0</td>\n",
       "      <td>745.53</td>\n",
       "      <td>81.0</td>\n",
       "      <td>8437.39</td>\n",
       "      <td>1</td>\n",
       "    </tr>\n",
       "    <tr>\n",
       "      <td>4</td>\n",
       "      <td>66.0</td>\n",
       "      <td>418.74</td>\n",
       "      <td>1.0</td>\n",
       "      <td>14502.75</td>\n",
       "      <td>0</td>\n",
       "    </tr>\n",
       "    <tr>\n",
       "      <td>5</td>\n",
       "      <td>58.0</td>\n",
       "      <td>344.56</td>\n",
       "      <td>21.0</td>\n",
       "      <td>15823.37</td>\n",
       "      <td>0</td>\n",
       "    </tr>\n",
       "    <tr>\n",
       "      <td>6</td>\n",
       "      <td>57.0</td>\n",
       "      <td>431.64</td>\n",
       "      <td>20.0</td>\n",
       "      <td>3738.90</td>\n",
       "      <td>1</td>\n",
       "    </tr>\n",
       "    <tr>\n",
       "      <td>7</td>\n",
       "      <td>15.0</td>\n",
       "      <td>132.40</td>\n",
       "      <td>6.0</td>\n",
       "      <td>21911.60</td>\n",
       "      <td>0</td>\n",
       "    </tr>\n",
       "    <tr>\n",
       "      <td>8</td>\n",
       "      <td>7.0</td>\n",
       "      <td>43.39</td>\n",
       "      <td>3.0</td>\n",
       "      <td>2538.67</td>\n",
       "      <td>1</td>\n",
       "    </tr>\n",
       "    <tr>\n",
       "      <td>9</td>\n",
       "      <td>90.0</td>\n",
       "      <td>665.41</td>\n",
       "      <td>38.0</td>\n",
       "      <td>17358.61</td>\n",
       "      <td>0</td>\n",
       "    </tr>\n",
       "  </tbody>\n",
       "</table>\n",
       "</div>"
      ],
      "text/plain": [
       "   calls  minutes  messages   mb_used  is_ultra\n",
       "0   40.0   311.90      83.0  19915.42         0\n",
       "1   85.0   516.75      56.0  22696.96         0\n",
       "2   77.0   467.66      86.0  21060.45         0\n",
       "3  106.0   745.53      81.0   8437.39         1\n",
       "4   66.0   418.74       1.0  14502.75         0\n",
       "5   58.0   344.56      21.0  15823.37         0\n",
       "6   57.0   431.64      20.0   3738.90         1\n",
       "7   15.0   132.40       6.0  21911.60         0\n",
       "8    7.0    43.39       3.0   2538.67         1\n",
       "9   90.0   665.41      38.0  17358.61         0"
      ]
     },
     "execution_count": 1,
     "metadata": {},
     "output_type": "execute_result"
    }
   ],
   "source": [
    "import pandas as pd\n",
    "from sklearn.model_selection import train_test_split\n",
    "from sklearn.tree import DecisionTreeClassifier\n",
    "from sklearn.ensemble import RandomForestClassifier\n",
    "from sklearn.linear_model import LogisticRegression \n",
    "from sklearn.metrics import accuracy_score\n",
    "\n",
    "import warnings\n",
    "warnings.filterwarnings('ignore')\n",
    "\n",
    "df = pd.read_csv('/datasets/users_behavior.csv')\n",
    "df.head(10)\n",
    "#df.info()"
   ]
  },
  {
   "cell_type": "markdown",
   "metadata": {},
   "source": [
    "Целевым признаком в нашей таблице является колонка с обозначением тарифа, которым клиент пользовался в течение месяца,  - \"is_ultra\" («Ультра» — 1, «Смарт» — 0)."
   ]
  },
  {
   "cell_type": "markdown",
   "metadata": {},
   "source": [
    "Похожими по смыслу являются колонки \"calls\" и \"minutes\", целесообразно проверить их коррелируемость</div>"
   ]
  },
  {
   "cell_type": "code",
   "execution_count": 2,
   "metadata": {},
   "outputs": [
    {
     "data": {
      "text/plain": [
       "0.9820832355742293"
      ]
     },
     "execution_count": 2,
     "metadata": {},
     "output_type": "execute_result"
    },
    {
     "data": {
      "image/png": "[encoded data removed]",
      "text/plain": [
       "<Figure size 1080x576 with 1 Axes>"
      ]
     },
     "metadata": {
      "needs_background": "light"
     },
     "output_type": "display_data"
    }
   ],
   "source": [
    "df.plot(x='calls', y='minutes', kind='scatter', figsize=(15, 8), sharex=False, grid=True)\n",
    "df['calls'].corr(df['minutes'])"
   ]
  },
  {
   "cell_type": "markdown",
   "metadata": {},
   "source": [
    "И по графику, и по значению коэффициента корреляции, близкому к 1 (0.98) видно, что признаки \"calls\" и \"minutes\" коллинеарны. Чтобы избавиться от мультиколлинарности, необходимо исключить из модели один из факторов, чтобы избавить модель от переобучаемости и увеличить время тренировки модели. Уберем из всех исследований признак \"calls\".\n"
   ]
  },
  {
   "cell_type": "markdown",
   "metadata": {},
   "source": [
    "## Разбейте данные на выборки"
   ]
  },
  {
   "cell_type": "markdown",
   "metadata": {},
   "source": [
    "Данные нужно разбить на три части: обучающую, валидационную и тестовую. Размеры тестового и валидационного наборов обычно равны. Исходные данные разбивают в соотношении 3:1:1. Применим к нашему датасету функцию train_test_split(), чтоб разделить его на тестовую выборку df_test (20%) и обучающую-вылидационную df_train_valid."
   ]
  },
  {
   "cell_type": "code",
   "execution_count": 3,
   "metadata": {},
   "outputs": [],
   "source": [
    "df_train_valid, df_test = train_test_split(df, test_size=0.2, random_state=12345)"
   ]
  },
  {
   "cell_type": "markdown",
   "metadata": {},
   "source": [
    "Получившийся датасет df_train_valid разделим на валидационную (df_valid, 25%))  и обучающую выборки (df_train, 75%)."
   ]
  },
  {
   "cell_type": "code",
   "execution_count": 4,
   "metadata": {},
   "outputs": [],
   "source": [
    "df_train, df_valid = train_test_split(df_train_valid, test_size=0.25, random_state=12345) "
   ]
  },
  {
   "cell_type": "markdown",
   "metadata": {},
   "source": [
    "## Исследуем модели"
   ]
  },
  {
   "cell_type": "markdown",
   "metadata": {},
   "source": [
    "### Cоздадим переменные для признаков и целевого признака"
   ]
  },
  {
   "cell_type": "code",
   "execution_count": 5,
   "metadata": {},
   "outputs": [],
   "source": [
    "features_train = df_train.drop(['is_ultra', 'calls'], axis=1)\n",
    "target_train = df_train['is_ultra']\n",
    "features_valid = df_valid.drop(['is_ultra', 'calls'], axis=1)\n",
    "target_valid = df_valid['is_ultra']"
   ]
  },
  {
   "cell_type": "markdown",
   "metadata": {},
   "source": [
    " ### Дерево решений\n",
    " Создадим цикл, который проверит качество модели для разных значений гиперпараметра решающего дерева — __max_depth__."
   ]
  },
  {
   "cell_type": "code",
   "execution_count": 6,
   "metadata": {},
   "outputs": [
    {
     "data": {
      "text/html": [
       "<div>\n",
       "<style scoped>\n",
       "    .dataframe tbody tr th:only-of-type {\n",
       "        vertical-align: middle;\n",
       "    }\n",
       "\n",
       "    .dataframe tbody tr th {\n",
       "        vertical-align: top;\n",
       "    }\n",
       "\n",
       "    .dataframe thead th {\n",
       "        text-align: right;\n",
       "    }\n",
       "</style>\n",
       "<table border=\"1\" class=\"dataframe\">\n",
       "  <thead>\n",
       "    <tr style=\"text-align: right;\">\n",
       "      <th></th>\n",
       "      <th>max_depth</th>\n",
       "      <th>accuracy</th>\n",
       "    </tr>\n",
       "  </thead>\n",
       "  <tbody>\n",
       "    <tr>\n",
       "      <td>0</td>\n",
       "      <td>1.0</td>\n",
       "      <td>0.738725</td>\n",
       "    </tr>\n",
       "    <tr>\n",
       "      <td>1</td>\n",
       "      <td>2.0</td>\n",
       "      <td>0.757387</td>\n",
       "    </tr>\n",
       "    <tr>\n",
       "      <td>2</td>\n",
       "      <td>3.0</td>\n",
       "      <td>0.765163</td>\n",
       "    </tr>\n",
       "    <tr>\n",
       "      <td>3</td>\n",
       "      <td>4.0</td>\n",
       "      <td>0.765163</td>\n",
       "    </tr>\n",
       "    <tr>\n",
       "      <td>4</td>\n",
       "      <td>5.0</td>\n",
       "      <td>0.766719</td>\n",
       "    </tr>\n",
       "    <tr>\n",
       "      <td>5</td>\n",
       "      <td>6.0</td>\n",
       "      <td>0.766719</td>\n",
       "    </tr>\n",
       "    <tr>\n",
       "      <td>6</td>\n",
       "      <td>7.0</td>\n",
       "      <td>0.768274</td>\n",
       "    </tr>\n",
       "    <tr>\n",
       "      <td>7</td>\n",
       "      <td>8.0</td>\n",
       "      <td>0.763608</td>\n",
       "    </tr>\n",
       "    <tr>\n",
       "      <td>8</td>\n",
       "      <td>9.0</td>\n",
       "      <td>0.757387</td>\n",
       "    </tr>\n",
       "  </tbody>\n",
       "</table>\n",
       "</div>"
      ],
      "text/plain": [
       "   max_depth  accuracy\n",
       "0        1.0  0.738725\n",
       "1        2.0  0.757387\n",
       "2        3.0  0.765163\n",
       "3        4.0  0.765163\n",
       "4        5.0  0.766719\n",
       "5        6.0  0.766719\n",
       "6        7.0  0.768274\n",
       "7        8.0  0.763608\n",
       "8        9.0  0.757387"
      ]
     },
     "execution_count": 6,
     "metadata": {},
     "output_type": "execute_result"
    }
   ],
   "source": [
    "data_max_deph = pd.DataFrame(columns=['max_depth', 'accuracy'])\n",
    "for depth in range(1, 10):\n",
    "    model_1 = DecisionTreeClassifier(random_state=12345, max_depth=depth)\n",
    "    model_1.fit(features_train, target_train)\n",
    "    predictions_valid = model_1.predict(features_valid)\n",
    "    data_max_deph = data_max_deph.append({'max_depth': depth, \n",
    "                       'accuracy': accuracy_score(target_valid, predictions_valid)},\n",
    "                       ignore_index=True)\n",
    "    \n",
    "data_max_deph"
   ]
  },
  {
   "cell_type": "markdown",
   "metadata": {},
   "source": [
    "Лучшее качество у модели с max_depth = 7\n",
    "\n",
    "Значение Accuracy = 0,768."
   ]
  },
  {
   "cell_type": "markdown",
   "metadata": {},
   "source": [
    "### Cлучайный лес"
   ]
  },
  {
   "cell_type": "markdown",
   "metadata": {},
   "source": [
    "Применим алгоритм классификации — случайный лес, с гиперпараметром __n_estimators__."
   ]
  },
  {
   "cell_type": "code",
   "execution_count": 7,
   "metadata": {},
   "outputs": [
    {
     "name": "stdout",
     "output_type": "stream",
     "text": [
      "Accuracy наилучшей модели на валидационной выборке: 0.7962674961119751\n"
     ]
    }
   ],
   "source": [
    "best_model = None\n",
    "best_result = 0\n",
    "for est in range(1, 11):\n",
    "    model_2 = RandomForestClassifier(random_state=12345, n_estimators=est) \n",
    "    model_2.fit(features_train, target_train) \n",
    "    result = model_2.score(features_valid, target_valid) \n",
    "    if result > best_result:\n",
    "        best_model = model_2\n",
    "        best_result = result\n",
    "print(\"Accuracy наилучшей модели на валидационной выборке:\", best_result)"
   ]
  },
  {
   "cell_type": "markdown",
   "metadata": {},
   "source": [
    "Лучшее значение Accuracy = 0,796."
   ]
  },
  {
   "cell_type": "markdown",
   "metadata": {},
   "source": [
    "### Логистическая регрессия"
   ]
  },
  {
   "cell_type": "markdown",
   "metadata": {},
   "source": [
    "Обучим модель логистической регрессии на обучающей выборке."
   ]
  },
  {
   "cell_type": "code",
   "execution_count": 8,
   "metadata": {},
   "outputs": [
    {
     "data": {
      "text/plain": [
       "0.7013996889580093"
      ]
     },
     "execution_count": 8,
     "metadata": {},
     "output_type": "execute_result"
    }
   ],
   "source": [
    "model_3 = LogisticRegression(random_state=12345)\n",
    "model_3.fit(features_train, target_train)\n",
    "result_3 = model_3.score(features_valid, target_valid)\n",
    "result_3"
   ]
  },
  {
   "cell_type": "markdown",
   "metadata": {},
   "source": [
    "Значение Accuracy при логистической регрессии всего 0,701."
   ]
  },
  {
   "cell_type": "markdown",
   "metadata": {},
   "source": [
    "### Лучшее значение Accuracy"
   ]
  },
  {
   "cell_type": "markdown",
   "metadata": {},
   "source": [
    "Лучшее значение Accuracy у модели с алгоритмом классификации \"случайный лес\", худший результат у \"логистической регрессии\"."
   ]
  },
  {
   "cell_type": "markdown",
   "metadata": {},
   "source": [
    "## Проверьте модель на тестовой выборке"
   ]
  },
  {
   "cell_type": "markdown",
   "metadata": {},
   "source": [
    "Проверим вторую модель (\"случайный лес\") на тестовой выборке."
   ]
  },
  {
   "cell_type": "code",
   "execution_count": 9,
   "metadata": {},
   "outputs": [],
   "source": [
    "features_test = df_test.drop(['is_ultra', 'calls'], axis=1)\n",
    "target_test = df_test['is_ultra']"
   ]
  },
  {
   "cell_type": "code",
   "execution_count": 10,
   "metadata": {},
   "outputs": [
    {
     "data": {
      "text/plain": [
       "0.7838258164852255"
      ]
     },
     "execution_count": 10,
     "metadata": {},
     "output_type": "execute_result"
    }
   ],
   "source": [
    "best_model.score(features_test, target_test) "
   ]
  },
  {
   "cell_type": "markdown",
   "metadata": {},
   "source": [
    "Качество модели на тестовой выборке 0.78, что удовоетворяет требования к проекту."
   ]
  },
  {
   "cell_type": "markdown",
   "metadata": {},
   "source": [
    "## (бонус) Проверьте модели на адекватность"
   ]
  },
  {
   "cell_type": "markdown",
   "metadata": {},
   "source": [
    "Чтобы оценить адекватность модели, сравним ее качество с Dummy моделью."
   ]
  },
  {
   "cell_type": "code",
   "execution_count": 16,
   "metadata": {},
   "outputs": [
    {
     "data": {
      "text/plain": [
       "[{'most_frequent': 0.6951788491446346}]"
      ]
     },
     "execution_count": 16,
     "metadata": {},
     "output_type": "execute_result"
    }
   ],
   "source": [
    "from sklearn.dummy import DummyClassifier\n",
    "strategies = ['most_frequent']\n",
    "\n",
    "dummy_results = []\n",
    "for strategy in strategies:\n",
    "    dc = DummyClassifier(strategy = strategy, random_state = 42)\n",
    "    dc.fit(features_train, target_train) \n",
    "    result = dc.score(features_test, target_test)\n",
    "    dummy_results.append({strategy: result}) \n",
    "    pd.DataFrame(dummy_results)\n",
    "dummy_results"
   ]
  },
  {
   "cell_type": "markdown",
   "metadata": {},
   "source": [
    "Качество полученных моделей выше, чем у Dummy модели с параметром \"most_frequent\"."
   ]
  },
  {
   "cell_type": "markdown",
   "metadata": {},
   "source": [
    "## Вывод\n",
    "\n",
    "В данном проекте исследовались разные модели, для определения наиболее подходящего тарифа (задача бинарной классификации) клиентам оператора мобильной связи «Мегалайн». \n",
    "\n",
    "Были рассмотрены 3 алгоритма классификации:\n",
    "- Классификатор дерева решений (Decision Tree Classifier);\n",
    "- Случайный Лес (Random Forest);\n",
    "- Логистическая регрессия (Logistic Regression).\n",
    "\n",
    "Самое лучшее значение Accuracy у модели с алгоритмом классификации \"случайный лес\":\n",
    "- на тестовой выборке (20% от всего дататсета) - 0.78;\n",
    "- на всем датасете - 0.895,\n",
    "что является достаточно высоким показателем, чтоб применить данную модель для определения подходящего тарифа клиентам «Мегалайн»."
   ]
  }
 ],
 "metadata": {
  "ExecuteTimeLog": [
   {
    "duration": 638,
    "start_time": "2021-11-01T16:33:35.158Z"
   },
   {
    "duration": 31,
    "start_time": "2021-11-01T16:33:46.536Z"
   },
   {
    "duration": 22,
    "start_time": "2021-11-01T16:34:13.907Z"
   },
   {
    "duration": 25,
    "start_time": "2021-11-01T16:34:30.510Z"
   },
   {
    "duration": 4,
    "start_time": "2021-11-01T16:35:39.478Z"
   },
   {
    "duration": 470,
    "start_time": "2021-11-01T17:04:26.919Z"
   },
   {
    "duration": 1151,
    "start_time": "2021-11-01T17:04:54.747Z"
   },
   {
    "duration": 7,
    "start_time": "2021-11-01T17:05:07.585Z"
   },
   {
    "duration": 6,
    "start_time": "2021-11-01T17:05:32.247Z"
   },
   {
    "duration": 7,
    "start_time": "2021-11-01T17:06:02.024Z"
   },
   {
    "duration": 12,
    "start_time": "2021-11-01T17:06:28.654Z"
   },
   {
    "duration": 12,
    "start_time": "2021-11-01T17:06:37.696Z"
   },
   {
    "duration": 5,
    "start_time": "2021-11-01T17:13:24.843Z"
   },
   {
    "duration": 5,
    "start_time": "2021-11-01T17:16:32.548Z"
   },
   {
    "duration": 50,
    "start_time": "2021-11-01T17:22:36.738Z"
   },
   {
    "duration": 26,
    "start_time": "2021-11-01T17:22:42.298Z"
   },
   {
    "duration": 104,
    "start_time": "2021-11-01T17:22:42.326Z"
   },
   {
    "duration": -1551,
    "start_time": "2021-11-01T17:22:43.983Z"
   },
   {
    "duration": -1554,
    "start_time": "2021-11-01T17:22:43.987Z"
   },
   {
    "duration": -1560,
    "start_time": "2021-11-01T17:22:43.994Z"
   },
   {
    "duration": 5,
    "start_time": "2021-11-01T17:23:02.899Z"
   },
   {
    "duration": 25,
    "start_time": "2021-11-01T17:23:21.226Z"
   },
   {
    "duration": 5,
    "start_time": "2021-11-01T17:23:21.253Z"
   },
   {
    "duration": 27,
    "start_time": "2021-11-01T17:23:21.260Z"
   },
   {
    "duration": 19,
    "start_time": "2021-11-01T17:23:21.288Z"
   },
   {
    "duration": 68,
    "start_time": "2021-11-01T17:23:21.309Z"
   },
   {
    "duration": 452,
    "start_time": "2021-11-01T17:24:50.323Z"
   },
   {
    "duration": 56,
    "start_time": "2021-11-01T17:24:59.145Z"
   },
   {
    "duration": 104,
    "start_time": "2021-11-01T17:29:13.538Z"
   },
   {
    "duration": 67,
    "start_time": "2021-11-01T17:29:34.336Z"
   },
   {
    "duration": 58,
    "start_time": "2021-11-01T17:34:43.586Z"
   },
   {
    "duration": 56,
    "start_time": "2021-11-01T17:35:04.046Z"
   },
   {
    "duration": 415,
    "start_time": "2021-11-01T17:35:19.598Z"
   },
   {
    "duration": 383,
    "start_time": "2021-11-01T17:35:52.384Z"
   },
   {
    "duration": 363,
    "start_time": "2021-11-01T17:36:20.832Z"
   },
   {
    "duration": 8523,
    "start_time": "2021-11-01T17:38:00.121Z"
   },
   {
    "duration": 364,
    "start_time": "2021-11-01T17:38:18.217Z"
   },
   {
    "duration": 55,
    "start_time": "2021-11-01T17:38:41.729Z"
   },
   {
    "duration": 359,
    "start_time": "2021-11-01T17:38:58.076Z"
   },
   {
    "duration": 391,
    "start_time": "2021-11-01T17:39:41.410Z"
   },
   {
    "duration": 361,
    "start_time": "2021-11-01T17:39:44.867Z"
   },
   {
    "duration": 124,
    "start_time": "2021-11-01T17:41:57.698Z"
   },
   {
    "duration": 63,
    "start_time": "2021-11-01T17:42:03.082Z"
   },
   {
    "duration": 60,
    "start_time": "2021-11-01T17:42:39.853Z"
   },
   {
    "duration": 361,
    "start_time": "2021-11-01T17:44:32.918Z"
   },
   {
    "duration": 380,
    "start_time": "2021-11-01T17:44:50.618Z"
   },
   {
    "duration": 66,
    "start_time": "2021-11-01T17:46:41.141Z"
   },
   {
    "duration": 59,
    "start_time": "2021-11-01T17:46:48.935Z"
   },
   {
    "duration": 335,
    "start_time": "2021-11-01T17:50:24.369Z"
   },
   {
    "duration": 90,
    "start_time": "2021-11-01T17:50:55.904Z"
   },
   {
    "duration": 346,
    "start_time": "2021-11-01T17:51:25.875Z"
   },
   {
    "duration": 359,
    "start_time": "2021-11-01T17:51:34.044Z"
   },
   {
    "duration": 338,
    "start_time": "2021-11-01T17:52:33.894Z"
   },
   {
    "duration": 78,
    "start_time": "2021-11-01T17:52:53.230Z"
   },
   {
    "duration": 434,
    "start_time": "2021-11-01T17:54:28.960Z"
   },
   {
    "duration": 149,
    "start_time": "2021-11-01T17:54:58.076Z"
   },
   {
    "duration": 70,
    "start_time": "2021-11-01T17:55:07.657Z"
   },
   {
    "duration": 428,
    "start_time": "2021-11-01T17:55:23.817Z"
   },
   {
    "duration": 386,
    "start_time": "2021-11-01T17:59:17.369Z"
   },
   {
    "duration": 787,
    "start_time": "2021-11-01T18:01:48.366Z"
   },
   {
    "duration": 406,
    "start_time": "2021-11-01T18:02:07.605Z"
   },
   {
    "duration": 277,
    "start_time": "2021-11-01T18:03:04.167Z"
   },
   {
    "duration": 336,
    "start_time": "2021-11-01T18:03:26.154Z"
   },
   {
    "duration": 238,
    "start_time": "2021-11-01T18:03:42.903Z"
   },
   {
    "duration": 427,
    "start_time": "2021-11-01T18:04:30.868Z"
   },
   {
    "duration": 255,
    "start_time": "2021-11-01T18:04:39.691Z"
   },
   {
    "duration": 257,
    "start_time": "2021-11-01T18:05:01.140Z"
   },
   {
    "duration": 550,
    "start_time": "2021-11-01T18:05:48.074Z"
   },
   {
    "duration": 379,
    "start_time": "2021-11-01T18:07:00.227Z"
   },
   {
    "duration": 420,
    "start_time": "2021-11-01T18:07:10.192Z"
   },
   {
    "duration": 77,
    "start_time": "2021-11-01T18:09:46.010Z"
   },
   {
    "duration": 75,
    "start_time": "2021-11-01T18:09:58.776Z"
   },
   {
    "duration": 108,
    "start_time": "2021-11-01T18:10:24.722Z"
   },
   {
    "duration": 73,
    "start_time": "2021-11-01T18:11:20.862Z"
   },
   {
    "duration": 72,
    "start_time": "2021-11-01T18:12:17.262Z"
   },
   {
    "duration": 62,
    "start_time": "2021-11-01T18:13:05.263Z"
   },
   {
    "duration": 57,
    "start_time": "2021-11-01T18:13:39.541Z"
   },
   {
    "duration": 62,
    "start_time": "2021-11-01T18:14:11.154Z"
   },
   {
    "duration": 323,
    "start_time": "2021-11-01T18:19:14.603Z"
   },
   {
    "duration": 31,
    "start_time": "2021-11-01T18:19:20.702Z"
   },
   {
    "duration": 5,
    "start_time": "2021-11-01T18:19:20.735Z"
   },
   {
    "duration": 13,
    "start_time": "2021-11-01T18:19:20.742Z"
   },
   {
    "duration": 8,
    "start_time": "2021-11-01T18:19:20.757Z"
   },
   {
    "duration": 71,
    "start_time": "2021-11-01T18:19:20.767Z"
   },
   {
    "duration": 240,
    "start_time": "2021-11-01T18:19:20.840Z"
   },
   {
    "duration": 242,
    "start_time": "2021-11-01T18:19:29.098Z"
   },
   {
    "duration": 234,
    "start_time": "2021-11-01T18:19:47.547Z"
   },
   {
    "duration": 361,
    "start_time": "2021-11-01T18:28:40.075Z"
   },
   {
    "duration": 232,
    "start_time": "2021-11-01T18:29:36.134Z"
   },
   {
    "duration": 237,
    "start_time": "2021-11-01T18:29:50.782Z"
   },
   {
    "duration": 236,
    "start_time": "2021-11-01T18:30:16.864Z"
   },
   {
    "duration": 45,
    "start_time": "2021-11-01T18:31:05.845Z"
   },
   {
    "duration": 27,
    "start_time": "2021-11-01T18:32:38.490Z"
   },
   {
    "duration": 10,
    "start_time": "2021-11-01T18:34:12.869Z"
   },
   {
    "duration": 62,
    "start_time": "2021-11-01T18:34:57.959Z"
   },
   {
    "duration": 236,
    "start_time": "2021-11-01T18:35:22.656Z"
   },
   {
    "duration": 10,
    "start_time": "2021-11-01T18:35:37.380Z"
   },
   {
    "duration": 9,
    "start_time": "2021-11-01T18:36:02.824Z"
   },
   {
    "duration": 11,
    "start_time": "2021-11-01T18:36:18.534Z"
   },
   {
    "duration": 23,
    "start_time": "2021-11-01T18:38:40.058Z"
   },
   {
    "duration": 26,
    "start_time": "2021-11-01T18:38:54.537Z"
   },
   {
    "duration": 26,
    "start_time": "2021-11-01T18:40:21.603Z"
   },
   {
    "duration": 25,
    "start_time": "2021-11-01T18:41:02.365Z"
   },
   {
    "duration": 11,
    "start_time": "2021-11-01T18:43:09.802Z"
   },
   {
    "duration": 25,
    "start_time": "2021-11-01T19:18:06.843Z"
   },
   {
    "duration": 5,
    "start_time": "2021-11-01T19:18:06.870Z"
   },
   {
    "duration": 11,
    "start_time": "2021-11-01T19:18:06.877Z"
   },
   {
    "duration": 7,
    "start_time": "2021-11-01T19:18:06.890Z"
   },
   {
    "duration": 62,
    "start_time": "2021-11-01T19:18:06.899Z"
   },
   {
    "duration": 231,
    "start_time": "2021-11-01T19:18:06.963Z"
   },
   {
    "duration": 17,
    "start_time": "2021-11-01T19:18:07.196Z"
   },
   {
    "duration": 25,
    "start_time": "2021-11-01T19:34:18.545Z"
   },
   {
    "duration": 5,
    "start_time": "2021-11-01T19:34:18.572Z"
   },
   {
    "duration": 22,
    "start_time": "2021-11-01T19:34:18.579Z"
   },
   {
    "duration": 10,
    "start_time": "2021-11-01T19:34:18.603Z"
   },
   {
    "duration": 72,
    "start_time": "2021-11-01T19:34:18.615Z"
   },
   {
    "duration": 235,
    "start_time": "2021-11-01T19:34:18.689Z"
   },
   {
    "duration": 9,
    "start_time": "2021-11-01T19:34:18.926Z"
   },
   {
    "duration": 15,
    "start_time": "2021-11-01T19:34:18.937Z"
   },
   {
    "duration": 18,
    "start_time": "2021-11-01T19:34:18.954Z"
   },
   {
    "duration": 7,
    "start_time": "2021-11-01T19:34:42.212Z"
   },
   {
    "duration": 24,
    "start_time": "2021-11-01T19:42:14.866Z"
   },
   {
    "duration": 5,
    "start_time": "2021-11-01T19:42:14.891Z"
   },
   {
    "duration": 7,
    "start_time": "2021-11-01T19:42:14.898Z"
   },
   {
    "duration": 7,
    "start_time": "2021-11-01T19:42:14.907Z"
   },
   {
    "duration": 64,
    "start_time": "2021-11-01T19:42:14.915Z"
   },
   {
    "duration": 247,
    "start_time": "2021-11-01T19:42:14.981Z"
   },
   {
    "duration": 10,
    "start_time": "2021-11-01T19:42:15.230Z"
   },
   {
    "duration": 4,
    "start_time": "2021-11-01T19:42:15.241Z"
   },
   {
    "duration": 9,
    "start_time": "2021-11-01T19:42:15.246Z"
   },
   {
    "duration": 2,
    "start_time": "2021-11-01T20:28:07.102Z"
   },
   {
    "duration": 3,
    "start_time": "2021-11-01T20:28:08.581Z"
   },
   {
    "duration": 6,
    "start_time": "2021-11-01T20:28:09.192Z"
   },
   {
    "duration": 3,
    "start_time": "2021-11-01T20:28:11.656Z"
   },
   {
    "duration": 4,
    "start_time": "2021-11-01T20:28:12.167Z"
   },
   {
    "duration": 189,
    "start_time": "2021-11-01T20:28:12.606Z"
   },
   {
    "duration": 175,
    "start_time": "2021-11-01T20:29:07.605Z"
   },
   {
    "duration": 5,
    "start_time": "2021-11-01T20:31:33.043Z"
   },
   {
    "duration": 518,
    "start_time": "2021-11-01T20:34:30.387Z"
   },
   {
    "duration": 342,
    "start_time": "2021-11-01T20:34:44.650Z"
   },
   {
    "duration": 26,
    "start_time": "2021-11-01T20:34:55.482Z"
   },
   {
    "duration": 5,
    "start_time": "2021-11-01T20:34:55.510Z"
   },
   {
    "duration": 6,
    "start_time": "2021-11-01T20:34:55.517Z"
   },
   {
    "duration": 21,
    "start_time": "2021-11-01T20:34:55.525Z"
   },
   {
    "duration": 70,
    "start_time": "2021-11-01T20:34:55.548Z"
   },
   {
    "duration": 244,
    "start_time": "2021-11-01T20:34:55.620Z"
   },
   {
    "duration": 11,
    "start_time": "2021-11-01T20:34:55.866Z"
   },
   {
    "duration": 9,
    "start_time": "2021-11-01T20:34:55.879Z"
   },
   {
    "duration": 350,
    "start_time": "2021-11-01T20:34:55.890Z"
   },
   {
    "duration": -1702,
    "start_time": "2021-11-01T20:34:57.944Z"
   },
   {
    "duration": -1717,
    "start_time": "2021-11-01T20:34:57.960Z"
   },
   {
    "duration": -1718,
    "start_time": "2021-11-01T20:34:57.963Z"
   },
   {
    "duration": -1720,
    "start_time": "2021-11-01T20:34:57.966Z"
   },
   {
    "duration": -1722,
    "start_time": "2021-11-01T20:34:57.969Z"
   },
   {
    "duration": -1726,
    "start_time": "2021-11-01T20:34:57.974Z"
   },
   {
    "duration": -1728,
    "start_time": "2021-11-01T20:34:57.977Z"
   },
   {
    "duration": 8,
    "start_time": "2021-11-01T20:35:59.148Z"
   },
   {
    "duration": 3,
    "start_time": "2021-11-01T20:36:03.935Z"
   },
   {
    "duration": 4,
    "start_time": "2021-11-01T20:36:06.655Z"
   },
   {
    "duration": 6,
    "start_time": "2021-11-01T20:36:10.522Z"
   },
   {
    "duration": 8,
    "start_time": "2021-11-01T20:36:13.412Z"
   },
   {
    "duration": 5,
    "start_time": "2021-11-01T20:36:46.143Z"
   },
   {
    "duration": 4,
    "start_time": "2021-11-01T20:36:49.521Z"
   },
   {
    "duration": 175,
    "start_time": "2021-11-01T20:36:52.098Z"
   },
   {
    "duration": 339,
    "start_time": "2021-11-01T20:37:05.558Z"
   },
   {
    "duration": 26,
    "start_time": "2021-11-01T20:37:10.848Z"
   },
   {
    "duration": 5,
    "start_time": "2021-11-01T20:37:10.875Z"
   },
   {
    "duration": 4,
    "start_time": "2021-11-01T20:37:10.883Z"
   },
   {
    "duration": 5,
    "start_time": "2021-11-01T20:37:10.889Z"
   },
   {
    "duration": 67,
    "start_time": "2021-11-01T20:37:10.895Z"
   },
   {
    "duration": 244,
    "start_time": "2021-11-01T20:37:10.963Z"
   },
   {
    "duration": 11,
    "start_time": "2021-11-01T20:37:11.208Z"
   },
   {
    "duration": 5,
    "start_time": "2021-11-01T20:37:11.221Z"
   },
   {
    "duration": 12,
    "start_time": "2021-11-01T20:37:11.228Z"
   },
   {
    "duration": 3,
    "start_time": "2021-11-01T20:37:11.242Z"
   },
   {
    "duration": 5,
    "start_time": "2021-11-01T20:37:11.247Z"
   },
   {
    "duration": 7,
    "start_time": "2021-11-01T20:37:11.254Z"
   },
   {
    "duration": 4,
    "start_time": "2021-11-01T20:37:11.263Z"
   },
   {
    "duration": 7,
    "start_time": "2021-11-01T20:37:11.307Z"
   },
   {
    "duration": 5,
    "start_time": "2021-11-01T20:37:11.315Z"
   },
   {
    "duration": 199,
    "start_time": "2021-11-01T20:37:11.322Z"
   },
   {
    "duration": 12,
    "start_time": "2021-11-01T20:41:13.423Z"
   },
   {
    "duration": 27,
    "start_time": "2021-11-01T20:59:32.544Z"
   },
   {
    "duration": 6,
    "start_time": "2021-11-01T20:59:32.573Z"
   },
   {
    "duration": 7,
    "start_time": "2021-11-01T20:59:32.581Z"
   },
   {
    "duration": 10,
    "start_time": "2021-11-01T20:59:32.590Z"
   },
   {
    "duration": 67,
    "start_time": "2021-11-01T20:59:32.602Z"
   },
   {
    "duration": 338,
    "start_time": "2021-11-01T20:59:32.671Z"
   },
   {
    "duration": 12,
    "start_time": "2021-11-01T20:59:33.011Z"
   },
   {
    "duration": 5,
    "start_time": "2021-11-01T20:59:33.025Z"
   },
   {
    "duration": 12,
    "start_time": "2021-11-01T20:59:33.032Z"
   },
   {
    "duration": 18,
    "start_time": "2021-11-01T20:59:33.046Z"
   },
   {
    "duration": 25,
    "start_time": "2021-11-01T21:14:31.228Z"
   },
   {
    "duration": 11,
    "start_time": "2021-11-01T21:14:31.255Z"
   },
   {
    "duration": 17,
    "start_time": "2021-11-01T21:14:31.268Z"
   },
   {
    "duration": 8,
    "start_time": "2021-11-01T21:14:31.287Z"
   },
   {
    "duration": 71,
    "start_time": "2021-11-01T21:14:31.297Z"
   },
   {
    "duration": 268,
    "start_time": "2021-11-01T21:14:31.371Z"
   },
   {
    "duration": 11,
    "start_time": "2021-11-01T21:14:31.642Z"
   },
   {
    "duration": 4,
    "start_time": "2021-11-01T21:14:31.657Z"
   },
   {
    "duration": 16,
    "start_time": "2021-11-01T21:14:31.663Z"
   },
   {
    "duration": 33,
    "start_time": "2021-11-01T21:14:31.681Z"
   },
   {
    "duration": 1867,
    "start_time": "2021-11-01T21:56:18.724Z"
   },
   {
    "duration": 8,
    "start_time": "2021-11-01T21:56:20.595Z"
   },
   {
    "duration": 19,
    "start_time": "2021-11-01T21:56:20.606Z"
   },
   {
    "duration": 7,
    "start_time": "2021-11-01T21:56:20.670Z"
   },
   {
    "duration": 1105,
    "start_time": "2021-11-01T21:56:21.123Z"
   },
   {
    "duration": 489,
    "start_time": "2021-11-01T21:56:21.742Z"
   },
   {
    "duration": 104,
    "start_time": "2021-11-01T21:56:22.324Z"
   },
   {
    "duration": 6,
    "start_time": "2021-11-01T21:56:23.224Z"
   },
   {
    "duration": 309,
    "start_time": "2021-11-01T21:56:23.422Z"
   },
   {
    "duration": 461,
    "start_time": "2021-11-01T21:56:23.999Z"
   },
   {
    "duration": 370,
    "start_time": "2021-11-01T21:57:12.208Z"
   },
   {
    "duration": 399,
    "start_time": "2021-11-01T21:57:20.423Z"
   },
   {
    "duration": 1700,
    "start_time": "2021-11-01T21:57:52.622Z"
   },
   {
    "duration": 102,
    "start_time": "2021-11-01T21:57:58.922Z"
   },
   {
    "duration": 5,
    "start_time": "2021-11-01T21:58:01.189Z"
   },
   {
    "duration": 11,
    "start_time": "2021-11-01T21:58:01.730Z"
   },
   {
    "duration": 17,
    "start_time": "2021-11-01T22:01:32.904Z"
   },
   {
    "duration": 1683,
    "start_time": "2021-11-02T19:47:11.864Z"
   },
   {
    "duration": 8,
    "start_time": "2021-11-02T19:47:13.550Z"
   },
   {
    "duration": 13,
    "start_time": "2021-11-02T19:47:13.562Z"
   },
   {
    "duration": 9,
    "start_time": "2021-11-02T19:47:13.578Z"
   },
   {
    "duration": 388,
    "start_time": "2021-11-02T19:47:13.590Z"
   },
   {
    "duration": -2382,
    "start_time": "2021-11-02T19:47:16.363Z"
   },
   {
    "duration": -2384,
    "start_time": "2021-11-02T19:47:16.367Z"
   },
   {
    "duration": -2385,
    "start_time": "2021-11-02T19:47:16.370Z"
   },
   {
    "duration": -2387,
    "start_time": "2021-11-02T19:47:16.374Z"
   },
   {
    "duration": -2388,
    "start_time": "2021-11-02T19:47:16.377Z"
   },
   {
    "duration": 91,
    "start_time": "2021-11-02T19:48:09.089Z"
   },
   {
    "duration": 758,
    "start_time": "2021-11-02T20:08:07.971Z"
   },
   {
    "duration": 6,
    "start_time": "2021-11-02T20:32:21.984Z"
   },
   {
    "duration": 31,
    "start_time": "2021-11-02T20:32:33.699Z"
   },
   {
    "duration": 604,
    "start_time": "2021-11-02T20:32:33.732Z"
   },
   {
    "duration": 7,
    "start_time": "2021-11-02T20:32:34.339Z"
   },
   {
    "duration": 23,
    "start_time": "2021-11-02T20:32:34.349Z"
   },
   {
    "duration": 13,
    "start_time": "2021-11-02T20:32:34.374Z"
   },
   {
    "duration": 94,
    "start_time": "2021-11-02T20:32:34.390Z"
   },
   {
    "duration": 268,
    "start_time": "2021-11-02T20:32:34.487Z"
   },
   {
    "duration": 13,
    "start_time": "2021-11-02T20:32:34.758Z"
   },
   {
    "duration": 22,
    "start_time": "2021-11-02T20:32:34.774Z"
   },
   {
    "duration": 275,
    "start_time": "2021-11-02T20:32:34.798Z"
   },
   {
    "duration": -2331,
    "start_time": "2021-11-02T20:32:37.407Z"
   },
   {
    "duration": 5,
    "start_time": "2021-11-02T20:33:04.496Z"
   },
   {
    "duration": 10,
    "start_time": "2021-11-02T20:35:06.000Z"
   },
   {
    "duration": 624,
    "start_time": "2021-11-02T20:36:49.021Z"
   },
   {
    "duration": 637,
    "start_time": "2021-11-02T20:37:07.944Z"
   },
   {
    "duration": 602,
    "start_time": "2021-11-02T20:37:38.350Z"
   },
   {
    "duration": 30,
    "start_time": "2021-11-02T20:39:55.226Z"
   },
   {
    "duration": 605,
    "start_time": "2021-11-02T20:39:55.258Z"
   },
   {
    "duration": 8,
    "start_time": "2021-11-02T20:39:55.867Z"
   },
   {
    "duration": 8,
    "start_time": "2021-11-02T20:39:55.877Z"
   },
   {
    "duration": 7,
    "start_time": "2021-11-02T20:39:55.887Z"
   },
   {
    "duration": 112,
    "start_time": "2021-11-02T20:39:55.897Z"
   },
   {
    "duration": 336,
    "start_time": "2021-11-02T20:39:56.028Z"
   },
   {
    "duration": 16,
    "start_time": "2021-11-02T20:39:56.369Z"
   },
   {
    "duration": 5,
    "start_time": "2021-11-02T20:39:56.388Z"
   },
   {
    "duration": 38,
    "start_time": "2021-11-02T20:39:56.396Z"
   },
   {
    "duration": 279,
    "start_time": "2021-11-02T20:39:56.437Z"
   },
   {
    "duration": 14,
    "start_time": "2021-11-02T20:42:31.904Z"
   },
   {
    "duration": 30,
    "start_time": "2021-11-02T20:44:46.436Z"
   },
   {
    "duration": 612,
    "start_time": "2021-11-02T20:44:46.468Z"
   },
   {
    "duration": 7,
    "start_time": "2021-11-02T20:44:47.084Z"
   },
   {
    "duration": 11,
    "start_time": "2021-11-02T20:44:47.094Z"
   },
   {
    "duration": 22,
    "start_time": "2021-11-02T20:44:47.108Z"
   },
   {
    "duration": 100,
    "start_time": "2021-11-02T20:44:47.132Z"
   },
   {
    "duration": 275,
    "start_time": "2021-11-02T20:44:47.234Z"
   },
   {
    "duration": 21,
    "start_time": "2021-11-02T20:44:47.512Z"
   },
   {
    "duration": 4,
    "start_time": "2021-11-02T20:44:47.536Z"
   },
   {
    "duration": 15,
    "start_time": "2021-11-02T20:44:47.543Z"
   },
   {
    "duration": 18,
    "start_time": "2021-11-02T20:44:47.560Z"
   },
   {
    "duration": 1163,
    "start_time": "2021-11-02T21:03:23.924Z"
   },
   {
    "duration": 508,
    "start_time": "2021-11-02T21:03:26.326Z"
   },
   {
    "duration": 6,
    "start_time": "2021-11-02T21:03:27.259Z"
   },
   {
    "duration": 6,
    "start_time": "2021-11-02T21:03:27.597Z"
   },
   {
    "duration": 5,
    "start_time": "2021-11-02T21:03:29.049Z"
   },
   {
    "duration": 61,
    "start_time": "2021-11-02T21:03:29.396Z"
   },
   {
    "duration": 174,
    "start_time": "2021-11-02T21:03:31.949Z"
   },
   {
    "duration": 10,
    "start_time": "2021-11-02T21:03:34.396Z"
   },
   {
    "duration": 4,
    "start_time": "2021-11-02T21:03:35.985Z"
   },
   {
    "duration": 8,
    "start_time": "2021-11-02T21:03:36.124Z"
   },
   {
    "duration": 11,
    "start_time": "2021-11-02T21:03:38.327Z"
   },
   {
    "duration": 1133,
    "start_time": "2022-02-18T14:32:48.766Z"
   },
   {
    "duration": 523,
    "start_time": "2022-02-18T14:32:49.901Z"
   },
   {
    "duration": 6,
    "start_time": "2022-02-18T14:32:50.427Z"
   },
   {
    "duration": 14,
    "start_time": "2022-02-18T14:32:50.435Z"
   },
   {
    "duration": 7,
    "start_time": "2022-02-18T14:32:50.451Z"
   },
   {
    "duration": 83,
    "start_time": "2022-02-18T14:32:50.460Z"
   },
   {
    "duration": 191,
    "start_time": "2022-02-18T14:32:50.545Z"
   },
   {
    "duration": 10,
    "start_time": "2022-02-18T14:32:50.739Z"
   },
   {
    "duration": 11,
    "start_time": "2022-02-18T14:32:50.752Z"
   },
   {
    "duration": 16,
    "start_time": "2022-02-18T14:32:50.765Z"
   },
   {
    "duration": 26,
    "start_time": "2022-02-18T14:32:50.783Z"
   },
   {
    "duration": 13,
    "start_time": "2022-02-18T14:32:50.811Z"
   },
   {
    "duration": 119,
    "start_time": "2022-02-18T14:35:28.970Z"
   },
   {
    "duration": 71,
    "start_time": "2022-02-18T14:36:22.040Z"
   },
   {
    "duration": 7,
    "start_time": "2022-02-18T14:38:42.078Z"
   },
   {
    "duration": 9,
    "start_time": "2022-02-18T14:38:55.675Z"
   }
  ],
  "kernelspec": {
   "display_name": "Python 3",
   "language": "python",
   "name": "python3"
  },
  "language_info": {
   "codemirror_mode": {
    "name": "ipython",
    "version": 3
   },
   "file_extension": ".py",
   "mimetype": "text/x-python",
   "name": "python",
   "nbconvert_exporter": "python",
   "pygments_lexer": "ipython3",
   "version": "3.7.8"
  },
  "toc": {
   "base_numbering": 1,
   "nav_menu": {},
   "number_sections": true,
   "sideBar": true,
   "skip_h1_title": true,
   "title_cell": "Table of Contents",
   "title_sidebar": "Contents",
   "toc_cell": false,
   "toc_position": {},
   "toc_section_display": true,
   "toc_window_display": false
  }
 },
 "nbformat": 4,
 "nbformat_minor": 2
}
