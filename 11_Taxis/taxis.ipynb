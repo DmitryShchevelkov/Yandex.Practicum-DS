{
 "cells": [
  {
   "cell_type": "markdown",
   "metadata": {
    "toc": true
   },
   "source": [
    "<h1>Содержание<span class=\"tocSkip\"></span></h1>\n",
    "<div class=\"toc\"><ul class=\"toc-item\"><li><span><a href=\"#Подготовка\" data-toc-modified-id=\"Подготовка-1\"><span class=\"toc-item-num\">1&nbsp;&nbsp;</span>Подготовка</a></span></li><li><span><a href=\"#Анализ\" data-toc-modified-id=\"Анализ-2\"><span class=\"toc-item-num\">2&nbsp;&nbsp;</span>Анализ</a></span></li><li><span><a href=\"#Обучение\" data-toc-modified-id=\"Обучение-3\"><span class=\"toc-item-num\">3&nbsp;&nbsp;</span>Обучение</a></span><ul class=\"toc-item\"><li><span><a href=\"#LinearRegression\" data-toc-modified-id=\"LinearRegression-3.1\"><span class=\"toc-item-num\">3.1&nbsp;&nbsp;</span>LinearRegression</a></span></li><li><span><a href=\"#LightGBM\" data-toc-modified-id=\"LightGBM-3.2\"><span class=\"toc-item-num\">3.2&nbsp;&nbsp;</span>LightGBM</a></span></li><li><span><a href=\"#CatBoost\" data-toc-modified-id=\"CatBoost-3.3\"><span class=\"toc-item-num\">3.3&nbsp;&nbsp;</span>CatBoost</a></span></li><li><span><a href=\"#DecisionTreeRegressor\" data-toc-modified-id=\"DecisionTreeRegressor-3.4\"><span class=\"toc-item-num\">3.4&nbsp;&nbsp;</span>DecisionTreeRegressor</a></span></li></ul></li><li><span><a href=\"#Тестирование\" data-toc-modified-id=\"Тестирование-4\"><span class=\"toc-item-num\">4&nbsp;&nbsp;</span>Тестирование</a></span><ul class=\"toc-item\"><li><span><a href=\"#Сравнение-предсказаний-с-фактическими-данными\" data-toc-modified-id=\"Сравнение-предсказаний-с-фактическими-данными-4.1\"><span class=\"toc-item-num\">4.1&nbsp;&nbsp;</span>Сравнение предсказаний с фактическими данными</a></span></li></ul></li><li><span><a href=\"#Вывод\" data-toc-modified-id=\"Вывод-5\"><span class=\"toc-item-num\">5&nbsp;&nbsp;</span>Вывод</a></span></li><li><span><a href=\"#Чек-лист-проверки\" data-toc-modified-id=\"Чек-лист-проверки-6\"><span class=\"toc-item-num\">6&nbsp;&nbsp;</span>Чек-лист проверки</a></span></li></ul></div>"
   ]
  },
  {
   "cell_type": "markdown",
   "metadata": {},
   "source": [
    "#  Прогнозирование заказов такси"
   ]
  },
  {
   "cell_type": "markdown",
   "metadata": {},
   "source": [
    "Компания «Чётенькое такси» собрала исторические данные о заказах такси в аэропортах. Чтобы привлекать больше водителей в период пиковой нагрузки, нужно спрогнозировать количество заказов такси на следующий час. Постройте модель для такого предсказания.\n",
    "\n",
    "Значение метрики *RMSE* на тестовой выборке должно быть не больше 48.\n",
    "\n",
    "Вам нужно:\n",
    "\n",
    "1. Загрузить данные и выполнить их ресемплирование по одному часу.\n",
    "2. Проанализировать данные.\n",
    "3. Обучить разные модели с различными гиперпараметрами. Сделать тестовую выборку размером 10% от исходных данных.\n",
    "4. Проверить данные на тестовой выборке и сделать выводы.\n",
    "\n",
    "\n",
    "Данные лежат в файле `taxi.csv`. Количество заказов находится в столбце `num_orders` (от англ. *number of orders*, «число заказов»)."
   ]
  },
  {
   "cell_type": "markdown",
   "metadata": {},
   "source": [
    "## Подготовка"
   ]
  },
  {
   "cell_type": "code",
   "execution_count": 1,
   "metadata": {},
   "outputs": [],
   "source": [
    "import pandas as pd\n",
    "from sklearn.model_selection import train_test_split\n",
    "from statsmodels.tsa.seasonal import seasonal_decompose\n",
    "import matplotlib.pyplot as plt\n",
    "from statsmodels.tsa.stattools import adfuller \n",
    "from sklearn.metrics import mean_squared_error\n",
    "from sklearn.linear_model import LinearRegression\n",
    "from sklearn.tree import DecisionTreeRegressor\n",
    "from lightgbm import LGBMRegressor\n",
    "from catboost import CatBoostRegressor"
   ]
  },
  {
   "cell_type": "markdown",
   "metadata": {},
   "source": [
    "Загрузим данные и посмотрим на них."
   ]
  },
  {
   "cell_type": "code",
   "execution_count": 2,
   "metadata": {},
   "outputs": [
    {
     "name": "stdout",
     "output_type": "stream",
     "text": [
      "<class 'pandas.core.frame.DataFrame'>\n",
      "DatetimeIndex: 26496 entries, 2018-03-01 00:00:00 to 2018-08-31 23:50:00\n",
      "Data columns (total 1 columns):\n",
      "num_orders    26496 non-null int64\n",
      "dtypes: int64(1)\n",
      "memory usage: 414.0 KB\n"
     ]
    }
   ],
   "source": [
    "df = pd.read_csv('/datasets/taxi.csv', index_col=[0], parse_dates=[0])\n",
    "df.info()"
   ]
  },
  {
   "cell_type": "markdown",
   "metadata": {},
   "source": [
    "Проверим на монотонность."
   ]
  },
  {
   "cell_type": "code",
   "execution_count": 3,
   "metadata": {},
   "outputs": [
    {
     "data": {
      "text/plain": [
       "True"
      ]
     },
     "execution_count": 3,
     "metadata": {},
     "output_type": "execute_result"
    }
   ],
   "source": [
    "df.index.is_monotonic"
   ]
  },
  {
   "cell_type": "markdown",
   "metadata": {},
   "source": [
    "Сделаем ресемплирование по 1 часу."
   ]
  },
  {
   "cell_type": "code",
   "execution_count": 4,
   "metadata": {},
   "outputs": [
    {
     "data": {
      "text/html": [
       "<div>\n",
       "<style scoped>\n",
       "    .dataframe tbody tr th:only-of-type {\n",
       "        vertical-align: middle;\n",
       "    }\n",
       "\n",
       "    .dataframe tbody tr th {\n",
       "        vertical-align: top;\n",
       "    }\n",
       "\n",
       "    .dataframe thead th {\n",
       "        text-align: right;\n",
       "    }\n",
       "</style>\n",
       "<table border=\"1\" class=\"dataframe\">\n",
       "  <thead>\n",
       "    <tr style=\"text-align: right;\">\n",
       "      <th></th>\n",
       "      <th>num_orders</th>\n",
       "    </tr>\n",
       "    <tr>\n",
       "      <th>datetime</th>\n",
       "      <th></th>\n",
       "    </tr>\n",
       "  </thead>\n",
       "  <tbody>\n",
       "    <tr>\n",
       "      <td>2018-03-01 00:00:00</td>\n",
       "      <td>124</td>\n",
       "    </tr>\n",
       "    <tr>\n",
       "      <td>2018-03-01 01:00:00</td>\n",
       "      <td>85</td>\n",
       "    </tr>\n",
       "    <tr>\n",
       "      <td>2018-03-01 02:00:00</td>\n",
       "      <td>71</td>\n",
       "    </tr>\n",
       "    <tr>\n",
       "      <td>2018-03-01 03:00:00</td>\n",
       "      <td>66</td>\n",
       "    </tr>\n",
       "    <tr>\n",
       "      <td>2018-03-01 04:00:00</td>\n",
       "      <td>43</td>\n",
       "    </tr>\n",
       "    <tr>\n",
       "      <td>...</td>\n",
       "      <td>...</td>\n",
       "    </tr>\n",
       "    <tr>\n",
       "      <td>2018-08-31 19:00:00</td>\n",
       "      <td>136</td>\n",
       "    </tr>\n",
       "    <tr>\n",
       "      <td>2018-08-31 20:00:00</td>\n",
       "      <td>154</td>\n",
       "    </tr>\n",
       "    <tr>\n",
       "      <td>2018-08-31 21:00:00</td>\n",
       "      <td>159</td>\n",
       "    </tr>\n",
       "    <tr>\n",
       "      <td>2018-08-31 22:00:00</td>\n",
       "      <td>223</td>\n",
       "    </tr>\n",
       "    <tr>\n",
       "      <td>2018-08-31 23:00:00</td>\n",
       "      <td>205</td>\n",
       "    </tr>\n",
       "  </tbody>\n",
       "</table>\n",
       "<p>4416 rows × 1 columns</p>\n",
       "</div>"
      ],
      "text/plain": [
       "                     num_orders\n",
       "datetime                       \n",
       "2018-03-01 00:00:00         124\n",
       "2018-03-01 01:00:00          85\n",
       "2018-03-01 02:00:00          71\n",
       "2018-03-01 03:00:00          66\n",
       "2018-03-01 04:00:00          43\n",
       "...                         ...\n",
       "2018-08-31 19:00:00         136\n",
       "2018-08-31 20:00:00         154\n",
       "2018-08-31 21:00:00         159\n",
       "2018-08-31 22:00:00         223\n",
       "2018-08-31 23:00:00         205\n",
       "\n",
       "[4416 rows x 1 columns]"
      ]
     },
     "execution_count": 4,
     "metadata": {},
     "output_type": "execute_result"
    }
   ],
   "source": [
    "df = df.resample('1H').sum()\n",
    "df"
   ]
  },
  {
   "cell_type": "markdown",
   "metadata": {},
   "source": [
    "## Анализ"
   ]
  },
  {
   "cell_type": "markdown",
   "metadata": {},
   "source": [
    "При помощи функции __seasonal_decompose()__, библиотеки __statsmodels__, посмотрим на графики трендов и сезонности."
   ]
  },
  {
   "cell_type": "code",
   "execution_count": 5,
   "metadata": {},
   "outputs": [],
   "source": [
    "decomposed = seasonal_decompose(df)"
   ]
  },
  {
   "cell_type": "code",
   "execution_count": 6,
   "metadata": {},
   "outputs": [
    {
     "data": {
      "text/plain": [
       "Text(0.5, 1.0, 'Seasonality day')"
      ]
     },
     "execution_count": 6,
     "metadata": {},
     "output_type": "execute_result"
    },
    {
     "data": {
      "image/png": "[encoded data removed]",
      "text/plain": [
       "<Figure size 1152x1080 with 4 Axes>"
      ]
     },
     "metadata": {
      "needs_background": "light"
     },
     "output_type": "display_data"
    }
   ],
   "source": [
    "plt.figure(figsize=(16, 15))\n",
    "plt.subplot(511)\n",
    "decomposed.trend.plot(ax=plt.gca())\n",
    "plt.title('Trend')\n",
    "plt.subplot(512)\n",
    "decomposed.seasonal.plot(ax=plt.gca())\n",
    "plt.title('Seasonality')\n",
    "plt.subplot(513)\n",
    "decomposed.seasonal['2018-08-24':'2018-08-31'].plot(ax=plt.gca())\n",
    "plt.title('Seasonality week')\n",
    "plt.subplot(514)\n",
    "decomposed.seasonal['2018-08-30 20:00:00':'2018-08-31 23:00:00'].plot(ax=plt.gca())\n",
    "plt.title('Seasonality day')\n",
    "\n"
   ]
  },
  {
   "cell_type": "markdown",
   "metadata": {},
   "source": [
    "Из графиков виден возрастающий тренд и ежедневная сезонность. В 6 часов утра просиходит спад заказов, вечером он плавно возрастает и в полночь наступает пик заказов такси."
   ]
  },
  {
   "cell_type": "markdown",
   "metadata": {},
   "source": [
    "Проверим наш ряд на стационарность методом Дики-Фуллера, используя функцию __adfuller()__ модуля __statsmodels__."
   ]
  },
  {
   "cell_type": "code",
   "execution_count": 7,
   "metadata": {},
   "outputs": [
    {
     "name": "stdout",
     "output_type": "stream",
     "text": [
      "Augmented Dickey-Fuller Statistic: -3.068924\n",
      "p-value: 0.028940\n",
      "Critical values: {'1%': -3.431842162413052, '5%': -2.8621993540813637, '10%': -2.567120978470452}\n",
      "единичных корней нет, ряд стационарен\n"
     ]
    }
   ],
   "source": [
    "res = adfuller(df['num_orders']) \n",
    "print('Augmented Dickey-Fuller Statistic: %f' % res[0]) \n",
    "print('p-value: %f' % res[1]) \n",
    "print('Critical values:', res[4])\n",
    "if res[0]> res[4]['5%']: \n",
    "    print('есть единичные корни, ряд не стационарен')\n",
    "else:\n",
    "    print('единичных корней нет, ряд стационарен')"
   ]
  },
  {
   "cell_type": "markdown",
   "metadata": {},
   "source": [
    "Наш ряд оказался стационарным, значит можно по нему делать предсказания."
   ]
  },
  {
   "cell_type": "markdown",
   "metadata": {},
   "source": [
    "## Обучение"
   ]
  },
  {
   "cell_type": "markdown",
   "metadata": {},
   "source": [
    "Напишим функцию __make_features__, которая будет создавать признаки для обучения моделей."
   ]
  },
  {
   "cell_type": "code",
   "execution_count": 8,
   "metadata": {},
   "outputs": [],
   "source": [
    "def make_features(data, max_lag, rolling_mean_size):\n",
    "    data['dayofweek'] = data.index.dayofweek\n",
    "    data['hour'] = data.index.hour\n",
    "    \n",
    "    for lag in range(1, max_lag + 1):\n",
    "        data['lag_{}'.format(lag)] = data['num_orders'].shift(lag)\n",
    "    \n",
    "    data['rolling_mean'] = data['num_orders'].shift().rolling(rolling_mean_size).mean()"
   ]
  },
  {
   "cell_type": "code",
   "execution_count": 9,
   "metadata": {},
   "outputs": [
    {
     "name": "stdout",
     "output_type": "stream",
     "text": [
      "<class 'pandas.core.frame.DataFrame'>\n",
      "DatetimeIndex: 4392 entries, 2018-03-02 00:00:00 to 2018-08-31 23:00:00\n",
      "Freq: H\n",
      "Data columns (total 6 columns):\n",
      "num_orders      4392 non-null int64\n",
      "dayofweek       4392 non-null int64\n",
      "hour            4392 non-null int64\n",
      "lag_1           4392 non-null float64\n",
      "lag_2           4392 non-null float64\n",
      "rolling_mean    4392 non-null float64\n",
      "dtypes: float64(3), int64(3)\n",
      "memory usage: 240.2 KB\n"
     ]
    }
   ],
   "source": [
    "make_features(df, 2, 24)\n",
    "df.dropna(inplace=True)\n",
    "df.info()"
   ]
  },
  {
   "cell_type": "markdown",
   "metadata": {},
   "source": [
    "Разделим наш датасет на обучающую и тестовую выборку. Выделим признаки и целевой признак."
   ]
  },
  {
   "cell_type": "code",
   "execution_count": 10,
   "metadata": {},
   "outputs": [],
   "source": [
    "train, test = train_test_split(df, shuffle=False, test_size=0.1)"
   ]
  },
  {
   "cell_type": "code",
   "execution_count": 11,
   "metadata": {},
   "outputs": [],
   "source": [
    "features_train = train.drop('num_orders', axis=1)\n",
    "target_train = train['num_orders']\n",
    "features_test = test.drop('num_orders', axis=1)\n",
    "target_test = test['num_orders']"
   ]
  },
  {
   "cell_type": "markdown",
   "metadata": {},
   "source": [
    "### LinearRegression\n",
    "Обучим модель LinearRegression."
   ]
  },
  {
   "cell_type": "code",
   "execution_count": 12,
   "metadata": {},
   "outputs": [
    {
     "data": {
      "text/plain": [
       "LinearRegression(copy_X=True, fit_intercept=True, n_jobs=None, normalize=False)"
      ]
     },
     "execution_count": 12,
     "metadata": {},
     "output_type": "execute_result"
    }
   ],
   "source": [
    "lr_model = LinearRegression()\n",
    "lr_model.fit(features_train, target_train)"
   ]
  },
  {
   "cell_type": "markdown",
   "metadata": {},
   "source": [
    "### LightGBM\n",
    "Чтобы не загружать проверку ноутбука, ячейки с циклами подбора параметров переведены в RAW, а таблицы с результатами приведены ниже."
   ]
  },
  {
   "cell_type": "raw",
   "metadata": {},
   "source": [
    "data_n_estimators = pd.DataFrame(columns=['n_estimators', 'rmse_LGBMR'])\n",
    "for n_est in range(1, 300, 50):\n",
    "    LGBMR_model = LGBMRegressor(n_estimators=n_est)\n",
    "    LGBMR_model.fit(features_train, target_train)\n",
    "    pred_LGBMR = LGBMR_model.predict(features_test)\n",
    "    data_n_estimators = data_n_estimators.append({'n_estimators': n_est, \n",
    "                       'rmse_LGBMR': mean_squared_error(target_test, pred_LGBMR)** 0.5},\n",
    "                       ignore_index=True)\n",
    "    \n",
    "data_n_estimators"
   ]
  },
  {
   "cell_type": "markdown",
   "metadata": {},
   "source": [
    "Лучшее значение RMSE у модели с n_estimators=100.  \n",
    "\n",
    "| |n_estimators\t| rmse_LGBMR|\n",
    " :--- | :---: | ---:\n",
    "0\t|1.0\t|80.442150\n",
    "1\t|51.0\t|44.190384\n",
    "2\t|101.0\t|43.132970\n",
    "3\t|201.0\t|44.177904\n",
    "5\t|251.0\t|44.138648\n"
   ]
  },
  {
   "cell_type": "raw",
   "metadata": {},
   "source": [
    "data_depth = pd.DataFrame(columns=['max_depth', 'rmse_LGBMR'])\n",
    "for depth in range(4, 12):\n",
    "    LGBMR_model = LGBMRegressor(n_estimators=100, max_depth=depth)\n",
    "    LGBMR_model.fit(features_train, target_train)\n",
    "    pred_LGBMR = LGBMR_model.predict(features_test)\n",
    "    data_depth = data_depth.append({'max_depth': depth, \n",
    "                       'rmse_LGBMR': mean_squared_error(target_test, pred_LGBMR)** 0.5},\n",
    "                       ignore_index=True)\n",
    "    \n",
    "data_depth"
   ]
  },
  {
   "cell_type": "markdown",
   "metadata": {},
   "source": [
    "| |max_depth |\trmse_LGBMR|\n",
    " :--- | :---: | ---:\n",
    "0\t|4.0\t|43.331123\n",
    "1\t|5.0\t|43.211722\n",
    "2\t|6.0\t|44.199661\n",
    "3\t|7.0\t|44.369206\n",
    "4\t|8.0\t|43.602127\n",
    "5\t|9.0\t|43.572452\n",
    "6\t|10.0\t|43.498568\n",
    "7\t|11.0\t|43.946856\n",
    "\n",
    "Выберем глубину - 5."
   ]
  },
  {
   "cell_type": "code",
   "execution_count": 13,
   "metadata": {},
   "outputs": [
    {
     "data": {
      "text/plain": [
       "LGBMRegressor(boosting_type='gbdt', class_weight=None, colsample_bytree=1.0,\n",
       "              importance_type='split', learning_rate=0.1, max_depth=5,\n",
       "              min_child_samples=20, min_child_weight=0.001, min_split_gain=0.0,\n",
       "              n_estimators=100, n_jobs=-1, num_leaves=31, objective=None,\n",
       "              random_state=None, reg_alpha=0.0, reg_lambda=0.0, silent=True,\n",
       "              subsample=1.0, subsample_for_bin=200000, subsample_freq=0)"
      ]
     },
     "execution_count": 13,
     "metadata": {},
     "output_type": "execute_result"
    }
   ],
   "source": [
    "LGBMR_model = LGBMRegressor(n_estimators=100, max_depth=5)\n",
    "LGBMR_model.fit(features_train, target_train)"
   ]
  },
  {
   "cell_type": "markdown",
   "metadata": {},
   "source": [
    "###  CatBoost\n",
    "Обучим модель CatBoostRegressor. Выделим категориальные признаки, и подберем значение глубины."
   ]
  },
  {
   "cell_type": "code",
   "execution_count": 14,
   "metadata": {},
   "outputs": [],
   "source": [
    "cat = ['dayofweek', 'hour']"
   ]
  },
  {
   "cell_type": "raw",
   "metadata": {},
   "source": [
    "data_depth2 = pd.DataFrame(columns=['max_depth', 'rmse_cat'])\n",
    "for depth2 in range(4, 13):\n",
    "    model_CatBoost = CatBoostRegressor(loss_function=\"RMSE\", iterations=200, learning_rate=0.5, max_depth=depth2)\n",
    "    model_CatBoost.fit(features_train, target_train, cat_features=cat, verbose=100)\n",
    "    pred_CatBoost = model_CatBoost.predict(features_test)\n",
    "    data_depth2 = data_depth2.append({'max_depth': depth2, \n",
    "                       'rmse_cat': mean_squared_error(target_test, pred_CatBoost)** 0.5},\n",
    "                       ignore_index=True)\n",
    "    \n",
    "data_depth2"
   ]
  },
  {
   "cell_type": "markdown",
   "metadata": {},
   "source": [
    "Выберем глубину 6.\n",
    "\n",
    "| |max_depth |\trmse_cat |\n",
    ":--- | :---: | ---:\n",
    "0\t|4.0\t|47.027629\n",
    "1\t|5.0\t|48.164611\n",
    "2\t|6.0\t|45.314579\n",
    "3\t|7.0\t|46.716413\n",
    "4\t|8.0\t|45.823927\n",
    "5\t|9.0\t|46.608596\n",
    "6\t|10.0\t|45.267395\n",
    "7\t|11.0\t|46.182710\n",
    "8\t|12.0\t|45.272958\n"
   ]
  },
  {
   "cell_type": "code",
   "execution_count": 15,
   "metadata": {},
   "outputs": [
    {
     "name": "stdout",
     "output_type": "stream",
     "text": [
      "0:\tlearn: 30.2137462\ttotal: 50.1ms\tremaining: 9.98s\n",
      "100:\tlearn: 17.8727227\ttotal: 2.35s\tremaining: 2.31s\n",
      "199:\tlearn: 15.0366380\ttotal: 4.71s\tremaining: 0us\n"
     ]
    },
    {
     "data": {
      "text/plain": [
       "<catboost.core.CatBoostRegressor at 0x7f0479560e10>"
      ]
     },
     "execution_count": 15,
     "metadata": {},
     "output_type": "execute_result"
    }
   ],
   "source": [
    "model_CatBoost = CatBoostRegressor(loss_function=\"RMSE\", iterations=200, learning_rate=0.5, max_depth=6)\n",
    "model_CatBoost.fit(features_train, target_train, cat_features=cat, verbose=100)"
   ]
  },
  {
   "cell_type": "markdown",
   "metadata": {},
   "source": [
    "### DecisionTreeRegressor"
   ]
  },
  {
   "cell_type": "code",
   "execution_count": 16,
   "metadata": {},
   "outputs": [
    {
     "data": {
      "text/html": [
       "<div>\n",
       "<style scoped>\n",
       "    .dataframe tbody tr th:only-of-type {\n",
       "        vertical-align: middle;\n",
       "    }\n",
       "\n",
       "    .dataframe tbody tr th {\n",
       "        vertical-align: top;\n",
       "    }\n",
       "\n",
       "    .dataframe thead th {\n",
       "        text-align: right;\n",
       "    }\n",
       "</style>\n",
       "<table border=\"1\" class=\"dataframe\">\n",
       "  <thead>\n",
       "    <tr style=\"text-align: right;\">\n",
       "      <th></th>\n",
       "      <th>max_depth</th>\n",
       "      <th>rmse_DTR</th>\n",
       "    </tr>\n",
       "  </thead>\n",
       "  <tbody>\n",
       "    <tr>\n",
       "      <td>0</td>\n",
       "      <td>5.0</td>\n",
       "      <td>57.235552</td>\n",
       "    </tr>\n",
       "    <tr>\n",
       "      <td>1</td>\n",
       "      <td>6.0</td>\n",
       "      <td>52.854860</td>\n",
       "    </tr>\n",
       "    <tr>\n",
       "      <td>2</td>\n",
       "      <td>7.0</td>\n",
       "      <td>55.328427</td>\n",
       "    </tr>\n",
       "    <tr>\n",
       "      <td>3</td>\n",
       "      <td>8.0</td>\n",
       "      <td>54.796935</td>\n",
       "    </tr>\n",
       "    <tr>\n",
       "      <td>4</td>\n",
       "      <td>9.0</td>\n",
       "      <td>55.884797</td>\n",
       "    </tr>\n",
       "    <tr>\n",
       "      <td>5</td>\n",
       "      <td>10.0</td>\n",
       "      <td>58.442948</td>\n",
       "    </tr>\n",
       "    <tr>\n",
       "      <td>6</td>\n",
       "      <td>11.0</td>\n",
       "      <td>56.053975</td>\n",
       "    </tr>\n",
       "    <tr>\n",
       "      <td>7</td>\n",
       "      <td>12.0</td>\n",
       "      <td>56.110701</td>\n",
       "    </tr>\n",
       "    <tr>\n",
       "      <td>8</td>\n",
       "      <td>13.0</td>\n",
       "      <td>57.532830</td>\n",
       "    </tr>\n",
       "    <tr>\n",
       "      <td>9</td>\n",
       "      <td>14.0</td>\n",
       "      <td>57.504441</td>\n",
       "    </tr>\n",
       "    <tr>\n",
       "      <td>10</td>\n",
       "      <td>15.0</td>\n",
       "      <td>60.389237</td>\n",
       "    </tr>\n",
       "    <tr>\n",
       "      <td>11</td>\n",
       "      <td>16.0</td>\n",
       "      <td>56.181419</td>\n",
       "    </tr>\n",
       "    <tr>\n",
       "      <td>12</td>\n",
       "      <td>17.0</td>\n",
       "      <td>59.984308</td>\n",
       "    </tr>\n",
       "    <tr>\n",
       "      <td>13</td>\n",
       "      <td>18.0</td>\n",
       "      <td>60.971130</td>\n",
       "    </tr>\n",
       "    <tr>\n",
       "      <td>14</td>\n",
       "      <td>19.0</td>\n",
       "      <td>54.756374</td>\n",
       "    </tr>\n",
       "  </tbody>\n",
       "</table>\n",
       "</div>"
      ],
      "text/plain": [
       "    max_depth   rmse_DTR\n",
       "0         5.0  57.235552\n",
       "1         6.0  52.854860\n",
       "2         7.0  55.328427\n",
       "3         8.0  54.796935\n",
       "4         9.0  55.884797\n",
       "5        10.0  58.442948\n",
       "6        11.0  56.053975\n",
       "7        12.0  56.110701\n",
       "8        13.0  57.532830\n",
       "9        14.0  57.504441\n",
       "10       15.0  60.389237\n",
       "11       16.0  56.181419\n",
       "12       17.0  59.984308\n",
       "13       18.0  60.971130\n",
       "14       19.0  54.756374"
      ]
     },
     "execution_count": 16,
     "metadata": {},
     "output_type": "execute_result"
    }
   ],
   "source": [
    "data_max_depth = pd.DataFrame(columns=['max_depth', 'rmse_DTR'])\n",
    "for depth in range(5, 20):\n",
    "    model_DTR = DecisionTreeRegressor(random_state=12345, max_depth=depth)\n",
    "    model_DTR.fit(features_train, target_train)\n",
    "    pred_DTR = model_DTR.predict(features_test)\n",
    "    data_max_depth = data_max_depth.append({'max_depth': depth, \n",
    "                       'rmse_DTR': mean_squared_error(target_test, pred_DTR)** 0.5},\n",
    "                       ignore_index=True)\n",
    "    \n",
    "data_max_depth"
   ]
  },
  {
   "cell_type": "markdown",
   "metadata": {},
   "source": [
    "Выберем глубину 6."
   ]
  },
  {
   "cell_type": "code",
   "execution_count": 17,
   "metadata": {},
   "outputs": [
    {
     "data": {
      "text/plain": [
       "DecisionTreeRegressor(criterion='mse', max_depth=6, max_features=None,\n",
       "                      max_leaf_nodes=None, min_impurity_decrease=0.0,\n",
       "                      min_impurity_split=None, min_samples_leaf=1,\n",
       "                      min_samples_split=2, min_weight_fraction_leaf=0.0,\n",
       "                      presort=False, random_state=12345, splitter='best')"
      ]
     },
     "execution_count": 17,
     "metadata": {},
     "output_type": "execute_result"
    }
   ],
   "source": [
    "model_DTR = DecisionTreeRegressor(random_state=12345, max_depth=6)\n",
    "model_DTR.fit(features_train, target_train)"
   ]
  },
  {
   "cell_type": "markdown",
   "metadata": {},
   "source": [
    "## Тестирование"
   ]
  },
  {
   "cell_type": "markdown",
   "metadata": {},
   "source": [
    "Проверим обученные модели на тестовой выборке и сравним значение RMSE."
   ]
  },
  {
   "cell_type": "code",
   "execution_count": 18,
   "metadata": {},
   "outputs": [
    {
     "data": {
      "text/plain": [
       "51.29636818907293"
      ]
     },
     "execution_count": 18,
     "metadata": {},
     "output_type": "execute_result"
    }
   ],
   "source": [
    "pred_lr = lr_model.predict(features_test)\n",
    "mean_squared_error(target_test, pred_lr)** 0.5"
   ]
  },
  {
   "cell_type": "code",
   "execution_count": 19,
   "metadata": {},
   "outputs": [
    {
     "data": {
      "text/plain": [
       "43.211721816231645"
      ]
     },
     "execution_count": 19,
     "metadata": {},
     "output_type": "execute_result"
    }
   ],
   "source": [
    "pred_LGBMR = LGBMR_model.predict(features_test)\n",
    "mean_squared_error(target_test, pred_LGBMR)** 0.5"
   ]
  },
  {
   "cell_type": "code",
   "execution_count": 20,
   "metadata": {},
   "outputs": [
    {
     "data": {
      "text/plain": [
       "45.31457882107338"
      ]
     },
     "execution_count": 20,
     "metadata": {},
     "output_type": "execute_result"
    }
   ],
   "source": [
    "pred_CatBoost = model_CatBoost.predict(features_test)\n",
    "mean_squared_error(target_test, pred_CatBoost)** 0.5"
   ]
  },
  {
   "cell_type": "code",
   "execution_count": 21,
   "metadata": {},
   "outputs": [
    {
     "data": {
      "text/plain": [
       "52.854859956492774"
      ]
     },
     "execution_count": 21,
     "metadata": {},
     "output_type": "execute_result"
    }
   ],
   "source": [
    "pred_DTR = model_DTR.predict(features_test)\n",
    "mean_squared_error(target_test, pred_DTR)** 0.5"
   ]
  },
  {
   "cell_type": "code",
   "execution_count": 22,
   "metadata": {},
   "outputs": [
    {
     "data": {
      "text/html": [
       "<div>\n",
       "<style scoped>\n",
       "    .dataframe tbody tr th:only-of-type {\n",
       "        vertical-align: middle;\n",
       "    }\n",
       "\n",
       "    .dataframe tbody tr th {\n",
       "        vertical-align: top;\n",
       "    }\n",
       "\n",
       "    .dataframe thead th {\n",
       "        text-align: right;\n",
       "    }\n",
       "</style>\n",
       "<table border=\"1\" class=\"dataframe\">\n",
       "  <thead>\n",
       "    <tr style=\"text-align: right;\">\n",
       "      <th></th>\n",
       "      <th>RMSE</th>\n",
       "    </tr>\n",
       "  </thead>\n",
       "  <tbody>\n",
       "    <tr>\n",
       "      <td>LinearRegression</td>\n",
       "      <td>51.290</td>\n",
       "    </tr>\n",
       "    <tr>\n",
       "      <td>LGBM</td>\n",
       "      <td>43.211</td>\n",
       "    </tr>\n",
       "    <tr>\n",
       "      <td>CatBoost</td>\n",
       "      <td>45.310</td>\n",
       "    </tr>\n",
       "    <tr>\n",
       "      <td>DecisionTreeRegressor</td>\n",
       "      <td>52.850</td>\n",
       "    </tr>\n",
       "  </tbody>\n",
       "</table>\n",
       "</div>"
      ],
      "text/plain": [
       "                         RMSE\n",
       "LinearRegression       51.290\n",
       "LGBM                   43.211\n",
       "CatBoost               45.310\n",
       "DecisionTreeRegressor  52.850"
      ]
     },
     "execution_count": 22,
     "metadata": {},
     "output_type": "execute_result"
    }
   ],
   "source": [
    "data = [[51.29],\n",
    "        [ 43.211],\n",
    "        [ 45.31],\n",
    "        [52.85]]\n",
    "model = [\"LinearRegression\", \"LGBM\", \"CatBoost\", \"DecisionTreeRegressor\"]\n",
    "pd.DataFrame(data=data, index=model, columns=[\"RMSE\"])"
   ]
  },
  {
   "cell_type": "markdown",
   "metadata": {},
   "source": [
    "### Сравнение предсказаний с фактическими данными"
   ]
  },
  {
   "cell_type": "code",
   "execution_count": 23,
   "metadata": {},
   "outputs": [],
   "source": [
    "target_test_2days = target_test['2018-08-28 23:00:00':'2018-08-30 23:00:00']\n",
    "features_test_2days = features_test['2018-08-28 23:00:00':'2018-08-30 23:00:00']\n",
    "pred_LGBMR_2days = LGBMR_model.predict(features_test_2days)"
   ]
  },
  {
   "cell_type": "code",
   "execution_count": 24,
   "metadata": {},
   "outputs": [
    {
     "data": {
      "image/png": "[encoded data removed]",
      "text/plain": [
       "<Figure size 1152x576 with 1 Axes>"
      ]
     },
     "metadata": {
      "needs_background": "light"
     },
     "output_type": "display_data"
    }
   ],
   "source": [
    "plt.figure(figsize=(16, 8))\n",
    "plt.plot(target_test_2days, label='Actual values')\n",
    "plt.plot(target_test_2days.index, pred_LGBMR_2days, label='Predictions')\n",
    "plt.legend()\n",
    "plt.show()"
   ]
  },
  {
   "cell_type": "markdown",
   "metadata": {},
   "source": [
    "Модель сильно сглаживает (т.е. плохо предсказывает) пик нагрузки в 16.00 (не могу понять с чем может быть связана эта нагрузка на такси в аэропорт в четверг, хоть и перед 1 сентября). Зато модель хорошо справляется с предсказанием полуночной нагрузки. В целом модель предсказывает меньшую нагрузку, чем есть на самом деле."
   ]
  },
  {
   "cell_type": "markdown",
   "metadata": {},
   "source": [
    "## Вывод\n",
    "\n",
    "В данном проекте было необходимо построить модель для прогнозирования количества заказов такси на следующий час во время пиковой нагрузки для компании «Чётенькое такси».\n",
    "\n",
    "На основе исторических данных были подготовлены признаки для обучения моделей и обучены 4 модели регрессии.\n",
    "\n",
    "Лучшее значение RMSE на тестовой выборке получилось у модели LightGBM - 43,21."
   ]
  }
 ],
 "metadata": {
  "ExecuteTimeLog": [
   {
    "duration": 1313,
    "start_time": "2022-01-27T16:10:07.828Z"
   },
   {
    "duration": 39,
    "start_time": "2022-01-27T16:10:09.144Z"
   },
   {
    "duration": 45,
    "start_time": "2022-01-27T16:10:26.417Z"
   },
   {
    "duration": 22,
    "start_time": "2022-01-27T16:10:58.084Z"
   },
   {
    "duration": 48,
    "start_time": "2022-01-27T16:12:06.948Z"
   },
   {
    "duration": 13,
    "start_time": "2022-01-27T16:12:23.777Z"
   },
   {
    "duration": 568,
    "start_time": "2022-01-27T16:14:20.823Z"
   },
   {
    "duration": 10,
    "start_time": "2022-01-27T16:14:37.901Z"
   },
   {
    "duration": 18,
    "start_time": "2022-01-27T16:14:42.733Z"
   },
   {
    "duration": 60,
    "start_time": "2022-01-27T16:32:33.806Z"
   },
   {
    "duration": 410,
    "start_time": "2022-01-27T16:32:54.820Z"
   },
   {
    "duration": 245,
    "start_time": "2022-01-27T16:33:07.301Z"
   },
   {
    "duration": 4,
    "start_time": "2022-01-27T16:33:19.237Z"
   },
   {
    "duration": 925,
    "start_time": "2022-01-27T16:33:22.693Z"
   },
   {
    "duration": 933,
    "start_time": "2022-01-27T16:34:32.452Z"
   },
   {
    "duration": 457,
    "start_time": "2022-01-27T16:34:46.285Z"
   },
   {
    "duration": 541,
    "start_time": "2022-01-27T16:35:37.699Z"
   },
   {
    "duration": 494,
    "start_time": "2022-01-27T16:35:52.864Z"
   },
   {
    "duration": 528,
    "start_time": "2022-01-27T16:36:07.417Z"
   },
   {
    "duration": 459,
    "start_time": "2022-01-27T16:36:34.889Z"
   },
   {
    "duration": 469,
    "start_time": "2022-01-27T16:37:24.789Z"
   },
   {
    "duration": 527,
    "start_time": "2022-01-27T16:39:44.471Z"
   },
   {
    "duration": 248,
    "start_time": "2022-01-27T16:39:59.633Z"
   },
   {
    "duration": 251,
    "start_time": "2022-01-27T16:40:28.502Z"
   },
   {
    "duration": 486,
    "start_time": "2022-01-27T16:40:34.276Z"
   },
   {
    "duration": 451,
    "start_time": "2022-01-27T16:40:41.912Z"
   },
   {
    "duration": 471,
    "start_time": "2022-01-27T16:43:57.522Z"
   },
   {
    "duration": 560,
    "start_time": "2022-01-27T16:44:14.218Z"
   },
   {
    "duration": 825,
    "start_time": "2022-01-27T16:50:40.123Z"
   },
   {
    "duration": 264,
    "start_time": "2022-01-27T16:51:08.953Z"
   },
   {
    "duration": 262,
    "start_time": "2022-01-27T16:51:51.488Z"
   },
   {
    "duration": 259,
    "start_time": "2022-01-27T16:52:12.755Z"
   },
   {
    "duration": 271,
    "start_time": "2022-01-27T16:52:19.731Z"
   },
   {
    "duration": 279,
    "start_time": "2022-01-27T16:52:47.241Z"
   },
   {
    "duration": 936,
    "start_time": "2022-01-27T16:53:25.017Z"
   },
   {
    "duration": 549,
    "start_time": "2022-01-27T16:53:34.916Z"
   },
   {
    "duration": 567,
    "start_time": "2022-01-27T16:53:49.090Z"
   },
   {
    "duration": 1400,
    "start_time": "2022-01-29T11:49:55.358Z"
   },
   {
    "duration": 50,
    "start_time": "2022-01-29T11:49:56.760Z"
   },
   {
    "duration": 35,
    "start_time": "2022-01-29T11:49:56.814Z"
   },
   {
    "duration": 617,
    "start_time": "2022-01-29T11:49:56.851Z"
   },
   {
    "duration": 378,
    "start_time": "2022-01-30T14:50:51.121Z"
   },
   {
    "duration": 1529,
    "start_time": "2022-01-30T14:50:57.449Z"
   },
   {
    "duration": 53,
    "start_time": "2022-01-30T14:50:58.981Z"
   },
   {
    "duration": 7,
    "start_time": "2022-01-30T14:50:59.037Z"
   },
   {
    "duration": 28,
    "start_time": "2022-01-30T14:50:59.047Z"
   },
   {
    "duration": 6,
    "start_time": "2022-01-30T14:50:59.077Z"
   },
   {
    "duration": 681,
    "start_time": "2022-01-30T14:50:59.086Z"
   },
   {
    "duration": 644,
    "start_time": "2022-01-30T14:52:07.265Z"
   },
   {
    "duration": 11,
    "start_time": "2022-01-30T14:53:18.056Z"
   },
   {
    "duration": 2275,
    "start_time": "2022-01-30T14:54:32.193Z"
   },
   {
    "duration": 1889,
    "start_time": "2022-01-30T14:56:35.688Z"
   },
   {
    "duration": 2085,
    "start_time": "2022-01-30T14:57:11.755Z"
   },
   {
    "duration": 2484,
    "start_time": "2022-01-30T14:57:29.421Z"
   },
   {
    "duration": 1703,
    "start_time": "2022-01-30T14:57:48.886Z"
   },
   {
    "duration": 1624,
    "start_time": "2022-01-30T14:58:01.908Z"
   },
   {
    "duration": 1919,
    "start_time": "2022-01-30T14:58:15.077Z"
   },
   {
    "duration": 2393,
    "start_time": "2022-01-30T14:58:31.601Z"
   },
   {
    "duration": 1908,
    "start_time": "2022-01-30T14:58:50.053Z"
   },
   {
    "duration": 2338,
    "start_time": "2022-01-30T14:59:42.309Z"
   },
   {
    "duration": 1790,
    "start_time": "2022-01-30T15:30:27.046Z"
   },
   {
    "duration": 1686,
    "start_time": "2022-01-30T15:30:50.399Z"
   },
   {
    "duration": 9,
    "start_time": "2022-01-30T15:47:34.212Z"
   },
   {
    "duration": 1825,
    "start_time": "2022-01-30T15:47:38.157Z"
   },
   {
    "duration": 53,
    "start_time": "2022-01-30T15:49:23.672Z"
   },
   {
    "duration": 304,
    "start_time": "2022-01-30T15:51:24.281Z"
   },
   {
    "duration": 2312,
    "start_time": "2022-01-30T15:51:43.321Z"
   },
   {
    "duration": 5,
    "start_time": "2022-01-30T15:54:40.975Z"
   },
   {
    "duration": 5,
    "start_time": "2022-01-30T15:54:51.340Z"
   },
   {
    "duration": 6,
    "start_time": "2022-01-30T15:54:56.345Z"
   },
   {
    "duration": 93,
    "start_time": "2022-01-30T15:58:47.293Z"
   },
   {
    "duration": 94,
    "start_time": "2022-01-30T15:59:07.501Z"
   },
   {
    "duration": 1952,
    "start_time": "2022-01-30T15:59:41.684Z"
   },
   {
    "duration": 5,
    "start_time": "2022-01-30T16:10:27.876Z"
   },
   {
    "duration": 140,
    "start_time": "2022-01-30T16:11:17.761Z"
   },
   {
    "duration": 284,
    "start_time": "2022-01-30T16:11:56.398Z"
   },
   {
    "duration": 6,
    "start_time": "2022-01-30T16:12:03.481Z"
   },
   {
    "duration": 5,
    "start_time": "2022-01-30T16:14:16.772Z"
   },
   {
    "duration": 39,
    "start_time": "2022-01-30T16:41:54.474Z"
   },
   {
    "duration": 9,
    "start_time": "2022-01-30T16:41:57.615Z"
   },
   {
    "duration": 433,
    "start_time": "2022-01-30T16:42:08.225Z"
   },
   {
    "duration": 513,
    "start_time": "2022-01-30T16:42:35.980Z"
   },
   {
    "duration": 305,
    "start_time": "2022-01-30T16:43:27.138Z"
   },
   {
    "duration": 19,
    "start_time": "2022-01-30T16:44:02.073Z"
   },
   {
    "duration": 21,
    "start_time": "2022-01-30T16:44:05.929Z"
   },
   {
    "duration": 4,
    "start_time": "2022-01-30T16:44:21.384Z"
   },
   {
    "duration": 4,
    "start_time": "2022-01-30T16:44:30.821Z"
   },
   {
    "duration": 53,
    "start_time": "2022-01-30T16:45:05.927Z"
   },
   {
    "duration": 30,
    "start_time": "2022-01-30T16:45:17.285Z"
   },
   {
    "duration": 7,
    "start_time": "2022-01-30T16:45:42.126Z"
   },
   {
    "duration": 6,
    "start_time": "2022-01-30T16:54:13.353Z"
   },
   {
    "duration": 7,
    "start_time": "2022-01-30T16:56:17.021Z"
   },
   {
    "duration": 1207,
    "start_time": "2022-01-30T19:19:06.390Z"
   },
   {
    "duration": 42,
    "start_time": "2022-01-30T19:19:07.599Z"
   },
   {
    "duration": 7,
    "start_time": "2022-01-30T19:19:07.644Z"
   },
   {
    "duration": 19,
    "start_time": "2022-01-30T19:19:07.653Z"
   },
   {
    "duration": 7,
    "start_time": "2022-01-30T19:19:07.674Z"
   },
   {
    "duration": 1036,
    "start_time": "2022-01-30T19:19:07.682Z"
   },
   {
    "duration": 1942,
    "start_time": "2022-01-30T19:19:08.720Z"
   },
   {
    "duration": 96,
    "start_time": "2022-01-30T19:19:10.665Z"
   },
   {
    "duration": 31,
    "start_time": "2022-01-30T19:19:10.763Z"
   },
   {
    "duration": 5,
    "start_time": "2022-01-30T19:19:10.795Z"
   },
   {
    "duration": 10,
    "start_time": "2022-01-30T19:19:10.802Z"
   },
   {
    "duration": 8,
    "start_time": "2022-01-30T19:19:10.813Z"
   },
   {
    "duration": 6,
    "start_time": "2022-01-30T19:19:10.822Z"
   },
   {
    "duration": 42,
    "start_time": "2022-01-30T19:19:57.561Z"
   },
   {
    "duration": 5,
    "start_time": "2022-01-30T19:19:59.286Z"
   },
   {
    "duration": 20,
    "start_time": "2022-01-30T19:20:47.102Z"
   },
   {
    "duration": 15,
    "start_time": "2022-01-30T19:25:29.896Z"
   },
   {
    "duration": 493,
    "start_time": "2022-01-30T19:27:47.387Z"
   },
   {
    "duration": 97,
    "start_time": "2022-01-30T19:28:24.264Z"
   },
   {
    "duration": 8,
    "start_time": "2022-01-30T19:29:34.424Z"
   },
   {
    "duration": 2,
    "start_time": "2022-01-30T19:31:26.876Z"
   },
   {
    "duration": 218,
    "start_time": "2022-01-30T19:35:08.842Z"
   },
   {
    "duration": 16083,
    "start_time": "2022-01-30T19:35:36.587Z"
   },
   {
    "duration": 14676,
    "start_time": "2022-01-30T19:37:12.298Z"
   },
   {
    "duration": 11,
    "start_time": "2022-01-30T19:37:56.386Z"
   },
   {
    "duration": 1072,
    "start_time": "2022-01-30T19:41:07.803Z"
   },
   {
    "duration": 18191,
    "start_time": "2022-01-30T19:41:30.983Z"
   },
   {
    "duration": 799864,
    "start_time": "2022-01-30T19:45:08.512Z"
   },
   {
    "duration": 275415,
    "start_time": "2022-01-30T19:58:35.805Z"
   },
   {
    "duration": 13804,
    "start_time": "2022-01-30T20:07:44.765Z"
   },
   {
    "duration": 8872,
    "start_time": "2022-01-30T20:12:04.652Z"
   },
   {
    "duration": 1427,
    "start_time": "2022-01-30T20:12:15.737Z"
   },
   {
    "duration": 1009,
    "start_time": "2022-01-30T20:21:07.988Z"
   },
   {
    "duration": 35,
    "start_time": "2022-01-30T20:23:15.941Z"
   },
   {
    "duration": 12,
    "start_time": "2022-01-30T20:25:05.091Z"
   },
   {
    "duration": 12,
    "start_time": "2022-01-30T20:25:52.172Z"
   },
   {
    "duration": 11,
    "start_time": "2022-01-30T20:26:16.859Z"
   },
   {
    "duration": 5,
    "start_time": "2022-01-30T20:26:40.206Z"
   },
   {
    "duration": 7,
    "start_time": "2022-01-30T20:30:11.591Z"
   },
   {
    "duration": 3,
    "start_time": "2022-01-30T20:39:55.008Z"
   },
   {
    "duration": 46,
    "start_time": "2022-01-30T20:39:55.013Z"
   },
   {
    "duration": 4,
    "start_time": "2022-01-30T20:39:55.061Z"
   },
   {
    "duration": 15,
    "start_time": "2022-01-30T20:39:55.067Z"
   },
   {
    "duration": 5,
    "start_time": "2022-01-30T20:39:55.084Z"
   },
   {
    "duration": 1025,
    "start_time": "2022-01-30T20:39:55.091Z"
   },
   {
    "duration": 1644,
    "start_time": "2022-01-30T20:39:56.118Z"
   },
   {
    "duration": 5,
    "start_time": "2022-01-30T20:39:57.764Z"
   },
   {
    "duration": 30,
    "start_time": "2022-01-30T20:39:57.863Z"
   },
   {
    "duration": 4,
    "start_time": "2022-01-30T20:39:57.895Z"
   },
   {
    "duration": 12,
    "start_time": "2022-01-30T20:39:57.901Z"
   },
   {
    "duration": 48,
    "start_time": "2022-01-30T20:39:57.915Z"
   },
   {
    "duration": 1099,
    "start_time": "2022-01-30T20:39:57.965Z"
   },
   {
    "duration": 2,
    "start_time": "2022-01-30T20:39:59.066Z"
   },
   {
    "duration": 8857,
    "start_time": "2022-01-30T20:39:59.070Z"
   },
   {
    "duration": 999,
    "start_time": "2022-01-30T20:40:07.929Z"
   },
   {
    "duration": 46,
    "start_time": "2022-01-30T20:40:08.930Z"
   },
   {
    "duration": 8,
    "start_time": "2022-01-30T20:40:08.978Z"
   },
   {
    "duration": 183,
    "start_time": "2022-01-30T20:40:08.988Z"
   },
   {
    "duration": 10,
    "start_time": "2022-01-30T20:40:09.172Z"
   },
   {
    "duration": 5,
    "start_time": "2022-01-30T20:40:09.184Z"
   },
   {
    "duration": 74,
    "start_time": "2022-01-30T20:40:09.191Z"
   },
   {
    "duration": 573,
    "start_time": "2022-01-30T22:08:57.520Z"
   },
   {
    "duration": 311,
    "start_time": "2022-01-30T22:08:58.441Z"
   },
   {
    "duration": 318,
    "start_time": "2022-01-30T22:08:59.082Z"
   },
   {
    "duration": 1643,
    "start_time": "2022-01-30T22:09:05.430Z"
   },
   {
    "duration": 56,
    "start_time": "2022-01-30T22:09:07.076Z"
   },
   {
    "duration": 8,
    "start_time": "2022-01-30T22:09:07.135Z"
   },
   {
    "duration": 33,
    "start_time": "2022-01-30T22:09:07.146Z"
   },
   {
    "duration": 9,
    "start_time": "2022-01-30T22:09:51.736Z"
   },
   {
    "duration": 1738,
    "start_time": "2022-01-30T22:09:52.061Z"
   },
   {
    "duration": 3211,
    "start_time": "2022-01-30T22:10:20.835Z"
   },
   {
    "duration": 7,
    "start_time": "2022-01-30T22:11:03.398Z"
   },
   {
    "duration": 66,
    "start_time": "2022-01-30T22:11:58.914Z"
   },
   {
    "duration": 8,
    "start_time": "2022-01-30T22:12:27.096Z"
   },
   {
    "duration": 6,
    "start_time": "2022-01-30T22:12:27.739Z"
   },
   {
    "duration": 17,
    "start_time": "2022-01-30T22:12:30.245Z"
   },
   {
    "duration": 213625,
    "start_time": "2022-01-30T22:13:12.912Z"
   },
   {
    "duration": 456,
    "start_time": "2022-01-30T22:16:46.540Z"
   },
   {
    "duration": 1433,
    "start_time": "2022-01-30T22:16:45.566Z"
   },
   {
    "duration": 1425,
    "start_time": "2022-01-30T22:16:45.575Z"
   },
   {
    "duration": 4,
    "start_time": "2022-01-30T22:16:55.766Z"
   },
   {
    "duration": 14262,
    "start_time": "2022-01-30T22:16:58.509Z"
   },
   {
    "duration": 1242,
    "start_time": "2022-01-30T22:17:12.774Z"
   },
   {
    "duration": 51,
    "start_time": "2022-01-30T22:17:14.020Z"
   },
   {
    "duration": 63,
    "start_time": "2022-01-30T22:17:14.074Z"
   },
   {
    "duration": 194,
    "start_time": "2022-01-30T22:17:14.140Z"
   },
   {
    "duration": 16,
    "start_time": "2022-01-30T22:17:14.336Z"
   },
   {
    "duration": 19,
    "start_time": "2022-01-30T22:17:14.354Z"
   },
   {
    "duration": 20,
    "start_time": "2022-01-30T22:17:14.376Z"
   },
   {
    "duration": 1833,
    "start_time": "2022-01-31T11:13:10.230Z"
   },
   {
    "duration": 102,
    "start_time": "2022-01-31T11:13:12.065Z"
   },
   {
    "duration": 12,
    "start_time": "2022-01-31T11:13:12.171Z"
   },
   {
    "duration": 24,
    "start_time": "2022-01-31T11:13:12.186Z"
   },
   {
    "duration": 45,
    "start_time": "2022-01-31T11:13:12.213Z"
   },
   {
    "duration": 1709,
    "start_time": "2022-01-31T11:13:12.261Z"
   },
   {
    "duration": 2378,
    "start_time": "2022-01-31T11:13:13.972Z"
   },
   {
    "duration": 95,
    "start_time": "2022-01-31T11:13:16.354Z"
   },
   {
    "duration": 50,
    "start_time": "2022-01-31T11:13:16.453Z"
   },
   {
    "duration": 7,
    "start_time": "2022-01-31T11:13:16.505Z"
   },
   {
    "duration": 35,
    "start_time": "2022-01-31T11:13:16.514Z"
   },
   {
    "duration": 21,
    "start_time": "2022-01-31T11:13:16.551Z"
   },
   {
    "duration": 202414,
    "start_time": "2022-01-31T11:13:16.650Z"
   },
   {
    "duration": 3,
    "start_time": "2022-01-31T11:16:39.067Z"
   },
   {
    "duration": 15151,
    "start_time": "2022-01-31T11:16:39.073Z"
   },
   {
    "duration": 1746,
    "start_time": "2022-01-31T11:16:54.228Z"
   },
   {
    "duration": 72,
    "start_time": "2022-01-31T11:16:55.978Z"
   },
   {
    "duration": 15,
    "start_time": "2022-01-31T11:16:56.054Z"
   },
   {
    "duration": 126,
    "start_time": "2022-01-31T11:16:56.151Z"
   },
   {
    "duration": 78,
    "start_time": "2022-01-31T11:16:56.280Z"
   },
   {
    "duration": 12,
    "start_time": "2022-01-31T11:16:56.361Z"
   },
   {
    "duration": 15,
    "start_time": "2022-01-31T11:16:56.376Z"
   },
   {
    "duration": 6,
    "start_time": "2022-01-31T11:24:01.899Z"
   },
   {
    "duration": 22,
    "start_time": "2022-01-31T11:25:24.215Z"
   },
   {
    "duration": 6,
    "start_time": "2022-01-31T11:25:41.122Z"
   },
   {
    "duration": 20,
    "start_time": "2022-01-31T11:25:47.932Z"
   },
   {
    "duration": 6,
    "start_time": "2022-01-31T11:26:09.028Z"
   },
   {
    "duration": 55,
    "start_time": "2022-01-31T11:26:09.037Z"
   },
   {
    "duration": 5,
    "start_time": "2022-01-31T11:26:09.095Z"
   },
   {
    "duration": 21,
    "start_time": "2022-01-31T11:26:09.103Z"
   },
   {
    "duration": 11,
    "start_time": "2022-01-31T11:26:09.148Z"
   },
   {
    "duration": 1725,
    "start_time": "2022-01-31T11:26:09.161Z"
   },
   {
    "duration": 2961,
    "start_time": "2022-01-31T11:26:10.889Z"
   },
   {
    "duration": 92,
    "start_time": "2022-01-31T11:26:13.858Z"
   },
   {
    "duration": 28,
    "start_time": "2022-01-31T11:26:13.954Z"
   },
   {
    "duration": 7,
    "start_time": "2022-01-31T11:26:13.985Z"
   },
   {
    "duration": 10,
    "start_time": "2022-01-31T11:26:13.995Z"
   },
   {
    "duration": 46,
    "start_time": "2022-01-31T11:26:14.007Z"
   },
   {
    "duration": 144000,
    "start_time": "2022-01-31T11:26:14.055Z"
   },
   {
    "duration": 3,
    "start_time": "2022-01-31T11:28:38.058Z"
   },
   {
    "duration": 620,
    "start_time": "2022-01-31T11:28:38.064Z"
   },
   {
    "duration": -1881,
    "start_time": "2022-01-31T11:28:40.568Z"
   },
   {
    "duration": -1886,
    "start_time": "2022-01-31T11:28:40.574Z"
   },
   {
    "duration": -1886,
    "start_time": "2022-01-31T11:28:40.576Z"
   },
   {
    "duration": -1887,
    "start_time": "2022-01-31T11:28:40.578Z"
   },
   {
    "duration": -1887,
    "start_time": "2022-01-31T11:28:40.580Z"
   },
   {
    "duration": -1888,
    "start_time": "2022-01-31T11:28:40.582Z"
   },
   {
    "duration": -1889,
    "start_time": "2022-01-31T11:28:40.584Z"
   },
   {
    "duration": 4,
    "start_time": "2022-01-31T11:28:44.211Z"
   },
   {
    "duration": 10592,
    "start_time": "2022-01-31T11:28:47.763Z"
   },
   {
    "duration": 307,
    "start_time": "2022-01-31T11:29:01.113Z"
   },
   {
    "duration": 14,
    "start_time": "2022-01-31T11:29:12.877Z"
   },
   {
    "duration": 9,
    "start_time": "2022-01-31T11:29:16.801Z"
   },
   {
    "duration": 82,
    "start_time": "2022-01-31T11:29:17.269Z"
   },
   {
    "duration": 24,
    "start_time": "2022-01-31T11:29:17.748Z"
   },
   {
    "duration": 8,
    "start_time": "2022-01-31T11:29:18.239Z"
   },
   {
    "duration": 13,
    "start_time": "2022-01-31T11:29:20.570Z"
   },
   {
    "duration": 5,
    "start_time": "2022-01-31T11:33:37.576Z"
   },
   {
    "duration": 51,
    "start_time": "2022-01-31T11:33:37.583Z"
   },
   {
    "duration": 5,
    "start_time": "2022-01-31T11:33:37.637Z"
   },
   {
    "duration": 21,
    "start_time": "2022-01-31T11:33:37.645Z"
   },
   {
    "duration": 7,
    "start_time": "2022-01-31T11:33:37.668Z"
   },
   {
    "duration": 1926,
    "start_time": "2022-01-31T11:33:37.678Z"
   },
   {
    "duration": 2342,
    "start_time": "2022-01-31T11:33:39.608Z"
   },
   {
    "duration": 93,
    "start_time": "2022-01-31T11:33:41.956Z"
   },
   {
    "duration": 21,
    "start_time": "2022-01-31T11:33:42.053Z"
   },
   {
    "duration": 5,
    "start_time": "2022-01-31T11:33:42.077Z"
   },
   {
    "duration": 9,
    "start_time": "2022-01-31T11:33:42.085Z"
   },
   {
    "duration": 11,
    "start_time": "2022-01-31T11:33:42.096Z"
   },
   {
    "duration": 10849,
    "start_time": "2022-01-31T11:33:42.110Z"
   },
   {
    "duration": 13707,
    "start_time": "2022-01-31T11:33:52.962Z"
   },
   {
    "duration": 4,
    "start_time": "2022-01-31T11:34:06.671Z"
   },
   {
    "duration": 121235,
    "start_time": "2022-01-31T11:34:06.677Z"
   },
   {
    "duration": 289,
    "start_time": "2022-01-31T11:36:07.914Z"
   },
   {
    "duration": 16,
    "start_time": "2022-01-31T11:36:08.206Z"
   },
   {
    "duration": 28,
    "start_time": "2022-01-31T11:36:08.224Z"
   },
   {
    "duration": 15,
    "start_time": "2022-01-31T11:36:08.254Z"
   },
   {
    "duration": 22,
    "start_time": "2022-01-31T11:36:08.271Z"
   },
   {
    "duration": 57,
    "start_time": "2022-01-31T11:36:08.295Z"
   },
   {
    "duration": 13,
    "start_time": "2022-01-31T11:36:08.356Z"
   },
   {
    "duration": 8278,
    "start_time": "2022-01-31T11:36:08.372Z"
   },
   {
    "duration": 8309,
    "start_time": "2022-01-31T11:42:30.148Z"
   },
   {
    "duration": 5,
    "start_time": "2022-01-31T11:54:07.403Z"
   },
   {
    "duration": 54,
    "start_time": "2022-01-31T11:54:07.411Z"
   },
   {
    "duration": 5,
    "start_time": "2022-01-31T11:54:07.469Z"
   },
   {
    "duration": 27,
    "start_time": "2022-01-31T11:54:07.478Z"
   },
   {
    "duration": 45,
    "start_time": "2022-01-31T11:54:07.508Z"
   },
   {
    "duration": 1817,
    "start_time": "2022-01-31T11:54:07.556Z"
   },
   {
    "duration": 2575,
    "start_time": "2022-01-31T11:54:09.375Z"
   },
   {
    "duration": 96,
    "start_time": "2022-01-31T11:54:11.954Z"
   },
   {
    "duration": 26,
    "start_time": "2022-01-31T11:54:12.056Z"
   },
   {
    "duration": 6,
    "start_time": "2022-01-31T11:54:12.086Z"
   },
   {
    "duration": 30,
    "start_time": "2022-01-31T11:54:12.095Z"
   },
   {
    "duration": 29,
    "start_time": "2022-01-31T11:54:12.128Z"
   },
   {
    "duration": 799,
    "start_time": "2022-01-31T11:54:12.161Z"
   },
   {
    "duration": 4,
    "start_time": "2022-01-31T11:54:12.962Z"
   },
   {
    "duration": 7475,
    "start_time": "2022-01-31T11:54:13.050Z"
   },
   {
    "duration": 268,
    "start_time": "2022-01-31T11:54:20.527Z"
   },
   {
    "duration": 15,
    "start_time": "2022-01-31T11:54:20.798Z"
   },
   {
    "duration": 8,
    "start_time": "2022-01-31T11:54:20.815Z"
   },
   {
    "duration": 17,
    "start_time": "2022-01-31T11:54:20.849Z"
   },
   {
    "duration": 82,
    "start_time": "2022-01-31T11:54:20.868Z"
   },
   {
    "duration": 9,
    "start_time": "2022-01-31T11:54:20.952Z"
   },
   {
    "duration": 24,
    "start_time": "2022-01-31T11:54:20.964Z"
   },
   {
    "duration": 11,
    "start_time": "2022-01-31T11:58:29.257Z"
   },
   {
    "duration": 61326,
    "start_time": "2022-01-31T12:07:36.287Z"
   },
   {
    "duration": 230,
    "start_time": "2022-01-31T12:14:22.596Z"
   },
   {
    "duration": 292,
    "start_time": "2022-01-31T12:14:37.103Z"
   },
   {
    "duration": 571,
    "start_time": "2022-01-31T12:19:52.801Z"
   },
   {
    "duration": 54,
    "start_time": "2022-01-31T12:20:18.234Z"
   },
   {
    "duration": 51,
    "start_time": "2022-01-31T12:22:27.657Z"
   },
   {
    "duration": 285,
    "start_time": "2022-01-31T12:22:43.983Z"
   },
   {
    "duration": 49,
    "start_time": "2022-01-31T12:23:08.856Z"
   },
   {
    "duration": 239,
    "start_time": "2022-01-31T12:23:22.718Z"
   },
   {
    "duration": 262,
    "start_time": "2022-01-31T12:24:19.283Z"
   },
   {
    "duration": 261,
    "start_time": "2022-01-31T12:24:52.844Z"
   },
   {
    "duration": 11,
    "start_time": "2022-01-31T12:25:12.544Z"
   },
   {
    "duration": 318,
    "start_time": "2022-01-31T12:29:58.675Z"
   },
   {
    "duration": 257,
    "start_time": "2022-01-31T12:30:43.875Z"
   },
   {
    "duration": 322,
    "start_time": "2022-01-31T12:31:01.112Z"
   },
   {
    "duration": 238,
    "start_time": "2022-01-31T12:31:51.693Z"
   },
   {
    "duration": 360,
    "start_time": "2022-01-31T12:31:56.599Z"
   },
   {
    "duration": 5,
    "start_time": "2022-01-31T12:32:14.667Z"
   },
   {
    "duration": 240,
    "start_time": "2022-01-31T12:33:13.016Z"
   },
   {
    "duration": 504,
    "start_time": "2022-01-31T12:33:39.320Z"
   },
   {
    "duration": 93,
    "start_time": "2022-01-31T12:33:57.041Z"
   },
   {
    "duration": 323,
    "start_time": "2022-01-31T12:37:10.415Z"
   },
   {
    "duration": 515,
    "start_time": "2022-01-31T12:37:26.469Z"
   },
   {
    "duration": 9,
    "start_time": "2022-01-31T12:37:52.899Z"
   },
   {
    "duration": 136,
    "start_time": "2022-01-31T12:39:17.637Z"
   },
   {
    "duration": 9,
    "start_time": "2022-01-31T12:39:24.263Z"
   },
   {
    "duration": 9,
    "start_time": "2022-01-31T12:39:44.946Z"
   },
   {
    "duration": 9,
    "start_time": "2022-01-31T12:40:01.867Z"
   },
   {
    "duration": 13,
    "start_time": "2022-01-31T12:42:23.537Z"
   },
   {
    "duration": 467,
    "start_time": "2022-01-31T12:43:09.456Z"
   },
   {
    "duration": 21,
    "start_time": "2022-01-31T12:43:44.806Z"
   },
   {
    "duration": 483,
    "start_time": "2022-01-31T12:46:16.971Z"
   },
   {
    "duration": 17,
    "start_time": "2022-01-31T12:46:22.681Z"
   },
   {
    "duration": 487,
    "start_time": "2022-01-31T12:46:23.784Z"
   },
   {
    "duration": 20,
    "start_time": "2022-01-31T12:46:54.180Z"
   },
   {
    "duration": 480,
    "start_time": "2022-01-31T12:46:54.989Z"
   },
   {
    "duration": 304,
    "start_time": "2022-01-31T12:53:56.192Z"
   },
   {
    "duration": 359,
    "start_time": "2022-01-31T12:54:22.496Z"
   },
   {
    "duration": 16,
    "start_time": "2022-01-31T12:55:03.615Z"
   },
   {
    "duration": 471,
    "start_time": "2022-01-31T12:55:07.456Z"
   },
   {
    "duration": 20,
    "start_time": "2022-01-31T12:56:45.082Z"
   },
   {
    "duration": 466,
    "start_time": "2022-01-31T12:56:47.714Z"
   },
   {
    "duration": 24,
    "start_time": "2022-01-31T12:57:17.326Z"
   },
   {
    "duration": 622,
    "start_time": "2022-01-31T12:57:18.310Z"
   },
   {
    "duration": 6,
    "start_time": "2022-01-31T13:04:36.056Z"
   },
   {
    "duration": 67,
    "start_time": "2022-01-31T13:04:36.065Z"
   },
   {
    "duration": 5,
    "start_time": "2022-01-31T13:04:36.135Z"
   },
   {
    "duration": 23,
    "start_time": "2022-01-31T13:04:36.143Z"
   },
   {
    "duration": 8,
    "start_time": "2022-01-31T13:04:36.169Z"
   },
   {
    "duration": 1813,
    "start_time": "2022-01-31T13:04:36.180Z"
   },
   {
    "duration": 3054,
    "start_time": "2022-01-31T13:04:37.996Z"
   },
   {
    "duration": 97,
    "start_time": "2022-01-31T13:04:41.054Z"
   },
   {
    "duration": 23,
    "start_time": "2022-01-31T13:04:41.155Z"
   },
   {
    "duration": 7,
    "start_time": "2022-01-31T13:04:41.180Z"
   },
   {
    "duration": 7,
    "start_time": "2022-01-31T13:04:41.189Z"
   },
   {
    "duration": 12,
    "start_time": "2022-01-31T13:04:41.199Z"
   },
   {
    "duration": 704,
    "start_time": "2022-01-31T13:04:41.249Z"
   },
   {
    "duration": 3,
    "start_time": "2022-01-31T13:04:41.956Z"
   },
   {
    "duration": 8971,
    "start_time": "2022-01-31T13:04:41.962Z"
   },
   {
    "duration": 273,
    "start_time": "2022-01-31T13:04:50.936Z"
   },
   {
    "duration": 15,
    "start_time": "2022-01-31T13:04:51.212Z"
   },
   {
    "duration": 23,
    "start_time": "2022-01-31T13:04:51.229Z"
   },
   {
    "duration": 16,
    "start_time": "2022-01-31T13:04:51.254Z"
   },
   {
    "duration": 13,
    "start_time": "2022-01-31T13:04:51.273Z"
   },
   {
    "duration": 9,
    "start_time": "2022-01-31T13:04:51.349Z"
   },
   {
    "duration": 22,
    "start_time": "2022-01-31T13:04:51.360Z"
   },
   {
    "duration": 68,
    "start_time": "2022-01-31T13:04:51.384Z"
   },
   {
    "duration": 532,
    "start_time": "2022-01-31T13:04:51.455Z"
   },
   {
    "duration": 6,
    "start_time": "2022-01-31T13:05:44.824Z"
   },
   {
    "duration": 54,
    "start_time": "2022-01-31T13:05:44.833Z"
   },
   {
    "duration": 5,
    "start_time": "2022-01-31T13:05:44.891Z"
   },
   {
    "duration": 55,
    "start_time": "2022-01-31T13:05:44.900Z"
   },
   {
    "duration": 9,
    "start_time": "2022-01-31T13:05:44.958Z"
   },
   {
    "duration": 1842,
    "start_time": "2022-01-31T13:05:44.969Z"
   },
   {
    "duration": 3636,
    "start_time": "2022-01-31T13:05:46.814Z"
   },
   {
    "duration": 92,
    "start_time": "2022-01-31T13:05:50.457Z"
   },
   {
    "duration": 35,
    "start_time": "2022-01-31T13:05:50.553Z"
   },
   {
    "duration": 5,
    "start_time": "2022-01-31T13:05:50.591Z"
   },
   {
    "duration": 14,
    "start_time": "2022-01-31T13:05:50.599Z"
   },
   {
    "duration": 13,
    "start_time": "2022-01-31T13:05:50.616Z"
   },
   {
    "duration": 723,
    "start_time": "2022-01-31T13:05:50.631Z"
   },
   {
    "duration": 4,
    "start_time": "2022-01-31T13:05:51.356Z"
   },
   {
    "duration": 7267,
    "start_time": "2022-01-31T13:05:51.362Z"
   },
   {
    "duration": 274,
    "start_time": "2022-01-31T13:05:58.631Z"
   },
   {
    "duration": 15,
    "start_time": "2022-01-31T13:05:58.907Z"
   },
   {
    "duration": 28,
    "start_time": "2022-01-31T13:05:58.925Z"
   },
   {
    "duration": 17,
    "start_time": "2022-01-31T13:05:58.956Z"
   },
   {
    "duration": 11,
    "start_time": "2022-01-31T13:05:58.976Z"
   },
   {
    "duration": 8,
    "start_time": "2022-01-31T13:05:59.050Z"
   },
   {
    "duration": 17,
    "start_time": "2022-01-31T13:05:59.061Z"
   },
   {
    "duration": 16,
    "start_time": "2022-01-31T13:05:59.082Z"
   },
   {
    "duration": 534,
    "start_time": "2022-01-31T13:05:59.101Z"
   },
   {
    "duration": 1319,
    "start_time": "2022-02-20T09:23:37.362Z"
   },
   {
    "duration": 43,
    "start_time": "2022-02-20T09:23:38.683Z"
   },
   {
    "duration": 6,
    "start_time": "2022-02-20T09:23:38.728Z"
   },
   {
    "duration": 23,
    "start_time": "2022-02-20T09:23:38.736Z"
   },
   {
    "duration": 12,
    "start_time": "2022-02-20T09:23:38.761Z"
   },
   {
    "duration": 1243,
    "start_time": "2022-02-20T09:23:38.775Z"
   },
   {
    "duration": 2154,
    "start_time": "2022-02-20T09:23:40.021Z"
   },
   {
    "duration": 91,
    "start_time": "2022-02-20T09:23:42.179Z"
   },
   {
    "duration": 104,
    "start_time": "2022-02-20T09:23:42.274Z"
   },
   {
    "duration": 5,
    "start_time": "2022-02-20T09:23:42.380Z"
   },
   {
    "duration": 8,
    "start_time": "2022-02-20T09:23:42.387Z"
   },
   {
    "duration": 8,
    "start_time": "2022-02-20T09:23:42.397Z"
   },
   {
    "duration": 568,
    "start_time": "2022-02-20T09:23:42.407Z"
   },
   {
    "duration": 2,
    "start_time": "2022-02-20T09:23:42.977Z"
   },
   {
    "duration": 5726,
    "start_time": "2022-02-20T09:23:42.981Z"
   },
   {
    "duration": 238,
    "start_time": "2022-02-20T09:23:48.709Z"
   },
   {
    "duration": 20,
    "start_time": "2022-02-20T09:23:48.949Z"
   },
   {
    "duration": 6,
    "start_time": "2022-02-20T09:23:48.971Z"
   },
   {
    "duration": 18,
    "start_time": "2022-02-20T09:23:48.979Z"
   },
   {
    "duration": 9,
    "start_time": "2022-02-20T09:23:48.999Z"
   },
   {
    "duration": 62,
    "start_time": "2022-02-20T09:23:49.010Z"
   },
   {
    "duration": 8,
    "start_time": "2022-02-20T09:23:49.074Z"
   },
   {
    "duration": 15,
    "start_time": "2022-02-20T09:23:49.085Z"
   },
   {
    "duration": 403,
    "start_time": "2022-02-20T09:23:49.102Z"
   }
  ],
  "kernelspec": {
   "display_name": "Python 3",
   "language": "python",
   "name": "python3"
  },
  "language_info": {
   "codemirror_mode": {
    "name": "ipython",
    "version": 3
   },
   "file_extension": ".py",
   "mimetype": "text/x-python",
   "name": "python",
   "nbconvert_exporter": "python",
   "pygments_lexer": "ipython3",
   "version": "3.7.8"
  },
  "toc": {
   "base_numbering": 1,
   "nav_menu": {},
   "number_sections": true,
   "sideBar": false,
   "skip_h1_title": true,
   "title_cell": "Содержание",
   "title_sidebar": "Contents",
   "toc_cell": true,
   "toc_position": {
    "height": "calc(100% - 180px)",
    "left": "10px",
    "top": "150px",
    "width": "165px"
   },
   "toc_section_display": true,
   "toc_window_display": false
  }
 },
 "nbformat": 4,
 "nbformat_minor": 2
}
